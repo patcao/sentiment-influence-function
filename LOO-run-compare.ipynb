{
 "cells": [
  {
   "cell_type": "code",
   "execution_count": 1,
   "id": "76c761fb-f852-4b2f-9b42-8821fd108d93",
   "metadata": {
    "execution": {
     "iopub.execute_input": "2023-05-10T05:26:21.433655Z",
     "iopub.status.busy": "2023-05-10T05:26:21.433390Z",
     "iopub.status.idle": "2023-05-10T05:26:21.446323Z",
     "shell.execute_reply": "2023-05-10T05:26:21.445705Z",
     "shell.execute_reply.started": "2023-05-10T05:26:21.433641Z"
    },
    "tags": []
   },
   "outputs": [],
   "source": [
    "%load_ext autoreload\n",
    "%autoreload 2\n",
    "\n",
    "import os\n",
    "\n",
    "os.environ[\"WANDB_SILENT\"] = \"true\""
   ]
  },
  {
   "cell_type": "code",
   "execution_count": 2,
   "id": "c9b62877-27b1-485a-bae2-f2700f4ba22e",
   "metadata": {
    "execution": {
     "iopub.execute_input": "2023-05-10T05:26:21.993674Z",
     "iopub.status.busy": "2023-05-10T05:26:21.993228Z",
     "iopub.status.idle": "2023-05-10T05:26:23.661686Z",
     "shell.execute_reply": "2023-05-10T05:26:23.661023Z",
     "shell.execute_reply.started": "2023-05-10T05:26:21.993659Z"
    },
    "tags": []
   },
   "outputs": [],
   "source": [
    "import argparse\n",
    "import copy\n",
    "import json\n",
    "import os\n",
    "import statistics\n",
    "from pathlib import Path\n",
    "\n",
    "import numpy as np\n",
    "import pandas as pd\n",
    "import src.influence as inf_utils\n",
    "import torch\n",
    "import yaml\n",
    "from src import BertClassifier\n",
    "from src import datasets as data_utils\n",
    "from src import influence, train_utils, utils\n",
    "from src.datasets import create_loo_dataset, create_test_sst2, create_train_sst2\n",
    "from torch.optim import Adam\n",
    "from torch.utils.data import DataLoader, Dataset, TensorDataset\n",
    "from tqdm import tqdm\n",
    "from transformers import AutoModel, AutoTokenizer\n",
    "\n",
    "import wandb\n",
    "\n",
    "device = utils.get_device()"
   ]
  },
  {
   "cell_type": "markdown",
   "id": "e74f8b04-fa03-424e-96a1-c1585e419e74",
   "metadata": {
    "tags": []
   },
   "source": [
    "## Original Model"
   ]
  },
  {
   "cell_type": "code",
   "execution_count": 5,
   "id": "44aa340b-1525-4fed-bc58-ec87dc3b3173",
   "metadata": {
    "execution": {
     "iopub.execute_input": "2023-05-10T04:44:34.735734Z",
     "iopub.status.busy": "2023-05-10T04:44:34.735510Z",
     "iopub.status.idle": "2023-05-10T04:44:43.168578Z",
     "shell.execute_reply": "2023-05-10T04:44:43.167885Z",
     "shell.execute_reply.started": "2023-05-10T04:44:34.735720Z"
    },
    "tags": []
   },
   "outputs": [
    {
     "name": "stderr",
     "output_type": "stream",
     "text": [
      "Some weights of the model checkpoint at distilbert-base-uncased were not used when initializing DistilBertModel: ['vocab_projector.bias', 'vocab_layer_norm.bias', 'vocab_layer_norm.weight', 'vocab_projector.weight', 'vocab_transform.bias', 'vocab_transform.weight']\n",
      "- This IS expected if you are initializing DistilBertModel from the checkpoint of a model trained on another task or with another architecture (e.g. initializing a BertForSequenceClassification model from a BertForPreTraining model).\n",
      "- This IS NOT expected if you are initializing DistilBertModel from the checkpoint of a model that you expect to be exactly identical (initializing a BertForSequenceClassification model from a BertForSequenceClassification model).\n",
      "100%|████████████████████████████████████████████████████████████████████████████████████████████| 10000/10000 [00:00<00:00, 13267.35it/s]\n",
      "100%|█████████████████████████████████████████████████████████████████████████████████████████████████| 872/872 [00:00<00:00, 9996.51it/s]\n"
     ]
    },
    {
     "name": "stdout",
     "output_type": "stream",
     "text": [
      "(0.39863892992381156, 83.14220183486239)\n"
     ]
    },
    {
     "data": {
      "text/plain": [
       "{'batch_size': 32,\n",
       " 'bert_model_name': 'distilbert-base-uncased',\n",
       " 'classifier_drop_out': 0,\n",
       " 'classifier_hidden_size': 0,\n",
       " 'classifier_init_state_path': 'model_params/bert-epoch9-reg0.001-10000.pt',\n",
       " 'classifier_type': 'single-fc',\n",
       " 'epochs': 9,\n",
       " 'learning_rate': 0.0002,\n",
       " 'max_sequence_length': 64,\n",
       " 'num_training_examples': 10000,\n",
       " 'optimizer_weight_decay': 0.001}"
      ]
     },
     "execution_count": 5,
     "metadata": {},
     "output_type": "execute_result"
    }
   ],
   "source": [
    "TRAIN_MODEL = False\n",
    "\n",
    "if TRAIN_MODEL:\n",
    "    # Load config\n",
    "    config = utils.load_config(\n",
    "        \"results_10k_l2/bert-classifier-epoch5-10000-l2.yaml\",\n",
    "        classifier_init_state_path=\"model_params/init_classifier_params.pt\",\n",
    "        epochs=20,\n",
    "        num_training_examples=10000,\n",
    "        optimizer_weight_decay=0.001,\n",
    "    )\n",
    "\n",
    "    # Create datasets\n",
    "    train_dataset = create_train_sst2(\n",
    "        num_samples=config[\"num_training_examples\"],\n",
    "        tokenizer_name=config[\"bert_model_name\"],\n",
    "        max_seq_len=config[\"max_sequence_length\"],\n",
    "        device=device,\n",
    "    )\n",
    "\n",
    "    test_dataset = create_test_sst2(\n",
    "        tokenizer_name=config[\"bert_model_name\"],\n",
    "        max_seq_len=config[\"max_sequence_length\"],\n",
    "        device=device,\n",
    "    )\n",
    "    test_dataloader = DataLoader(test_dataset, shuffle=False, batch_size=1)\n",
    "\n",
    "    # Train model\n",
    "    og_model, fdf, test_loss, test_acc = train_utils.train_bert_model(\n",
    "        train_dataset, test_dataset, config\n",
    "    )\n",
    "else:\n",
    "    # Load model and config\n",
    "    og_model, config = BertClassifier.load_model(\n",
    "        \"model_params/bert-best.yaml\"\n",
    "    )\n",
    "\n",
    "    # Create datasets\n",
    "    train_dataset = create_train_sst2(\n",
    "        num_samples=config[\"num_training_examples\"],\n",
    "        tokenizer_name=config[\"bert_model_name\"],\n",
    "        max_seq_len=config[\"max_sequence_length\"],\n",
    "        device=device,\n",
    "    )\n",
    "\n",
    "    test_dataset = create_test_sst2(\n",
    "        tokenizer_name=config[\"bert_model_name\"],\n",
    "        max_seq_len=config[\"max_sequence_length\"],\n",
    "        device=device,\n",
    "    )\n",
    "    test_dataloader = DataLoader(test_dataset, shuffle=False, batch_size=1)\n",
    "\n",
    "    # Get test loss\n",
    "    fdf, test_loss, test_acc = train_utils.evaluate_loss(og_model, test_dataloader)\n",
    "\n",
    "print((test_loss, test_acc))\n",
    "config"
   ]
  },
  {
   "cell_type": "code",
   "execution_count": 6,
   "id": "2ab5b4b2-8892-4a98-b36c-b863c0bcdfaf",
   "metadata": {
    "execution": {
     "iopub.execute_input": "2023-05-10T04:44:43.169848Z",
     "iopub.status.busy": "2023-05-10T04:44:43.169683Z",
     "iopub.status.idle": "2023-05-10T04:44:43.197611Z",
     "shell.execute_reply": "2023-05-10T04:44:43.196939Z",
     "shell.execute_reply.started": "2023-05-10T04:44:43.169834Z"
    },
    "tags": []
   },
   "outputs": [
    {
     "data": {
      "text/html": [
       "<div>\n",
       "<style scoped>\n",
       "    .dataframe tbody tr th:only-of-type {\n",
       "        vertical-align: middle;\n",
       "    }\n",
       "\n",
       "    .dataframe tbody tr th {\n",
       "        vertical-align: top;\n",
       "    }\n",
       "\n",
       "    .dataframe thead th {\n",
       "        text-align: right;\n",
       "    }\n",
       "</style>\n",
       "<table border=\"1\" class=\"dataframe\">\n",
       "  <thead>\n",
       "    <tr style=\"text-align: right;\">\n",
       "      <th></th>\n",
       "      <th>test_guid</th>\n",
       "      <th>logits</th>\n",
       "      <th>pred</th>\n",
       "      <th>label</th>\n",
       "      <th>loss</th>\n",
       "    </tr>\n",
       "  </thead>\n",
       "  <tbody>\n",
       "    <tr>\n",
       "      <th>862</th>\n",
       "      <td>862</td>\n",
       "      <td>[-2.1770434, 2.074576]</td>\n",
       "      <td>1</td>\n",
       "      <td>0</td>\n",
       "      <td>4.265760</td>\n",
       "    </tr>\n",
       "    <tr>\n",
       "      <th>218</th>\n",
       "      <td>218</td>\n",
       "      <td>[-2.1095824, 1.6889799]</td>\n",
       "      <td>1</td>\n",
       "      <td>0</td>\n",
       "      <td>3.820718</td>\n",
       "    </tr>\n",
       "    <tr>\n",
       "      <th>544</th>\n",
       "      <td>544</td>\n",
       "      <td>[-2.088636, 1.667077]</td>\n",
       "      <td>1</td>\n",
       "      <td>0</td>\n",
       "      <td>3.778827</td>\n",
       "    </tr>\n",
       "    <tr>\n",
       "      <th>528</th>\n",
       "      <td>528</td>\n",
       "      <td>[1.3089001, -1.6915847]</td>\n",
       "      <td>0</td>\n",
       "      <td>1</td>\n",
       "      <td>3.049049</td>\n",
       "    </tr>\n",
       "    <tr>\n",
       "      <th>494</th>\n",
       "      <td>494</td>\n",
       "      <td>[-1.5574929, 1.2966905]</td>\n",
       "      <td>1</td>\n",
       "      <td>0</td>\n",
       "      <td>2.910188</td>\n",
       "    </tr>\n",
       "  </tbody>\n",
       "</table>\n",
       "</div>"
      ],
      "text/plain": [
       "     test_guid                   logits  pred  label      loss\n",
       "862        862   [-2.1770434, 2.074576]     1      0  4.265760\n",
       "218        218  [-2.1095824, 1.6889799]     1      0  3.820718\n",
       "544        544    [-2.088636, 1.667077]     1      0  3.778827\n",
       "528        528  [1.3089001, -1.6915847]     0      1  3.049049\n",
       "494        494  [-1.5574929, 1.2966905]     1      0  2.910188"
      ]
     },
     "execution_count": 6,
     "metadata": {},
     "output_type": "execute_result"
    }
   ],
   "source": [
    "# correct_fdf = fdf[fdf.pred == fdf.label]\n",
    "# correct_fdf.sort_values(\"loss\", ascending=False).iloc[:5]\n",
    "\n",
    "fdf.sort_values(\"loss\", ascending=False).iloc[:5]"
   ]
  },
  {
   "cell_type": "markdown",
   "id": "19cca28c-b19d-4cde-893d-887da842bc28",
   "metadata": {
    "tags": []
   },
   "source": [
    "## Choose LOO points based on influence"
   ]
  },
  {
   "cell_type": "code",
   "execution_count": 7,
   "id": "33a98ba1-c67c-4661-8b7d-89a913a73448",
   "metadata": {
    "execution": {
     "iopub.execute_input": "2023-05-10T04:44:43.198408Z",
     "iopub.status.busy": "2023-05-10T04:44:43.198249Z",
     "iopub.status.idle": "2023-05-10T04:44:43.226469Z",
     "shell.execute_reply": "2023-05-10T04:44:43.225760Z",
     "shell.execute_reply.started": "2023-05-10T04:44:43.198393Z"
    },
    "tags": []
   },
   "outputs": [],
   "source": [
    "def create_infl_df(infl, test_guid):\n",
    "    idf = pd.DataFrame(data=infl, index=range(len(infl)), columns=[\"influence\"])\n",
    "    idf = idf.rename_axis(\"train_guid\").reset_index()\n",
    "    idf[\"test_guid\"] = TEST_GUID\n",
    "    return idf"
   ]
  },
  {
   "cell_type": "code",
   "execution_count": 11,
   "id": "ca428991-0d45-4a12-ba67-0c23e47397cf",
   "metadata": {
    "execution": {
     "iopub.execute_input": "2023-05-10T04:48:02.810942Z",
     "iopub.status.busy": "2023-05-10T04:48:02.810347Z",
     "iopub.status.idle": "2023-05-10T04:52:01.881541Z",
     "shell.execute_reply": "2023-05-10T04:52:01.880881Z",
     "shell.execute_reply.started": "2023-05-10T04:48:02.810925Z"
    },
    "tags": []
   },
   "outputs": [
    {
     "name": "stdout",
     "output_type": "stream",
     "text": [
      "LiSSA reps: 1 and num_iterations: 3000\n",
      "Recursion at depth 0: norm is 27.419552\n",
      "Recursion at depth 100: norm is 322.938171\n",
      "Recursion at depth 200: norm is 497.823730\n",
      "Recursion at depth 300: norm is 599.487610\n",
      "Recursion at depth 400: norm is 660.190430\n",
      "Recursion at depth 500: norm is 692.897583\n",
      "Recursion at depth 600: norm is 713.361572\n",
      "Recursion at depth 700: norm is 726.410034\n",
      "Recursion at depth 800: norm is 735.458191\n",
      "Recursion at depth 900: norm is 734.840942\n",
      "Recursion at depth 1000: norm is 738.897339\n",
      "Recursion at depth 1100: norm is 741.861816\n",
      "Recursion at depth 1200: norm is 739.710815\n",
      "Recursion at depth 1300: norm is 744.033020\n",
      "Recursion at depth 1400: norm is 741.179443\n",
      "Recursion at depth 1500: norm is 740.934937\n",
      "Recursion at depth 1600: norm is 742.060303\n",
      "Recursion at depth 1700: norm is 741.638550\n",
      "Recursion at depth 1800: norm is 742.860291\n",
      "Recursion at depth 1900: norm is 742.075439\n",
      "Recursion at depth 2000: norm is 743.533936\n",
      "Recursion at depth 2100: norm is 746.607971\n",
      "Recursion at depth 2200: norm is 741.810120\n",
      "Recursion at depth 2300: norm is 741.291199\n",
      "Recursion at depth 2400: norm is 741.510864\n",
      "Recursion at depth 2500: norm is 743.427124\n",
      "Recursion at depth 2600: norm is 744.012573\n",
      "Recursion at depth 2700: norm is 742.240234\n",
      "Recursion at depth 2800: norm is 742.017700\n",
      "Recursion at depth 2900: norm is 743.523438\n",
      "Recursion at depth 2999: norm is 744.641785\n"
     ]
    },
    {
     "name": "stderr",
     "output_type": "stream",
     "text": [
      "100%|██████████████████████████████████████████████████████████████████████████████████████████████| 10000/10000 [01:04<00:00, 154.24it/s]\n"
     ]
    }
   ],
   "source": [
    "from src import influence\n",
    "\n",
    "# TEST_GUID = 334\n",
    "# TEST_GUID = 315\n",
    "\n",
    "# Good results\n",
    "# TEST_GUID = 862\n",
    "\n",
    "TEST_GUID = 218\n",
    "DAMPING_TERM = 5e-3\n",
    "LISSA_DEPTH = 0.2\n",
    "COMPUTE_INFLUENCE = True\n",
    "\n",
    "\n",
    "if COMPUTE_INFLUENCE:\n",
    "    param_infl = list(og_model.classifier.parameters())\n",
    "    infl = influence.compute_influence(\n",
    "        full_model=og_model,\n",
    "        test_guid=TEST_GUID,\n",
    "        param_influence=param_infl,\n",
    "        train_dataset=train_dataset,\n",
    "        test_dataset=test_dataset,\n",
    "        lissa_r=1,\n",
    "        lissa_depth=LISSA_DEPTH,\n",
    "        damping=DAMPING_TERM,\n",
    "        scale=100,\n",
    "    )\n",
    "    idf = create_infl_df(infl, TEST_GUID)\n",
    "else:\n",
    "    idf = pd.read_csv(f\"results_10k_reg001/influence/influence-testguid-{TEST_GUID}.csv\")"
   ]
  },
  {
   "cell_type": "code",
   "execution_count": 12,
   "id": "2c7d4e20-d80a-4c6c-8bd3-325ba6e8d661",
   "metadata": {
    "execution": {
     "iopub.execute_input": "2023-05-10T04:52:01.882861Z",
     "iopub.status.busy": "2023-05-10T04:52:01.882503Z",
     "iopub.status.idle": "2023-05-10T04:52:02.083237Z",
     "shell.execute_reply": "2023-05-10T04:52:02.082539Z",
     "shell.execute_reply.started": "2023-05-10T04:52:01.882845Z"
    },
    "tags": []
   },
   "outputs": [
    {
     "data": {
      "text/plain": [
       "<Axes: >"
      ]
     },
     "execution_count": 12,
     "metadata": {},
     "output_type": "execute_result"
    },
    {
     "data": {
      "image/png": "[encoded data removed]",
      "text/plain": [
       "<Figure size 640x480 with 1 Axes>"
      ]
     },
     "metadata": {},
     "output_type": "display_data"
    }
   ],
   "source": [
    "# idf['if'] = (-100.0 / 10000) * idf['influence']\n",
    "# idf['if'].hist(bins=50)"
   ]
  },
  {
   "cell_type": "code",
   "execution_count": 13,
   "id": "de954af6-935f-416d-83fd-5447afa71ae7",
   "metadata": {
    "execution": {
     "iopub.execute_input": "2023-05-10T00:58:43.807460Z",
     "iopub.status.busy": "2023-05-10T00:58:43.806919Z",
     "iopub.status.idle": "2023-05-10T00:58:43.855060Z",
     "shell.execute_reply": "2023-05-10T00:58:43.854438Z",
     "shell.execute_reply.started": "2023-05-10T00:58:43.807446Z"
    },
    "tags": []
   },
   "outputs": [],
   "source": [
    "idf.to_csv('idf-218.csv')"
   ]
  },
  {
   "cell_type": "code",
   "execution_count": null,
   "id": "b54ca30a-00f4-47b2-8ead-a0ca8d6c9382",
   "metadata": {},
   "outputs": [],
   "source": []
  },
  {
   "cell_type": "markdown",
   "id": "9d0b2f24-94d7-4be2-b45d-98dac653be50",
   "metadata": {
    "tags": []
   },
   "source": [
    "## Train LOO Models"
   ]
  },
  {
   "cell_type": "code",
   "execution_count": 18,
   "id": "7ff722ae-f947-4487-9d47-41e00f9dd805",
   "metadata": {
    "execution": {
     "iopub.execute_input": "2023-05-10T04:54:42.803031Z",
     "iopub.status.busy": "2023-05-10T04:54:42.802818Z",
     "iopub.status.idle": "2023-05-10T04:54:42.824025Z",
     "shell.execute_reply": "2023-05-10T04:54:42.823299Z",
     "shell.execute_reply.started": "2023-05-10T04:54:42.803016Z"
    },
    "tags": []
   },
   "outputs": [],
   "source": [
    "def train_loo_models(\n",
    "    full_train_dataset,\n",
    "    test_dataset,\n",
    "    guids,\n",
    "    retrain_epochs=3,\n",
    "    train_from_new=True,\n",
    "    full_model=None,\n",
    "):\n",
    "    loo_losses = []\n",
    "    \n",
    "    loo_model, retrain_config = BertClassifier.load_model(\n",
    "            \"model_params/bert-best.yaml\"\n",
    "        )\n",
    "    retrain_config.update(epochs=retrain_epochs)\n",
    "    print(json.dumps(retrain_config, indent=4))        \n",
    "        \n",
    "    for loo_guid in guids:\n",
    "        loo_model, retrain_config = BertClassifier.load_model(\n",
    "            \"model_params/bert-best.yaml\"\n",
    "        )\n",
    "        retrain_config.update(epochs=retrain_epochs)\n",
    "        \n",
    "        loo_dataset = create_loo_dataset(full_train_dataset, loo_guid)\n",
    "        loo_dataloader = DataLoader(\n",
    "            loo_dataset, batch_size=retrain_config[\"batch_size\"], shuffle=True\n",
    "        )\n",
    "        test_dataloader = DataLoader(test_dataset, shuffle=False, batch_size=1)\n",
    "\n",
    "        # if train_from_new:\n",
    "        #     # Create Bert model\n",
    "        #     loo_model = BertClassifier.create_bert_classifier(\n",
    "        #         config[\"bert_model_name\"],\n",
    "        #         classifier_type=config[\"classifier_type\"],\n",
    "        #         classifier_hidden_size=config[\"classifier_hidden_size\"],\n",
    "        #         classifier_drop_out=config[\"classifier_drop_out\"],\n",
    "        #         classifier_init_state_path=config[\"classifier_init_state_path\"],\n",
    "        #         freeze_bert=True,\n",
    "        #     )\n",
    "        # else:\n",
    "        #     loo_model = copy.deepcopy(full_model)\n",
    "\n",
    "\n",
    "        if \"optimizer_weight_decay\" in retrain_config:\n",
    "            optimizer = Adam(\n",
    "                loo_model.classifier.parameters(),\n",
    "                lr=retrain_config[\"learning_rate\"],\n",
    "                weight_decay=retrain_config[\"optimizer_weight_decay\"],\n",
    "            )\n",
    "        else:\n",
    "            optimizer = Adam(\n",
    "                loo_model.classifier.parameters(), lr=retrain_config[\"learning_rate\"]\n",
    "            )\n",
    "\n",
    "        run = wandb.init(project=\"Bert-scratch\", config=retrain_config)\n",
    "        train_utils.train(\n",
    "            config=retrain_config,\n",
    "            model=loo_model,\n",
    "            optimizer=optimizer,\n",
    "            train_dataloader=loo_dataloader,\n",
    "            val_dataloader=test_dataloader\n",
    "        )\n",
    "\n",
    "        ldf, test_loss, test_acc = train_utils.evaluate_loss(loo_model, test_dataloader)\n",
    "\n",
    "        wandb.summary[\"test/loss\"] = test_loss\n",
    "        wandb.summary[\"test/accuracy\"] = test_acc\n",
    "        wandb.finish()\n",
    "        # loo_model, ldf, full_test_loss, full_test_acc = train_utils.train_bert_model(\n",
    "        #     loo_dataset, test_dataset, config\n",
    "        # )\n",
    "        ldf[\"loo_guid\"] = loo_guid\n",
    "        loo_losses.append(ldf)\n",
    "    ldf = pd.concat(loo_losses, axis=0)\n",
    "    return ldf"
   ]
  },
  {
   "cell_type": "code",
   "execution_count": 19,
   "id": "9b07b031-b423-4279-86a0-5d1f340fdeab",
   "metadata": {
    "execution": {
     "iopub.execute_input": "2023-05-10T04:54:45.363401Z",
     "iopub.status.busy": "2023-05-10T04:54:45.362927Z",
     "iopub.status.idle": "2023-05-10T04:54:45.387218Z",
     "shell.execute_reply": "2023-05-10T04:54:45.386402Z",
     "shell.execute_reply.started": "2023-05-10T04:54:45.363385Z"
    },
    "tags": []
   },
   "outputs": [
    {
     "data": {
      "text/html": [
       "<div>\n",
       "<style scoped>\n",
       "    .dataframe tbody tr th:only-of-type {\n",
       "        vertical-align: middle;\n",
       "    }\n",
       "\n",
       "    .dataframe tbody tr th {\n",
       "        vertical-align: top;\n",
       "    }\n",
       "\n",
       "    .dataframe thead th {\n",
       "        text-align: right;\n",
       "    }\n",
       "</style>\n",
       "<table border=\"1\" class=\"dataframe\">\n",
       "  <thead>\n",
       "    <tr style=\"text-align: right;\">\n",
       "      <th></th>\n",
       "      <th>train_guid</th>\n",
       "      <th>influence</th>\n",
       "      <th>test_guid</th>\n",
       "      <th>if</th>\n",
       "    </tr>\n",
       "  </thead>\n",
       "  <tbody>\n",
       "    <tr>\n",
       "      <th>6668</th>\n",
       "      <td>6668</td>\n",
       "      <td>-22.598194</td>\n",
       "      <td>218</td>\n",
       "      <td>0.225982</td>\n",
       "    </tr>\n",
       "    <tr>\n",
       "      <th>7127</th>\n",
       "      <td>7127</td>\n",
       "      <td>-21.497160</td>\n",
       "      <td>218</td>\n",
       "      <td>0.214972</td>\n",
       "    </tr>\n",
       "    <tr>\n",
       "      <th>8678</th>\n",
       "      <td>8678</td>\n",
       "      <td>-20.273888</td>\n",
       "      <td>218</td>\n",
       "      <td>0.202739</td>\n",
       "    </tr>\n",
       "    <tr>\n",
       "      <th>761</th>\n",
       "      <td>761</td>\n",
       "      <td>-19.895267</td>\n",
       "      <td>218</td>\n",
       "      <td>0.198953</td>\n",
       "    </tr>\n",
       "    <tr>\n",
       "      <th>4201</th>\n",
       "      <td>4201</td>\n",
       "      <td>-19.772106</td>\n",
       "      <td>218</td>\n",
       "      <td>0.197721</td>\n",
       "    </tr>\n",
       "    <tr>\n",
       "      <th>...</th>\n",
       "      <td>...</td>\n",
       "      <td>...</td>\n",
       "      <td>...</td>\n",
       "      <td>...</td>\n",
       "    </tr>\n",
       "    <tr>\n",
       "      <th>1940</th>\n",
       "      <td>1940</td>\n",
       "      <td>14.026974</td>\n",
       "      <td>218</td>\n",
       "      <td>-0.140270</td>\n",
       "    </tr>\n",
       "    <tr>\n",
       "      <th>1007</th>\n",
       "      <td>1007</td>\n",
       "      <td>14.182791</td>\n",
       "      <td>218</td>\n",
       "      <td>-0.141828</td>\n",
       "    </tr>\n",
       "    <tr>\n",
       "      <th>2030</th>\n",
       "      <td>2030</td>\n",
       "      <td>14.360786</td>\n",
       "      <td>218</td>\n",
       "      <td>-0.143608</td>\n",
       "    </tr>\n",
       "    <tr>\n",
       "      <th>9584</th>\n",
       "      <td>9584</td>\n",
       "      <td>14.585812</td>\n",
       "      <td>218</td>\n",
       "      <td>-0.145858</td>\n",
       "    </tr>\n",
       "    <tr>\n",
       "      <th>9414</th>\n",
       "      <td>9414</td>\n",
       "      <td>15.429592</td>\n",
       "      <td>218</td>\n",
       "      <td>-0.154296</td>\n",
       "    </tr>\n",
       "  </tbody>\n",
       "</table>\n",
       "<p>10000 rows × 4 columns</p>\n",
       "</div>"
      ],
      "text/plain": [
       "      train_guid  influence  test_guid        if\n",
       "6668        6668 -22.598194        218  0.225982\n",
       "7127        7127 -21.497160        218  0.214972\n",
       "8678        8678 -20.273888        218  0.202739\n",
       "761          761 -19.895267        218  0.198953\n",
       "4201        4201 -19.772106        218  0.197721\n",
       "...          ...        ...        ...       ...\n",
       "1940        1940  14.026974        218 -0.140270\n",
       "1007        1007  14.182791        218 -0.141828\n",
       "2030        2030  14.360786        218 -0.143608\n",
       "9584        9584  14.585812        218 -0.145858\n",
       "9414        9414  15.429592        218 -0.154296\n",
       "\n",
       "[10000 rows x 4 columns]"
      ]
     },
     "execution_count": 19,
     "metadata": {},
     "output_type": "execute_result"
    }
   ],
   "source": [
    "idf.sort_values(\"influence\", ascending=True)"
   ]
  },
  {
   "cell_type": "code",
   "execution_count": 14,
   "id": "ee0a6d99-e124-41b5-b8b3-007b6f47426f",
   "metadata": {
    "execution": {
     "iopub.execute_input": "2023-05-10T04:52:34.343726Z",
     "iopub.status.busy": "2023-05-10T04:52:34.343427Z",
     "iopub.status.idle": "2023-05-10T04:52:34.366289Z",
     "shell.execute_reply": "2023-05-10T04:52:34.365598Z",
     "shell.execute_reply.started": "2023-05-10T04:52:34.343711Z"
    },
    "tags": []
   },
   "outputs": [
    {
     "data": {
      "text/plain": [
       "[9414, 9584, 2030]"
      ]
     },
     "execution_count": 14,
     "metadata": {},
     "output_type": "execute_result"
    }
   ],
   "source": [
    "idf.sort_values(\"influence\", ascending=True).iloc[:3].train_guid.to_list()"
   ]
  },
  {
   "cell_type": "code",
   "execution_count": 21,
   "id": "46900870-01ef-41ec-9b85-fe4a84040ed5",
   "metadata": {
    "execution": {
     "iopub.execute_input": "2023-05-10T04:54:52.251685Z",
     "iopub.status.busy": "2023-05-10T04:54:52.250983Z",
     "iopub.status.idle": "2023-05-10T04:59:11.736189Z",
     "shell.execute_reply": "2023-05-10T04:59:11.733566Z",
     "shell.execute_reply.started": "2023-05-10T04:54:52.251667Z"
    },
    "tags": []
   },
   "outputs": [
    {
     "name": "stderr",
     "output_type": "stream",
     "text": [
      "Some weights of the model checkpoint at distilbert-base-uncased were not used when initializing DistilBertModel: ['vocab_projector.bias', 'vocab_layer_norm.bias', 'vocab_layer_norm.weight', 'vocab_projector.weight', 'vocab_transform.bias', 'vocab_transform.weight']\n",
      "- This IS expected if you are initializing DistilBertModel from the checkpoint of a model trained on another task or with another architecture (e.g. initializing a BertForSequenceClassification model from a BertForPreTraining model).\n",
      "- This IS NOT expected if you are initializing DistilBertModel from the checkpoint of a model that you expect to be exactly identical (initializing a BertForSequenceClassification model from a BertForSequenceClassification model).\n"
     ]
    },
    {
     "name": "stdout",
     "output_type": "stream",
     "text": [
      "{\n",
      "    \"batch_size\": 32,\n",
      "    \"bert_model_name\": \"distilbert-base-uncased\",\n",
      "    \"classifier_drop_out\": 0,\n",
      "    \"classifier_hidden_size\": 0,\n",
      "    \"classifier_init_state_path\": \"model_params/bert-epoch9-reg0.001-10000.pt\",\n",
      "    \"classifier_type\": \"single-fc\",\n",
      "    \"epochs\": 3,\n",
      "    \"learning_rate\": 0.0002,\n",
      "    \"max_sequence_length\": 64,\n",
      "    \"num_training_examples\": 10000,\n",
      "    \"optimizer_weight_decay\": 0.001\n",
      "}\n"
     ]
    },
    {
     "name": "stderr",
     "output_type": "stream",
     "text": [
      "100%|████████████████████████████████████████████████████████████████████████████████████████████████| 313/313 [00:19<00:00, 16.19batch/s]\n",
      "100%|████████████████████████████████████████████████████████████████████████████████████████████████| 313/313 [00:19<00:00, 15.84batch/s]\n",
      "100%|████████████████████████████████████████████████████████████████████████████████████████████████| 313/313 [00:19<00:00, 16.05batch/s]\n",
      "Some weights of the model checkpoint at distilbert-base-uncased were not used when initializing DistilBertModel: ['vocab_projector.bias', 'vocab_layer_norm.bias', 'vocab_layer_norm.weight', 'vocab_projector.weight', 'vocab_transform.bias', 'vocab_transform.weight']\n",
      "- This IS expected if you are initializing DistilBertModel from the checkpoint of a model trained on another task or with another architecture (e.g. initializing a BertForSequenceClassification model from a BertForPreTraining model).\n",
      "- This IS NOT expected if you are initializing DistilBertModel from the checkpoint of a model that you expect to be exactly identical (initializing a BertForSequenceClassification model from a BertForSequenceClassification model).\n"
     ]
    },
    {
     "name": "stdout",
     "output_type": "stream",
     "text": [
      "{\n",
      "    \"batch_size\": 32,\n",
      "    \"bert_model_name\": \"distilbert-base-uncased\",\n",
      "    \"classifier_drop_out\": 0,\n",
      "    \"classifier_hidden_size\": 0,\n",
      "    \"classifier_init_state_path\": \"model_params/bert-epoch9-reg0.001-10000.pt\",\n",
      "    \"classifier_type\": \"single-fc\",\n",
      "    \"epochs\": 3,\n",
      "    \"learning_rate\": 0.0002,\n",
      "    \"max_sequence_length\": 64,\n",
      "    \"num_training_examples\": 10000,\n",
      "    \"optimizer_weight_decay\": 0.001\n",
      "}\n"
     ]
    },
    {
     "name": "stderr",
     "output_type": "stream",
     "text": [
      "100%|████████████████████████████████████████████████████████████████████████████████████████████████| 313/313 [00:19<00:00, 16.37batch/s]\n",
      "100%|████████████████████████████████████████████████████████████████████████████████████████████████| 313/313 [00:19<00:00, 16.19batch/s]\n",
      "100%|████████████████████████████████████████████████████████████████████████████████████████████████| 313/313 [00:19<00:00, 16.25batch/s]\n",
      "Some weights of the model checkpoint at distilbert-base-uncased were not used when initializing DistilBertModel: ['vocab_projector.bias', 'vocab_layer_norm.bias', 'vocab_layer_norm.weight', 'vocab_projector.weight', 'vocab_transform.bias', 'vocab_transform.weight']\n",
      "- This IS expected if you are initializing DistilBertModel from the checkpoint of a model trained on another task or with another architecture (e.g. initializing a BertForSequenceClassification model from a BertForPreTraining model).\n",
      "- This IS NOT expected if you are initializing DistilBertModel from the checkpoint of a model that you expect to be exactly identical (initializing a BertForSequenceClassification model from a BertForSequenceClassification model).\n"
     ]
    },
    {
     "name": "stdout",
     "output_type": "stream",
     "text": [
      "{\n",
      "    \"batch_size\": 32,\n",
      "    \"bert_model_name\": \"distilbert-base-uncased\",\n",
      "    \"classifier_drop_out\": 0,\n",
      "    \"classifier_hidden_size\": 0,\n",
      "    \"classifier_init_state_path\": \"model_params/bert-epoch9-reg0.001-10000.pt\",\n",
      "    \"classifier_type\": \"single-fc\",\n",
      "    \"epochs\": 3,\n",
      "    \"learning_rate\": 0.0002,\n",
      "    \"max_sequence_length\": 64,\n",
      "    \"num_training_examples\": 10000,\n",
      "    \"optimizer_weight_decay\": 0.001\n",
      "}\n"
     ]
    },
    {
     "name": "stderr",
     "output_type": "stream",
     "text": [
      "100%|████████████████████████████████████████████████████████████████████████████████████████████████| 313/313 [00:19<00:00, 16.32batch/s]\n",
      "100%|████████████████████████████████████████████████████████████████████████████████████████████████| 313/313 [00:19<00:00, 16.13batch/s]\n",
      "100%|████████████████████████████████████████████████████████████████████████████████████████████████| 313/313 [00:19<00:00, 16.32batch/s]\n"
     ]
    }
   ],
   "source": [
    "# rand_idxs = np.random.randint(low=0, high=len(train_dataset), size=10)\n",
    "# idf['abs_infl'] = np.abs(idf['influence'])\n",
    "# Pick most negative\n",
    "loo_indxs = idf.sort_values(\"influence\", ascending=True).iloc[:3].train_guid.to_list()\n",
    "\n",
    "ldf = train_loo_models(\n",
    "    full_train_dataset=train_dataset,\n",
    "    test_dataset=test_dataset,\n",
    "    guids=loo_indxs,\n",
    "    train_from_new=False,\n",
    ")"
   ]
  },
  {
   "cell_type": "markdown",
   "id": "cbe292fc-396c-4c75-953c-2ecae11a3cb7",
   "metadata": {},
   "source": [
    "## Analysis\n"
   ]
  },
  {
   "cell_type": "code",
   "execution_count": 18,
   "id": "a8fa4834-9cc2-49a9-a786-f090e7a05664",
   "metadata": {
    "execution": {
     "iopub.execute_input": "2023-05-09T01:37:21.202279Z",
     "iopub.status.busy": "2023-05-09T01:37:21.201998Z",
     "iopub.status.idle": "2023-05-09T01:37:21.226827Z",
     "shell.execute_reply": "2023-05-09T01:37:21.226050Z",
     "shell.execute_reply.started": "2023-05-09T01:37:21.202257Z"
    },
    "tags": []
   },
   "outputs": [],
   "source": [
    "# # -- Load Influence Results --\n",
    "# TRAIN_LENGTH = 10000\n",
    "# infl_dir = Path(\"results_10k_strong_l2/influence/\")\n",
    "# infl = pd.read_csv(infl_dir / f\"influence-testguid-{TEST_GUID}.csv\")\n",
    "# infl[\"infl_diff\"] = (-100 / TRAIN_LENGTH) * infl[\"influence\"]"
   ]
  },
  {
   "cell_type": "code",
   "execution_count": 24,
   "id": "9405c4bd-75da-459c-af8f-070506753699",
   "metadata": {
    "execution": {
     "iopub.execute_input": "2023-05-10T04:59:53.394119Z",
     "iopub.status.busy": "2023-05-10T04:59:53.393905Z",
     "iopub.status.idle": "2023-05-10T04:59:53.427247Z",
     "shell.execute_reply": "2023-05-10T04:59:53.426579Z",
     "shell.execute_reply.started": "2023-05-10T04:59:53.394104Z"
    },
    "tags": []
   },
   "outputs": [
    {
     "data": {
      "text/html": [
       "<div>\n",
       "<style scoped>\n",
       "    .dataframe tbody tr th:only-of-type {\n",
       "        vertical-align: middle;\n",
       "    }\n",
       "\n",
       "    .dataframe tbody tr th {\n",
       "        vertical-align: top;\n",
       "    }\n",
       "\n",
       "    .dataframe thead th {\n",
       "        text-align: right;\n",
       "    }\n",
       "</style>\n",
       "<table border=\"1\" class=\"dataframe\">\n",
       "  <thead>\n",
       "    <tr style=\"text-align: right;\">\n",
       "      <th></th>\n",
       "      <th>test_guid</th>\n",
       "      <th>logits</th>\n",
       "      <th>pred</th>\n",
       "      <th>label</th>\n",
       "      <th>loss</th>\n",
       "      <th>loo_guid</th>\n",
       "      <th>base_loss</th>\n",
       "      <th>loss_diff</th>\n",
       "      <th>train_guid</th>\n",
       "      <th>influence</th>\n",
       "      <th>if</th>\n",
       "    </tr>\n",
       "  </thead>\n",
       "  <tbody>\n",
       "    <tr>\n",
       "      <th>0</th>\n",
       "      <td>218</td>\n",
       "      <td>[-2.215192, 1.7946632]</td>\n",
       "      <td>1</td>\n",
       "      <td>0</td>\n",
       "      <td>4.027829</td>\n",
       "      <td>6668</td>\n",
       "      <td>3.820718</td>\n",
       "      <td>0.207111</td>\n",
       "      <td>6668</td>\n",
       "      <td>0.225982</td>\n",
       "      <td>0.225982</td>\n",
       "    </tr>\n",
       "    <tr>\n",
       "      <th>1</th>\n",
       "      <td>218</td>\n",
       "      <td>[-2.227286, 1.8066115]</td>\n",
       "      <td>1</td>\n",
       "      <td>0</td>\n",
       "      <td>4.051448</td>\n",
       "      <td>7127</td>\n",
       "      <td>3.820718</td>\n",
       "      <td>0.230730</td>\n",
       "      <td>7127</td>\n",
       "      <td>0.214972</td>\n",
       "      <td>0.214972</td>\n",
       "    </tr>\n",
       "    <tr>\n",
       "      <th>2</th>\n",
       "      <td>218</td>\n",
       "      <td>[-2.2099252, 1.7896161]</td>\n",
       "      <td>1</td>\n",
       "      <td>0</td>\n",
       "      <td>4.017699</td>\n",
       "      <td>8678</td>\n",
       "      <td>3.820718</td>\n",
       "      <td>0.196981</td>\n",
       "      <td>8678</td>\n",
       "      <td>0.202739</td>\n",
       "      <td>0.202739</td>\n",
       "    </tr>\n",
       "  </tbody>\n",
       "</table>\n",
       "</div>"
      ],
      "text/plain": [
       "   test_guid                   logits  pred  label      loss  loo_guid  \\\n",
       "0        218   [-2.215192, 1.7946632]     1      0  4.027829      6668   \n",
       "1        218   [-2.227286, 1.8066115]     1      0  4.051448      7127   \n",
       "2        218  [-2.2099252, 1.7896161]     1      0  4.017699      8678   \n",
       "\n",
       "   base_loss  loss_diff  train_guid  influence        if  \n",
       "0   3.820718   0.207111        6668   0.225982  0.225982  \n",
       "1   3.820718   0.230730        7127   0.214972  0.214972  \n",
       "2   3.820718   0.196981        8678   0.202739  0.202739  "
      ]
     },
     "execution_count": 24,
     "metadata": {},
     "output_type": "execute_result"
    }
   ],
   "source": [
    "# ldf[ldf.test_guid == TEST_GUID]\n",
    "cdf = ldf[ldf.test_guid == TEST_GUID].copy()\n",
    "\n",
    "cdf[\"base_loss\"] = fdf[fdf.test_guid == TEST_GUID].loss.squeeze() \n",
    "cdf[\"loss_diff\"] = cdf[\"loss\"] - cdf[\"base_loss\"]\n",
    "cdf = pd.merge(\n",
    "    cdf,\n",
    "    idf,\n",
    "    left_on=[\"test_guid\", \"loo_guid\"],\n",
    "    right_on=[\"test_guid\", \"train_guid\"],\n",
    "    how=\"left\",\n",
    ")\n",
    "cdf[\"influence\"] = (-100.0 / len(train_dataset)) * cdf[\"influence\"]\n",
    "cdf"
   ]
  },
  {
   "cell_type": "code",
   "execution_count": 25,
   "id": "5d2e7847-2f19-45a9-8c44-7b8c715f4e4b",
   "metadata": {
    "execution": {
     "iopub.execute_input": "2023-05-10T04:59:55.842505Z",
     "iopub.status.busy": "2023-05-10T04:59:55.842263Z",
     "iopub.status.idle": "2023-05-10T04:59:55.985064Z",
     "shell.execute_reply": "2023-05-10T04:59:55.984395Z",
     "shell.execute_reply.started": "2023-05-10T04:59:55.842490Z"
    },
    "tags": []
   },
   "outputs": [
    {
     "name": "stdout",
     "output_type": "stream",
     "text": [
      "           loss_diff  influence\n",
      "loss_diff   1.000000   0.321345\n",
      "influence   0.321345   1.000000\n"
     ]
    },
    {
     "data": {
      "text/plain": [
       "<Axes: xlabel='loss_diff', ylabel='influence'>"
      ]
     },
     "execution_count": 25,
     "metadata": {},
     "output_type": "execute_result"
    },
    {
     "data": {
      "image/png": "[encoded data removed]",
      "text/plain": [
       "<Figure size 640x480 with 1 Axes>"
      ]
     },
     "metadata": {},
     "output_type": "display_data"
    }
   ],
   "source": [
    "print(cdf[[\"loss_diff\", \"influence\"]].corr())\n",
    "cdf[[\"loss_diff\", \"influence\"]].plot.scatter(\"loss_diff\", \"influence\")"
   ]
  },
  {
   "cell_type": "code",
   "execution_count": 21,
   "id": "3578efe9-4799-4144-9b1b-595032f27ede",
   "metadata": {
    "execution": {
     "iopub.execute_input": "2023-05-09T01:37:21.418741Z",
     "iopub.status.busy": "2023-05-09T01:37:21.418522Z",
     "iopub.status.idle": "2023-05-09T01:37:21.443750Z",
     "shell.execute_reply": "2023-05-09T01:37:21.441963Z",
     "shell.execute_reply.started": "2023-05-09T01:37:21.418723Z"
    }
   },
   "outputs": [
    {
     "ename": "SyntaxError",
     "evalue": "invalid syntax (2133496677.py, line 1)",
     "output_type": "error",
     "traceback": [
      "\u001b[0;36m  Cell \u001b[0;32mIn[21], line 1\u001b[0;36m\u001b[0m\n\u001b[0;31m    ----\u001b[0m\n\u001b[0m        ^\u001b[0m\n\u001b[0;31mSyntaxError\u001b[0m\u001b[0;31m:\u001b[0m invalid syntax\n"
     ]
    }
   ],
   "source": [
    "----"
   ]
  },
  {
   "cell_type": "code",
   "execution_count": null,
   "id": "570279d5-94a0-441f-9978-0be8461090fa",
   "metadata": {
    "tags": []
   },
   "outputs": [],
   "source": [
    "idf_dct = {}\n",
    "\n",
    "og_model, config = BertClassifier.load_model(\n",
    "    \"model_params/bert-best.yaml\"\n",
    ")\n",
    "\n",
    "# Create datasets\n",
    "train_dataset = create_train_sst2(\n",
    "    num_samples=config[\"num_training_examples\"],\n",
    "    tokenizer_name=config[\"bert_model_name\"],\n",
    "    max_seq_len=config[\"max_sequence_length\"],\n",
    "    device=device,\n",
    ")\n",
    "\n",
    "test_dataset = create_test_sst2(\n",
    "    tokenizer_name=config[\"bert_model_name\"],\n",
    "    max_seq_len=config[\"max_sequence_length\"],\n",
    "    device=device,\n",
    ")\n",
    "test_dataloader = DataLoader(test_dataset, shuffle=False, batch_size=1)\n",
    "\n",
    "\n",
    "for damping in [1e-3, 5e-3, 8e-3]:\n",
    "    for depth in [0.3, 0.5, 0.7]:\n",
    "        og_model, config = BertClassifier.load_model(\n",
    "            \"model_params/bert-best.yaml\"\n",
    "        )\n",
    "        \n",
    "        param_infl = list(og_model.classifier.parameters())\n",
    "        infl = influence.compute_influence(\n",
    "            full_model=og_model,\n",
    "            test_guid=TEST_GUID,\n",
    "            param_influence=param_infl,\n",
    "            train_dataset=train_dataset,\n",
    "            test_dataset=test_dataset,\n",
    "            lissa_r=1,\n",
    "            lissa_depth=LISSA_DEPTH,\n",
    "            damping=DAMPING_TERM,\n",
    "            scale=100,\n",
    "        )\n",
    "        idf = create_infl_df(infl, TEST_GUID)\n",
    "        idf_dct[f\"{damping}-{depth}\"] = idf                \n",
    "        "
   ]
  },
  {
   "cell_type": "code",
   "execution_count": null,
   "id": "a5901446-846b-4ec6-b1d2-3c6dca7fea61",
   "metadata": {
    "execution": {
     "iopub.status.busy": "2023-05-09T01:37:21.444180Z",
     "iopub.status.idle": "2023-05-09T01:37:21.444403Z",
     "shell.execute_reply": "2023-05-09T01:37:21.444306Z",
     "shell.execute_reply.started": "2023-05-09T01:37:21.444295Z"
    },
    "tags": []
   },
   "outputs": [],
   "source": [
    "# ldf[ldf.test_guid == TEST_GUID]\n",
    "cdf = ldf[ldf.test_guid == TEST_GUID].copy()\n",
    "cdf[\"loss_diff\"] = cdf[\"loss\"] - fdf[fdf.test_guid == TEST_GUID].loss.squeeze()\n",
    "cdf = pd.merge(\n",
    "    cdf,\n",
    "    idf,\n",
    "    left_on=[\"test_guid\", \"loo_guid\"],\n",
    "    right_on=[\"test_guid\", \"train_guid\"],\n",
    "    how=\"left\",\n",
    ")\n",
    "cdf[\"influence\"] = (-100.0 / len(train_dataset)) * cdf[\"influence\"]\n",
    "cdf"
   ]
  },
  {
   "cell_type": "code",
   "execution_count": null,
   "id": "66716bfa-e9c7-4d52-8edd-bf02be6eaea4",
   "metadata": {
    "execution": {
     "iopub.status.busy": "2023-05-09T01:37:21.445229Z",
     "iopub.status.idle": "2023-05-09T01:37:21.445435Z",
     "shell.execute_reply": "2023-05-09T01:37:21.445346Z",
     "shell.execute_reply.started": "2023-05-09T01:37:21.445336Z"
    },
    "tags": []
   },
   "outputs": [],
   "source": [
    "cdf[[\"loss_diff\", \"influence\"]].corr()"
   ]
  },
  {
   "cell_type": "code",
   "execution_count": null,
   "id": "a2e5f36c-b87e-4372-94de-bce3135e5cac",
   "metadata": {
    "execution": {
     "iopub.status.busy": "2023-05-09T01:37:21.446278Z",
     "iopub.status.idle": "2023-05-09T01:37:21.446497Z",
     "shell.execute_reply": "2023-05-09T01:37:21.446405Z",
     "shell.execute_reply.started": "2023-05-09T01:37:21.446395Z"
    },
    "tags": []
   },
   "outputs": [],
   "source": [
    "cdf[[\"loss_diff\", \"influence\"]].corr(\"spearman\")"
   ]
  },
  {
   "cell_type": "code",
   "execution_count": null,
   "id": "5c66a398-9a12-4693-add8-6bec30cb7da4",
   "metadata": {
    "execution": {
     "iopub.status.busy": "2023-05-09T01:37:21.447515Z",
     "iopub.status.idle": "2023-05-09T01:37:21.447740Z",
     "shell.execute_reply": "2023-05-09T01:37:21.447646Z",
     "shell.execute_reply.started": "2023-05-09T01:37:21.447635Z"
    },
    "tags": []
   },
   "outputs": [],
   "source": [
    "cdf[[\"loss_diff\", \"influence\"]].plot.scatter(\"loss_diff\", \"influence\")"
   ]
  },
  {
   "cell_type": "code",
   "execution_count": null,
   "id": "a3b9966b-5698-49f0-9be3-769ed4fe26f1",
   "metadata": {
    "execution": {
     "iopub.status.busy": "2023-05-09T01:37:21.449252Z",
     "iopub.status.idle": "2023-05-09T01:37:21.449593Z",
     "shell.execute_reply": "2023-05-09T01:37:21.449493Z",
     "shell.execute_reply.started": "2023-05-09T01:37:21.449481Z"
    }
   },
   "outputs": [],
   "source": [
    "-"
   ]
  },
  {
   "cell_type": "code",
   "execution_count": null,
   "id": "f29a8026-d6be-40bb-ba32-0332e0589f92",
   "metadata": {
    "execution": {
     "iopub.status.busy": "2023-05-09T01:37:21.450840Z",
     "iopub.status.idle": "2023-05-09T01:37:21.451082Z",
     "shell.execute_reply": "2023-05-09T01:37:21.450986Z",
     "shell.execute_reply.started": "2023-05-09T01:37:21.450975Z"
    },
    "tags": []
   },
   "outputs": [],
   "source": [
    "cdf[[\"loss_diff\", \"influence\"]].plot.scatter(\"loss_diff\", \"influence\")"
   ]
  },
  {
   "cell_type": "code",
   "execution_count": null,
   "id": "669b305a-3e8b-4e60-b426-b1dc79db6bd4",
   "metadata": {},
   "outputs": [],
   "source": []
  },
  {
   "cell_type": "code",
   "execution_count": null,
   "id": "42011f88-f409-42ae-84aa-2403744e06f0",
   "metadata": {
    "execution": {
     "iopub.status.busy": "2023-05-09T01:37:21.452113Z",
     "iopub.status.idle": "2023-05-09T01:37:21.452635Z",
     "shell.execute_reply": "2023-05-09T01:37:21.452477Z",
     "shell.execute_reply.started": "2023-05-09T01:37:21.452460Z"
    },
    "tags": []
   },
   "outputs": [],
   "source": [
    "top_infl = idf.sort_values(\"influence\", ascending=False).iloc[:5].train_guid.to_list()\n",
    "data_utils.get_sentences(top_infl)"
   ]
  },
  {
   "cell_type": "code",
   "execution_count": null,
   "id": "b259126a-5e45-4be8-9fc4-119b82db46ac",
   "metadata": {
    "execution": {
     "iopub.status.busy": "2023-05-09T01:37:21.453379Z",
     "iopub.status.idle": "2023-05-09T01:37:21.453634Z",
     "shell.execute_reply": "2023-05-09T01:37:21.453521Z",
     "shell.execute_reply.started": "2023-05-09T01:37:21.453510Z"
    },
    "tags": []
   },
   "outputs": [],
   "source": [
    "idf.sort_values(\"influence\", ascending=False).iloc[:5]"
   ]
  },
  {
   "cell_type": "markdown",
   "id": "5edfc20d-5cee-49ef-8ec7-43d83311c68c",
   "metadata": {},
   "source": [
    "## Load LOO Results"
   ]
  },
  {
   "cell_type": "code",
   "execution_count": null,
   "id": "8a6bcb02-847f-48fa-9bba-8447cea7b1bd",
   "metadata": {
    "execution": {
     "iopub.status.busy": "2023-05-09T01:37:21.454526Z",
     "iopub.status.idle": "2023-05-09T01:37:21.454739Z",
     "shell.execute_reply": "2023-05-09T01:37:21.454647Z",
     "shell.execute_reply.started": "2023-05-09T01:37:21.454637Z"
    },
    "tags": []
   },
   "outputs": [],
   "source": [
    "loo_results = []\n",
    "for train_guid in range(len(train_dataset)):\n",
    "    loss_path = f\"loo_2k_l2/run_{train_guid}/test_loss.csv\"\n",
    "    if os.path.exists(loss_path):\n",
    "        df = pd.read_csv(loss_path)\n",
    "        df[\"train_guid\"] = train_guid\n",
    "        loo_results.append(df)\n",
    "ldf = pd.concat(loo_results)"
   ]
  },
  {
   "cell_type": "markdown",
   "id": "eee58157-99fd-49bf-981f-105324592ae5",
   "metadata": {
    "tags": []
   },
   "source": [
    "## Compare"
   ]
  },
  {
   "cell_type": "code",
   "execution_count": null,
   "id": "608fbed1-9ade-448b-8d2b-d9235db3451a",
   "metadata": {
    "execution": {
     "iopub.status.busy": "2023-05-09T01:37:21.455262Z",
     "iopub.status.idle": "2023-05-09T01:37:21.455460Z",
     "shell.execute_reply": "2023-05-09T01:37:21.455372Z",
     "shell.execute_reply.started": "2023-05-09T01:37:21.455362Z"
    },
    "tags": []
   },
   "outputs": [],
   "source": [
    "# ldf = top_ldf\n",
    "\n",
    "print(fdf[fdf.test_guid == TEST_GUID].loss.squeeze())\n",
    "cdf = ldf[ldf.test_guid == TEST_GUID].copy()\n",
    "cdf[\"loss_diff\"] = cdf[\"loss\"] - fdf[fdf.test_guid == TEST_GUID].loss.squeeze()\n",
    "cdf = pd.merge(\n",
    "    cdf,\n",
    "    idf,\n",
    "    left_on=[\"test_guid\", \"loo_guid\"],\n",
    "    right_on=[\"test_guid\", \"train_guid\"],\n",
    "    how=\"left\",\n",
    ")\n",
    "cdf[\"influence\"] = (-100.0 / len(train_dataset)) * cdf[\"influence\"]\n",
    "cdf"
   ]
  },
  {
   "cell_type": "code",
   "execution_count": null,
   "id": "aae216f7-ef15-4da1-9160-18defef809a7",
   "metadata": {
    "execution": {
     "iopub.status.busy": "2023-05-09T01:37:21.456002Z",
     "iopub.status.idle": "2023-05-09T01:37:21.456231Z",
     "shell.execute_reply": "2023-05-09T01:37:21.456126Z",
     "shell.execute_reply.started": "2023-05-09T01:37:21.456115Z"
    },
    "tags": []
   },
   "outputs": [],
   "source": [
    "cdf[[\"loss_diff\", \"influence\"]].corr()"
   ]
  },
  {
   "cell_type": "code",
   "execution_count": null,
   "id": "0ea13a7a-c650-48bb-947b-f0a18facfa06",
   "metadata": {
    "execution": {
     "iopub.status.busy": "2023-05-09T01:37:21.458468Z",
     "iopub.status.idle": "2023-05-09T01:37:21.458749Z",
     "shell.execute_reply": "2023-05-09T01:37:21.458647Z",
     "shell.execute_reply.started": "2023-05-09T01:37:21.458635Z"
    },
    "tags": []
   },
   "outputs": [],
   "source": [
    "cdf[[\"loss_diff\", \"influence\"]].corr(\"spearman\")"
   ]
  },
  {
   "cell_type": "code",
   "execution_count": null,
   "id": "a924b302-c961-4f58-9e99-ebcd7c1fa1b2",
   "metadata": {
    "execution": {
     "iopub.status.busy": "2023-05-09T01:37:21.459889Z",
     "iopub.status.idle": "2023-05-09T01:37:21.460164Z",
     "shell.execute_reply": "2023-05-09T01:37:21.460052Z",
     "shell.execute_reply.started": "2023-05-09T01:37:21.460042Z"
    },
    "tags": []
   },
   "outputs": [],
   "source": [
    "cdf[[\"loss_diff\", \"influence\"]].plot.scatter(\"loss_diff\", \"influence\")"
   ]
  },
  {
   "cell_type": "code",
   "execution_count": null,
   "id": "e4e2c400-c4c6-4c52-913f-52b93044f556",
   "metadata": {
    "execution": {
     "iopub.status.busy": "2023-05-09T01:37:21.460935Z",
     "iopub.status.idle": "2023-05-09T01:37:21.461159Z",
     "shell.execute_reply": "2023-05-09T01:37:21.461051Z",
     "shell.execute_reply.started": "2023-05-09T01:37:21.461041Z"
    }
   },
   "outputs": [],
   "source": [
    "-"
   ]
  },
  {
   "cell_type": "markdown",
   "id": "1459e1d3-7fcd-4853-815c-17ccad76e939",
   "metadata": {
    "execution": {
     "iopub.execute_input": "2023-05-03T18:02:54.776622Z",
     "iopub.status.busy": "2023-05-03T18:02:54.776398Z",
     "iopub.status.idle": "2023-05-03T18:02:54.781205Z",
     "shell.execute_reply": "2023-05-03T18:02:54.780472Z",
     "shell.execute_reply.started": "2023-05-03T18:02:54.776608Z"
    },
    "jp-MarkdownHeadingCollapsed": true,
    "tags": []
   },
   "source": [
    "## Compare Influence with LOO"
   ]
  },
  {
   "cell_type": "code",
   "execution_count": null,
   "id": "d3d01f1d-9e3a-4887-bb66-bf4075142991",
   "metadata": {
    "execution": {
     "iopub.status.busy": "2023-05-09T01:37:21.462201Z",
     "iopub.status.idle": "2023-05-09T01:37:21.462398Z",
     "shell.execute_reply": "2023-05-09T01:37:21.462312Z",
     "shell.execute_reply.started": "2023-05-09T01:37:21.462302Z"
    },
    "tags": []
   },
   "outputs": [],
   "source": [
    "TEST_GUID = 218\n",
    "\n",
    "param_infl = list(og_model.classifier.parameters())\n",
    "infl = influence.compute_influence(\n",
    "    full_model=og_model,\n",
    "    test_guid=TEST_GUID,\n",
    "    param_influence=param_infl,\n",
    "    train_dataset=train_dataset,\n",
    "    test_dataset=test_dataset,\n",
    "    lissa_r=1,\n",
    "    lissa_depth=0.25,\n",
    "    damping=8e-3,\n",
    "    scale=100,\n",
    "    # training_indices=list(range(15)),\n",
    ")\n",
    "idf = pd.DataFrame(data=infl, index=range(len(infl)), columns=[\"influence\"])\n",
    "idf = idf.rename_axis(\"train_guid\").reset_index()\n",
    "idf[\"test_guid\"] = TEST_GUID"
   ]
  },
  {
   "cell_type": "code",
   "execution_count": null,
   "id": "013aaee6-8713-4e09-b032-fa5dd9f21dc6",
   "metadata": {
    "execution": {
     "iopub.status.busy": "2023-05-09T01:37:21.463304Z",
     "iopub.status.idle": "2023-05-09T01:37:21.463512Z",
     "shell.execute_reply": "2023-05-09T01:37:21.463426Z",
     "shell.execute_reply.started": "2023-05-09T01:37:21.463416Z"
    }
   },
   "outputs": [],
   "source": [
    "-"
   ]
  },
  {
   "cell_type": "code",
   "execution_count": null,
   "id": "a74c9678-4c34-485d-9d6c-e9d7f0ce11c9",
   "metadata": {
    "tags": []
   },
   "outputs": [],
   "source": []
  },
  {
   "cell_type": "markdown",
   "id": "c9024f66-e68d-4309-bcd1-c3a7dce56e6c",
   "metadata": {
    "jp-MarkdownHeadingCollapsed": true,
    "tags": []
   },
   "source": [
    "## Remove Random 10%"
   ]
  },
  {
   "cell_type": "code",
   "execution_count": null,
   "id": "2fe4f34f-fd42-441b-806c-104b10d6d2de",
   "metadata": {
    "execution": {
     "iopub.status.busy": "2023-05-09T01:37:21.464440Z",
     "iopub.status.idle": "2023-05-09T01:37:21.464635Z",
     "shell.execute_reply": "2023-05-09T01:37:21.464548Z",
     "shell.execute_reply.started": "2023-05-09T01:37:21.464539Z"
    },
    "tags": []
   },
   "outputs": [],
   "source": [
    "remove_pct = 0.1\n",
    "remove_length = int(remove_pct * len(train_dataset))\n",
    "\n",
    "remove_idxs = np.random.randint(low=0, high=len(train_dataset), size=remove_length)\n",
    "loo_dataset = create_loo_dataset(train_dataset, remove_idxs)\n",
    "\n",
    "rand_model, rdf, rad_test_loss, rand_test_acc = train_model(\n",
    "    loo_dataset, test_dataset, config\n",
    ")"
   ]
  },
  {
   "cell_type": "code",
   "execution_count": null,
   "id": "9c8eb9dc-2007-418a-9d8e-e7427042b51e",
   "metadata": {
    "execution": {
     "iopub.status.busy": "2023-05-09T01:37:21.465430Z",
     "iopub.status.idle": "2023-05-09T01:37:21.465626Z",
     "shell.execute_reply": "2023-05-09T01:37:21.465541Z",
     "shell.execute_reply.started": "2023-05-09T01:37:21.465530Z"
    },
    "tags": []
   },
   "outputs": [],
   "source": [
    "rdf[rdf.test_guid == TEST_GUID]"
   ]
  },
  {
   "cell_type": "markdown",
   "id": "0493a03f-6dd2-418f-8139-b74e2518610c",
   "metadata": {
    "jp-MarkdownHeadingCollapsed": true,
    "tags": []
   },
   "source": [
    "## Remove Top 10% Influences"
   ]
  },
  {
   "cell_type": "code",
   "execution_count": null,
   "id": "fa006764-2a85-4d73-bd08-668523c99d39",
   "metadata": {
    "execution": {
     "iopub.status.busy": "2023-05-09T01:37:21.466520Z",
     "iopub.status.idle": "2023-05-09T01:37:21.466719Z",
     "shell.execute_reply": "2023-05-09T01:37:21.466631Z",
     "shell.execute_reply.started": "2023-05-09T01:37:21.466621Z"
    },
    "tags": []
   },
   "outputs": [],
   "source": [
    "remove_pct = 0.1\n",
    "remove_length = int(remove_pct * len(train_dataset))\n",
    "\n",
    "top_indxs = np.argsort(-infl)[:remove_length]\n",
    "loo_dataset = create_loo_dataset(train_dataset, top_indxs)\n",
    "\n",
    "t_model, tdf, top_test_loss, top_test_acc = train_model(\n",
    "    loo_dataset, test_dataset, config\n",
    ")"
   ]
  },
  {
   "cell_type": "code",
   "execution_count": null,
   "id": "b66795a5-9761-4015-a1e7-d78f29981338",
   "metadata": {
    "execution": {
     "iopub.status.busy": "2023-05-09T01:37:21.468227Z",
     "iopub.status.idle": "2023-05-09T01:37:21.468477Z",
     "shell.execute_reply": "2023-05-09T01:37:21.468380Z",
     "shell.execute_reply.started": "2023-05-09T01:37:21.468369Z"
    },
    "tags": []
   },
   "outputs": [],
   "source": [
    "tdf[tdf.test_guid == TEST_GUID]"
   ]
  },
  {
   "cell_type": "markdown",
   "id": "5eefaafc-4830-4852-aa33-a6e06c25c0f1",
   "metadata": {
    "jp-MarkdownHeadingCollapsed": true,
    "tags": []
   },
   "source": [
    "## Remove Bottom 10% Influences"
   ]
  },
  {
   "cell_type": "code",
   "execution_count": null,
   "id": "3aa1a6ad-72af-4424-be7f-ec73084189ef",
   "metadata": {
    "execution": {
     "iopub.status.busy": "2023-05-09T01:37:21.469365Z",
     "iopub.status.idle": "2023-05-09T01:37:21.469596Z",
     "shell.execute_reply": "2023-05-09T01:37:21.469502Z",
     "shell.execute_reply.started": "2023-05-09T01:37:21.469492Z"
    }
   },
   "outputs": [],
   "source": [
    "remove_pct = 0.1\n",
    "remove_length = int(remove_pct * len(train_dataset))\n",
    "\n",
    "top_indxs = np.argsort(infl)[:remove_length]\n",
    "loo_dataset = create_loo_dataset(train_dataset, top_indxs)\n",
    "\n",
    "b_model, bdf, bot_test_loss, bot_test_acc = train_model(\n",
    "    loo_dataset, test_dataset, config\n",
    ")"
   ]
  },
  {
   "cell_type": "code",
   "execution_count": null,
   "id": "a38479db-102a-4140-af57-24847bef82d0",
   "metadata": {
    "execution": {
     "iopub.status.busy": "2023-05-09T01:37:21.471216Z",
     "iopub.status.idle": "2023-05-09T01:37:21.471461Z",
     "shell.execute_reply": "2023-05-09T01:37:21.471363Z",
     "shell.execute_reply.started": "2023-05-09T01:37:21.471352Z"
    },
    "tags": []
   },
   "outputs": [],
   "source": [
    "fdf[fdf.test_guid == TEST_GUID]"
   ]
  },
  {
   "cell_type": "code",
   "execution_count": null,
   "id": "6ddef4be-c49e-4f4a-804e-1c27e6f936c3",
   "metadata": {
    "execution": {
     "iopub.status.busy": "2023-05-09T01:37:21.471885Z",
     "iopub.status.idle": "2023-05-09T01:37:21.472087Z",
     "shell.execute_reply": "2023-05-09T01:37:21.471999Z",
     "shell.execute_reply.started": "2023-05-09T01:37:21.471988Z"
    },
    "tags": []
   },
   "outputs": [],
   "source": [
    "rdf[rdf.test_guid == TEST_GUID]"
   ]
  },
  {
   "cell_type": "code",
   "execution_count": null,
   "id": "aacbbcec-9a8e-4c90-8456-1bc0651971d3",
   "metadata": {
    "execution": {
     "iopub.status.busy": "2023-05-09T01:37:21.473050Z",
     "iopub.status.idle": "2023-05-09T01:37:21.473306Z",
     "shell.execute_reply": "2023-05-09T01:37:21.473218Z",
     "shell.execute_reply.started": "2023-05-09T01:37:21.473208Z"
    },
    "tags": []
   },
   "outputs": [],
   "source": [
    "tdf[tdf.test_guid == TEST_GUID]"
   ]
  },
  {
   "cell_type": "code",
   "execution_count": null,
   "id": "752247ef-4fef-4230-8577-fbdfbc48cf07",
   "metadata": {
    "execution": {
     "iopub.status.busy": "2023-05-09T01:37:21.474146Z",
     "iopub.status.idle": "2023-05-09T01:37:21.474345Z",
     "shell.execute_reply": "2023-05-09T01:37:21.474258Z",
     "shell.execute_reply.started": "2023-05-09T01:37:21.474248Z"
    }
   },
   "outputs": [],
   "source": [
    "bdf[bdf.test_guid == TEST_GUID]"
   ]
  },
  {
   "cell_type": "code",
   "execution_count": null,
   "id": "f55e75ef-98fe-4f5c-9093-0b742c365a06",
   "metadata": {
    "execution": {
     "iopub.status.busy": "2023-05-09T01:37:21.475191Z",
     "iopub.status.idle": "2023-05-09T01:37:21.475390Z",
     "shell.execute_reply": "2023-05-09T01:37:21.475302Z",
     "shell.execute_reply.started": "2023-05-09T01:37:21.475293Z"
    },
    "tags": []
   },
   "outputs": [],
   "source": [
    "import src.datasets as datasets\n",
    "\n",
    "datasets.get_test_example(TEST_GUID).sentence.squeeze()"
   ]
  },
  {
   "cell_type": "code",
   "execution_count": null,
   "id": "8601b3b4-4df9-4f18-a549-e1e3ab9cf1f5",
   "metadata": {
    "execution": {
     "iopub.status.busy": "2023-05-09T01:37:21.476500Z",
     "iopub.status.idle": "2023-05-09T01:37:21.476696Z",
     "shell.execute_reply": "2023-05-09T01:37:21.476609Z",
     "shell.execute_reply.started": "2023-05-09T01:37:21.476600Z"
    },
    "tags": []
   },
   "outputs": [],
   "source": [
    "fdf.sort_values(\"loss\", ascending=False)"
   ]
  },
  {
   "cell_type": "code",
   "execution_count": null,
   "id": "35272b8e-e604-4a59-9d8f-041e91933ef9",
   "metadata": {},
   "outputs": [],
   "source": []
  },
  {
   "cell_type": "code",
   "execution_count": null,
   "id": "3e53a87a-f015-436c-b92e-6359895330e1",
   "metadata": {
    "execution": {
     "iopub.status.busy": "2023-05-09T01:37:21.477356Z",
     "iopub.status.idle": "2023-05-09T01:37:21.477550Z",
     "shell.execute_reply": "2023-05-09T01:37:21.477464Z",
     "shell.execute_reply.started": "2023-05-09T01:37:21.477454Z"
    }
   },
   "outputs": [],
   "source": [
    "---stop---"
   ]
  },
  {
   "cell_type": "markdown",
   "id": "a00b71ea-f9bd-4aef-be51-cce0f410c0ad",
   "metadata": {
    "jp-MarkdownHeadingCollapsed": true,
    "tags": []
   },
   "source": [
    "## Compare IF and LOO"
   ]
  },
  {
   "cell_type": "code",
   "execution_count": null,
   "id": "b647b3dc-da4a-4851-930a-c89e7557994e",
   "metadata": {
    "execution": {
     "iopub.status.busy": "2023-05-09T01:37:21.478390Z",
     "iopub.status.idle": "2023-05-09T01:37:21.478584Z",
     "shell.execute_reply": "2023-05-09T01:37:21.478497Z",
     "shell.execute_reply.started": "2023-05-09T01:37:21.478487Z"
    },
    "tags": []
   },
   "outputs": [],
   "source": [
    "fdf[fdf.test_guid == test_guid].loss.squeeze()"
   ]
  },
  {
   "cell_type": "code",
   "execution_count": null,
   "id": "760bd9e0-64e7-4834-9ab0-fb841e0f3376",
   "metadata": {
    "execution": {
     "iopub.status.busy": "2023-05-09T01:37:21.479431Z",
     "iopub.status.idle": "2023-05-09T01:37:21.479625Z",
     "shell.execute_reply": "2023-05-09T01:37:21.479538Z",
     "shell.execute_reply.started": "2023-05-09T01:37:21.479529Z"
    },
    "tags": []
   },
   "outputs": [],
   "source": [
    "# Load Losses from File\n",
    "# ldf = pd.read_csv(\"loo_10k/all_loo_losses.csv\")\n",
    "ldf = pd.concat(loo_dfs, axis=0)\n",
    "\n",
    "ldf = ldf[ldf.test_guid == test_guid]\n",
    "ldf[\"loss_diff\"] = ldf[\"loss\"] - fdf[fdf.test_guid == test_guid].loss.squeeze()\n",
    "ldf[\"if_diff\"] = (-100.0 / len(train_dataset)) * infl[: len(ldf)]\n",
    "ldf[\"if_diff2\"] = (-1000.0 / len(train_dataset)) * influences[: len(ldf)]\n",
    "ldf"
   ]
  },
  {
   "cell_type": "code",
   "execution_count": null,
   "id": "e7846573-d160-4d5a-a687-f6092d322b80",
   "metadata": {
    "execution": {
     "iopub.status.busy": "2023-05-09T01:37:21.480177Z",
     "iopub.status.idle": "2023-05-09T01:37:21.480370Z",
     "shell.execute_reply": "2023-05-09T01:37:21.480286Z",
     "shell.execute_reply.started": "2023-05-09T01:37:21.480276Z"
    },
    "tags": []
   },
   "outputs": [],
   "source": [
    "print(ldf[[\"loss_diff\", \"if_diff\", \"if_diff2\"]].corr())\n",
    "ldf[[\"loss_diff\", \"if_diff\"]]"
   ]
  },
  {
   "cell_type": "code",
   "execution_count": null,
   "id": "3eab7de8-a6c1-4f48-8c8e-50c5b4c8a94d",
   "metadata": {
    "execution": {
     "iopub.status.busy": "2023-05-09T01:37:21.480955Z",
     "iopub.status.idle": "2023-05-09T01:37:21.481154Z",
     "shell.execute_reply": "2023-05-09T01:37:21.481065Z",
     "shell.execute_reply.started": "2023-05-09T01:37:21.481055Z"
    },
    "tags": []
   },
   "outputs": [],
   "source": [
    "ldf[[\"loss_diff\", \"if_diff\"]].plot.scatter(\"loss_diff\", \"if_diff\")"
   ]
  },
  {
   "cell_type": "markdown",
   "id": "2a9f0342-b632-4447-b17e-be443f77e07d",
   "metadata": {
    "jp-MarkdownHeadingCollapsed": true,
    "tags": []
   },
   "source": [
    "## Compute Input Influence"
   ]
  },
  {
   "cell_type": "code",
   "execution_count": null,
   "id": "328dcc5a-480d-4ca2-9545-2d12f0014884",
   "metadata": {
    "execution": {
     "iopub.status.busy": "2023-05-09T01:37:21.482288Z",
     "iopub.status.idle": "2023-05-09T01:37:21.482523Z",
     "shell.execute_reply": "2023-05-09T01:37:21.482427Z",
     "shell.execute_reply.started": "2023-05-09T01:37:21.482416Z"
    },
    "tags": []
   },
   "outputs": [],
   "source": [
    "# import src.influence as inf_utils\n",
    "\n",
    "# test_guid = 560\n",
    "# param_infl = list(full_model.classifier.parameters())\n",
    "# infl = inf_utils.compute_input_influence(\n",
    "#     full_model=full_model,\n",
    "#     test_guid=test_guid,\n",
    "#     param_influence=param_infl,\n",
    "#     train_dataset=train_dataset,\n",
    "#     test_dataset=test_dataset,\n",
    "#     lissa_r=1,\n",
    "#     lissa_depth=0.1,\n",
    "#     damping=5e-3,\n",
    "#     scale=100,\n",
    "#     training_indices=[0],\n",
    "# )"
   ]
  },
  {
   "cell_type": "markdown",
   "id": "0877c066-c33c-49e0-a1d5-3a6ebafd72f8",
   "metadata": {
    "tags": []
   },
   "source": [
    "## Torch Influence"
   ]
  },
  {
   "cell_type": "code",
   "execution_count": null,
   "id": "d524668e-4893-4920-ac8a-2a8fab64742a",
   "metadata": {
    "execution": {
     "iopub.status.busy": "2023-05-09T01:37:21.483634Z",
     "iopub.status.idle": "2023-05-09T01:37:21.483859Z",
     "shell.execute_reply": "2023-05-09T01:37:21.483768Z",
     "shell.execute_reply.started": "2023-05-09T01:37:21.483758Z"
    },
    "tags": []
   },
   "outputs": [],
   "source": [
    "import copy\n",
    "\n",
    "from src.torch_influence import BaseObjective\n",
    "from src.torch_influence.modules import CGInfluenceModule, LiSSAInfluenceModule\n",
    "\n",
    "\n",
    "class BinClassObjective(BaseObjective):\n",
    "    def train_outputs(self, model, batch):\n",
    "        b_guids, b_input_ids, b_attn_mask, b_labels = (t.to(device) for t in batch)\n",
    "        return model(b_input_ids, b_attn_mask)\n",
    "\n",
    "    def train_loss_on_outputs(self, outputs, batch):\n",
    "        b_guids, b_input_ids, b_attn_mask, b_labels = (t.to(device) for t in batch)\n",
    "        loss_fn = torch.nn.CrossEntropyLoss()\n",
    "        return loss_fn(outputs, b_labels)\n",
    "\n",
    "    def train_regularization(self, params):\n",
    "        return 0\n",
    "\n",
    "    def test_loss(self, model, params, batch):\n",
    "        loss_fn = torch.nn.CrossEntropyLoss()\n",
    "\n",
    "        b_guids, b_input_ids, b_attn_mask, b_labels = (t.to(device) for t in batch)\n",
    "        outputs = model(b_input_ids, b_attn_mask)\n",
    "\n",
    "        return loss_fn(outputs, b_labels)\n",
    "\n",
    "\n",
    "infl_model = BertClassifier.create_bert_classifier(\n",
    "    config[\"bert_model_name\"],\n",
    "    classifier_type=config[\"classifier_type\"],\n",
    "    classifier_hidden_size=config[\"classifier_hidden_size\"],\n",
    "    classifier_drop_out=config[\"classifier_drop_out\"],\n",
    "    freeze_bert=True,\n",
    "    random_state=42,\n",
    ")\n",
    "infl_model.load_state_dict(copy.deepcopy(full_model.state_dict()))\n",
    "\n",
    "module = LiSSAInfluenceModule(\n",
    "    model=infl_model,\n",
    "    objective=BinClassObjective(),\n",
    "    train_loader=DataLoader(train_dataset, batch_size=32),\n",
    "    test_loader=DataLoader(test_dataset, batch_size=32),\n",
    "    device=utils.get_device(),\n",
    "    damp=0.001,\n",
    "    repeat=1,\n",
    "    depth=50,\n",
    "    scale=1e4,\n",
    ")\n",
    "\n",
    "all_train_idxs = list(range(len(train_dataset)))\n",
    "influences = module.influences(all_train_idxs, [test_guid])"
   ]
  },
  {
   "cell_type": "code",
   "execution_count": null,
   "id": "90b1c50d-da60-4de5-ae7d-adca7badfc40",
   "metadata": {
    "tags": []
   },
   "outputs": [],
   "source": []
  },
  {
   "cell_type": "code",
   "execution_count": null,
   "id": "0e5604e1-ad4c-48f5-8c1b-118734fe5690",
   "metadata": {
    "execution": {
     "iopub.status.busy": "2023-05-09T01:37:21.485530Z",
     "iopub.status.idle": "2023-05-09T01:37:21.485939Z",
     "shell.execute_reply": "2023-05-09T01:37:21.485829Z",
     "shell.execute_reply.started": "2023-05-09T01:37:21.485815Z"
    },
    "tags": []
   },
   "outputs": [],
   "source": [
    "influences[:10]"
   ]
  }
 ],
 "metadata": {
  "kernelspec": {
   "display_name": "Python 3 (ipykernel)",
   "language": "python",
   "name": "python3"
  },
  "language_info": {
   "codemirror_mode": {
    "name": "ipython",
    "version": 3
   },
   "file_extension": ".py",
   "mimetype": "text/x-python",
   "name": "python",
   "nbconvert_exporter": "python",
   "pygments_lexer": "ipython3",
   "version": "3.10.10"
  }
 },
 "nbformat": 4,
 "nbformat_minor": 5
}
