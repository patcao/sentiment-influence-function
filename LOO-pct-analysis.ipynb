{
 "cells": [
  {
   "cell_type": "code",
   "execution_count": 2,
   "id": "2622cac2-8734-4edb-b56a-894f9647d620",
   "metadata": {
    "execution": {
     "iopub.execute_input": "2023-05-05T00:50:50.737391Z",
     "iopub.status.busy": "2023-05-05T00:50:50.737115Z",
     "iopub.status.idle": "2023-05-05T00:50:51.069429Z",
     "shell.execute_reply": "2023-05-05T00:50:51.068697Z",
     "shell.execute_reply.started": "2023-05-05T00:50:50.737374Z"
    },
    "tags": []
   },
   "outputs": [
    {
     "name": "stdout",
     "output_type": "stream",
     "text": [
      "The autoreload extension is already loaded. To reload it, use:\n",
      "  %reload_ext autoreload\n"
     ]
    },
    {
     "name": "stderr",
     "output_type": "stream",
     "text": [
      "100%|████████████████████████████████████████████████████████████████████████████████████████████████████████████████| 1000/1000 [00:00<00:00, 14172.58it/s]\n",
      "100%|██████████████████████████████████████████████████████████████████████████████████████████████████████████████████| 872/872 [00:00<00:00, 10515.79it/s]\n"
     ]
    }
   ],
   "source": [
    "%load_ext autoreload\n",
    "%autoreload 2\n",
    "\n",
    "import argparse\n",
    "import os\n",
    "from pathlib import Path\n",
    "\n",
    "import numpy as np\n",
    "import pandas as pd\n",
    "import torch\n",
    "import yaml\n",
    "from torch.optim import Adam\n",
    "from torch.utils.data import DataLoader\n",
    "from tqdm import tqdm\n",
    "\n",
    "import src.BertClassifier as BertClassifier\n",
    "import src.utils as utils\n",
    "import wandb\n",
    "from src.datasets import create_loo_dataset, create_test_sst2, create_train_sst2\n",
    "\n",
    "device = utils.get_device()\n",
    "config_path = \"loo/classifier.yaml\"\n",
    "epochs = 5\n",
    "num_training_examples = 1000\n",
    "\n",
    "with open(config_path, \"r\") as stream:\n",
    "    config = yaml.safe_load(stream)\n",
    "config.update({\"epochs\": epochs, \"num_training_examples\": num_training_examples})\n",
    "\n",
    "# Create datasets\n",
    "train_dataset = create_train_sst2(\n",
    "    device,\n",
    "    num_samples=config[\"num_training_examples\"],\n",
    "    tokenizer_name=config[\"bert_model_name\"],\n",
    "    max_seq_len=config[\"max_sequence_length\"],\n",
    ")\n",
    "\n",
    "test_dataset = create_test_sst2(\n",
    "    device,\n",
    "    tokenizer_name=config[\"bert_model_name\"],\n",
    "    max_seq_len=config[\"max_sequence_length\"],\n",
    ")\n",
    "test_dataloader = DataLoader(test_dataset, shuffle=False, batch_size=1)"
   ]
  },
  {
   "cell_type": "code",
   "execution_count": 3,
   "id": "920e8ceb-49cb-4aa7-a1d0-d90b3a6ade2b",
   "metadata": {
    "execution": {
     "iopub.execute_input": "2023-05-05T00:50:54.089705Z",
     "iopub.status.busy": "2023-05-05T00:50:54.088559Z",
     "iopub.status.idle": "2023-05-05T00:51:40.041903Z",
     "shell.execute_reply": "2023-05-05T00:51:40.040855Z",
     "shell.execute_reply.started": "2023-05-05T00:50:54.089670Z"
    }
   },
   "outputs": [
    {
     "name": "stderr",
     "output_type": "stream",
     "text": [
      "Some weights of the model checkpoint at distilbert-base-uncased were not used when initializing DistilBertModel: ['vocab_transform.bias', 'vocab_projector.bias', 'vocab_projector.weight', 'vocab_layer_norm.weight', 'vocab_transform.weight', 'vocab_layer_norm.bias']\n",
      "- This IS expected if you are initializing DistilBertModel from the checkpoint of a model trained on another task or with another architecture (e.g. initializing a BertForSequenceClassification model from a BertForPreTraining model).\n",
      "- This IS NOT expected if you are initializing DistilBertModel from the checkpoint of a model that you expect to be exactly identical (initializing a BertForSequenceClassification model from a BertForSequenceClassification model).\n",
      "\u001b[34m\u001b[1mwandb\u001b[0m: Currently logged in as: \u001b[33mpatcao\u001b[0m. Use \u001b[1m`wandb login --relogin`\u001b[0m to force relogin\n"
     ]
    },
    {
     "data": {
      "application/vnd.jupyter.widget-view+json": {
       "model_id": "35830d7191e945fbbc3adbff2a0d38fd",
       "version_major": 2,
       "version_minor": 0
      },
      "text/plain": [
       "VBox(children=(Label(value='Waiting for wandb.init()...\\r'), FloatProgress(value=0.016671243333257736, max=1.0…"
      ]
     },
     "metadata": {},
     "output_type": "display_data"
    },
    {
     "data": {
      "text/html": [
       "wandb version 0.15.1 is available!  To upgrade, please run:\n",
       " $ pip install wandb --upgrade"
      ],
      "text/plain": [
       "<IPython.core.display.HTML object>"
      ]
     },
     "metadata": {},
     "output_type": "display_data"
    },
    {
     "data": {
      "text/html": [
       "Tracking run with wandb version 0.15.0"
      ],
      "text/plain": [
       "<IPython.core.display.HTML object>"
      ]
     },
     "metadata": {},
     "output_type": "display_data"
    },
    {
     "data": {
      "text/html": [
       "Run data is saved locally in <code>/home/pcao/sentiment-influence-function/wandb/run-20230504_205100-zczbsx9h</code>"
      ],
      "text/plain": [
       "<IPython.core.display.HTML object>"
      ]
     },
     "metadata": {},
     "output_type": "display_data"
    },
    {
     "data": {
      "text/html": [
       "Syncing run <strong><a href='https://wandb.ai/patcao/LOO-test/runs/zczbsx9h' target=\"_blank\">light-xwing-186</a></strong> to <a href='https://wandb.ai/patcao/LOO-test' target=\"_blank\">Weights & Biases</a> (<a href='https://wandb.me/run' target=\"_blank\">docs</a>)<br/>"
      ],
      "text/plain": [
       "<IPython.core.display.HTML object>"
      ]
     },
     "metadata": {},
     "output_type": "display_data"
    },
    {
     "data": {
      "text/html": [
       " View project at <a href='https://wandb.ai/patcao/LOO-test' target=\"_blank\">https://wandb.ai/patcao/LOO-test</a>"
      ],
      "text/plain": [
       "<IPython.core.display.HTML object>"
      ]
     },
     "metadata": {},
     "output_type": "display_data"
    },
    {
     "data": {
      "text/html": [
       " View run at <a href='https://wandb.ai/patcao/LOO-test/runs/zczbsx9h' target=\"_blank\">https://wandb.ai/patcao/LOO-test/runs/zczbsx9h</a>"
      ],
      "text/plain": [
       "<IPython.core.display.HTML object>"
      ]
     },
     "metadata": {},
     "output_type": "display_data"
    },
    {
     "name": "stderr",
     "output_type": "stream",
     "text": [
      "100%|████████████████████████████████████████████████████████████████████████████████████████████████████████████████████| 63/63 [00:02<00:00, 23.82batch/s]\n",
      "100%|████████████████████████████████████████████████████████████████████████████████████████████████████████████████████| 63/63 [00:02<00:00, 29.89batch/s]\n",
      "100%|████████████████████████████████████████████████████████████████████████████████████████████████████████████████████| 63/63 [00:02<00:00, 29.56batch/s]\n",
      "100%|████████████████████████████████████████████████████████████████████████████████████████████████████████████████████| 63/63 [00:02<00:00, 29.79batch/s]\n",
      "100%|████████████████████████████████████████████████████████████████████████████████████████████████████████████████████| 63/63 [00:02<00:00, 29.47batch/s]\n"
     ]
    },
    {
     "data": {
      "text/html": [
       "Waiting for W&B process to finish... <strong style=\"color:green\">(success).</strong>"
      ],
      "text/plain": [
       "<IPython.core.display.HTML object>"
      ]
     },
     "metadata": {},
     "output_type": "display_data"
    },
    {
     "data": {
      "application/vnd.jupyter.widget-view+json": {
       "model_id": "fd8af6d29470460daaadc63fe872017c",
       "version_major": 2,
       "version_minor": 0
      },
      "text/plain": [
       "VBox(children=(Label(value='0.003 MB of 0.003 MB uploaded (0.000 MB deduped)\\r'), FloatProgress(value=1.0, max…"
      ]
     },
     "metadata": {},
     "output_type": "display_data"
    },
    {
     "data": {
      "text/html": [
       "<style>\n",
       "    table.wandb td:nth-child(1) { padding: 0 10px; text-align: left ; width: auto;} td:nth-child(2) {text-align: left ; width: 100%}\n",
       "    .wandb-row { display: flex; flex-direction: row; flex-wrap: wrap; justify-content: flex-start; width: 100% }\n",
       "    .wandb-col { display: flex; flex-direction: column; flex-basis: 100%; flex: 1; padding: 10px; }\n",
       "    </style>\n",
       "<div class=\"wandb-row\"><div class=\"wandb-col\"><h3>Run history:</h3><br/><table class=\"wandb\"><tr><td>epoch</td><td>▁▃▅▆█</td></tr><tr><td>train/accuracy</td><td>▁▆███</td></tr><tr><td>train/batch_loss</td><td>▆▇▆█▅▅▄▅▄▄▄▃▄▄▃▂▃▃▄▆▄▂▂▄▃▃▁▄▁▂▄▁▅▁▅▃▃▂▃▅</td></tr><tr><td>train/loss</td><td>█▄▂▁▁</td></tr></table><br/></div><div class=\"wandb-col\"><h3>Run summary:</h3><br/><table class=\"wandb\"><tr><td>epoch</td><td>5</td></tr><tr><td>test/accuracy</td><td>80.27523</td></tr><tr><td>test/loss</td><td>0.41442</td></tr><tr><td>train/accuracy</td><td>85.21825</td></tr><tr><td>train/batch_loss</td><td>0.13145</td></tr><tr><td>train/loss</td><td>0.36353</td></tr></table><br/></div></div>"
      ],
      "text/plain": [
       "<IPython.core.display.HTML object>"
      ]
     },
     "metadata": {},
     "output_type": "display_data"
    },
    {
     "data": {
      "text/html": [
       " View run <strong style=\"color:#cdcd00\">light-xwing-186</strong> at: <a href='https://wandb.ai/patcao/LOO-test/runs/zczbsx9h' target=\"_blank\">https://wandb.ai/patcao/LOO-test/runs/zczbsx9h</a><br/>Synced 6 W&B file(s), 0 media file(s), 0 artifact file(s) and 0 other file(s)"
      ],
      "text/plain": [
       "<IPython.core.display.HTML object>"
      ]
     },
     "metadata": {},
     "output_type": "display_data"
    },
    {
     "data": {
      "text/html": [
       "Find logs at: <code>./wandb/run-20230504_205100-zczbsx9h/logs</code>"
      ],
      "text/plain": [
       "<IPython.core.display.HTML object>"
      ]
     },
     "metadata": {},
     "output_type": "display_data"
    }
   ],
   "source": [
    "def train_model(\n",
    "    train_dataset, test_dataset, config, wandb_project=\"LOO-test\", wandb_tags=None\n",
    "):\n",
    "    train_dataloader = DataLoader(\n",
    "        train_dataset, batch_size=config[\"batch_size\"], shuffle=True\n",
    "    )\n",
    "\n",
    "    # Create classifcation model\n",
    "    model = BertClassifier.create_bert_classifier(\n",
    "        config[\"bert_model_name\"],\n",
    "        classifier_type=config[\"classifier_type\"],\n",
    "        classifier_hidden_size=config[\"classifier_hidden_size\"],\n",
    "        classifier_drop_out=config[\"classifier_drop_out\"],\n",
    "        freeze_bert=True,\n",
    "        # random_state=42,\n",
    "    )\n",
    "    model.classifier.load_state_dict(\n",
    "        torch.load(\"loo_10k/run_0/init_classifier_params.pt\")\n",
    "    )\n",
    "    # torch.save(model.classifier.state_dict(), 'classifier_params.pt')\n",
    "\n",
    "    optimizer = Adam(model.classifier.parameters(), lr=config[\"learning_rate\"])\n",
    "    loss_fn = torch.nn.CrossEntropyLoss()\n",
    "\n",
    "    run = wandb.init(project=wandb_project, tags=wandb_tags, config=config)\n",
    "\n",
    "    utils.train(\n",
    "        config=config,\n",
    "        model=model,\n",
    "        optimizer=optimizer,\n",
    "        train_dataloader=train_dataloader,\n",
    "        val_dataloader=None,\n",
    "    )\n",
    "\n",
    "    fdf, test_loss, test_acc = utils.evaluate_loss_df(model, test_dataloader)\n",
    "    wandb.summary[\"test/loss\"] = test_loss\n",
    "    wandb.summary[\"test/accuracy\"] = test_acc\n",
    "    wandb.finish()\n",
    "\n",
    "    return model, fdf, test_loss, test_acc\n",
    "\n",
    "full_model, fdf, full_test_loss, full_test_acc = train_model(\n",
    "    train_dataset, test_dataset, config\n",
    ")"
   ]
  },
  {
   "cell_type": "markdown",
   "id": "6b57264f-8f04-4707-a332-a2a28311d130",
   "metadata": {},
   "source": [
    "### Compare Loo Pct Results"
   ]
  },
  {
   "cell_type": "code",
   "execution_count": 12,
   "id": "fd28fa9f-1f33-4504-bd6b-8f1decffe616",
   "metadata": {
    "execution": {
     "iopub.execute_input": "2023-05-05T00:55:22.062122Z",
     "iopub.status.busy": "2023-05-05T00:55:22.061889Z",
     "iopub.status.idle": "2023-05-05T00:55:22.095633Z",
     "shell.execute_reply": "2023-05-05T00:55:22.094885Z",
     "shell.execute_reply.started": "2023-05-05T00:55:22.062107Z"
    },
    "tags": []
   },
   "outputs": [
    {
     "data": {
      "text/html": [
       "<div>\n",
       "<style scoped>\n",
       "    .dataframe tbody tr th:only-of-type {\n",
       "        vertical-align: middle;\n",
       "    }\n",
       "\n",
       "    .dataframe tbody tr th {\n",
       "        vertical-align: top;\n",
       "    }\n",
       "\n",
       "    .dataframe thead th {\n",
       "        text-align: right;\n",
       "    }\n",
       "</style>\n",
       "<table border=\"1\" class=\"dataframe\">\n",
       "  <thead>\n",
       "    <tr style=\"text-align: right;\">\n",
       "      <th></th>\n",
       "      <th>test_guid</th>\n",
       "      <th>logits</th>\n",
       "      <th>pred</th>\n",
       "      <th>label</th>\n",
       "      <th>loss</th>\n",
       "    </tr>\n",
       "  </thead>\n",
       "  <tbody>\n",
       "    <tr>\n",
       "      <th>71</th>\n",
       "      <td>71</td>\n",
       "      <td>[-2.0081913, 1.8418145]</td>\n",
       "      <td>1</td>\n",
       "      <td>1</td>\n",
       "      <td>0.021056</td>\n",
       "    </tr>\n",
       "    <tr>\n",
       "      <th>102</th>\n",
       "      <td>102</td>\n",
       "      <td>[-1.0249251, 0.6990137]</td>\n",
       "      <td>1</td>\n",
       "      <td>1</td>\n",
       "      <td>0.164126</td>\n",
       "    </tr>\n",
       "    <tr>\n",
       "      <th>106</th>\n",
       "      <td>106</td>\n",
       "      <td>[0.52161086, -0.8465446]</td>\n",
       "      <td>0</td>\n",
       "      <td>1</td>\n",
       "      <td>1.594953</td>\n",
       "    </tr>\n",
       "    <tr>\n",
       "      <th>270</th>\n",
       "      <td>270</td>\n",
       "      <td>[-2.71085, 2.8720965]</td>\n",
       "      <td>1</td>\n",
       "      <td>1</td>\n",
       "      <td>0.003754</td>\n",
       "    </tr>\n",
       "    <tr>\n",
       "      <th>435</th>\n",
       "      <td>435</td>\n",
       "      <td>[-1.3103402, 0.9233117]</td>\n",
       "      <td>1</td>\n",
       "      <td>1</td>\n",
       "      <td>0.101777</td>\n",
       "    </tr>\n",
       "    <tr>\n",
       "      <th>700</th>\n",
       "      <td>700</td>\n",
       "      <td>[0.44713104, -0.37645823]</td>\n",
       "      <td>0</td>\n",
       "      <td>0</td>\n",
       "      <td>0.363847</td>\n",
       "    </tr>\n",
       "    <tr>\n",
       "      <th>860</th>\n",
       "      <td>860</td>\n",
       "      <td>[-1.8744478, 1.5857491]</td>\n",
       "      <td>1</td>\n",
       "      <td>1</td>\n",
       "      <td>0.030940</td>\n",
       "    </tr>\n",
       "  </tbody>\n",
       "</table>\n",
       "</div>"
      ],
      "text/plain": [
       "     test_guid                     logits  pred  label      loss\n",
       "71          71    [-2.0081913, 1.8418145]     1      1  0.021056\n",
       "102        102    [-1.0249251, 0.6990137]     1      1  0.164126\n",
       "106        106   [0.52161086, -0.8465446]     0      1  1.594953\n",
       "270        270      [-2.71085, 2.8720965]     1      1  0.003754\n",
       "435        435    [-1.3103402, 0.9233117]     1      1  0.101777\n",
       "700        700  [0.44713104, -0.37645823]     0      0  0.363847\n",
       "860        860    [-1.8744478, 1.5857491]     1      1  0.030940"
      ]
     },
     "execution_count": 12,
     "metadata": {},
     "output_type": "execute_result"
    }
   ],
   "source": [
    "test_guids = [71, 102, 106, 270, 435, 700, 860]\n",
    "\n",
    "fdf[fdf.test_guid.isin(test_guids)]"
   ]
  },
  {
   "cell_type": "code",
   "execution_count": 17,
   "id": "2feccaf5-64e2-4919-af07-5ed8841616c7",
   "metadata": {
    "execution": {
     "iopub.execute_input": "2023-05-05T00:56:27.121201Z",
     "iopub.status.busy": "2023-05-05T00:56:27.120579Z",
     "iopub.status.idle": "2023-05-05T00:56:27.194032Z",
     "shell.execute_reply": "2023-05-05T00:56:27.193334Z",
     "shell.execute_reply.started": "2023-05-05T00:56:27.121182Z"
    },
    "tags": []
   },
   "outputs": [
    {
     "data": {
      "text/plain": [
       "1.594953179359436"
      ]
     },
     "execution_count": 17,
     "metadata": {},
     "output_type": "execute_result"
    }
   ],
   "source": [
    "TEST_GUID = 106\n",
    "\n",
    "df = pd.read_csv(f\"loo_pct/{TEST_GUID}-sweep.csv\")\n",
    "base_line_loss = fdf[fdf.test_guid == TEST_GUID].loss.squeeze()\n",
    "\n",
    "rand = df[(df.type=='rand') & (df.test_guid==TEST_GUID)]\n",
    "rand = rand[['remove_pct', 'loss']]\n",
    "\n",
    "zero = df[(df.type=='zero') & (df.test_guid==TEST_GUID)]\n",
    "zero = zero[['remove_pct', 'loss']]\n",
    "\n",
    "top = df[(df.type=='top') & (df.test_guid==TEST_GUID)]\n",
    "top = top[['remove_pct', 'loss']]\n",
    "\n",
    "bot = df[(df.type=='bot') & (df.test_guid==TEST_GUID)]\n",
    "bot = bot[['remove_pct', 'loss']]\n",
    "base_line_loss"
   ]
  },
  {
   "cell_type": "code",
   "execution_count": 4,
   "id": "8e398978-10e4-4e0f-a69e-75aae047ae6f",
   "metadata": {
    "execution": {
     "iopub.execute_input": "2023-05-05T01:03:44.241076Z",
     "iopub.status.busy": "2023-05-05T01:03:44.240704Z",
     "iopub.status.idle": "2023-05-05T01:03:44.245823Z",
     "shell.execute_reply": "2023-05-05T01:03:44.245102Z",
     "shell.execute_reply.started": "2023-05-05T01:03:44.241058Z"
    },
    "tags": []
   },
   "outputs": [
    {
     "data": {
      "text/plain": [
       "[0.05,\n",
       " 0.1,\n",
       " 0.15000000000000002,\n",
       " 0.2,\n",
       " 0.25,\n",
       " 0.3,\n",
       " 0.35000000000000003,\n",
       " 0.4,\n",
       " 0.45,\n",
       " 0.5,\n",
       " 0.55,\n",
       " 0.6000000000000001,\n",
       " 0.6500000000000001,\n",
       " 0.7000000000000001,\n",
       " 0.7500000000000001]"
      ]
     },
     "execution_count": 4,
     "metadata": {},
     "output_type": "execute_result"
    }
   ],
   "source": [
    "import numpy as np\n",
    "\n",
    "list(np.arange(0.05, 0.8, 0.05))"
   ]
  },
  {
   "cell_type": "code",
   "execution_count": 20,
   "id": "1be7d3b1-6def-45db-a88b-2ff675f258c1",
   "metadata": {
    "execution": {
     "iopub.execute_input": "2023-05-05T00:57:39.411703Z",
     "iopub.status.busy": "2023-05-05T00:57:39.411276Z",
     "iopub.status.idle": "2023-05-05T00:57:39.442255Z",
     "shell.execute_reply": "2023-05-05T00:57:39.441529Z",
     "shell.execute_reply.started": "2023-05-05T00:57:39.411687Z"
    },
    "tags": []
   },
   "outputs": [
    {
     "data": {
      "text/html": [
       "<div>\n",
       "<style scoped>\n",
       "    .dataframe tbody tr th:only-of-type {\n",
       "        vertical-align: middle;\n",
       "    }\n",
       "\n",
       "    .dataframe tbody tr th {\n",
       "        vertical-align: top;\n",
       "    }\n",
       "\n",
       "    .dataframe thead th {\n",
       "        text-align: right;\n",
       "    }\n",
       "</style>\n",
       "<table border=\"1\" class=\"dataframe\">\n",
       "  <thead>\n",
       "    <tr style=\"text-align: right;\">\n",
       "      <th></th>\n",
       "      <th>test_guid</th>\n",
       "      <th>logits</th>\n",
       "      <th>pred</th>\n",
       "      <th>label</th>\n",
       "      <th>loss</th>\n",
       "      <th>type</th>\n",
       "      <th>remove_pct</th>\n",
       "    </tr>\n",
       "  </thead>\n",
       "  <tbody>\n",
       "    <tr>\n",
       "      <th>1850</th>\n",
       "      <td>106</td>\n",
       "      <td>[-0.451599    0.12666358]</td>\n",
       "      <td>1</td>\n",
       "      <td>1</td>\n",
       "      <td>0.445245</td>\n",
       "      <td>bot</td>\n",
       "      <td>0.05</td>\n",
       "    </tr>\n",
       "    <tr>\n",
       "      <th>5338</th>\n",
       "      <td>106</td>\n",
       "      <td>[-0.65939695  0.33446026]</td>\n",
       "      <td>1</td>\n",
       "      <td>1</td>\n",
       "      <td>0.314918</td>\n",
       "      <td>bot</td>\n",
       "      <td>0.10</td>\n",
       "    </tr>\n",
       "    <tr>\n",
       "      <th>8826</th>\n",
       "      <td>106</td>\n",
       "      <td>[-1.2866225   0.96168685]</td>\n",
       "      <td>1</td>\n",
       "      <td>1</td>\n",
       "      <td>0.100368</td>\n",
       "      <td>bot</td>\n",
       "      <td>0.15</td>\n",
       "    </tr>\n",
       "    <tr>\n",
       "      <th>12314</th>\n",
       "      <td>106</td>\n",
       "      <td>[-1.6933272  1.3683906]</td>\n",
       "      <td>1</td>\n",
       "      <td>1</td>\n",
       "      <td>0.045745</td>\n",
       "      <td>bot</td>\n",
       "      <td>0.20</td>\n",
       "    </tr>\n",
       "    <tr>\n",
       "      <th>15802</th>\n",
       "      <td>106</td>\n",
       "      <td>[-2.4104288  2.0854926]</td>\n",
       "      <td>1</td>\n",
       "      <td>1</td>\n",
       "      <td>0.011093</td>\n",
       "      <td>bot</td>\n",
       "      <td>0.25</td>\n",
       "    </tr>\n",
       "    <tr>\n",
       "      <th>19290</th>\n",
       "      <td>106</td>\n",
       "      <td>[-2.5788217  2.2538867]</td>\n",
       "      <td>1</td>\n",
       "      <td>1</td>\n",
       "      <td>0.007933</td>\n",
       "      <td>bot</td>\n",
       "      <td>0.30</td>\n",
       "    </tr>\n",
       "    <tr>\n",
       "      <th>22778</th>\n",
       "      <td>106</td>\n",
       "      <td>[-3.7416997  3.4167647]</td>\n",
       "      <td>1</td>\n",
       "      <td>1</td>\n",
       "      <td>0.000778</td>\n",
       "      <td>bot</td>\n",
       "      <td>0.35</td>\n",
       "    </tr>\n",
       "    <tr>\n",
       "      <th>26266</th>\n",
       "      <td>106</td>\n",
       "      <td>[-4.0320735  3.7071404]</td>\n",
       "      <td>1</td>\n",
       "      <td>1</td>\n",
       "      <td>0.000435</td>\n",
       "      <td>bot</td>\n",
       "      <td>0.40</td>\n",
       "    </tr>\n",
       "    <tr>\n",
       "      <th>29754</th>\n",
       "      <td>106</td>\n",
       "      <td>[-4.9508634  4.625931 ]</td>\n",
       "      <td>1</td>\n",
       "      <td>1</td>\n",
       "      <td>0.000069</td>\n",
       "      <td>bot</td>\n",
       "      <td>0.45</td>\n",
       "    </tr>\n",
       "    <tr>\n",
       "      <th>33242</th>\n",
       "      <td>106</td>\n",
       "      <td>[-4.981914  4.65698 ]</td>\n",
       "      <td>1</td>\n",
       "      <td>1</td>\n",
       "      <td>0.000065</td>\n",
       "      <td>bot</td>\n",
       "      <td>0.50</td>\n",
       "    </tr>\n",
       "    <tr>\n",
       "      <th>36730</th>\n",
       "      <td>106</td>\n",
       "      <td>[-5.0483813  4.7234473]</td>\n",
       "      <td>1</td>\n",
       "      <td>1</td>\n",
       "      <td>0.000057</td>\n",
       "      <td>bot</td>\n",
       "      <td>0.55</td>\n",
       "    </tr>\n",
       "    <tr>\n",
       "      <th>40218</th>\n",
       "      <td>106</td>\n",
       "      <td>[-5.228855  4.903923]</td>\n",
       "      <td>1</td>\n",
       "      <td>1</td>\n",
       "      <td>0.000040</td>\n",
       "      <td>bot</td>\n",
       "      <td>0.60</td>\n",
       "    </tr>\n",
       "    <tr>\n",
       "      <th>43706</th>\n",
       "      <td>106</td>\n",
       "      <td>[-5.1492405  4.8243074]</td>\n",
       "      <td>1</td>\n",
       "      <td>1</td>\n",
       "      <td>0.000047</td>\n",
       "      <td>bot</td>\n",
       "      <td>0.65</td>\n",
       "    </tr>\n",
       "    <tr>\n",
       "      <th>47194</th>\n",
       "      <td>106</td>\n",
       "      <td>[-4.658596  4.333664]</td>\n",
       "      <td>1</td>\n",
       "      <td>1</td>\n",
       "      <td>0.000124</td>\n",
       "      <td>bot</td>\n",
       "      <td>0.70</td>\n",
       "    </tr>\n",
       "    <tr>\n",
       "      <th>50682</th>\n",
       "      <td>106</td>\n",
       "      <td>[-4.469808   4.1448755]</td>\n",
       "      <td>1</td>\n",
       "      <td>1</td>\n",
       "      <td>0.000181</td>\n",
       "      <td>bot</td>\n",
       "      <td>0.75</td>\n",
       "    </tr>\n",
       "  </tbody>\n",
       "</table>\n",
       "</div>"
      ],
      "text/plain": [
       "       test_guid                     logits  pred  label      loss type  \\\n",
       "1850         106  [-0.451599    0.12666358]     1      1  0.445245  bot   \n",
       "5338         106  [-0.65939695  0.33446026]     1      1  0.314918  bot   \n",
       "8826         106  [-1.2866225   0.96168685]     1      1  0.100368  bot   \n",
       "12314        106    [-1.6933272  1.3683906]     1      1  0.045745  bot   \n",
       "15802        106    [-2.4104288  2.0854926]     1      1  0.011093  bot   \n",
       "19290        106    [-2.5788217  2.2538867]     1      1  0.007933  bot   \n",
       "22778        106    [-3.7416997  3.4167647]     1      1  0.000778  bot   \n",
       "26266        106    [-4.0320735  3.7071404]     1      1  0.000435  bot   \n",
       "29754        106    [-4.9508634  4.625931 ]     1      1  0.000069  bot   \n",
       "33242        106      [-4.981914  4.65698 ]     1      1  0.000065  bot   \n",
       "36730        106    [-5.0483813  4.7234473]     1      1  0.000057  bot   \n",
       "40218        106      [-5.228855  4.903923]     1      1  0.000040  bot   \n",
       "43706        106    [-5.1492405  4.8243074]     1      1  0.000047  bot   \n",
       "47194        106      [-4.658596  4.333664]     1      1  0.000124  bot   \n",
       "50682        106    [-4.469808   4.1448755]     1      1  0.000181  bot   \n",
       "\n",
       "       remove_pct  \n",
       "1850         0.05  \n",
       "5338         0.10  \n",
       "8826         0.15  \n",
       "12314        0.20  \n",
       "15802        0.25  \n",
       "19290        0.30  \n",
       "22778        0.35  \n",
       "26266        0.40  \n",
       "29754        0.45  \n",
       "33242        0.50  \n",
       "36730        0.55  \n",
       "40218        0.60  \n",
       "43706        0.65  \n",
       "47194        0.70  \n",
       "50682        0.75  "
      ]
     },
     "execution_count": 20,
     "metadata": {},
     "output_type": "execute_result"
    }
   ],
   "source": [
    "bot = df[(df.type=='bot') & (df.test_guid==TEST_GUID)]\n",
    "bot"
   ]
  },
  {
   "cell_type": "code",
   "execution_count": 18,
   "id": "c433e826-356c-40ba-abed-7be36f3acaad",
   "metadata": {
    "execution": {
     "iopub.execute_input": "2023-05-05T00:56:56.720794Z",
     "iopub.status.busy": "2023-05-05T00:56:56.720268Z",
     "iopub.status.idle": "2023-05-05T00:56:56.868883Z",
     "shell.execute_reply": "2023-05-05T00:56:56.868164Z",
     "shell.execute_reply.started": "2023-05-05T00:56:56.720776Z"
    },
    "tags": []
   },
   "outputs": [
    {
     "data": {
      "text/plain": [
       "[<matplotlib.lines.Line2D at 0x7f3347be2500>]"
      ]
     },
     "execution_count": 18,
     "metadata": {},
     "output_type": "execute_result"
    },
    {
     "data": {
      "image/png": "[encoded data removed]",
      "text/plain": [
       "<Figure size 640x480 with 1 Axes>"
      ]
     },
     "metadata": {},
     "output_type": "display_data"
    }
   ],
   "source": [
    "from matplotlib import pyplot as plt\n",
    "\n",
    "plt.plot(rand.remove_pct, rand.loss, 'g-')\n",
    "plt.plot(zero.remove_pct, zero.loss, 'g--')\n",
    "\n",
    "# plt.plot(top.remove_pct, top.loss, 'r-')\n",
    "plt.plot(bot.remove_pct, bot.loss, 'b-')"
   ]
  },
  {
   "cell_type": "code",
   "execution_count": 8,
   "id": "8babb175-9762-4dc4-82fe-eaa58148345c",
   "metadata": {
    "execution": {
     "iopub.execute_input": "2023-05-05T00:53:10.564822Z",
     "iopub.status.busy": "2023-05-05T00:53:10.564539Z",
     "iopub.status.idle": "2023-05-05T00:53:10.702604Z",
     "shell.execute_reply": "2023-05-05T00:53:10.701887Z",
     "shell.execute_reply.started": "2023-05-05T00:53:10.564804Z"
    },
    "tags": []
   },
   "outputs": [
    {
     "data": {
      "text/plain": [
       "[<matplotlib.lines.Line2D at 0x7f3384c3cf70>]"
      ]
     },
     "execution_count": 8,
     "metadata": {},
     "output_type": "execute_result"
    },
    {
     "data": {
      "image/png": "[encoded data removed]",
      "text/plain": [
       "<Figure size 640x480 with 1 Axes>"
      ]
     },
     "metadata": {},
     "output_type": "display_data"
    }
   ],
   "source": [
    "from matplotlib import pyplot as plt\n",
    "\n",
    "plt.plot(rand.remove_pct, rand.loss, 'g-')\n",
    "plt.plot(zero.remove_pct, zero.loss, 'g--')\n",
    "\n",
    "plt.plot(top.remove_pct, top.loss, 'r-')\n",
    "plt.plot(bot.remove_pct, bot.loss, 'b-')"
   ]
  },
  {
   "cell_type": "code",
   "execution_count": null,
   "id": "6e3223c5-5e09-4d1a-b4e9-153406a512b4",
   "metadata": {},
   "outputs": [],
   "source": []
  },
  {
   "cell_type": "code",
   "execution_count": null,
   "id": "9eba61c5-de00-4801-aa15-0dda3fdcf3b6",
   "metadata": {},
   "outputs": [],
   "source": []
  },
  {
   "cell_type": "code",
   "execution_count": null,
   "id": "60b27d99-951d-41df-9dca-be16cd93f377",
   "metadata": {},
   "outputs": [],
   "source": []
  }
 ],
 "metadata": {
  "kernelspec": {
   "display_name": "Python 3 (ipykernel)",
   "language": "python",
   "name": "python3"
  },
  "language_info": {
   "codemirror_mode": {
    "name": "ipython",
    "version": 3
   },
   "file_extension": ".py",
   "mimetype": "text/x-python",
   "name": "python",
   "nbconvert_exporter": "python",
   "pygments_lexer": "ipython3",
   "version": "3.10.10"
  }
 },
 "nbformat": 4,
 "nbformat_minor": 5
}
