{
 "cells": [
  {
   "cell_type": "code",
   "execution_count": 2,
   "id": "2622cac2-8734-4edb-b56a-894f9647d620",
   "metadata": {
    "execution": {
     "iopub.execute_input": "2023-05-07T21:24:34.859203Z",
     "iopub.status.busy": "2023-05-07T21:24:34.858552Z",
     "iopub.status.idle": "2023-05-07T21:24:34.883769Z",
     "shell.execute_reply": "2023-05-07T21:24:34.883017Z",
     "shell.execute_reply.started": "2023-05-07T21:24:34.859187Z"
    },
    "tags": []
   },
   "outputs": [
    {
     "name": "stdout",
     "output_type": "stream",
     "text": [
      "The autoreload extension is already loaded. To reload it, use:\n",
      "  %reload_ext autoreload\n"
     ]
    }
   ],
   "source": [
    "%load_ext autoreload\n",
    "%autoreload 2\n",
    "\n",
    "import argparse\n",
    "import os\n",
    "from pathlib import Path\n",
    "\n",
    "import numpy as np\n",
    "import pandas as pd\n",
    "import torch\n",
    "import yaml\n",
    "from torch.optim import Adam\n",
    "from torch.utils.data import DataLoader\n",
    "from tqdm import tqdm\n",
    "\n",
    "import src.BertClassifier as BertClassifier\n",
    "import src.utils as utils\n",
    "import wandb\n",
    "from src.datasets import create_loo_dataset, create_test_sst2, create_train_sst2\n",
    "\n",
    "device = utils.get_device()\n",
    "\n",
    "# config = utils.load_config(\n",
    "#     \"bert_classifier.yaml\", epochs=10, num_training_examples=1000\n",
    "# )\n",
    "\n",
    "# # Create datasets\n",
    "# train_dataset = create_train_sst2(\n",
    "#     device,\n",
    "#     num_samples=config[\"num_training_examples\"],\n",
    "#     tokenizer_name=config[\"bert_model_name\"],\n",
    "#     max_seq_len=config[\"max_sequence_length\"],\n",
    "# )\n",
    "\n",
    "# test_dataset = create_test_sst2(\n",
    "#     device,\n",
    "#     tokenizer_name=config[\"bert_model_name\"],\n",
    "#     max_seq_len=config[\"max_sequence_length\"],\n",
    "# )\n",
    "# test_dataloader = DataLoader(test_dataset, shuffle=False, batch_size=1)"
   ]
  },
  {
   "cell_type": "code",
   "execution_count": 3,
   "id": "2bcfad17-cfd3-44dd-b006-67699334571e",
   "metadata": {
    "execution": {
     "iopub.execute_input": "2023-05-07T21:25:18.209801Z",
     "iopub.status.busy": "2023-05-07T21:25:18.209146Z",
     "iopub.status.idle": "2023-05-07T21:25:18.254971Z",
     "shell.execute_reply": "2023-05-07T21:25:18.253979Z",
     "shell.execute_reply.started": "2023-05-07T21:25:18.209783Z"
    },
    "tags": []
   },
   "outputs": [],
   "source": [
    "guids = [1, 3, 4, 11, 12, 13, 102, 435]\n",
    "\n",
    "df = pd.read_csv('loo_pct_10k/1-sweep.csv')"
   ]
  },
  {
   "cell_type": "code",
   "execution_count": 5,
   "id": "aaef3ead-4aea-4e85-8a27-aee85fdb5ca9",
   "metadata": {
    "execution": {
     "iopub.execute_input": "2023-05-07T21:26:30.138485Z",
     "iopub.status.busy": "2023-05-07T21:26:30.138225Z",
     "iopub.status.idle": "2023-05-07T21:26:30.169131Z",
     "shell.execute_reply": "2023-05-07T21:26:30.168295Z",
     "shell.execute_reply.started": "2023-05-07T21:26:30.138469Z"
    },
    "tags": []
   },
   "outputs": [
    {
     "data": {
      "text/html": [
       "<div>\n",
       "<style scoped>\n",
       "    .dataframe tbody tr th:only-of-type {\n",
       "        vertical-align: middle;\n",
       "    }\n",
       "\n",
       "    .dataframe tbody tr th {\n",
       "        vertical-align: top;\n",
       "    }\n",
       "\n",
       "    .dataframe thead th {\n",
       "        text-align: right;\n",
       "    }\n",
       "</style>\n",
       "<table border=\"1\" class=\"dataframe\">\n",
       "  <thead>\n",
       "    <tr style=\"text-align: right;\">\n",
       "      <th></th>\n",
       "      <th>test_guid</th>\n",
       "      <th>logits</th>\n",
       "      <th>pred</th>\n",
       "      <th>label</th>\n",
       "      <th>loss</th>\n",
       "      <th>type</th>\n",
       "      <th>remove_pct</th>\n",
       "    </tr>\n",
       "  </thead>\n",
       "  <tbody>\n",
       "    <tr>\n",
       "      <th>1</th>\n",
       "      <td>1</td>\n",
       "      <td>[ 1.4445747 -1.3109552]</td>\n",
       "      <td>0</td>\n",
       "      <td>0</td>\n",
       "      <td>0.061636</td>\n",
       "      <td>rand</td>\n",
       "      <td>0.05</td>\n",
       "    </tr>\n",
       "    <tr>\n",
       "      <th>873</th>\n",
       "      <td>1</td>\n",
       "      <td>[ 0.83265924 -0.6990555 ]</td>\n",
       "      <td>0</td>\n",
       "      <td>0</td>\n",
       "      <td>0.195702</td>\n",
       "      <td>top</td>\n",
       "      <td>0.05</td>\n",
       "    </tr>\n",
       "    <tr>\n",
       "      <th>1745</th>\n",
       "      <td>1</td>\n",
       "      <td>[ 2.9275093 -2.7938893]</td>\n",
       "      <td>0</td>\n",
       "      <td>0</td>\n",
       "      <td>0.003270</td>\n",
       "      <td>bot</td>\n",
       "      <td>0.05</td>\n",
       "    </tr>\n",
       "    <tr>\n",
       "      <th>2617</th>\n",
       "      <td>1</td>\n",
       "      <td>[ 1.4685506 -1.3349336]</td>\n",
       "      <td>0</td>\n",
       "      <td>0</td>\n",
       "      <td>0.058833</td>\n",
       "      <td>zero</td>\n",
       "      <td>0.05</td>\n",
       "    </tr>\n",
       "    <tr>\n",
       "      <th>3489</th>\n",
       "      <td>1</td>\n",
       "      <td>[ 1.3481927 -1.2145786]</td>\n",
       "      <td>0</td>\n",
       "      <td>0</td>\n",
       "      <td>0.074264</td>\n",
       "      <td>rand</td>\n",
       "      <td>0.10</td>\n",
       "    </tr>\n",
       "    <tr>\n",
       "      <th>4361</th>\n",
       "      <td>1</td>\n",
       "      <td>[ 0.5487053  -0.41509557]</td>\n",
       "      <td>0</td>\n",
       "      <td>0</td>\n",
       "      <td>0.323127</td>\n",
       "      <td>top</td>\n",
       "      <td>0.10</td>\n",
       "    </tr>\n",
       "    <tr>\n",
       "      <th>5233</th>\n",
       "      <td>1</td>\n",
       "      <td>[ 3.6039524 -3.4703414]</td>\n",
       "      <td>0</td>\n",
       "      <td>0</td>\n",
       "      <td>0.000846</td>\n",
       "      <td>bot</td>\n",
       "      <td>0.10</td>\n",
       "    </tr>\n",
       "    <tr>\n",
       "      <th>6105</th>\n",
       "      <td>1</td>\n",
       "      <td>[ 1.5535678 -1.4199393]</td>\n",
       "      <td>0</td>\n",
       "      <td>0</td>\n",
       "      <td>0.049860</td>\n",
       "      <td>zero</td>\n",
       "      <td>0.10</td>\n",
       "    </tr>\n",
       "    <tr>\n",
       "      <th>6977</th>\n",
       "      <td>1</td>\n",
       "      <td>[ 1.2704108 -1.1367943]</td>\n",
       "      <td>0</td>\n",
       "      <td>0</td>\n",
       "      <td>0.086239</td>\n",
       "      <td>rand</td>\n",
       "      <td>0.15</td>\n",
       "    </tr>\n",
       "    <tr>\n",
       "      <th>7849</th>\n",
       "      <td>1</td>\n",
       "      <td>[ 0.43950123 -0.30589908]</td>\n",
       "      <td>0</td>\n",
       "      <td>0</td>\n",
       "      <td>0.388349</td>\n",
       "      <td>top</td>\n",
       "      <td>0.15</td>\n",
       "    </tr>\n",
       "    <tr>\n",
       "      <th>8721</th>\n",
       "      <td>1</td>\n",
       "      <td>[ 3.8820407 -3.748429 ]</td>\n",
       "      <td>0</td>\n",
       "      <td>0</td>\n",
       "      <td>0.000485</td>\n",
       "      <td>bot</td>\n",
       "      <td>0.15</td>\n",
       "    </tr>\n",
       "    <tr>\n",
       "      <th>9593</th>\n",
       "      <td>1</td>\n",
       "      <td>[ 1.3734136 -1.239786 ]</td>\n",
       "      <td>0</td>\n",
       "      <td>0</td>\n",
       "      <td>0.070738</td>\n",
       "      <td>zero</td>\n",
       "      <td>0.15</td>\n",
       "    </tr>\n",
       "    <tr>\n",
       "      <th>10465</th>\n",
       "      <td>1</td>\n",
       "      <td>[ 1.3896152 -1.255994 ]</td>\n",
       "      <td>0</td>\n",
       "      <td>0</td>\n",
       "      <td>0.068557</td>\n",
       "      <td>rand</td>\n",
       "      <td>0.20</td>\n",
       "    </tr>\n",
       "    <tr>\n",
       "      <th>11337</th>\n",
       "      <td>1</td>\n",
       "      <td>[ 0.5398792  -0.40627143]</td>\n",
       "      <td>0</td>\n",
       "      <td>0</td>\n",
       "      <td>0.328031</td>\n",
       "      <td>top</td>\n",
       "      <td>0.20</td>\n",
       "    </tr>\n",
       "    <tr>\n",
       "      <th>12209</th>\n",
       "      <td>1</td>\n",
       "      <td>[ 4.3530107 -4.219398 ]</td>\n",
       "      <td>0</td>\n",
       "      <td>0</td>\n",
       "      <td>0.000189</td>\n",
       "      <td>bot</td>\n",
       "      <td>0.20</td>\n",
       "    </tr>\n",
       "    <tr>\n",
       "      <th>13081</th>\n",
       "      <td>1</td>\n",
       "      <td>[ 1.4255875 -1.2919562]</td>\n",
       "      <td>0</td>\n",
       "      <td>0</td>\n",
       "      <td>0.063948</td>\n",
       "      <td>zero</td>\n",
       "      <td>0.20</td>\n",
       "    </tr>\n",
       "    <tr>\n",
       "      <th>13953</th>\n",
       "      <td>1</td>\n",
       "      <td>[ 1.5757583 -1.4421337]</td>\n",
       "      <td>0</td>\n",
       "      <td>0</td>\n",
       "      <td>0.047746</td>\n",
       "      <td>rand</td>\n",
       "      <td>0.25</td>\n",
       "    </tr>\n",
       "    <tr>\n",
       "      <th>14825</th>\n",
       "      <td>1</td>\n",
       "      <td>[0.05940186 0.07420776]</td>\n",
       "      <td>1</td>\n",
       "      <td>0</td>\n",
       "      <td>0.700578</td>\n",
       "      <td>top</td>\n",
       "      <td>0.25</td>\n",
       "    </tr>\n",
       "    <tr>\n",
       "      <th>15697</th>\n",
       "      <td>1</td>\n",
       "      <td>[ 4.8490567 -4.7154484]</td>\n",
       "      <td>0</td>\n",
       "      <td>0</td>\n",
       "      <td>0.000070</td>\n",
       "      <td>bot</td>\n",
       "      <td>0.25</td>\n",
       "    </tr>\n",
       "    <tr>\n",
       "      <th>16569</th>\n",
       "      <td>1</td>\n",
       "      <td>[ 1.2032921 -1.0696654]</td>\n",
       "      <td>0</td>\n",
       "      <td>0</td>\n",
       "      <td>0.098040</td>\n",
       "      <td>zero</td>\n",
       "      <td>0.25</td>\n",
       "    </tr>\n",
       "    <tr>\n",
       "      <th>17441</th>\n",
       "      <td>1</td>\n",
       "      <td>[ 1.3206366 -1.1870031]</td>\n",
       "      <td>0</td>\n",
       "      <td>0</td>\n",
       "      <td>0.078312</td>\n",
       "      <td>rand</td>\n",
       "      <td>0.30</td>\n",
       "    </tr>\n",
       "    <tr>\n",
       "      <th>18313</th>\n",
       "      <td>1</td>\n",
       "      <td>[-0.18999322  0.32360116]</td>\n",
       "      <td>1</td>\n",
       "      <td>0</td>\n",
       "      <td>0.982561</td>\n",
       "      <td>top</td>\n",
       "      <td>0.30</td>\n",
       "    </tr>\n",
       "    <tr>\n",
       "      <th>19185</th>\n",
       "      <td>1</td>\n",
       "      <td>[ 5.0338054 -4.9001975]</td>\n",
       "      <td>0</td>\n",
       "      <td>0</td>\n",
       "      <td>0.000049</td>\n",
       "      <td>bot</td>\n",
       "      <td>0.30</td>\n",
       "    </tr>\n",
       "    <tr>\n",
       "      <th>20057</th>\n",
       "      <td>1</td>\n",
       "      <td>[ 1.1711546 -1.037523 ]</td>\n",
       "      <td>0</td>\n",
       "      <td>0</td>\n",
       "      <td>0.104221</td>\n",
       "      <td>zero</td>\n",
       "      <td>0.30</td>\n",
       "    </tr>\n",
       "    <tr>\n",
       "      <th>20929</th>\n",
       "      <td>1</td>\n",
       "      <td>[ 1.2178534 -1.0842224]</td>\n",
       "      <td>0</td>\n",
       "      <td>0</td>\n",
       "      <td>0.095356</td>\n",
       "      <td>rand</td>\n",
       "      <td>0.40</td>\n",
       "    </tr>\n",
       "    <tr>\n",
       "      <th>21801</th>\n",
       "      <td>1</td>\n",
       "      <td>[-1.9191269  2.052719 ]</td>\n",
       "      <td>1</td>\n",
       "      <td>0</td>\n",
       "      <td>3.990510</td>\n",
       "      <td>top</td>\n",
       "      <td>0.40</td>\n",
       "    </tr>\n",
       "    <tr>\n",
       "      <th>22673</th>\n",
       "      <td>1</td>\n",
       "      <td>[ 5.7603045 -5.626695 ]</td>\n",
       "      <td>0</td>\n",
       "      <td>0</td>\n",
       "      <td>0.000011</td>\n",
       "      <td>bot</td>\n",
       "      <td>0.40</td>\n",
       "    </tr>\n",
       "    <tr>\n",
       "      <th>23545</th>\n",
       "      <td>1</td>\n",
       "      <td>[ 1.1718447 -1.0382004]</td>\n",
       "      <td>0</td>\n",
       "      <td>0</td>\n",
       "      <td>0.104086</td>\n",
       "      <td>zero</td>\n",
       "      <td>0.40</td>\n",
       "    </tr>\n",
       "    <tr>\n",
       "      <th>24417</th>\n",
       "      <td>1</td>\n",
       "      <td>[ 1.4084864 -1.2748443]</td>\n",
       "      <td>0</td>\n",
       "      <td>0</td>\n",
       "      <td>0.066102</td>\n",
       "      <td>rand</td>\n",
       "      <td>0.50</td>\n",
       "    </tr>\n",
       "    <tr>\n",
       "      <th>25289</th>\n",
       "      <td>1</td>\n",
       "      <td>[-9.569051  9.70259 ]</td>\n",
       "      <td>1</td>\n",
       "      <td>0</td>\n",
       "      <td>19.271641</td>\n",
       "      <td>top</td>\n",
       "      <td>0.50</td>\n",
       "    </tr>\n",
       "    <tr>\n",
       "      <th>26161</th>\n",
       "      <td>1</td>\n",
       "      <td>[ 6.2965884 -6.162979 ]</td>\n",
       "      <td>0</td>\n",
       "      <td>0</td>\n",
       "      <td>0.000004</td>\n",
       "      <td>bot</td>\n",
       "      <td>0.50</td>\n",
       "    </tr>\n",
       "    <tr>\n",
       "      <th>27033</th>\n",
       "      <td>1</td>\n",
       "      <td>[ 0.9069178 -0.7732666]</td>\n",
       "      <td>0</td>\n",
       "      <td>0</td>\n",
       "      <td>0.170873</td>\n",
       "      <td>zero</td>\n",
       "      <td>0.50</td>\n",
       "    </tr>\n",
       "    <tr>\n",
       "      <th>27905</th>\n",
       "      <td>1</td>\n",
       "      <td>[ 1.2381381 -1.1044933]</td>\n",
       "      <td>0</td>\n",
       "      <td>0</td>\n",
       "      <td>0.091735</td>\n",
       "      <td>rand</td>\n",
       "      <td>0.60</td>\n",
       "    </tr>\n",
       "    <tr>\n",
       "      <th>28777</th>\n",
       "      <td>1</td>\n",
       "      <td>[-9.825722  9.959275]</td>\n",
       "      <td>1</td>\n",
       "      <td>0</td>\n",
       "      <td>19.784996</td>\n",
       "      <td>top</td>\n",
       "      <td>0.60</td>\n",
       "    </tr>\n",
       "    <tr>\n",
       "      <th>29649</th>\n",
       "      <td>1</td>\n",
       "      <td>[ 9.374328 -9.240766]</td>\n",
       "      <td>0</td>\n",
       "      <td>0</td>\n",
       "      <td>-0.000000</td>\n",
       "      <td>bot</td>\n",
       "      <td>0.60</td>\n",
       "    </tr>\n",
       "    <tr>\n",
       "      <th>30521</th>\n",
       "      <td>1</td>\n",
       "      <td>[ 0.38372383 -0.25006297]</td>\n",
       "      <td>0</td>\n",
       "      <td>0</td>\n",
       "      <td>0.425646</td>\n",
       "      <td>zero</td>\n",
       "      <td>0.60</td>\n",
       "    </tr>\n",
       "    <tr>\n",
       "      <th>31393</th>\n",
       "      <td>1</td>\n",
       "      <td>[ 1.2948684 -1.1612208]</td>\n",
       "      <td>0</td>\n",
       "      <td>0</td>\n",
       "      <td>0.082289</td>\n",
       "      <td>rand</td>\n",
       "      <td>0.70</td>\n",
       "    </tr>\n",
       "    <tr>\n",
       "      <th>32265</th>\n",
       "      <td>1</td>\n",
       "      <td>[-8.620364  8.753955]</td>\n",
       "      <td>1</td>\n",
       "      <td>0</td>\n",
       "      <td>17.374319</td>\n",
       "      <td>top</td>\n",
       "      <td>0.70</td>\n",
       "    </tr>\n",
       "    <tr>\n",
       "      <th>33137</th>\n",
       "      <td>1</td>\n",
       "      <td>[ 8.934995 -8.801443]</td>\n",
       "      <td>0</td>\n",
       "      <td>0</td>\n",
       "      <td>-0.000000</td>\n",
       "      <td>bot</td>\n",
       "      <td>0.70</td>\n",
       "    </tr>\n",
       "    <tr>\n",
       "      <th>34009</th>\n",
       "      <td>1</td>\n",
       "      <td>[ 0.1930658 -0.0593977]</td>\n",
       "      <td>0</td>\n",
       "      <td>0</td>\n",
       "      <td>0.574862</td>\n",
       "      <td>zero</td>\n",
       "      <td>0.70</td>\n",
       "    </tr>\n",
       "  </tbody>\n",
       "</table>\n",
       "</div>"
      ],
      "text/plain": [
       "       test_guid                     logits  pred  label       loss  type  \\\n",
       "1              1    [ 1.4445747 -1.3109552]     0      0   0.061636  rand   \n",
       "873            1  [ 0.83265924 -0.6990555 ]     0      0   0.195702   top   \n",
       "1745           1    [ 2.9275093 -2.7938893]     0      0   0.003270   bot   \n",
       "2617           1    [ 1.4685506 -1.3349336]     0      0   0.058833  zero   \n",
       "3489           1    [ 1.3481927 -1.2145786]     0      0   0.074264  rand   \n",
       "4361           1  [ 0.5487053  -0.41509557]     0      0   0.323127   top   \n",
       "5233           1    [ 3.6039524 -3.4703414]     0      0   0.000846   bot   \n",
       "6105           1    [ 1.5535678 -1.4199393]     0      0   0.049860  zero   \n",
       "6977           1    [ 1.2704108 -1.1367943]     0      0   0.086239  rand   \n",
       "7849           1  [ 0.43950123 -0.30589908]     0      0   0.388349   top   \n",
       "8721           1    [ 3.8820407 -3.748429 ]     0      0   0.000485   bot   \n",
       "9593           1    [ 1.3734136 -1.239786 ]     0      0   0.070738  zero   \n",
       "10465          1    [ 1.3896152 -1.255994 ]     0      0   0.068557  rand   \n",
       "11337          1  [ 0.5398792  -0.40627143]     0      0   0.328031   top   \n",
       "12209          1    [ 4.3530107 -4.219398 ]     0      0   0.000189   bot   \n",
       "13081          1    [ 1.4255875 -1.2919562]     0      0   0.063948  zero   \n",
       "13953          1    [ 1.5757583 -1.4421337]     0      0   0.047746  rand   \n",
       "14825          1    [0.05940186 0.07420776]     1      0   0.700578   top   \n",
       "15697          1    [ 4.8490567 -4.7154484]     0      0   0.000070   bot   \n",
       "16569          1    [ 1.2032921 -1.0696654]     0      0   0.098040  zero   \n",
       "17441          1    [ 1.3206366 -1.1870031]     0      0   0.078312  rand   \n",
       "18313          1  [-0.18999322  0.32360116]     1      0   0.982561   top   \n",
       "19185          1    [ 5.0338054 -4.9001975]     0      0   0.000049   bot   \n",
       "20057          1    [ 1.1711546 -1.037523 ]     0      0   0.104221  zero   \n",
       "20929          1    [ 1.2178534 -1.0842224]     0      0   0.095356  rand   \n",
       "21801          1    [-1.9191269  2.052719 ]     1      0   3.990510   top   \n",
       "22673          1    [ 5.7603045 -5.626695 ]     0      0   0.000011   bot   \n",
       "23545          1    [ 1.1718447 -1.0382004]     0      0   0.104086  zero   \n",
       "24417          1    [ 1.4084864 -1.2748443]     0      0   0.066102  rand   \n",
       "25289          1      [-9.569051  9.70259 ]     1      0  19.271641   top   \n",
       "26161          1    [ 6.2965884 -6.162979 ]     0      0   0.000004   bot   \n",
       "27033          1    [ 0.9069178 -0.7732666]     0      0   0.170873  zero   \n",
       "27905          1    [ 1.2381381 -1.1044933]     0      0   0.091735  rand   \n",
       "28777          1      [-9.825722  9.959275]     1      0  19.784996   top   \n",
       "29649          1      [ 9.374328 -9.240766]     0      0  -0.000000   bot   \n",
       "30521          1  [ 0.38372383 -0.25006297]     0      0   0.425646  zero   \n",
       "31393          1    [ 1.2948684 -1.1612208]     0      0   0.082289  rand   \n",
       "32265          1      [-8.620364  8.753955]     1      0  17.374319   top   \n",
       "33137          1      [ 8.934995 -8.801443]     0      0  -0.000000   bot   \n",
       "34009          1    [ 0.1930658 -0.0593977]     0      0   0.574862  zero   \n",
       "\n",
       "       remove_pct  \n",
       "1            0.05  \n",
       "873          0.05  \n",
       "1745         0.05  \n",
       "2617         0.05  \n",
       "3489         0.10  \n",
       "4361         0.10  \n",
       "5233         0.10  \n",
       "6105         0.10  \n",
       "6977         0.15  \n",
       "7849         0.15  \n",
       "8721         0.15  \n",
       "9593         0.15  \n",
       "10465        0.20  \n",
       "11337        0.20  \n",
       "12209        0.20  \n",
       "13081        0.20  \n",
       "13953        0.25  \n",
       "14825        0.25  \n",
       "15697        0.25  \n",
       "16569        0.25  \n",
       "17441        0.30  \n",
       "18313        0.30  \n",
       "19185        0.30  \n",
       "20057        0.30  \n",
       "20929        0.40  \n",
       "21801        0.40  \n",
       "22673        0.40  \n",
       "23545        0.40  \n",
       "24417        0.50  \n",
       "25289        0.50  \n",
       "26161        0.50  \n",
       "27033        0.50  \n",
       "27905        0.60  \n",
       "28777        0.60  \n",
       "29649        0.60  \n",
       "30521        0.60  \n",
       "31393        0.70  \n",
       "32265        0.70  \n",
       "33137        0.70  \n",
       "34009        0.70  "
      ]
     },
     "execution_count": 5,
     "metadata": {},
     "output_type": "execute_result"
    }
   ],
   "source": [
    "df[df.test_guid == 1]"
   ]
  },
  {
   "cell_type": "code",
   "execution_count": 21,
   "id": "920e8ceb-49cb-4aa7-a1d0-d90b3a6ade2b",
   "metadata": {
    "execution": {
     "iopub.execute_input": "2023-05-05T03:50:48.106851Z",
     "iopub.status.busy": "2023-05-05T03:50:48.106616Z",
     "iopub.status.idle": "2023-05-05T03:52:44.141334Z",
     "shell.execute_reply": "2023-05-05T03:52:44.140319Z",
     "shell.execute_reply.started": "2023-05-05T03:50:48.106834Z"
    },
    "tags": []
   },
   "outputs": [
    {
     "name": "stderr",
     "output_type": "stream",
     "text": [
      "Some weights of the model checkpoint at distilbert-base-uncased were not used when initializing DistilBertModel: ['vocab_transform.bias', 'vocab_projector.weight', 'vocab_layer_norm.weight', 'vocab_layer_norm.bias', 'vocab_transform.weight', 'vocab_projector.bias']\n",
      "- This IS expected if you are initializing DistilBertModel from the checkpoint of a model trained on another task or with another architecture (e.g. initializing a BertForSequenceClassification model from a BertForPreTraining model).\n",
      "- This IS NOT expected if you are initializing DistilBertModel from the checkpoint of a model that you expect to be exactly identical (initializing a BertForSequenceClassification model from a BertForSequenceClassification model).\n",
      "\u001b[34m\u001b[1mwandb\u001b[0m: Currently logged in as: \u001b[33mpatcao\u001b[0m. Use \u001b[1m`wandb login --relogin`\u001b[0m to force relogin\n"
     ]
    },
    {
     "data": {
      "text/html": [
       "wandb version 0.15.1 is available!  To upgrade, please run:\n",
       " $ pip install wandb --upgrade"
      ],
      "text/plain": [
       "<IPython.core.display.HTML object>"
      ]
     },
     "metadata": {},
     "output_type": "display_data"
    },
    {
     "data": {
      "text/html": [
       "Tracking run with wandb version 0.15.0"
      ],
      "text/plain": [
       "<IPython.core.display.HTML object>"
      ]
     },
     "metadata": {},
     "output_type": "display_data"
    },
    {
     "data": {
      "text/html": [
       "Run data is saved locally in <code>/home/pcao/sentiment-influence-function/wandb/run-20230504_235049-q1wmqgii</code>"
      ],
      "text/plain": [
       "<IPython.core.display.HTML object>"
      ]
     },
     "metadata": {},
     "output_type": "display_data"
    },
    {
     "data": {
      "text/html": [
       "Syncing run <strong><a href='https://wandb.ai/patcao/LOO-test/runs/q1wmqgii' target=\"_blank\">clone-lightsaber-189</a></strong> to <a href='https://wandb.ai/patcao/LOO-test' target=\"_blank\">Weights & Biases</a> (<a href='https://wandb.me/run' target=\"_blank\">docs</a>)<br/>"
      ],
      "text/plain": [
       "<IPython.core.display.HTML object>"
      ]
     },
     "metadata": {},
     "output_type": "display_data"
    },
    {
     "data": {
      "text/html": [
       " View project at <a href='https://wandb.ai/patcao/LOO-test' target=\"_blank\">https://wandb.ai/patcao/LOO-test</a>"
      ],
      "text/plain": [
       "<IPython.core.display.HTML object>"
      ]
     },
     "metadata": {},
     "output_type": "display_data"
    },
    {
     "data": {
      "text/html": [
       " View run at <a href='https://wandb.ai/patcao/LOO-test/runs/q1wmqgii' target=\"_blank\">https://wandb.ai/patcao/LOO-test/runs/q1wmqgii</a>"
      ],
      "text/plain": [
       "<IPython.core.display.HTML object>"
      ]
     },
     "metadata": {},
     "output_type": "display_data"
    },
    {
     "name": "stderr",
     "output_type": "stream",
     "text": [
      "100%|██████████████████████████████████████████████████████████████████████████████████████████████████████████████████| 625/625 [00:20<00:00, 30.15batch/s]\n",
      "100%|██████████████████████████████████████████████████████████████████████████████████████████████████████████████████| 625/625 [00:20<00:00, 30.84batch/s]\n",
      "100%|██████████████████████████████████████████████████████████████████████████████████████████████████████████████████| 625/625 [00:20<00:00, 30.86batch/s]\n",
      "100%|██████████████████████████████████████████████████████████████████████████████████████████████████████████████████| 625/625 [00:20<00:00, 30.81batch/s]\n",
      "100%|██████████████████████████████████████████████████████████████████████████████████████████████████████████████████| 625/625 [00:20<00:00, 30.86batch/s]\n"
     ]
    },
    {
     "data": {
      "text/html": [
       "Waiting for W&B process to finish... <strong style=\"color:green\">(success).</strong>"
      ],
      "text/plain": [
       "<IPython.core.display.HTML object>"
      ]
     },
     "metadata": {},
     "output_type": "display_data"
    },
    {
     "data": {
      "application/vnd.jupyter.widget-view+json": {
       "model_id": "747591e181774d81b1e23accd0d415b6",
       "version_major": 2,
       "version_minor": 0
      },
      "text/plain": [
       "VBox(children=(Label(value='0.003 MB of 0.003 MB uploaded (0.000 MB deduped)\\r'), FloatProgress(value=1.0, max…"
      ]
     },
     "metadata": {},
     "output_type": "display_data"
    },
    {
     "data": {
      "text/html": [
       "<style>\n",
       "    table.wandb td:nth-child(1) { padding: 0 10px; text-align: left ; width: auto;} td:nth-child(2) {text-align: left ; width: 100%}\n",
       "    .wandb-row { display: flex; flex-direction: row; flex-wrap: wrap; justify-content: flex-start; width: 100% }\n",
       "    .wandb-col { display: flex; flex-direction: column; flex-basis: 100%; flex: 1; padding: 10px; }\n",
       "    </style>\n",
       "<div class=\"wandb-row\"><div class=\"wandb-col\"><h3>Run history:</h3><br/><table class=\"wandb\"><tr><td>epoch</td><td>▁▃▅▆█</td></tr><tr><td>train/accuracy</td><td>▁▇▇██</td></tr><tr><td>train/batch_loss</td><td>▇▆▅▅▅▄▃▆█▄▅▂▇▄▆▃▃▆▂▃▅▁▂▂▃▂▃▄▁▄▂▂▆█▂▃▅▅▂▃</td></tr><tr><td>train/loss</td><td>█▃▃▂▁</td></tr></table><br/></div><div class=\"wandb-col\"><h3>Run summary:</h3><br/><table class=\"wandb\"><tr><td>epoch</td><td>5</td></tr><tr><td>test/accuracy</td><td>83.83028</td></tr><tr><td>test/loss</td><td>0.38231</td></tr><tr><td>train/accuracy</td><td>84.2</td></tr><tr><td>train/batch_loss</td><td>0.08196</td></tr><tr><td>train/loss</td><td>0.35668</td></tr></table><br/></div></div>"
      ],
      "text/plain": [
       "<IPython.core.display.HTML object>"
      ]
     },
     "metadata": {},
     "output_type": "display_data"
    },
    {
     "data": {
      "text/html": [
       " View run <strong style=\"color:#cdcd00\">clone-lightsaber-189</strong> at: <a href='https://wandb.ai/patcao/LOO-test/runs/q1wmqgii' target=\"_blank\">https://wandb.ai/patcao/LOO-test/runs/q1wmqgii</a><br/>Synced 6 W&B file(s), 0 media file(s), 0 artifact file(s) and 0 other file(s)"
      ],
      "text/plain": [
       "<IPython.core.display.HTML object>"
      ]
     },
     "metadata": {},
     "output_type": "display_data"
    },
    {
     "data": {
      "text/html": [
       "Find logs at: <code>./wandb/run-20230504_235049-q1wmqgii/logs</code>"
      ],
      "text/plain": [
       "<IPython.core.display.HTML object>"
      ]
     },
     "metadata": {},
     "output_type": "display_data"
    }
   ],
   "source": [
    "def train_model(\n",
    "    train_dataset, test_dataset, config, wandb_project=\"LOO-test\", wandb_tags=None\n",
    "):\n",
    "    train_dataloader = DataLoader(\n",
    "        train_dataset, batch_size=config[\"batch_size\"], shuffle=True\n",
    "    )\n",
    "\n",
    "    # Create classifcation model\n",
    "    model = BertClassifier.create_bert_classifier(\n",
    "        config[\"bert_model_name\"],\n",
    "        classifier_type=config[\"classifier_type\"],\n",
    "        classifier_hidden_size=config[\"classifier_hidden_size\"],\n",
    "        classifier_drop_out=config[\"classifier_drop_out\"],\n",
    "        freeze_bert=True,\n",
    "        # random_state=42,\n",
    "    )\n",
    "    model.classifier.load_state_dict(\n",
    "        torch.load(\"loo_10k/run_0/init_classifier_params.pt\")\n",
    "    )\n",
    "    # torch.save(model.classifier.state_dict(), 'classifier_params.pt')\n",
    "\n",
    "    optimizer = Adam(model.classifier.parameters(), lr=config[\"learning_rate\"])\n",
    "    loss_fn = torch.nn.CrossEntropyLoss()\n",
    "\n",
    "    run = wandb.init(project=wandb_project, tags=wandb_tags, config=config)\n",
    "\n",
    "    utils.train(\n",
    "        config=config,\n",
    "        model=model,\n",
    "        optimizer=optimizer,\n",
    "        train_dataloader=train_dataloader,\n",
    "        val_dataloader=None,\n",
    "    )\n",
    "\n",
    "    fdf, test_loss, test_acc = utils.evaluate_loss_df(model, test_dataloader)\n",
    "    wandb.summary[\"test/loss\"] = test_loss\n",
    "    wandb.summary[\"test/accuracy\"] = test_acc\n",
    "    wandb.finish()\n",
    "\n",
    "    return model, fdf, test_loss, test_acc\n",
    "\n",
    "\n",
    "full_model, fdf, full_test_loss, full_test_acc = train_model(\n",
    "    train_dataset, test_dataset, config\n",
    ")"
   ]
  },
  {
   "cell_type": "code",
   "execution_count": 34,
   "id": "1a4b942d-5f8d-466a-98d0-219daf451c2a",
   "metadata": {
    "execution": {
     "iopub.execute_input": "2023-05-05T04:04:00.837147Z",
     "iopub.status.busy": "2023-05-05T04:04:00.836919Z",
     "iopub.status.idle": "2023-05-05T04:04:00.861102Z",
     "shell.execute_reply": "2023-05-05T04:04:00.860316Z",
     "shell.execute_reply.started": "2023-05-05T04:04:00.837131Z"
    },
    "tags": []
   },
   "outputs": [],
   "source": [
    "firstq_loss = fdf.loss.quantile(0.25)\n",
    "median_loss = fdf.loss.quantile(0.5)\n",
    "thirdq_loss = fdf.loss.quantile(0.75)"
   ]
  },
  {
   "cell_type": "code",
   "execution_count": 42,
   "id": "fa4c8c90-21e2-43ad-aa2a-6acc5051a2c8",
   "metadata": {
    "execution": {
     "iopub.execute_input": "2023-05-05T04:06:12.212714Z",
     "iopub.status.busy": "2023-05-05T04:06:12.212484Z",
     "iopub.status.idle": "2023-05-05T04:06:12.233705Z",
     "shell.execute_reply": "2023-05-05T04:06:12.232939Z",
     "shell.execute_reply.started": "2023-05-05T04:06:12.212697Z"
    },
    "tags": []
   },
   "outputs": [],
   "source": [
    "df = fdf.copy()"
   ]
  },
  {
   "cell_type": "code",
   "execution_count": 48,
   "id": "e6817ab5-4137-433b-bd8f-69056850e627",
   "metadata": {
    "execution": {
     "iopub.execute_input": "2023-05-05T04:07:57.858673Z",
     "iopub.status.busy": "2023-05-05T04:07:57.858448Z",
     "iopub.status.idle": "2023-05-05T04:07:57.884487Z",
     "shell.execute_reply": "2023-05-05T04:07:57.883731Z",
     "shell.execute_reply.started": "2023-05-05T04:07:57.858657Z"
    },
    "tags": []
   },
   "outputs": [],
   "source": [
    "# df = df.sort_values('loss')\n",
    "# df['rank'] = 1\n",
    "# df['rank'] = df['rank'].cumsum()\n",
    "# df.sort_index().iloc[:15]"
   ]
  },
  {
   "cell_type": "code",
   "execution_count": 49,
   "id": "c651147e-c978-4652-b4b0-f8734c279571",
   "metadata": {
    "execution": {
     "iopub.execute_input": "2023-05-05T04:07:59.767991Z",
     "iopub.status.busy": "2023-05-05T04:07:59.767753Z",
     "iopub.status.idle": "2023-05-05T04:07:59.797445Z",
     "shell.execute_reply": "2023-05-05T04:07:59.795234Z",
     "shell.execute_reply.started": "2023-05-05T04:07:59.767975Z"
    },
    "tags": []
   },
   "outputs": [
    {
     "data": {
      "text/html": [
       "<div>\n",
       "<style scoped>\n",
       "    .dataframe tbody tr th:only-of-type {\n",
       "        vertical-align: middle;\n",
       "    }\n",
       "\n",
       "    .dataframe tbody tr th {\n",
       "        vertical-align: top;\n",
       "    }\n",
       "\n",
       "    .dataframe thead th {\n",
       "        text-align: right;\n",
       "    }\n",
       "</style>\n",
       "<table border=\"1\" class=\"dataframe\">\n",
       "  <thead>\n",
       "    <tr style=\"text-align: right;\">\n",
       "      <th></th>\n",
       "      <th>test_guid</th>\n",
       "      <th>logits</th>\n",
       "      <th>pred</th>\n",
       "      <th>label</th>\n",
       "      <th>loss</th>\n",
       "    </tr>\n",
       "  </thead>\n",
       "  <tbody>\n",
       "    <tr>\n",
       "      <th>1</th>\n",
       "      <td>1</td>\n",
       "      <td>[1.5613662, -1.4277569]</td>\n",
       "      <td>0</td>\n",
       "      <td>0</td>\n",
       "      <td>0.049106</td>\n",
       "    </tr>\n",
       "    <tr>\n",
       "      <th>3</th>\n",
       "      <td>3</td>\n",
       "      <td>[-1.7622392, 1.5963509]</td>\n",
       "      <td>1</td>\n",
       "      <td>1</td>\n",
       "      <td>0.034193</td>\n",
       "    </tr>\n",
       "  </tbody>\n",
       "</table>\n",
       "</div>"
      ],
      "text/plain": [
       "   test_guid                   logits  pred  label      loss\n",
       "1          1  [1.5613662, -1.4277569]     0      0  0.049106\n",
       "3          3  [-1.7622392, 1.5963509]     1      1  0.034193"
      ]
     },
     "execution_count": 49,
     "metadata": {},
     "output_type": "execute_result"
    }
   ],
   "source": [
    "fdf[(fdf.loss >= firstq_loss) & (fdf.loss < median_loss)].iloc[:2]"
   ]
  },
  {
   "cell_type": "code",
   "execution_count": 50,
   "id": "fdc0c6a6-b315-4b35-8e41-e466316d18f6",
   "metadata": {
    "execution": {
     "iopub.execute_input": "2023-05-05T04:08:00.683370Z",
     "iopub.status.busy": "2023-05-05T04:08:00.682832Z",
     "iopub.status.idle": "2023-05-05T04:08:00.710131Z",
     "shell.execute_reply": "2023-05-05T04:08:00.709038Z",
     "shell.execute_reply.started": "2023-05-05T04:08:00.683352Z"
    },
    "tags": []
   },
   "outputs": [
    {
     "data": {
      "text/html": [
       "<div>\n",
       "<style scoped>\n",
       "    .dataframe tbody tr th:only-of-type {\n",
       "        vertical-align: middle;\n",
       "    }\n",
       "\n",
       "    .dataframe tbody tr th {\n",
       "        vertical-align: top;\n",
       "    }\n",
       "\n",
       "    .dataframe thead th {\n",
       "        text-align: right;\n",
       "    }\n",
       "</style>\n",
       "<table border=\"1\" class=\"dataframe\">\n",
       "  <thead>\n",
       "    <tr style=\"text-align: right;\">\n",
       "      <th></th>\n",
       "      <th>test_guid</th>\n",
       "      <th>logits</th>\n",
       "      <th>pred</th>\n",
       "      <th>label</th>\n",
       "      <th>loss</th>\n",
       "    </tr>\n",
       "  </thead>\n",
       "  <tbody>\n",
       "    <tr>\n",
       "      <th>4</th>\n",
       "      <td>4</td>\n",
       "      <td>[0.900454, -1.1592299]</td>\n",
       "      <td>0</td>\n",
       "      <td>0</td>\n",
       "      <td>0.119998</td>\n",
       "    </tr>\n",
       "    <tr>\n",
       "      <th>12</th>\n",
       "      <td>12</td>\n",
       "      <td>[0.6718131, -0.91679406]</td>\n",
       "      <td>0</td>\n",
       "      <td>0</td>\n",
       "      <td>0.185824</td>\n",
       "    </tr>\n",
       "  </tbody>\n",
       "</table>\n",
       "</div>"
      ],
      "text/plain": [
       "    test_guid                    logits  pred  label      loss\n",
       "4           4    [0.900454, -1.1592299]     0      0  0.119998\n",
       "12         12  [0.6718131, -0.91679406]     0      0  0.185824"
      ]
     },
     "execution_count": 50,
     "metadata": {},
     "output_type": "execute_result"
    }
   ],
   "source": [
    "fdf[(fdf.loss >= median_loss) & (fdf.loss < thirdq_loss)].iloc[:2]"
   ]
  },
  {
   "cell_type": "code",
   "execution_count": 51,
   "id": "6a5a7f91-684a-481a-b4e2-e576ea4d4649",
   "metadata": {
    "execution": {
     "iopub.execute_input": "2023-05-05T04:08:01.715517Z",
     "iopub.status.busy": "2023-05-05T04:08:01.715004Z",
     "iopub.status.idle": "2023-05-05T04:08:01.742014Z",
     "shell.execute_reply": "2023-05-05T04:08:01.740962Z",
     "shell.execute_reply.started": "2023-05-05T04:08:01.715497Z"
    },
    "tags": []
   },
   "outputs": [
    {
     "data": {
      "text/html": [
       "<div>\n",
       "<style scoped>\n",
       "    .dataframe tbody tr th:only-of-type {\n",
       "        vertical-align: middle;\n",
       "    }\n",
       "\n",
       "    .dataframe tbody tr th {\n",
       "        vertical-align: top;\n",
       "    }\n",
       "\n",
       "    .dataframe thead th {\n",
       "        text-align: right;\n",
       "    }\n",
       "</style>\n",
       "<table border=\"1\" class=\"dataframe\">\n",
       "  <thead>\n",
       "    <tr style=\"text-align: right;\">\n",
       "      <th></th>\n",
       "      <th>test_guid</th>\n",
       "      <th>logits</th>\n",
       "      <th>pred</th>\n",
       "      <th>label</th>\n",
       "      <th>loss</th>\n",
       "    </tr>\n",
       "  </thead>\n",
       "  <tbody>\n",
       "    <tr>\n",
       "      <th>11</th>\n",
       "      <td>11</td>\n",
       "      <td>[-0.2477861, 0.17904276]</td>\n",
       "      <td>1</td>\n",
       "      <td>0</td>\n",
       "      <td>0.929164</td>\n",
       "    </tr>\n",
       "    <tr>\n",
       "      <th>13</th>\n",
       "      <td>13</td>\n",
       "      <td>[0.2667944, -0.8268993]</td>\n",
       "      <td>0</td>\n",
       "      <td>1</td>\n",
       "      <td>1.382608</td>\n",
       "    </tr>\n",
       "  </tbody>\n",
       "</table>\n",
       "</div>"
      ],
      "text/plain": [
       "    test_guid                    logits  pred  label      loss\n",
       "11         11  [-0.2477861, 0.17904276]     1      0  0.929164\n",
       "13         13   [0.2667944, -0.8268993]     0      1  1.382608"
      ]
     },
     "execution_count": 51,
     "metadata": {},
     "output_type": "execute_result"
    }
   ],
   "source": [
    "fdf[(fdf.loss >= thirdq_loss)].iloc[:2]"
   ]
  },
  {
   "cell_type": "markdown",
   "id": "6b57264f-8f04-4707-a332-a2a28311d130",
   "metadata": {},
   "source": [
    "### Compare Loo Pct Results"
   ]
  },
  {
   "cell_type": "code",
   "execution_count": 57,
   "id": "fd28fa9f-1f33-4504-bd6b-8f1decffe616",
   "metadata": {
    "execution": {
     "iopub.execute_input": "2023-05-05T14:12:44.629514Z",
     "iopub.status.busy": "2023-05-05T14:12:44.629280Z",
     "iopub.status.idle": "2023-05-05T14:12:44.746619Z",
     "shell.execute_reply": "2023-05-05T14:12:44.745884Z",
     "shell.execute_reply.started": "2023-05-05T14:12:44.629499Z"
    },
    "tags": []
   },
   "outputs": [
    {
     "data": {
      "text/html": [
       "<div>\n",
       "<style scoped>\n",
       "    .dataframe tbody tr th:only-of-type {\n",
       "        vertical-align: middle;\n",
       "    }\n",
       "\n",
       "    .dataframe tbody tr th {\n",
       "        vertical-align: top;\n",
       "    }\n",
       "\n",
       "    .dataframe thead th {\n",
       "        text-align: right;\n",
       "    }\n",
       "</style>\n",
       "<table border=\"1\" class=\"dataframe\">\n",
       "  <thead>\n",
       "    <tr style=\"text-align: right;\">\n",
       "      <th></th>\n",
       "      <th>test_guid</th>\n",
       "      <th>logits</th>\n",
       "      <th>pred</th>\n",
       "      <th>label</th>\n",
       "      <th>loss</th>\n",
       "    </tr>\n",
       "  </thead>\n",
       "  <tbody>\n",
       "    <tr>\n",
       "      <th>1</th>\n",
       "      <td>1</td>\n",
       "      <td>[1.5613662, -1.4277569]</td>\n",
       "      <td>0</td>\n",
       "      <td>0</td>\n",
       "      <td>0.049106</td>\n",
       "    </tr>\n",
       "    <tr>\n",
       "      <th>3</th>\n",
       "      <td>3</td>\n",
       "      <td>[-1.7622392, 1.5963509]</td>\n",
       "      <td>1</td>\n",
       "      <td>1</td>\n",
       "      <td>0.034193</td>\n",
       "    </tr>\n",
       "    <tr>\n",
       "      <th>4</th>\n",
       "      <td>4</td>\n",
       "      <td>[0.900454, -1.1592299]</td>\n",
       "      <td>0</td>\n",
       "      <td>0</td>\n",
       "      <td>0.119998</td>\n",
       "    </tr>\n",
       "    <tr>\n",
       "      <th>11</th>\n",
       "      <td>11</td>\n",
       "      <td>[-0.2477861, 0.17904276]</td>\n",
       "      <td>1</td>\n",
       "      <td>0</td>\n",
       "      <td>0.929164</td>\n",
       "    </tr>\n",
       "    <tr>\n",
       "      <th>12</th>\n",
       "      <td>12</td>\n",
       "      <td>[0.6718131, -0.91679406]</td>\n",
       "      <td>0</td>\n",
       "      <td>0</td>\n",
       "      <td>0.185824</td>\n",
       "    </tr>\n",
       "    <tr>\n",
       "      <th>13</th>\n",
       "      <td>13</td>\n",
       "      <td>[0.2667944, -0.8268993]</td>\n",
       "      <td>0</td>\n",
       "      <td>1</td>\n",
       "      <td>1.382608</td>\n",
       "    </tr>\n",
       "  </tbody>\n",
       "</table>\n",
       "</div>"
      ],
      "text/plain": [
       "    test_guid                    logits  pred  label      loss\n",
       "1           1   [1.5613662, -1.4277569]     0      0  0.049106\n",
       "3           3   [-1.7622392, 1.5963509]     1      1  0.034193\n",
       "4           4    [0.900454, -1.1592299]     0      0  0.119998\n",
       "11         11  [-0.2477861, 0.17904276]     1      0  0.929164\n",
       "12         12  [0.6718131, -0.91679406]     0      0  0.185824\n",
       "13         13   [0.2667944, -0.8268993]     0      1  1.382608"
      ]
     },
     "execution_count": 57,
     "metadata": {},
     "output_type": "execute_result"
    }
   ],
   "source": [
    "test_guids = [1, 3, 4, 11, 12, 13]\n",
    "\n",
    "fdf[fdf.test_guid.isin(test_guids)]"
   ]
  },
  {
   "cell_type": "code",
   "execution_count": 70,
   "id": "2feccaf5-64e2-4919-af07-5ed8841616c7",
   "metadata": {
    "execution": {
     "iopub.execute_input": "2023-05-05T14:14:18.775279Z",
     "iopub.status.busy": "2023-05-05T14:14:18.775055Z",
     "iopub.status.idle": "2023-05-05T14:14:18.828256Z",
     "shell.execute_reply": "2023-05-05T14:14:18.827551Z",
     "shell.execute_reply.started": "2023-05-05T14:14:18.775264Z"
    },
    "tags": []
   },
   "outputs": [],
   "source": [
    "TEST_GUID = 13\n",
    "\n",
    "df = pd.read_csv(f\"loo_pct_10k/{TEST_GUID}-sweep.csv\")\n",
    "# base_line_loss = fdf[fdf.test_guid == TEST_GUID].loss.squeeze()\n",
    "\n",
    "rand = df[(df.type == \"rand\") & (df.test_guid == TEST_GUID)]\n",
    "rand = rand[[\"remove_pct\", \"loss\"]]\n",
    "\n",
    "zero = df[(df.type == \"zero\") & (df.test_guid == TEST_GUID)]\n",
    "zero = zero[[\"remove_pct\", \"loss\"]]\n",
    "\n",
    "top = df[(df.type == \"top\") & (df.test_guid == TEST_GUID)]\n",
    "top = top[[\"remove_pct\", \"loss\"]]\n",
    "\n",
    "bot = df[(df.type == \"bot\") & (df.test_guid == TEST_GUID)]\n",
    "bot = bot[[\"remove_pct\", \"loss\"]]"
   ]
  },
  {
   "cell_type": "code",
   "execution_count": 67,
   "id": "1be7d3b1-6def-45db-a88b-2ff675f258c1",
   "metadata": {
    "execution": {
     "iopub.execute_input": "2023-05-05T14:14:07.389864Z",
     "iopub.status.busy": "2023-05-05T14:14:07.389624Z",
     "iopub.status.idle": "2023-05-05T14:14:07.419038Z",
     "shell.execute_reply": "2023-05-05T14:14:07.418071Z",
     "shell.execute_reply.started": "2023-05-05T14:14:07.389848Z"
    },
    "tags": []
   },
   "outputs": [
    {
     "data": {
      "text/html": [
       "<div>\n",
       "<style scoped>\n",
       "    .dataframe tbody tr th:only-of-type {\n",
       "        vertical-align: middle;\n",
       "    }\n",
       "\n",
       "    .dataframe tbody tr th {\n",
       "        vertical-align: top;\n",
       "    }\n",
       "\n",
       "    .dataframe thead th {\n",
       "        text-align: right;\n",
       "    }\n",
       "</style>\n",
       "<table border=\"1\" class=\"dataframe\">\n",
       "  <thead>\n",
       "    <tr style=\"text-align: right;\">\n",
       "      <th></th>\n",
       "      <th>test_guid</th>\n",
       "      <th>logits</th>\n",
       "      <th>pred</th>\n",
       "      <th>label</th>\n",
       "      <th>loss</th>\n",
       "      <th>type</th>\n",
       "      <th>remove_pct</th>\n",
       "    </tr>\n",
       "  </thead>\n",
       "  <tbody>\n",
       "    <tr>\n",
       "      <th>1745</th>\n",
       "      <td>1</td>\n",
       "      <td>[ 2.9275093 -2.7938893]</td>\n",
       "      <td>0</td>\n",
       "      <td>0</td>\n",
       "      <td>0.003270</td>\n",
       "      <td>bot</td>\n",
       "      <td>0.05</td>\n",
       "    </tr>\n",
       "    <tr>\n",
       "      <th>5233</th>\n",
       "      <td>1</td>\n",
       "      <td>[ 3.6039524 -3.4703414]</td>\n",
       "      <td>0</td>\n",
       "      <td>0</td>\n",
       "      <td>0.000846</td>\n",
       "      <td>bot</td>\n",
       "      <td>0.10</td>\n",
       "    </tr>\n",
       "    <tr>\n",
       "      <th>8721</th>\n",
       "      <td>1</td>\n",
       "      <td>[ 3.8820407 -3.748429 ]</td>\n",
       "      <td>0</td>\n",
       "      <td>0</td>\n",
       "      <td>0.000485</td>\n",
       "      <td>bot</td>\n",
       "      <td>0.15</td>\n",
       "    </tr>\n",
       "    <tr>\n",
       "      <th>12209</th>\n",
       "      <td>1</td>\n",
       "      <td>[ 4.3530107 -4.219398 ]</td>\n",
       "      <td>0</td>\n",
       "      <td>0</td>\n",
       "      <td>0.000189</td>\n",
       "      <td>bot</td>\n",
       "      <td>0.20</td>\n",
       "    </tr>\n",
       "    <tr>\n",
       "      <th>15697</th>\n",
       "      <td>1</td>\n",
       "      <td>[ 4.8490567 -4.7154484]</td>\n",
       "      <td>0</td>\n",
       "      <td>0</td>\n",
       "      <td>0.000070</td>\n",
       "      <td>bot</td>\n",
       "      <td>0.25</td>\n",
       "    </tr>\n",
       "    <tr>\n",
       "      <th>19185</th>\n",
       "      <td>1</td>\n",
       "      <td>[ 5.0338054 -4.9001975]</td>\n",
       "      <td>0</td>\n",
       "      <td>0</td>\n",
       "      <td>0.000049</td>\n",
       "      <td>bot</td>\n",
       "      <td>0.30</td>\n",
       "    </tr>\n",
       "    <tr>\n",
       "      <th>22673</th>\n",
       "      <td>1</td>\n",
       "      <td>[ 5.7603045 -5.626695 ]</td>\n",
       "      <td>0</td>\n",
       "      <td>0</td>\n",
       "      <td>0.000011</td>\n",
       "      <td>bot</td>\n",
       "      <td>0.40</td>\n",
       "    </tr>\n",
       "    <tr>\n",
       "      <th>26161</th>\n",
       "      <td>1</td>\n",
       "      <td>[ 6.2965884 -6.162979 ]</td>\n",
       "      <td>0</td>\n",
       "      <td>0</td>\n",
       "      <td>0.000004</td>\n",
       "      <td>bot</td>\n",
       "      <td>0.50</td>\n",
       "    </tr>\n",
       "    <tr>\n",
       "      <th>29649</th>\n",
       "      <td>1</td>\n",
       "      <td>[ 9.374328 -9.240766]</td>\n",
       "      <td>0</td>\n",
       "      <td>0</td>\n",
       "      <td>-0.000000</td>\n",
       "      <td>bot</td>\n",
       "      <td>0.60</td>\n",
       "    </tr>\n",
       "    <tr>\n",
       "      <th>33137</th>\n",
       "      <td>1</td>\n",
       "      <td>[ 8.934995 -8.801443]</td>\n",
       "      <td>0</td>\n",
       "      <td>0</td>\n",
       "      <td>-0.000000</td>\n",
       "      <td>bot</td>\n",
       "      <td>0.70</td>\n",
       "    </tr>\n",
       "  </tbody>\n",
       "</table>\n",
       "</div>"
      ],
      "text/plain": [
       "       test_guid                   logits  pred  label      loss type  \\\n",
       "1745           1  [ 2.9275093 -2.7938893]     0      0  0.003270  bot   \n",
       "5233           1  [ 3.6039524 -3.4703414]     0      0  0.000846  bot   \n",
       "8721           1  [ 3.8820407 -3.748429 ]     0      0  0.000485  bot   \n",
       "12209          1  [ 4.3530107 -4.219398 ]     0      0  0.000189  bot   \n",
       "15697          1  [ 4.8490567 -4.7154484]     0      0  0.000070  bot   \n",
       "19185          1  [ 5.0338054 -4.9001975]     0      0  0.000049  bot   \n",
       "22673          1  [ 5.7603045 -5.626695 ]     0      0  0.000011  bot   \n",
       "26161          1  [ 6.2965884 -6.162979 ]     0      0  0.000004  bot   \n",
       "29649          1    [ 9.374328 -9.240766]     0      0 -0.000000  bot   \n",
       "33137          1    [ 8.934995 -8.801443]     0      0 -0.000000  bot   \n",
       "\n",
       "       remove_pct  \n",
       "1745         0.05  \n",
       "5233         0.10  \n",
       "8721         0.15  \n",
       "12209        0.20  \n",
       "15697        0.25  \n",
       "19185        0.30  \n",
       "22673        0.40  \n",
       "26161        0.50  \n",
       "29649        0.60  \n",
       "33137        0.70  "
      ]
     },
     "execution_count": 67,
     "metadata": {},
     "output_type": "execute_result"
    }
   ],
   "source": [
    "df[(df.type == \"bot\") & (df.test_guid == TEST_GUID)]"
   ]
  },
  {
   "cell_type": "code",
   "execution_count": 68,
   "id": "28879a9e-53ae-4a2e-8b93-0f2a178ac1e9",
   "metadata": {
    "execution": {
     "iopub.execute_input": "2023-05-05T14:14:09.319556Z",
     "iopub.status.busy": "2023-05-05T14:14:09.318851Z",
     "iopub.status.idle": "2023-05-05T14:14:09.350668Z",
     "shell.execute_reply": "2023-05-05T14:14:09.349882Z",
     "shell.execute_reply.started": "2023-05-05T14:14:09.319536Z"
    },
    "tags": []
   },
   "outputs": [
    {
     "data": {
      "text/html": [
       "<div>\n",
       "<style scoped>\n",
       "    .dataframe tbody tr th:only-of-type {\n",
       "        vertical-align: middle;\n",
       "    }\n",
       "\n",
       "    .dataframe tbody tr th {\n",
       "        vertical-align: top;\n",
       "    }\n",
       "\n",
       "    .dataframe thead th {\n",
       "        text-align: right;\n",
       "    }\n",
       "</style>\n",
       "<table border=\"1\" class=\"dataframe\">\n",
       "  <thead>\n",
       "    <tr style=\"text-align: right;\">\n",
       "      <th></th>\n",
       "      <th>test_guid</th>\n",
       "      <th>logits</th>\n",
       "      <th>pred</th>\n",
       "      <th>label</th>\n",
       "      <th>loss</th>\n",
       "      <th>type</th>\n",
       "      <th>remove_pct</th>\n",
       "    </tr>\n",
       "  </thead>\n",
       "  <tbody>\n",
       "    <tr>\n",
       "      <th>2617</th>\n",
       "      <td>1</td>\n",
       "      <td>[ 1.4685506 -1.3349336]</td>\n",
       "      <td>0</td>\n",
       "      <td>0</td>\n",
       "      <td>0.058833</td>\n",
       "      <td>zero</td>\n",
       "      <td>0.05</td>\n",
       "    </tr>\n",
       "    <tr>\n",
       "      <th>6105</th>\n",
       "      <td>1</td>\n",
       "      <td>[ 1.5535678 -1.4199393]</td>\n",
       "      <td>0</td>\n",
       "      <td>0</td>\n",
       "      <td>0.049860</td>\n",
       "      <td>zero</td>\n",
       "      <td>0.10</td>\n",
       "    </tr>\n",
       "    <tr>\n",
       "      <th>9593</th>\n",
       "      <td>1</td>\n",
       "      <td>[ 1.3734136 -1.239786 ]</td>\n",
       "      <td>0</td>\n",
       "      <td>0</td>\n",
       "      <td>0.070738</td>\n",
       "      <td>zero</td>\n",
       "      <td>0.15</td>\n",
       "    </tr>\n",
       "    <tr>\n",
       "      <th>13081</th>\n",
       "      <td>1</td>\n",
       "      <td>[ 1.4255875 -1.2919562]</td>\n",
       "      <td>0</td>\n",
       "      <td>0</td>\n",
       "      <td>0.063948</td>\n",
       "      <td>zero</td>\n",
       "      <td>0.20</td>\n",
       "    </tr>\n",
       "    <tr>\n",
       "      <th>16569</th>\n",
       "      <td>1</td>\n",
       "      <td>[ 1.2032921 -1.0696654]</td>\n",
       "      <td>0</td>\n",
       "      <td>0</td>\n",
       "      <td>0.098040</td>\n",
       "      <td>zero</td>\n",
       "      <td>0.25</td>\n",
       "    </tr>\n",
       "    <tr>\n",
       "      <th>20057</th>\n",
       "      <td>1</td>\n",
       "      <td>[ 1.1711546 -1.037523 ]</td>\n",
       "      <td>0</td>\n",
       "      <td>0</td>\n",
       "      <td>0.104221</td>\n",
       "      <td>zero</td>\n",
       "      <td>0.30</td>\n",
       "    </tr>\n",
       "    <tr>\n",
       "      <th>23545</th>\n",
       "      <td>1</td>\n",
       "      <td>[ 1.1718447 -1.0382004]</td>\n",
       "      <td>0</td>\n",
       "      <td>0</td>\n",
       "      <td>0.104086</td>\n",
       "      <td>zero</td>\n",
       "      <td>0.40</td>\n",
       "    </tr>\n",
       "    <tr>\n",
       "      <th>27033</th>\n",
       "      <td>1</td>\n",
       "      <td>[ 0.9069178 -0.7732666]</td>\n",
       "      <td>0</td>\n",
       "      <td>0</td>\n",
       "      <td>0.170873</td>\n",
       "      <td>zero</td>\n",
       "      <td>0.50</td>\n",
       "    </tr>\n",
       "    <tr>\n",
       "      <th>30521</th>\n",
       "      <td>1</td>\n",
       "      <td>[ 0.38372383 -0.25006297]</td>\n",
       "      <td>0</td>\n",
       "      <td>0</td>\n",
       "      <td>0.425646</td>\n",
       "      <td>zero</td>\n",
       "      <td>0.60</td>\n",
       "    </tr>\n",
       "    <tr>\n",
       "      <th>34009</th>\n",
       "      <td>1</td>\n",
       "      <td>[ 0.1930658 -0.0593977]</td>\n",
       "      <td>0</td>\n",
       "      <td>0</td>\n",
       "      <td>0.574862</td>\n",
       "      <td>zero</td>\n",
       "      <td>0.70</td>\n",
       "    </tr>\n",
       "  </tbody>\n",
       "</table>\n",
       "</div>"
      ],
      "text/plain": [
       "       test_guid                     logits  pred  label      loss  type  \\\n",
       "2617           1    [ 1.4685506 -1.3349336]     0      0  0.058833  zero   \n",
       "6105           1    [ 1.5535678 -1.4199393]     0      0  0.049860  zero   \n",
       "9593           1    [ 1.3734136 -1.239786 ]     0      0  0.070738  zero   \n",
       "13081          1    [ 1.4255875 -1.2919562]     0      0  0.063948  zero   \n",
       "16569          1    [ 1.2032921 -1.0696654]     0      0  0.098040  zero   \n",
       "20057          1    [ 1.1711546 -1.037523 ]     0      0  0.104221  zero   \n",
       "23545          1    [ 1.1718447 -1.0382004]     0      0  0.104086  zero   \n",
       "27033          1    [ 0.9069178 -0.7732666]     0      0  0.170873  zero   \n",
       "30521          1  [ 0.38372383 -0.25006297]     0      0  0.425646  zero   \n",
       "34009          1    [ 0.1930658 -0.0593977]     0      0  0.574862  zero   \n",
       "\n",
       "       remove_pct  \n",
       "2617         0.05  \n",
       "6105         0.10  \n",
       "9593         0.15  \n",
       "13081        0.20  \n",
       "16569        0.25  \n",
       "20057        0.30  \n",
       "23545        0.40  \n",
       "27033        0.50  \n",
       "30521        0.60  \n",
       "34009        0.70  "
      ]
     },
     "execution_count": 68,
     "metadata": {},
     "output_type": "execute_result"
    }
   ],
   "source": [
    "df[(df.type == \"zero\") & (df.test_guid == TEST_GUID)]"
   ]
  },
  {
   "cell_type": "code",
   "execution_count": 75,
   "id": "f9f01b25-0a93-4238-a9f7-cbef7c98e16a",
   "metadata": {
    "execution": {
     "iopub.execute_input": "2023-05-05T14:20:05.611858Z",
     "iopub.status.busy": "2023-05-05T14:20:05.611632Z",
     "iopub.status.idle": "2023-05-05T14:20:05.642513Z",
     "shell.execute_reply": "2023-05-05T14:20:05.641672Z",
     "shell.execute_reply.started": "2023-05-05T14:20:05.611842Z"
    },
    "tags": []
   },
   "outputs": [
    {
     "data": {
      "text/plain": [
       "remove_pct\n",
       "0.05    0.460202\n",
       "0.10    0.547598\n",
       "0.15    0.666621\n",
       "0.20    0.808063\n",
       "0.25    1.032161\n",
       "0.30    1.231065\n",
       "0.40    1.794076\n",
       "0.50    3.836545\n",
       "0.60    3.977201\n",
       "0.70    4.539891\n",
       "Name: loss, dtype: float64"
      ]
     },
     "execution_count": 75,
     "metadata": {},
     "output_type": "execute_result"
    }
   ],
   "source": [
    "df[(df.type == \"bot\")].groupby('remove_pct').loss.mean()"
   ]
  },
  {
   "cell_type": "code",
   "execution_count": 77,
   "id": "fc287a9b-fb58-49b4-9260-2ac803b4bb04",
   "metadata": {
    "execution": {
     "iopub.execute_input": "2023-05-05T14:26:27.204119Z",
     "iopub.status.busy": "2023-05-05T14:26:27.203880Z",
     "iopub.status.idle": "2023-05-05T14:26:27.473902Z",
     "shell.execute_reply": "2023-05-05T14:26:27.473199Z",
     "shell.execute_reply.started": "2023-05-05T14:26:27.204103Z"
    },
    "tags": []
   },
   "outputs": [
    {
     "data": {
      "text/plain": [
       "<Axes: xlabel='remove_pct'>"
      ]
     },
     "execution_count": 77,
     "metadata": {},
     "output_type": "execute_result"
    },
    {
     "data": {
      "image/png": "[encoded data removed]",
      "text/plain": [
       "<Figure size 640x480 with 1 Axes>"
      ]
     },
     "metadata": {},
     "output_type": "display_data"
    }
   ],
   "source": [
    "df[(df.type == \"top\")].groupby('remove_pct').loss.mean().plot()"
   ]
  },
  {
   "cell_type": "code",
   "execution_count": 81,
   "id": "9cce9827-edc6-49d5-a386-2cc3e210ed0a",
   "metadata": {
    "execution": {
     "iopub.execute_input": "2023-05-05T14:27:20.121802Z",
     "iopub.status.busy": "2023-05-05T14:27:20.121560Z",
     "iopub.status.idle": "2023-05-05T14:27:20.280201Z",
     "shell.execute_reply": "2023-05-05T14:27:20.279512Z",
     "shell.execute_reply.started": "2023-05-05T14:27:20.121785Z"
    },
    "tags": []
   },
   "outputs": [
    {
     "data": {
      "text/plain": [
       "<Axes: xlabel='remove_pct'>"
      ]
     },
     "execution_count": 81,
     "metadata": {},
     "output_type": "execute_result"
    },
    {
     "data": {
      "image/png": "[encoded data removed]",
      "text/plain": [
       "<Figure size 640x480 with 1 Axes>"
      ]
     },
     "metadata": {},
     "output_type": "display_data"
    }
   ],
   "source": [
    "df[(df.type == \"zero\")].groupby('remove_pct').loss.mean().plot()"
   ]
  },
  {
   "cell_type": "code",
   "execution_count": 71,
   "id": "c433e826-356c-40ba-abed-7be36f3acaad",
   "metadata": {
    "execution": {
     "iopub.execute_input": "2023-05-05T14:14:20.928999Z",
     "iopub.status.busy": "2023-05-05T14:14:20.928770Z",
     "iopub.status.idle": "2023-05-05T14:14:21.077845Z",
     "shell.execute_reply": "2023-05-05T14:14:21.077072Z",
     "shell.execute_reply.started": "2023-05-05T14:14:20.928983Z"
    },
    "tags": []
   },
   "outputs": [
    {
     "data": {
      "text/plain": [
       "[<matplotlib.lines.Line2D at 0x7fec9db53340>]"
      ]
     },
     "execution_count": 71,
     "metadata": {},
     "output_type": "execute_result"
    },
    {
     "data": {
      "image/png": "[encoded data removed]",
      "text/plain": [
       "<Figure size 640x480 with 1 Axes>"
      ]
     },
     "metadata": {},
     "output_type": "display_data"
    }
   ],
   "source": [
    "from matplotlib import pyplot as plt\n",
    "\n",
    "plt.plot(rand.remove_pct, rand.loss, \"g-\")\n",
    "plt.plot(zero.remove_pct, zero.loss, \"g--\")\n",
    "\n",
    "# plt.plot(top.remove_pct, top.loss, 'r-')\n",
    "plt.plot(bot.remove_pct, bot.loss, \"b-\")"
   ]
  },
  {
   "cell_type": "code",
   "execution_count": 8,
   "id": "8babb175-9762-4dc4-82fe-eaa58148345c",
   "metadata": {
    "execution": {
     "iopub.execute_input": "2023-05-05T00:53:10.564822Z",
     "iopub.status.busy": "2023-05-05T00:53:10.564539Z",
     "iopub.status.idle": "2023-05-05T00:53:10.702604Z",
     "shell.execute_reply": "2023-05-05T00:53:10.701887Z",
     "shell.execute_reply.started": "2023-05-05T00:53:10.564804Z"
    },
    "tags": []
   },
   "outputs": [
    {
     "data": {
      "text/plain": [
       "[<matplotlib.lines.Line2D at 0x7f3384c3cf70>]"
      ]
     },
     "execution_count": 8,
     "metadata": {},
     "output_type": "execute_result"
    },
    {
     "data": {
      "image/png": "[encoded data removed]",
      "text/plain": [
       "<Figure size 640x480 with 1 Axes>"
      ]
     },
     "metadata": {},
     "output_type": "display_data"
    }
   ],
   "source": [
    "from matplotlib import pyplot as plt\n",
    "\n",
    "plt.plot(rand.remove_pct, rand.loss, \"g-\")\n",
    "plt.plot(zero.remove_pct, zero.loss, \"g--\")\n",
    "\n",
    "plt.plot(top.remove_pct, top.loss, \"r-\")\n",
    "plt.plot(bot.remove_pct, bot.loss, \"b-\")"
   ]
  },
  {
   "cell_type": "code",
   "execution_count": null,
   "id": "6e3223c5-5e09-4d1a-b4e9-153406a512b4",
   "metadata": {},
   "outputs": [],
   "source": []
  },
  {
   "cell_type": "code",
   "execution_count": null,
   "id": "9eba61c5-de00-4801-aa15-0dda3fdcf3b6",
   "metadata": {},
   "outputs": [],
   "source": []
  },
  {
   "cell_type": "code",
   "execution_count": null,
   "id": "60b27d99-951d-41df-9dca-be16cd93f377",
   "metadata": {},
   "outputs": [],
   "source": []
  }
 ],
 "metadata": {
  "kernelspec": {
   "display_name": "Python 3 (ipykernel)",
   "language": "python",
   "name": "python3"
  },
  "language_info": {
   "codemirror_mode": {
    "name": "ipython",
    "version": 3
   },
   "file_extension": ".py",
   "mimetype": "text/x-python",
   "name": "python",
   "nbconvert_exporter": "python",
   "pygments_lexer": "ipython3",
   "version": "3.10.10"
  }
 },
 "nbformat": 4,
 "nbformat_minor": 5
}
