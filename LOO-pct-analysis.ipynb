{
 "cells": [
  {
   "cell_type": "code",
   "execution_count": 53,
   "id": "2622cac2-8734-4edb-b56a-894f9647d620",
   "metadata": {
    "execution": {
     "iopub.execute_input": "2023-05-05T04:19:27.510831Z",
     "iopub.status.busy": "2023-05-05T04:19:27.510605Z",
     "iopub.status.idle": "2023-05-05T04:19:28.638752Z",
     "shell.execute_reply": "2023-05-05T04:19:28.638016Z",
     "shell.execute_reply.started": "2023-05-05T04:19:27.510814Z"
    },
    "tags": []
   },
   "outputs": [
    {
     "name": "stdout",
     "output_type": "stream",
     "text": [
      "The autoreload extension is already loaded. To reload it, use:\n",
      "  %reload_ext autoreload\n"
     ]
    },
    {
     "name": "stderr",
     "output_type": "stream",
     "text": [
      "100%|██████████████████████████████████████████████████████████████████████████████████████████████████████████████| 10000/10000 [00:00<00:00, 13576.96it/s]\n",
      "100%|██████████████████████████████████████████████████████████████████████████████████████████████████████████████████| 872/872 [00:00<00:00, 10777.54it/s]\n"
     ]
    }
   ],
   "source": [
    "%load_ext autoreload\n",
    "%autoreload 2\n",
    "\n",
    "import argparse\n",
    "import os\n",
    "from pathlib import Path\n",
    "\n",
    "import numpy as np\n",
    "import pandas as pd\n",
    "import torch\n",
    "import yaml\n",
    "from torch.optim import Adam\n",
    "from torch.utils.data import DataLoader\n",
    "from tqdm import tqdm\n",
    "\n",
    "import src.BertClassifier as BertClassifier\n",
    "import src.utils as utils\n",
    "import wandb\n",
    "from src.datasets import create_loo_dataset, create_test_sst2, create_train_sst2\n",
    "\n",
    "device = utils.get_device()\n",
    "\n",
    "config = utils.load_config(\n",
    "    \"bert_classifier.yaml\", epochs=10, num_training_examples=1000\n",
    ")\n",
    "\n",
    "# Create datasets\n",
    "train_dataset = create_train_sst2(\n",
    "    device,\n",
    "    num_samples=config[\"num_training_examples\"],\n",
    "    tokenizer_name=config[\"bert_model_name\"],\n",
    "    max_seq_len=config[\"max_sequence_length\"],\n",
    ")\n",
    "\n",
    "test_dataset = create_test_sst2(\n",
    "    device,\n",
    "    tokenizer_name=config[\"bert_model_name\"],\n",
    "    max_seq_len=config[\"max_sequence_length\"],\n",
    ")\n",
    "test_dataloader = DataLoader(test_dataset, shuffle=False, batch_size=1)"
   ]
  },
  {
   "cell_type": "code",
   "execution_count": 56,
   "id": "2bcfad17-cfd3-44dd-b006-67699334571e",
   "metadata": {
    "execution": {
     "iopub.execute_input": "2023-05-05T04:20:00.126186Z",
     "iopub.status.busy": "2023-05-05T04:20:00.125707Z",
     "iopub.status.idle": "2023-05-05T04:20:00.152126Z",
     "shell.execute_reply": "2023-05-05T04:20:00.151303Z",
     "shell.execute_reply.started": "2023-05-05T04:20:00.126168Z"
    },
    "tags": []
   },
   "outputs": [
    {
     "data": {
      "text/plain": [
       "{'epochs': 10,\n",
       " 'bert_model_name': 'distilbert-base-uncased',\n",
       " 'max_sequence_length': 64,\n",
       " 'learning_rate': 0.005,\n",
       " 'lr_warmup_pct': 0.2,\n",
       " 'batch_size': 16,\n",
       " 'classifier_type': 'single-fc',\n",
       " 'classifier_hidden_size': 0,\n",
       " 'classifier_drop_out': 0,\n",
       " 'num_training_examples': 1000}"
      ]
     },
     "execution_count": 56,
     "metadata": {},
     "output_type": "execute_result"
    }
   ],
   "source": []
  },
  {
   "cell_type": "code",
   "execution_count": 21,
   "id": "920e8ceb-49cb-4aa7-a1d0-d90b3a6ade2b",
   "metadata": {
    "execution": {
     "iopub.execute_input": "2023-05-05T03:50:48.106851Z",
     "iopub.status.busy": "2023-05-05T03:50:48.106616Z",
     "iopub.status.idle": "2023-05-05T03:52:44.141334Z",
     "shell.execute_reply": "2023-05-05T03:52:44.140319Z",
     "shell.execute_reply.started": "2023-05-05T03:50:48.106834Z"
    },
    "tags": []
   },
   "outputs": [
    {
     "name": "stderr",
     "output_type": "stream",
     "text": [
      "Some weights of the model checkpoint at distilbert-base-uncased were not used when initializing DistilBertModel: ['vocab_transform.bias', 'vocab_projector.weight', 'vocab_layer_norm.weight', 'vocab_layer_norm.bias', 'vocab_transform.weight', 'vocab_projector.bias']\n",
      "- This IS expected if you are initializing DistilBertModel from the checkpoint of a model trained on another task or with another architecture (e.g. initializing a BertForSequenceClassification model from a BertForPreTraining model).\n",
      "- This IS NOT expected if you are initializing DistilBertModel from the checkpoint of a model that you expect to be exactly identical (initializing a BertForSequenceClassification model from a BertForSequenceClassification model).\n",
      "\u001b[34m\u001b[1mwandb\u001b[0m: Currently logged in as: \u001b[33mpatcao\u001b[0m. Use \u001b[1m`wandb login --relogin`\u001b[0m to force relogin\n"
     ]
    },
    {
     "data": {
      "text/html": [
       "wandb version 0.15.1 is available!  To upgrade, please run:\n",
       " $ pip install wandb --upgrade"
      ],
      "text/plain": [
       "<IPython.core.display.HTML object>"
      ]
     },
     "metadata": {},
     "output_type": "display_data"
    },
    {
     "data": {
      "text/html": [
       "Tracking run with wandb version 0.15.0"
      ],
      "text/plain": [
       "<IPython.core.display.HTML object>"
      ]
     },
     "metadata": {},
     "output_type": "display_data"
    },
    {
     "data": {
      "text/html": [
       "Run data is saved locally in <code>/home/pcao/sentiment-influence-function/wandb/run-20230504_235049-q1wmqgii</code>"
      ],
      "text/plain": [
       "<IPython.core.display.HTML object>"
      ]
     },
     "metadata": {},
     "output_type": "display_data"
    },
    {
     "data": {
      "text/html": [
       "Syncing run <strong><a href='https://wandb.ai/patcao/LOO-test/runs/q1wmqgii' target=\"_blank\">clone-lightsaber-189</a></strong> to <a href='https://wandb.ai/patcao/LOO-test' target=\"_blank\">Weights & Biases</a> (<a href='https://wandb.me/run' target=\"_blank\">docs</a>)<br/>"
      ],
      "text/plain": [
       "<IPython.core.display.HTML object>"
      ]
     },
     "metadata": {},
     "output_type": "display_data"
    },
    {
     "data": {
      "text/html": [
       " View project at <a href='https://wandb.ai/patcao/LOO-test' target=\"_blank\">https://wandb.ai/patcao/LOO-test</a>"
      ],
      "text/plain": [
       "<IPython.core.display.HTML object>"
      ]
     },
     "metadata": {},
     "output_type": "display_data"
    },
    {
     "data": {
      "text/html": [
       " View run at <a href='https://wandb.ai/patcao/LOO-test/runs/q1wmqgii' target=\"_blank\">https://wandb.ai/patcao/LOO-test/runs/q1wmqgii</a>"
      ],
      "text/plain": [
       "<IPython.core.display.HTML object>"
      ]
     },
     "metadata": {},
     "output_type": "display_data"
    },
    {
     "name": "stderr",
     "output_type": "stream",
     "text": [
      "100%|██████████████████████████████████████████████████████████████████████████████████████████████████████████████████| 625/625 [00:20<00:00, 30.15batch/s]\n",
      "100%|██████████████████████████████████████████████████████████████████████████████████████████████████████████████████| 625/625 [00:20<00:00, 30.84batch/s]\n",
      "100%|██████████████████████████████████████████████████████████████████████████████████████████████████████████████████| 625/625 [00:20<00:00, 30.86batch/s]\n",
      "100%|██████████████████████████████████████████████████████████████████████████████████████████████████████████████████| 625/625 [00:20<00:00, 30.81batch/s]\n",
      "100%|██████████████████████████████████████████████████████████████████████████████████████████████████████████████████| 625/625 [00:20<00:00, 30.86batch/s]\n"
     ]
    },
    {
     "data": {
      "text/html": [
       "Waiting for W&B process to finish... <strong style=\"color:green\">(success).</strong>"
      ],
      "text/plain": [
       "<IPython.core.display.HTML object>"
      ]
     },
     "metadata": {},
     "output_type": "display_data"
    },
    {
     "data": {
      "application/vnd.jupyter.widget-view+json": {
       "model_id": "747591e181774d81b1e23accd0d415b6",
       "version_major": 2,
       "version_minor": 0
      },
      "text/plain": [
       "VBox(children=(Label(value='0.003 MB of 0.003 MB uploaded (0.000 MB deduped)\\r'), FloatProgress(value=1.0, max…"
      ]
     },
     "metadata": {},
     "output_type": "display_data"
    },
    {
     "data": {
      "text/html": [
       "<style>\n",
       "    table.wandb td:nth-child(1) { padding: 0 10px; text-align: left ; width: auto;} td:nth-child(2) {text-align: left ; width: 100%}\n",
       "    .wandb-row { display: flex; flex-direction: row; flex-wrap: wrap; justify-content: flex-start; width: 100% }\n",
       "    .wandb-col { display: flex; flex-direction: column; flex-basis: 100%; flex: 1; padding: 10px; }\n",
       "    </style>\n",
       "<div class=\"wandb-row\"><div class=\"wandb-col\"><h3>Run history:</h3><br/><table class=\"wandb\"><tr><td>epoch</td><td>▁▃▅▆█</td></tr><tr><td>train/accuracy</td><td>▁▇▇██</td></tr><tr><td>train/batch_loss</td><td>▇▆▅▅▅▄▃▆█▄▅▂▇▄▆▃▃▆▂▃▅▁▂▂▃▂▃▄▁▄▂▂▆█▂▃▅▅▂▃</td></tr><tr><td>train/loss</td><td>█▃▃▂▁</td></tr></table><br/></div><div class=\"wandb-col\"><h3>Run summary:</h3><br/><table class=\"wandb\"><tr><td>epoch</td><td>5</td></tr><tr><td>test/accuracy</td><td>83.83028</td></tr><tr><td>test/loss</td><td>0.38231</td></tr><tr><td>train/accuracy</td><td>84.2</td></tr><tr><td>train/batch_loss</td><td>0.08196</td></tr><tr><td>train/loss</td><td>0.35668</td></tr></table><br/></div></div>"
      ],
      "text/plain": [
       "<IPython.core.display.HTML object>"
      ]
     },
     "metadata": {},
     "output_type": "display_data"
    },
    {
     "data": {
      "text/html": [
       " View run <strong style=\"color:#cdcd00\">clone-lightsaber-189</strong> at: <a href='https://wandb.ai/patcao/LOO-test/runs/q1wmqgii' target=\"_blank\">https://wandb.ai/patcao/LOO-test/runs/q1wmqgii</a><br/>Synced 6 W&B file(s), 0 media file(s), 0 artifact file(s) and 0 other file(s)"
      ],
      "text/plain": [
       "<IPython.core.display.HTML object>"
      ]
     },
     "metadata": {},
     "output_type": "display_data"
    },
    {
     "data": {
      "text/html": [
       "Find logs at: <code>./wandb/run-20230504_235049-q1wmqgii/logs</code>"
      ],
      "text/plain": [
       "<IPython.core.display.HTML object>"
      ]
     },
     "metadata": {},
     "output_type": "display_data"
    }
   ],
   "source": [
    "def train_model(\n",
    "    train_dataset, test_dataset, config, wandb_project=\"LOO-test\", wandb_tags=None\n",
    "):\n",
    "    train_dataloader = DataLoader(\n",
    "        train_dataset, batch_size=config[\"batch_size\"], shuffle=True\n",
    "    )\n",
    "\n",
    "    # Create classifcation model\n",
    "    model = BertClassifier.create_bert_classifier(\n",
    "        config[\"bert_model_name\"],\n",
    "        classifier_type=config[\"classifier_type\"],\n",
    "        classifier_hidden_size=config[\"classifier_hidden_size\"],\n",
    "        classifier_drop_out=config[\"classifier_drop_out\"],\n",
    "        freeze_bert=True,\n",
    "        # random_state=42,\n",
    "    )\n",
    "    model.classifier.load_state_dict(\n",
    "        torch.load(\"loo_10k/run_0/init_classifier_params.pt\")\n",
    "    )\n",
    "    # torch.save(model.classifier.state_dict(), 'classifier_params.pt')\n",
    "\n",
    "    optimizer = Adam(model.classifier.parameters(), lr=config[\"learning_rate\"])\n",
    "    loss_fn = torch.nn.CrossEntropyLoss()\n",
    "\n",
    "    run = wandb.init(project=wandb_project, tags=wandb_tags, config=config)\n",
    "\n",
    "    utils.train(\n",
    "        config=config,\n",
    "        model=model,\n",
    "        optimizer=optimizer,\n",
    "        train_dataloader=train_dataloader,\n",
    "        val_dataloader=None,\n",
    "    )\n",
    "\n",
    "    fdf, test_loss, test_acc = utils.evaluate_loss_df(model, test_dataloader)\n",
    "    wandb.summary[\"test/loss\"] = test_loss\n",
    "    wandb.summary[\"test/accuracy\"] = test_acc\n",
    "    wandb.finish()\n",
    "\n",
    "    return model, fdf, test_loss, test_acc\n",
    "\n",
    "\n",
    "full_model, fdf, full_test_loss, full_test_acc = train_model(\n",
    "    train_dataset, test_dataset, config\n",
    ")"
   ]
  },
  {
   "cell_type": "code",
   "execution_count": 34,
   "id": "1a4b942d-5f8d-466a-98d0-219daf451c2a",
   "metadata": {
    "execution": {
     "iopub.execute_input": "2023-05-05T04:04:00.837147Z",
     "iopub.status.busy": "2023-05-05T04:04:00.836919Z",
     "iopub.status.idle": "2023-05-05T04:04:00.861102Z",
     "shell.execute_reply": "2023-05-05T04:04:00.860316Z",
     "shell.execute_reply.started": "2023-05-05T04:04:00.837131Z"
    },
    "tags": []
   },
   "outputs": [],
   "source": [
    "firstq_loss = fdf.loss.quantile(0.25)\n",
    "median_loss = fdf.loss.quantile(0.5)\n",
    "thirdq_loss = fdf.loss.quantile(0.75)"
   ]
  },
  {
   "cell_type": "code",
   "execution_count": 42,
   "id": "fa4c8c90-21e2-43ad-aa2a-6acc5051a2c8",
   "metadata": {
    "execution": {
     "iopub.execute_input": "2023-05-05T04:06:12.212714Z",
     "iopub.status.busy": "2023-05-05T04:06:12.212484Z",
     "iopub.status.idle": "2023-05-05T04:06:12.233705Z",
     "shell.execute_reply": "2023-05-05T04:06:12.232939Z",
     "shell.execute_reply.started": "2023-05-05T04:06:12.212697Z"
    },
    "tags": []
   },
   "outputs": [],
   "source": [
    "df = fdf.copy()"
   ]
  },
  {
   "cell_type": "code",
   "execution_count": 48,
   "id": "e6817ab5-4137-433b-bd8f-69056850e627",
   "metadata": {
    "execution": {
     "iopub.execute_input": "2023-05-05T04:07:57.858673Z",
     "iopub.status.busy": "2023-05-05T04:07:57.858448Z",
     "iopub.status.idle": "2023-05-05T04:07:57.884487Z",
     "shell.execute_reply": "2023-05-05T04:07:57.883731Z",
     "shell.execute_reply.started": "2023-05-05T04:07:57.858657Z"
    },
    "tags": []
   },
   "outputs": [],
   "source": [
    "# df = df.sort_values('loss')\n",
    "# df['rank'] = 1\n",
    "# df['rank'] = df['rank'].cumsum()\n",
    "# df.sort_index().iloc[:15]"
   ]
  },
  {
   "cell_type": "code",
   "execution_count": 49,
   "id": "c651147e-c978-4652-b4b0-f8734c279571",
   "metadata": {
    "execution": {
     "iopub.execute_input": "2023-05-05T04:07:59.767991Z",
     "iopub.status.busy": "2023-05-05T04:07:59.767753Z",
     "iopub.status.idle": "2023-05-05T04:07:59.797445Z",
     "shell.execute_reply": "2023-05-05T04:07:59.795234Z",
     "shell.execute_reply.started": "2023-05-05T04:07:59.767975Z"
    },
    "tags": []
   },
   "outputs": [
    {
     "data": {
      "text/html": [
       "<div>\n",
       "<style scoped>\n",
       "    .dataframe tbody tr th:only-of-type {\n",
       "        vertical-align: middle;\n",
       "    }\n",
       "\n",
       "    .dataframe tbody tr th {\n",
       "        vertical-align: top;\n",
       "    }\n",
       "\n",
       "    .dataframe thead th {\n",
       "        text-align: right;\n",
       "    }\n",
       "</style>\n",
       "<table border=\"1\" class=\"dataframe\">\n",
       "  <thead>\n",
       "    <tr style=\"text-align: right;\">\n",
       "      <th></th>\n",
       "      <th>test_guid</th>\n",
       "      <th>logits</th>\n",
       "      <th>pred</th>\n",
       "      <th>label</th>\n",
       "      <th>loss</th>\n",
       "    </tr>\n",
       "  </thead>\n",
       "  <tbody>\n",
       "    <tr>\n",
       "      <th>1</th>\n",
       "      <td>1</td>\n",
       "      <td>[1.5613662, -1.4277569]</td>\n",
       "      <td>0</td>\n",
       "      <td>0</td>\n",
       "      <td>0.049106</td>\n",
       "    </tr>\n",
       "    <tr>\n",
       "      <th>3</th>\n",
       "      <td>3</td>\n",
       "      <td>[-1.7622392, 1.5963509]</td>\n",
       "      <td>1</td>\n",
       "      <td>1</td>\n",
       "      <td>0.034193</td>\n",
       "    </tr>\n",
       "  </tbody>\n",
       "</table>\n",
       "</div>"
      ],
      "text/plain": [
       "   test_guid                   logits  pred  label      loss\n",
       "1          1  [1.5613662, -1.4277569]     0      0  0.049106\n",
       "3          3  [-1.7622392, 1.5963509]     1      1  0.034193"
      ]
     },
     "execution_count": 49,
     "metadata": {},
     "output_type": "execute_result"
    }
   ],
   "source": [
    "fdf[(fdf.loss >= firstq_loss) & (fdf.loss < median_loss)].iloc[:2]"
   ]
  },
  {
   "cell_type": "code",
   "execution_count": 50,
   "id": "fdc0c6a6-b315-4b35-8e41-e466316d18f6",
   "metadata": {
    "execution": {
     "iopub.execute_input": "2023-05-05T04:08:00.683370Z",
     "iopub.status.busy": "2023-05-05T04:08:00.682832Z",
     "iopub.status.idle": "2023-05-05T04:08:00.710131Z",
     "shell.execute_reply": "2023-05-05T04:08:00.709038Z",
     "shell.execute_reply.started": "2023-05-05T04:08:00.683352Z"
    },
    "tags": []
   },
   "outputs": [
    {
     "data": {
      "text/html": [
       "<div>\n",
       "<style scoped>\n",
       "    .dataframe tbody tr th:only-of-type {\n",
       "        vertical-align: middle;\n",
       "    }\n",
       "\n",
       "    .dataframe tbody tr th {\n",
       "        vertical-align: top;\n",
       "    }\n",
       "\n",
       "    .dataframe thead th {\n",
       "        text-align: right;\n",
       "    }\n",
       "</style>\n",
       "<table border=\"1\" class=\"dataframe\">\n",
       "  <thead>\n",
       "    <tr style=\"text-align: right;\">\n",
       "      <th></th>\n",
       "      <th>test_guid</th>\n",
       "      <th>logits</th>\n",
       "      <th>pred</th>\n",
       "      <th>label</th>\n",
       "      <th>loss</th>\n",
       "    </tr>\n",
       "  </thead>\n",
       "  <tbody>\n",
       "    <tr>\n",
       "      <th>4</th>\n",
       "      <td>4</td>\n",
       "      <td>[0.900454, -1.1592299]</td>\n",
       "      <td>0</td>\n",
       "      <td>0</td>\n",
       "      <td>0.119998</td>\n",
       "    </tr>\n",
       "    <tr>\n",
       "      <th>12</th>\n",
       "      <td>12</td>\n",
       "      <td>[0.6718131, -0.91679406]</td>\n",
       "      <td>0</td>\n",
       "      <td>0</td>\n",
       "      <td>0.185824</td>\n",
       "    </tr>\n",
       "  </tbody>\n",
       "</table>\n",
       "</div>"
      ],
      "text/plain": [
       "    test_guid                    logits  pred  label      loss\n",
       "4           4    [0.900454, -1.1592299]     0      0  0.119998\n",
       "12         12  [0.6718131, -0.91679406]     0      0  0.185824"
      ]
     },
     "execution_count": 50,
     "metadata": {},
     "output_type": "execute_result"
    }
   ],
   "source": [
    "fdf[(fdf.loss >= median_loss) & (fdf.loss < thirdq_loss)].iloc[:2]"
   ]
  },
  {
   "cell_type": "code",
   "execution_count": 51,
   "id": "6a5a7f91-684a-481a-b4e2-e576ea4d4649",
   "metadata": {
    "execution": {
     "iopub.execute_input": "2023-05-05T04:08:01.715517Z",
     "iopub.status.busy": "2023-05-05T04:08:01.715004Z",
     "iopub.status.idle": "2023-05-05T04:08:01.742014Z",
     "shell.execute_reply": "2023-05-05T04:08:01.740962Z",
     "shell.execute_reply.started": "2023-05-05T04:08:01.715497Z"
    },
    "tags": []
   },
   "outputs": [
    {
     "data": {
      "text/html": [
       "<div>\n",
       "<style scoped>\n",
       "    .dataframe tbody tr th:only-of-type {\n",
       "        vertical-align: middle;\n",
       "    }\n",
       "\n",
       "    .dataframe tbody tr th {\n",
       "        vertical-align: top;\n",
       "    }\n",
       "\n",
       "    .dataframe thead th {\n",
       "        text-align: right;\n",
       "    }\n",
       "</style>\n",
       "<table border=\"1\" class=\"dataframe\">\n",
       "  <thead>\n",
       "    <tr style=\"text-align: right;\">\n",
       "      <th></th>\n",
       "      <th>test_guid</th>\n",
       "      <th>logits</th>\n",
       "      <th>pred</th>\n",
       "      <th>label</th>\n",
       "      <th>loss</th>\n",
       "    </tr>\n",
       "  </thead>\n",
       "  <tbody>\n",
       "    <tr>\n",
       "      <th>11</th>\n",
       "      <td>11</td>\n",
       "      <td>[-0.2477861, 0.17904276]</td>\n",
       "      <td>1</td>\n",
       "      <td>0</td>\n",
       "      <td>0.929164</td>\n",
       "    </tr>\n",
       "    <tr>\n",
       "      <th>13</th>\n",
       "      <td>13</td>\n",
       "      <td>[0.2667944, -0.8268993]</td>\n",
       "      <td>0</td>\n",
       "      <td>1</td>\n",
       "      <td>1.382608</td>\n",
       "    </tr>\n",
       "  </tbody>\n",
       "</table>\n",
       "</div>"
      ],
      "text/plain": [
       "    test_guid                    logits  pred  label      loss\n",
       "11         11  [-0.2477861, 0.17904276]     1      0  0.929164\n",
       "13         13   [0.2667944, -0.8268993]     0      1  1.382608"
      ]
     },
     "execution_count": 51,
     "metadata": {},
     "output_type": "execute_result"
    }
   ],
   "source": [
    "fdf[(fdf.loss >= thirdq_loss)].iloc[:2]"
   ]
  },
  {
   "cell_type": "markdown",
   "id": "6b57264f-8f04-4707-a332-a2a28311d130",
   "metadata": {},
   "source": [
    "### Compare Loo Pct Results"
   ]
  },
  {
   "cell_type": "code",
   "execution_count": 12,
   "id": "fd28fa9f-1f33-4504-bd6b-8f1decffe616",
   "metadata": {
    "execution": {
     "iopub.execute_input": "2023-05-05T00:55:22.062122Z",
     "iopub.status.busy": "2023-05-05T00:55:22.061889Z",
     "iopub.status.idle": "2023-05-05T00:55:22.095633Z",
     "shell.execute_reply": "2023-05-05T00:55:22.094885Z",
     "shell.execute_reply.started": "2023-05-05T00:55:22.062107Z"
    },
    "tags": []
   },
   "outputs": [
    {
     "data": {
      "text/html": [
       "<div>\n",
       "<style scoped>\n",
       "    .dataframe tbody tr th:only-of-type {\n",
       "        vertical-align: middle;\n",
       "    }\n",
       "\n",
       "    .dataframe tbody tr th {\n",
       "        vertical-align: top;\n",
       "    }\n",
       "\n",
       "    .dataframe thead th {\n",
       "        text-align: right;\n",
       "    }\n",
       "</style>\n",
       "<table border=\"1\" class=\"dataframe\">\n",
       "  <thead>\n",
       "    <tr style=\"text-align: right;\">\n",
       "      <th></th>\n",
       "      <th>test_guid</th>\n",
       "      <th>logits</th>\n",
       "      <th>pred</th>\n",
       "      <th>label</th>\n",
       "      <th>loss</th>\n",
       "    </tr>\n",
       "  </thead>\n",
       "  <tbody>\n",
       "    <tr>\n",
       "      <th>71</th>\n",
       "      <td>71</td>\n",
       "      <td>[-2.0081913, 1.8418145]</td>\n",
       "      <td>1</td>\n",
       "      <td>1</td>\n",
       "      <td>0.021056</td>\n",
       "    </tr>\n",
       "    <tr>\n",
       "      <th>102</th>\n",
       "      <td>102</td>\n",
       "      <td>[-1.0249251, 0.6990137]</td>\n",
       "      <td>1</td>\n",
       "      <td>1</td>\n",
       "      <td>0.164126</td>\n",
       "    </tr>\n",
       "    <tr>\n",
       "      <th>106</th>\n",
       "      <td>106</td>\n",
       "      <td>[0.52161086, -0.8465446]</td>\n",
       "      <td>0</td>\n",
       "      <td>1</td>\n",
       "      <td>1.594953</td>\n",
       "    </tr>\n",
       "    <tr>\n",
       "      <th>270</th>\n",
       "      <td>270</td>\n",
       "      <td>[-2.71085, 2.8720965]</td>\n",
       "      <td>1</td>\n",
       "      <td>1</td>\n",
       "      <td>0.003754</td>\n",
       "    </tr>\n",
       "    <tr>\n",
       "      <th>435</th>\n",
       "      <td>435</td>\n",
       "      <td>[-1.3103402, 0.9233117]</td>\n",
       "      <td>1</td>\n",
       "      <td>1</td>\n",
       "      <td>0.101777</td>\n",
       "    </tr>\n",
       "    <tr>\n",
       "      <th>700</th>\n",
       "      <td>700</td>\n",
       "      <td>[0.44713104, -0.37645823]</td>\n",
       "      <td>0</td>\n",
       "      <td>0</td>\n",
       "      <td>0.363847</td>\n",
       "    </tr>\n",
       "    <tr>\n",
       "      <th>860</th>\n",
       "      <td>860</td>\n",
       "      <td>[-1.8744478, 1.5857491]</td>\n",
       "      <td>1</td>\n",
       "      <td>1</td>\n",
       "      <td>0.030940</td>\n",
       "    </tr>\n",
       "  </tbody>\n",
       "</table>\n",
       "</div>"
      ],
      "text/plain": [
       "     test_guid                     logits  pred  label      loss\n",
       "71          71    [-2.0081913, 1.8418145]     1      1  0.021056\n",
       "102        102    [-1.0249251, 0.6990137]     1      1  0.164126\n",
       "106        106   [0.52161086, -0.8465446]     0      1  1.594953\n",
       "270        270      [-2.71085, 2.8720965]     1      1  0.003754\n",
       "435        435    [-1.3103402, 0.9233117]     1      1  0.101777\n",
       "700        700  [0.44713104, -0.37645823]     0      0  0.363847\n",
       "860        860    [-1.8744478, 1.5857491]     1      1  0.030940"
      ]
     },
     "execution_count": 12,
     "metadata": {},
     "output_type": "execute_result"
    }
   ],
   "source": [
    "test_guids = [71, 102, 106, 270, 435, 700, 860]\n",
    "\n",
    "fdf[fdf.test_guid.isin(test_guids)]"
   ]
  },
  {
   "cell_type": "code",
   "execution_count": 17,
   "id": "2feccaf5-64e2-4919-af07-5ed8841616c7",
   "metadata": {
    "execution": {
     "iopub.execute_input": "2023-05-05T03:50:02.391804Z",
     "iopub.status.busy": "2023-05-05T03:50:02.391569Z",
     "iopub.status.idle": "2023-05-05T03:50:02.453300Z",
     "shell.execute_reply": "2023-05-05T03:50:02.452580Z",
     "shell.execute_reply.started": "2023-05-05T03:50:02.391787Z"
    },
    "tags": []
   },
   "outputs": [],
   "source": [
    "TEST_GUID = 435\n",
    "\n",
    "df = pd.read_csv(f\"loo_pct_10k/{TEST_GUID}-sweep.csv\")\n",
    "# base_line_loss = fdf[fdf.test_guid == TEST_GUID].loss.squeeze()\n",
    "\n",
    "rand = df[(df.type == \"rand\") & (df.test_guid == TEST_GUID)]\n",
    "rand = rand[[\"remove_pct\", \"loss\"]]\n",
    "\n",
    "zero = df[(df.type == \"zero\") & (df.test_guid == TEST_GUID)]\n",
    "zero = zero[[\"remove_pct\", \"loss\"]]\n",
    "\n",
    "top = df[(df.type == \"top\") & (df.test_guid == TEST_GUID)]\n",
    "top = top[[\"remove_pct\", \"loss\"]]\n",
    "\n",
    "bot = df[(df.type == \"bot\") & (df.test_guid == TEST_GUID)]\n",
    "bot = bot[[\"remove_pct\", \"loss\"]]"
   ]
  },
  {
   "cell_type": "code",
   "execution_count": 18,
   "id": "1be7d3b1-6def-45db-a88b-2ff675f258c1",
   "metadata": {
    "execution": {
     "iopub.execute_input": "2023-05-05T03:50:04.303940Z",
     "iopub.status.busy": "2023-05-05T03:50:04.303688Z",
     "iopub.status.idle": "2023-05-05T03:50:04.331902Z",
     "shell.execute_reply": "2023-05-05T03:50:04.331069Z",
     "shell.execute_reply.started": "2023-05-05T03:50:04.303922Z"
    },
    "tags": []
   },
   "outputs": [
    {
     "data": {
      "text/html": [
       "<div>\n",
       "<style scoped>\n",
       "    .dataframe tbody tr th:only-of-type {\n",
       "        vertical-align: middle;\n",
       "    }\n",
       "\n",
       "    .dataframe tbody tr th {\n",
       "        vertical-align: top;\n",
       "    }\n",
       "\n",
       "    .dataframe thead th {\n",
       "        text-align: right;\n",
       "    }\n",
       "</style>\n",
       "<table border=\"1\" class=\"dataframe\">\n",
       "  <thead>\n",
       "    <tr style=\"text-align: right;\">\n",
       "      <th></th>\n",
       "      <th>test_guid</th>\n",
       "      <th>logits</th>\n",
       "      <th>pred</th>\n",
       "      <th>label</th>\n",
       "      <th>loss</th>\n",
       "      <th>type</th>\n",
       "      <th>remove_pct</th>\n",
       "    </tr>\n",
       "  </thead>\n",
       "  <tbody>\n",
       "    <tr>\n",
       "      <th>2179</th>\n",
       "      <td>435</td>\n",
       "      <td>[-2.702465   2.3153768]</td>\n",
       "      <td>1</td>\n",
       "      <td>1</td>\n",
       "      <td>6.596930e-03</td>\n",
       "      <td>bot</td>\n",
       "      <td>0.05</td>\n",
       "    </tr>\n",
       "    <tr>\n",
       "      <th>5667</th>\n",
       "      <td>435</td>\n",
       "      <td>[-3.2153273  2.8282342]</td>\n",
       "      <td>1</td>\n",
       "      <td>1</td>\n",
       "      <td>2.370288e-03</td>\n",
       "      <td>bot</td>\n",
       "      <td>0.10</td>\n",
       "    </tr>\n",
       "    <tr>\n",
       "      <th>9155</th>\n",
       "      <td>435</td>\n",
       "      <td>[-3.8526661  3.4655783]</td>\n",
       "      <td>1</td>\n",
       "      <td>1</td>\n",
       "      <td>6.630606e-04</td>\n",
       "      <td>bot</td>\n",
       "      <td>0.15</td>\n",
       "    </tr>\n",
       "    <tr>\n",
       "      <th>12643</th>\n",
       "      <td>435</td>\n",
       "      <td>[-4.25343   3.866335]</td>\n",
       "      <td>1</td>\n",
       "      <td>1</td>\n",
       "      <td>2.975021e-04</td>\n",
       "      <td>bot</td>\n",
       "      <td>0.20</td>\n",
       "    </tr>\n",
       "    <tr>\n",
       "      <th>16131</th>\n",
       "      <td>435</td>\n",
       "      <td>[-4.6284075  4.241308 ]</td>\n",
       "      <td>1</td>\n",
       "      <td>1</td>\n",
       "      <td>1.405379e-04</td>\n",
       "      <td>bot</td>\n",
       "      <td>0.25</td>\n",
       "    </tr>\n",
       "    <tr>\n",
       "      <th>19619</th>\n",
       "      <td>435</td>\n",
       "      <td>[-5.249097   4.8620005]</td>\n",
       "      <td>1</td>\n",
       "      <td>1</td>\n",
       "      <td>4.064954e-05</td>\n",
       "      <td>bot</td>\n",
       "      <td>0.30</td>\n",
       "    </tr>\n",
       "    <tr>\n",
       "      <th>23107</th>\n",
       "      <td>435</td>\n",
       "      <td>[-6.2653055  5.878196 ]</td>\n",
       "      <td>1</td>\n",
       "      <td>1</td>\n",
       "      <td>5.364403e-06</td>\n",
       "      <td>bot</td>\n",
       "      <td>0.40</td>\n",
       "    </tr>\n",
       "    <tr>\n",
       "      <th>26595</th>\n",
       "      <td>435</td>\n",
       "      <td>[-7.8448863  7.4576797]</td>\n",
       "      <td>1</td>\n",
       "      <td>1</td>\n",
       "      <td>2.384186e-07</td>\n",
       "      <td>bot</td>\n",
       "      <td>0.50</td>\n",
       "    </tr>\n",
       "    <tr>\n",
       "      <th>30083</th>\n",
       "      <td>435</td>\n",
       "      <td>[-7.6418476  7.254645 ]</td>\n",
       "      <td>1</td>\n",
       "      <td>1</td>\n",
       "      <td>3.576278e-07</td>\n",
       "      <td>bot</td>\n",
       "      <td>0.60</td>\n",
       "    </tr>\n",
       "    <tr>\n",
       "      <th>33571</th>\n",
       "      <td>435</td>\n",
       "      <td>[-6.991562  6.604369]</td>\n",
       "      <td>1</td>\n",
       "      <td>1</td>\n",
       "      <td>1.192092e-06</td>\n",
       "      <td>bot</td>\n",
       "      <td>0.70</td>\n",
       "    </tr>\n",
       "  </tbody>\n",
       "</table>\n",
       "</div>"
      ],
      "text/plain": [
       "       test_guid                   logits  pred  label          loss type  \\\n",
       "2179         435  [-2.702465   2.3153768]     1      1  6.596930e-03  bot   \n",
       "5667         435  [-3.2153273  2.8282342]     1      1  2.370288e-03  bot   \n",
       "9155         435  [-3.8526661  3.4655783]     1      1  6.630606e-04  bot   \n",
       "12643        435    [-4.25343   3.866335]     1      1  2.975021e-04  bot   \n",
       "16131        435  [-4.6284075  4.241308 ]     1      1  1.405379e-04  bot   \n",
       "19619        435  [-5.249097   4.8620005]     1      1  4.064954e-05  bot   \n",
       "23107        435  [-6.2653055  5.878196 ]     1      1  5.364403e-06  bot   \n",
       "26595        435  [-7.8448863  7.4576797]     1      1  2.384186e-07  bot   \n",
       "30083        435  [-7.6418476  7.254645 ]     1      1  3.576278e-07  bot   \n",
       "33571        435    [-6.991562  6.604369]     1      1  1.192092e-06  bot   \n",
       "\n",
       "       remove_pct  \n",
       "2179         0.05  \n",
       "5667         0.10  \n",
       "9155         0.15  \n",
       "12643        0.20  \n",
       "16131        0.25  \n",
       "19619        0.30  \n",
       "23107        0.40  \n",
       "26595        0.50  \n",
       "30083        0.60  \n",
       "33571        0.70  "
      ]
     },
     "execution_count": 18,
     "metadata": {},
     "output_type": "execute_result"
    }
   ],
   "source": [
    "df[(df.type == \"bot\") & (df.test_guid == TEST_GUID)]"
   ]
  },
  {
   "cell_type": "code",
   "execution_count": 19,
   "id": "28879a9e-53ae-4a2e-8b93-0f2a178ac1e9",
   "metadata": {
    "execution": {
     "iopub.execute_input": "2023-05-05T03:50:09.602859Z",
     "iopub.status.busy": "2023-05-05T03:50:09.602115Z",
     "iopub.status.idle": "2023-05-05T03:50:09.629286Z",
     "shell.execute_reply": "2023-05-05T03:50:09.628460Z",
     "shell.execute_reply.started": "2023-05-05T03:50:09.602841Z"
    },
    "tags": []
   },
   "outputs": [
    {
     "data": {
      "text/html": [
       "<div>\n",
       "<style scoped>\n",
       "    .dataframe tbody tr th:only-of-type {\n",
       "        vertical-align: middle;\n",
       "    }\n",
       "\n",
       "    .dataframe tbody tr th {\n",
       "        vertical-align: top;\n",
       "    }\n",
       "\n",
       "    .dataframe thead th {\n",
       "        text-align: right;\n",
       "    }\n",
       "</style>\n",
       "<table border=\"1\" class=\"dataframe\">\n",
       "  <thead>\n",
       "    <tr style=\"text-align: right;\">\n",
       "      <th></th>\n",
       "      <th>test_guid</th>\n",
       "      <th>logits</th>\n",
       "      <th>pred</th>\n",
       "      <th>label</th>\n",
       "      <th>loss</th>\n",
       "      <th>type</th>\n",
       "      <th>remove_pct</th>\n",
       "    </tr>\n",
       "  </thead>\n",
       "  <tbody>\n",
       "    <tr>\n",
       "      <th>3051</th>\n",
       "      <td>435</td>\n",
       "      <td>[-1.4991311  1.11204  ]</td>\n",
       "      <td>1</td>\n",
       "      <td>1</td>\n",
       "      <td>0.070876</td>\n",
       "      <td>zero</td>\n",
       "      <td>0.05</td>\n",
       "    </tr>\n",
       "    <tr>\n",
       "      <th>6539</th>\n",
       "      <td>435</td>\n",
       "      <td>[-1.351237    0.96415573]</td>\n",
       "      <td>1</td>\n",
       "      <td>1</td>\n",
       "      <td>0.094153</td>\n",
       "      <td>zero</td>\n",
       "      <td>0.10</td>\n",
       "    </tr>\n",
       "    <tr>\n",
       "      <th>10027</th>\n",
       "      <td>435</td>\n",
       "      <td>[-1.3828148  0.9957387]</td>\n",
       "      <td>1</td>\n",
       "      <td>1</td>\n",
       "      <td>0.088638</td>\n",
       "      <td>zero</td>\n",
       "      <td>0.15</td>\n",
       "    </tr>\n",
       "    <tr>\n",
       "      <th>13515</th>\n",
       "      <td>435</td>\n",
       "      <td>[-1.2432653   0.85619426]</td>\n",
       "      <td>1</td>\n",
       "      <td>1</td>\n",
       "      <td>0.115578</td>\n",
       "      <td>zero</td>\n",
       "      <td>0.20</td>\n",
       "    </tr>\n",
       "    <tr>\n",
       "      <th>17003</th>\n",
       "      <td>435</td>\n",
       "      <td>[-1.336996    0.94992507]</td>\n",
       "      <td>1</td>\n",
       "      <td>1</td>\n",
       "      <td>0.096744</td>\n",
       "      <td>zero</td>\n",
       "      <td>0.25</td>\n",
       "    </tr>\n",
       "    <tr>\n",
       "      <th>20491</th>\n",
       "      <td>435</td>\n",
       "      <td>[-1.2286948  0.8416292]</td>\n",
       "      <td>1</td>\n",
       "      <td>1</td>\n",
       "      <td>0.118800</td>\n",
       "      <td>zero</td>\n",
       "      <td>0.30</td>\n",
       "    </tr>\n",
       "    <tr>\n",
       "      <th>23979</th>\n",
       "      <td>435</td>\n",
       "      <td>[-0.9336303  0.5465692]</td>\n",
       "      <td>1</td>\n",
       "      <td>1</td>\n",
       "      <td>0.205055</td>\n",
       "      <td>zero</td>\n",
       "      <td>0.40</td>\n",
       "    </tr>\n",
       "    <tr>\n",
       "      <th>27467</th>\n",
       "      <td>435</td>\n",
       "      <td>[-0.6202749   0.23322654]</td>\n",
       "      <td>1</td>\n",
       "      <td>1</td>\n",
       "      <td>0.354818</td>\n",
       "      <td>zero</td>\n",
       "      <td>0.50</td>\n",
       "    </tr>\n",
       "    <tr>\n",
       "      <th>30955</th>\n",
       "      <td>435</td>\n",
       "      <td>[-0.48644245  0.09940041]</td>\n",
       "      <td>1</td>\n",
       "      <td>1</td>\n",
       "      <td>0.442527</td>\n",
       "      <td>zero</td>\n",
       "      <td>0.60</td>\n",
       "    </tr>\n",
       "    <tr>\n",
       "      <th>34443</th>\n",
       "      <td>435</td>\n",
       "      <td>[-0.15056896 -0.2364658 ]</td>\n",
       "      <td>0</td>\n",
       "      <td>1</td>\n",
       "      <td>0.737018</td>\n",
       "      <td>zero</td>\n",
       "      <td>0.70</td>\n",
       "    </tr>\n",
       "  </tbody>\n",
       "</table>\n",
       "</div>"
      ],
      "text/plain": [
       "       test_guid                     logits  pred  label      loss  type  \\\n",
       "3051         435    [-1.4991311  1.11204  ]     1      1  0.070876  zero   \n",
       "6539         435  [-1.351237    0.96415573]     1      1  0.094153  zero   \n",
       "10027        435    [-1.3828148  0.9957387]     1      1  0.088638  zero   \n",
       "13515        435  [-1.2432653   0.85619426]     1      1  0.115578  zero   \n",
       "17003        435  [-1.336996    0.94992507]     1      1  0.096744  zero   \n",
       "20491        435    [-1.2286948  0.8416292]     1      1  0.118800  zero   \n",
       "23979        435    [-0.9336303  0.5465692]     1      1  0.205055  zero   \n",
       "27467        435  [-0.6202749   0.23322654]     1      1  0.354818  zero   \n",
       "30955        435  [-0.48644245  0.09940041]     1      1  0.442527  zero   \n",
       "34443        435  [-0.15056896 -0.2364658 ]     0      1  0.737018  zero   \n",
       "\n",
       "       remove_pct  \n",
       "3051         0.05  \n",
       "6539         0.10  \n",
       "10027        0.15  \n",
       "13515        0.20  \n",
       "17003        0.25  \n",
       "20491        0.30  \n",
       "23979        0.40  \n",
       "27467        0.50  \n",
       "30955        0.60  \n",
       "34443        0.70  "
      ]
     },
     "execution_count": 19,
     "metadata": {},
     "output_type": "execute_result"
    }
   ],
   "source": [
    "df[(df.type == \"zero\") & (df.test_guid == TEST_GUID)]"
   ]
  },
  {
   "cell_type": "code",
   "execution_count": 20,
   "id": "c433e826-356c-40ba-abed-7be36f3acaad",
   "metadata": {
    "execution": {
     "iopub.execute_input": "2023-05-05T03:50:12.736907Z",
     "iopub.status.busy": "2023-05-05T03:50:12.736678Z",
     "iopub.status.idle": "2023-05-05T03:50:12.875191Z",
     "shell.execute_reply": "2023-05-05T03:50:12.874510Z",
     "shell.execute_reply.started": "2023-05-05T03:50:12.736892Z"
    },
    "tags": []
   },
   "outputs": [
    {
     "data": {
      "text/plain": [
       "[<matplotlib.lines.Line2D at 0x7fece45f0730>]"
      ]
     },
     "execution_count": 20,
     "metadata": {},
     "output_type": "execute_result"
    },
    {
     "data": {
      "image/png": "[encoded data removed]",
      "text/plain": [
       "<Figure size 640x480 with 1 Axes>"
      ]
     },
     "metadata": {},
     "output_type": "display_data"
    }
   ],
   "source": [
    "from matplotlib import pyplot as plt\n",
    "\n",
    "plt.plot(rand.remove_pct, rand.loss, \"g-\")\n",
    "plt.plot(zero.remove_pct, zero.loss, \"g--\")\n",
    "\n",
    "# plt.plot(top.remove_pct, top.loss, 'r-')\n",
    "plt.plot(bot.remove_pct, bot.loss, \"b-\")"
   ]
  },
  {
   "cell_type": "code",
   "execution_count": 8,
   "id": "8babb175-9762-4dc4-82fe-eaa58148345c",
   "metadata": {
    "execution": {
     "iopub.execute_input": "2023-05-05T00:53:10.564822Z",
     "iopub.status.busy": "2023-05-05T00:53:10.564539Z",
     "iopub.status.idle": "2023-05-05T00:53:10.702604Z",
     "shell.execute_reply": "2023-05-05T00:53:10.701887Z",
     "shell.execute_reply.started": "2023-05-05T00:53:10.564804Z"
    },
    "tags": []
   },
   "outputs": [
    {
     "data": {
      "text/plain": [
       "[<matplotlib.lines.Line2D at 0x7f3384c3cf70>]"
      ]
     },
     "execution_count": 8,
     "metadata": {},
     "output_type": "execute_result"
    },
    {
     "data": {
      "image/png": "[encoded data removed]",
      "text/plain": [
       "<Figure size 640x480 with 1 Axes>"
      ]
     },
     "metadata": {},
     "output_type": "display_data"
    }
   ],
   "source": [
    "from matplotlib import pyplot as plt\n",
    "\n",
    "plt.plot(rand.remove_pct, rand.loss, \"g-\")\n",
    "plt.plot(zero.remove_pct, zero.loss, \"g--\")\n",
    "\n",
    "plt.plot(top.remove_pct, top.loss, \"r-\")\n",
    "plt.plot(bot.remove_pct, bot.loss, \"b-\")"
   ]
  },
  {
   "cell_type": "code",
   "execution_count": null,
   "id": "6e3223c5-5e09-4d1a-b4e9-153406a512b4",
   "metadata": {},
   "outputs": [],
   "source": []
  },
  {
   "cell_type": "code",
   "execution_count": null,
   "id": "9eba61c5-de00-4801-aa15-0dda3fdcf3b6",
   "metadata": {},
   "outputs": [],
   "source": []
  },
  {
   "cell_type": "code",
   "execution_count": null,
   "id": "60b27d99-951d-41df-9dca-be16cd93f377",
   "metadata": {},
   "outputs": [],
   "source": []
  }
 ],
 "metadata": {
  "kernelspec": {
   "display_name": "Python 3 (ipykernel)",
   "language": "python",
   "name": "python3"
  },
  "language_info": {
   "codemirror_mode": {
    "name": "ipython",
    "version": 3
   },
   "file_extension": ".py",
   "mimetype": "text/x-python",
   "name": "python",
   "nbconvert_exporter": "python",
   "pygments_lexer": "ipython3",
   "version": "3.10.10"
  }
 },
 "nbformat": 4,
 "nbformat_minor": 5
}
