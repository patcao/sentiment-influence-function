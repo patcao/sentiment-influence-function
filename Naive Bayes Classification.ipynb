{
 "cells": [
  {
   "cell_type": "markdown",
   "metadata": {
    "id": "SmYa6UvHG7nX"
   },
   "source": [
    "# Google Colab Setup"
   ]
  },
  {
   "cell_type": "code",
   "execution_count": 1,
   "metadata": {
    "colab": {
     "base_uri": "https://localhost:8080/"
    },
    "executionInfo": {
     "elapsed": 31975,
     "status": "ok",
     "timestamp": 1679888921519,
     "user": {
      "displayName": "Patrick Cao",
      "userId": "14491048743324317279"
     },
     "user_tz": 240
    },
    "id": "gt00lMsiQDY7",
    "outputId": "6070f9fb-66ab-49b6-92f9-1ef435dad8d0",
    "tags": []
   },
   "outputs": [],
   "source": [
    "# !pip install 'transformers[torch]'\n",
    "# !pip install pytorch-transformers\n",
    "# !pip install tensorboardX\n",
    "# ! pip install transformers\n",
    "# ! pip install Ipython --upgrade"
   ]
  },
  {
   "cell_type": "code",
   "execution_count": 2,
   "metadata": {
    "id": "3hV2Ty1MUoI4",
    "tags": []
   },
   "outputs": [
    {
     "name": "stderr",
     "output_type": "stream",
     "text": [
      "Matplotlib is building the font cache; this may take a moment.\n"
     ]
    }
   ],
   "source": [
    "%load_ext autoreload\n",
    "%autoreload 2\n",
    "\n",
    "import os\n",
    "import pandas as pd\n",
    "import numpy as np\n",
    "import torch\n",
    "from torch.utils.data import DataLoader, Dataset\n",
    "# from transformers import get_linear_schedule_with_warmup\n",
    "# from transformers.optimization import AdamW\n",
    "import sys\n",
    "from sys import platform\n",
    "import re\n",
    "from pathlib import Path\n",
    "\n",
    "import matplotlib.pyplot as plt\n",
    "%matplotlib inline"
   ]
  },
  {
   "cell_type": "markdown",
   "metadata": {
    "id": "nuhYQnvzGnYU"
   },
   "source": [
    "## Mount Google Drive"
   ]
  },
  {
   "cell_type": "code",
   "execution_count": null,
   "metadata": {
    "colab": {
     "base_uri": "https://localhost:8080/"
    },
    "executionInfo": {
     "elapsed": 24472,
     "status": "ok",
     "timestamp": 1679888948157,
     "user": {
      "displayName": "Patrick Cao",
      "userId": "14491048743324317279"
     },
     "user_tz": 240
    },
    "id": "PguggwqOGnDR",
    "outputId": "0ee00151-6044-4607-80f5-2caeade55f16"
   },
   "outputs": [
    {
     "name": "stdout",
     "output_type": "stream",
     "text": [
      "Mounted at /content/gdrive\n"
     ]
    }
   ],
   "source": [
    "from google.colab import drive\n",
    "drive.mount('/content/gdrive', force_remount=True)\n",
    "# drive.mount('/content/gdrive')"
   ]
  },
  {
   "cell_type": "code",
   "execution_count": null,
   "metadata": {
    "id": "WOGz4As_VITf"
   },
   "outputs": [],
   "source": [
    "home = Path('/content/gdrive/MyDrive/Columbia/RobustStatistics/sentiment-influence-function/')\n",
    "src_path = str(home / 'src')\n",
    "\n",
    "if src_path not in sys.path:\n",
    "  # Put scripts on the path.\n",
    "  sys.path.insert(0, src_path)"
   ]
  },
  {
   "cell_type": "markdown",
   "metadata": {
    "id": "VudllTu25rd0"
   },
   "source": [
    "## Set up GPU"
   ]
  },
  {
   "cell_type": "code",
   "execution_count": null,
   "metadata": {
    "colab": {
     "base_uri": "https://localhost:8080/"
    },
    "executionInfo": {
     "elapsed": 5,
     "status": "ok",
     "timestamp": 1679888948158,
     "user": {
      "displayName": "Patrick Cao",
      "userId": "14491048743324317279"
     },
     "user_tz": 240
    },
    "id": "UUs_V6R55tMV",
    "outputId": "748a6179-c18f-4be0-b755-1a377666cd76"
   },
   "outputs": [
    {
     "name": "stdout",
     "output_type": "stream",
     "text": [
      "There are 1 GPU(s) available.\n",
      "Device name: Tesla T4\n"
     ]
    }
   ],
   "source": [
    "if torch.cuda.is_available():\n",
    "  device = torch.device(\"cuda\")\n",
    "  print(f'There are {torch.cuda.device_count()} GPU(s) available.')\n",
    "  print('Device name:', torch.cuda.get_device_name(0))\n",
    "else:\n",
    "    print('No GPU available, using the CPU instead.')\n",
    "    device = torch.device(\"cpu\")"
   ]
  },
  {
   "cell_type": "markdown",
   "metadata": {
    "id": "GZNBtl3OHHvo"
   },
   "source": [
    "## Load Dataset"
   ]
  },
  {
   "cell_type": "code",
   "execution_count": null,
   "metadata": {
    "id": "JYjE0Qn6Vopg"
   },
   "outputs": [],
   "source": [
    "home = Path('/content/gdrive/MyDrive/Columbia/RobustStatistics/Sentiment-Analysis-IF/')\n",
    "data_path = home / 'data'"
   ]
  },
  {
   "cell_type": "code",
   "execution_count": null,
   "metadata": {
    "colab": {
     "base_uri": "https://localhost:8080/"
    },
    "executionInfo": {
     "elapsed": 4294,
     "status": "ok",
     "timestamp": 1679888952449,
     "user": {
      "displayName": "Patrick Cao",
      "userId": "14491048743324317279"
     },
     "user_tz": 240
    },
    "id": "8KFmLDXMGwxy",
    "outputId": "fdfc18a9-3312-4aa5-ea90-649001e2559b"
   },
   "outputs": [
    {
     "name": "stdout",
     "output_type": "stream",
     "text": [
      "train: 67349\n",
      "test: 1821\n",
      "val: 872\n"
     ]
    }
   ],
   "source": [
    "train_df = pd.read_csv(data_path / 'train.csv')\n",
    "test_df = pd.read_csv(data_path / 'test.csv')\n",
    "val_df = pd.read_csv(data_path / 'val.csv')\n",
    "\n",
    "print(f\"train: {len(train_df)}\")\n",
    "print(f\"test: {len(test_df)}\")\n",
    "print(f\"val: {len(val_df)}\")"
   ]
  },
  {
   "cell_type": "code",
   "execution_count": null,
   "metadata": {
    "id": "TFc5WfPk6_7X"
   },
   "outputs": [],
   "source": [
    "x_train = train_df.sentence\n",
    "y_train = train_df.label\n",
    "\n",
    "x_val = val_df.sentence\n",
    "y_val = val_df.label\n",
    "\n",
    "x_test = test_df.sentence\n",
    "y_test = test_df.label"
   ]
  },
  {
   "cell_type": "code",
   "execution_count": null,
   "metadata": {
    "colab": {
     "base_uri": "https://localhost:8080/"
    },
    "executionInfo": {
     "elapsed": 2193,
     "status": "ok",
     "timestamp": 1679888954639,
     "user": {
      "displayName": "Patrick Cao",
      "userId": "14491048743324317279"
     },
     "user_tz": 240
    },
    "id": "13AktFPjgImj",
    "outputId": "729a49dc-07ed-4442-c2f8-ea1f737f28f3"
   },
   "outputs": [
    {
     "data": {
      "text/plain": [
       "['StratifiedKFold',\n",
       " '__builtins__',\n",
       " '__cached__',\n",
       " '__doc__',\n",
       " '__file__',\n",
       " '__loader__',\n",
       " '__name__',\n",
       " '__package__',\n",
       " '__spec__',\n",
       " 'accuracy_score',\n",
       " 'auc',\n",
       " 'cross_val_score',\n",
       " 'evaluate_roc',\n",
       " 'get_auc_CV',\n",
       " 'np',\n",
       " 'os',\n",
       " 'pd',\n",
       " 'plt',\n",
       " 're',\n",
       " 'roc_curve',\n",
       " 'tqdm']"
      ]
     },
     "execution_count": 9,
     "metadata": {},
     "output_type": "execute_result"
    }
   ],
   "source": [
    "import utils as ut\n",
    "dir(ut)"
   ]
  },
  {
   "cell_type": "markdown",
   "metadata": {
    "id": "IuabiRfrLTZe"
   },
   "source": [
    "# Naive Bayes Classifier"
   ]
  },
  {
   "cell_type": "code",
   "execution_count": null,
   "metadata": {
    "colab": {
     "base_uri": "https://localhost:8080/",
     "height": 347
    },
    "executionInfo": {
     "elapsed": 19524,
     "status": "ok",
     "timestamp": 1679888974160,
     "user": {
      "displayName": "Patrick Cao",
      "userId": "14491048743324317279"
     },
     "user_tz": 240
    },
    "id": "KPJzNyfT7Ay_",
    "outputId": "18d25e0b-fc31-4844-f93d-ecb44f22124e"
   },
   "outputs": [
    {
     "name": "stdout",
     "output_type": "stream",
     "text": [
      "Best alpha:  1.5\n"
     ]
    },
    {
     "data": {
      "image/png": "[encoded data removed]",
      "text/plain": [
       "<Figure size 432x288 with 1 Axes>"
      ]
     },
     "metadata": {
      "needs_background": "light"
     },
     "output_type": "display_data"
    },
    {
     "name": "stdout",
     "output_type": "stream",
     "text": [
      "CPU times: user 19.9 s, sys: 116 ms, total: 20 s\n",
      "Wall time: 20.2 s\n"
     ]
    }
   ],
   "source": [
    "%%time\n",
    "from sklearn.feature_extraction.text import TfidfVectorizer\n",
    "# Calculate TF-IDF\n",
    "tf_idf = TfidfVectorizer(ngram_range=(1, 3),\n",
    "                         binary=True,\n",
    "                         smooth_idf=False)\n",
    "\n",
    "X_train_tfidf = tf_idf.fit_transform(np.array(x_train))\n",
    "X_val_tfidf = tf_idf.transform(np.array(x_val))\n",
    "X_test_tfidf = tf_idf.transform(np.array(x_test))\n",
    "\n",
    "from sklearn.naive_bayes import MultinomialNB\n",
    "from utils import get_auc_CV\n",
    "\n",
    "res = pd.Series(data=[get_auc_CV(MultinomialNB(alpha=i), X_train_tfidf, y_train) for i in np.arange(1, 10, 0.1)],\n",
    "                index=np.arange(1, 10, 0.1))\n",
    "\n",
    "best_alpha = np.round(res.idxmax(), 2)\n",
    "print('Best alpha: ', best_alpha)\n",
    "\n",
    "plt.plot(res)\n",
    "plt.title('AUC vs. Alpha')\n",
    "plt.xlabel('Alpha')\n",
    "plt.ylabel('AUC')\n",
    "plt.show()"
   ]
  },
  {
   "cell_type": "code",
   "execution_count": null,
   "metadata": {
    "colab": {
     "base_uri": "https://localhost:8080/",
     "height": 330
    },
    "executionInfo": {
     "elapsed": 854,
     "status": "ok",
     "timestamp": 1679888996193,
     "user": {
      "displayName": "Patrick Cao",
      "userId": "14491048743324317279"
     },
     "user_tz": 240
    },
    "id": "v6Z68Fju7Ai5",
    "outputId": "1eab27be-c84e-44c9-c6c8-d2fc46454157"
   },
   "outputs": [
    {
     "name": "stdout",
     "output_type": "stream",
     "text": [
      "AUC: 0.9099\n",
      "Accuracy: 78.67%\n"
     ]
    },
    {
     "data": {
      "image/png": "[encoded data removed]",
      "text/plain": [
       "<Figure size 432x288 with 1 Axes>"
      ]
     },
     "metadata": {
      "needs_background": "light"
     },
     "output_type": "display_data"
    }
   ],
   "source": [
    "from utils import evaluate_roc\n",
    "\n",
    "# Compute predicted probabilities\n",
    "nb_model = MultinomialNB(alpha=1.8)\n",
    "nb_model.fit(X_train_tfidf, y_train)\n",
    "probs = nb_model.predict_proba(X_val_tfidf)\n",
    "\n",
    "# Evaluate the classifier\n",
    "evaluate_roc(probs, y_val)"
   ]
  },
  {
   "cell_type": "code",
   "execution_count": null,
   "metadata": {
    "colab": {
     "base_uri": "https://localhost:8080/",
     "height": 330
    },
    "executionInfo": {
     "elapsed": 817,
     "status": "ok",
     "timestamp": 1679888999503,
     "user": {
      "displayName": "Patrick Cao",
      "userId": "14491048743324317279"
     },
     "user_tz": 240
    },
    "id": "6vMr4fbIKHbR",
    "outputId": "cda62c94-88ef-46af-e3c3-54c660cda0ca"
   },
   "outputs": [
    {
     "name": "stdout",
     "output_type": "stream",
     "text": [
      "AUC: 0.9094\n",
      "Accuracy: 79.24%\n"
     ]
    },
    {
     "data": {
      "image/png": "[encoded data removed]",
      "text/plain": [
       "<Figure size 432x288 with 1 Axes>"
      ]
     },
     "metadata": {
      "needs_background": "light"
     },
     "output_type": "display_data"
    }
   ],
   "source": [
    "# Compute predicted probabilities\n",
    "nb_model = MultinomialNB(alpha=1.5)\n",
    "nb_model.fit(X_train_tfidf, y_train)\n",
    "probs = nb_model.predict_proba(X_val_tfidf)\n",
    "\n",
    "# Evaluate the classifier\n",
    "evaluate_roc(probs, y_val)"
   ]
  },
  {
   "cell_type": "markdown",
   "metadata": {
    "id": "PvBbCPJie8ct"
   },
   "source": [
    "# Influence Function"
   ]
  },
  {
   "cell_type": "code",
   "execution_count": null,
   "metadata": {
    "id": "n_HktM31e-EO"
   },
   "outputs": [],
   "source": []
  }
 ],
 "metadata": {
  "accelerator": "GPU",
  "colab": {
   "authorship_tag": "ABX9TyMj7Ew9+5i4AYzbZkcdtCJv",
   "provenance": [
    {
     "file_id": "1epnZOAwjD6OcYoCVZPJzWFOpcCmxY446",
     "timestamp": 1679889361933
    },
    {
     "file_id": "12fA4kCMggyt4Gz-B2MSi6tFwB3zzyO_O",
     "timestamp": 1679669448099
    }
   ]
  },
  "gpuClass": "standard",
  "kernelspec": {
   "display_name": "conda_pytorch_p39",
   "language": "python",
   "name": "conda_pytorch_p39"
  },
  "language_info": {
   "codemirror_mode": {
    "name": "ipython",
    "version": 3
   },
   "file_extension": ".py",
   "mimetype": "text/x-python",
   "name": "python",
   "nbconvert_exporter": "python",
   "pygments_lexer": "ipython3",
   "version": "3.9.15"
  }
 },
 "nbformat": 4,
 "nbformat_minor": 4
}
