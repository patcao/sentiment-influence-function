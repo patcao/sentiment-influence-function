{
 "cells": [
  {
   "cell_type": "markdown",
   "metadata": {
    "id": "j7TqVDwQqWhv"
   },
   "source": [
    "## Install packages"
   ]
  },
  {
   "cell_type": "code",
   "execution_count": 8,
   "metadata": {
    "tags": []
   },
   "outputs": [],
   "source": [
    "# !pip install transformers"
   ]
  },
  {
   "cell_type": "code",
   "execution_count": 2,
   "metadata": {
    "executionInfo": {
     "elapsed": 9,
     "status": "ok",
     "timestamp": 1679952484280,
     "user": {
      "displayName": "Patrick Cao",
      "userId": "14491048743324317279"
     },
     "user_tz": 240
    },
    "id": "3hV2Ty1MUoI4",
    "tags": []
   },
   "outputs": [],
   "source": [
    "%load_ext autoreload\n",
    "%autoreload 2\n",
    "\n",
    "import os\n",
    "import re\n",
    "\n",
    "# from transformers import get_linear_schedule_with_warmup\n",
    "# from transformers.optimization import AdamW\n",
    "import sys\n",
    "from datetime import datetime\n",
    "from pathlib import Path\n",
    "from sys import platform\n",
    "\n",
    "import matplotlib.pyplot as plt\n",
    "import numpy as np\n",
    "import pandas as pd\n",
    "import src.utils as utils\n",
    "import torch\n",
    "from torch.utils.data import DataLoader, Dataset\n",
    "from tqdm import tqdm\n",
    "\n",
    "%matplotlib inline"
   ]
  },
  {
   "cell_type": "code",
   "execution_count": 10,
   "metadata": {},
   "outputs": [
    {
     "name": "stderr",
     "output_type": "stream",
     "text": [
      "\u001b[34m\u001b[1mwandb\u001b[0m: Currently logged in as: \u001b[33mpatcao\u001b[0m. Use \u001b[1m`wandb login --relogin`\u001b[0m to force relogin\n"
     ]
    },
    {
     "data": {
      "text/plain": [
       "True"
      ]
     },
     "execution_count": 10,
     "metadata": {},
     "output_type": "execute_result"
    }
   ],
   "source": [
    "import wandb\n",
    "\n",
    "wandb.login()"
   ]
  },
  {
   "cell_type": "markdown",
   "metadata": {
    "id": "VudllTu25rd0"
   },
   "source": [
    "## Set up GPU"
   ]
  },
  {
   "cell_type": "code",
   "execution_count": 3,
   "metadata": {
    "colab": {
     "base_uri": "https://localhost:8080/"
    },
    "executionInfo": {
     "elapsed": 7,
     "status": "ok",
     "timestamp": 1679952484280,
     "user": {
      "displayName": "Patrick Cao",
      "userId": "14491048743324317279"
     },
     "user_tz": 240
    },
    "id": "UUs_V6R55tMV",
    "outputId": "c94b30c5-7bb5-446d-821d-17c0ce1fbbcd",
    "tags": []
   },
   "outputs": [
    {
     "name": "stdout",
     "output_type": "stream",
     "text": [
      "There are 1 GPU(s) available.\n",
      "Device name: NVIDIA GeForce GTX 1070\n"
     ]
    }
   ],
   "source": [
    "if torch.cuda.is_available():\n",
    "    device = torch.device(\"cuda\")\n",
    "    print(f\"There are {torch.cuda.device_count()} GPU(s) available.\")\n",
    "    print(\"Device name:\", torch.cuda.get_device_name(0))\n",
    "else:\n",
    "    print(\"No GPU available, using the CPU instead.\")\n",
    "    device = torch.device(\"cpu\")"
   ]
  },
  {
   "cell_type": "markdown",
   "metadata": {
    "id": "GZNBtl3OHHvo"
   },
   "source": [
    "## Load Dataset"
   ]
  },
  {
   "cell_type": "code",
   "execution_count": 12,
   "metadata": {
    "colab": {
     "base_uri": "https://localhost:8080/"
    },
    "executionInfo": {
     "elapsed": 218,
     "status": "ok",
     "timestamp": 1679953370279,
     "user": {
      "displayName": "Patrick Cao",
      "userId": "14491048743324317279"
     },
     "user_tz": 240
    },
    "id": "8KFmLDXMGwxy",
    "outputId": "c5bb5c94-a8b3-46fb-d48d-e595f740c978",
    "tags": []
   },
   "outputs": [
    {
     "name": "stdout",
     "output_type": "stream",
     "text": [
      "train: 67349\n",
      "test: 1821\n",
      "val: 872\n"
     ]
    }
   ],
   "source": [
    "data_path = Path(\"data\")\n",
    "\n",
    "all_train_df = pd.read_csv(data_path / \"train.csv\")\n",
    "all_test_df = pd.read_csv(data_path / \"test.csv\")\n",
    "all_val_df = pd.read_csv(data_path / \"val.csv\")\n",
    "\n",
    "print(f\"train: {len(all_train_df)}\")\n",
    "print(f\"test: {len(all_test_df)}\")\n",
    "print(f\"val: {len(all_val_df)}\")"
   ]
  },
  {
   "cell_type": "code",
   "execution_count": 13,
   "metadata": {
    "tags": []
   },
   "outputs": [
    {
     "name": "stdout",
     "output_type": "stream",
     "text": [
      "train: 60614\n",
      "val: 6735\n",
      "test: 872\n"
     ]
    }
   ],
   "source": [
    "from sklearn.model_selection import train_test_split\n",
    "\n",
    "train_df, val_df = train_test_split(all_train_df, test_size=0.1, random_state=23)\n",
    "test_df = all_val_df\n",
    "\n",
    "# Reset all indices\n",
    "train_df = train_df.reset_index(drop=True)\n",
    "val_df = val_df.reset_index(drop=True)\n",
    "test_df = test_df.reset_index(drop=True)\n",
    "\n",
    "print(f\"train: {len(train_df)}\")\n",
    "print(f\"val: {len(val_df)}\")\n",
    "print(f\"test: {len(test_df)}\")"
   ]
  },
  {
   "cell_type": "code",
   "execution_count": 14,
   "metadata": {},
   "outputs": [
    {
     "data": {
      "text/plain": [
       "1    33803\n",
       "0    26811\n",
       "Name: label, dtype: int64"
      ]
     },
     "execution_count": 14,
     "metadata": {},
     "output_type": "execute_result"
    }
   ],
   "source": [
    "train_df.label.value_counts()"
   ]
  },
  {
   "cell_type": "code",
   "execution_count": 15,
   "metadata": {},
   "outputs": [
    {
     "data": {
      "text/plain": [
       "1    3766\n",
       "0    2969\n",
       "Name: label, dtype: int64"
      ]
     },
     "execution_count": 15,
     "metadata": {},
     "output_type": "execute_result"
    }
   ],
   "source": [
    "val_df.label.value_counts()"
   ]
  },
  {
   "cell_type": "code",
   "execution_count": 16,
   "metadata": {},
   "outputs": [
    {
     "data": {
      "text/plain": [
       "1    444\n",
       "0    428\n",
       "Name: label, dtype: int64"
      ]
     },
     "execution_count": 16,
     "metadata": {},
     "output_type": "execute_result"
    }
   ],
   "source": [
    "test_df.label.value_counts()"
   ]
  },
  {
   "cell_type": "markdown",
   "metadata": {
    "id": "PffVTcgWOSAJ"
   },
   "source": [
    "## PyTorch DataLoader"
   ]
  },
  {
   "cell_type": "code",
   "execution_count": 42,
   "metadata": {
    "colab": {
     "base_uri": "https://localhost:8080/"
    },
    "executionInfo": {
     "elapsed": 26218,
     "status": "ok",
     "timestamp": 1679953959402,
     "user": {
      "displayName": "Patrick Cao",
      "userId": "14491048743324317279"
     },
     "user_tz": 240
    },
    "id": "PWPl1GoGOSOg",
    "outputId": "f3644dc7-73d4-4e2a-93d1-656b3f6b655d"
   },
   "outputs": [
    {
     "name": "stdout",
     "output_type": "stream",
     "text": [
      "CPU times: user 17 µs, sys: 0 ns, total: 17 µs\n",
      "Wall time: 20.5 µs\n"
     ]
    }
   ],
   "source": [
    "%%time\n",
    "from src.datasets import SST2Dataset\n",
    "from torch.utils.data import (\n",
    "    DataLoader,\n",
    "    RandomSampler,\n",
    "    SequentialSampler,\n",
    "    TensorDataset,\n",
    "    random_split,\n",
    ")\n",
    "\n",
    "\n",
    "def create_dataloaders(\n",
    "    bert_tokenizer_name: str, max_sequence_length: int, batch_size: int\n",
    "):\n",
    "    device = utils.get_device()\n",
    "\n",
    "    data_path = Path(\"data\")\n",
    "\n",
    "    all_train_df = pd.read_csv(data_path / \"train.csv\")\n",
    "    # all_test_df = pd.read_csv(data_path / \"test.csv\")\n",
    "    all_val_df = pd.read_csv(data_path / \"val.csv\")\n",
    "\n",
    "    # train_df, val_df = train_test_split(all_train_df, test_size=0.1, random_state=23)\n",
    "    train_df = all_train_df\n",
    "    test_df = all_val_df\n",
    "\n",
    "    # Reset all indices\n",
    "    train_df = train_df.reset_index(drop=True)\n",
    "    test_df = test_df.reset_index(drop=True)\n",
    "\n",
    "    # Train data\n",
    "    train_data = SST2Dataset.create_dataset(\n",
    "        name=\"train\",\n",
    "        device=device,\n",
    "        df=train_df,\n",
    "        tokenizer_name=bert_tokenizer_name,\n",
    "        max_seq_len=max_sequence_length,\n",
    "    )\n",
    "\n",
    "    train_dataloader = DataLoader(train_data, batch_size=batch_size, shuffle=True)\n",
    "\n",
    "    # Test data\n",
    "    test_data = SST2Dataset.create_dataset(\n",
    "        name=\"test\",\n",
    "        device=device,\n",
    "        df=test_df,\n",
    "        tokenizer_name=bert_tokenizer_name,\n",
    "        max_seq_len=max_sequence_length,\n",
    "    )\n",
    "    test_dataloader = DataLoader(test_data, sampler=SequentialSampler(test_data))\n",
    "\n",
    "    return (train_dataloader, None, test_dataloader)"
   ]
  },
  {
   "cell_type": "markdown",
   "metadata": {
    "id": "_Y4ZecNYK3yr"
   },
   "source": [
    "# Fine-Tuned Bert Classifier"
   ]
  },
  {
   "cell_type": "markdown",
   "metadata": {
    "id": "EbClhDGfadbP"
   },
   "source": [
    "## Train"
   ]
  },
  {
   "cell_type": "code",
   "execution_count": 30,
   "metadata": {},
   "outputs": [],
   "source": [
    "df = pd.read_csv('loo/run_0/test_loss.csv')\n",
    "df2 = pd.read_csv('loo/run_1/test_loss.csv')"
   ]
  },
  {
   "cell_type": "code",
   "execution_count": 37,
   "metadata": {},
   "outputs": [
    {
     "data": {
      "text/html": [
       "<div>\n",
       "<style scoped>\n",
       "    .dataframe tbody tr th:only-of-type {\n",
       "        vertical-align: middle;\n",
       "    }\n",
       "\n",
       "    .dataframe tbody tr th {\n",
       "        vertical-align: top;\n",
       "    }\n",
       "\n",
       "    .dataframe thead th {\n",
       "        text-align: right;\n",
       "    }\n",
       "</style>\n",
       "<table border=\"1\" class=\"dataframe\">\n",
       "  <thead>\n",
       "    <tr style=\"text-align: right;\">\n",
       "      <th></th>\n",
       "      <th>guid</th>\n",
       "      <th>label</th>\n",
       "      <th>loss</th>\n",
       "    </tr>\n",
       "  </thead>\n",
       "  <tbody>\n",
       "    <tr>\n",
       "      <th>0</th>\n",
       "      <td>0</td>\n",
       "      <td>1</td>\n",
       "      <td>0.013113</td>\n",
       "    </tr>\n",
       "    <tr>\n",
       "      <th>1</th>\n",
       "      <td>1</td>\n",
       "      <td>0</td>\n",
       "      <td>0.080885</td>\n",
       "    </tr>\n",
       "    <tr>\n",
       "      <th>2</th>\n",
       "      <td>2</td>\n",
       "      <td>1</td>\n",
       "      <td>0.011847</td>\n",
       "    </tr>\n",
       "    <tr>\n",
       "      <th>3</th>\n",
       "      <td>3</td>\n",
       "      <td>1</td>\n",
       "      <td>0.079333</td>\n",
       "    </tr>\n",
       "    <tr>\n",
       "      <th>4</th>\n",
       "      <td>4</td>\n",
       "      <td>0</td>\n",
       "      <td>0.338142</td>\n",
       "    </tr>\n",
       "    <tr>\n",
       "      <th>...</th>\n",
       "      <td>...</td>\n",
       "      <td>...</td>\n",
       "      <td>...</td>\n",
       "    </tr>\n",
       "    <tr>\n",
       "      <th>867</th>\n",
       "      <td>867</td>\n",
       "      <td>0</td>\n",
       "      <td>2.273263</td>\n",
       "    </tr>\n",
       "    <tr>\n",
       "      <th>868</th>\n",
       "      <td>868</td>\n",
       "      <td>1</td>\n",
       "      <td>0.316634</td>\n",
       "    </tr>\n",
       "    <tr>\n",
       "      <th>869</th>\n",
       "      <td>869</td>\n",
       "      <td>0</td>\n",
       "      <td>1.533939</td>\n",
       "    </tr>\n",
       "    <tr>\n",
       "      <th>870</th>\n",
       "      <td>870</td>\n",
       "      <td>0</td>\n",
       "      <td>0.568069</td>\n",
       "    </tr>\n",
       "    <tr>\n",
       "      <th>871</th>\n",
       "      <td>871</td>\n",
       "      <td>1</td>\n",
       "      <td>0.044030</td>\n",
       "    </tr>\n",
       "  </tbody>\n",
       "</table>\n",
       "<p>872 rows × 3 columns</p>\n",
       "</div>"
      ],
      "text/plain": [
       "     guid  label      loss\n",
       "0       0      1  0.013113\n",
       "1       1      0  0.080885\n",
       "2       2      1  0.011847\n",
       "3       3      1  0.079333\n",
       "4       4      0  0.338142\n",
       "..    ...    ...       ...\n",
       "867   867      0  2.273263\n",
       "868   868      1  0.316634\n",
       "869   869      0  1.533939\n",
       "870   870      0  0.568069\n",
       "871   871      1  0.044030\n",
       "\n",
       "[872 rows x 3 columns]"
      ]
     },
     "execution_count": 37,
     "metadata": {},
     "output_type": "execute_result"
    }
   ],
   "source": [
    "df.drop('Unnamed: 0', axis=1)"
   ]
  },
  {
   "cell_type": "code",
   "execution_count": 39,
   "metadata": {},
   "outputs": [
    {
     "data": {
      "text/html": [
       "<div>\n",
       "<style scoped>\n",
       "    .dataframe tbody tr th:only-of-type {\n",
       "        vertical-align: middle;\n",
       "    }\n",
       "\n",
       "    .dataframe tbody tr th {\n",
       "        vertical-align: top;\n",
       "    }\n",
       "\n",
       "    .dataframe thead th {\n",
       "        text-align: right;\n",
       "    }\n",
       "</style>\n",
       "<table border=\"1\" class=\"dataframe\">\n",
       "  <thead>\n",
       "    <tr style=\"text-align: right;\">\n",
       "      <th></th>\n",
       "      <th>guid</th>\n",
       "      <th>label</th>\n",
       "      <th>loss</th>\n",
       "    </tr>\n",
       "  </thead>\n",
       "  <tbody>\n",
       "    <tr>\n",
       "      <th>0</th>\n",
       "      <td>0</td>\n",
       "      <td>1</td>\n",
       "      <td>0.013113</td>\n",
       "    </tr>\n",
       "    <tr>\n",
       "      <th>1</th>\n",
       "      <td>1</td>\n",
       "      <td>0</td>\n",
       "      <td>0.080885</td>\n",
       "    </tr>\n",
       "    <tr>\n",
       "      <th>2</th>\n",
       "      <td>2</td>\n",
       "      <td>1</td>\n",
       "      <td>0.011847</td>\n",
       "    </tr>\n",
       "    <tr>\n",
       "      <th>3</th>\n",
       "      <td>3</td>\n",
       "      <td>1</td>\n",
       "      <td>0.079333</td>\n",
       "    </tr>\n",
       "    <tr>\n",
       "      <th>4</th>\n",
       "      <td>4</td>\n",
       "      <td>0</td>\n",
       "      <td>0.338142</td>\n",
       "    </tr>\n",
       "    <tr>\n",
       "      <th>...</th>\n",
       "      <td>...</td>\n",
       "      <td>...</td>\n",
       "      <td>...</td>\n",
       "    </tr>\n",
       "    <tr>\n",
       "      <th>867</th>\n",
       "      <td>867</td>\n",
       "      <td>0</td>\n",
       "      <td>2.273263</td>\n",
       "    </tr>\n",
       "    <tr>\n",
       "      <th>868</th>\n",
       "      <td>868</td>\n",
       "      <td>1</td>\n",
       "      <td>0.316634</td>\n",
       "    </tr>\n",
       "    <tr>\n",
       "      <th>869</th>\n",
       "      <td>869</td>\n",
       "      <td>0</td>\n",
       "      <td>1.533939</td>\n",
       "    </tr>\n",
       "    <tr>\n",
       "      <th>870</th>\n",
       "      <td>870</td>\n",
       "      <td>0</td>\n",
       "      <td>0.568069</td>\n",
       "    </tr>\n",
       "    <tr>\n",
       "      <th>871</th>\n",
       "      <td>871</td>\n",
       "      <td>1</td>\n",
       "      <td>0.044030</td>\n",
       "    </tr>\n",
       "  </tbody>\n",
       "</table>\n",
       "<p>872 rows × 3 columns</p>\n",
       "</div>"
      ],
      "text/plain": [
       "     guid  label      loss\n",
       "0       0      1  0.013113\n",
       "1       1      0  0.080885\n",
       "2       2      1  0.011847\n",
       "3       3      1  0.079333\n",
       "4       4      0  0.338142\n",
       "..    ...    ...       ...\n",
       "867   867      0  2.273263\n",
       "868   868      1  0.316634\n",
       "869   869      0  1.533939\n",
       "870   870      0  0.568069\n",
       "871   871      1  0.044030\n",
       "\n",
       "[872 rows x 3 columns]"
      ]
     },
     "execution_count": 39,
     "metadata": {},
     "output_type": "execute_result"
    }
   ],
   "source": [
    "df.drop([c for c in df.columns if 'Unnamed' in c], axis=1)"
   ]
  },
  {
   "cell_type": "code",
   "execution_count": 27,
   "metadata": {},
   "outputs": [
    {
     "data": {
      "text/html": [
       "<div>\n",
       "<style scoped>\n",
       "    .dataframe tbody tr th:only-of-type {\n",
       "        vertical-align: middle;\n",
       "    }\n",
       "\n",
       "    .dataframe tbody tr th {\n",
       "        vertical-align: top;\n",
       "    }\n",
       "\n",
       "    .dataframe thead th {\n",
       "        text-align: right;\n",
       "    }\n",
       "</style>\n",
       "<table border=\"1\" class=\"dataframe\">\n",
       "  <thead>\n",
       "    <tr style=\"text-align: right;\">\n",
       "      <th></th>\n",
       "      <th>Unnamed: 0</th>\n",
       "      <th>guid</th>\n",
       "      <th>label</th>\n",
       "      <th>loss</th>\n",
       "    </tr>\n",
       "  </thead>\n",
       "  <tbody>\n",
       "    <tr>\n",
       "      <th>0</th>\n",
       "      <td>0</td>\n",
       "      <td>0</td>\n",
       "      <td>1</td>\n",
       "      <td>0.016650</td>\n",
       "    </tr>\n",
       "    <tr>\n",
       "      <th>1</th>\n",
       "      <td>1</td>\n",
       "      <td>1</td>\n",
       "      <td>0</td>\n",
       "      <td>0.072907</td>\n",
       "    </tr>\n",
       "    <tr>\n",
       "      <th>2</th>\n",
       "      <td>2</td>\n",
       "      <td>2</td>\n",
       "      <td>1</td>\n",
       "      <td>0.015513</td>\n",
       "    </tr>\n",
       "    <tr>\n",
       "      <th>3</th>\n",
       "      <td>3</td>\n",
       "      <td>3</td>\n",
       "      <td>1</td>\n",
       "      <td>0.076530</td>\n",
       "    </tr>\n",
       "    <tr>\n",
       "      <th>4</th>\n",
       "      <td>4</td>\n",
       "      <td>4</td>\n",
       "      <td>0</td>\n",
       "      <td>0.198417</td>\n",
       "    </tr>\n",
       "    <tr>\n",
       "      <th>...</th>\n",
       "      <td>...</td>\n",
       "      <td>...</td>\n",
       "      <td>...</td>\n",
       "      <td>...</td>\n",
       "    </tr>\n",
       "    <tr>\n",
       "      <th>867</th>\n",
       "      <td>867</td>\n",
       "      <td>867</td>\n",
       "      <td>0</td>\n",
       "      <td>1.617648</td>\n",
       "    </tr>\n",
       "    <tr>\n",
       "      <th>868</th>\n",
       "      <td>868</td>\n",
       "      <td>868</td>\n",
       "      <td>1</td>\n",
       "      <td>0.362112</td>\n",
       "    </tr>\n",
       "    <tr>\n",
       "      <th>869</th>\n",
       "      <td>869</td>\n",
       "      <td>869</td>\n",
       "      <td>0</td>\n",
       "      <td>1.560394</td>\n",
       "    </tr>\n",
       "    <tr>\n",
       "      <th>870</th>\n",
       "      <td>870</td>\n",
       "      <td>870</td>\n",
       "      <td>0</td>\n",
       "      <td>0.641366</td>\n",
       "    </tr>\n",
       "    <tr>\n",
       "      <th>871</th>\n",
       "      <td>871</td>\n",
       "      <td>871</td>\n",
       "      <td>1</td>\n",
       "      <td>0.048707</td>\n",
       "    </tr>\n",
       "  </tbody>\n",
       "</table>\n",
       "<p>872 rows × 4 columns</p>\n",
       "</div>"
      ],
      "text/plain": [
       "     Unnamed: 0  guid  label      loss\n",
       "0             0     0      1  0.016650\n",
       "1             1     1      0  0.072907\n",
       "2             2     2      1  0.015513\n",
       "3             3     3      1  0.076530\n",
       "4             4     4      0  0.198417\n",
       "..          ...   ...    ...       ...\n",
       "867         867   867      0  1.617648\n",
       "868         868   868      1  0.362112\n",
       "869         869   869      0  1.560394\n",
       "870         870   870      0  0.641366\n",
       "871         871   871      1  0.048707\n",
       "\n",
       "[872 rows x 4 columns]"
      ]
     },
     "execution_count": 27,
     "metadata": {},
     "output_type": "execute_result"
    }
   ],
   "source": [
    "df2"
   ]
  },
  {
   "cell_type": "code",
   "execution_count": 23,
   "metadata": {},
   "outputs": [
    {
     "name": "stderr",
     "output_type": "stream",
     "text": [
      "100%|█████████████████████████████████████████████████████████████████████████████████████████████████████████████████| 2000/2000 [00:01<00:00, 1029.58it/s]\n"
     ]
    }
   ],
   "source": [
    "import time\n",
    "\n",
    "for i in tqdm(range(2000)):\n",
    "    df = pd.read_csv(f\"loo/run_{i}/test_loss.csv\")"
   ]
  },
  {
   "cell_type": "code",
   "execution_count": 17,
   "metadata": {},
   "outputs": [
    {
     "data": {
      "text/html": [
       "<div>\n",
       "<style scoped>\n",
       "    .dataframe tbody tr th:only-of-type {\n",
       "        vertical-align: middle;\n",
       "    }\n",
       "\n",
       "    .dataframe tbody tr th {\n",
       "        vertical-align: top;\n",
       "    }\n",
       "\n",
       "    .dataframe thead th {\n",
       "        text-align: right;\n",
       "    }\n",
       "</style>\n",
       "<table border=\"1\" class=\"dataframe\">\n",
       "  <thead>\n",
       "    <tr style=\"text-align: right;\">\n",
       "      <th></th>\n",
       "      <th>Unnamed: 0</th>\n",
       "      <th>guid</th>\n",
       "      <th>label</th>\n",
       "      <th>loss</th>\n",
       "    </tr>\n",
       "  </thead>\n",
       "  <tbody>\n",
       "    <tr>\n",
       "      <th>0</th>\n",
       "      <td>0</td>\n",
       "      <td>0</td>\n",
       "      <td>1</td>\n",
       "      <td>0.016650</td>\n",
       "    </tr>\n",
       "    <tr>\n",
       "      <th>1</th>\n",
       "      <td>1</td>\n",
       "      <td>1</td>\n",
       "      <td>0</td>\n",
       "      <td>0.072907</td>\n",
       "    </tr>\n",
       "    <tr>\n",
       "      <th>2</th>\n",
       "      <td>2</td>\n",
       "      <td>2</td>\n",
       "      <td>1</td>\n",
       "      <td>0.015513</td>\n",
       "    </tr>\n",
       "    <tr>\n",
       "      <th>3</th>\n",
       "      <td>3</td>\n",
       "      <td>3</td>\n",
       "      <td>1</td>\n",
       "      <td>0.076530</td>\n",
       "    </tr>\n",
       "    <tr>\n",
       "      <th>4</th>\n",
       "      <td>4</td>\n",
       "      <td>4</td>\n",
       "      <td>0</td>\n",
       "      <td>0.198417</td>\n",
       "    </tr>\n",
       "    <tr>\n",
       "      <th>...</th>\n",
       "      <td>...</td>\n",
       "      <td>...</td>\n",
       "      <td>...</td>\n",
       "      <td>...</td>\n",
       "    </tr>\n",
       "    <tr>\n",
       "      <th>867</th>\n",
       "      <td>867</td>\n",
       "      <td>867</td>\n",
       "      <td>0</td>\n",
       "      <td>1.617648</td>\n",
       "    </tr>\n",
       "    <tr>\n",
       "      <th>868</th>\n",
       "      <td>868</td>\n",
       "      <td>868</td>\n",
       "      <td>1</td>\n",
       "      <td>0.362112</td>\n",
       "    </tr>\n",
       "    <tr>\n",
       "      <th>869</th>\n",
       "      <td>869</td>\n",
       "      <td>869</td>\n",
       "      <td>0</td>\n",
       "      <td>1.560394</td>\n",
       "    </tr>\n",
       "    <tr>\n",
       "      <th>870</th>\n",
       "      <td>870</td>\n",
       "      <td>870</td>\n",
       "      <td>0</td>\n",
       "      <td>0.641366</td>\n",
       "    </tr>\n",
       "    <tr>\n",
       "      <th>871</th>\n",
       "      <td>871</td>\n",
       "      <td>871</td>\n",
       "      <td>1</td>\n",
       "      <td>0.048707</td>\n",
       "    </tr>\n",
       "  </tbody>\n",
       "</table>\n",
       "<p>872 rows × 4 columns</p>\n",
       "</div>"
      ],
      "text/plain": [
       "     Unnamed: 0  guid  label      loss\n",
       "0             0     0      1  0.016650\n",
       "1             1     1      0  0.072907\n",
       "2             2     2      1  0.015513\n",
       "3             3     3      1  0.076530\n",
       "4             4     4      0  0.198417\n",
       "..          ...   ...    ...       ...\n",
       "867         867   867      0  1.617648\n",
       "868         868   868      1  0.362112\n",
       "869         869   869      0  1.560394\n",
       "870         870   870      0  0.641366\n",
       "871         871   871      1  0.048707\n",
       "\n",
       "[872 rows x 4 columns]"
      ]
     },
     "execution_count": 17,
     "metadata": {},
     "output_type": "execute_result"
    }
   ],
   "source": [
    "df2"
   ]
  },
  {
   "cell_type": "code",
   "execution_count": null,
   "metadata": {},
   "outputs": [],
   "source": []
  },
  {
   "cell_type": "code",
   "execution_count": 43,
   "metadata": {
    "id": "Sx_FlsINOdKP"
   },
   "outputs": [
    {
     "name": "stdout",
     "output_type": "stream",
     "text": [
      "CPU times: user 8 µs, sys: 0 ns, total: 8 µs\n",
      "Wall time: 9.54 µs\n"
     ]
    }
   ],
   "source": [
    "%%time\n",
    "import src.BertClassifier as BertClassifier\n",
    "\n",
    "\n",
    "def main_train_loop():\n",
    "    config = wandb.config\n",
    "    train_dataloader, val_dataloader, test_dataloader = create_dataloaders(\n",
    "        config.bert_model_name, config.max_sequence_length, config.batch_size\n",
    "    )\n",
    "    print(f\"Train: {len(train_dataloader)*config.batch_size}\")\n",
    "    print(f\"Test: {len(test_dataloader)}\")\n",
    "\n",
    "    model = BertClassifier.create_bert_classifier(\n",
    "        config.bert_model_name,\n",
    "        classifier_hidden_size=config.classifier_hidden_size,\n",
    "        classifier_drop_out=config.classifier_drop_out,\n",
    "        freeze_bert=True,\n",
    "        random_state=42,\n",
    "    )\n",
    "    optimizer = utils.create_optimizer(\n",
    "        model.classifier.parameters(), config.learning_rate\n",
    "    )\n",
    "\n",
    "    loss_fn = torch.nn.CrossEntropyLoss()\n",
    "\n",
    "    utils.train(\n",
    "        config=config,\n",
    "        model=model,\n",
    "        optimizer=optimizer,\n",
    "        loss_fn=loss_fn,\n",
    "        train_dataloader=train_dataloader,\n",
    "        val_dataloader=val_dataloader,\n",
    "    )\n",
    "\n",
    "    test_loss, test_acc = utils.evaluate(model, test_dataloader)\n",
    "    wandb.summary[\"test/loss\"] = test_loss\n",
    "    wandb.summary[\"test/accuracy\"] = test_acc\n",
    "\n",
    "    wandb.finish()\n",
    "    return model"
   ]
  },
  {
   "cell_type": "code",
   "execution_count": null,
   "metadata": {},
   "outputs": [
    {
     "data": {
      "text/html": [
       "Tracking run with wandb version 0.15.0"
      ],
      "text/plain": [
       "<IPython.core.display.HTML object>"
      ]
     },
     "metadata": {},
     "output_type": "display_data"
    },
    {
     "data": {
      "text/html": [
       "Run data is saved locally in <code>/home/pcao/sentiment-influence-function/wandb/run-20230422_212349-7xiwq3u2</code>"
      ],
      "text/plain": [
       "<IPython.core.display.HTML object>"
      ]
     },
     "metadata": {},
     "output_type": "display_data"
    },
    {
     "data": {
      "text/html": [
       "Syncing run <strong><a href='https://wandb.ai/patcao/BertClassifier/runs/7xiwq3u2' target=\"_blank\">super-pyramid-99</a></strong> to <a href='https://wandb.ai/patcao/BertClassifier' target=\"_blank\">Weights & Biases</a> (<a href='https://wandb.me/run' target=\"_blank\">docs</a>)<br/>"
      ],
      "text/plain": [
       "<IPython.core.display.HTML object>"
      ]
     },
     "metadata": {},
     "output_type": "display_data"
    },
    {
     "data": {
      "text/html": [
       " View project at <a href='https://wandb.ai/patcao/BertClassifier' target=\"_blank\">https://wandb.ai/patcao/BertClassifier</a>"
      ],
      "text/plain": [
       "<IPython.core.display.HTML object>"
      ]
     },
     "metadata": {},
     "output_type": "display_data"
    },
    {
     "data": {
      "text/html": [
       " View run at <a href='https://wandb.ai/patcao/BertClassifier/runs/7xiwq3u2' target=\"_blank\">https://wandb.ai/patcao/BertClassifier/runs/7xiwq3u2</a>"
      ],
      "text/plain": [
       "<IPython.core.display.HTML object>"
      ]
     },
     "metadata": {},
     "output_type": "display_data"
    },
    {
     "name": "stderr",
     "output_type": "stream",
     "text": [
      "100%|██████████████████████████████████████████████████████████████████████████████████████████████████████████████| 67349/67349 [00:05<00:00, 13064.55it/s]\n",
      "100%|██████████████████████████████████████████████████████████████████████████████████████████████████████████████████| 872/872 [00:00<00:00, 10360.88it/s]\n"
     ]
    },
    {
     "name": "stdout",
     "output_type": "stream",
     "text": [
      "Train: 67360\n",
      "Test: 872\n"
     ]
    },
    {
     "name": "stderr",
     "output_type": "stream",
     "text": [
      "Some weights of the model checkpoint at distilbert-base-uncased were not used when initializing DistilBertModel: ['vocab_transform.weight', 'vocab_projector.weight', 'vocab_projector.bias', 'vocab_transform.bias', 'vocab_layer_norm.weight', 'vocab_layer_norm.bias']\n",
      "- This IS expected if you are initializing DistilBertModel from the checkpoint of a model trained on another task or with another architecture (e.g. initializing a BertForSequenceClassification model from a BertForPreTraining model).\n",
      "- This IS NOT expected if you are initializing DistilBertModel from the checkpoint of a model that you expect to be exactly identical (initializing a BertForSequenceClassification model from a BertForSequenceClassification model).\n",
      " 65%|████████████████████████████████████████████████████████████████████████▎                                       | 2718/4210 [10:47<05:53,  4.23batch/s]"
     ]
    }
   ],
   "source": [
    "# For fine-tuning BERT, the authors recommend a batch size of 16 or 32.\n",
    "\n",
    "run = wandb.init(\n",
    "    project=\"BertClassifier\",\n",
    "    group=\"fine-tuning\",\n",
    "    config={\n",
    "        \"epochs\": 3,\n",
    "        \"batch_size\": 16,\n",
    "        \"learning_rate\": 5e-5,\n",
    "        \"classifier_hidden_size\": 40,\n",
    "        \"classifier_drop_out\": 0,\n",
    "        \"max_sequence_length\": 64,\n",
    "        \"bert_model_name\": \"distilbert-base-uncased\",\n",
    "    },\n",
    ")\n",
    "\n",
    "model = main_train_loop()"
   ]
  },
  {
   "cell_type": "code",
   "execution_count": null,
   "metadata": {},
   "outputs": [],
   "source": [
    "# For fine-tuning BERT, the authors recommend a batch size of 16 or 32.\n",
    "\n",
    "run = wandb.init(\n",
    "    project=\"BertClassifier\",\n",
    "    group=\"fine_tune_model_dropout\",\n",
    "    config={\n",
    "        \"epochs\": 3,\n",
    "        \"batch_size\": 16,\n",
    "        \"learning_rate\": 3e-5,\n",
    "        \"classifier_hidden_size\": 20,\n",
    "        \"classifier_drop_out\": 0,\n",
    "        \"max_sequence_length\": 64,\n",
    "        \"bert_model_name\": \"distilbert-base-uncased\",\n",
    "    },\n",
    ")\n",
    "\n",
    "model = main_train_loop()"
   ]
  },
  {
   "cell_type": "code",
   "execution_count": 7,
   "metadata": {},
   "outputs": [
    {
     "name": "stderr",
     "output_type": "stream",
     "text": [
      "Some weights of the model checkpoint at distilbert-base-uncased were not used when initializing DistilBertModel: ['vocab_layer_norm.weight', 'vocab_layer_norm.bias', 'vocab_projector.bias', 'vocab_transform.bias', 'vocab_projector.weight', 'vocab_transform.weight']\n",
      "- This IS expected if you are initializing DistilBertModel from the checkpoint of a model trained on another task or with another architecture (e.g. initializing a BertForSequenceClassification model from a BertForPreTraining model).\n",
      "- This IS NOT expected if you are initializing DistilBertModel from the checkpoint of a model that you expect to be exactly identical (initializing a BertForSequenceClassification model from a BertForSequenceClassification model).\n"
     ]
    }
   ],
   "source": [
    "import src.BertClassifier as BertClassifier\n",
    "\n",
    "\n",
    "class AttrDict(dict):\n",
    "    def __init__(self, *args, **kwargs):\n",
    "        super(AttrDict, self).__init__(*args, **kwargs)\n",
    "        self.__dict__ = self\n",
    "\n",
    "\n",
    "config = AttrDict()\n",
    "config.update(\n",
    "    {\n",
    "        \"epochs\": 3,\n",
    "        \"batch_size\": 16,\n",
    "        \"learning_rate\": 3e-5,\n",
    "        \"classifier_hidden_size\": 20,\n",
    "        \"classifier_drop_out\": 0,\n",
    "        \"max_sequence_length\": 64,\n",
    "        \"bert_model_name\": \"distilbert-base-uncased\",\n",
    "    }\n",
    ")\n",
    "model = BertClassifier.create_bert_classifier(\n",
    "    config.bert_model_name,\n",
    "    classifier_hidden_size=config.classifier_hidden_size,\n",
    "    classifier_drop_out=config.classifier_drop_out,\n",
    "    freeze_bert=True,\n",
    "    random_state=42,\n",
    ")"
   ]
  },
  {
   "cell_type": "code",
   "execution_count": 9,
   "metadata": {},
   "outputs": [
    {
     "data": {
      "text/plain": [
       "Sequential(\n",
       "  (0): Linear(in_features=768, out_features=20, bias=True)\n",
       "  (1): Tanh()\n",
       "  (2): Dropout(p=0, inplace=False)\n",
       "  (3): Linear(in_features=20, out_features=2, bias=True)\n",
       ")"
      ]
     },
     "execution_count": 9,
     "metadata": {},
     "output_type": "execute_result"
    }
   ],
   "source": [
    "model.classifier"
   ]
  },
  {
   "cell_type": "code",
   "execution_count": null,
   "metadata": {},
   "outputs": [],
   "source": [
    "model.classifier"
   ]
  },
  {
   "cell_type": "code",
   "execution_count": null,
   "metadata": {},
   "outputs": [],
   "source": []
  },
  {
   "cell_type": "markdown",
   "metadata": {},
   "source": [
    "## Sweep Parameters"
   ]
  },
  {
   "cell_type": "code",
   "execution_count": null,
   "metadata": {},
   "outputs": [],
   "source": [
    "# sweep_configuration = {\n",
    "#     \"method\": \"bayes\",\n",
    "#     \"metric\": {\"goal\": \"minimize\", \"name\": \"test/loss\"},\n",
    "#     \"parameters\": {\n",
    "#         \"epochs\": {\"value\": 4},\n",
    "#         \"bert_model_name\": {\"value\": \"distilbert-base-uncased\"},\n",
    "#         \"max_sequence_length\": {\"value\": 64},\n",
    "#         \"batch_size\": {\"values\": [8, 16, 32, 64]},\n",
    "#         \"learning_rate\": {\"values\": [3e-5, 5e-5]},\n",
    "#         \"classifier_hidden_size\": {\"values\": [10, 100, 200, 400]},\n",
    "#     },\n",
    "# }\n",
    "\n",
    "# sweep_id = wandb.sweep(sweep=sweep_configuration, project=\"BertClassifier\")\n",
    "# wandb.agent(sweep_id, function=main_train_loop)"
   ]
  },
  {
   "cell_type": "code",
   "execution_count": null,
   "metadata": {},
   "outputs": [],
   "source": [
    "epoc_length = len(history[\"train_loss\"])\n",
    "x = np.arange(1, epoc_length + 1)\n",
    "\n",
    "\n",
    "plt.plot(x, history[\"train_loss\"], color=\"b\")\n",
    "plt.plot(x, history[\"val_loss\"], color=\"g\")\n",
    "plt.title(\"Loss\")\n",
    "plt.xlabel(\"Epochs\")\n",
    "plt.ylabel(\"Loss\")"
   ]
  },
  {
   "cell_type": "code",
   "execution_count": null,
   "metadata": {},
   "outputs": [],
   "source": [
    "plt.plot(x, history[\"train_acc\"], color=\"b\")\n",
    "plt.plot(x, history[\"val_acc\"], color=\"g\")\n",
    "plt.title(\"Accuracy\")\n",
    "plt.xlabel(\"Epochs\")\n",
    "plt.ylabel(\"Acc\")"
   ]
  },
  {
   "cell_type": "code",
   "execution_count": null,
   "metadata": {},
   "outputs": [],
   "source": []
  },
  {
   "cell_type": "code",
   "execution_count": null,
   "metadata": {
    "tags": []
   },
   "outputs": [],
   "source": [
    "# Save model parameters\n",
    "\n",
    "model_params_path = Path(\"model_params\")\n",
    "\n",
    "now = datetime.now().strftime(\"%m-%d-%Y_%H%M%S\")\n",
    "\n",
    "torch.save(\n",
    "    bert_classifier.classifier.state_dict(),\n",
    "    model_params_path / f\"{now}-BertClassifier-epoch{epochs}-batch{batch_size}\",\n",
    ")"
   ]
  },
  {
   "cell_type": "markdown",
   "metadata": {
    "id": "dUL4jY_DZ9vx"
   },
   "source": [
    "## Evaluate"
   ]
  },
  {
   "cell_type": "code",
   "execution_count": null,
   "metadata": {
    "tags": []
   },
   "outputs": [],
   "source": [
    "from src.BertClassifier import bert_predict\n",
    "from src.utils import evaluate_roc\n",
    "\n",
    "# Compute predicted probabilities on the test set\n",
    "probs = bert_predict(bert_classifier, test_dataloader, device)\n",
    "\n",
    "# Evaluate the Bert classifier\n",
    "# evaluate_roc(probs, y_val[: len(probs)])\n",
    "evaluate_roc(probs, test_data.labels.cpu())"
   ]
  },
  {
   "cell_type": "code",
   "execution_count": null,
   "metadata": {
    "colab": {
     "base_uri": "https://localhost:8080/",
     "height": 330
    },
    "executionInfo": {
     "elapsed": 3673,
     "status": "ok",
     "timestamp": 1679954495012,
     "user": {
      "displayName": "Patrick Cao",
      "userId": "14491048743324317279"
     },
     "user_tz": 240
    },
    "id": "LShcLRnWZ_H-",
    "outputId": "e918a441-269d-45fe-8d51-2dea238d3e51"
   },
   "outputs": [],
   "source": [
    "# Compute predicted probabilities on the validation set\n",
    "probs = bert_predict(bert_classifier, val_dataloader, device)\n",
    "\n",
    "# Evaluate the Bert classifier\n",
    "evaluate_roc(probs, val_data.labels.cpu())"
   ]
  },
  {
   "cell_type": "code",
   "execution_count": null,
   "metadata": {
    "tags": []
   },
   "outputs": [],
   "source": [
    "len(val_data)"
   ]
  },
  {
   "cell_type": "code",
   "execution_count": null,
   "metadata": {
    "tags": []
   },
   "outputs": [],
   "source": [
    "len(test_data)"
   ]
  },
  {
   "cell_type": "code",
   "execution_count": null,
   "metadata": {
    "executionInfo": {
     "elapsed": 2,
     "status": "aborted",
     "timestamp": 1679952551346,
     "user": {
      "displayName": "Patrick Cao",
      "userId": "14491048743324317279"
     },
     "user_tz": 240
    },
    "id": "mtO4eLhve8MN",
    "tags": []
   },
   "outputs": [],
   "source": []
  },
  {
   "cell_type": "markdown",
   "metadata": {
    "id": "PvBbCPJie8ct"
   },
   "source": [
    "# LOO"
   ]
  },
  {
   "cell_type": "code",
   "execution_count": null,
   "metadata": {
    "executionInfo": {
     "elapsed": 2,
     "status": "aborted",
     "timestamp": 1679952551346,
     "user": {
      "displayName": "Patrick Cao",
      "userId": "14491048743324317279"
     },
     "user_tz": 240
    },
    "id": "n_HktM31e-EO",
    "tags": []
   },
   "outputs": [],
   "source": []
  },
  {
   "cell_type": "code",
   "execution_count": null,
   "metadata": {
    "tags": []
   },
   "outputs": [],
   "source": [
    "# guids = val_data.guids\n",
    "# labels = val_data.labels"
   ]
  },
  {
   "cell_type": "code",
   "execution_count": null,
   "metadata": {
    "tags": []
   },
   "outputs": [],
   "source": [
    "%%time\n",
    "loo = val_data.leave_one_out(3018)"
   ]
  },
  {
   "cell_type": "code",
   "execution_count": null,
   "metadata": {
    "tags": []
   },
   "outputs": [],
   "source": [
    "# Compute predicted probabilities on the test set\n",
    "probs = bert_predict(bert_classifier, test_dataloader, device)"
   ]
  },
  {
   "cell_type": "code",
   "execution_count": null,
   "metadata": {},
   "outputs": [],
   "source": [
    "probs"
   ]
  }
 ],
 "metadata": {
  "accelerator": "GPU",
  "colab": {
   "authorship_tag": "ABX9TyNbkVKOEvoT5UeHOpUbpwF+",
   "provenance": [
    {
     "file_id": "12fA4kCMggyt4Gz-B2MSi6tFwB3zzyO_O",
     "timestamp": 1679669448099
    }
   ]
  },
  "gpuClass": "standard",
  "kernelspec": {
   "display_name": "Python 3 (ipykernel)",
   "language": "python",
   "name": "python3"
  },
  "language_info": {
   "codemirror_mode": {
    "name": "ipython",
    "version": 3
   },
   "file_extension": ".py",
   "mimetype": "text/x-python",
   "name": "python",
   "nbconvert_exporter": "python",
   "pygments_lexer": "ipython3",
   "version": "3.10.10"
  }
 },
 "nbformat": 4,
 "nbformat_minor": 4
}
