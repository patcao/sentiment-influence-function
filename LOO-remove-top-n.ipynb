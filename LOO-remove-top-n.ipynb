{
 "cells": [
  {
   "cell_type": "code",
   "execution_count": 1,
   "id": "9be097dd-0cc3-45f3-b665-a8ef93ad83db",
   "metadata": {
    "execution": {
     "iopub.execute_input": "2023-05-13T02:26:53.497006Z",
     "iopub.status.busy": "2023-05-13T02:26:53.496762Z",
     "iopub.status.idle": "2023-05-13T02:26:53.515046Z",
     "shell.execute_reply": "2023-05-13T02:26:53.514298Z",
     "shell.execute_reply.started": "2023-05-13T02:26:53.496989Z"
    },
    "tags": []
   },
   "outputs": [],
   "source": [
    "%load_ext autoreload\n",
    "%autoreload 2\n",
    "import os\n",
    "\n",
    "os.environ[\"WANDB_SILENT\"] = \"true\""
   ]
  },
  {
   "cell_type": "code",
   "execution_count": null,
   "id": "1d962785-65b7-4e44-8c74-a114a8faa825",
   "metadata": {
    "execution": {
     "iopub.execute_input": "2023-05-13T02:42:26.474935Z",
     "iopub.status.busy": "2023-05-13T02:42:26.474276Z"
    },
    "tags": []
   },
   "outputs": [
    {
     "name": "stderr",
     "output_type": "stream",
     "text": [
      "Some weights of the model checkpoint at distilbert-base-uncased were not used when initializing DistilBertModel: ['vocab_layer_norm.weight', 'vocab_layer_norm.bias', 'vocab_projector.bias', 'vocab_projector.weight', 'vocab_transform.weight', 'vocab_transform.bias']\n",
      "- This IS expected if you are initializing DistilBertModel from the checkpoint of a model trained on another task or with another architecture (e.g. initializing a BertForSequenceClassification model from a BertForPreTraining model).\n",
      "- This IS NOT expected if you are initializing DistilBertModel from the checkpoint of a model that you expect to be exactly identical (initializing a BertForSequenceClassification model from a BertForSequenceClassification model).\n",
      "100%|████████████████████████████████████████████████████████████████████████████████████████████| 10000/10000 [00:00<00:00, 12411.09it/s]\n",
      "100%|████████████████████████████████████████████████████████████████████████████████████████████████| 872/872 [00:00<00:00, 10643.92it/s]\n"
     ]
    }
   ],
   "source": [
    "import argparse\n",
    "import copy\n",
    "import os\n",
    "import statistics\n",
    "from pathlib import Path\n",
    "\n",
    "import matplotlib.pyplot as plt\n",
    "import numpy as np\n",
    "import pandas as pd\n",
    "import torch\n",
    "import yaml\n",
    "from src import BertClassifier\n",
    "from src import datasets as data_utils\n",
    "from src import influence as inf_utils\n",
    "from src import train_utils, utils\n",
    "from src.datasets import create_loo_dataset, create_test_sst2, create_train_sst2\n",
    "from torch.optim import Adam\n",
    "from torch.utils.data import DataLoader, Dataset, TensorDataset\n",
    "from tqdm import tqdm\n",
    "\n",
    "import wandb\n",
    "\n",
    "device = utils.get_device()\n",
    "\n",
    "# config = utils.load_config(\n",
    "#     \"model_params/bert_classifier.yaml\", epochs=5, num_training_examples=1000\n",
    "# )\n",
    "\n",
    "model, config = BertClassifier.load_model(\n",
    "    \"model_params/bert-best.yaml\",\n",
    ")\n",
    "\n",
    "retrain_config = config.copy()\n",
    "retrain_config.update(\n",
    "    classifier_init_state_path=\"model_params/init_classifier_params.pt\"\n",
    ")\n",
    "\n",
    "# Create datasets\n",
    "train_dataset = create_train_sst2(\n",
    "    num_samples=config[\"num_training_examples\"],\n",
    "    tokenizer_name=config[\"bert_model_name\"],\n",
    "    max_seq_len=config[\"max_sequence_length\"],\n",
    "    device=device,\n",
    ")\n",
    "\n",
    "test_dataset = create_test_sst2(\n",
    "    tokenizer_name=config[\"bert_model_name\"],\n",
    "    max_seq_len=config[\"max_sequence_length\"],\n",
    "    device=device,\n",
    ")\n",
    "test_dataloader = DataLoader(test_dataset, shuffle=False, batch_size=1)"
   ]
  },
  {
   "cell_type": "code",
   "execution_count": 3,
   "id": "3189b995-6f7c-4e4f-880c-abb324d7731b",
   "metadata": {
    "execution": {
     "iopub.execute_input": "2023-05-13T02:26:58.191666Z",
     "iopub.status.busy": "2023-05-13T02:26:58.191078Z",
     "iopub.status.idle": "2023-05-13T02:27:04.763970Z",
     "shell.execute_reply": "2023-05-13T02:27:04.763282Z",
     "shell.execute_reply.started": "2023-05-13T02:26:58.191649Z"
    },
    "tags": []
   },
   "outputs": [
    {
     "data": {
      "text/plain": [
       "(0.39863892992381156, 83.14220183486239)"
      ]
     },
     "execution_count": 3,
     "metadata": {},
     "output_type": "execute_result"
    }
   ],
   "source": [
    "fdf, loss, acc = train_utils.evaluate_loss(model, test_dataloader)\n",
    "loss, acc"
   ]
  },
  {
   "cell_type": "code",
   "execution_count": 4,
   "id": "a3e94150-2370-4afc-972f-1a1b20fef86b",
   "metadata": {
    "execution": {
     "iopub.execute_input": "2023-05-13T02:27:04.764621Z",
     "iopub.status.busy": "2023-05-13T02:27:04.764461Z",
     "iopub.status.idle": "2023-05-13T02:27:04.792491Z",
     "shell.execute_reply": "2023-05-13T02:27:04.791746Z",
     "shell.execute_reply.started": "2023-05-13T02:27:04.764608Z"
    },
    "tags": []
   },
   "outputs": [
    {
     "data": {
      "text/html": [
       "<div>\n",
       "<style scoped>\n",
       "    .dataframe tbody tr th:only-of-type {\n",
       "        vertical-align: middle;\n",
       "    }\n",
       "\n",
       "    .dataframe tbody tr th {\n",
       "        vertical-align: top;\n",
       "    }\n",
       "\n",
       "    .dataframe thead th {\n",
       "        text-align: right;\n",
       "    }\n",
       "</style>\n",
       "<table border=\"1\" class=\"dataframe\">\n",
       "  <thead>\n",
       "    <tr style=\"text-align: right;\">\n",
       "      <th></th>\n",
       "      <th>test_guid</th>\n",
       "      <th>logits</th>\n",
       "      <th>pred</th>\n",
       "      <th>label</th>\n",
       "      <th>loss</th>\n",
       "    </tr>\n",
       "  </thead>\n",
       "  <tbody>\n",
       "    <tr>\n",
       "      <th>862</th>\n",
       "      <td>862</td>\n",
       "      <td>[-2.1770434, 2.074576]</td>\n",
       "      <td>1</td>\n",
       "      <td>0</td>\n",
       "      <td>4.265760</td>\n",
       "    </tr>\n",
       "    <tr>\n",
       "      <th>218</th>\n",
       "      <td>218</td>\n",
       "      <td>[-2.1095824, 1.6889799]</td>\n",
       "      <td>1</td>\n",
       "      <td>0</td>\n",
       "      <td>3.820718</td>\n",
       "    </tr>\n",
       "    <tr>\n",
       "      <th>544</th>\n",
       "      <td>544</td>\n",
       "      <td>[-2.088636, 1.667077]</td>\n",
       "      <td>1</td>\n",
       "      <td>0</td>\n",
       "      <td>3.778827</td>\n",
       "    </tr>\n",
       "    <tr>\n",
       "      <th>528</th>\n",
       "      <td>528</td>\n",
       "      <td>[1.3089001, -1.6915847]</td>\n",
       "      <td>0</td>\n",
       "      <td>1</td>\n",
       "      <td>3.049049</td>\n",
       "    </tr>\n",
       "    <tr>\n",
       "      <th>494</th>\n",
       "      <td>494</td>\n",
       "      <td>[-1.5574929, 1.2966905]</td>\n",
       "      <td>1</td>\n",
       "      <td>0</td>\n",
       "      <td>2.910188</td>\n",
       "    </tr>\n",
       "  </tbody>\n",
       "</table>\n",
       "</div>"
      ],
      "text/plain": [
       "     test_guid                   logits  pred  label      loss\n",
       "862        862   [-2.1770434, 2.074576]     1      0  4.265760\n",
       "218        218  [-2.1095824, 1.6889799]     1      0  3.820718\n",
       "544        544    [-2.088636, 1.667077]     1      0  3.778827\n",
       "528        528  [1.3089001, -1.6915847]     0      1  3.049049\n",
       "494        494  [-1.5574929, 1.2966905]     1      0  2.910188"
      ]
     },
     "execution_count": 4,
     "metadata": {},
     "output_type": "execute_result"
    }
   ],
   "source": [
    "fdf.sort_values(\"loss\", ascending=False).iloc[:5]"
   ]
  },
  {
   "cell_type": "code",
   "execution_count": 26,
   "id": "1a2a0a1c-e1bd-474e-a8d3-16035c75cd2f",
   "metadata": {
    "execution": {
     "iopub.execute_input": "2023-05-14T16:40:43.160813Z",
     "iopub.status.busy": "2023-05-14T16:40:43.160592Z",
     "iopub.status.idle": "2023-05-14T16:40:46.188712Z",
     "shell.execute_reply": "2023-05-14T16:40:46.187996Z",
     "shell.execute_reply.started": "2023-05-14T16:40:43.160798Z"
    },
    "tags": []
   },
   "outputs": [
    {
     "data": {
      "text/plain": [
       "[]"
      ]
     },
     "execution_count": 26,
     "metadata": {},
     "output_type": "execute_result"
    }
   ],
   "source": [
    "def load_all_influences(influence_dir: Path, num_training_points: int):\n",
    "    influences = []\n",
    "    no_data = []\n",
    "\n",
    "    for item in influence_dir.iterdir():\n",
    "        if item.is_file():\n",
    "            try:\n",
    "                infl = pd.read_csv(item)\n",
    "                infl[\"infl_diff\"] = (-100.0 / num_training_points) * infl[\"influence\"]\n",
    "                infl[\"abs_infl\"] = np.abs(infl[\"infl_diff\"])\n",
    "                influences.append(infl)\n",
    "            except:\n",
    "                no_data.append(item)\n",
    "    return pd.concat(influences), no_data\n",
    "\n",
    "\n",
    "if_dir = Path(\"results_10k_reg001\") / \"influence\"\n",
    "# if_dir = Path(\"influence_results_1k_nol2\")\n",
    "all_if, no_data = load_all_influences(if_dir, 10000)\n",
    "no_data"
   ]
  },
  {
   "cell_type": "markdown",
   "id": "bdf78bd2-99f7-46e6-80ed-f3843da52249",
   "metadata": {
    "tags": []
   },
   "source": [
    "## Compute LOO Chart"
   ]
  },
  {
   "cell_type": "code",
   "execution_count": 27,
   "id": "e9bc2f59-6acc-485c-b8ce-af8570a5fb37",
   "metadata": {
    "execution": {
     "iopub.execute_input": "2023-05-14T16:40:48.621550Z",
     "iopub.status.busy": "2023-05-14T16:40:48.621339Z",
     "iopub.status.idle": "2023-05-14T16:40:48.644028Z",
     "shell.execute_reply": "2023-05-14T16:40:48.642885Z",
     "shell.execute_reply.started": "2023-05-14T16:40:48.621537Z"
    },
    "tags": []
   },
   "outputs": [],
   "source": [
    "def centered_percentile_idxs(infl, remove_length):\n",
    "    half = int(len(infl) / 2)\n",
    "    start_index = max(0, half - int(remove_length / 2))\n",
    "    end_index = start_index + remove_length\n",
    "    return np.argsort(infl)[start_index:end_index]\n",
    "\n",
    "\n",
    "# def bot_infl_indxs(infl, remove_length):\n",
    "#     start_index = max(0, half - int(remove_length / 2))\n",
    "#     end_index = start_index + remove_length\n",
    "#     return np.argsort(infl)[start_index:end_index]\n",
    "\n",
    "\n",
    "# def top_infl_indxs(infl, remove_length):\n",
    "#     half = int(len(infl) / 2)\n",
    "#     start_index = max(0, half - int(remove_length / 2))\n",
    "#     end_index = start_index + remove_length\n",
    "#     return np.argsort(infl)[start_index:end_index]\n",
    "\n",
    "\n",
    "def random_idxs(remove_length, dataset_length):\n",
    "    # Remove random indices\n",
    "    indices = np.random.choice(dataset_length, remove_length, replace=False)\n",
    "    return indices"
   ]
  },
  {
   "cell_type": "code",
   "execution_count": 28,
   "id": "2a4f4231-fd2a-4fe2-be89-507108619cf2",
   "metadata": {
    "execution": {
     "iopub.execute_input": "2023-05-14T16:40:49.559484Z",
     "iopub.status.busy": "2023-05-14T16:40:49.559269Z",
     "iopub.status.idle": "2023-05-14T16:40:49.579268Z",
     "shell.execute_reply": "2023-05-14T16:40:49.578540Z",
     "shell.execute_reply.started": "2023-05-14T16:40:49.559470Z"
    },
    "tags": []
   },
   "outputs": [],
   "source": [
    "def summarize_loo_df(df):\n",
    "    def compute_acc(df):\n",
    "        acc = sum(df.pred == df.label) / len(df)\n",
    "        return pd.DataFrame(\n",
    "            {\n",
    "                \"avg_loss\": [df.loss.mean()],\n",
    "                \"accuracy\": [acc],\n",
    "            }\n",
    "        )\n",
    "\n",
    "    acc_df = df.groupby([\"type\", \"remove_pct\"]).apply(compute_acc)\n",
    "    return acc_df"
   ]
  },
  {
   "cell_type": "markdown",
   "id": "5534b9a5-7637-45cc-a3cc-bfddc3cdcf78",
   "metadata": {
    "tags": []
   },
   "source": [
    "### Random LOO"
   ]
  },
  {
   "cell_type": "code",
   "execution_count": 29,
   "id": "3521ae42-5ab0-40ba-8be8-19133621641c",
   "metadata": {
    "execution": {
     "iopub.execute_input": "2023-05-14T16:40:50.555003Z",
     "iopub.status.busy": "2023-05-14T16:40:50.554788Z",
     "iopub.status.idle": "2023-05-14T16:54:11.627033Z",
     "shell.execute_reply": "2023-05-14T16:54:11.626377Z",
     "shell.execute_reply.started": "2023-05-14T16:40:50.554990Z"
    },
    "tags": []
   },
   "outputs": [
    {
     "name": "stdout",
     "output_type": "stream",
     "text": [
      "---Remove Pct 0.1---\n"
     ]
    },
    {
     "name": "stderr",
     "output_type": "stream",
     "text": [
      "Some weights of the model checkpoint at distilbert-base-uncased were not used when initializing DistilBertModel: ['vocab_layer_norm.weight', 'vocab_layer_norm.bias', 'vocab_projector.bias', 'vocab_projector.weight', 'vocab_transform.weight', 'vocab_transform.bias']\n",
      "- This IS expected if you are initializing DistilBertModel from the checkpoint of a model trained on another task or with another architecture (e.g. initializing a BertForSequenceClassification model from a BertForPreTraining model).\n",
      "- This IS NOT expected if you are initializing DistilBertModel from the checkpoint of a model that you expect to be exactly identical (initializing a BertForSequenceClassification model from a BertForSequenceClassification model).\n"
     ]
    },
    {
     "name": "stdout",
     "output_type": "stream",
     "text": [
      "Initial 0.7111523025968206, 46.674311926605505\n"
     ]
    },
    {
     "name": "stderr",
     "output_type": "stream",
     "text": [
      "100%|████████████████████████████████████████████████████████████████████████████████████████████████| 282/282 [00:17<00:00, 15.78batch/s]\n",
      "100%|████████████████████████████████████████████████████████████████████████████████████████████████| 282/282 [00:18<00:00, 15.65batch/s]\n",
      "100%|████████████████████████████████████████████████████████████████████████████████████████████████| 282/282 [00:17<00:00, 15.80batch/s]\n",
      "100%|████████████████████████████████████████████████████████████████████████████████████████████████| 282/282 [00:17<00:00, 15.82batch/s]\n",
      "100%|████████████████████████████████████████████████████████████████████████████████████████████████| 282/282 [00:17<00:00, 15.86batch/s]\n",
      "100%|████████████████████████████████████████████████████████████████████████████████████████████████| 282/282 [00:17<00:00, 15.83batch/s]\n",
      "100%|████████████████████████████████████████████████████████████████████████████████████████████████| 282/282 [00:18<00:00, 15.33batch/s]\n",
      "100%|████████████████████████████████████████████████████████████████████████████████████████████████| 282/282 [00:18<00:00, 15.59batch/s]\n",
      "100%|████████████████████████████████████████████████████████████████████████████████████████████████| 282/282 [00:17<00:00, 15.80batch/s]\n"
     ]
    },
    {
     "name": "stdout",
     "output_type": "stream",
     "text": [
      "---Remove Pct 0.2---\n"
     ]
    },
    {
     "name": "stderr",
     "output_type": "stream",
     "text": [
      "Some weights of the model checkpoint at distilbert-base-uncased were not used when initializing DistilBertModel: ['vocab_layer_norm.weight', 'vocab_layer_norm.bias', 'vocab_projector.bias', 'vocab_projector.weight', 'vocab_transform.weight', 'vocab_transform.bias']\n",
      "- This IS expected if you are initializing DistilBertModel from the checkpoint of a model trained on another task or with another architecture (e.g. initializing a BertForSequenceClassification model from a BertForPreTraining model).\n",
      "- This IS NOT expected if you are initializing DistilBertModel from the checkpoint of a model that you expect to be exactly identical (initializing a BertForSequenceClassification model from a BertForSequenceClassification model).\n"
     ]
    },
    {
     "name": "stdout",
     "output_type": "stream",
     "text": [
      "Initial 0.7111523025968206, 46.674311926605505\n"
     ]
    },
    {
     "name": "stderr",
     "output_type": "stream",
     "text": [
      "100%|████████████████████████████████████████████████████████████████████████████████████████████████| 250/250 [00:15<00:00, 15.83batch/s]\n",
      "100%|████████████████████████████████████████████████████████████████████████████████████████████████| 250/250 [00:15<00:00, 15.83batch/s]\n",
      "100%|████████████████████████████████████████████████████████████████████████████████████████████████| 250/250 [00:15<00:00, 15.77batch/s]\n",
      "100%|████████████████████████████████████████████████████████████████████████████████████████████████| 250/250 [00:15<00:00, 15.77batch/s]\n",
      "100%|████████████████████████████████████████████████████████████████████████████████████████████████| 250/250 [00:15<00:00, 15.80batch/s]\n",
      "100%|████████████████████████████████████████████████████████████████████████████████████████████████| 250/250 [00:15<00:00, 15.78batch/s]\n",
      "100%|████████████████████████████████████████████████████████████████████████████████████████████████| 250/250 [00:15<00:00, 15.77batch/s]\n",
      "100%|████████████████████████████████████████████████████████████████████████████████████████████████| 250/250 [00:15<00:00, 15.68batch/s]\n",
      "100%|████████████████████████████████████████████████████████████████████████████████████████████████| 250/250 [00:15<00:00, 15.71batch/s]\n"
     ]
    },
    {
     "name": "stdout",
     "output_type": "stream",
     "text": [
      "---Remove Pct 0.3---\n"
     ]
    },
    {
     "name": "stderr",
     "output_type": "stream",
     "text": [
      "Some weights of the model checkpoint at distilbert-base-uncased were not used when initializing DistilBertModel: ['vocab_layer_norm.weight', 'vocab_layer_norm.bias', 'vocab_projector.bias', 'vocab_projector.weight', 'vocab_transform.weight', 'vocab_transform.bias']\n",
      "- This IS expected if you are initializing DistilBertModel from the checkpoint of a model trained on another task or with another architecture (e.g. initializing a BertForSequenceClassification model from a BertForPreTraining model).\n",
      "- This IS NOT expected if you are initializing DistilBertModel from the checkpoint of a model that you expect to be exactly identical (initializing a BertForSequenceClassification model from a BertForSequenceClassification model).\n"
     ]
    },
    {
     "name": "stdout",
     "output_type": "stream",
     "text": [
      "Initial 0.7111523025968206, 46.674311926605505\n"
     ]
    },
    {
     "name": "stderr",
     "output_type": "stream",
     "text": [
      "100%|████████████████████████████████████████████████████████████████████████████████████████████████| 219/219 [00:14<00:00, 15.14batch/s]\n",
      "100%|████████████████████████████████████████████████████████████████████████████████████████████████| 219/219 [00:13<00:00, 15.74batch/s]\n",
      "100%|████████████████████████████████████████████████████████████████████████████████████████████████| 219/219 [00:14<00:00, 15.62batch/s]\n",
      "100%|████████████████████████████████████████████████████████████████████████████████████████████████| 219/219 [00:13<00:00, 15.67batch/s]\n",
      "100%|████████████████████████████████████████████████████████████████████████████████████████████████| 219/219 [00:13<00:00, 15.76batch/s]\n",
      "100%|████████████████████████████████████████████████████████████████████████████████████████████████| 219/219 [00:14<00:00, 15.56batch/s]\n",
      "100%|████████████████████████████████████████████████████████████████████████████████████████████████| 219/219 [00:13<00:00, 15.68batch/s]\n",
      "100%|████████████████████████████████████████████████████████████████████████████████████████████████| 219/219 [00:14<00:00, 15.53batch/s]\n",
      "100%|████████████████████████████████████████████████████████████████████████████████████████████████| 219/219 [00:14<00:00, 15.61batch/s]\n"
     ]
    },
    {
     "name": "stdout",
     "output_type": "stream",
     "text": [
      "---Remove Pct 0.4---\n"
     ]
    },
    {
     "name": "stderr",
     "output_type": "stream",
     "text": [
      "Some weights of the model checkpoint at distilbert-base-uncased were not used when initializing DistilBertModel: ['vocab_layer_norm.weight', 'vocab_layer_norm.bias', 'vocab_projector.bias', 'vocab_projector.weight', 'vocab_transform.weight', 'vocab_transform.bias']\n",
      "- This IS expected if you are initializing DistilBertModel from the checkpoint of a model trained on another task or with another architecture (e.g. initializing a BertForSequenceClassification model from a BertForPreTraining model).\n",
      "- This IS NOT expected if you are initializing DistilBertModel from the checkpoint of a model that you expect to be exactly identical (initializing a BertForSequenceClassification model from a BertForSequenceClassification model).\n"
     ]
    },
    {
     "name": "stdout",
     "output_type": "stream",
     "text": [
      "Initial 0.7111523025968206, 46.674311926605505\n"
     ]
    },
    {
     "name": "stderr",
     "output_type": "stream",
     "text": [
      "100%|████████████████████████████████████████████████████████████████████████████████████████████████| 188/188 [00:12<00:00, 15.41batch/s]\n",
      "100%|████████████████████████████████████████████████████████████████████████████████████████████████| 188/188 [00:11<00:00, 15.71batch/s]\n",
      "100%|████████████████████████████████████████████████████████████████████████████████████████████████| 188/188 [00:11<00:00, 15.73batch/s]\n",
      "100%|████████████████████████████████████████████████████████████████████████████████████████████████| 188/188 [00:12<00:00, 15.31batch/s]\n",
      "100%|████████████████████████████████████████████████████████████████████████████████████████████████| 188/188 [00:11<00:00, 15.69batch/s]\n",
      "100%|████████████████████████████████████████████████████████████████████████████████████████████████| 188/188 [00:12<00:00, 15.64batch/s]\n",
      "100%|████████████████████████████████████████████████████████████████████████████████████████████████| 188/188 [00:12<00:00, 15.66batch/s]\n",
      "100%|████████████████████████████████████████████████████████████████████████████████████████████████| 188/188 [00:12<00:00, 15.64batch/s]\n",
      "100%|████████████████████████████████████████████████████████████████████████████████████████████████| 188/188 [00:12<00:00, 15.46batch/s]\n"
     ]
    }
   ],
   "source": [
    "def compute_random_loo_sweep(train_dataset, test_dataset, config, sweep_lst):\n",
    "    dataset_length = len(train_dataset)\n",
    "    max_pct = max(sweep_lst)\n",
    "    max_remove_length = int(max_pct * dataset_length)\n",
    "\n",
    "    # Remove random indices\n",
    "    indices = np.random.choice(dataset_length, max_remove_length, replace=False)\n",
    "\n",
    "    loo_dfs = []\n",
    "    for remove_pct in sweep_lst:\n",
    "        print(f\"---Remove Pct {remove_pct}---\")\n",
    "        remove_length = int(remove_pct * dataset_length)\n",
    "        rand_idxs = indices[:remove_length]\n",
    "\n",
    "        loo_dataset = create_loo_dataset(train_dataset, rand_idxs)\n",
    "        assert len(loo_dataset) + remove_length == len(train_dataset)\n",
    "\n",
    "        loo_model = train_utils.train_bert_model(\n",
    "            train_dataset=loo_dataset,\n",
    "            test_dataset=test_dataset,\n",
    "            validation_dataset=test_dataset,\n",
    "            config=config,\n",
    "        )\n",
    "\n",
    "        df, loss, acc = train_utils.evaluate_loss(loo_model, test_dataloader)\n",
    "        df[\"type\"] = \"rand\"\n",
    "        df[\"remove_pct\"] = remove_pct\n",
    "        loo_dfs.append(df)\n",
    "    return loo_dfs\n",
    "\n",
    "\n",
    "sweep_lst = [0.1, 0.2, 0.3, 0.4]\n",
    "loo_dfs = compute_random_loo_sweep(\n",
    "    train_dataset, test_dataset, retrain_config, sweep_lst\n",
    ")\n",
    "rand = pd.concat(loo_dfs)"
   ]
  },
  {
   "cell_type": "code",
   "execution_count": 30,
   "id": "9010b416-1204-4ab9-822f-0307d7925967",
   "metadata": {
    "execution": {
     "iopub.execute_input": "2023-05-14T16:54:11.628011Z",
     "iopub.status.busy": "2023-05-14T16:54:11.627846Z",
     "iopub.status.idle": "2023-05-14T16:54:11.654772Z",
     "shell.execute_reply": "2023-05-14T16:54:11.654043Z",
     "shell.execute_reply.started": "2023-05-14T16:54:11.627997Z"
    },
    "tags": []
   },
   "outputs": [],
   "source": [
    "srand = summarize_loo_df(rand)\n",
    "srand.to_csv(\"results_10k_reg001/loo_pct/random_loo.csv\")"
   ]
  },
  {
   "cell_type": "code",
   "execution_count": 31,
   "id": "c71a2879-92ca-4f84-a55c-efac30b2f905",
   "metadata": {
    "execution": {
     "iopub.execute_input": "2023-05-14T16:54:11.655426Z",
     "iopub.status.busy": "2023-05-14T16:54:11.655274Z",
     "iopub.status.idle": "2023-05-14T16:54:11.676161Z",
     "shell.execute_reply": "2023-05-14T16:54:11.675515Z",
     "shell.execute_reply.started": "2023-05-14T16:54:11.655413Z"
    },
    "tags": []
   },
   "outputs": [],
   "source": [
    "srand = pd.read_csv(\"results_10k_reg001/loo_pct/random_loo.csv\")"
   ]
  },
  {
   "cell_type": "code",
   "execution_count": 32,
   "id": "62259d63-f831-453d-a4c7-847e08a8fadf",
   "metadata": {
    "execution": {
     "iopub.execute_input": "2023-05-14T16:54:11.677332Z",
     "iopub.status.busy": "2023-05-14T16:54:11.677175Z",
     "iopub.status.idle": "2023-05-14T16:54:11.807882Z",
     "shell.execute_reply": "2023-05-14T16:54:11.807202Z",
     "shell.execute_reply.started": "2023-05-14T16:54:11.677318Z"
    },
    "tags": []
   },
   "outputs": [
    {
     "data": {
      "text/plain": [
       "[<matplotlib.lines.Line2D at 0x7f696d2de3b0>]"
      ]
     },
     "execution_count": 32,
     "metadata": {},
     "output_type": "execute_result"
    },
    {
     "data": {
      "image/png": "[encoded data removed]",
      "text/plain": [
       "<Figure size 640x480 with 1 Axes>"
      ]
     },
     "metadata": {},
     "output_type": "display_data"
    }
   ],
   "source": [
    "plt.plot(srand.reset_index().remove_pct, srand.accuracy)"
   ]
  },
  {
   "cell_type": "markdown",
   "id": "eaacd9a4-a838-4d0d-8655-7e3f27ae66f5",
   "metadata": {
    "tags": []
   },
   "source": [
    "### LOO Sweep Influence"
   ]
  },
  {
   "cell_type": "code",
   "execution_count": 33,
   "id": "a91002f3-2292-46b5-ae17-b87be3eb2423",
   "metadata": {
    "execution": {
     "iopub.execute_input": "2023-05-14T16:54:11.808808Z",
     "iopub.status.busy": "2023-05-14T16:54:11.808633Z",
     "iopub.status.idle": "2023-05-14T16:54:11.831782Z",
     "shell.execute_reply": "2023-05-14T16:54:11.831040Z",
     "shell.execute_reply.started": "2023-05-14T16:54:11.808794Z"
    },
    "tags": []
   },
   "outputs": [],
   "source": [
    "def compute_loo_sweep(\n",
    "    train_dataset, test_dataset, infl, config, sweep_lst\n",
    ") -> pd.DataFrame:\n",
    "    loo_dfs = []\n",
    "    for remove_pct in sweep_lst:\n",
    "        remove_length = int(remove_pct * len(train_dataset))\n",
    "        print(f\"---Remove Pct {remove_pct}: Remove Length: {remove_length}---\")\n",
    "\n",
    "        # Remove top influence score\n",
    "        remove_idxs = np.argsort(-infl)[:remove_length]\n",
    "        print(remove_idxs[:10])\n",
    "        loo_dataset = create_loo_dataset(train_dataset, remove_idxs)\n",
    "        assert len(train_dataset) - remove_length == len(loo_dataset)\n",
    "        loo_model = train_utils.train_bert_model(loo_dataset, test_dataset, config)\n",
    "        tdf, rad_test_loss, rand_test_acc = train_utils.evaluate_loss(\n",
    "            loo_model, test_dataloader\n",
    "        )\n",
    "        tdf[\"type\"] = \"top\"\n",
    "\n",
    "        # Remove bottom influence score\n",
    "        remove_idxs = np.argsort(infl)[:remove_length]\n",
    "        print(remove_idxs[:10])\n",
    "        loo_dataset = create_loo_dataset(train_dataset, remove_idxs)\n",
    "        assert len(train_dataset) - remove_length == len(loo_dataset)\n",
    "        loo_model = train_utils.train_bert_model(loo_dataset, test_dataset, config)\n",
    "        bdf, rad_test_loss, rand_test_acc = train_utils.evaluate_loss(\n",
    "            loo_model, test_dataloader\n",
    "        )\n",
    "        bdf[\"type\"] = \"bot\"\n",
    "\n",
    "        # Remove near 0 influence score\n",
    "        remove_idxs = centered_percentile_idxs(infl, remove_length)\n",
    "        print(remove_idxs[:10])\n",
    "        loo_dataset = create_loo_dataset(train_dataset, remove_idxs)\n",
    "        assert len(train_dataset) - remove_length == len(loo_dataset)\n",
    "        loo_model = train_utils.train_bert_model(loo_dataset, test_dataset, config)\n",
    "        zdf, rad_test_loss, rand_test_acc = train_utils.evaluate_loss(\n",
    "            loo_model, test_dataloader\n",
    "        )\n",
    "\n",
    "        zdf[\"type\"] = \"zero\"\n",
    "\n",
    "        # all_dfs = [rdf, tdf, bdf, zdf]\n",
    "        all_dfs = [tdf, bdf, zdf]\n",
    "        df = pd.concat(all_dfs, axis=0)\n",
    "        df[\"remove_pct\"] = remove_pct\n",
    "        df.to_csv(f\"remove-{remove_pct}.csv\", index=False)\n",
    "        loo_dfs.append(df)\n",
    "    return pd.concat(loo_dfs)"
   ]
  },
  {
   "cell_type": "code",
   "execution_count": 34,
   "id": "beaf4249-4144-40ba-ad32-0c644d455061",
   "metadata": {
    "execution": {
     "iopub.execute_input": "2023-05-14T16:54:11.832474Z",
     "iopub.status.busy": "2023-05-14T16:54:11.832309Z",
     "iopub.status.idle": "2023-05-14T17:25:00.270777Z",
     "shell.execute_reply": "2023-05-14T17:25:00.270077Z",
     "shell.execute_reply.started": "2023-05-14T16:54:11.832460Z"
    },
    "tags": []
   },
   "outputs": [
    {
     "name": "stdout",
     "output_type": "stream",
     "text": [
      "---Remove Pct 0.1: Remove Length: 1000---\n",
      "[1007 3911 2445 6180 1934 6268 5668 9081 1179 1948]\n"
     ]
    },
    {
     "name": "stderr",
     "output_type": "stream",
     "text": [
      "Some weights of the model checkpoint at distilbert-base-uncased were not used when initializing DistilBertModel: ['vocab_layer_norm.weight', 'vocab_layer_norm.bias', 'vocab_projector.bias', 'vocab_projector.weight', 'vocab_transform.weight', 'vocab_transform.bias']\n",
      "- This IS expected if you are initializing DistilBertModel from the checkpoint of a model trained on another task or with another architecture (e.g. initializing a BertForSequenceClassification model from a BertForPreTraining model).\n",
      "- This IS NOT expected if you are initializing DistilBertModel from the checkpoint of a model that you expect to be exactly identical (initializing a BertForSequenceClassification model from a BertForSequenceClassification model).\n"
     ]
    },
    {
     "name": "stdout",
     "output_type": "stream",
     "text": [
      "Initial 0.7111523025968206, 46.674311926605505\n"
     ]
    },
    {
     "name": "stderr",
     "output_type": "stream",
     "text": [
      "100%|████████████████████████████████████████████████████████████████████████████████████████████████| 282/282 [00:17<00:00, 15.81batch/s]\n",
      "100%|████████████████████████████████████████████████████████████████████████████████████████████████| 282/282 [00:17<00:00, 15.69batch/s]\n",
      "100%|████████████████████████████████████████████████████████████████████████████████████████████████| 282/282 [00:18<00:00, 15.66batch/s]\n",
      "100%|████████████████████████████████████████████████████████████████████████████████████████████████| 282/282 [00:18<00:00, 15.39batch/s]\n",
      "100%|████████████████████████████████████████████████████████████████████████████████████████████████| 282/282 [00:17<00:00, 15.77batch/s]\n",
      "100%|████████████████████████████████████████████████████████████████████████████████████████████████| 282/282 [00:18<00:00, 15.52batch/s]\n",
      "100%|████████████████████████████████████████████████████████████████████████████████████████████████| 282/282 [00:18<00:00, 15.57batch/s]\n",
      "100%|████████████████████████████████████████████████████████████████████████████████████████████████| 282/282 [00:18<00:00, 15.64batch/s]\n",
      "100%|████████████████████████████████████████████████████████████████████████████████████████████████| 282/282 [00:17<00:00, 15.70batch/s]\n"
     ]
    },
    {
     "name": "stdout",
     "output_type": "stream",
     "text": [
      "[2426 6530 6263 2990 8543 1619 8833 7274 7127 2548]\n"
     ]
    },
    {
     "name": "stderr",
     "output_type": "stream",
     "text": [
      "Some weights of the model checkpoint at distilbert-base-uncased were not used when initializing DistilBertModel: ['vocab_layer_norm.weight', 'vocab_layer_norm.bias', 'vocab_projector.bias', 'vocab_projector.weight', 'vocab_transform.weight', 'vocab_transform.bias']\n",
      "- This IS expected if you are initializing DistilBertModel from the checkpoint of a model trained on another task or with another architecture (e.g. initializing a BertForSequenceClassification model from a BertForPreTraining model).\n",
      "- This IS NOT expected if you are initializing DistilBertModel from the checkpoint of a model that you expect to be exactly identical (initializing a BertForSequenceClassification model from a BertForSequenceClassification model).\n"
     ]
    },
    {
     "name": "stdout",
     "output_type": "stream",
     "text": [
      "Initial 0.7111523025968206, 46.674311926605505\n"
     ]
    },
    {
     "name": "stderr",
     "output_type": "stream",
     "text": [
      "100%|████████████████████████████████████████████████████████████████████████████████████████████████| 282/282 [00:18<00:00, 15.66batch/s]\n",
      "100%|████████████████████████████████████████████████████████████████████████████████████████████████| 282/282 [00:17<00:00, 15.72batch/s]\n",
      "100%|████████████████████████████████████████████████████████████████████████████████████████████████| 282/282 [00:18<00:00, 15.65batch/s]\n",
      "100%|████████████████████████████████████████████████████████████████████████████████████████████████| 282/282 [00:18<00:00, 15.56batch/s]\n",
      "100%|████████████████████████████████████████████████████████████████████████████████████████████████| 282/282 [00:18<00:00, 15.65batch/s]\n",
      "100%|████████████████████████████████████████████████████████████████████████████████████████████████| 282/282 [00:17<00:00, 15.74batch/s]\n",
      "100%|████████████████████████████████████████████████████████████████████████████████████████████████| 282/282 [00:17<00:00, 15.71batch/s]\n",
      "100%|████████████████████████████████████████████████████████████████████████████████████████████████| 282/282 [00:17<00:00, 15.72batch/s]\n",
      "100%|████████████████████████████████████████████████████████████████████████████████████████████████| 282/282 [00:17<00:00, 15.76batch/s]\n"
     ]
    },
    {
     "name": "stdout",
     "output_type": "stream",
     "text": [
      "[8817 9740  150 7270 2569 6433 7486 8533 7849 1712]\n"
     ]
    },
    {
     "name": "stderr",
     "output_type": "stream",
     "text": [
      "Some weights of the model checkpoint at distilbert-base-uncased were not used when initializing DistilBertModel: ['vocab_layer_norm.weight', 'vocab_layer_norm.bias', 'vocab_projector.bias', 'vocab_projector.weight', 'vocab_transform.weight', 'vocab_transform.bias']\n",
      "- This IS expected if you are initializing DistilBertModel from the checkpoint of a model trained on another task or with another architecture (e.g. initializing a BertForSequenceClassification model from a BertForPreTraining model).\n",
      "- This IS NOT expected if you are initializing DistilBertModel from the checkpoint of a model that you expect to be exactly identical (initializing a BertForSequenceClassification model from a BertForSequenceClassification model).\n"
     ]
    },
    {
     "name": "stdout",
     "output_type": "stream",
     "text": [
      "Initial 0.7111523025968206, 46.674311926605505\n"
     ]
    },
    {
     "name": "stderr",
     "output_type": "stream",
     "text": [
      "100%|████████████████████████████████████████████████████████████████████████████████████████████████| 282/282 [00:17<00:00, 15.69batch/s]\n",
      "100%|████████████████████████████████████████████████████████████████████████████████████████████████| 282/282 [00:17<00:00, 15.68batch/s]\n",
      "100%|████████████████████████████████████████████████████████████████████████████████████████████████| 282/282 [00:17<00:00, 15.74batch/s]\n",
      "100%|████████████████████████████████████████████████████████████████████████████████████████████████| 282/282 [00:17<00:00, 15.74batch/s]\n",
      "100%|████████████████████████████████████████████████████████████████████████████████████████████████| 282/282 [00:17<00:00, 15.73batch/s]\n",
      "100%|████████████████████████████████████████████████████████████████████████████████████████████████| 282/282 [00:17<00:00, 15.76batch/s]\n",
      "100%|████████████████████████████████████████████████████████████████████████████████████████████████| 282/282 [00:17<00:00, 15.83batch/s]\n",
      "100%|████████████████████████████████████████████████████████████████████████████████████████████████| 282/282 [00:18<00:00, 15.60batch/s]\n",
      "100%|████████████████████████████████████████████████████████████████████████████████████████████████| 282/282 [00:18<00:00, 15.59batch/s]\n"
     ]
    },
    {
     "name": "stdout",
     "output_type": "stream",
     "text": [
      "---Remove Pct 0.2: Remove Length: 2000---\n",
      "[1007 3911 2445 6180 1934 6268 5668 9081 1179 1948]\n"
     ]
    },
    {
     "name": "stderr",
     "output_type": "stream",
     "text": [
      "Some weights of the model checkpoint at distilbert-base-uncased were not used when initializing DistilBertModel: ['vocab_layer_norm.weight', 'vocab_layer_norm.bias', 'vocab_projector.bias', 'vocab_projector.weight', 'vocab_transform.weight', 'vocab_transform.bias']\n",
      "- This IS expected if you are initializing DistilBertModel from the checkpoint of a model trained on another task or with another architecture (e.g. initializing a BertForSequenceClassification model from a BertForPreTraining model).\n",
      "- This IS NOT expected if you are initializing DistilBertModel from the checkpoint of a model that you expect to be exactly identical (initializing a BertForSequenceClassification model from a BertForSequenceClassification model).\n"
     ]
    },
    {
     "name": "stdout",
     "output_type": "stream",
     "text": [
      "Initial 0.7111523025968206, 46.674311926605505\n"
     ]
    },
    {
     "name": "stderr",
     "output_type": "stream",
     "text": [
      "100%|████████████████████████████████████████████████████████████████████████████████████████████████| 250/250 [00:16<00:00, 15.57batch/s]\n",
      "100%|████████████████████████████████████████████████████████████████████████████████████████████████| 250/250 [00:15<00:00, 15.70batch/s]\n",
      "100%|████████████████████████████████████████████████████████████████████████████████████████████████| 250/250 [00:15<00:00, 15.72batch/s]\n",
      "100%|████████████████████████████████████████████████████████████████████████████████████████████████| 250/250 [00:15<00:00, 15.64batch/s]\n",
      "100%|████████████████████████████████████████████████████████████████████████████████████████████████| 250/250 [00:15<00:00, 15.74batch/s]\n",
      "100%|████████████████████████████████████████████████████████████████████████████████████████████████| 250/250 [00:15<00:00, 15.68batch/s]\n",
      "100%|████████████████████████████████████████████████████████████████████████████████████████████████| 250/250 [00:16<00:00, 15.61batch/s]\n",
      "100%|████████████████████████████████████████████████████████████████████████████████████████████████| 250/250 [00:16<00:00, 15.56batch/s]\n",
      "100%|████████████████████████████████████████████████████████████████████████████████████████████████| 250/250 [00:15<00:00, 15.66batch/s]\n"
     ]
    },
    {
     "name": "stdout",
     "output_type": "stream",
     "text": [
      "[2426 6530 6263 2990 8543 1619 8833 7274 7127 2548]\n"
     ]
    },
    {
     "name": "stderr",
     "output_type": "stream",
     "text": [
      "Some weights of the model checkpoint at distilbert-base-uncased were not used when initializing DistilBertModel: ['vocab_layer_norm.weight', 'vocab_layer_norm.bias', 'vocab_projector.bias', 'vocab_projector.weight', 'vocab_transform.weight', 'vocab_transform.bias']\n",
      "- This IS expected if you are initializing DistilBertModel from the checkpoint of a model trained on another task or with another architecture (e.g. initializing a BertForSequenceClassification model from a BertForPreTraining model).\n",
      "- This IS NOT expected if you are initializing DistilBertModel from the checkpoint of a model that you expect to be exactly identical (initializing a BertForSequenceClassification model from a BertForSequenceClassification model).\n"
     ]
    },
    {
     "name": "stdout",
     "output_type": "stream",
     "text": [
      "Initial 0.7111523025968206, 46.674311926605505\n"
     ]
    },
    {
     "name": "stderr",
     "output_type": "stream",
     "text": [
      "100%|████████████████████████████████████████████████████████████████████████████████████████████████| 250/250 [00:15<00:00, 15.63batch/s]\n",
      "100%|████████████████████████████████████████████████████████████████████████████████████████████████| 250/250 [00:16<00:00, 15.48batch/s]\n",
      "100%|████████████████████████████████████████████████████████████████████████████████████████████████| 250/250 [00:15<00:00, 15.71batch/s]\n",
      "100%|████████████████████████████████████████████████████████████████████████████████████████████████| 250/250 [00:16<00:00, 15.62batch/s]\n",
      "100%|████████████████████████████████████████████████████████████████████████████████████████████████| 250/250 [00:15<00:00, 15.71batch/s]\n",
      "100%|████████████████████████████████████████████████████████████████████████████████████████████████| 250/250 [00:15<00:00, 15.73batch/s]\n",
      "100%|████████████████████████████████████████████████████████████████████████████████████████████████| 250/250 [00:15<00:00, 15.73batch/s]\n",
      "100%|████████████████████████████████████████████████████████████████████████████████████████████████| 250/250 [00:15<00:00, 16.01batch/s]\n",
      "100%|████████████████████████████████████████████████████████████████████████████████████████████████| 250/250 [00:15<00:00, 16.47batch/s]\n"
     ]
    },
    {
     "name": "stdout",
     "output_type": "stream",
     "text": [
      "[4792 7677 3600 8865  407 8627 5049 7396 3174 8585]\n"
     ]
    },
    {
     "name": "stderr",
     "output_type": "stream",
     "text": [
      "Some weights of the model checkpoint at distilbert-base-uncased were not used when initializing DistilBertModel: ['vocab_layer_norm.weight', 'vocab_layer_norm.bias', 'vocab_projector.bias', 'vocab_projector.weight', 'vocab_transform.weight', 'vocab_transform.bias']\n",
      "- This IS expected if you are initializing DistilBertModel from the checkpoint of a model trained on another task or with another architecture (e.g. initializing a BertForSequenceClassification model from a BertForPreTraining model).\n",
      "- This IS NOT expected if you are initializing DistilBertModel from the checkpoint of a model that you expect to be exactly identical (initializing a BertForSequenceClassification model from a BertForSequenceClassification model).\n"
     ]
    },
    {
     "name": "stdout",
     "output_type": "stream",
     "text": [
      "Initial 0.7111523025968206, 46.674311926605505\n"
     ]
    },
    {
     "name": "stderr",
     "output_type": "stream",
     "text": [
      "100%|████████████████████████████████████████████████████████████████████████████████████████████████| 250/250 [00:15<00:00, 16.29batch/s]\n",
      "100%|████████████████████████████████████████████████████████████████████████████████████████████████| 250/250 [00:15<00:00, 15.88batch/s]\n",
      "100%|████████████████████████████████████████████████████████████████████████████████████████████████| 250/250 [00:15<00:00, 15.63batch/s]\n",
      "100%|████████████████████████████████████████████████████████████████████████████████████████████████| 250/250 [00:15<00:00, 15.79batch/s]\n",
      "100%|████████████████████████████████████████████████████████████████████████████████████████████████| 250/250 [00:15<00:00, 15.81batch/s]\n",
      "100%|████████████████████████████████████████████████████████████████████████████████████████████████| 250/250 [00:16<00:00, 15.62batch/s]\n",
      "100%|████████████████████████████████████████████████████████████████████████████████████████████████| 250/250 [00:15<00:00, 15.79batch/s]\n",
      "100%|████████████████████████████████████████████████████████████████████████████████████████████████| 250/250 [00:15<00:00, 15.79batch/s]\n",
      "100%|████████████████████████████████████████████████████████████████████████████████████████████████| 250/250 [00:15<00:00, 15.77batch/s]\n"
     ]
    },
    {
     "name": "stdout",
     "output_type": "stream",
     "text": [
      "---Remove Pct 0.3: Remove Length: 3000---\n",
      "[1007 3911 2445 6180 1934 6268 5668 9081 1179 1948]\n"
     ]
    },
    {
     "name": "stderr",
     "output_type": "stream",
     "text": [
      "Some weights of the model checkpoint at distilbert-base-uncased were not used when initializing DistilBertModel: ['vocab_layer_norm.weight', 'vocab_layer_norm.bias', 'vocab_projector.bias', 'vocab_projector.weight', 'vocab_transform.weight', 'vocab_transform.bias']\n",
      "- This IS expected if you are initializing DistilBertModel from the checkpoint of a model trained on another task or with another architecture (e.g. initializing a BertForSequenceClassification model from a BertForPreTraining model).\n",
      "- This IS NOT expected if you are initializing DistilBertModel from the checkpoint of a model that you expect to be exactly identical (initializing a BertForSequenceClassification model from a BertForSequenceClassification model).\n"
     ]
    },
    {
     "name": "stdout",
     "output_type": "stream",
     "text": [
      "Initial 0.7111523025968206, 46.674311926605505\n"
     ]
    },
    {
     "name": "stderr",
     "output_type": "stream",
     "text": [
      "100%|████████████████████████████████████████████████████████████████████████████████████████████████| 219/219 [00:13<00:00, 15.90batch/s]\n",
      "100%|████████████████████████████████████████████████████████████████████████████████████████████████| 219/219 [00:13<00:00, 15.85batch/s]\n",
      "100%|████████████████████████████████████████████████████████████████████████████████████████████████| 219/219 [00:13<00:00, 15.87batch/s]\n",
      "100%|████████████████████████████████████████████████████████████████████████████████████████████████| 219/219 [00:13<00:00, 15.83batch/s]\n",
      "100%|████████████████████████████████████████████████████████████████████████████████████████████████| 219/219 [00:13<00:00, 15.85batch/s]\n",
      "100%|████████████████████████████████████████████████████████████████████████████████████████████████| 219/219 [00:13<00:00, 15.86batch/s]\n",
      "100%|████████████████████████████████████████████████████████████████████████████████████████████████| 219/219 [00:13<00:00, 15.86batch/s]\n",
      "100%|████████████████████████████████████████████████████████████████████████████████████████████████| 219/219 [00:13<00:00, 15.83batch/s]\n",
      "100%|████████████████████████████████████████████████████████████████████████████████████████████████| 219/219 [00:13<00:00, 15.83batch/s]\n"
     ]
    },
    {
     "name": "stdout",
     "output_type": "stream",
     "text": [
      "[2426 6530 6263 2990 8543 1619 8833 7274 7127 2548]\n"
     ]
    },
    {
     "name": "stderr",
     "output_type": "stream",
     "text": [
      "Some weights of the model checkpoint at distilbert-base-uncased were not used when initializing DistilBertModel: ['vocab_layer_norm.weight', 'vocab_layer_norm.bias', 'vocab_projector.bias', 'vocab_projector.weight', 'vocab_transform.weight', 'vocab_transform.bias']\n",
      "- This IS expected if you are initializing DistilBertModel from the checkpoint of a model trained on another task or with another architecture (e.g. initializing a BertForSequenceClassification model from a BertForPreTraining model).\n",
      "- This IS NOT expected if you are initializing DistilBertModel from the checkpoint of a model that you expect to be exactly identical (initializing a BertForSequenceClassification model from a BertForSequenceClassification model).\n"
     ]
    },
    {
     "name": "stdout",
     "output_type": "stream",
     "text": [
      "Initial 0.7111523025968206, 46.674311926605505\n"
     ]
    },
    {
     "name": "stderr",
     "output_type": "stream",
     "text": [
      "100%|████████████████████████████████████████████████████████████████████████████████████████████████| 219/219 [00:13<00:00, 16.02batch/s]\n",
      "100%|████████████████████████████████████████████████████████████████████████████████████████████████| 219/219 [00:13<00:00, 16.24batch/s]\n",
      "100%|████████████████████████████████████████████████████████████████████████████████████████████████| 219/219 [00:13<00:00, 16.27batch/s]\n",
      "100%|████████████████████████████████████████████████████████████████████████████████████████████████| 219/219 [00:13<00:00, 16.26batch/s]\n",
      "100%|████████████████████████████████████████████████████████████████████████████████████████████████| 219/219 [00:13<00:00, 16.21batch/s]\n",
      "100%|████████████████████████████████████████████████████████████████████████████████████████████████| 219/219 [00:13<00:00, 16.25batch/s]\n",
      "100%|████████████████████████████████████████████████████████████████████████████████████████████████| 219/219 [00:13<00:00, 16.24batch/s]\n",
      "100%|████████████████████████████████████████████████████████████████████████████████████████████████| 219/219 [00:13<00:00, 16.23batch/s]\n",
      "100%|████████████████████████████████████████████████████████████████████████████████████████████████| 219/219 [00:13<00:00, 16.14batch/s]\n"
     ]
    },
    {
     "name": "stdout",
     "output_type": "stream",
     "text": [
      "[2342 4953 5295  616 5861 9504 2161 2289 3086  957]\n"
     ]
    },
    {
     "name": "stderr",
     "output_type": "stream",
     "text": [
      "Some weights of the model checkpoint at distilbert-base-uncased were not used when initializing DistilBertModel: ['vocab_layer_norm.weight', 'vocab_layer_norm.bias', 'vocab_projector.bias', 'vocab_projector.weight', 'vocab_transform.weight', 'vocab_transform.bias']\n",
      "- This IS expected if you are initializing DistilBertModel from the checkpoint of a model trained on another task or with another architecture (e.g. initializing a BertForSequenceClassification model from a BertForPreTraining model).\n",
      "- This IS NOT expected if you are initializing DistilBertModel from the checkpoint of a model that you expect to be exactly identical (initializing a BertForSequenceClassification model from a BertForSequenceClassification model).\n"
     ]
    },
    {
     "name": "stdout",
     "output_type": "stream",
     "text": [
      "Initial 0.7111523025968206, 46.674311926605505\n"
     ]
    },
    {
     "name": "stderr",
     "output_type": "stream",
     "text": [
      "100%|████████████████████████████████████████████████████████████████████████████████████████████████| 219/219 [00:13<00:00, 15.81batch/s]\n",
      "100%|████████████████████████████████████████████████████████████████████████████████████████████████| 219/219 [00:13<00:00, 15.81batch/s]\n",
      "100%|████████████████████████████████████████████████████████████████████████████████████████████████| 219/219 [00:13<00:00, 15.78batch/s]\n",
      "100%|████████████████████████████████████████████████████████████████████████████████████████████████| 219/219 [00:14<00:00, 15.57batch/s]\n",
      "100%|████████████████████████████████████████████████████████████████████████████████████████████████| 219/219 [00:14<00:00, 15.24batch/s]\n",
      "100%|████████████████████████████████████████████████████████████████████████████████████████████████| 219/219 [00:14<00:00, 15.45batch/s]\n",
      "100%|████████████████████████████████████████████████████████████████████████████████████████████████| 219/219 [00:14<00:00, 15.60batch/s]\n",
      "100%|████████████████████████████████████████████████████████████████████████████████████████████████| 219/219 [00:14<00:00, 15.54batch/s]\n",
      "100%|████████████████████████████████████████████████████████████████████████████████████████████████| 219/219 [00:13<00:00, 15.75batch/s]\n"
     ]
    },
    {
     "name": "stdout",
     "output_type": "stream",
     "text": [
      "---Remove Pct 0.4: Remove Length: 4000---\n",
      "[1007 3911 2445 6180 1934 6268 5668 9081 1179 1948]\n"
     ]
    },
    {
     "name": "stderr",
     "output_type": "stream",
     "text": [
      "Some weights of the model checkpoint at distilbert-base-uncased were not used when initializing DistilBertModel: ['vocab_layer_norm.weight', 'vocab_layer_norm.bias', 'vocab_projector.bias', 'vocab_projector.weight', 'vocab_transform.weight', 'vocab_transform.bias']\n",
      "- This IS expected if you are initializing DistilBertModel from the checkpoint of a model trained on another task or with another architecture (e.g. initializing a BertForSequenceClassification model from a BertForPreTraining model).\n",
      "- This IS NOT expected if you are initializing DistilBertModel from the checkpoint of a model that you expect to be exactly identical (initializing a BertForSequenceClassification model from a BertForSequenceClassification model).\n"
     ]
    },
    {
     "name": "stdout",
     "output_type": "stream",
     "text": [
      "Initial 0.7111523025968206, 46.674311926605505\n"
     ]
    },
    {
     "name": "stderr",
     "output_type": "stream",
     "text": [
      "100%|████████████████████████████████████████████████████████████████████████████████████████████████| 188/188 [00:11<00:00, 15.84batch/s]\n",
      "100%|████████████████████████████████████████████████████████████████████████████████████████████████| 188/188 [00:11<00:00, 15.85batch/s]\n",
      "100%|████████████████████████████████████████████████████████████████████████████████████████████████| 188/188 [00:11<00:00, 15.82batch/s]\n",
      "100%|████████████████████████████████████████████████████████████████████████████████████████████████| 188/188 [00:11<00:00, 15.77batch/s]\n",
      "100%|████████████████████████████████████████████████████████████████████████████████████████████████| 188/188 [00:11<00:00, 15.81batch/s]\n",
      "100%|████████████████████████████████████████████████████████████████████████████████████████████████| 188/188 [00:11<00:00, 15.80batch/s]\n",
      "100%|████████████████████████████████████████████████████████████████████████████████████████████████| 188/188 [00:12<00:00, 15.33batch/s]\n",
      "100%|████████████████████████████████████████████████████████████████████████████████████████████████| 188/188 [00:12<00:00, 15.59batch/s]\n",
      "100%|████████████████████████████████████████████████████████████████████████████████████████████████| 188/188 [00:12<00:00, 15.63batch/s]\n"
     ]
    },
    {
     "name": "stdout",
     "output_type": "stream",
     "text": [
      "[2426 6530 6263 2990 8543 1619 8833 7274 7127 2548]\n"
     ]
    },
    {
     "name": "stderr",
     "output_type": "stream",
     "text": [
      "Some weights of the model checkpoint at distilbert-base-uncased were not used when initializing DistilBertModel: ['vocab_layer_norm.weight', 'vocab_layer_norm.bias', 'vocab_projector.bias', 'vocab_projector.weight', 'vocab_transform.weight', 'vocab_transform.bias']\n",
      "- This IS expected if you are initializing DistilBertModel from the checkpoint of a model trained on another task or with another architecture (e.g. initializing a BertForSequenceClassification model from a BertForPreTraining model).\n",
      "- This IS NOT expected if you are initializing DistilBertModel from the checkpoint of a model that you expect to be exactly identical (initializing a BertForSequenceClassification model from a BertForSequenceClassification model).\n"
     ]
    },
    {
     "name": "stdout",
     "output_type": "stream",
     "text": [
      "Initial 0.7111523025968206, 46.674311926605505\n"
     ]
    },
    {
     "name": "stderr",
     "output_type": "stream",
     "text": [
      "100%|████████████████████████████████████████████████████████████████████████████████████████████████| 188/188 [00:12<00:00, 15.62batch/s]\n",
      "100%|████████████████████████████████████████████████████████████████████████████████████████████████| 188/188 [00:12<00:00, 15.60batch/s]\n",
      "100%|████████████████████████████████████████████████████████████████████████████████████████████████| 188/188 [00:12<00:00, 15.58batch/s]\n",
      "100%|████████████████████████████████████████████████████████████████████████████████████████████████| 188/188 [00:12<00:00, 15.53batch/s]\n",
      "100%|████████████████████████████████████████████████████████████████████████████████████████████████| 188/188 [00:12<00:00, 15.55batch/s]\n",
      "100%|████████████████████████████████████████████████████████████████████████████████████████████████| 188/188 [00:12<00:00, 15.56batch/s]\n",
      "100%|████████████████████████████████████████████████████████████████████████████████████████████████| 188/188 [00:12<00:00, 15.56batch/s]\n",
      "100%|████████████████████████████████████████████████████████████████████████████████████████████████| 188/188 [00:12<00:00, 15.54batch/s]\n",
      "100%|████████████████████████████████████████████████████████████████████████████████████████████████| 188/188 [00:12<00:00, 15.52batch/s]\n"
     ]
    },
    {
     "name": "stdout",
     "output_type": "stream",
     "text": [
      "[3442 3960 9497 2373 9763 1704 2064 5552 9619  558]\n"
     ]
    },
    {
     "name": "stderr",
     "output_type": "stream",
     "text": [
      "Some weights of the model checkpoint at distilbert-base-uncased were not used when initializing DistilBertModel: ['vocab_layer_norm.weight', 'vocab_layer_norm.bias', 'vocab_projector.bias', 'vocab_projector.weight', 'vocab_transform.weight', 'vocab_transform.bias']\n",
      "- This IS expected if you are initializing DistilBertModel from the checkpoint of a model trained on another task or with another architecture (e.g. initializing a BertForSequenceClassification model from a BertForPreTraining model).\n",
      "- This IS NOT expected if you are initializing DistilBertModel from the checkpoint of a model that you expect to be exactly identical (initializing a BertForSequenceClassification model from a BertForSequenceClassification model).\n"
     ]
    },
    {
     "name": "stdout",
     "output_type": "stream",
     "text": [
      "Initial 0.7111523025968206, 46.674311926605505\n"
     ]
    },
    {
     "name": "stderr",
     "output_type": "stream",
     "text": [
      "100%|████████████████████████████████████████████████████████████████████████████████████████████████| 188/188 [00:12<00:00, 15.62batch/s]\n",
      "100%|████████████████████████████████████████████████████████████████████████████████████████████████| 188/188 [00:12<00:00, 15.57batch/s]\n",
      "100%|████████████████████████████████████████████████████████████████████████████████████████████████| 188/188 [00:12<00:00, 15.54batch/s]\n",
      "100%|████████████████████████████████████████████████████████████████████████████████████████████████| 188/188 [00:12<00:00, 15.49batch/s]\n",
      "100%|████████████████████████████████████████████████████████████████████████████████████████████████| 188/188 [00:12<00:00, 15.51batch/s]\n",
      "100%|████████████████████████████████████████████████████████████████████████████████████████████████| 188/188 [00:12<00:00, 15.50batch/s]\n",
      "100%|████████████████████████████████████████████████████████████████████████████████████████████████| 188/188 [00:12<00:00, 15.51batch/s]\n",
      "100%|████████████████████████████████████████████████████████████████████████████████████████████████| 188/188 [00:12<00:00, 15.49batch/s]\n",
      "100%|████████████████████████████████████████████████████████████████████████████████████████████████| 188/188 [00:12<00:00, 15.51batch/s]\n"
     ]
    }
   ],
   "source": [
    "# if_dir = Path(\"results_10k_reg001\")\n",
    "# all_if, no_data = load_all_influences(Path(\"results_10k_reg001\"), 10000)\n",
    "avg_infl = all_if.groupby(\"train_guid\").mean().reset_index().sort_values(\"train_guid\")\n",
    "\n",
    "sweep_lst = [0.1, 0.2, 0.3, 0.4]\n",
    "# Sweep for average influence across all test guids\n",
    "df = compute_loo_sweep(\n",
    "    train_dataset,\n",
    "    test_dataset,\n",
    "    avg_infl.influence.to_numpy(),\n",
    "    retrain_config,\n",
    "    sweep_lst,\n",
    ")"
   ]
  },
  {
   "cell_type": "code",
   "execution_count": 39,
   "id": "90d017c2-fa50-4471-8af9-146f2b372681",
   "metadata": {
    "execution": {
     "iopub.execute_input": "2023-05-14T17:45:18.419320Z",
     "iopub.status.busy": "2023-05-14T17:45:18.419105Z",
     "iopub.status.idle": "2023-05-14T17:45:18.456129Z",
     "shell.execute_reply": "2023-05-14T17:45:18.455406Z",
     "shell.execute_reply.started": "2023-05-14T17:45:18.419307Z"
    },
    "tags": []
   },
   "outputs": [
    {
     "data": {
      "text/html": [
       "<div>\n",
       "<style scoped>\n",
       "    .dataframe tbody tr th:only-of-type {\n",
       "        vertical-align: middle;\n",
       "    }\n",
       "\n",
       "    .dataframe tbody tr th {\n",
       "        vertical-align: top;\n",
       "    }\n",
       "\n",
       "    .dataframe thead th {\n",
       "        text-align: right;\n",
       "    }\n",
       "</style>\n",
       "<table border=\"1\" class=\"dataframe\">\n",
       "  <thead>\n",
       "    <tr style=\"text-align: right;\">\n",
       "      <th></th>\n",
       "      <th></th>\n",
       "      <th></th>\n",
       "      <th>avg_loss</th>\n",
       "      <th>accuracy</th>\n",
       "    </tr>\n",
       "    <tr>\n",
       "      <th>type</th>\n",
       "      <th>remove_pct</th>\n",
       "      <th></th>\n",
       "      <th></th>\n",
       "      <th></th>\n",
       "    </tr>\n",
       "  </thead>\n",
       "  <tbody>\n",
       "    <tr>\n",
       "      <th rowspan=\"4\" valign=\"top\">bot</th>\n",
       "      <th>0.1</th>\n",
       "      <th>0</th>\n",
       "      <td>0.539421</td>\n",
       "      <td>0.730505</td>\n",
       "    </tr>\n",
       "    <tr>\n",
       "      <th>0.2</th>\n",
       "      <th>0</th>\n",
       "      <td>0.743771</td>\n",
       "      <td>0.641055</td>\n",
       "    </tr>\n",
       "    <tr>\n",
       "      <th>0.3</th>\n",
       "      <th>0</th>\n",
       "      <td>1.089092</td>\n",
       "      <td>0.561927</td>\n",
       "    </tr>\n",
       "    <tr>\n",
       "      <th>0.4</th>\n",
       "      <th>0</th>\n",
       "      <td>1.979719</td>\n",
       "      <td>0.513761</td>\n",
       "    </tr>\n",
       "    <tr>\n",
       "      <th rowspan=\"4\" valign=\"top\">top</th>\n",
       "      <th>0.1</th>\n",
       "      <th>0</th>\n",
       "      <td>0.466184</td>\n",
       "      <td>0.795872</td>\n",
       "    </tr>\n",
       "    <tr>\n",
       "      <th>0.2</th>\n",
       "      <th>0</th>\n",
       "      <td>0.629576</td>\n",
       "      <td>0.750000</td>\n",
       "    </tr>\n",
       "    <tr>\n",
       "      <th>0.3</th>\n",
       "      <th>0</th>\n",
       "      <td>0.765133</td>\n",
       "      <td>0.715596</td>\n",
       "    </tr>\n",
       "    <tr>\n",
       "      <th>0.4</th>\n",
       "      <th>0</th>\n",
       "      <td>0.992389</td>\n",
       "      <td>0.649083</td>\n",
       "    </tr>\n",
       "    <tr>\n",
       "      <th rowspan=\"4\" valign=\"top\">zero</th>\n",
       "      <th>0.1</th>\n",
       "      <th>0</th>\n",
       "      <td>0.402743</td>\n",
       "      <td>0.826835</td>\n",
       "    </tr>\n",
       "    <tr>\n",
       "      <th>0.2</th>\n",
       "      <th>0</th>\n",
       "      <td>0.407384</td>\n",
       "      <td>0.824541</td>\n",
       "    </tr>\n",
       "    <tr>\n",
       "      <th>0.3</th>\n",
       "      <th>0</th>\n",
       "      <td>0.418097</td>\n",
       "      <td>0.827982</td>\n",
       "    </tr>\n",
       "    <tr>\n",
       "      <th>0.4</th>\n",
       "      <th>0</th>\n",
       "      <td>0.432693</td>\n",
       "      <td>0.829128</td>\n",
       "    </tr>\n",
       "  </tbody>\n",
       "</table>\n",
       "</div>"
      ],
      "text/plain": [
       "                   avg_loss  accuracy\n",
       "type remove_pct                      \n",
       "bot  0.1        0  0.539421  0.730505\n",
       "     0.2        0  0.743771  0.641055\n",
       "     0.3        0  1.089092  0.561927\n",
       "     0.4        0  1.979719  0.513761\n",
       "top  0.1        0  0.466184  0.795872\n",
       "     0.2        0  0.629576  0.750000\n",
       "     0.3        0  0.765133  0.715596\n",
       "     0.4        0  0.992389  0.649083\n",
       "zero 0.1        0  0.402743  0.826835\n",
       "     0.2        0  0.407384  0.824541\n",
       "     0.3        0  0.418097  0.827982\n",
       "     0.4        0  0.432693  0.829128"
      ]
     },
     "execution_count": 39,
     "metadata": {},
     "output_type": "execute_result"
    }
   ],
   "source": [
    "sum_infl = summarize_loo_df(df)\n",
    "sum_infl"
   ]
  },
  {
   "cell_type": "code",
   "execution_count": 40,
   "id": "06ee345d-6728-401b-a745-8c691dbe4a09",
   "metadata": {
    "execution": {
     "iopub.execute_input": "2023-05-14T17:45:26.825389Z",
     "iopub.status.busy": "2023-05-14T17:45:26.825143Z",
     "iopub.status.idle": "2023-05-14T17:45:26.862556Z",
     "shell.execute_reply": "2023-05-14T17:45:26.861755Z",
     "shell.execute_reply.started": "2023-05-14T17:45:26.825375Z"
    },
    "tags": []
   },
   "outputs": [
    {
     "data": {
      "text/html": [
       "<div>\n",
       "<style scoped>\n",
       "    .dataframe tbody tr th:only-of-type {\n",
       "        vertical-align: middle;\n",
       "    }\n",
       "\n",
       "    .dataframe tbody tr th {\n",
       "        vertical-align: top;\n",
       "    }\n",
       "\n",
       "    .dataframe thead th {\n",
       "        text-align: right;\n",
       "    }\n",
       "</style>\n",
       "<table border=\"1\" class=\"dataframe\">\n",
       "  <thead>\n",
       "    <tr style=\"text-align: right;\">\n",
       "      <th></th>\n",
       "      <th></th>\n",
       "      <th></th>\n",
       "      <th>avg_loss</th>\n",
       "      <th>accuracy</th>\n",
       "    </tr>\n",
       "    <tr>\n",
       "      <th>type</th>\n",
       "      <th>remove_pct</th>\n",
       "      <th></th>\n",
       "      <th></th>\n",
       "      <th></th>\n",
       "    </tr>\n",
       "  </thead>\n",
       "  <tbody>\n",
       "    <tr>\n",
       "      <th rowspan=\"4\" valign=\"top\">bot</th>\n",
       "      <th>0.1</th>\n",
       "      <th>0</th>\n",
       "      <td>0.539421</td>\n",
       "      <td>0.730505</td>\n",
       "    </tr>\n",
       "    <tr>\n",
       "      <th>0.2</th>\n",
       "      <th>0</th>\n",
       "      <td>0.743771</td>\n",
       "      <td>0.641055</td>\n",
       "    </tr>\n",
       "    <tr>\n",
       "      <th>0.3</th>\n",
       "      <th>0</th>\n",
       "      <td>1.089092</td>\n",
       "      <td>0.561927</td>\n",
       "    </tr>\n",
       "    <tr>\n",
       "      <th>0.4</th>\n",
       "      <th>0</th>\n",
       "      <td>1.979719</td>\n",
       "      <td>0.513761</td>\n",
       "    </tr>\n",
       "    <tr>\n",
       "      <th rowspan=\"4\" valign=\"top\">top</th>\n",
       "      <th>0.1</th>\n",
       "      <th>0</th>\n",
       "      <td>0.466184</td>\n",
       "      <td>0.795872</td>\n",
       "    </tr>\n",
       "    <tr>\n",
       "      <th>0.2</th>\n",
       "      <th>0</th>\n",
       "      <td>0.629576</td>\n",
       "      <td>0.750000</td>\n",
       "    </tr>\n",
       "    <tr>\n",
       "      <th>0.3</th>\n",
       "      <th>0</th>\n",
       "      <td>0.765133</td>\n",
       "      <td>0.715596</td>\n",
       "    </tr>\n",
       "    <tr>\n",
       "      <th>0.4</th>\n",
       "      <th>0</th>\n",
       "      <td>0.992389</td>\n",
       "      <td>0.649083</td>\n",
       "    </tr>\n",
       "    <tr>\n",
       "      <th rowspan=\"4\" valign=\"top\">zero</th>\n",
       "      <th>0.1</th>\n",
       "      <th>0</th>\n",
       "      <td>0.402743</td>\n",
       "      <td>0.826835</td>\n",
       "    </tr>\n",
       "    <tr>\n",
       "      <th>0.2</th>\n",
       "      <th>0</th>\n",
       "      <td>0.407384</td>\n",
       "      <td>0.824541</td>\n",
       "    </tr>\n",
       "    <tr>\n",
       "      <th>0.3</th>\n",
       "      <th>0</th>\n",
       "      <td>0.418097</td>\n",
       "      <td>0.827982</td>\n",
       "    </tr>\n",
       "    <tr>\n",
       "      <th>0.4</th>\n",
       "      <th>0</th>\n",
       "      <td>0.432693</td>\n",
       "      <td>0.829128</td>\n",
       "    </tr>\n",
       "  </tbody>\n",
       "</table>\n",
       "</div>"
      ],
      "text/plain": [
       "                   avg_loss  accuracy\n",
       "type remove_pct                      \n",
       "bot  0.1        0  0.539421  0.730505\n",
       "     0.2        0  0.743771  0.641055\n",
       "     0.3        0  1.089092  0.561927\n",
       "     0.4        0  1.979719  0.513761\n",
       "top  0.1        0  0.466184  0.795872\n",
       "     0.2        0  0.629576  0.750000\n",
       "     0.3        0  0.765133  0.715596\n",
       "     0.4        0  0.992389  0.649083\n",
       "zero 0.1        0  0.402743  0.826835\n",
       "     0.2        0  0.407384  0.824541\n",
       "     0.3        0  0.418097  0.827982\n",
       "     0.4        0  0.432693  0.829128"
      ]
     },
     "execution_count": 40,
     "metadata": {},
     "output_type": "execute_result"
    }
   ],
   "source": [
    "sum_infl = summarize_loo_df(df)\n",
    "sum_infl"
   ]
  },
  {
   "cell_type": "code",
   "execution_count": null,
   "id": "8ff5d462-9218-4639-9ab7-2d85a4293b89",
   "metadata": {},
   "outputs": [],
   "source": []
  },
  {
   "cell_type": "code",
   "execution_count": 39,
   "id": "a4f980c9-9b45-4d90-a073-8790077cce3c",
   "metadata": {
    "execution": {
     "iopub.execute_input": "2023-05-11T06:00:27.149262Z",
     "iopub.status.busy": "2023-05-11T06:00:27.149052Z",
     "iopub.status.idle": "2023-05-11T06:00:27.288802Z",
     "shell.execute_reply": "2023-05-11T06:00:27.288112Z",
     "shell.execute_reply.started": "2023-05-11T06:00:27.149248Z"
    },
    "tags": []
   },
   "outputs": [
    {
     "data": {
      "text/plain": [
       "<Axes: >"
      ]
     },
     "execution_count": 39,
     "metadata": {},
     "output_type": "execute_result"
    },
    {
     "data": {
      "image/png": "[encoded data removed]",
      "text/plain": [
       "<Figure size 640x480 with 1 Axes>"
      ]
     },
     "metadata": {},
     "output_type": "display_data"
    }
   ],
   "source": [
    "all_if[all_if.train_guid == 6263].infl_diff.hist()"
   ]
  },
  {
   "cell_type": "code",
   "execution_count": 34,
   "id": "a02ccbfc-301c-4560-bb93-833887fb4976",
   "metadata": {
    "execution": {
     "iopub.execute_input": "2023-05-11T05:59:13.578993Z",
     "iopub.status.busy": "2023-05-11T05:59:13.578602Z",
     "iopub.status.idle": "2023-05-11T05:59:13.609091Z",
     "shell.execute_reply": "2023-05-11T05:59:13.608290Z",
     "shell.execute_reply.started": "2023-05-11T05:59:13.578967Z"
    },
    "tags": []
   },
   "outputs": [
    {
     "data": {
      "text/html": [
       "<div>\n",
       "<style scoped>\n",
       "    .dataframe tbody tr th:only-of-type {\n",
       "        vertical-align: middle;\n",
       "    }\n",
       "\n",
       "    .dataframe tbody tr th {\n",
       "        vertical-align: top;\n",
       "    }\n",
       "\n",
       "    .dataframe thead th {\n",
       "        text-align: right;\n",
       "    }\n",
       "</style>\n",
       "<table border=\"1\" class=\"dataframe\">\n",
       "  <thead>\n",
       "    <tr style=\"text-align: right;\">\n",
       "      <th></th>\n",
       "      <th>train_guid</th>\n",
       "      <th>influence</th>\n",
       "      <th>test_guid</th>\n",
       "      <th>infl_diff</th>\n",
       "      <th>abs_infl</th>\n",
       "    </tr>\n",
       "  </thead>\n",
       "  <tbody>\n",
       "    <tr>\n",
       "      <th>8181</th>\n",
       "      <td>8181</td>\n",
       "      <td>0.918207</td>\n",
       "      <td>435.872</td>\n",
       "      <td>-0.009182</td>\n",
       "      <td>0.037710</td>\n",
       "    </tr>\n",
       "    <tr>\n",
       "      <th>6390</th>\n",
       "      <td>6390</td>\n",
       "      <td>0.827976</td>\n",
       "      <td>435.872</td>\n",
       "      <td>-0.008280</td>\n",
       "      <td>0.036514</td>\n",
       "    </tr>\n",
       "    <tr>\n",
       "      <th>9081</th>\n",
       "      <td>9081</td>\n",
       "      <td>0.826154</td>\n",
       "      <td>435.872</td>\n",
       "      <td>-0.008262</td>\n",
       "      <td>0.045711</td>\n",
       "    </tr>\n",
       "    <tr>\n",
       "      <th>8105</th>\n",
       "      <td>8105</td>\n",
       "      <td>0.822779</td>\n",
       "      <td>435.872</td>\n",
       "      <td>-0.008228</td>\n",
       "      <td>0.036465</td>\n",
       "    </tr>\n",
       "    <tr>\n",
       "      <th>1007</th>\n",
       "      <td>1007</td>\n",
       "      <td>0.816501</td>\n",
       "      <td>435.872</td>\n",
       "      <td>-0.008165</td>\n",
       "      <td>0.038837</td>\n",
       "    </tr>\n",
       "    <tr>\n",
       "      <th>...</th>\n",
       "      <td>...</td>\n",
       "      <td>...</td>\n",
       "      <td>...</td>\n",
       "      <td>...</td>\n",
       "      <td>...</td>\n",
       "    </tr>\n",
       "    <tr>\n",
       "      <th>8833</th>\n",
       "      <td>8833</td>\n",
       "      <td>-0.782116</td>\n",
       "      <td>435.872</td>\n",
       "      <td>0.007821</td>\n",
       "      <td>0.038686</td>\n",
       "    </tr>\n",
       "    <tr>\n",
       "      <th>8543</th>\n",
       "      <td>8543</td>\n",
       "      <td>-0.822028</td>\n",
       "      <td>435.872</td>\n",
       "      <td>0.008220</td>\n",
       "      <td>0.043302</td>\n",
       "    </tr>\n",
       "    <tr>\n",
       "      <th>6530</th>\n",
       "      <td>6530</td>\n",
       "      <td>-0.915507</td>\n",
       "      <td>435.872</td>\n",
       "      <td>0.009155</td>\n",
       "      <td>0.043384</td>\n",
       "    </tr>\n",
       "    <tr>\n",
       "      <th>2426</th>\n",
       "      <td>2426</td>\n",
       "      <td>-0.970863</td>\n",
       "      <td>435.872</td>\n",
       "      <td>0.009709</td>\n",
       "      <td>0.057795</td>\n",
       "    </tr>\n",
       "    <tr>\n",
       "      <th>6263</th>\n",
       "      <td>6263</td>\n",
       "      <td>-0.976000</td>\n",
       "      <td>435.872</td>\n",
       "      <td>0.009760</td>\n",
       "      <td>0.044357</td>\n",
       "    </tr>\n",
       "  </tbody>\n",
       "</table>\n",
       "<p>10000 rows × 5 columns</p>\n",
       "</div>"
      ],
      "text/plain": [
       "      train_guid  influence  test_guid  infl_diff  abs_infl\n",
       "8181        8181   0.918207    435.872  -0.009182  0.037710\n",
       "6390        6390   0.827976    435.872  -0.008280  0.036514\n",
       "9081        9081   0.826154    435.872  -0.008262  0.045711\n",
       "8105        8105   0.822779    435.872  -0.008228  0.036465\n",
       "1007        1007   0.816501    435.872  -0.008165  0.038837\n",
       "...          ...        ...        ...        ...       ...\n",
       "8833        8833  -0.782116    435.872   0.007821  0.038686\n",
       "8543        8543  -0.822028    435.872   0.008220  0.043302\n",
       "6530        6530  -0.915507    435.872   0.009155  0.043384\n",
       "2426        2426  -0.970863    435.872   0.009709  0.057795\n",
       "6263        6263  -0.976000    435.872   0.009760  0.044357\n",
       "\n",
       "[10000 rows x 5 columns]"
      ]
     },
     "execution_count": 34,
     "metadata": {},
     "output_type": "execute_result"
    }
   ],
   "source": [
    "avg_infl.sort_values('infl_diff')"
   ]
  },
  {
   "cell_type": "code",
   "execution_count": 41,
   "id": "2e2d3316-b1de-4f99-a37d-a07a0dcfe69c",
   "metadata": {
    "execution": {
     "iopub.execute_input": "2023-05-14T17:45:32.498613Z",
     "iopub.status.busy": "2023-05-14T17:45:32.497975Z",
     "iopub.status.idle": "2023-05-14T17:45:32.521879Z",
     "shell.execute_reply": "2023-05-14T17:45:32.521169Z",
     "shell.execute_reply.started": "2023-05-14T17:45:32.498595Z"
    },
    "tags": []
   },
   "outputs": [],
   "source": [
    "pdf = sum_infl.reset_index()\n",
    "pdf.to_csv('remove-influence.csv', index=False)"
   ]
  },
  {
   "cell_type": "code",
   "execution_count": 42,
   "id": "435a14f2-f9f2-4f6a-bf65-f21272e88799",
   "metadata": {
    "execution": {
     "iopub.execute_input": "2023-05-14T17:45:33.138420Z",
     "iopub.status.busy": "2023-05-14T17:45:33.138204Z",
     "iopub.status.idle": "2023-05-14T17:45:33.282819Z",
     "shell.execute_reply": "2023-05-14T17:45:33.282135Z",
     "shell.execute_reply.started": "2023-05-14T17:45:33.138406Z"
    },
    "tags": []
   },
   "outputs": [
    {
     "data": {
      "text/plain": [
       "[<matplotlib.lines.Line2D at 0x7f697ade12d0>]"
      ]
     },
     "execution_count": 42,
     "metadata": {},
     "output_type": "execute_result"
    },
    {
     "data": {
      "image/png": "[encoded data removed]",
      "text/plain": [
       "<Figure size 640x480 with 1 Axes>"
      ]
     },
     "metadata": {},
     "output_type": "display_data"
    }
   ],
   "source": [
    "# pdf = sum_infl.reset_index()\n",
    "# pdf = pd.read_csv(\"loo_sweep_results/influence_loo.csv\")\n",
    "# srand = pd.read_csv(\"loo_sweep_results/random_loo.csv\")\n",
    "\n",
    "plt.plot(srand.reset_index().remove_pct, srand.accuracy, \"r:\")\n",
    "\n",
    "zero = pdf[pdf.type == \"zero\"]\n",
    "plt.plot(zero.remove_pct, zero.accuracy, \"c--\")\n",
    "\n",
    "top = pdf[pdf.type == \"top\"]\n",
    "plt.plot(top.remove_pct, top.accuracy, \"g-\")\n",
    "\n",
    "bot = pdf[pdf.type == \"bot\"]\n",
    "plt.plot(bot.remove_pct, bot.accuracy, \"r-\")"
   ]
  },
  {
   "cell_type": "code",
   "execution_count": 28,
   "id": "f55081cb-74a9-40d2-b06d-c701f51ed281",
   "metadata": {
    "execution": {
     "iopub.execute_input": "2023-05-11T15:57:22.885944Z",
     "iopub.status.busy": "2023-05-11T15:57:22.885365Z",
     "iopub.status.idle": "2023-05-11T15:57:23.028049Z",
     "shell.execute_reply": "2023-05-11T15:57:23.027375Z",
     "shell.execute_reply.started": "2023-05-11T15:57:22.885929Z"
    },
    "tags": []
   },
   "outputs": [
    {
     "data": {
      "text/plain": [
       "[<matplotlib.lines.Line2D at 0x7fdc24c838e0>]"
      ]
     },
     "execution_count": 28,
     "metadata": {},
     "output_type": "execute_result"
    },
    {
     "data": {
      "image/png": "[encoded data removed]",
      "text/plain": [
       "<Figure size 640x480 with 1 Axes>"
      ]
     },
     "metadata": {},
     "output_type": "display_data"
    }
   ],
   "source": [
    "plt.plot(srand.reset_index().remove_pct, srand.accuracy, \"r:\")\n",
    "\n",
    "zero = pdf[pdf.type == \"zero\"]\n",
    "plt.plot(zero.remove_pct, zero.accuracy, \"c--\")"
   ]
  },
  {
   "cell_type": "code",
   "execution_count": null,
   "id": "924d18b7-43bf-4d67-a865-955a37d91d61",
   "metadata": {
    "tags": []
   },
   "outputs": [],
   "source": []
  },
  {
   "cell_type": "code",
   "execution_count": 36,
   "id": "5a06bc18-ff4a-4f8e-b3c6-57d7f8171035",
   "metadata": {
    "execution": {
     "iopub.execute_input": "2023-05-11T16:01:52.775127Z",
     "iopub.status.busy": "2023-05-11T16:01:52.774493Z",
     "iopub.status.idle": "2023-05-11T16:01:52.970132Z",
     "shell.execute_reply": "2023-05-11T16:01:52.969497Z",
     "shell.execute_reply.started": "2023-05-11T16:01:52.775111Z"
    },
    "tags": []
   },
   "outputs": [
    {
     "data": {
      "text/plain": [
       "<matplotlib.legend.Legend at 0x7fdc2ae34e80>"
      ]
     },
     "execution_count": 36,
     "metadata": {},
     "output_type": "execute_result"
    },
    {
     "data": {
      "image/png": "[encoded data removed]",
      "text/plain": [
       "<Figure size 640x480 with 1 Axes>"
      ]
     },
     "metadata": {},
     "output_type": "display_data"
    }
   ],
   "source": [
    "from matplotlib import pyplot as plt\n",
    "\n",
    "pdf = pd.read_csv(\"loo_sweep_results/influence_loo.csv\")\n",
    "srand = pd.read_csv(\"loo_sweep_results/random_loo.csv\")\n",
    "\n",
    "plt.plot(srand.reset_index().remove_pct, srand.accuracy, \"r:\", label='Random')\n",
    "\n",
    "zero = pdf[pdf.type == 'zero']\n",
    "plt.plot(zero.remove_pct, zero.accuracy, \"g--\", label='Near Zero Influence Score')\n",
    "\n",
    "# top = pdf[pdf.type == \"top\"]\n",
    "# plt.plot(top.remove_pct, top.accuracy, \"r-\")\n",
    "\n",
    "bot = pdf[pdf.type == \"bot\"]\n",
    "plt.plot(bot.remove_pct, bot.accuracy, \"b-\", label='Most Helpful Influence Score')\n",
    "\n",
    "plt.title('Removing Training Data')\n",
    "plt.xlabel('Fraction of Training Data Removed')\n",
    "plt.ylabel('Perdiction Accuracy (%)')\n",
    "plt.legend()"
   ]
  },
  {
   "cell_type": "code",
   "execution_count": 50,
   "id": "02a6f52e-5586-4bfe-9a4c-c2ee1eb8a248",
   "metadata": {
    "execution": {
     "iopub.execute_input": "2023-05-07T23:46:09.660923Z",
     "iopub.status.busy": "2023-05-07T23:46:09.660763Z",
     "iopub.status.idle": "2023-05-07T23:46:09.758684Z",
     "shell.execute_reply": "2023-05-07T23:46:09.757919Z",
     "shell.execute_reply.started": "2023-05-07T23:46:09.660908Z"
    },
    "tags": []
   },
   "outputs": [
    {
     "name": "stderr",
     "output_type": "stream",
     "text": [
      "/tmp/ipykernel_13093/566471095.py:1: FutureWarning: The default value of numeric_only in DataFrameGroupBy.mean is deprecated. In a future version, numeric_only will default to False. Either specify numeric_only or select only columns which should be valid for the function.\n",
      "  df.groupby([\"type\", \"remove_pct\"]).mean().sort_values([\"type\", \"remove_pct\"])\n"
     ]
    },
    {
     "data": {
      "text/html": [
       "<div>\n",
       "<style scoped>\n",
       "    .dataframe tbody tr th:only-of-type {\n",
       "        vertical-align: middle;\n",
       "    }\n",
       "\n",
       "    .dataframe tbody tr th {\n",
       "        vertical-align: top;\n",
       "    }\n",
       "\n",
       "    .dataframe thead th {\n",
       "        text-align: right;\n",
       "    }\n",
       "</style>\n",
       "<table border=\"1\" class=\"dataframe\">\n",
       "  <thead>\n",
       "    <tr style=\"text-align: right;\">\n",
       "      <th></th>\n",
       "      <th></th>\n",
       "      <th>test_guid</th>\n",
       "      <th>pred</th>\n",
       "      <th>label</th>\n",
       "      <th>loss</th>\n",
       "    </tr>\n",
       "    <tr>\n",
       "      <th>type</th>\n",
       "      <th>remove_pct</th>\n",
       "      <th></th>\n",
       "      <th></th>\n",
       "      <th></th>\n",
       "      <th></th>\n",
       "    </tr>\n",
       "  </thead>\n",
       "  <tbody>\n",
       "    <tr>\n",
       "      <th rowspan=\"5\" valign=\"top\">bot</th>\n",
       "      <th>0.01</th>\n",
       "      <td>435.5</td>\n",
       "      <td>0.682339</td>\n",
       "      <td>0.509174</td>\n",
       "      <td>0.512243</td>\n",
       "    </tr>\n",
       "    <tr>\n",
       "      <th>0.05</th>\n",
       "      <td>435.5</td>\n",
       "      <td>0.673165</td>\n",
       "      <td>0.509174</td>\n",
       "      <td>0.505404</td>\n",
       "    </tr>\n",
       "    <tr>\n",
       "      <th>0.10</th>\n",
       "      <td>435.5</td>\n",
       "      <td>0.873853</td>\n",
       "      <td>0.509174</td>\n",
       "      <td>0.635568</td>\n",
       "    </tr>\n",
       "    <tr>\n",
       "      <th>0.20</th>\n",
       "      <td>435.5</td>\n",
       "      <td>0.928899</td>\n",
       "      <td>0.509174</td>\n",
       "      <td>0.708639</td>\n",
       "    </tr>\n",
       "    <tr>\n",
       "      <th>0.40</th>\n",
       "      <td>435.5</td>\n",
       "      <td>1.000000</td>\n",
       "      <td>0.509174</td>\n",
       "      <td>1.484117</td>\n",
       "    </tr>\n",
       "    <tr>\n",
       "      <th rowspan=\"5\" valign=\"top\">rand</th>\n",
       "      <th>0.01</th>\n",
       "      <td>435.5</td>\n",
       "      <td>0.575688</td>\n",
       "      <td>0.509174</td>\n",
       "      <td>0.485304</td>\n",
       "    </tr>\n",
       "    <tr>\n",
       "      <th>0.05</th>\n",
       "      <td>435.5</td>\n",
       "      <td>0.635321</td>\n",
       "      <td>0.509174</td>\n",
       "      <td>0.497645</td>\n",
       "    </tr>\n",
       "    <tr>\n",
       "      <th>0.10</th>\n",
       "      <td>435.5</td>\n",
       "      <td>0.707569</td>\n",
       "      <td>0.509174</td>\n",
       "      <td>0.522196</td>\n",
       "    </tr>\n",
       "    <tr>\n",
       "      <th>0.20</th>\n",
       "      <td>435.5</td>\n",
       "      <td>0.580275</td>\n",
       "      <td>0.509174</td>\n",
       "      <td>0.517005</td>\n",
       "    </tr>\n",
       "    <tr>\n",
       "      <th>0.40</th>\n",
       "      <td>435.5</td>\n",
       "      <td>0.741972</td>\n",
       "      <td>0.509174</td>\n",
       "      <td>0.549613</td>\n",
       "    </tr>\n",
       "    <tr>\n",
       "      <th rowspan=\"5\" valign=\"top\">top</th>\n",
       "      <th>0.01</th>\n",
       "      <td>435.5</td>\n",
       "      <td>0.565367</td>\n",
       "      <td>0.509174</td>\n",
       "      <td>0.483704</td>\n",
       "    </tr>\n",
       "    <tr>\n",
       "      <th>0.05</th>\n",
       "      <td>435.5</td>\n",
       "      <td>0.379587</td>\n",
       "      <td>0.509174</td>\n",
       "      <td>0.470753</td>\n",
       "    </tr>\n",
       "    <tr>\n",
       "      <th>0.10</th>\n",
       "      <td>435.5</td>\n",
       "      <td>0.387615</td>\n",
       "      <td>0.509174</td>\n",
       "      <td>0.466362</td>\n",
       "    </tr>\n",
       "    <tr>\n",
       "      <th>0.20</th>\n",
       "      <td>435.5</td>\n",
       "      <td>0.286697</td>\n",
       "      <td>0.509174</td>\n",
       "      <td>0.531760</td>\n",
       "    </tr>\n",
       "    <tr>\n",
       "      <th>0.40</th>\n",
       "      <td>435.5</td>\n",
       "      <td>0.016055</td>\n",
       "      <td>0.509174</td>\n",
       "      <td>1.023083</td>\n",
       "    </tr>\n",
       "  </tbody>\n",
       "</table>\n",
       "</div>"
      ],
      "text/plain": [
       "                 test_guid      pred     label      loss\n",
       "type remove_pct                                         \n",
       "bot  0.01            435.5  0.682339  0.509174  0.512243\n",
       "     0.05            435.5  0.673165  0.509174  0.505404\n",
       "     0.10            435.5  0.873853  0.509174  0.635568\n",
       "     0.20            435.5  0.928899  0.509174  0.708639\n",
       "     0.40            435.5  1.000000  0.509174  1.484117\n",
       "rand 0.01            435.5  0.575688  0.509174  0.485304\n",
       "     0.05            435.5  0.635321  0.509174  0.497645\n",
       "     0.10            435.5  0.707569  0.509174  0.522196\n",
       "     0.20            435.5  0.580275  0.509174  0.517005\n",
       "     0.40            435.5  0.741972  0.509174  0.549613\n",
       "top  0.01            435.5  0.565367  0.509174  0.483704\n",
       "     0.05            435.5  0.379587  0.509174  0.470753\n",
       "     0.10            435.5  0.387615  0.509174  0.466362\n",
       "     0.20            435.5  0.286697  0.509174  0.531760\n",
       "     0.40            435.5  0.016055  0.509174  1.023083"
      ]
     },
     "execution_count": 50,
     "metadata": {},
     "output_type": "execute_result"
    }
   ],
   "source": [
    "df.groupby([\"type\", \"remove_pct\"]).mean().sort_values([\"type\", \"remove_pct\"])"
   ]
  },
  {
   "cell_type": "code",
   "execution_count": 144,
   "id": "b07c7e81-6334-4375-82fc-430b24d71ac5",
   "metadata": {
    "execution": {
     "iopub.execute_input": "2023-05-08T01:17:57.407453Z",
     "iopub.status.busy": "2023-05-08T01:17:57.407204Z",
     "iopub.status.idle": "2023-05-08T01:17:57.610479Z",
     "shell.execute_reply": "2023-05-08T01:17:57.609786Z",
     "shell.execute_reply.started": "2023-05-08T01:17:57.407435Z"
    },
    "tags": []
   },
   "outputs": [
    {
     "data": {
      "text/plain": [
       "<Axes: >"
      ]
     },
     "execution_count": 144,
     "metadata": {},
     "output_type": "execute_result"
    },
    {
     "data": {
      "image/png": "[encoded data removed]",
      "text/plain": [
       "<Figure size 640x480 with 1 Axes>"
      ]
     },
     "metadata": {},
     "output_type": "display_data"
    }
   ],
   "source": [
    "avg_infl.influence.hist(bins=50)"
   ]
  },
  {
   "cell_type": "markdown",
   "id": "45c1514a-e485-4e92-a0b7-74195f5d897c",
   "metadata": {},
   "source": [
    "## Plot for Avg Loss"
   ]
  },
  {
   "cell_type": "code",
   "execution_count": 52,
   "id": "b90a9a56-be09-44d0-b909-6ff71573798b",
   "metadata": {
    "execution": {
     "iopub.execute_input": "2023-05-07T23:46:48.372451Z",
     "iopub.status.busy": "2023-05-07T23:46:48.372210Z",
     "iopub.status.idle": "2023-05-07T23:46:48.403999Z",
     "shell.execute_reply": "2023-05-07T23:46:48.403101Z",
     "shell.execute_reply.started": "2023-05-07T23:46:48.372435Z"
    },
    "tags": []
   },
   "outputs": [
    {
     "name": "stderr",
     "output_type": "stream",
     "text": [
      "/tmp/ipykernel_13093/1621465221.py:4: FutureWarning: The default value of numeric_only in DataFrameGroupBy.mean is deprecated. In a future version, numeric_only will default to False. Either specify numeric_only or select only columns which should be valid for the function.\n",
      "  .mean()\n"
     ]
    }
   ],
   "source": [
    "# TEST_GUID = 716\n",
    "pdf = (\n",
    "    df.groupby([\"type\", \"remove_pct\"])\n",
    "    .mean()\n",
    "    .reset_index()\n",
    "    .sort_values([\"type\", \"remove_pct\"])\n",
    ")\n",
    "base_line_loss = fdf.loss.squeeze()\n",
    "\n",
    "rand = pdf[(pdf.type == \"rand\")]\n",
    "rand = rand[[\"remove_pct\", \"loss\"]]\n",
    "\n",
    "# zero = df[(df.type == \"zero\")]\n",
    "# zero = zero[[\"remove_pct\", \"loss\"]]\n",
    "\n",
    "top = pdf[(pdf.type == \"top\")]\n",
    "top = top[[\"remove_pct\", \"loss\"]]\n",
    "\n",
    "bot = pdf[(pdf.type == \"bot\")]\n",
    "bot = bot[[\"remove_pct\", \"loss\"]]"
   ]
  },
  {
   "cell_type": "code",
   "execution_count": 10,
   "id": "8f5d14ec-996c-415e-9824-5ba8be74ee3f",
   "metadata": {
    "execution": {
     "iopub.execute_input": "2023-05-07T23:07:31.751173Z",
     "iopub.status.busy": "2023-05-07T23:07:31.750967Z",
     "iopub.status.idle": "2023-05-07T23:07:31.781418Z",
     "shell.execute_reply": "2023-05-07T23:07:31.780684Z",
     "shell.execute_reply.started": "2023-05-07T23:07:31.751157Z"
    },
    "tags": []
   },
   "outputs": [
    {
     "data": {
      "text/html": [
       "<div>\n",
       "<style scoped>\n",
       "    .dataframe tbody tr th:only-of-type {\n",
       "        vertical-align: middle;\n",
       "    }\n",
       "\n",
       "    .dataframe tbody tr th {\n",
       "        vertical-align: top;\n",
       "    }\n",
       "\n",
       "    .dataframe thead th {\n",
       "        text-align: right;\n",
       "    }\n",
       "</style>\n",
       "<table border=\"1\" class=\"dataframe\">\n",
       "  <thead>\n",
       "    <tr style=\"text-align: right;\">\n",
       "      <th></th>\n",
       "      <th>remove_pct</th>\n",
       "      <th>loss</th>\n",
       "    </tr>\n",
       "  </thead>\n",
       "  <tbody>\n",
       "    <tr>\n",
       "      <th>4</th>\n",
       "      <td>0.01</td>\n",
       "      <td>0.412868</td>\n",
       "    </tr>\n",
       "    <tr>\n",
       "      <th>5</th>\n",
       "      <td>0.05</td>\n",
       "      <td>0.406219</td>\n",
       "    </tr>\n",
       "    <tr>\n",
       "      <th>6</th>\n",
       "      <td>0.10</td>\n",
       "      <td>0.407622</td>\n",
       "    </tr>\n",
       "    <tr>\n",
       "      <th>7</th>\n",
       "      <td>0.20</td>\n",
       "      <td>0.425043</td>\n",
       "    </tr>\n",
       "  </tbody>\n",
       "</table>\n",
       "</div>"
      ],
      "text/plain": [
       "   remove_pct      loss\n",
       "4        0.01  0.412868\n",
       "5        0.05  0.406219\n",
       "6        0.10  0.407622\n",
       "7        0.20  0.425043"
      ]
     },
     "execution_count": 10,
     "metadata": {},
     "output_type": "execute_result"
    }
   ],
   "source": [
    "rand"
   ]
  },
  {
   "cell_type": "code",
   "execution_count": 11,
   "id": "ffe93aca-31a7-4d32-b6cd-0a7434ef0635",
   "metadata": {
    "execution": {
     "iopub.execute_input": "2023-05-07T23:07:31.783364Z",
     "iopub.status.busy": "2023-05-07T23:07:31.782468Z",
     "iopub.status.idle": "2023-05-07T23:07:31.946213Z",
     "shell.execute_reply": "2023-05-07T23:07:31.945455Z",
     "shell.execute_reply.started": "2023-05-07T23:07:31.783331Z"
    },
    "tags": []
   },
   "outputs": [
    {
     "data": {
      "text/plain": [
       "[<matplotlib.lines.Line2D at 0x7fe6bddedd20>]"
      ]
     },
     "execution_count": 11,
     "metadata": {},
     "output_type": "execute_result"
    },
    {
     "data": {
      "image/png": "[encoded data removed]",
      "text/plain": [
       "<Figure size 640x480 with 1 Axes>"
      ]
     },
     "metadata": {},
     "output_type": "display_data"
    }
   ],
   "source": [
    "from matplotlib import pyplot as plt\n",
    "\n",
    "plt.plot(rand.remove_pct, rand.loss, \"g-\")\n",
    "# plt.plot(zero.remove_pct, zero.loss, \"g--\")\n",
    "\n",
    "plt.plot(top.remove_pct, top.loss, \"r-\")\n",
    "plt.plot(bot.remove_pct, bot.loss, \"b-\")"
   ]
  },
  {
   "cell_type": "code",
   "execution_count": 12,
   "id": "7d1de6b6-28df-4827-a5d2-e9f0111f559b",
   "metadata": {
    "execution": {
     "iopub.execute_input": "2023-05-07T23:07:31.947520Z",
     "iopub.status.busy": "2023-05-07T23:07:31.947319Z",
     "iopub.status.idle": "2023-05-07T23:07:31.974239Z",
     "shell.execute_reply": "2023-05-07T23:07:31.971434Z",
     "shell.execute_reply.started": "2023-05-07T23:07:31.947504Z"
    }
   },
   "outputs": [
    {
     "ename": "SyntaxError",
     "evalue": "invalid syntax (476313318.py, line 1)",
     "output_type": "error",
     "traceback": [
      "\u001b[0;36m  Cell \u001b[0;32mIn[12], line 1\u001b[0;36m\u001b[0m\n\u001b[0;31m    -\u001b[0m\n\u001b[0m     ^\u001b[0m\n\u001b[0;31mSyntaxError\u001b[0m\u001b[0;31m:\u001b[0m invalid syntax\n"
     ]
    }
   ],
   "source": [
    "-"
   ]
  },
  {
   "cell_type": "markdown",
   "id": "6c268941-9308-4f00-8d74-02fd7abb169c",
   "metadata": {
    "tags": []
   },
   "source": [
    "### Per Test GUID Analysis"
   ]
  },
  {
   "cell_type": "code",
   "execution_count": null,
   "id": "a5038aab-b05a-4fb6-bcaa-b4c704941088",
   "metadata": {
    "execution": {
     "iopub.status.busy": "2023-05-07T23:07:31.975196Z",
     "iopub.status.idle": "2023-05-07T23:07:31.975554Z",
     "shell.execute_reply": "2023-05-07T23:07:31.975430Z",
     "shell.execute_reply.started": "2023-05-07T23:07:31.975417Z"
    },
    "tags": []
   },
   "outputs": [],
   "source": [
    "df[(df.type == \"rand\") & (df.test_guid == TEST_GUID)]"
   ]
  },
  {
   "cell_type": "code",
   "execution_count": null,
   "id": "6f28cb44-ef2e-48db-875f-4dc3efbf0caf",
   "metadata": {
    "execution": {
     "iopub.status.busy": "2023-05-07T23:07:31.976672Z",
     "iopub.status.idle": "2023-05-07T23:07:31.976960Z",
     "shell.execute_reply": "2023-05-07T23:07:31.976843Z",
     "shell.execute_reply.started": "2023-05-07T23:07:31.976832Z"
    },
    "tags": []
   },
   "outputs": [],
   "source": [
    "df[(df.type == \"top\") & (df.test_guid == TEST_GUID)]"
   ]
  },
  {
   "cell_type": "code",
   "execution_count": null,
   "id": "4a1be2de-ca2f-4459-8ce3-bdc90a9dc12b",
   "metadata": {
    "execution": {
     "iopub.status.busy": "2023-05-07T23:07:31.978548Z",
     "iopub.status.idle": "2023-05-07T23:07:31.978828Z",
     "shell.execute_reply": "2023-05-07T23:07:31.978722Z",
     "shell.execute_reply.started": "2023-05-07T23:07:31.978710Z"
    },
    "tags": []
   },
   "outputs": [],
   "source": [
    "df[(df.type == \"bot\") & (df.test_guid == TEST_GUID)]"
   ]
  },
  {
   "cell_type": "code",
   "execution_count": null,
   "id": "bf9151c7-eb45-4098-b020-74610a7f3343",
   "metadata": {
    "execution": {
     "iopub.status.busy": "2023-05-07T23:07:31.979955Z",
     "iopub.status.idle": "2023-05-07T23:07:31.980267Z",
     "shell.execute_reply": "2023-05-07T23:07:31.980156Z",
     "shell.execute_reply.started": "2023-05-07T23:07:31.980144Z"
    },
    "tags": []
   },
   "outputs": [],
   "source": [
    "df[(df.type == \"zero\") & (df.test_guid == TEST_GUID)]"
   ]
  },
  {
   "cell_type": "markdown",
   "id": "819946d9-9fc6-4b0c-88d0-b4d707a60319",
   "metadata": {},
   "source": [
    "### Plot"
   ]
  },
  {
   "cell_type": "code",
   "execution_count": null,
   "id": "0fe1934c-e49d-46d3-b3c5-977552813ad5",
   "metadata": {
    "execution": {
     "iopub.status.busy": "2023-05-07T23:07:31.981700Z",
     "iopub.status.idle": "2023-05-07T23:07:31.981968Z",
     "shell.execute_reply": "2023-05-07T23:07:31.981846Z",
     "shell.execute_reply.started": "2023-05-07T23:07:31.981835Z"
    },
    "tags": []
   },
   "outputs": [],
   "source": [
    "# TEST_GUID = 716\n",
    "base_line_loss = fdf[fdf.test_guid == TEST_GUID].loss.squeeze()\n",
    "\n",
    "rand = df[(df.type == \"rand\") & (df.test_guid == TEST_GUID)]\n",
    "rand = rand[[\"remove_pct\", \"loss\"]]\n",
    "\n",
    "zero = df[(df.type == \"zero\") & (df.test_guid == TEST_GUID)]\n",
    "zero = zero[[\"remove_pct\", \"loss\"]]\n",
    "\n",
    "top = df[(df.type == \"top\") & (df.test_guid == TEST_GUID)]\n",
    "top = top[[\"remove_pct\", \"loss\"]]\n",
    "\n",
    "bot = df[(df.type == \"bot\") & (df.test_guid == TEST_GUID)]\n",
    "bot = bot[[\"remove_pct\", \"loss\"]]"
   ]
  },
  {
   "cell_type": "code",
   "execution_count": null,
   "id": "aa64652e-cb44-4c8c-9be8-63df3f2477c0",
   "metadata": {
    "execution": {
     "iopub.status.busy": "2023-05-07T23:07:31.983398Z",
     "iopub.status.idle": "2023-05-07T23:07:31.983644Z",
     "shell.execute_reply": "2023-05-07T23:07:31.983543Z",
     "shell.execute_reply.started": "2023-05-07T23:07:31.983533Z"
    },
    "tags": []
   },
   "outputs": [],
   "source": [
    "from matplotlib import pyplot as plt\n",
    "\n",
    "plt.plot(rand.remove_pct, rand.loss, \"g-\")\n",
    "plt.plot(zero.remove_pct, zero.loss, \"g--\")\n",
    "\n",
    "plt.plot(top.remove_pct, top.loss, \"r-\")\n",
    "plt.plot(bot.remove_pct, bot.loss, \"b-\")"
   ]
  },
  {
   "cell_type": "code",
   "execution_count": null,
   "id": "0b1fa509-c7ae-4094-843f-4e1a02cb372e",
   "metadata": {
    "execution": {
     "iopub.status.busy": "2023-05-07T23:07:31.984702Z",
     "iopub.status.idle": "2023-05-07T23:07:31.984934Z",
     "shell.execute_reply": "2023-05-07T23:07:31.984829Z",
     "shell.execute_reply.started": "2023-05-07T23:07:31.984819Z"
    }
   },
   "outputs": [],
   "source": [
    "-"
   ]
  },
  {
   "cell_type": "code",
   "execution_count": null,
   "id": "c644d600-7203-48af-b7a2-21d3f464d9e8",
   "metadata": {
    "execution": {
     "iopub.status.busy": "2023-05-07T23:07:31.985548Z",
     "iopub.status.idle": "2023-05-07T23:07:31.985775Z",
     "shell.execute_reply": "2023-05-07T23:07:31.985680Z",
     "shell.execute_reply.started": "2023-05-07T23:07:31.985669Z"
    },
    "tags": []
   },
   "outputs": [],
   "source": [
    "base_line_loss"
   ]
  },
  {
   "cell_type": "markdown",
   "id": "e63b4afa-05c2-46a4-901a-6d181db5d860",
   "metadata": {
    "jp-MarkdownHeadingCollapsed": true,
    "tags": []
   },
   "source": [
    "## Load Influence Results"
   ]
  },
  {
   "cell_type": "code",
   "execution_count": null,
   "id": "6471057a-cb83-4e8f-a6e8-636f0450e624",
   "metadata": {
    "execution": {
     "iopub.status.busy": "2023-05-07T23:07:31.987398Z",
     "iopub.status.idle": "2023-05-07T23:07:31.987645Z",
     "shell.execute_reply": "2023-05-07T23:07:31.987546Z",
     "shell.execute_reply.started": "2023-05-07T23:07:31.987535Z"
    },
    "tags": []
   },
   "outputs": [],
   "source": [
    "df_list = []\n",
    "for test_guid in range(872):\n",
    "    df = pd.read_csv(f\"influence_results/influence-testguid-{test_guid}\")\n",
    "    df_list.append(df)\n",
    "\n",
    "df = pd.concat(df_list)\n",
    "avg_infl = df.groupby(\"train_guid\").mean().reset_index()"
   ]
  },
  {
   "cell_type": "code",
   "execution_count": null,
   "id": "8ea08adc-5499-48b8-9c10-205a529de092",
   "metadata": {
    "execution": {
     "iopub.status.busy": "2023-05-07T23:07:31.988517Z",
     "iopub.status.idle": "2023-05-07T23:07:31.988778Z",
     "shell.execute_reply": "2023-05-07T23:07:31.988676Z",
     "shell.execute_reply.started": "2023-05-07T23:07:31.988665Z"
    },
    "tags": []
   },
   "outputs": [],
   "source": [
    "avg_infl.sort_values(\"influence\", ascending=False).train_guid.iloc[:10].to_list()"
   ]
  },
  {
   "cell_type": "code",
   "execution_count": null,
   "id": "9fcf8bb2-f47c-4314-aff2-54b59a8b9f6d",
   "metadata": {
    "execution": {
     "iopub.status.busy": "2023-05-07T23:07:31.989789Z",
     "iopub.status.idle": "2023-05-07T23:07:31.990120Z",
     "shell.execute_reply": "2023-05-07T23:07:31.990003Z",
     "shell.execute_reply.started": "2023-05-07T23:07:31.989983Z"
    },
    "tags": []
   },
   "outputs": [],
   "source": [
    "avg_infl.influence.hist()"
   ]
  },
  {
   "cell_type": "code",
   "execution_count": null,
   "id": "bb4865e9-cea5-4e56-af09-e342bd6ad540",
   "metadata": {
    "execution": {
     "iopub.status.busy": "2023-05-07T23:07:31.992134Z",
     "iopub.status.idle": "2023-05-07T23:07:31.992472Z",
     "shell.execute_reply": "2023-05-07T23:07:31.992347Z",
     "shell.execute_reply.started": "2023-05-07T23:07:31.992334Z"
    },
    "tags": []
   },
   "outputs": [],
   "source": [
    "def retrain_model(model, config, train_dataset, remove_idxs):\n",
    "    loo_dataset = create_loo_dataset(train_dataset, remove_idxs)\n",
    "    loo_dataloader = DataLoader(\n",
    "        loo_dataset, batch_size=config[\"batch_size\"], shuffle=True\n",
    "    )\n",
    "\n",
    "    loo_model = copy.deepcopy(model)\n",
    "\n",
    "    optimizer = Adam(\n",
    "        loo_model.classifier.parameters(),\n",
    "        lr=config[\"learning_rate\"],\n",
    "        weight_decay=config[\"optimizer_weight_decay\"],\n",
    "    )\n",
    "\n",
    "    run = wandb.init(project=\"Bert-scratch\", config=config)\n",
    "    train_utils.train(\n",
    "        config=config,\n",
    "        model=loo_model,\n",
    "        optimizer=optimizer,\n",
    "        train_dataloader=loo_dataloader,\n",
    "    )\n",
    "\n",
    "    ldf, loo_loss, loo_acc = train_utils.evaluate_loss(loo_model, test_dataloader)\n",
    "    wandb.summary[\"test/loss\"] = loo_loss\n",
    "    wandb.summary[\"test/accuracy\"] = loo_acc\n",
    "    wandb.finish()\n",
    "\n",
    "    return loo_model, ldf, loo_loss, loo_acc"
   ]
  },
  {
   "cell_type": "markdown",
   "id": "c9024f66-e68d-4309-bcd1-c3a7dce56e6c",
   "metadata": {
    "tags": []
   },
   "source": [
    "## Remove Random 10%"
   ]
  },
  {
   "cell_type": "code",
   "execution_count": null,
   "id": "2fe4f34f-fd42-441b-806c-104b10d6d2de",
   "metadata": {
    "execution": {
     "iopub.status.busy": "2023-05-07T23:07:31.993948Z",
     "iopub.status.idle": "2023-05-07T23:07:31.994292Z",
     "shell.execute_reply": "2023-05-07T23:07:31.994155Z",
     "shell.execute_reply.started": "2023-05-07T23:07:31.994143Z"
    },
    "tags": []
   },
   "outputs": [],
   "source": [
    "remove_pct = 0.1\n",
    "\n",
    "rand_hist = []\n",
    "for remove_pct in [0.05, 0.1, 0.2, 0.3, 0.4]:\n",
    "    remove_length = int(remove_pct * len(train_dataset))\n",
    "\n",
    "    rand_idxs = np.random.choice(\n",
    "        range(len(train_dataset)), remove_length, replace=False\n",
    "    )\n",
    "    loo_dataset = create_loo_dataset(train_dataset, rand_idxs)\n",
    "\n",
    "    rand_model, rdf, rand_loss, rand_acc = retrain_model(\n",
    "        model, config, train_dataset, rand_idxs\n",
    "    )\n",
    "    rdf[\"remove_pct\"] = remove_pct\n",
    "    rand_hist.append(rdf)"
   ]
  },
  {
   "cell_type": "code",
   "execution_count": null,
   "id": "3e9f4e42-22cf-4ceb-93a8-3e1e53071109",
   "metadata": {
    "execution": {
     "iopub.status.busy": "2023-05-07T23:07:31.995322Z",
     "iopub.status.idle": "2023-05-07T23:07:31.995608Z",
     "shell.execute_reply": "2023-05-07T23:07:31.995496Z",
     "shell.execute_reply.started": "2023-05-07T23:07:31.995484Z"
    },
    "tags": []
   },
   "outputs": [],
   "source": [
    "rdf = pd.concat(rand_hist)\n",
    "rdf.head()"
   ]
  },
  {
   "cell_type": "code",
   "execution_count": null,
   "id": "e790632c-4e28-4080-b4b1-d4f692514b59",
   "metadata": {
    "execution": {
     "iopub.status.busy": "2023-05-07T23:07:31.997172Z",
     "iopub.status.idle": "2023-05-07T23:07:31.997432Z",
     "shell.execute_reply": "2023-05-07T23:07:31.997330Z",
     "shell.execute_reply.started": "2023-05-07T23:07:31.997319Z"
    },
    "tags": []
   },
   "outputs": [],
   "source": [
    "rdf.groupby(\"remove_pct\").mean()"
   ]
  },
  {
   "cell_type": "code",
   "execution_count": null,
   "id": "9c8eb9dc-2007-418a-9d8e-e7427042b51e",
   "metadata": {
    "execution": {
     "iopub.status.busy": "2023-05-07T23:07:31.998880Z",
     "iopub.status.idle": "2023-05-07T23:07:31.999185Z",
     "shell.execute_reply": "2023-05-07T23:07:31.999076Z",
     "shell.execute_reply.started": "2023-05-07T23:07:31.999063Z"
    },
    "tags": []
   },
   "outputs": [],
   "source": [
    "rand_loss, rand_acc"
   ]
  },
  {
   "cell_type": "code",
   "execution_count": null,
   "id": "a4a7136d-b409-4126-a073-7bf681d7a36f",
   "metadata": {
    "execution": {
     "iopub.status.busy": "2023-05-07T23:07:32.000132Z",
     "iopub.status.idle": "2023-05-07T23:07:32.000381Z",
     "shell.execute_reply": "2023-05-07T23:07:32.000280Z",
     "shell.execute_reply.started": "2023-05-07T23:07:32.000269Z"
    },
    "tags": []
   },
   "outputs": [],
   "source": [
    "acc - rand_acc"
   ]
  },
  {
   "cell_type": "markdown",
   "id": "0493a03f-6dd2-418f-8139-b74e2518610c",
   "metadata": {
    "jp-MarkdownHeadingCollapsed": true,
    "tags": []
   },
   "source": [
    "## Remove Top 10% Influences"
   ]
  },
  {
   "cell_type": "code",
   "execution_count": null,
   "id": "fa006764-2a85-4d73-bd08-668523c99d39",
   "metadata": {
    "execution": {
     "iopub.status.busy": "2023-05-07T23:07:32.002204Z",
     "iopub.status.idle": "2023-05-07T23:07:32.002467Z",
     "shell.execute_reply": "2023-05-07T23:07:32.002366Z",
     "shell.execute_reply.started": "2023-05-07T23:07:32.002354Z"
    },
    "tags": []
   },
   "outputs": [],
   "source": [
    "remove_pct = 0.1\n",
    "\n",
    "top_hist = []\n",
    "for remove_pct in [0.05, 0.1, 0.2]:\n",
    "    remove_length = int(remove_pct * len(train_dataset))\n",
    "\n",
    "    top_indxs = (\n",
    "        avg_infl.sort_values(\"influence\", ascending=False)\n",
    "        .train_guid.iloc[:remove_length]\n",
    "        .to_list()\n",
    "    )\n",
    "\n",
    "    top_model, tdf, t_loss, t_acc = retrain_model(\n",
    "        model, config, train_dataset, top_indxs\n",
    "    )\n",
    "    tdf[\"remove_pct\"] = remove_pct\n",
    "    top_hist.append(tdf)\n",
    "\n",
    "tdf = pd.concat(top_hist)"
   ]
  },
  {
   "cell_type": "code",
   "execution_count": null,
   "id": "c7453c23-afc8-48fc-942a-d5b5300c37a5",
   "metadata": {
    "execution": {
     "iopub.status.busy": "2023-05-07T23:07:32.003328Z",
     "iopub.status.idle": "2023-05-07T23:07:32.003587Z",
     "shell.execute_reply": "2023-05-07T23:07:32.003487Z",
     "shell.execute_reply.started": "2023-05-07T23:07:32.003476Z"
    },
    "tags": []
   },
   "outputs": [],
   "source": [
    "tdf.groupby(\"remove_pct\").mean()"
   ]
  },
  {
   "cell_type": "markdown",
   "id": "6eb7aebf-3466-46d0-a0a6-36954315b399",
   "metadata": {
    "jp-MarkdownHeadingCollapsed": true,
    "tags": []
   },
   "source": [
    "## Remove Bot 10%"
   ]
  },
  {
   "cell_type": "code",
   "execution_count": null,
   "id": "79ff3e98-ca8e-42f7-97c6-d044a2f0ef7e",
   "metadata": {
    "execution": {
     "iopub.status.busy": "2023-05-07T23:07:32.004742Z",
     "iopub.status.idle": "2023-05-07T23:07:32.005058Z",
     "shell.execute_reply": "2023-05-07T23:07:32.004940Z",
     "shell.execute_reply.started": "2023-05-07T23:07:32.004927Z"
    },
    "tags": []
   },
   "outputs": [],
   "source": [
    "remove_pct = 0.1\n",
    "\n",
    "bot_hist = []\n",
    "for remove_pct in [0.05, 0.1, 0.2]:\n",
    "    remove_length = int(remove_pct * len(train_dataset))\n",
    "\n",
    "    bot_indxs = (\n",
    "        avg_infl.sort_values(\"influence\", ascending=True)\n",
    "        .train_guid.iloc[:remove_length]\n",
    "        .to_list()\n",
    "    )\n",
    "\n",
    "    bot_model, bdf, b_loss, b_acc = retrain_model(\n",
    "        model, config, train_dataset, bot_indxs\n",
    "    )\n",
    "    bdf[\"remove_pct\"] = remove_pct\n",
    "    bot_hist.append(bdf)\n",
    "\n",
    "bdf = pd.concat(bot_hist)"
   ]
  },
  {
   "cell_type": "code",
   "execution_count": null,
   "id": "477b44b3-4a76-4b75-bc51-087257b2c3ce",
   "metadata": {
    "execution": {
     "iopub.status.busy": "2023-05-07T23:07:32.007417Z",
     "iopub.status.idle": "2023-05-07T23:07:32.007718Z",
     "shell.execute_reply": "2023-05-07T23:07:32.007606Z",
     "shell.execute_reply.started": "2023-05-07T23:07:32.007594Z"
    },
    "tags": []
   },
   "outputs": [],
   "source": [
    "bdf.groupby(\"remove_pct\").mean()"
   ]
  },
  {
   "cell_type": "code",
   "execution_count": null,
   "id": "21a39b73-ab2b-41bb-8c92-13fd378b5062",
   "metadata": {
    "execution": {
     "iopub.status.busy": "2023-05-07T23:07:32.008793Z",
     "iopub.status.idle": "2023-05-07T23:07:32.009102Z",
     "shell.execute_reply": "2023-05-07T23:07:32.008966Z",
     "shell.execute_reply.started": "2023-05-07T23:07:32.008954Z"
    },
    "tags": []
   },
   "outputs": [],
   "source": [
    "b_loss, b_acc"
   ]
  },
  {
   "cell_type": "code",
   "execution_count": null,
   "id": "7e3d8e81-e705-4191-a968-6a190208a675",
   "metadata": {
    "execution": {
     "iopub.status.busy": "2023-05-07T23:07:32.010668Z",
     "iopub.status.idle": "2023-05-07T23:07:32.011327Z",
     "shell.execute_reply": "2023-05-07T23:07:32.011207Z",
     "shell.execute_reply.started": "2023-05-07T23:07:32.011193Z"
    },
    "tags": []
   },
   "outputs": [],
   "source": [
    "acc - b_acc"
   ]
  },
  {
   "cell_type": "code",
   "execution_count": null,
   "id": "b2ecfcb9-fe20-443e-ab9f-2cb107575a9e",
   "metadata": {
    "execution": {
     "iopub.status.busy": "2023-05-07T23:07:32.012317Z",
     "iopub.status.idle": "2023-05-07T23:07:32.012603Z",
     "shell.execute_reply": "2023-05-07T23:07:32.012493Z",
     "shell.execute_reply.started": "2023-05-07T23:07:32.012481Z"
    },
    "tags": []
   },
   "outputs": [],
   "source": [
    "rand"
   ]
  },
  {
   "cell_type": "markdown",
   "id": "5eefaafc-4830-4852-aa33-a6e06c25c0f1",
   "metadata": {
    "tags": []
   },
   "source": [
    "## Remove Bottom 10% Influences"
   ]
  },
  {
   "cell_type": "code",
   "execution_count": null,
   "id": "3aa1a6ad-72af-4424-be7f-ec73084189ef",
   "metadata": {
    "execution": {
     "iopub.status.busy": "2023-05-07T23:07:32.013843Z",
     "iopub.status.idle": "2023-05-07T23:07:32.014297Z",
     "shell.execute_reply": "2023-05-07T23:07:32.014141Z",
     "shell.execute_reply.started": "2023-05-07T23:07:32.014119Z"
    }
   },
   "outputs": [],
   "source": [
    "remove_pct = 0.1\n",
    "remove_length = int(remove_pct * len(train_dataset))\n",
    "\n",
    "top_indxs = np.argsort(infl)[:remove_length]\n",
    "loo_dataset = create_loo_dataset(train_dataset, top_indxs)\n",
    "\n",
    "b_model, bdf, bot_test_loss, bot_test_acc = train_model(\n",
    "    loo_dataset, test_dataset, config\n",
    ")"
   ]
  },
  {
   "cell_type": "code",
   "execution_count": null,
   "id": "a38479db-102a-4140-af57-24847bef82d0",
   "metadata": {
    "execution": {
     "iopub.status.busy": "2023-05-07T23:07:32.015350Z",
     "iopub.status.idle": "2023-05-07T23:07:32.015621Z",
     "shell.execute_reply": "2023-05-07T23:07:32.015515Z",
     "shell.execute_reply.started": "2023-05-07T23:07:32.015503Z"
    },
    "tags": []
   },
   "outputs": [],
   "source": [
    "fdf[fdf.test_guid == TEST_GUID]"
   ]
  },
  {
   "cell_type": "code",
   "execution_count": null,
   "id": "6ddef4be-c49e-4f4a-804e-1c27e6f936c3",
   "metadata": {
    "execution": {
     "iopub.status.busy": "2023-05-07T23:07:32.016983Z",
     "iopub.status.idle": "2023-05-07T23:07:32.017269Z",
     "shell.execute_reply": "2023-05-07T23:07:32.017158Z",
     "shell.execute_reply.started": "2023-05-07T23:07:32.017145Z"
    },
    "tags": []
   },
   "outputs": [],
   "source": [
    "rdf[rdf.test_guid == TEST_GUID]"
   ]
  },
  {
   "cell_type": "code",
   "execution_count": null,
   "id": "aacbbcec-9a8e-4c90-8456-1bc0651971d3",
   "metadata": {
    "execution": {
     "iopub.status.busy": "2023-05-07T23:07:32.018169Z",
     "iopub.status.idle": "2023-05-07T23:07:32.018402Z",
     "shell.execute_reply": "2023-05-07T23:07:32.018307Z",
     "shell.execute_reply.started": "2023-05-07T23:07:32.018296Z"
    },
    "tags": []
   },
   "outputs": [],
   "source": [
    "tdf[tdf.test_guid == TEST_GUID]"
   ]
  },
  {
   "cell_type": "code",
   "execution_count": null,
   "id": "752247ef-4fef-4230-8577-fbdfbc48cf07",
   "metadata": {
    "execution": {
     "iopub.status.busy": "2023-05-07T23:07:32.019224Z",
     "iopub.status.idle": "2023-05-07T23:07:32.019440Z",
     "shell.execute_reply": "2023-05-07T23:07:32.019352Z",
     "shell.execute_reply.started": "2023-05-07T23:07:32.019342Z"
    }
   },
   "outputs": [],
   "source": [
    "bdf[bdf.test_guid == TEST_GUID]"
   ]
  },
  {
   "cell_type": "code",
   "execution_count": null,
   "id": "f55e75ef-98fe-4f5c-9093-0b742c365a06",
   "metadata": {
    "execution": {
     "iopub.status.busy": "2023-05-07T23:07:32.020331Z",
     "iopub.status.idle": "2023-05-07T23:07:32.020571Z",
     "shell.execute_reply": "2023-05-07T23:07:32.020473Z",
     "shell.execute_reply.started": "2023-05-07T23:07:32.020462Z"
    },
    "tags": []
   },
   "outputs": [],
   "source": [
    "import src.datasets as datasets\n",
    "\n",
    "datasets.get_test_example(TEST_GUID).sentence.squeeze()"
   ]
  },
  {
   "cell_type": "code",
   "execution_count": null,
   "id": "8601b3b4-4df9-4f18-a549-e1e3ab9cf1f5",
   "metadata": {
    "execution": {
     "iopub.status.busy": "2023-05-07T23:07:32.021797Z",
     "iopub.status.idle": "2023-05-07T23:07:32.022114Z",
     "shell.execute_reply": "2023-05-07T23:07:32.021978Z",
     "shell.execute_reply.started": "2023-05-07T23:07:32.021966Z"
    },
    "tags": []
   },
   "outputs": [],
   "source": [
    "fdf.sort_values(\"loss\", ascending=False)"
   ]
  }
 ],
 "metadata": {
  "kernelspec": {
   "display_name": "Python 3 (ipykernel)",
   "language": "python",
   "name": "python3"
  },
  "language_info": {
   "codemirror_mode": {
    "name": "ipython",
    "version": 3
   },
   "file_extension": ".py",
   "mimetype": "text/x-python",
   "name": "python",
   "nbconvert_exporter": "python",
   "pygments_lexer": "ipython3",
   "version": "3.10.10"
  }
 },
 "nbformat": 4,
 "nbformat_minor": 5
}
