{
 "cells": [
  {
   "cell_type": "code",
   "execution_count": 1,
   "id": "9be097dd-0cc3-45f3-b665-a8ef93ad83db",
   "metadata": {
    "execution": {
     "iopub.execute_input": "2023-05-06T05:20:46.679617Z",
     "iopub.status.busy": "2023-05-06T05:20:46.679391Z",
     "iopub.status.idle": "2023-05-06T05:20:46.700704Z",
     "shell.execute_reply": "2023-05-06T05:20:46.699965Z",
     "shell.execute_reply.started": "2023-05-06T05:20:46.679598Z"
    },
    "tags": []
   },
   "outputs": [],
   "source": [
    "%load_ext autoreload\n",
    "%autoreload 2\n",
    "import os\n",
    "\n",
    "os.environ[\"WANDB_SILENT\"] = \"true\""
   ]
  },
  {
   "cell_type": "code",
   "execution_count": 2,
   "id": "1d962785-65b7-4e44-8c74-a114a8faa825",
   "metadata": {
    "execution": {
     "iopub.execute_input": "2023-05-06T05:20:46.703394Z",
     "iopub.status.busy": "2023-05-06T05:20:46.703036Z",
     "iopub.status.idle": "2023-05-06T05:20:51.132539Z",
     "shell.execute_reply": "2023-05-06T05:20:51.131713Z",
     "shell.execute_reply.started": "2023-05-06T05:20:46.703368Z"
    },
    "tags": []
   },
   "outputs": [
    {
     "name": "stderr",
     "output_type": "stream",
     "text": [
      "Some weights of the model checkpoint at distilbert-base-uncased were not used when initializing DistilBertModel: ['vocab_projector.bias', 'vocab_layer_norm.weight', 'vocab_transform.bias', 'vocab_transform.weight', 'vocab_layer_norm.bias', 'vocab_projector.weight']\n",
      "- This IS expected if you are initializing DistilBertModel from the checkpoint of a model trained on another task or with another architecture (e.g. initializing a BertForSequenceClassification model from a BertForPreTraining model).\n",
      "- This IS NOT expected if you are initializing DistilBertModel from the checkpoint of a model that you expect to be exactly identical (initializing a BertForSequenceClassification model from a BertForSequenceClassification model).\n",
      "100%|████████████████████████████████████████████████████████████████████████████████████████████████████████████████| 1000/1000 [00:00<00:00, 12040.14it/s]\n",
      "Some weights of the model checkpoint at distilbert-base-uncased were not used when initializing DistilBertModel: ['vocab_projector.bias', 'vocab_layer_norm.weight', 'vocab_transform.bias', 'vocab_transform.weight', 'vocab_layer_norm.bias', 'vocab_projector.weight']\n",
      "- This IS expected if you are initializing DistilBertModel from the checkpoint of a model trained on another task or with another architecture (e.g. initializing a BertForSequenceClassification model from a BertForPreTraining model).\n",
      "- This IS NOT expected if you are initializing DistilBertModel from the checkpoint of a model that you expect to be exactly identical (initializing a BertForSequenceClassification model from a BertForSequenceClassification model).\n",
      "100%|███████████████████████████████████████████████████████████████████████████████████████████████████████████████████| 872/872 [00:00<00:00, 9018.21it/s]\n"
     ]
    }
   ],
   "source": [
    "import argparse\n",
    "import os\n",
    "import statistics\n",
    "from pathlib import Path\n",
    "\n",
    "import numpy as np\n",
    "import pandas as pd\n",
    "import torch\n",
    "import yaml\n",
    "from torch.optim import Adam\n",
    "from torch.utils.data import DataLoader, Dataset, TensorDataset\n",
    "from tqdm import tqdm\n",
    "\n",
    "import wandb\n",
    "from src import BertClassifier\n",
    "from src import datasets as data_utils\n",
    "from src import influence as inf_utils\n",
    "from src import train_utils, utils\n",
    "from src.datasets import create_loo_dataset, create_test_sst2, create_train_sst2\n",
    "\n",
    "device = utils.get_device()\n",
    "\n",
    "config = utils.load_config(\n",
    "    \"model_params/bert_classifier.yaml\", epochs=5, num_training_examples=1000\n",
    ")\n",
    "\n",
    "# Create datasets\n",
    "train_dataset = create_train_sst2(\n",
    "    num_samples=config[\"num_training_examples\"],\n",
    "    tokenizer_name=config[\"bert_model_name\"],\n",
    "    max_seq_len=config[\"max_sequence_length\"],\n",
    "    device=device,\n",
    ")\n",
    "\n",
    "test_dataset = create_test_sst2(\n",
    "    tokenizer_name=config[\"bert_model_name\"],\n",
    "    max_seq_len=config[\"max_sequence_length\"],\n",
    "    device=device,\n",
    ")\n",
    "test_dataloader = DataLoader(test_dataset, shuffle=False, batch_size=1)"
   ]
  },
  {
   "cell_type": "markdown",
   "id": "cc5f0a57-22fe-45ec-b0be-dd685a0ae0b0",
   "metadata": {
    "tags": []
   },
   "source": [
    "## Train Model on Full Data"
   ]
  },
  {
   "cell_type": "code",
   "execution_count": 3,
   "id": "650bbd48-baaa-4cdf-b941-a9b3cdc64d33",
   "metadata": {
    "execution": {
     "iopub.execute_input": "2023-05-06T05:20:51.134110Z",
     "iopub.status.busy": "2023-05-06T05:20:51.133580Z",
     "iopub.status.idle": "2023-05-06T05:21:17.768510Z",
     "shell.execute_reply": "2023-05-06T05:21:17.767764Z",
     "shell.execute_reply.started": "2023-05-06T05:20:51.134087Z"
    },
    "tags": []
   },
   "outputs": [
    {
     "name": "stderr",
     "output_type": "stream",
     "text": [
      "Some weights of the model checkpoint at distilbert-base-uncased were not used when initializing DistilBertModel: ['vocab_projector.bias', 'vocab_layer_norm.weight', 'vocab_transform.bias', 'vocab_transform.weight', 'vocab_layer_norm.bias', 'vocab_projector.weight']\n",
      "- This IS expected if you are initializing DistilBertModel from the checkpoint of a model trained on another task or with another architecture (e.g. initializing a BertForSequenceClassification model from a BertForPreTraining model).\n",
      "- This IS NOT expected if you are initializing DistilBertModel from the checkpoint of a model that you expect to be exactly identical (initializing a BertForSequenceClassification model from a BertForSequenceClassification model).\n",
      "100%|████████████████████████████████████████████████████████████████████████████████████████████████████████████████████| 63/63 [00:02<00:00, 26.51batch/s]\n",
      "100%|████████████████████████████████████████████████████████████████████████████████████████████████████████████████████| 63/63 [00:02<00:00, 30.12batch/s]\n",
      "100%|████████████████████████████████████████████████████████████████████████████████████████████████████████████████████| 63/63 [00:02<00:00, 29.95batch/s]\n",
      "100%|████████████████████████████████████████████████████████████████████████████████████████████████████████████████████| 63/63 [00:02<00:00, 30.00batch/s]\n",
      "100%|████████████████████████████████████████████████████████████████████████████████████████████████████████████████████| 63/63 [00:02<00:00, 30.24batch/s]\n"
     ]
    }
   ],
   "source": [
    "full_model, fdf, full_test_loss, full_test_acc = train_utils.train_bert_model(\n",
    "    train_dataset, test_dataset, config\n",
    ")"
   ]
  },
  {
   "cell_type": "code",
   "execution_count": 4,
   "id": "608fbed1-9ade-448b-8d2b-d9235db3451a",
   "metadata": {
    "execution": {
     "iopub.execute_input": "2023-05-06T05:21:17.769314Z",
     "iopub.status.busy": "2023-05-06T05:21:17.769098Z",
     "iopub.status.idle": "2023-05-06T05:21:17.801087Z",
     "shell.execute_reply": "2023-05-06T05:21:17.800319Z",
     "shell.execute_reply.started": "2023-05-06T05:21:17.769301Z"
    },
    "tags": []
   },
   "outputs": [
    {
     "data": {
      "text/html": [
       "<div>\n",
       "<style scoped>\n",
       "    .dataframe tbody tr th:only-of-type {\n",
       "        vertical-align: middle;\n",
       "    }\n",
       "\n",
       "    .dataframe tbody tr th {\n",
       "        vertical-align: top;\n",
       "    }\n",
       "\n",
       "    .dataframe thead th {\n",
       "        text-align: right;\n",
       "    }\n",
       "</style>\n",
       "<table border=\"1\" class=\"dataframe\">\n",
       "  <thead>\n",
       "    <tr style=\"text-align: right;\">\n",
       "      <th></th>\n",
       "      <th>test_guid</th>\n",
       "      <th>logits</th>\n",
       "      <th>pred</th>\n",
       "      <th>label</th>\n",
       "      <th>loss</th>\n",
       "    </tr>\n",
       "  </thead>\n",
       "  <tbody>\n",
       "    <tr>\n",
       "      <th>716</th>\n",
       "      <td>716</td>\n",
       "      <td>[0.69762474, -0.95851254]</td>\n",
       "      <td>0</td>\n",
       "      <td>0</td>\n",
       "      <td>0.174688</td>\n",
       "    </tr>\n",
       "  </tbody>\n",
       "</table>\n",
       "</div>"
      ],
      "text/plain": [
       "     test_guid                     logits  pred  label      loss\n",
       "716        716  [0.69762474, -0.95851254]     0      0  0.174688"
      ]
     },
     "execution_count": 4,
     "metadata": {},
     "output_type": "execute_result"
    }
   ],
   "source": [
    "TEST_GUID = 716\n",
    "\n",
    "fdf[fdf.test_guid == TEST_GUID]"
   ]
  },
  {
   "cell_type": "code",
   "execution_count": 5,
   "id": "a4d435fb-74d4-4193-8000-71749a28b901",
   "metadata": {
    "execution": {
     "iopub.execute_input": "2023-05-06T05:21:17.801914Z",
     "iopub.status.busy": "2023-05-06T05:21:17.801745Z",
     "iopub.status.idle": "2023-05-06T05:21:17.827684Z",
     "shell.execute_reply": "2023-05-06T05:21:17.825926Z",
     "shell.execute_reply.started": "2023-05-06T05:21:17.801899Z"
    },
    "tags": []
   },
   "outputs": [
    {
     "data": {
      "text/plain": [
       "257"
      ]
     },
     "execution_count": 5,
     "metadata": {},
     "output_type": "execute_result"
    }
   ],
   "source": [
    "np.argsort(fdf.loss)[300]"
   ]
  },
  {
   "cell_type": "code",
   "execution_count": 6,
   "id": "15da62fe-c731-46de-8780-022ac964fa0d",
   "metadata": {
    "execution": {
     "iopub.execute_input": "2023-05-06T05:21:17.829421Z",
     "iopub.status.busy": "2023-05-06T05:21:17.828795Z",
     "iopub.status.idle": "2023-05-06T05:21:17.866107Z",
     "shell.execute_reply": "2023-05-06T05:21:17.865071Z",
     "shell.execute_reply.started": "2023-05-06T05:21:17.829396Z"
    },
    "tags": []
   },
   "outputs": [
    {
     "data": {
      "text/html": [
       "<div>\n",
       "<style scoped>\n",
       "    .dataframe tbody tr th:only-of-type {\n",
       "        vertical-align: middle;\n",
       "    }\n",
       "\n",
       "    .dataframe tbody tr th {\n",
       "        vertical-align: top;\n",
       "    }\n",
       "\n",
       "    .dataframe thead th {\n",
       "        text-align: right;\n",
       "    }\n",
       "</style>\n",
       "<table border=\"1\" class=\"dataframe\">\n",
       "  <thead>\n",
       "    <tr style=\"text-align: right;\">\n",
       "      <th></th>\n",
       "      <th>test_guid</th>\n",
       "      <th>logits</th>\n",
       "      <th>pred</th>\n",
       "      <th>label</th>\n",
       "      <th>loss</th>\n",
       "    </tr>\n",
       "  </thead>\n",
       "  <tbody>\n",
       "    <tr>\n",
       "      <th>716</th>\n",
       "      <td>716</td>\n",
       "      <td>[0.69762474, -0.95851254]</td>\n",
       "      <td>0</td>\n",
       "      <td>0</td>\n",
       "      <td>0.174688</td>\n",
       "    </tr>\n",
       "  </tbody>\n",
       "</table>\n",
       "</div>"
      ],
      "text/plain": [
       "     test_guid                     logits  pred  label      loss\n",
       "716        716  [0.69762474, -0.95851254]     0      0  0.174688"
      ]
     },
     "execution_count": 6,
     "metadata": {},
     "output_type": "execute_result"
    }
   ],
   "source": [
    "fdf[fdf.test_guid == 716]"
   ]
  },
  {
   "cell_type": "markdown",
   "id": "19cca28c-b19d-4cde-893d-887da842bc28",
   "metadata": {
    "tags": []
   },
   "source": [
    "## Compute Loss Influence"
   ]
  },
  {
   "cell_type": "code",
   "execution_count": 7,
   "id": "ca428991-0d45-4a12-ba67-0c23e47397cf",
   "metadata": {
    "execution": {
     "iopub.execute_input": "2023-05-06T05:21:17.869077Z",
     "iopub.status.busy": "2023-05-06T05:21:17.868612Z",
     "iopub.status.idle": "2023-05-06T05:22:24.918194Z",
     "shell.execute_reply": "2023-05-06T05:22:24.917525Z",
     "shell.execute_reply.started": "2023-05-06T05:21:17.869037Z"
    },
    "tags": []
   },
   "outputs": [
    {
     "name": "stdout",
     "output_type": "stream",
     "text": [
      "LiSSA reps: 2 and num_iterations: 1000\n",
      "Recursion at depth 0: norm is 4.655922\n",
      "Recursion at depth 200: norm is 127.890549\n",
      "Recursion at depth 400: norm is 165.555710\n",
      "Recursion at depth 600: norm is 177.680008\n",
      "Recursion at depth 800: norm is 182.073212\n",
      "Recursion at depth 999: norm is 183.608948\n",
      "Recursion at depth 0: norm is 4.609522\n",
      "Recursion at depth 200: norm is 128.841476\n",
      "Recursion at depth 400: norm is 166.395264\n",
      "Recursion at depth 600: norm is 178.216537\n",
      "Recursion at depth 800: norm is 181.195511\n",
      "Recursion at depth 999: norm is 182.774078\n"
     ]
    },
    {
     "name": "stderr",
     "output_type": "stream",
     "text": [
      "100%|██████████████████████████████████████████████████████████████████████████████████████████████████████████████████| 1000/1000 [00:07<00:00, 138.61it/s]\n"
     ]
    }
   ],
   "source": [
    "param_infl = list(full_model.classifier.parameters())\n",
    "infl = inf_utils.compute_influence(\n",
    "    full_model=full_model,\n",
    "    test_guid=TEST_GUID,\n",
    "    param_influence=param_infl,\n",
    "    train_dataset=train_dataset,\n",
    "    test_dataset=test_dataset,\n",
    "    lissa_r=2,\n",
    "    lissa_depth=1,\n",
    "    damping=5e-3,\n",
    "    scale=100,\n",
    "    # training_indices=list(range(15)),\n",
    ")"
   ]
  },
  {
   "cell_type": "markdown",
   "id": "bdf78bd2-99f7-46e6-80ed-f3843da52249",
   "metadata": {},
   "source": [
    "## Compute LOO Chart"
   ]
  },
  {
   "cell_type": "code",
   "execution_count": 8,
   "id": "e9bc2f59-6acc-485c-b8ce-af8570a5fb37",
   "metadata": {
    "execution": {
     "iopub.execute_input": "2023-05-06T05:22:24.918942Z",
     "iopub.status.busy": "2023-05-06T05:22:24.918773Z",
     "iopub.status.idle": "2023-05-06T05:22:24.940461Z",
     "shell.execute_reply": "2023-05-06T05:22:24.939700Z",
     "shell.execute_reply.started": "2023-05-06T05:22:24.918928Z"
    },
    "tags": []
   },
   "outputs": [],
   "source": [
    "def centered_percentile_idxs(infl, remove_length):\n",
    "    half = int(len(infl) / 2)\n",
    "    start_index = max(0, half - int(remove_length / 2))\n",
    "    end_index = start_index + remove_length\n",
    "    return np.argsort(infl)[start_index:end_index]"
   ]
  },
  {
   "cell_type": "code",
   "execution_count": 12,
   "id": "a91002f3-2292-46b5-ae17-b87be3eb2423",
   "metadata": {
    "execution": {
     "iopub.execute_input": "2023-05-06T05:25:05.384312Z",
     "iopub.status.busy": "2023-05-06T05:25:05.383809Z",
     "iopub.status.idle": "2023-05-06T05:25:05.410813Z",
     "shell.execute_reply": "2023-05-06T05:25:05.409890Z",
     "shell.execute_reply.started": "2023-05-06T05:25:05.384294Z"
    },
    "tags": []
   },
   "outputs": [],
   "source": [
    "def compute_loo_sweep(test_guid: int) -> pd.DataFrame:\n",
    "    loo_dfs = []\n",
    "    # np.arange(0.05, 0.8, 0.05)\n",
    "    for remove_pct in [0.1]:\n",
    "        remove_length = int(remove_pct * len(train_dataset))\n",
    "\n",
    "        # Remove random indices\n",
    "        remove_idxs = np.random.randint(\n",
    "            low=0, high=len(train_dataset), size=remove_length\n",
    "        )\n",
    "        loo_dataset = create_loo_dataset(train_dataset, remove_idxs)\n",
    "        _, rdf, rad_test_loss, rand_test_acc = train_utils.train_bert_model(\n",
    "            loo_dataset,\n",
    "            test_dataset,\n",
    "            config,\n",
    "        )\n",
    "        rdf[\"type\"] = \"rand\"\n",
    "\n",
    "        # Remove top influence score\n",
    "        remove_idxs = np.argsort(-infl)[:remove_length]\n",
    "        loo_dataset = create_loo_dataset(train_dataset, remove_idxs)\n",
    "        _, tdf, rad_test_loss, rand_test_acc = train_utils.train_bert_model(\n",
    "            loo_dataset, test_dataset, config\n",
    "        )\n",
    "        tdf[\"type\"] = \"top\"\n",
    "\n",
    "        # Remove bottom influence score\n",
    "        remove_idxs = np.argsort(infl)[:remove_length]\n",
    "        loo_dataset = create_loo_dataset(train_dataset, remove_idxs)\n",
    "        _, bdf, rad_test_loss, rand_test_acc = train_utils.train_bert_model(\n",
    "            loo_dataset, test_dataset, config\n",
    "        )\n",
    "        bdf[\"type\"] = \"bot\"\n",
    "\n",
    "        # Remove near 0 influence score\n",
    "        remove_idxs = centered_percentile_idxs(infl, remove_length)\n",
    "        loo_dataset = create_loo_dataset(train_dataset, remove_idxs)\n",
    "        _, zdf, rad_test_loss, rand_test_acc = train_utils.train_bert_model(\n",
    "            loo_dataset, test_dataset, config\n",
    "        )\n",
    "        zdf[\"type\"] = \"zero\"\n",
    "\n",
    "        df = pd.concat([rdf, tdf, bdf, zdf], axis=0)\n",
    "        df[\"remove_pct\"] = remove_pct\n",
    "\n",
    "        loo_dfs.append(df)\n",
    "    return pd.concat(loo_dfs)"
   ]
  },
  {
   "cell_type": "code",
   "execution_count": 13,
   "id": "beaf4249-4144-40ba-ad32-0c644d455061",
   "metadata": {
    "execution": {
     "iopub.execute_input": "2023-05-06T05:25:07.024984Z",
     "iopub.status.busy": "2023-05-06T05:25:07.024721Z",
     "iopub.status.idle": "2023-05-06T05:26:41.527178Z",
     "shell.execute_reply": "2023-05-06T05:26:41.526463Z",
     "shell.execute_reply.started": "2023-05-06T05:25:07.024966Z"
    },
    "tags": []
   },
   "outputs": [
    {
     "name": "stderr",
     "output_type": "stream",
     "text": [
      "Some weights of the model checkpoint at distilbert-base-uncased were not used when initializing DistilBertModel: ['vocab_projector.bias', 'vocab_layer_norm.weight', 'vocab_transform.bias', 'vocab_transform.weight', 'vocab_layer_norm.bias', 'vocab_projector.weight']\n",
      "- This IS expected if you are initializing DistilBertModel from the checkpoint of a model trained on another task or with another architecture (e.g. initializing a BertForSequenceClassification model from a BertForPreTraining model).\n",
      "- This IS NOT expected if you are initializing DistilBertModel from the checkpoint of a model that you expect to be exactly identical (initializing a BertForSequenceClassification model from a BertForSequenceClassification model).\n",
      "100%|████████████████████████████████████████████████████████████████████████████████████████████████████████████████████| 57/57 [00:01<00:00, 29.04batch/s]\n",
      "100%|████████████████████████████████████████████████████████████████████████████████████████████████████████████████████| 57/57 [00:01<00:00, 29.13batch/s]\n",
      "100%|████████████████████████████████████████████████████████████████████████████████████████████████████████████████████| 57/57 [00:01<00:00, 29.99batch/s]\n",
      "100%|████████████████████████████████████████████████████████████████████████████████████████████████████████████████████| 57/57 [00:01<00:00, 28.82batch/s]\n",
      "100%|████████████████████████████████████████████████████████████████████████████████████████████████████████████████████| 57/57 [00:01<00:00, 28.80batch/s]\n",
      "Some weights of the model checkpoint at distilbert-base-uncased were not used when initializing DistilBertModel: ['vocab_projector.bias', 'vocab_layer_norm.weight', 'vocab_transform.bias', 'vocab_transform.weight', 'vocab_layer_norm.bias', 'vocab_projector.weight']\n",
      "- This IS expected if you are initializing DistilBertModel from the checkpoint of a model trained on another task or with another architecture (e.g. initializing a BertForSequenceClassification model from a BertForPreTraining model).\n",
      "- This IS NOT expected if you are initializing DistilBertModel from the checkpoint of a model that you expect to be exactly identical (initializing a BertForSequenceClassification model from a BertForSequenceClassification model).\n",
      "100%|████████████████████████████████████████████████████████████████████████████████████████████████████████████████████| 57/57 [00:01<00:00, 28.58batch/s]\n",
      "100%|████████████████████████████████████████████████████████████████████████████████████████████████████████████████████| 57/57 [00:01<00:00, 30.25batch/s]\n",
      "100%|████████████████████████████████████████████████████████████████████████████████████████████████████████████████████| 57/57 [00:01<00:00, 30.28batch/s]\n",
      "100%|████████████████████████████████████████████████████████████████████████████████████████████████████████████████████| 57/57 [00:01<00:00, 30.30batch/s]\n",
      "100%|████████████████████████████████████████████████████████████████████████████████████████████████████████████████████| 57/57 [00:01<00:00, 29.64batch/s]\n",
      "Some weights of the model checkpoint at distilbert-base-uncased were not used when initializing DistilBertModel: ['vocab_projector.bias', 'vocab_layer_norm.weight', 'vocab_transform.bias', 'vocab_transform.weight', 'vocab_layer_norm.bias', 'vocab_projector.weight']\n",
      "- This IS expected if you are initializing DistilBertModel from the checkpoint of a model trained on another task or with another architecture (e.g. initializing a BertForSequenceClassification model from a BertForPreTraining model).\n",
      "- This IS NOT expected if you are initializing DistilBertModel from the checkpoint of a model that you expect to be exactly identical (initializing a BertForSequenceClassification model from a BertForSequenceClassification model).\n",
      "100%|████████████████████████████████████████████████████████████████████████████████████████████████████████████████████| 57/57 [00:02<00:00, 27.99batch/s]\n",
      "100%|████████████████████████████████████████████████████████████████████████████████████████████████████████████████████| 57/57 [00:01<00:00, 29.54batch/s]\n",
      "100%|████████████████████████████████████████████████████████████████████████████████████████████████████████████████████| 57/57 [00:01<00:00, 29.58batch/s]\n",
      "100%|████████████████████████████████████████████████████████████████████████████████████████████████████████████████████| 57/57 [00:01<00:00, 29.76batch/s]\n",
      "100%|████████████████████████████████████████████████████████████████████████████████████████████████████████████████████| 57/57 [00:01<00:00, 29.74batch/s]\n",
      "Some weights of the model checkpoint at distilbert-base-uncased were not used when initializing DistilBertModel: ['vocab_projector.bias', 'vocab_layer_norm.weight', 'vocab_transform.bias', 'vocab_transform.weight', 'vocab_layer_norm.bias', 'vocab_projector.weight']\n",
      "- This IS expected if you are initializing DistilBertModel from the checkpoint of a model trained on another task or with another architecture (e.g. initializing a BertForSequenceClassification model from a BertForPreTraining model).\n",
      "- This IS NOT expected if you are initializing DistilBertModel from the checkpoint of a model that you expect to be exactly identical (initializing a BertForSequenceClassification model from a BertForSequenceClassification model).\n",
      "100%|████████████████████████████████████████████████████████████████████████████████████████████████████████████████████| 57/57 [00:01<00:00, 29.51batch/s]\n",
      "100%|████████████████████████████████████████████████████████████████████████████████████████████████████████████████████| 57/57 [00:01<00:00, 30.34batch/s]\n",
      "100%|████████████████████████████████████████████████████████████████████████████████████████████████████████████████████| 57/57 [00:01<00:00, 30.28batch/s]\n",
      "100%|████████████████████████████████████████████████████████████████████████████████████████████████████████████████████| 57/57 [00:01<00:00, 29.56batch/s]\n",
      "100%|████████████████████████████████████████████████████████████████████████████████████████████████████████████████████| 57/57 [00:01<00:00, 30.08batch/s]\n"
     ]
    }
   ],
   "source": [
    "df = compute_loo_sweep(716)\n",
    "# df.to_csv('loo_dfs_0.csv', index=False)"
   ]
  },
  {
   "cell_type": "code",
   "execution_count": 14,
   "id": "a5038aab-b05a-4fb6-bcaa-b4c704941088",
   "metadata": {
    "execution": {
     "iopub.execute_input": "2023-05-06T05:27:11.122783Z",
     "iopub.status.busy": "2023-05-06T05:27:11.122453Z",
     "iopub.status.idle": "2023-05-06T05:27:11.233587Z",
     "shell.execute_reply": "2023-05-06T05:27:11.232871Z",
     "shell.execute_reply.started": "2023-05-06T05:27:11.122765Z"
    },
    "tags": []
   },
   "outputs": [
    {
     "data": {
      "text/html": [
       "<div>\n",
       "<style scoped>\n",
       "    .dataframe tbody tr th:only-of-type {\n",
       "        vertical-align: middle;\n",
       "    }\n",
       "\n",
       "    .dataframe tbody tr th {\n",
       "        vertical-align: top;\n",
       "    }\n",
       "\n",
       "    .dataframe thead th {\n",
       "        text-align: right;\n",
       "    }\n",
       "</style>\n",
       "<table border=\"1\" class=\"dataframe\">\n",
       "  <thead>\n",
       "    <tr style=\"text-align: right;\">\n",
       "      <th></th>\n",
       "      <th>test_guid</th>\n",
       "      <th>logits</th>\n",
       "      <th>pred</th>\n",
       "      <th>label</th>\n",
       "      <th>loss</th>\n",
       "      <th>type</th>\n",
       "      <th>remove_pct</th>\n",
       "    </tr>\n",
       "  </thead>\n",
       "  <tbody>\n",
       "    <tr>\n",
       "      <th>716</th>\n",
       "      <td>716</td>\n",
       "      <td>[0.9657729, -1.2266618]</td>\n",
       "      <td>0</td>\n",
       "      <td>0</td>\n",
       "      <td>0.105841</td>\n",
       "      <td>rand</td>\n",
       "      <td>0.1</td>\n",
       "    </tr>\n",
       "  </tbody>\n",
       "</table>\n",
       "</div>"
      ],
      "text/plain": [
       "     test_guid                   logits  pred  label      loss  type  \\\n",
       "716        716  [0.9657729, -1.2266618]     0      0  0.105841  rand   \n",
       "\n",
       "     remove_pct  \n",
       "716         0.1  "
      ]
     },
     "execution_count": 14,
     "metadata": {},
     "output_type": "execute_result"
    }
   ],
   "source": [
    "df[(df.type == \"rand\") & (df.test_guid == TEST_GUID)]"
   ]
  },
  {
   "cell_type": "code",
   "execution_count": 15,
   "id": "6f28cb44-ef2e-48db-875f-4dc3efbf0caf",
   "metadata": {
    "execution": {
     "iopub.execute_input": "2023-05-06T05:27:11.234594Z",
     "iopub.status.busy": "2023-05-06T05:27:11.234411Z",
     "iopub.status.idle": "2023-05-06T05:27:11.263596Z",
     "shell.execute_reply": "2023-05-06T05:27:11.262833Z",
     "shell.execute_reply.started": "2023-05-06T05:27:11.234578Z"
    },
    "tags": []
   },
   "outputs": [
    {
     "data": {
      "text/html": [
       "<div>\n",
       "<style scoped>\n",
       "    .dataframe tbody tr th:only-of-type {\n",
       "        vertical-align: middle;\n",
       "    }\n",
       "\n",
       "    .dataframe tbody tr th {\n",
       "        vertical-align: top;\n",
       "    }\n",
       "\n",
       "    .dataframe thead th {\n",
       "        text-align: right;\n",
       "    }\n",
       "</style>\n",
       "<table border=\"1\" class=\"dataframe\">\n",
       "  <thead>\n",
       "    <tr style=\"text-align: right;\">\n",
       "      <th></th>\n",
       "      <th>test_guid</th>\n",
       "      <th>logits</th>\n",
       "      <th>pred</th>\n",
       "      <th>label</th>\n",
       "      <th>loss</th>\n",
       "      <th>type</th>\n",
       "      <th>remove_pct</th>\n",
       "    </tr>\n",
       "  </thead>\n",
       "  <tbody>\n",
       "    <tr>\n",
       "      <th>716</th>\n",
       "      <td>716</td>\n",
       "      <td>[2.7790165, -3.0399067]</td>\n",
       "      <td>0</td>\n",
       "      <td>0</td>\n",
       "      <td>0.002966</td>\n",
       "      <td>top</td>\n",
       "      <td>0.1</td>\n",
       "    </tr>\n",
       "  </tbody>\n",
       "</table>\n",
       "</div>"
      ],
      "text/plain": [
       "     test_guid                   logits  pred  label      loss type  \\\n",
       "716        716  [2.7790165, -3.0399067]     0      0  0.002966  top   \n",
       "\n",
       "     remove_pct  \n",
       "716         0.1  "
      ]
     },
     "execution_count": 15,
     "metadata": {},
     "output_type": "execute_result"
    }
   ],
   "source": [
    "df[(df.type == \"top\") & (df.test_guid == TEST_GUID)]"
   ]
  },
  {
   "cell_type": "code",
   "execution_count": 16,
   "id": "4a1be2de-ca2f-4459-8ce3-bdc90a9dc12b",
   "metadata": {
    "execution": {
     "iopub.execute_input": "2023-05-06T05:27:11.264321Z",
     "iopub.status.busy": "2023-05-06T05:27:11.264143Z",
     "iopub.status.idle": "2023-05-06T05:27:11.294962Z",
     "shell.execute_reply": "2023-05-06T05:27:11.294161Z",
     "shell.execute_reply.started": "2023-05-06T05:27:11.264307Z"
    },
    "tags": []
   },
   "outputs": [
    {
     "data": {
      "text/html": [
       "<div>\n",
       "<style scoped>\n",
       "    .dataframe tbody tr th:only-of-type {\n",
       "        vertical-align: middle;\n",
       "    }\n",
       "\n",
       "    .dataframe tbody tr th {\n",
       "        vertical-align: top;\n",
       "    }\n",
       "\n",
       "    .dataframe thead th {\n",
       "        text-align: right;\n",
       "    }\n",
       "</style>\n",
       "<table border=\"1\" class=\"dataframe\">\n",
       "  <thead>\n",
       "    <tr style=\"text-align: right;\">\n",
       "      <th></th>\n",
       "      <th>test_guid</th>\n",
       "      <th>logits</th>\n",
       "      <th>pred</th>\n",
       "      <th>label</th>\n",
       "      <th>loss</th>\n",
       "      <th>type</th>\n",
       "      <th>remove_pct</th>\n",
       "    </tr>\n",
       "  </thead>\n",
       "  <tbody>\n",
       "    <tr>\n",
       "      <th>716</th>\n",
       "      <td>716</td>\n",
       "      <td>[-0.7447713, 0.48388174]</td>\n",
       "      <td>1</td>\n",
       "      <td>0</td>\n",
       "      <td>1.485376</td>\n",
       "      <td>bot</td>\n",
       "      <td>0.1</td>\n",
       "    </tr>\n",
       "  </tbody>\n",
       "</table>\n",
       "</div>"
      ],
      "text/plain": [
       "     test_guid                    logits  pred  label      loss type  \\\n",
       "716        716  [-0.7447713, 0.48388174]     1      0  1.485376  bot   \n",
       "\n",
       "     remove_pct  \n",
       "716         0.1  "
      ]
     },
     "execution_count": 16,
     "metadata": {},
     "output_type": "execute_result"
    }
   ],
   "source": [
    "df[(df.type == \"bot\") & (df.test_guid == TEST_GUID)]"
   ]
  },
  {
   "cell_type": "code",
   "execution_count": 17,
   "id": "bf9151c7-eb45-4098-b020-74610a7f3343",
   "metadata": {
    "execution": {
     "iopub.execute_input": "2023-05-06T05:27:11.297215Z",
     "iopub.status.busy": "2023-05-06T05:27:11.296537Z",
     "iopub.status.idle": "2023-05-06T05:27:11.326905Z",
     "shell.execute_reply": "2023-05-06T05:27:11.325997Z",
     "shell.execute_reply.started": "2023-05-06T05:27:11.297197Z"
    },
    "tags": []
   },
   "outputs": [
    {
     "data": {
      "text/html": [
       "<div>\n",
       "<style scoped>\n",
       "    .dataframe tbody tr th:only-of-type {\n",
       "        vertical-align: middle;\n",
       "    }\n",
       "\n",
       "    .dataframe tbody tr th {\n",
       "        vertical-align: top;\n",
       "    }\n",
       "\n",
       "    .dataframe thead th {\n",
       "        text-align: right;\n",
       "    }\n",
       "</style>\n",
       "<table border=\"1\" class=\"dataframe\">\n",
       "  <thead>\n",
       "    <tr style=\"text-align: right;\">\n",
       "      <th></th>\n",
       "      <th>test_guid</th>\n",
       "      <th>logits</th>\n",
       "      <th>pred</th>\n",
       "      <th>label</th>\n",
       "      <th>loss</th>\n",
       "      <th>type</th>\n",
       "      <th>remove_pct</th>\n",
       "    </tr>\n",
       "  </thead>\n",
       "  <tbody>\n",
       "    <tr>\n",
       "      <th>716</th>\n",
       "      <td>716</td>\n",
       "      <td>[0.6881714, -0.94906056]</td>\n",
       "      <td>0</td>\n",
       "      <td>0</td>\n",
       "      <td>0.177743</td>\n",
       "      <td>zero</td>\n",
       "      <td>0.1</td>\n",
       "    </tr>\n",
       "  </tbody>\n",
       "</table>\n",
       "</div>"
      ],
      "text/plain": [
       "     test_guid                    logits  pred  label      loss  type  \\\n",
       "716        716  [0.6881714, -0.94906056]     0      0  0.177743  zero   \n",
       "\n",
       "     remove_pct  \n",
       "716         0.1  "
      ]
     },
     "execution_count": 17,
     "metadata": {},
     "output_type": "execute_result"
    }
   ],
   "source": [
    "df[(df.type == \"zero\") & (df.test_guid == TEST_GUID)]"
   ]
  },
  {
   "cell_type": "markdown",
   "id": "819946d9-9fc6-4b0c-88d0-b4d707a60319",
   "metadata": {},
   "source": [
    "### Plot"
   ]
  },
  {
   "cell_type": "code",
   "execution_count": null,
   "id": "0fe1934c-e49d-46d3-b3c5-977552813ad5",
   "metadata": {
    "execution": {
     "iopub.status.busy": "2023-05-06T05:22:25.228829Z",
     "iopub.status.idle": "2023-05-06T05:22:25.229084Z",
     "shell.execute_reply": "2023-05-06T05:22:25.228960Z",
     "shell.execute_reply.started": "2023-05-06T05:22:25.228949Z"
    },
    "tags": []
   },
   "outputs": [],
   "source": [
    "TEST_GUID = 716\n",
    "base_line_loss = fdf[fdf.test_guid == TEST_GUID].loss.squeeze()\n",
    "\n",
    "rand = df[(df.type == \"rand\") & (df.test_guid == TEST_GUID)]\n",
    "rand = rand[[\"remove_pct\", \"loss\"]]\n",
    "\n",
    "zero = df[(df.type == \"zero\") & (df.test_guid == TEST_GUID)]\n",
    "zero = zero[[\"remove_pct\", \"loss\"]]\n",
    "\n",
    "top = df[(df.type == \"top\") & (df.test_guid == TEST_GUID)]\n",
    "top = top[[\"remove_pct\", \"loss\"]]\n",
    "\n",
    "bot = df[(df.type == \"bot\") & (df.test_guid == TEST_GUID)]\n",
    "bot = bot[[\"remove_pct\", \"loss\"]]"
   ]
  },
  {
   "cell_type": "code",
   "execution_count": null,
   "id": "c644d600-7203-48af-b7a2-21d3f464d9e8",
   "metadata": {
    "execution": {
     "iopub.status.busy": "2023-05-06T05:22:25.229810Z",
     "iopub.status.idle": "2023-05-06T05:22:25.230106Z",
     "shell.execute_reply": "2023-05-06T05:22:25.229990Z",
     "shell.execute_reply.started": "2023-05-06T05:22:25.229978Z"
    },
    "tags": []
   },
   "outputs": [],
   "source": [
    "base_line_loss"
   ]
  },
  {
   "cell_type": "code",
   "execution_count": null,
   "id": "aa64652e-cb44-4c8c-9be8-63df3f2477c0",
   "metadata": {
    "execution": {
     "iopub.status.busy": "2023-05-06T05:22:25.230997Z",
     "iopub.status.idle": "2023-05-06T05:22:25.231227Z",
     "shell.execute_reply": "2023-05-06T05:22:25.231132Z",
     "shell.execute_reply.started": "2023-05-06T05:22:25.231122Z"
    },
    "tags": []
   },
   "outputs": [],
   "source": [
    "from matplotlib import pyplot as plt\n",
    "\n",
    "plt.plot(rand.remove_pct, rand.loss, \"g-\")\n",
    "plt.plot(zero.remove_pct, zero.loss, \"g--\")\n",
    "\n",
    "# plt.plot(top.remove_pct, top.loss, 'r-')\n",
    "plt.plot(bot.remove_pct, bot.loss, \"b-\")"
   ]
  },
  {
   "cell_type": "code",
   "execution_count": null,
   "id": "b2ecfcb9-fe20-443e-ab9f-2cb107575a9e",
   "metadata": {
    "execution": {
     "iopub.status.busy": "2023-05-06T05:22:25.231981Z",
     "iopub.status.idle": "2023-05-06T05:22:25.232196Z",
     "shell.execute_reply": "2023-05-06T05:22:25.232104Z",
     "shell.execute_reply.started": "2023-05-06T05:22:25.232094Z"
    },
    "tags": []
   },
   "outputs": [],
   "source": [
    "rand"
   ]
  },
  {
   "cell_type": "markdown",
   "id": "c9024f66-e68d-4309-bcd1-c3a7dce56e6c",
   "metadata": {
    "jp-MarkdownHeadingCollapsed": true,
    "tags": []
   },
   "source": [
    "## Remove Random 10%"
   ]
  },
  {
   "cell_type": "code",
   "execution_count": null,
   "id": "2fe4f34f-fd42-441b-806c-104b10d6d2de",
   "metadata": {
    "execution": {
     "iopub.status.busy": "2023-05-06T05:22:25.232947Z",
     "iopub.status.idle": "2023-05-06T05:22:25.233145Z",
     "shell.execute_reply": "2023-05-06T05:22:25.233058Z",
     "shell.execute_reply.started": "2023-05-06T05:22:25.233048Z"
    },
    "tags": []
   },
   "outputs": [],
   "source": [
    "remove_pct = 0.1\n",
    "\n",
    "\n",
    "remove_length = int(remove_pct * len(train_dataset))\n",
    "\n",
    "\n",
    "remove_idxs = np.random.randint(low=0, high=max_idx, size=num_indices)\n",
    "loo_dataset = create_loo_dataset(train_dataset, remove_idxs)\n",
    "\n",
    "rand_model, rdf, rad_test_loss, rand_test_acc = train_model(\n",
    "    loo_dataset, test_dataset, config\n",
    ")"
   ]
  },
  {
   "cell_type": "code",
   "execution_count": null,
   "id": "9c8eb9dc-2007-418a-9d8e-e7427042b51e",
   "metadata": {
    "execution": {
     "iopub.status.busy": "2023-05-06T05:22:25.233652Z",
     "iopub.status.idle": "2023-05-06T05:22:25.233867Z",
     "shell.execute_reply": "2023-05-06T05:22:25.233773Z",
     "shell.execute_reply.started": "2023-05-06T05:22:25.233763Z"
    },
    "tags": []
   },
   "outputs": [],
   "source": [
    "rdf[rdf.test_guid == TEST_GUID]"
   ]
  },
  {
   "cell_type": "markdown",
   "id": "0493a03f-6dd2-418f-8139-b74e2518610c",
   "metadata": {
    "jp-MarkdownHeadingCollapsed": true,
    "tags": []
   },
   "source": [
    "## Remove Top 10% Influences"
   ]
  },
  {
   "cell_type": "code",
   "execution_count": null,
   "id": "fa006764-2a85-4d73-bd08-668523c99d39",
   "metadata": {
    "execution": {
     "iopub.status.busy": "2023-05-06T05:22:25.235634Z",
     "iopub.status.idle": "2023-05-06T05:22:25.235983Z",
     "shell.execute_reply": "2023-05-06T05:22:25.235830Z",
     "shell.execute_reply.started": "2023-05-06T05:22:25.235815Z"
    },
    "tags": []
   },
   "outputs": [],
   "source": [
    "remove_pct = 0.1\n",
    "remove_length = int(remove_pct * len(train_dataset))\n",
    "\n",
    "top_indxs = np.argsort(-infl)[:remove_length]\n",
    "loo_dataset = create_loo_dataset(train_dataset, top_indxs)\n",
    "\n",
    "t_model, tdf, top_test_loss, top_test_acc = train_model(\n",
    "    loo_dataset, test_dataset, config\n",
    ")"
   ]
  },
  {
   "cell_type": "code",
   "execution_count": null,
   "id": "b66795a5-9761-4015-a1e7-d78f29981338",
   "metadata": {
    "execution": {
     "iopub.status.busy": "2023-05-06T05:22:25.236867Z",
     "iopub.status.idle": "2023-05-06T05:22:25.237079Z",
     "shell.execute_reply": "2023-05-06T05:22:25.236987Z",
     "shell.execute_reply.started": "2023-05-06T05:22:25.236977Z"
    },
    "tags": []
   },
   "outputs": [],
   "source": [
    "tdf[tdf.test_guid == TEST_GUID]"
   ]
  },
  {
   "cell_type": "markdown",
   "id": "5eefaafc-4830-4852-aa33-a6e06c25c0f1",
   "metadata": {
    "tags": []
   },
   "source": [
    "## Remove Bottom 10% Influences"
   ]
  },
  {
   "cell_type": "code",
   "execution_count": null,
   "id": "3aa1a6ad-72af-4424-be7f-ec73084189ef",
   "metadata": {
    "execution": {
     "iopub.status.busy": "2023-05-06T05:22:25.238249Z",
     "iopub.status.idle": "2023-05-06T05:22:25.238472Z",
     "shell.execute_reply": "2023-05-06T05:22:25.238379Z",
     "shell.execute_reply.started": "2023-05-06T05:22:25.238369Z"
    }
   },
   "outputs": [],
   "source": [
    "remove_pct = 0.1\n",
    "remove_length = int(remove_pct * len(train_dataset))\n",
    "\n",
    "top_indxs = np.argsort(infl)[:remove_length]\n",
    "loo_dataset = create_loo_dataset(train_dataset, top_indxs)\n",
    "\n",
    "b_model, bdf, bot_test_loss, bot_test_acc = train_model(\n",
    "    loo_dataset, test_dataset, config\n",
    ")"
   ]
  },
  {
   "cell_type": "code",
   "execution_count": null,
   "id": "a38479db-102a-4140-af57-24847bef82d0",
   "metadata": {
    "execution": {
     "iopub.status.busy": "2023-05-06T05:22:25.239265Z",
     "iopub.status.idle": "2023-05-06T05:22:25.239482Z",
     "shell.execute_reply": "2023-05-06T05:22:25.239389Z",
     "shell.execute_reply.started": "2023-05-06T05:22:25.239379Z"
    },
    "tags": []
   },
   "outputs": [],
   "source": [
    "fdf[fdf.test_guid == TEST_GUID]"
   ]
  },
  {
   "cell_type": "code",
   "execution_count": null,
   "id": "6ddef4be-c49e-4f4a-804e-1c27e6f936c3",
   "metadata": {
    "execution": {
     "iopub.status.busy": "2023-05-06T05:22:25.240432Z",
     "iopub.status.idle": "2023-05-06T05:22:25.240652Z",
     "shell.execute_reply": "2023-05-06T05:22:25.240559Z",
     "shell.execute_reply.started": "2023-05-06T05:22:25.240549Z"
    },
    "tags": []
   },
   "outputs": [],
   "source": [
    "rdf[rdf.test_guid == TEST_GUID]"
   ]
  },
  {
   "cell_type": "code",
   "execution_count": null,
   "id": "aacbbcec-9a8e-4c90-8456-1bc0651971d3",
   "metadata": {
    "execution": {
     "iopub.status.busy": "2023-05-06T05:22:25.241904Z",
     "iopub.status.idle": "2023-05-06T05:22:25.242134Z",
     "shell.execute_reply": "2023-05-06T05:22:25.242039Z",
     "shell.execute_reply.started": "2023-05-06T05:22:25.242029Z"
    },
    "tags": []
   },
   "outputs": [],
   "source": [
    "tdf[tdf.test_guid == TEST_GUID]"
   ]
  },
  {
   "cell_type": "code",
   "execution_count": null,
   "id": "752247ef-4fef-4230-8577-fbdfbc48cf07",
   "metadata": {
    "execution": {
     "iopub.status.busy": "2023-05-06T05:22:25.243874Z",
     "iopub.status.idle": "2023-05-06T05:22:25.244373Z",
     "shell.execute_reply": "2023-05-06T05:22:25.244266Z",
     "shell.execute_reply.started": "2023-05-06T05:22:25.244254Z"
    }
   },
   "outputs": [],
   "source": [
    "bdf[bdf.test_guid == TEST_GUID]"
   ]
  },
  {
   "cell_type": "code",
   "execution_count": null,
   "id": "f55e75ef-98fe-4f5c-9093-0b742c365a06",
   "metadata": {
    "execution": {
     "iopub.status.busy": "2023-05-06T05:22:25.245336Z",
     "iopub.status.idle": "2023-05-06T05:22:25.245598Z",
     "shell.execute_reply": "2023-05-06T05:22:25.245495Z",
     "shell.execute_reply.started": "2023-05-06T05:22:25.245484Z"
    },
    "tags": []
   },
   "outputs": [],
   "source": [
    "import src.datasets as datasets\n",
    "\n",
    "datasets.get_test_example(TEST_GUID).sentence.squeeze()"
   ]
  },
  {
   "cell_type": "code",
   "execution_count": null,
   "id": "8601b3b4-4df9-4f18-a549-e1e3ab9cf1f5",
   "metadata": {
    "execution": {
     "iopub.status.busy": "2023-05-06T05:22:25.247451Z",
     "iopub.status.idle": "2023-05-06T05:22:25.247733Z",
     "shell.execute_reply": "2023-05-06T05:22:25.247627Z",
     "shell.execute_reply.started": "2023-05-06T05:22:25.247615Z"
    },
    "tags": []
   },
   "outputs": [],
   "source": [
    "fdf.sort_values(\"loss\", ascending=False)"
   ]
  }
 ],
 "metadata": {
  "kernelspec": {
   "display_name": "Python 3 (ipykernel)",
   "language": "python",
   "name": "python3"
  },
  "language_info": {
   "codemirror_mode": {
    "name": "ipython",
    "version": 3
   },
   "file_extension": ".py",
   "mimetype": "text/x-python",
   "name": "python",
   "nbconvert_exporter": "python",
   "pygments_lexer": "ipython3",
   "version": "3.10.10"
  }
 },
 "nbformat": 4,
 "nbformat_minor": 5
}
