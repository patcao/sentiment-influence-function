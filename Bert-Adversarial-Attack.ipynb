{
 "cells": [
  {
   "cell_type": "code",
   "execution_count": 17,
   "id": "1b61d504-4467-43ea-ac73-f0c702bef160",
   "metadata": {
    "execution": {
     "iopub.execute_input": "2023-05-06T05:28:36.324204Z",
     "iopub.status.busy": "2023-05-06T05:28:36.323720Z",
     "iopub.status.idle": "2023-05-06T05:28:36.482843Z",
     "shell.execute_reply": "2023-05-06T05:28:36.482138Z",
     "shell.execute_reply.started": "2023-05-06T05:28:36.324185Z"
    },
    "tags": []
   },
   "outputs": [
    {
     "name": "stdout",
     "output_type": "stream",
     "text": [
      "The autoreload extension is already loaded. To reload it, use:\n",
      "  %reload_ext autoreload\n"
     ]
    }
   ],
   "source": [
    "%load_ext autoreload\n",
    "%autoreload 2\n",
    "import argparse\n",
    "import os\n",
    "import statistics\n",
    "from pathlib import Path\n",
    "\n",
    "import numpy as np\n",
    "import pandas as pd\n",
    "import torch\n",
    "import yaml\n",
    "from torch.optim import Adam\n",
    "from torch.utils.data import DataLoader, Dataset, TensorDataset\n",
    "from tqdm import tqdm\n",
    "from transformers import AutoModel, AutoTokenizer\n",
    "\n",
    "import wandb\n",
    "from src import BertClassifier\n",
    "from src import datasets as data_utils\n",
    "from src import influence, train_utils, utils\n",
    "from src.datasets import create_loo_dataset, create_test_sst2, create_train_sst2\n",
    "\n",
    "device = utils.get_device()\n",
    "\n",
    "config = utils.load_config(\n",
    "    \"model_params/bert_classifier.yaml\", epochs=5, num_training_examples=1000\n",
    ")"
   ]
  },
  {
   "cell_type": "markdown",
   "id": "6a199912-379d-40f2-8443-4508ebb45785",
   "metadata": {},
   "source": [
    "## Create Datasets"
   ]
  },
  {
   "cell_type": "code",
   "execution_count": 21,
   "id": "d650124e-16b5-4265-8b4d-b286d81cfee7",
   "metadata": {
    "execution": {
     "iopub.execute_input": "2023-05-06T05:29:13.625351Z",
     "iopub.status.busy": "2023-05-06T05:29:13.625112Z",
     "iopub.status.idle": "2023-05-06T05:29:15.080919Z",
     "shell.execute_reply": "2023-05-06T05:29:15.079992Z",
     "shell.execute_reply.started": "2023-05-06T05:29:13.625335Z"
    },
    "tags": []
   },
   "outputs": [
    {
     "name": "stderr",
     "output_type": "stream",
     "text": [
      "100%|████████████████████████████████████████████████████████████████████████████████████████████████████████████████| 1000/1000 [00:00<00:00, 14000.94it/s]\n",
      "Some weights of the model checkpoint at distilbert-base-uncased were not used when initializing DistilBertModel: ['vocab_layer_norm.weight', 'vocab_layer_norm.bias', 'vocab_transform.weight', 'vocab_projector.weight', 'vocab_projector.bias', 'vocab_transform.bias']\n",
      "- This IS expected if you are initializing DistilBertModel from the checkpoint of a model trained on another task or with another architecture (e.g. initializing a BertForSequenceClassification model from a BertForPreTraining model).\n",
      "- This IS NOT expected if you are initializing DistilBertModel from the checkpoint of a model that you expect to be exactly identical (initializing a BertForSequenceClassification model from a BertForSequenceClassification model).\n",
      "100%|███████████████████████████████████████████████████████████████████████████████████████████████████████████████████| 872/872 [00:00<00:00, 8568.33it/s]\n",
      "Some weights of the model checkpoint at distilbert-base-uncased were not used when initializing DistilBertModel: ['vocab_layer_norm.weight', 'vocab_layer_norm.bias', 'vocab_transform.weight', 'vocab_projector.weight', 'vocab_projector.bias', 'vocab_transform.bias']\n",
      "- This IS expected if you are initializing DistilBertModel from the checkpoint of a model trained on another task or with another architecture (e.g. initializing a BertForSequenceClassification model from a BertForPreTraining model).\n",
      "- This IS NOT expected if you are initializing DistilBertModel from the checkpoint of a model that you expect to be exactly identical (initializing a BertForSequenceClassification model from a BertForSequenceClassification model).\n"
     ]
    }
   ],
   "source": [
    "USE_BERT_EMBEDDINGS = True\n",
    "\n",
    "# Create datasets\n",
    "train_dataset = create_train_sst2(\n",
    "    num_samples=config[\"num_training_examples\"],\n",
    "    tokenizer_name=config[\"bert_model_name\"],\n",
    "    max_seq_len=config[\"max_sequence_length\"],\n",
    "    device=device,\n",
    "    use_bert_embeddings=USE_BERT_EMBEDDINGS,\n",
    ")\n",
    "\n",
    "test_dataset = create_test_sst2(\n",
    "    tokenizer_name=config[\"bert_model_name\"],\n",
    "    max_seq_len=config[\"max_sequence_length\"],\n",
    "    device=device,\n",
    "    use_bert_embeddings=USE_BERT_EMBEDDINGS,\n",
    ")\n",
    "test_dataloader = DataLoader(test_dataset, shuffle=False, batch_size=1)"
   ]
  },
  {
   "cell_type": "markdown",
   "id": "93e37995-84b8-48bd-a7c8-0dba09040369",
   "metadata": {},
   "source": [
    "## Train model"
   ]
  },
  {
   "cell_type": "code",
   "execution_count": 22,
   "id": "1c808236-ee63-46fe-aef5-2cfb8bab525f",
   "metadata": {
    "execution": {
     "iopub.execute_input": "2023-05-06T05:29:16.570637Z",
     "iopub.status.busy": "2023-05-06T05:29:16.570367Z",
     "iopub.status.idle": "2023-05-06T05:29:46.448184Z",
     "shell.execute_reply": "2023-05-06T05:29:46.447436Z",
     "shell.execute_reply.started": "2023-05-06T05:29:16.570619Z"
    },
    "tags": []
   },
   "outputs": [
    {
     "name": "stderr",
     "output_type": "stream",
     "text": [
      "Some weights of the model checkpoint at distilbert-base-uncased were not used when initializing DistilBertModel: ['vocab_layer_norm.weight', 'vocab_layer_norm.bias', 'vocab_transform.weight', 'vocab_projector.weight', 'vocab_projector.bias', 'vocab_transform.bias']\n",
      "- This IS expected if you are initializing DistilBertModel from the checkpoint of a model trained on another task or with another architecture (e.g. initializing a BertForSequenceClassification model from a BertForPreTraining model).\n",
      "- This IS NOT expected if you are initializing DistilBertModel from the checkpoint of a model that you expect to be exactly identical (initializing a BertForSequenceClassification model from a BertForSequenceClassification model).\n"
     ]
    },
    {
     "data": {
      "text/html": [
       "Finishing last run (ID:6z6kj1un) before initializing another..."
      ],
      "text/plain": [
       "<IPython.core.display.HTML object>"
      ]
     },
     "metadata": {},
     "output_type": "display_data"
    },
    {
     "data": {
      "text/html": [
       "Waiting for W&B process to finish... <strong style=\"color:green\">(success).</strong>"
      ],
      "text/plain": [
       "<IPython.core.display.HTML object>"
      ]
     },
     "metadata": {},
     "output_type": "display_data"
    },
    {
     "data": {
      "application/vnd.jupyter.widget-view+json": {
       "model_id": "4a34a857894441ae8bb6cb893cc19e09",
       "version_major": 2,
       "version_minor": 0
      },
      "text/plain": [
       "VBox(children=(Label(value='0.003 MB of 0.003 MB uploaded (0.000 MB deduped)\\r'), FloatProgress(value=1.0, max…"
      ]
     },
     "metadata": {},
     "output_type": "display_data"
    },
    {
     "data": {
      "text/html": [
       " View run <strong style=\"color:#cdcd00\">faithful-lion-45</strong> at: <a href='https://wandb.ai/patcao/Bert-scratch/runs/6z6kj1un' target=\"_blank\">https://wandb.ai/patcao/Bert-scratch/runs/6z6kj1un</a><br/>Synced 6 W&B file(s), 0 media file(s), 0 artifact file(s) and 0 other file(s)"
      ],
      "text/plain": [
       "<IPython.core.display.HTML object>"
      ]
     },
     "metadata": {},
     "output_type": "display_data"
    },
    {
     "data": {
      "text/html": [
       "Find logs at: <code>./wandb/run-20230506_012842-6z6kj1un/logs</code>"
      ],
      "text/plain": [
       "<IPython.core.display.HTML object>"
      ]
     },
     "metadata": {},
     "output_type": "display_data"
    },
    {
     "data": {
      "text/html": [
       "Successfully finished last run (ID:6z6kj1un). Initializing new run:<br/>"
      ],
      "text/plain": [
       "<IPython.core.display.HTML object>"
      ]
     },
     "metadata": {},
     "output_type": "display_data"
    },
    {
     "data": {
      "application/vnd.jupyter.widget-view+json": {
       "model_id": "dbcfb439e15943cdaaec60be408e1bb9",
       "version_major": 2,
       "version_minor": 0
      },
      "text/plain": [
       "VBox(children=(Label(value='Waiting for wandb.init()...\\r'), FloatProgress(value=0.016669544999604113, max=1.0…"
      ]
     },
     "metadata": {},
     "output_type": "display_data"
    },
    {
     "data": {
      "text/html": [
       "wandb version 0.15.2 is available!  To upgrade, please run:\n",
       " $ pip install wandb --upgrade"
      ],
      "text/plain": [
       "<IPython.core.display.HTML object>"
      ]
     },
     "metadata": {},
     "output_type": "display_data"
    },
    {
     "data": {
      "text/html": [
       "Tracking run with wandb version 0.15.0"
      ],
      "text/plain": [
       "<IPython.core.display.HTML object>"
      ]
     },
     "metadata": {},
     "output_type": "display_data"
    },
    {
     "data": {
      "text/html": [
       "Run data is saved locally in <code>/home/pcao/sentiment-influence-function/wandb/run-20230506_012917-q0vkhss9</code>"
      ],
      "text/plain": [
       "<IPython.core.display.HTML object>"
      ]
     },
     "metadata": {},
     "output_type": "display_data"
    },
    {
     "data": {
      "text/html": [
       "Syncing run <strong><a href='https://wandb.ai/patcao/Bert-scratch/runs/q0vkhss9' target=\"_blank\">worthy-cloud-46</a></strong> to <a href='https://wandb.ai/patcao/Bert-scratch' target=\"_blank\">Weights & Biases</a> (<a href='https://wandb.me/run' target=\"_blank\">docs</a>)<br/>"
      ],
      "text/plain": [
       "<IPython.core.display.HTML object>"
      ]
     },
     "metadata": {},
     "output_type": "display_data"
    },
    {
     "data": {
      "text/html": [
       " View project at <a href='https://wandb.ai/patcao/Bert-scratch' target=\"_blank\">https://wandb.ai/patcao/Bert-scratch</a>"
      ],
      "text/plain": [
       "<IPython.core.display.HTML object>"
      ]
     },
     "metadata": {},
     "output_type": "display_data"
    },
    {
     "data": {
      "text/html": [
       " View run at <a href='https://wandb.ai/patcao/Bert-scratch/runs/q0vkhss9' target=\"_blank\">https://wandb.ai/patcao/Bert-scratch/runs/q0vkhss9</a>"
      ],
      "text/plain": [
       "<IPython.core.display.HTML object>"
      ]
     },
     "metadata": {},
     "output_type": "display_data"
    },
    {
     "name": "stderr",
     "output_type": "stream",
     "text": [
      "100%|████████████████████████████████████████████████████████████████████████████████████████████████████████████████████| 63/63 [00:02<00:00, 29.66batch/s]\n",
      "100%|████████████████████████████████████████████████████████████████████████████████████████████████████████████████████| 63/63 [00:02<00:00, 29.56batch/s]\n",
      "100%|████████████████████████████████████████████████████████████████████████████████████████████████████████████████████| 63/63 [00:02<00:00, 30.06batch/s]\n",
      "100%|████████████████████████████████████████████████████████████████████████████████████████████████████████████████████| 63/63 [00:02<00:00, 29.70batch/s]\n",
      "100%|████████████████████████████████████████████████████████████████████████████████████████████████████████████████████| 63/63 [00:02<00:00, 29.95batch/s]\n"
     ]
    },
    {
     "data": {
      "text/html": [
       "Waiting for W&B process to finish... <strong style=\"color:green\">(success).</strong>"
      ],
      "text/plain": [
       "<IPython.core.display.HTML object>"
      ]
     },
     "metadata": {},
     "output_type": "display_data"
    },
    {
     "data": {
      "application/vnd.jupyter.widget-view+json": {
       "model_id": "e25b48b77d9c46908c838654f823057f",
       "version_major": 2,
       "version_minor": 0
      },
      "text/plain": [
       "VBox(children=(Label(value='0.003 MB of 0.003 MB uploaded (0.000 MB deduped)\\r'), FloatProgress(value=1.0, max…"
      ]
     },
     "metadata": {},
     "output_type": "display_data"
    },
    {
     "data": {
      "text/html": [
       "<style>\n",
       "    table.wandb td:nth-child(1) { padding: 0 10px; text-align: left ; width: auto;} td:nth-child(2) {text-align: left ; width: 100%}\n",
       "    .wandb-row { display: flex; flex-direction: row; flex-wrap: wrap; justify-content: flex-start; width: 100% }\n",
       "    .wandb-col { display: flex; flex-direction: column; flex-basis: 100%; flex: 1; padding: 10px; }\n",
       "    </style>\n",
       "<div class=\"wandb-row\"><div class=\"wandb-col\"><h3>Run history:</h3><br/><table class=\"wandb\"><tr><td>epoch</td><td>▁▃▅▆█</td></tr><tr><td>train/accuracy</td><td>▁▆███</td></tr><tr><td>train/batch_loss</td><td>▆▇▆█▅▅▄▅▄▄▄▃▄▄▃▂▃▃▄▆▄▂▂▄▃▃▁▄▁▂▄▁▅▁▅▃▃▂▃▅</td></tr><tr><td>train/loss</td><td>█▄▂▁▁</td></tr></table><br/></div><div class=\"wandb-col\"><h3>Run summary:</h3><br/><table class=\"wandb\"><tr><td>epoch</td><td>5</td></tr><tr><td>test/accuracy</td><td>80.27523</td></tr><tr><td>test/loss</td><td>0.41442</td></tr><tr><td>train/accuracy</td><td>85.21825</td></tr><tr><td>train/batch_loss</td><td>0.13145</td></tr><tr><td>train/loss</td><td>0.36353</td></tr></table><br/></div></div>"
      ],
      "text/plain": [
       "<IPython.core.display.HTML object>"
      ]
     },
     "metadata": {},
     "output_type": "display_data"
    },
    {
     "data": {
      "text/html": [
       " View run <strong style=\"color:#cdcd00\">worthy-cloud-46</strong> at: <a href='https://wandb.ai/patcao/Bert-scratch/runs/q0vkhss9' target=\"_blank\">https://wandb.ai/patcao/Bert-scratch/runs/q0vkhss9</a><br/>Synced 6 W&B file(s), 0 media file(s), 0 artifact file(s) and 0 other file(s)"
      ],
      "text/plain": [
       "<IPython.core.display.HTML object>"
      ]
     },
     "metadata": {},
     "output_type": "display_data"
    },
    {
     "data": {
      "text/html": [
       "Find logs at: <code>./wandb/run-20230506_012917-q0vkhss9/logs</code>"
      ],
      "text/plain": [
       "<IPython.core.display.HTML object>"
      ]
     },
     "metadata": {},
     "output_type": "display_data"
    }
   ],
   "source": [
    "full_model, fdf, full_test_loss, full_test_acc = train_utils.train_bert_model(\n",
    "    train_dataset=train_dataset,\n",
    "    test_dataset=test_dataset,\n",
    "    config=config,\n",
    "    use_bert_embeddings=USE_BERT_EMBEDDINGS,\n",
    ")"
   ]
  },
  {
   "cell_type": "code",
   "execution_count": 23,
   "id": "84763414-8e20-422d-b3b9-8cc22966e86b",
   "metadata": {
    "execution": {
     "iopub.execute_input": "2023-05-06T05:29:46.449268Z",
     "iopub.status.busy": "2023-05-06T05:29:46.449041Z",
     "iopub.status.idle": "2023-05-06T05:29:46.474091Z",
     "shell.execute_reply": "2023-05-06T05:29:46.473274Z",
     "shell.execute_reply.started": "2023-05-06T05:29:46.449252Z"
    },
    "tags": []
   },
   "outputs": [
    {
     "data": {
      "text/plain": [
       "0.1746881753206253"
      ]
     },
     "execution_count": 23,
     "metadata": {},
     "output_type": "execute_result"
    }
   ],
   "source": [
    "baseline_test_loss = fdf[fdf.test_guid == TEST_GUID].loss.squeeze()\n",
    "baseline_test_loss"
   ]
  },
  {
   "cell_type": "markdown",
   "id": "cded59fc-a91e-4172-ac82-03721c8a96b1",
   "metadata": {},
   "source": [
    "## Compute Influence Function"
   ]
  },
  {
   "cell_type": "code",
   "execution_count": 24,
   "id": "bc021eb5-80e7-4766-aa3e-5c3e62670838",
   "metadata": {
    "execution": {
     "iopub.execute_input": "2023-05-06T05:29:46.475366Z",
     "iopub.status.busy": "2023-05-06T05:29:46.475160Z",
     "iopub.status.idle": "2023-05-06T05:30:54.163482Z",
     "shell.execute_reply": "2023-05-06T05:30:54.162772Z",
     "shell.execute_reply.started": "2023-05-06T05:29:46.475350Z"
    },
    "tags": []
   },
   "outputs": [
    {
     "name": "stdout",
     "output_type": "stream",
     "text": [
      "LiSSA reps: 2 and num_iterations: 1000\n",
      "Recursion at depth 0: norm is 4.655922\n",
      "Recursion at depth 200: norm is 127.890549\n",
      "Recursion at depth 400: norm is 165.555710\n",
      "Recursion at depth 600: norm is 177.680008\n",
      "Recursion at depth 800: norm is 182.073212\n",
      "Recursion at depth 999: norm is 183.608948\n",
      "Recursion at depth 0: norm is 4.609522\n",
      "Recursion at depth 200: norm is 128.841476\n",
      "Recursion at depth 400: norm is 166.395264\n",
      "Recursion at depth 600: norm is 178.216537\n",
      "Recursion at depth 800: norm is 181.195511\n",
      "Recursion at depth 999: norm is 182.774078\n"
     ]
    },
    {
     "name": "stderr",
     "output_type": "stream",
     "text": [
      "100%|██████████████████████████████████████████████████████████████████████████████████████████████████████████████████| 1000/1000 [00:06<00:00, 144.65it/s]\n"
     ]
    }
   ],
   "source": [
    "TEST_GUID = 716\n",
    "\n",
    "infl = influence.compute_influence(\n",
    "    full_model,\n",
    "    TEST_GUID,\n",
    "    param_influence=list(full_model.classifier.parameters()),\n",
    "    train_dataset=train_dataset,\n",
    "    test_dataset=test_dataset,\n",
    "    use_bert_embeddings=USE_BERT_EMBEDDINGS,\n",
    "    lissa_r=2,\n",
    "    lissa_depth=1,\n",
    "    damping=5e-3,\n",
    "    scale=100,\n",
    ")"
   ]
  },
  {
   "cell_type": "code",
   "execution_count": 25,
   "id": "d79a9e73-027e-44e0-8f7e-3db986781519",
   "metadata": {
    "execution": {
     "iopub.execute_input": "2023-05-06T05:30:54.164764Z",
     "iopub.status.busy": "2023-05-06T05:30:54.164569Z",
     "iopub.status.idle": "2023-05-06T05:30:54.187940Z",
     "shell.execute_reply": "2023-05-06T05:30:54.187195Z",
     "shell.execute_reply.started": "2023-05-06T05:30:54.164749Z"
    },
    "tags": []
   },
   "outputs": [
    {
     "data": {
      "text/plain": [
       "array([262, 447, 536, 526, 722, 190, 326, 293, 393, 143])"
      ]
     },
     "execution_count": 25,
     "metadata": {},
     "output_type": "execute_result"
    }
   ],
   "source": [
    "# Most negative influence is most helpful\n",
    "helpful_idxs = np.argsort(infl)[:10]\n",
    "helpful_idxs"
   ]
  },
  {
   "cell_type": "code",
   "execution_count": 26,
   "id": "616eba86-7603-47b1-9d1e-310ba5f91297",
   "metadata": {
    "execution": {
     "iopub.execute_input": "2023-05-06T05:30:54.188652Z",
     "iopub.status.busy": "2023-05-06T05:30:54.188464Z",
     "iopub.status.idle": "2023-05-06T05:30:54.213295Z",
     "shell.execute_reply": "2023-05-06T05:30:54.212520Z",
     "shell.execute_reply.started": "2023-05-06T05:30:54.188638Z"
    },
    "tags": []
   },
   "outputs": [
    {
     "data": {
      "text/plain": [
       "array([-4.30263615, -2.73550391, -2.63446903, -2.57483053, -2.51361799,\n",
       "       -2.45602036, -2.43724656, -2.34256577, -2.29062819, -2.20918775])"
      ]
     },
     "execution_count": 26,
     "metadata": {},
     "output_type": "execute_result"
    }
   ],
   "source": [
    "np.take(infl, helpful_idxs)"
   ]
  },
  {
   "cell_type": "markdown",
   "id": "f8d02bf0-e609-4222-997a-4891051e762b",
   "metadata": {},
   "source": [
    "## Compute Input Influence Function"
   ]
  },
  {
   "cell_type": "code",
   "execution_count": 32,
   "id": "1a305507-f74f-434c-8c00-be1d73eef30c",
   "metadata": {
    "execution": {
     "iopub.execute_input": "2023-05-06T05:34:33.304141Z",
     "iopub.status.busy": "2023-05-06T05:34:33.303788Z",
     "iopub.status.idle": "2023-05-06T05:36:58.929689Z",
     "shell.execute_reply": "2023-05-06T05:36:58.928748Z",
     "shell.execute_reply.started": "2023-05-06T05:34:33.304114Z"
    },
    "tags": []
   },
   "outputs": [
    {
     "name": "stdout",
     "output_type": "stream",
     "text": [
      "LiSSA reps: 2 and num_iterations: 1000\n",
      "Recursion at depth 0: norm is 4.539837\n",
      "Recursion at depth 200: norm is 128.686966\n",
      "Recursion at depth 400: norm is 165.868591\n",
      "Recursion at depth 600: norm is 177.595367\n",
      "Recursion at depth 800: norm is 181.906235\n",
      "Recursion at depth 999: norm is 183.765076\n",
      "Recursion at depth 0: norm is 4.443922\n",
      "Recursion at depth 200: norm is 129.020157\n",
      "Recursion at depth 400: norm is 165.915131\n",
      "Recursion at depth 600: norm is 177.849350\n",
      "Recursion at depth 800: norm is 182.245407\n",
      "Recursion at depth 999: norm is 183.830505\n"
     ]
    },
    {
     "name": "stderr",
     "output_type": "stream",
     "text": [
      "100%|███████████████████████████████████████████████████████████████████████████████████████████████████████████████████| 1000/1000 [01:25<00:00, 11.68it/s]\n"
     ]
    }
   ],
   "source": [
    "input_infl = influence.compute_input_influence(\n",
    "    full_model,\n",
    "    TEST_GUID,\n",
    "    param_influence=list(full_model.classifier.parameters()),\n",
    "    train_dataset=train_dataset,\n",
    "    test_dataset=test_dataset,\n",
    "    use_bert_embeddings=USE_BERT_EMBEDDINGS,\n",
    "    lissa_r=2,\n",
    "    lissa_depth=1,\n",
    "    damping=5e-3,\n",
    "    scale=100,\n",
    "    training_indices=helpful_idxs\n",
    ")\n",
    "\n"
   ]
  },
  {
   "cell_type": "code",
   "execution_count": 36,
   "id": "453d8bbb-17b9-4a0b-a9ef-46693bdf3685",
   "metadata": {
    "execution": {
     "iopub.execute_input": "2023-05-06T05:38:18.429214Z",
     "iopub.status.busy": "2023-05-06T05:38:18.428749Z",
     "iopub.status.idle": "2023-05-06T05:38:18.461158Z",
     "shell.execute_reply": "2023-05-06T05:38:18.460366Z",
     "shell.execute_reply.started": "2023-05-06T05:38:18.429194Z"
    },
    "tags": []
   },
   "outputs": [
    {
     "data": {
      "text/plain": [
       "dict_keys([tensor([143], device='cuda:0', dtype=torch.int32), tensor([190], device='cuda:0', dtype=torch.int32), tensor([262], device='cuda:0', dtype=torch.int32), tensor([293], device='cuda:0', dtype=torch.int32), tensor([326], device='cuda:0', dtype=torch.int32), tensor([393], device='cuda:0', dtype=torch.int32), tensor([447], device='cuda:0', dtype=torch.int32), tensor([526], device='cuda:0', dtype=torch.int32), tensor([536], device='cuda:0', dtype=torch.int32), tensor([722], device='cuda:0', dtype=torch.int32)])"
      ]
     },
     "execution_count": 36,
     "metadata": {},
     "output_type": "execute_result"
    }
   ],
   "source": [
    "input_infl.keys()"
   ]
  },
  {
   "cell_type": "code",
   "execution_count": 44,
   "id": "d91765c3-06a2-4ad0-8ea2-0f661ce17174",
   "metadata": {
    "execution": {
     "iopub.execute_input": "2023-05-06T05:39:30.201586Z",
     "iopub.status.busy": "2023-05-06T05:39:30.201282Z",
     "iopub.status.idle": "2023-05-06T05:39:30.230030Z",
     "shell.execute_reply": "2023-05-06T05:39:30.229316Z",
     "shell.execute_reply.started": "2023-05-06T05:39:30.201569Z"
    },
    "tags": []
   },
   "outputs": [],
   "source": [
    "def perturb_datapoint(dataset, data_guid, perturbation):\n",
    "    pass"
   ]
  },
  {
   "cell_type": "code",
   "execution_count": 48,
   "id": "15407823-c8f9-4152-917f-90f2afbed45f",
   "metadata": {
    "execution": {
     "iopub.execute_input": "2023-05-06T05:39:43.155475Z",
     "iopub.status.busy": "2023-05-06T05:39:43.155225Z",
     "iopub.status.idle": "2023-05-06T05:39:43.178938Z",
     "shell.execute_reply": "2023-05-06T05:39:43.178213Z",
     "shell.execute_reply.started": "2023-05-06T05:39:43.155459Z"
    },
    "tags": []
   },
   "outputs": [
    {
     "data": {
      "text/plain": [
       "torch.Size([64, 768])"
      ]
     },
     "execution_count": 48,
     "metadata": {},
     "output_type": "execute_result"
    }
   ],
   "source": [
    "alpha = 0.01\n",
    "\n",
    "# peturb input by this amount\n",
    "input_infl[262].shape"
   ]
  },
  {
   "cell_type": "code",
   "execution_count": null,
   "id": "1e562a8f-b82e-478a-9709-b3e390de60f3",
   "metadata": {},
   "outputs": [],
   "source": []
  },
  {
   "cell_type": "code",
   "execution_count": 39,
   "id": "6307729d-8f62-474c-a17f-554f0bd04db2",
   "metadata": {
    "execution": {
     "iopub.execute_input": "2023-05-06T05:38:43.493962Z",
     "iopub.status.busy": "2023-05-06T05:38:43.493729Z",
     "iopub.status.idle": "2023-05-06T05:38:43.530126Z",
     "shell.execute_reply": "2023-05-06T05:38:43.529256Z",
     "shell.execute_reply.started": "2023-05-06T05:38:43.493947Z"
    },
    "tags": []
   },
   "outputs": [
    {
     "ename": "KeyError",
     "evalue": "tensor([262])",
     "output_type": "error",
     "traceback": [
      "\u001b[0;31m---------------------------------------------------------------------------\u001b[0m",
      "\u001b[0;31mKeyError\u001b[0m                                  Traceback (most recent call last)",
      "Cell \u001b[0;32mIn[39], line 1\u001b[0m\n\u001b[0;32m----> 1\u001b[0m \u001b[43minput_infl\u001b[49m\u001b[43m[\u001b[49m\u001b[43mtorch\u001b[49m\u001b[38;5;241;43m.\u001b[39;49m\u001b[43mtensor\u001b[49m\u001b[43m(\u001b[49m\u001b[43m[\u001b[49m\u001b[38;5;241;43m262\u001b[39;49m\u001b[43m]\u001b[49m\u001b[43m)\u001b[49m\u001b[43m]\u001b[49m\n",
      "\u001b[0;31mKeyError\u001b[0m: tensor([262])"
     ]
    }
   ],
   "source": [
    "input_infl[torch.tensor([262])]"
   ]
  },
  {
   "cell_type": "code",
   "execution_count": null,
   "id": "4b985181-9737-477a-b767-7768cee06604",
   "metadata": {},
   "outputs": [],
   "source": [
    "import pickle\n",
    "\n",
    "with open('input_infl.pkl', 'wb') as fh:\n",
    "    pickle.dump(input_infl, fh)"
   ]
  },
  {
   "cell_type": "code",
   "execution_count": 31,
   "id": "01e83797-584e-4cb0-834b-9d67ab90092d",
   "metadata": {
    "execution": {
     "iopub.execute_input": "2023-05-06T05:34:22.467817Z",
     "iopub.status.busy": "2023-05-06T05:34:22.467569Z",
     "iopub.status.idle": "2023-05-06T05:34:22.492973Z",
     "shell.execute_reply": "2023-05-06T05:34:22.492085Z",
     "shell.execute_reply.started": "2023-05-06T05:34:22.467800Z"
    },
    "tags": []
   },
   "outputs": [
    {
     "data": {
      "text/plain": [
       "True"
      ]
     },
     "execution_count": 31,
     "metadata": {},
     "output_type": "execute_result"
    }
   ],
   "source": [
    "262 in helpful_idxs"
   ]
  },
  {
   "cell_type": "code",
   "execution_count": null,
   "id": "e7315cae-79d4-44e6-a46f-5747b6432232",
   "metadata": {
    "execution": {
     "iopub.status.busy": "2023-05-06T04:54:07.056453Z",
     "iopub.status.idle": "2023-05-06T04:54:07.056697Z",
     "shell.execute_reply": "2023-05-06T04:54:07.056598Z",
     "shell.execute_reply.started": "2023-05-06T04:54:07.056587Z"
    }
   },
   "outputs": [],
   "source": [
    "-"
   ]
  },
  {
   "cell_type": "markdown",
   "id": "83554cab-505a-4625-af7c-7f8bd67a112d",
   "metadata": {
    "tags": []
   },
   "source": [
    "## Word2Vec"
   ]
  },
  {
   "cell_type": "code",
   "execution_count": null,
   "id": "b535adce-67f9-4691-b378-549184a65661",
   "metadata": {
    "execution": {
     "iopub.status.busy": "2023-05-06T04:54:07.057908Z",
     "iopub.status.idle": "2023-05-06T04:54:07.058187Z",
     "shell.execute_reply": "2023-05-06T04:54:07.058084Z",
     "shell.execute_reply.started": "2023-05-06T04:54:07.058072Z"
    },
    "tags": []
   },
   "outputs": [],
   "source": [
    "from gensim.models import KeyedVectors, Word2Vec\n",
    "\n",
    "w2v = KeyedVectors.load(\"word2vec/glove-twitter-100.kv\")"
   ]
  },
  {
   "cell_type": "code",
   "execution_count": null,
   "id": "91972328-d099-4c87-a2aa-affe2b49bcc2",
   "metadata": {
    "execution": {
     "iopub.status.busy": "2023-05-06T04:54:07.059134Z",
     "iopub.status.idle": "2023-05-06T04:54:07.059357Z",
     "shell.execute_reply": "2023-05-06T04:54:07.059257Z",
     "shell.execute_reply.started": "2023-05-06T04:54:07.059247Z"
    },
    "tags": []
   },
   "outputs": [],
   "source": [
    "w2v[\"spielberg\"]"
   ]
  },
  {
   "cell_type": "code",
   "execution_count": null,
   "id": "18a2e76f-7b63-4b43-8c56-88a3dfe08efa",
   "metadata": {
    "tags": []
   },
   "outputs": [],
   "source": []
  },
  {
   "cell_type": "code",
   "execution_count": null,
   "id": "e1e3d843-28ab-4021-afc7-46e3f6793576",
   "metadata": {
    "tags": []
   },
   "outputs": [],
   "source": []
  },
  {
   "cell_type": "code",
   "execution_count": null,
   "id": "a32778a7-5a9e-4dda-9716-4d1cfcbb97f9",
   "metadata": {},
   "outputs": [],
   "source": []
  }
 ],
 "metadata": {
  "kernelspec": {
   "display_name": "Python 3 (ipykernel)",
   "language": "python",
   "name": "python3"
  },
  "language_info": {
   "codemirror_mode": {
    "name": "ipython",
    "version": 3
   },
   "file_extension": ".py",
   "mimetype": "text/x-python",
   "name": "python",
   "nbconvert_exporter": "python",
   "pygments_lexer": "ipython3",
   "version": "3.10.10"
  }
 },
 "nbformat": 4,
 "nbformat_minor": 5
}
