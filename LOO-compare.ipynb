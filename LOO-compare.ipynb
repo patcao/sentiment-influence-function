{
 "cells": [
  {
   "cell_type": "code",
   "execution_count": 26,
   "id": "1d962785-65b7-4e44-8c74-a114a8faa825",
   "metadata": {
    "execution": {
     "iopub.execute_input": "2023-05-03T18:09:31.938652Z",
     "iopub.status.busy": "2023-05-03T18:09:31.938428Z",
     "iopub.status.idle": "2023-05-03T18:09:32.331174Z",
     "shell.execute_reply": "2023-05-03T18:09:32.330454Z",
     "shell.execute_reply.started": "2023-05-03T18:09:31.938637Z"
    },
    "tags": []
   },
   "outputs": [
    {
     "name": "stdout",
     "output_type": "stream",
     "text": [
      "The autoreload extension is already loaded. To reload it, use:\n",
      "  %reload_ext autoreload\n"
     ]
    },
    {
     "name": "stderr",
     "output_type": "stream",
     "text": [
      "100%|████████████████████████████████████████████████████████████████████████████████████████████████████████████████| 1000/1000 [00:00<00:00, 13881.44it/s]\n",
      "100%|██████████████████████████████████████████████████████████████████████████████████████████████████████████████████| 872/872 [00:00<00:00, 10658.47it/s]\n"
     ]
    }
   ],
   "source": [
    "%load_ext autoreload\n",
    "%autoreload 2\n",
    "\n",
    "import argparse\n",
    "import os\n",
    "from pathlib import Path\n",
    "\n",
    "import numpy as np\n",
    "import pandas as pd\n",
    "import src.BertClassifier as BertClassifier\n",
    "import src.utils as utils\n",
    "import torch\n",
    "import yaml\n",
    "from src.datasets import create_loo_dataset, create_test_sst2, create_train_sst2\n",
    "from torch.optim import Adam\n",
    "from torch.utils.data import DataLoader\n",
    "from tqdm import tqdm\n",
    "\n",
    "import wandb\n",
    "\n",
    "device = utils.get_device()\n",
    "config_path = \"loo/classifier.yaml\"\n",
    "epochs = 10\n",
    "num_training_examples = 1000\n",
    "\n",
    "with open(config_path, \"r\") as stream:\n",
    "    config = yaml.safe_load(stream)\n",
    "config.update({\"epochs\": epochs, \"num_training_examples\": num_training_examples})\n",
    "\n",
    "# Create datasets\n",
    "train_dataset = create_train_sst2(\n",
    "    device,\n",
    "    num_samples=config[\"num_training_examples\"],\n",
    "    tokenizer_name=config[\"bert_model_name\"],\n",
    "    max_seq_len=config[\"max_sequence_length\"],\n",
    ")\n",
    "\n",
    "test_dataset = create_test_sst2(\n",
    "    device,\n",
    "    tokenizer_name=config[\"bert_model_name\"],\n",
    "    max_seq_len=config[\"max_sequence_length\"],\n",
    ")\n",
    "test_dataloader = DataLoader(test_dataset, shuffle=False, batch_size=1)"
   ]
  },
  {
   "cell_type": "markdown",
   "id": "cc5f0a57-22fe-45ec-b0be-dd685a0ae0b0",
   "metadata": {
    "jp-MarkdownHeadingCollapsed": true,
    "tags": []
   },
   "source": [
    "## Train Model on Full Data"
   ]
  },
  {
   "cell_type": "code",
   "execution_count": 11,
   "id": "3ae2c3b7-5879-4f26-a4b9-80f76f1aef60",
   "metadata": {
    "execution": {
     "iopub.execute_input": "2023-05-03T18:03:47.118110Z",
     "iopub.status.busy": "2023-05-03T18:03:47.117877Z",
     "iopub.status.idle": "2023-05-03T18:03:47.140982Z",
     "shell.execute_reply": "2023-05-03T18:03:47.139926Z",
     "shell.execute_reply.started": "2023-05-03T18:03:47.118095Z"
    },
    "tags": []
   },
   "outputs": [],
   "source": [
    "def train_model(train_dataset, test_dataset, config):\n",
    "    train_dataloader = DataLoader(\n",
    "        train_dataset, batch_size=config[\"batch_size\"], shuffle=True\n",
    "    )\n",
    "\n",
    "    # Create classifcation model\n",
    "    full_model = BertClassifier.create_bert_classifier(\n",
    "        config[\"bert_model_name\"],\n",
    "        classifier_type=config[\"classifier_type\"],\n",
    "        classifier_hidden_size=config[\"classifier_hidden_size\"],\n",
    "        classifier_drop_out=config[\"classifier_drop_out\"],\n",
    "        freeze_bert=True,\n",
    "        # random_state=42,\n",
    "    )\n",
    "    full_model.classifier.load_state_dict(\n",
    "        torch.load(\"loo_10k/run_0/init_classifier_params.pt\")\n",
    "    )\n",
    "    # torch.save(model.classifier.state_dict(), 'classifier_params.pt')\n",
    "\n",
    "    optimizer = Adam(full_model.classifier.parameters(), lr=config[\"learning_rate\"])\n",
    "    loss_fn = torch.nn.CrossEntropyLoss()\n",
    "\n",
    "    run = wandb.init(project=\"LOO-test\", tags=[\"full\"], config=config)\n",
    "\n",
    "    timings = utils.train(\n",
    "        config=config,\n",
    "        model=full_model,\n",
    "        optimizer=optimizer,\n",
    "        loss_fn=loss_fn,\n",
    "        train_dataloader=train_dataloader,\n",
    "        val_dataloader=None,\n",
    "    )\n",
    "\n",
    "    fdf, test_loss, test_acc = utils.evaluate_loss_df(full_model, test_dataloader)\n",
    "    wandb.summary[\"test/loss\"] = test_loss\n",
    "    wandb.summary[\"test/accuracy\"] = test_acc\n",
    "    wandb.finish()\n",
    "\n",
    "    return full_model, fdf, test_loss, test_acc"
   ]
  },
  {
   "cell_type": "code",
   "execution_count": 12,
   "id": "650bbd48-baaa-4cdf-b941-a9b3cdc64d33",
   "metadata": {
    "execution": {
     "iopub.execute_input": "2023-05-03T18:03:47.869806Z",
     "iopub.status.busy": "2023-05-03T18:03:47.869562Z",
     "iopub.status.idle": "2023-05-03T18:05:09.781914Z",
     "shell.execute_reply": "2023-05-03T18:05:09.781137Z",
     "shell.execute_reply.started": "2023-05-03T18:03:47.869791Z"
    },
    "tags": []
   },
   "outputs": [
    {
     "name": "stderr",
     "output_type": "stream",
     "text": [
      "Some weights of the model checkpoint at distilbert-base-uncased were not used when initializing DistilBertModel: ['vocab_layer_norm.weight', 'vocab_transform.bias', 'vocab_transform.weight', 'vocab_projector.weight', 'vocab_projector.bias', 'vocab_layer_norm.bias']\n",
      "- This IS expected if you are initializing DistilBertModel from the checkpoint of a model trained on another task or with another architecture (e.g. initializing a BertForSequenceClassification model from a BertForPreTraining model).\n",
      "- This IS NOT expected if you are initializing DistilBertModel from the checkpoint of a model that you expect to be exactly identical (initializing a BertForSequenceClassification model from a BertForSequenceClassification model).\n",
      "\u001b[34m\u001b[1mwandb\u001b[0m: Currently logged in as: \u001b[33mpatcao\u001b[0m. Use \u001b[1m`wandb login --relogin`\u001b[0m to force relogin\n"
     ]
    },
    {
     "data": {
      "text/html": [
       "wandb version 0.15.1 is available!  To upgrade, please run:\n",
       " $ pip install wandb --upgrade"
      ],
      "text/plain": [
       "<IPython.core.display.HTML object>"
      ]
     },
     "metadata": {},
     "output_type": "display_data"
    },
    {
     "data": {
      "text/html": [
       "Tracking run with wandb version 0.15.0"
      ],
      "text/plain": [
       "<IPython.core.display.HTML object>"
      ]
     },
     "metadata": {},
     "output_type": "display_data"
    },
    {
     "data": {
      "text/html": [
       "Run data is saved locally in <code>/home/pcao/sentiment-influence-function/wandb/run-20230503_140349-8b8a554t</code>"
      ],
      "text/plain": [
       "<IPython.core.display.HTML object>"
      ]
     },
     "metadata": {},
     "output_type": "display_data"
    },
    {
     "data": {
      "text/html": [
       "Syncing run <strong><a href='https://wandb.ai/patcao/LOO-test/runs/8b8a554t' target=\"_blank\">sunny-totem-115</a></strong> to <a href='https://wandb.ai/patcao/LOO-test' target=\"_blank\">Weights & Biases</a> (<a href='https://wandb.me/run' target=\"_blank\">docs</a>)<br/>"
      ],
      "text/plain": [
       "<IPython.core.display.HTML object>"
      ]
     },
     "metadata": {},
     "output_type": "display_data"
    },
    {
     "data": {
      "text/html": [
       " View project at <a href='https://wandb.ai/patcao/LOO-test' target=\"_blank\">https://wandb.ai/patcao/LOO-test</a>"
      ],
      "text/plain": [
       "<IPython.core.display.HTML object>"
      ]
     },
     "metadata": {},
     "output_type": "display_data"
    },
    {
     "data": {
      "text/html": [
       " View run at <a href='https://wandb.ai/patcao/LOO-test/runs/8b8a554t' target=\"_blank\">https://wandb.ai/patcao/LOO-test/runs/8b8a554t</a>"
      ],
      "text/plain": [
       "<IPython.core.display.HTML object>"
      ]
     },
     "metadata": {},
     "output_type": "display_data"
    },
    {
     "name": "stderr",
     "output_type": "stream",
     "text": [
      "100%|████████████████████████████████████████████████████████████████████████████████████████████████████████████████████| 63/63 [00:06<00:00, 10.00batch/s]\n",
      "100%|████████████████████████████████████████████████████████████████████████████████████████████████████████████████████| 63/63 [00:05<00:00, 11.17batch/s]\n",
      "100%|████████████████████████████████████████████████████████████████████████████████████████████████████████████████████| 63/63 [00:05<00:00, 11.23batch/s]\n",
      "100%|████████████████████████████████████████████████████████████████████████████████████████████████████████████████████| 63/63 [00:05<00:00, 11.21batch/s]\n",
      "100%|████████████████████████████████████████████████████████████████████████████████████████████████████████████████████| 63/63 [00:05<00:00, 11.11batch/s]\n",
      "100%|████████████████████████████████████████████████████████████████████████████████████████████████████████████████████| 63/63 [00:05<00:00, 11.23batch/s]\n",
      "100%|████████████████████████████████████████████████████████████████████████████████████████████████████████████████████| 63/63 [00:05<00:00, 10.93batch/s]\n",
      "100%|████████████████████████████████████████████████████████████████████████████████████████████████████████████████████| 63/63 [00:05<00:00, 10.85batch/s]\n",
      "100%|████████████████████████████████████████████████████████████████████████████████████████████████████████████████████| 63/63 [00:05<00:00, 11.43batch/s]\n",
      "100%|████████████████████████████████████████████████████████████████████████████████████████████████████████████████████| 63/63 [00:05<00:00, 11.19batch/s]\n"
     ]
    },
    {
     "data": {
      "text/html": [
       "Waiting for W&B process to finish... <strong style=\"color:green\">(success).</strong>"
      ],
      "text/plain": [
       "<IPython.core.display.HTML object>"
      ]
     },
     "metadata": {},
     "output_type": "display_data"
    },
    {
     "data": {
      "text/html": [
       "<style>\n",
       "    table.wandb td:nth-child(1) { padding: 0 10px; text-align: left ; width: auto;} td:nth-child(2) {text-align: left ; width: 100%}\n",
       "    .wandb-row { display: flex; flex-direction: row; flex-wrap: wrap; justify-content: flex-start; width: 100% }\n",
       "    .wandb-col { display: flex; flex-direction: column; flex-basis: 100%; flex: 1; padding: 10px; }\n",
       "    </style>\n",
       "<div class=\"wandb-row\"><div class=\"wandb-col\"><h3>Run history:</h3><br/><table class=\"wandb\"><tr><td>epoch</td><td>▁▂▃▃▄▅▆▆▇█</td></tr><tr><td>train/accuracy</td><td>▁▅▇▇▇▇████</td></tr><tr><td>train/batch_loss</td><td>█▇▇▇▆▆▅▅▄▅▆▃▄▂▂▆▆▆▅▄▂▃▅▃▄▄▅▃▂▃▃▅▄▄▂▄▂▂▃▁</td></tr><tr><td>train/loss</td><td>█▅▃▃▂▂▂▁▁▁</td></tr></table><br/></div><div class=\"wandb-col\"><h3>Run summary:</h3><br/><table class=\"wandb\"><tr><td>epoch</td><td>10</td></tr><tr><td>test/accuracy</td><td>81.76606</td></tr><tr><td>test/loss</td><td>0.4104</td></tr><tr><td>train/accuracy</td><td>87.79762</td></tr><tr><td>train/batch_loss</td><td>0.08084</td></tr><tr><td>train/loss</td><td>0.32155</td></tr></table><br/></div></div>"
      ],
      "text/plain": [
       "<IPython.core.display.HTML object>"
      ]
     },
     "metadata": {},
     "output_type": "display_data"
    },
    {
     "data": {
      "text/html": [
       " View run <strong style=\"color:#cdcd00\">sunny-totem-115</strong> at: <a href='https://wandb.ai/patcao/LOO-test/runs/8b8a554t' target=\"_blank\">https://wandb.ai/patcao/LOO-test/runs/8b8a554t</a><br/>Synced 6 W&B file(s), 0 media file(s), 0 artifact file(s) and 0 other file(s)"
      ],
      "text/plain": [
       "<IPython.core.display.HTML object>"
      ]
     },
     "metadata": {},
     "output_type": "display_data"
    },
    {
     "data": {
      "text/html": [
       "Find logs at: <code>./wandb/run-20230503_140349-8b8a554t/logs</code>"
      ],
      "text/plain": [
       "<IPython.core.display.HTML object>"
      ]
     },
     "metadata": {},
     "output_type": "display_data"
    }
   ],
   "source": [
    "full_model, fdf, full_test_loss, full_test_acc = train_model(\n",
    "    train_dataset, test_dataset, config\n",
    ")"
   ]
  },
  {
   "cell_type": "markdown",
   "id": "9d0b2f24-94d7-4be2-b45d-98dac653be50",
   "metadata": {
    "jp-MarkdownHeadingCollapsed": true,
    "tags": []
   },
   "source": [
    "## Train LOO Models"
   ]
  },
  {
   "cell_type": "code",
   "execution_count": 65,
   "id": "7ff722ae-f947-4487-9d47-41e00f9dd805",
   "metadata": {
    "execution": {
     "iopub.execute_input": "2023-05-03T19:13:47.700568Z",
     "iopub.status.busy": "2023-05-03T19:13:47.700175Z",
     "iopub.status.idle": "2023-05-03T19:13:47.724125Z",
     "shell.execute_reply": "2023-05-03T19:13:47.723409Z",
     "shell.execute_reply.started": "2023-05-03T19:13:47.700553Z"
    },
    "tags": []
   },
   "outputs": [],
   "source": [
    "def train_loo_models(full_train_dataset, test_dataset, start_guid, end_guid, config):\n",
    "    loo_losses = []\n",
    "\n",
    "    for loo_guid in range(start_guid, end_guid):\n",
    "        loo_dataset = create_loo_dataset(full_train_dataset, loo_guid)\n",
    "        loo_model, ldf, full_test_loss, full_test_acc = train_model(\n",
    "            loo_dataset, test_dataset, config\n",
    "        )\n",
    "        ldf['loo_guid'] = loo_guid\n",
    "        loo_losses.append(ldf)\n",
    "    ldf = pd.concat(loo_losses, axis=0)\n",
    "    return ldf\n"
   ]
  },
  {
   "cell_type": "code",
   "execution_count": 66,
   "id": "46900870-01ef-41ec-9b85-fe4a84040ed5",
   "metadata": {
    "execution": {
     "iopub.execute_input": "2023-05-03T19:13:48.843393Z",
     "iopub.status.busy": "2023-05-03T19:13:48.843158Z",
     "iopub.status.idle": "2023-05-03T19:33:34.468084Z",
     "shell.execute_reply": "2023-05-03T19:33:34.467234Z",
     "shell.execute_reply.started": "2023-05-03T19:13:48.843378Z"
    },
    "tags": []
   },
   "outputs": [
    {
     "name": "stdout",
     "output_type": "stream",
     "text": [
      "env: WANDB_SILENT=true\n"
     ]
    },
    {
     "name": "stderr",
     "output_type": "stream",
     "text": [
      "Some weights of the model checkpoint at distilbert-base-uncased were not used when initializing DistilBertModel: ['vocab_layer_norm.weight', 'vocab_transform.bias', 'vocab_transform.weight', 'vocab_projector.weight', 'vocab_projector.bias', 'vocab_layer_norm.bias']\n",
      "- This IS expected if you are initializing DistilBertModel from the checkpoint of a model trained on another task or with another architecture (e.g. initializing a BertForSequenceClassification model from a BertForPreTraining model).\n",
      "- This IS NOT expected if you are initializing DistilBertModel from the checkpoint of a model that you expect to be exactly identical (initializing a BertForSequenceClassification model from a BertForSequenceClassification model).\n"
     ]
    },
    {
     "data": {
      "text/html": [
       "Changes to your `wandb` environment variables will be ignored because your `wandb` session has already started. For more information on how to modify your settings with `wandb.init()` arguments, please refer to <a href='https://wandb.me/wandb-init' target=\"_blank\">the W&B docs</a>."
      ],
      "text/plain": [
       "<IPython.core.display.HTML object>"
      ]
     },
     "metadata": {},
     "output_type": "display_data"
    },
    {
     "data": {
      "text/html": [
       "wandb version 0.15.1 is available!  To upgrade, please run:\n",
       " $ pip install wandb --upgrade"
      ],
      "text/plain": [
       "<IPython.core.display.HTML object>"
      ]
     },
     "metadata": {},
     "output_type": "display_data"
    },
    {
     "data": {
      "text/html": [
       "Tracking run with wandb version 0.15.0"
      ],
      "text/plain": [
       "<IPython.core.display.HTML object>"
      ]
     },
     "metadata": {},
     "output_type": "display_data"
    },
    {
     "data": {
      "text/html": [
       "Run data is saved locally in <code>/home/pcao/sentiment-influence-function/wandb/run-20230503_151349-6arxkc0v</code>"
      ],
      "text/plain": [
       "<IPython.core.display.HTML object>"
      ]
     },
     "metadata": {},
     "output_type": "display_data"
    },
    {
     "data": {
      "text/html": [
       "Syncing run <strong><a href='https://wandb.ai/patcao/LOO-test/runs/6arxkc0v' target=\"_blank\">faithful-mountain-128</a></strong> to <a href='https://wandb.ai/patcao/LOO-test' target=\"_blank\">Weights & Biases</a> (<a href='https://wandb.me/run' target=\"_blank\">docs</a>)<br/>"
      ],
      "text/plain": [
       "<IPython.core.display.HTML object>"
      ]
     },
     "metadata": {},
     "output_type": "display_data"
    },
    {
     "data": {
      "text/html": [
       " View project at <a href='https://wandb.ai/patcao/LOO-test' target=\"_blank\">https://wandb.ai/patcao/LOO-test</a>"
      ],
      "text/plain": [
       "<IPython.core.display.HTML object>"
      ]
     },
     "metadata": {},
     "output_type": "display_data"
    },
    {
     "data": {
      "text/html": [
       " View run at <a href='https://wandb.ai/patcao/LOO-test/runs/6arxkc0v' target=\"_blank\">https://wandb.ai/patcao/LOO-test/runs/6arxkc0v</a>"
      ],
      "text/plain": [
       "<IPython.core.display.HTML object>"
      ]
     },
     "metadata": {},
     "output_type": "display_data"
    },
    {
     "name": "stderr",
     "output_type": "stream",
     "text": [
      "100%|████████████████████████████████████████████████████████████████████████████████████████████████████████████████████| 63/63 [00:06<00:00,  9.22batch/s]\n",
      "100%|████████████████████████████████████████████████████████████████████████████████████████████████████████████████████| 63/63 [00:06<00:00,  9.62batch/s]\n",
      "100%|████████████████████████████████████████████████████████████████████████████████████████████████████████████████████| 63/63 [00:06<00:00,  9.50batch/s]\n",
      "100%|████████████████████████████████████████████████████████████████████████████████████████████████████████████████████| 63/63 [00:06<00:00,  9.62batch/s]\n",
      "100%|████████████████████████████████████████████████████████████████████████████████████████████████████████████████████| 63/63 [00:06<00:00,  9.57batch/s]\n",
      "100%|████████████████████████████████████████████████████████████████████████████████████████████████████████████████████| 63/63 [00:06<00:00,  9.40batch/s]\n",
      "100%|████████████████████████████████████████████████████████████████████████████████████████████████████████████████████| 63/63 [00:06<00:00,  9.38batch/s]\n",
      "100%|████████████████████████████████████████████████████████████████████████████████████████████████████████████████████| 63/63 [00:06<00:00,  9.24batch/s]\n",
      "100%|████████████████████████████████████████████████████████████████████████████████████████████████████████████████████| 63/63 [00:06<00:00,  9.18batch/s]\n",
      "100%|████████████████████████████████████████████████████████████████████████████████████████████████████████████████████| 63/63 [00:06<00:00,  9.22batch/s]\n"
     ]
    },
    {
     "data": {
      "text/html": [
       "Waiting for W&B process to finish... <strong style=\"color:green\">(success).</strong>"
      ],
      "text/plain": [
       "<IPython.core.display.HTML object>"
      ]
     },
     "metadata": {},
     "output_type": "display_data"
    },
    {
     "data": {
      "text/html": [
       "<style>\n",
       "    table.wandb td:nth-child(1) { padding: 0 10px; text-align: left ; width: auto;} td:nth-child(2) {text-align: left ; width: 100%}\n",
       "    .wandb-row { display: flex; flex-direction: row; flex-wrap: wrap; justify-content: flex-start; width: 100% }\n",
       "    .wandb-col { display: flex; flex-direction: column; flex-basis: 100%; flex: 1; padding: 10px; }\n",
       "    </style>\n",
       "<div class=\"wandb-row\"><div class=\"wandb-col\"><h3>Run history:</h3><br/><table class=\"wandb\"><tr><td>epoch</td><td>▁▂▃▃▄▅▆▆▇█</td></tr><tr><td>train/accuracy</td><td>▁▆▇▇█▇▇███</td></tr><tr><td>train/batch_loss</td><td>█▇█▆▅▄▄▄▆▃▆▃▅▂▃▇▃▇▇▄▂▃▄▅▄▃▃▂▃▃▄▅▂▁▃▃▂▁▄▃</td></tr><tr><td>train/loss</td><td>█▅▃▂▂▂▁▁▁▁</td></tr></table><br/></div><div class=\"wandb-col\"><h3>Run summary:</h3><br/><table class=\"wandb\"><tr><td>epoch</td><td>10</td></tr><tr><td>test/accuracy</td><td>81.42202</td></tr><tr><td>test/loss</td><td>0.41253</td></tr><tr><td>train/accuracy</td><td>86.90476</td></tr><tr><td>train/batch_loss</td><td>0.05864</td></tr><tr><td>train/loss</td><td>0.31616</td></tr></table><br/></div></div>"
      ],
      "text/plain": [
       "<IPython.core.display.HTML object>"
      ]
     },
     "metadata": {},
     "output_type": "display_data"
    },
    {
     "data": {
      "text/html": [
       " View run <strong style=\"color:#cdcd00\">faithful-mountain-128</strong> at: <a href='https://wandb.ai/patcao/LOO-test/runs/6arxkc0v' target=\"_blank\">https://wandb.ai/patcao/LOO-test/runs/6arxkc0v</a><br/>Synced 6 W&B file(s), 0 media file(s), 0 artifact file(s) and 0 other file(s)"
      ],
      "text/plain": [
       "<IPython.core.display.HTML object>"
      ]
     },
     "metadata": {},
     "output_type": "display_data"
    },
    {
     "data": {
      "text/html": [
       "Find logs at: <code>./wandb/run-20230503_151349-6arxkc0v/logs</code>"
      ],
      "text/plain": [
       "<IPython.core.display.HTML object>"
      ]
     },
     "metadata": {},
     "output_type": "display_data"
    },
    {
     "name": "stderr",
     "output_type": "stream",
     "text": [
      "Some weights of the model checkpoint at distilbert-base-uncased were not used when initializing DistilBertModel: ['vocab_layer_norm.weight', 'vocab_transform.bias', 'vocab_transform.weight', 'vocab_projector.weight', 'vocab_projector.bias', 'vocab_layer_norm.bias']\n",
      "- This IS expected if you are initializing DistilBertModel from the checkpoint of a model trained on another task or with another architecture (e.g. initializing a BertForSequenceClassification model from a BertForPreTraining model).\n",
      "- This IS NOT expected if you are initializing DistilBertModel from the checkpoint of a model that you expect to be exactly identical (initializing a BertForSequenceClassification model from a BertForSequenceClassification model).\n"
     ]
    },
    {
     "data": {
      "text/html": [
       "Changes to your `wandb` environment variables will be ignored because your `wandb` session has already started. For more information on how to modify your settings with `wandb.init()` arguments, please refer to <a href='https://wandb.me/wandb-init' target=\"_blank\">the W&B docs</a>."
      ],
      "text/plain": [
       "<IPython.core.display.HTML object>"
      ]
     },
     "metadata": {},
     "output_type": "display_data"
    },
    {
     "data": {
      "text/html": [
       "wandb version 0.15.1 is available!  To upgrade, please run:\n",
       " $ pip install wandb --upgrade"
      ],
      "text/plain": [
       "<IPython.core.display.HTML object>"
      ]
     },
     "metadata": {},
     "output_type": "display_data"
    },
    {
     "data": {
      "text/html": [
       "Tracking run with wandb version 0.15.0"
      ],
      "text/plain": [
       "<IPython.core.display.HTML object>"
      ]
     },
     "metadata": {},
     "output_type": "display_data"
    },
    {
     "data": {
      "text/html": [
       "Run data is saved locally in <code>/home/pcao/sentiment-influence-function/wandb/run-20230503_151530-kjjteyzp</code>"
      ],
      "text/plain": [
       "<IPython.core.display.HTML object>"
      ]
     },
     "metadata": {},
     "output_type": "display_data"
    },
    {
     "data": {
      "text/html": [
       "Syncing run <strong><a href='https://wandb.ai/patcao/LOO-test/runs/kjjteyzp' target=\"_blank\">serene-silence-129</a></strong> to <a href='https://wandb.ai/patcao/LOO-test' target=\"_blank\">Weights & Biases</a> (<a href='https://wandb.me/run' target=\"_blank\">docs</a>)<br/>"
      ],
      "text/plain": [
       "<IPython.core.display.HTML object>"
      ]
     },
     "metadata": {},
     "output_type": "display_data"
    },
    {
     "data": {
      "text/html": [
       " View project at <a href='https://wandb.ai/patcao/LOO-test' target=\"_blank\">https://wandb.ai/patcao/LOO-test</a>"
      ],
      "text/plain": [
       "<IPython.core.display.HTML object>"
      ]
     },
     "metadata": {},
     "output_type": "display_data"
    },
    {
     "data": {
      "text/html": [
       " View run at <a href='https://wandb.ai/patcao/LOO-test/runs/kjjteyzp' target=\"_blank\">https://wandb.ai/patcao/LOO-test/runs/kjjteyzp</a>"
      ],
      "text/plain": [
       "<IPython.core.display.HTML object>"
      ]
     },
     "metadata": {},
     "output_type": "display_data"
    },
    {
     "name": "stderr",
     "output_type": "stream",
     "text": [
      "100%|████████████████████████████████████████████████████████████████████████████████████████████████████████████████████| 63/63 [00:06<00:00,  9.79batch/s]\n",
      "100%|████████████████████████████████████████████████████████████████████████████████████████████████████████████████████| 63/63 [00:06<00:00,  9.86batch/s]\n",
      "100%|████████████████████████████████████████████████████████████████████████████████████████████████████████████████████| 63/63 [00:06<00:00,  9.85batch/s]\n",
      "100%|████████████████████████████████████████████████████████████████████████████████████████████████████████████████████| 63/63 [00:06<00:00,  9.73batch/s]\n",
      "100%|████████████████████████████████████████████████████████████████████████████████████████████████████████████████████| 63/63 [00:06<00:00,  9.45batch/s]\n",
      "100%|████████████████████████████████████████████████████████████████████████████████████████████████████████████████████| 63/63 [00:06<00:00,  9.74batch/s]\n",
      "100%|████████████████████████████████████████████████████████████████████████████████████████████████████████████████████| 63/63 [00:06<00:00,  9.72batch/s]\n",
      "100%|████████████████████████████████████████████████████████████████████████████████████████████████████████████████████| 63/63 [00:07<00:00,  8.84batch/s]\n",
      "100%|████████████████████████████████████████████████████████████████████████████████████████████████████████████████████| 63/63 [00:06<00:00,  9.27batch/s]\n",
      "100%|████████████████████████████████████████████████████████████████████████████████████████████████████████████████████| 63/63 [00:06<00:00,  9.45batch/s]\n"
     ]
    },
    {
     "data": {
      "text/html": [
       "Waiting for W&B process to finish... <strong style=\"color:green\">(success).</strong>"
      ],
      "text/plain": [
       "<IPython.core.display.HTML object>"
      ]
     },
     "metadata": {},
     "output_type": "display_data"
    },
    {
     "data": {
      "application/vnd.jupyter.widget-view+json": {
       "model_id": "eb79f1a3a438460db944745fe0db5628",
       "version_major": 2,
       "version_minor": 0
      },
      "text/plain": [
       "VBox(children=(Label(value='0.003 MB of 0.003 MB uploaded (0.000 MB deduped)\\r'), FloatProgress(value=1.0, max…"
      ]
     },
     "metadata": {},
     "output_type": "display_data"
    },
    {
     "data": {
      "text/html": [
       "<style>\n",
       "    table.wandb td:nth-child(1) { padding: 0 10px; text-align: left ; width: auto;} td:nth-child(2) {text-align: left ; width: 100%}\n",
       "    .wandb-row { display: flex; flex-direction: row; flex-wrap: wrap; justify-content: flex-start; width: 100% }\n",
       "    .wandb-col { display: flex; flex-direction: column; flex-basis: 100%; flex: 1; padding: 10px; }\n",
       "    </style>\n",
       "<div class=\"wandb-row\"><div class=\"wandb-col\"><h3>Run history:</h3><br/><table class=\"wandb\"><tr><td>epoch</td><td>▁▂▃▃▄▅▆▆▇█</td></tr><tr><td>train/accuracy</td><td>▁▆▇▇█▇████</td></tr><tr><td>train/batch_loss</td><td>█▇█▆▅▄▄▄▆▃▆▃▅▂▃▇▃▇▇▄▂▃▄▅▄▃▃▂▃▃▄▅▂▁▃▃▂▁▄▃</td></tr><tr><td>train/loss</td><td>█▅▃▂▂▂▁▁▁▁</td></tr></table><br/></div><div class=\"wandb-col\"><h3>Run summary:</h3><br/><table class=\"wandb\"><tr><td>epoch</td><td>10</td></tr><tr><td>test/accuracy</td><td>81.19266</td></tr><tr><td>test/loss</td><td>0.41348</td></tr><tr><td>train/accuracy</td><td>87.00397</td></tr><tr><td>train/batch_loss</td><td>0.05857</td></tr><tr><td>train/loss</td><td>0.31641</td></tr></table><br/></div></div>"
      ],
      "text/plain": [
       "<IPython.core.display.HTML object>"
      ]
     },
     "metadata": {},
     "output_type": "display_data"
    },
    {
     "data": {
      "text/html": [
       " View run <strong style=\"color:#cdcd00\">serene-silence-129</strong> at: <a href='https://wandb.ai/patcao/LOO-test/runs/kjjteyzp' target=\"_blank\">https://wandb.ai/patcao/LOO-test/runs/kjjteyzp</a><br/>Synced 6 W&B file(s), 0 media file(s), 0 artifact file(s) and 0 other file(s)"
      ],
      "text/plain": [
       "<IPython.core.display.HTML object>"
      ]
     },
     "metadata": {},
     "output_type": "display_data"
    },
    {
     "data": {
      "text/html": [
       "Find logs at: <code>./wandb/run-20230503_151530-kjjteyzp/logs</code>"
      ],
      "text/plain": [
       "<IPython.core.display.HTML object>"
      ]
     },
     "metadata": {},
     "output_type": "display_data"
    },
    {
     "name": "stderr",
     "output_type": "stream",
     "text": [
      "Some weights of the model checkpoint at distilbert-base-uncased were not used when initializing DistilBertModel: ['vocab_layer_norm.weight', 'vocab_transform.bias', 'vocab_transform.weight', 'vocab_projector.weight', 'vocab_projector.bias', 'vocab_layer_norm.bias']\n",
      "- This IS expected if you are initializing DistilBertModel from the checkpoint of a model trained on another task or with another architecture (e.g. initializing a BertForSequenceClassification model from a BertForPreTraining model).\n",
      "- This IS NOT expected if you are initializing DistilBertModel from the checkpoint of a model that you expect to be exactly identical (initializing a BertForSequenceClassification model from a BertForSequenceClassification model).\n"
     ]
    },
    {
     "data": {
      "text/html": [
       "Changes to your `wandb` environment variables will be ignored because your `wandb` session has already started. For more information on how to modify your settings with `wandb.init()` arguments, please refer to <a href='https://wandb.me/wandb-init' target=\"_blank\">the W&B docs</a>."
      ],
      "text/plain": [
       "<IPython.core.display.HTML object>"
      ]
     },
     "metadata": {},
     "output_type": "display_data"
    },
    {
     "data": {
      "text/html": [
       "wandb version 0.15.1 is available!  To upgrade, please run:\n",
       " $ pip install wandb --upgrade"
      ],
      "text/plain": [
       "<IPython.core.display.HTML object>"
      ]
     },
     "metadata": {},
     "output_type": "display_data"
    },
    {
     "data": {
      "text/html": [
       "Tracking run with wandb version 0.15.0"
      ],
      "text/plain": [
       "<IPython.core.display.HTML object>"
      ]
     },
     "metadata": {},
     "output_type": "display_data"
    },
    {
     "data": {
      "text/html": [
       "Run data is saved locally in <code>/home/pcao/sentiment-influence-function/wandb/run-20230503_151702-g0dyeljx</code>"
      ],
      "text/plain": [
       "<IPython.core.display.HTML object>"
      ]
     },
     "metadata": {},
     "output_type": "display_data"
    },
    {
     "data": {
      "text/html": [
       "Syncing run <strong><a href='https://wandb.ai/patcao/LOO-test/runs/g0dyeljx' target=\"_blank\">absurd-firebrand-130</a></strong> to <a href='https://wandb.ai/patcao/LOO-test' target=\"_blank\">Weights & Biases</a> (<a href='https://wandb.me/run' target=\"_blank\">docs</a>)<br/>"
      ],
      "text/plain": [
       "<IPython.core.display.HTML object>"
      ]
     },
     "metadata": {},
     "output_type": "display_data"
    },
    {
     "data": {
      "text/html": [
       " View project at <a href='https://wandb.ai/patcao/LOO-test' target=\"_blank\">https://wandb.ai/patcao/LOO-test</a>"
      ],
      "text/plain": [
       "<IPython.core.display.HTML object>"
      ]
     },
     "metadata": {},
     "output_type": "display_data"
    },
    {
     "data": {
      "text/html": [
       " View run at <a href='https://wandb.ai/patcao/LOO-test/runs/g0dyeljx' target=\"_blank\">https://wandb.ai/patcao/LOO-test/runs/g0dyeljx</a>"
      ],
      "text/plain": [
       "<IPython.core.display.HTML object>"
      ]
     },
     "metadata": {},
     "output_type": "display_data"
    },
    {
     "name": "stderr",
     "output_type": "stream",
     "text": [
      "100%|████████████████████████████████████████████████████████████████████████████████████████████████████████████████████| 63/63 [00:06<00:00,  9.11batch/s]\n",
      "100%|████████████████████████████████████████████████████████████████████████████████████████████████████████████████████| 63/63 [00:09<00:00,  6.86batch/s]\n",
      "100%|████████████████████████████████████████████████████████████████████████████████████████████████████████████████████| 63/63 [00:09<00:00,  6.87batch/s]\n",
      "100%|████████████████████████████████████████████████████████████████████████████████████████████████████████████████████| 63/63 [00:08<00:00,  7.11batch/s]\n",
      "100%|████████████████████████████████████████████████████████████████████████████████████████████████████████████████████| 63/63 [00:08<00:00,  7.13batch/s]\n",
      "100%|████████████████████████████████████████████████████████████████████████████████████████████████████████████████████| 63/63 [00:09<00:00,  6.94batch/s]\n",
      "100%|████████████████████████████████████████████████████████████████████████████████████████████████████████████████████| 63/63 [00:08<00:00,  7.13batch/s]\n",
      "100%|████████████████████████████████████████████████████████████████████████████████████████████████████████████████████| 63/63 [00:08<00:00,  7.16batch/s]\n",
      "100%|████████████████████████████████████████████████████████████████████████████████████████████████████████████████████| 63/63 [00:08<00:00,  7.14batch/s]\n",
      "100%|████████████████████████████████████████████████████████████████████████████████████████████████████████████████████| 63/63 [00:08<00:00,  7.09batch/s]\n"
     ]
    },
    {
     "data": {
      "text/html": [
       "Waiting for W&B process to finish... <strong style=\"color:green\">(success).</strong>"
      ],
      "text/plain": [
       "<IPython.core.display.HTML object>"
      ]
     },
     "metadata": {},
     "output_type": "display_data"
    },
    {
     "data": {
      "application/vnd.jupyter.widget-view+json": {
       "model_id": "b5b831bbc3c5479584abef5e68c19874",
       "version_major": 2,
       "version_minor": 0
      },
      "text/plain": [
       "VBox(children=(Label(value='0.003 MB of 0.003 MB uploaded (0.000 MB deduped)\\r'), FloatProgress(value=1.0, max…"
      ]
     },
     "metadata": {},
     "output_type": "display_data"
    },
    {
     "data": {
      "text/html": [
       "<style>\n",
       "    table.wandb td:nth-child(1) { padding: 0 10px; text-align: left ; width: auto;} td:nth-child(2) {text-align: left ; width: 100%}\n",
       "    .wandb-row { display: flex; flex-direction: row; flex-wrap: wrap; justify-content: flex-start; width: 100% }\n",
       "    .wandb-col { display: flex; flex-direction: column; flex-basis: 100%; flex: 1; padding: 10px; }\n",
       "    </style>\n",
       "<div class=\"wandb-row\"><div class=\"wandb-col\"><h3>Run history:</h3><br/><table class=\"wandb\"><tr><td>epoch</td><td>▁▂▃▃▄▅▆▆▇█</td></tr><tr><td>train/accuracy</td><td>▁▆▇▇█▇████</td></tr><tr><td>train/batch_loss</td><td>█▇█▆▅▄▄▄▆▃▆▃▅▂▃▇▃▇▇▄▂▃▄▅▄▃▃▂▃▃▄▅▂▁▃▃▂▁▄▃</td></tr><tr><td>train/loss</td><td>█▅▃▂▂▂▁▁▁▁</td></tr></table><br/></div><div class=\"wandb-col\"><h3>Run summary:</h3><br/><table class=\"wandb\"><tr><td>epoch</td><td>10</td></tr><tr><td>test/accuracy</td><td>81.19266</td></tr><tr><td>test/loss</td><td>0.41344</td></tr><tr><td>train/accuracy</td><td>87.00397</td></tr><tr><td>train/batch_loss</td><td>0.05868</td></tr><tr><td>train/loss</td><td>0.31629</td></tr></table><br/></div></div>"
      ],
      "text/plain": [
       "<IPython.core.display.HTML object>"
      ]
     },
     "metadata": {},
     "output_type": "display_data"
    },
    {
     "data": {
      "text/html": [
       " View run <strong style=\"color:#cdcd00\">absurd-firebrand-130</strong> at: <a href='https://wandb.ai/patcao/LOO-test/runs/g0dyeljx' target=\"_blank\">https://wandb.ai/patcao/LOO-test/runs/g0dyeljx</a><br/>Synced 6 W&B file(s), 0 media file(s), 0 artifact file(s) and 0 other file(s)"
      ],
      "text/plain": [
       "<IPython.core.display.HTML object>"
      ]
     },
     "metadata": {},
     "output_type": "display_data"
    },
    {
     "data": {
      "text/html": [
       "Find logs at: <code>./wandb/run-20230503_151702-g0dyeljx/logs</code>"
      ],
      "text/plain": [
       "<IPython.core.display.HTML object>"
      ]
     },
     "metadata": {},
     "output_type": "display_data"
    },
    {
     "name": "stderr",
     "output_type": "stream",
     "text": [
      "Some weights of the model checkpoint at distilbert-base-uncased were not used when initializing DistilBertModel: ['vocab_layer_norm.weight', 'vocab_transform.bias', 'vocab_transform.weight', 'vocab_projector.weight', 'vocab_projector.bias', 'vocab_layer_norm.bias']\n",
      "- This IS expected if you are initializing DistilBertModel from the checkpoint of a model trained on another task or with another architecture (e.g. initializing a BertForSequenceClassification model from a BertForPreTraining model).\n",
      "- This IS NOT expected if you are initializing DistilBertModel from the checkpoint of a model that you expect to be exactly identical (initializing a BertForSequenceClassification model from a BertForSequenceClassification model).\n"
     ]
    },
    {
     "data": {
      "text/html": [
       "Changes to your `wandb` environment variables will be ignored because your `wandb` session has already started. For more information on how to modify your settings with `wandb.init()` arguments, please refer to <a href='https://wandb.me/wandb-init' target=\"_blank\">the W&B docs</a>."
      ],
      "text/plain": [
       "<IPython.core.display.HTML object>"
      ]
     },
     "metadata": {},
     "output_type": "display_data"
    },
    {
     "data": {
      "text/html": [
       "wandb version 0.15.1 is available!  To upgrade, please run:\n",
       " $ pip install wandb --upgrade"
      ],
      "text/plain": [
       "<IPython.core.display.HTML object>"
      ]
     },
     "metadata": {},
     "output_type": "display_data"
    },
    {
     "data": {
      "text/html": [
       "Tracking run with wandb version 0.15.0"
      ],
      "text/plain": [
       "<IPython.core.display.HTML object>"
      ]
     },
     "metadata": {},
     "output_type": "display_data"
    },
    {
     "data": {
      "text/html": [
       "Run data is saved locally in <code>/home/pcao/sentiment-influence-function/wandb/run-20230503_151907-yv37jgwg</code>"
      ],
      "text/plain": [
       "<IPython.core.display.HTML object>"
      ]
     },
     "metadata": {},
     "output_type": "display_data"
    },
    {
     "data": {
      "text/html": [
       "Syncing run <strong><a href='https://wandb.ai/patcao/LOO-test/runs/yv37jgwg' target=\"_blank\">stellar-gorge-131</a></strong> to <a href='https://wandb.ai/patcao/LOO-test' target=\"_blank\">Weights & Biases</a> (<a href='https://wandb.me/run' target=\"_blank\">docs</a>)<br/>"
      ],
      "text/plain": [
       "<IPython.core.display.HTML object>"
      ]
     },
     "metadata": {},
     "output_type": "display_data"
    },
    {
     "data": {
      "text/html": [
       " View project at <a href='https://wandb.ai/patcao/LOO-test' target=\"_blank\">https://wandb.ai/patcao/LOO-test</a>"
      ],
      "text/plain": [
       "<IPython.core.display.HTML object>"
      ]
     },
     "metadata": {},
     "output_type": "display_data"
    },
    {
     "data": {
      "text/html": [
       " View run at <a href='https://wandb.ai/patcao/LOO-test/runs/yv37jgwg' target=\"_blank\">https://wandb.ai/patcao/LOO-test/runs/yv37jgwg</a>"
      ],
      "text/plain": [
       "<IPython.core.display.HTML object>"
      ]
     },
     "metadata": {},
     "output_type": "display_data"
    },
    {
     "name": "stderr",
     "output_type": "stream",
     "text": [
      "100%|████████████████████████████████████████████████████████████████████████████████████████████████████████████████████| 63/63 [00:09<00:00,  6.89batch/s]\n",
      "100%|████████████████████████████████████████████████████████████████████████████████████████████████████████████████████| 63/63 [00:09<00:00,  6.96batch/s]\n",
      "100%|████████████████████████████████████████████████████████████████████████████████████████████████████████████████████| 63/63 [00:08<00:00,  7.32batch/s]\n",
      "100%|████████████████████████████████████████████████████████████████████████████████████████████████████████████████████| 63/63 [00:10<00:00,  6.18batch/s]\n",
      "100%|████████████████████████████████████████████████████████████████████████████████████████████████████████████████████| 63/63 [00:10<00:00,  6.23batch/s]\n",
      "100%|████████████████████████████████████████████████████████████████████████████████████████████████████████████████████| 63/63 [00:09<00:00,  6.99batch/s]\n",
      "100%|████████████████████████████████████████████████████████████████████████████████████████████████████████████████████| 63/63 [00:09<00:00,  6.94batch/s]\n",
      "100%|████████████████████████████████████████████████████████████████████████████████████████████████████████████████████| 63/63 [00:09<00:00,  6.76batch/s]\n",
      "100%|████████████████████████████████████████████████████████████████████████████████████████████████████████████████████| 63/63 [00:09<00:00,  6.96batch/s]\n",
      "100%|████████████████████████████████████████████████████████████████████████████████████████████████████████████████████| 63/63 [00:09<00:00,  6.82batch/s]\n"
     ]
    },
    {
     "data": {
      "text/html": [
       "Waiting for W&B process to finish... <strong style=\"color:green\">(success).</strong>"
      ],
      "text/plain": [
       "<IPython.core.display.HTML object>"
      ]
     },
     "metadata": {},
     "output_type": "display_data"
    },
    {
     "data": {
      "application/vnd.jupyter.widget-view+json": {
       "model_id": "5b26070dd36c4cadaef402cb13cf8713",
       "version_major": 2,
       "version_minor": 0
      },
      "text/plain": [
       "VBox(children=(Label(value='0.003 MB of 0.003 MB uploaded (0.000 MB deduped)\\r'), FloatProgress(value=1.0, max…"
      ]
     },
     "metadata": {},
     "output_type": "display_data"
    },
    {
     "data": {
      "text/html": [
       "<style>\n",
       "    table.wandb td:nth-child(1) { padding: 0 10px; text-align: left ; width: auto;} td:nth-child(2) {text-align: left ; width: 100%}\n",
       "    .wandb-row { display: flex; flex-direction: row; flex-wrap: wrap; justify-content: flex-start; width: 100% }\n",
       "    .wandb-col { display: flex; flex-direction: column; flex-basis: 100%; flex: 1; padding: 10px; }\n",
       "    </style>\n",
       "<div class=\"wandb-row\"><div class=\"wandb-col\"><h3>Run history:</h3><br/><table class=\"wandb\"><tr><td>epoch</td><td>▁▂▃▃▄▅▆▆▇█</td></tr><tr><td>train/accuracy</td><td>▁▆▇▇▇▇████</td></tr><tr><td>train/batch_loss</td><td>█▇█▆▅▄▄▃▆▃▆▃▅▂▃▇▂▇█▄▂▃▄▄▄▃▃▂▃▃▄▅▂▁▃▃▂▁▄▃</td></tr><tr><td>train/loss</td><td>█▅▃▂▂▂▁▁▁▁</td></tr></table><br/></div><div class=\"wandb-col\"><h3>Run summary:</h3><br/><table class=\"wandb\"><tr><td>epoch</td><td>10</td></tr><tr><td>test/accuracy</td><td>81.30734</td></tr><tr><td>test/loss</td><td>0.41192</td></tr><tr><td>train/accuracy</td><td>87.30159</td></tr><tr><td>train/batch_loss</td><td>0.05965</td></tr><tr><td>train/loss</td><td>0.31542</td></tr></table><br/></div></div>"
      ],
      "text/plain": [
       "<IPython.core.display.HTML object>"
      ]
     },
     "metadata": {},
     "output_type": "display_data"
    },
    {
     "data": {
      "text/html": [
       " View run <strong style=\"color:#cdcd00\">stellar-gorge-131</strong> at: <a href='https://wandb.ai/patcao/LOO-test/runs/yv37jgwg' target=\"_blank\">https://wandb.ai/patcao/LOO-test/runs/yv37jgwg</a><br/>Synced 6 W&B file(s), 0 media file(s), 0 artifact file(s) and 0 other file(s)"
      ],
      "text/plain": [
       "<IPython.core.display.HTML object>"
      ]
     },
     "metadata": {},
     "output_type": "display_data"
    },
    {
     "data": {
      "text/html": [
       "Find logs at: <code>./wandb/run-20230503_151907-yv37jgwg/logs</code>"
      ],
      "text/plain": [
       "<IPython.core.display.HTML object>"
      ]
     },
     "metadata": {},
     "output_type": "display_data"
    },
    {
     "name": "stderr",
     "output_type": "stream",
     "text": [
      "Some weights of the model checkpoint at distilbert-base-uncased were not used when initializing DistilBertModel: ['vocab_layer_norm.weight', 'vocab_transform.bias', 'vocab_transform.weight', 'vocab_projector.weight', 'vocab_projector.bias', 'vocab_layer_norm.bias']\n",
      "- This IS expected if you are initializing DistilBertModel from the checkpoint of a model trained on another task or with another architecture (e.g. initializing a BertForSequenceClassification model from a BertForPreTraining model).\n",
      "- This IS NOT expected if you are initializing DistilBertModel from the checkpoint of a model that you expect to be exactly identical (initializing a BertForSequenceClassification model from a BertForSequenceClassification model).\n"
     ]
    },
    {
     "data": {
      "text/html": [
       "Changes to your `wandb` environment variables will be ignored because your `wandb` session has already started. For more information on how to modify your settings with `wandb.init()` arguments, please refer to <a href='https://wandb.me/wandb-init' target=\"_blank\">the W&B docs</a>."
      ],
      "text/plain": [
       "<IPython.core.display.HTML object>"
      ]
     },
     "metadata": {},
     "output_type": "display_data"
    },
    {
     "data": {
      "text/html": [
       "wandb version 0.15.1 is available!  To upgrade, please run:\n",
       " $ pip install wandb --upgrade"
      ],
      "text/plain": [
       "<IPython.core.display.HTML object>"
      ]
     },
     "metadata": {},
     "output_type": "display_data"
    },
    {
     "data": {
      "text/html": [
       "Tracking run with wandb version 0.15.0"
      ],
      "text/plain": [
       "<IPython.core.display.HTML object>"
      ]
     },
     "metadata": {},
     "output_type": "display_data"
    },
    {
     "data": {
      "text/html": [
       "Run data is saved locally in <code>/home/pcao/sentiment-influence-function/wandb/run-20230503_152118-jksea9nr</code>"
      ],
      "text/plain": [
       "<IPython.core.display.HTML object>"
      ]
     },
     "metadata": {},
     "output_type": "display_data"
    },
    {
     "data": {
      "text/html": [
       "Syncing run <strong><a href='https://wandb.ai/patcao/LOO-test/runs/jksea9nr' target=\"_blank\">elated-butterfly-132</a></strong> to <a href='https://wandb.ai/patcao/LOO-test' target=\"_blank\">Weights & Biases</a> (<a href='https://wandb.me/run' target=\"_blank\">docs</a>)<br/>"
      ],
      "text/plain": [
       "<IPython.core.display.HTML object>"
      ]
     },
     "metadata": {},
     "output_type": "display_data"
    },
    {
     "data": {
      "text/html": [
       " View project at <a href='https://wandb.ai/patcao/LOO-test' target=\"_blank\">https://wandb.ai/patcao/LOO-test</a>"
      ],
      "text/plain": [
       "<IPython.core.display.HTML object>"
      ]
     },
     "metadata": {},
     "output_type": "display_data"
    },
    {
     "data": {
      "text/html": [
       " View run at <a href='https://wandb.ai/patcao/LOO-test/runs/jksea9nr' target=\"_blank\">https://wandb.ai/patcao/LOO-test/runs/jksea9nr</a>"
      ],
      "text/plain": [
       "<IPython.core.display.HTML object>"
      ]
     },
     "metadata": {},
     "output_type": "display_data"
    },
    {
     "name": "stderr",
     "output_type": "stream",
     "text": [
      "100%|████████████████████████████████████████████████████████████████████████████████████████████████████████████████████| 63/63 [00:09<00:00,  6.88batch/s]\n",
      "100%|████████████████████████████████████████████████████████████████████████████████████████████████████████████████████| 63/63 [00:08<00:00,  7.12batch/s]\n",
      "100%|████████████████████████████████████████████████████████████████████████████████████████████████████████████████████| 63/63 [00:09<00:00,  6.72batch/s]\n",
      "100%|████████████████████████████████████████████████████████████████████████████████████████████████████████████████████| 63/63 [00:08<00:00,  7.02batch/s]\n",
      "100%|████████████████████████████████████████████████████████████████████████████████████████████████████████████████████| 63/63 [00:09<00:00,  6.84batch/s]\n",
      "100%|████████████████████████████████████████████████████████████████████████████████████████████████████████████████████| 63/63 [00:09<00:00,  6.95batch/s]\n",
      "100%|████████████████████████████████████████████████████████████████████████████████████████████████████████████████████| 63/63 [00:09<00:00,  6.95batch/s]\n",
      "100%|████████████████████████████████████████████████████████████████████████████████████████████████████████████████████| 63/63 [00:08<00:00,  7.12batch/s]\n",
      "100%|████████████████████████████████████████████████████████████████████████████████████████████████████████████████████| 63/63 [00:09<00:00,  6.94batch/s]\n",
      "100%|████████████████████████████████████████████████████████████████████████████████████████████████████████████████████| 63/63 [00:09<00:00,  6.90batch/s]\n"
     ]
    },
    {
     "data": {
      "text/html": [
       "Waiting for W&B process to finish... <strong style=\"color:green\">(success).</strong>"
      ],
      "text/plain": [
       "<IPython.core.display.HTML object>"
      ]
     },
     "metadata": {},
     "output_type": "display_data"
    },
    {
     "data": {
      "application/vnd.jupyter.widget-view+json": {
       "model_id": "6427737c47394915bcefa48038894afb",
       "version_major": 2,
       "version_minor": 0
      },
      "text/plain": [
       "VBox(children=(Label(value='0.003 MB of 0.006 MB uploaded (0.000 MB deduped)\\r'), FloatProgress(value=0.420088…"
      ]
     },
     "metadata": {},
     "output_type": "display_data"
    },
    {
     "data": {
      "text/html": [
       "<style>\n",
       "    table.wandb td:nth-child(1) { padding: 0 10px; text-align: left ; width: auto;} td:nth-child(2) {text-align: left ; width: 100%}\n",
       "    .wandb-row { display: flex; flex-direction: row; flex-wrap: wrap; justify-content: flex-start; width: 100% }\n",
       "    .wandb-col { display: flex; flex-direction: column; flex-basis: 100%; flex: 1; padding: 10px; }\n",
       "    </style>\n",
       "<div class=\"wandb-row\"><div class=\"wandb-col\"><h3>Run history:</h3><br/><table class=\"wandb\"><tr><td>epoch</td><td>▁▂▃▃▄▅▆▆▇█</td></tr><tr><td>train/accuracy</td><td>▁▆▇▇█▇████</td></tr><tr><td>train/batch_loss</td><td>█▇█▆▅▄▄▃▆▃▆▃▅▂▃▇▂▇█▄▂▃▄▄▄▃▃▂▃▃▄▅▂▁▃▃▂▁▄▃</td></tr><tr><td>train/loss</td><td>█▅▃▂▂▂▁▁▁▁</td></tr></table><br/></div><div class=\"wandb-col\"><h3>Run summary:</h3><br/><table class=\"wandb\"><tr><td>epoch</td><td>10</td></tr><tr><td>test/accuracy</td><td>81.5367</td></tr><tr><td>test/loss</td><td>0.41234</td></tr><tr><td>train/accuracy</td><td>87.20238</td></tr><tr><td>train/batch_loss</td><td>0.05917</td></tr><tr><td>train/loss</td><td>0.3163</td></tr></table><br/></div></div>"
      ],
      "text/plain": [
       "<IPython.core.display.HTML object>"
      ]
     },
     "metadata": {},
     "output_type": "display_data"
    },
    {
     "data": {
      "text/html": [
       " View run <strong style=\"color:#cdcd00\">elated-butterfly-132</strong> at: <a href='https://wandb.ai/patcao/LOO-test/runs/jksea9nr' target=\"_blank\">https://wandb.ai/patcao/LOO-test/runs/jksea9nr</a><br/>Synced 6 W&B file(s), 0 media file(s), 0 artifact file(s) and 0 other file(s)"
      ],
      "text/plain": [
       "<IPython.core.display.HTML object>"
      ]
     },
     "metadata": {},
     "output_type": "display_data"
    },
    {
     "data": {
      "text/html": [
       "Find logs at: <code>./wandb/run-20230503_152118-jksea9nr/logs</code>"
      ],
      "text/plain": [
       "<IPython.core.display.HTML object>"
      ]
     },
     "metadata": {},
     "output_type": "display_data"
    },
    {
     "name": "stderr",
     "output_type": "stream",
     "text": [
      "Some weights of the model checkpoint at distilbert-base-uncased were not used when initializing DistilBertModel: ['vocab_layer_norm.weight', 'vocab_transform.bias', 'vocab_transform.weight', 'vocab_projector.weight', 'vocab_projector.bias', 'vocab_layer_norm.bias']\n",
      "- This IS expected if you are initializing DistilBertModel from the checkpoint of a model trained on another task or with another architecture (e.g. initializing a BertForSequenceClassification model from a BertForPreTraining model).\n",
      "- This IS NOT expected if you are initializing DistilBertModel from the checkpoint of a model that you expect to be exactly identical (initializing a BertForSequenceClassification model from a BertForSequenceClassification model).\n"
     ]
    },
    {
     "data": {
      "text/html": [
       "Changes to your `wandb` environment variables will be ignored because your `wandb` session has already started. For more information on how to modify your settings with `wandb.init()` arguments, please refer to <a href='https://wandb.me/wandb-init' target=\"_blank\">the W&B docs</a>."
      ],
      "text/plain": [
       "<IPython.core.display.HTML object>"
      ]
     },
     "metadata": {},
     "output_type": "display_data"
    },
    {
     "data": {
      "text/html": [
       "wandb version 0.15.1 is available!  To upgrade, please run:\n",
       " $ pip install wandb --upgrade"
      ],
      "text/plain": [
       "<IPython.core.display.HTML object>"
      ]
     },
     "metadata": {},
     "output_type": "display_data"
    },
    {
     "data": {
      "text/html": [
       "Tracking run with wandb version 0.15.0"
      ],
      "text/plain": [
       "<IPython.core.display.HTML object>"
      ]
     },
     "metadata": {},
     "output_type": "display_data"
    },
    {
     "data": {
      "text/html": [
       "Run data is saved locally in <code>/home/pcao/sentiment-influence-function/wandb/run-20230503_152324-nr6auk9l</code>"
      ],
      "text/plain": [
       "<IPython.core.display.HTML object>"
      ]
     },
     "metadata": {},
     "output_type": "display_data"
    },
    {
     "data": {
      "text/html": [
       "Syncing run <strong><a href='https://wandb.ai/patcao/LOO-test/runs/nr6auk9l' target=\"_blank\">misunderstood-forest-133</a></strong> to <a href='https://wandb.ai/patcao/LOO-test' target=\"_blank\">Weights & Biases</a> (<a href='https://wandb.me/run' target=\"_blank\">docs</a>)<br/>"
      ],
      "text/plain": [
       "<IPython.core.display.HTML object>"
      ]
     },
     "metadata": {},
     "output_type": "display_data"
    },
    {
     "data": {
      "text/html": [
       " View project at <a href='https://wandb.ai/patcao/LOO-test' target=\"_blank\">https://wandb.ai/patcao/LOO-test</a>"
      ],
      "text/plain": [
       "<IPython.core.display.HTML object>"
      ]
     },
     "metadata": {},
     "output_type": "display_data"
    },
    {
     "data": {
      "text/html": [
       " View run at <a href='https://wandb.ai/patcao/LOO-test/runs/nr6auk9l' target=\"_blank\">https://wandb.ai/patcao/LOO-test/runs/nr6auk9l</a>"
      ],
      "text/plain": [
       "<IPython.core.display.HTML object>"
      ]
     },
     "metadata": {},
     "output_type": "display_data"
    },
    {
     "name": "stderr",
     "output_type": "stream",
     "text": [
      "100%|████████████████████████████████████████████████████████████████████████████████████████████████████████████████████| 63/63 [00:09<00:00,  6.94batch/s]\n",
      "100%|████████████████████████████████████████████████████████████████████████████████████████████████████████████████████| 63/63 [00:08<00:00,  7.03batch/s]\n",
      "100%|████████████████████████████████████████████████████████████████████████████████████████████████████████████████████| 63/63 [00:08<00:00,  7.19batch/s]\n",
      "100%|████████████████████████████████████████████████████████████████████████████████████████████████████████████████████| 63/63 [00:08<00:00,  7.07batch/s]\n",
      "100%|████████████████████████████████████████████████████████████████████████████████████████████████████████████████████| 63/63 [00:09<00:00,  6.98batch/s]\n",
      "100%|████████████████████████████████████████████████████████████████████████████████████████████████████████████████████| 63/63 [00:08<00:00,  7.02batch/s]\n",
      "100%|████████████████████████████████████████████████████████████████████████████████████████████████████████████████████| 63/63 [00:08<00:00,  7.08batch/s]\n",
      "100%|████████████████████████████████████████████████████████████████████████████████████████████████████████████████████| 63/63 [00:09<00:00,  6.91batch/s]\n",
      "100%|████████████████████████████████████████████████████████████████████████████████████████████████████████████████████| 63/63 [00:09<00:00,  6.81batch/s]\n",
      "100%|████████████████████████████████████████████████████████████████████████████████████████████████████████████████████| 63/63 [00:09<00:00,  6.92batch/s]\n"
     ]
    },
    {
     "data": {
      "text/html": [
       "Waiting for W&B process to finish... <strong style=\"color:green\">(success).</strong>"
      ],
      "text/plain": [
       "<IPython.core.display.HTML object>"
      ]
     },
     "metadata": {},
     "output_type": "display_data"
    },
    {
     "data": {
      "application/vnd.jupyter.widget-view+json": {
       "model_id": "25a913e639684a7f98aa65b188f4fdf6",
       "version_major": 2,
       "version_minor": 0
      },
      "text/plain": [
       "VBox(children=(Label(value='0.003 MB of 0.003 MB uploaded (0.000 MB deduped)\\r'), FloatProgress(value=1.0, max…"
      ]
     },
     "metadata": {},
     "output_type": "display_data"
    },
    {
     "data": {
      "text/html": [
       "<style>\n",
       "    table.wandb td:nth-child(1) { padding: 0 10px; text-align: left ; width: auto;} td:nth-child(2) {text-align: left ; width: 100%}\n",
       "    .wandb-row { display: flex; flex-direction: row; flex-wrap: wrap; justify-content: flex-start; width: 100% }\n",
       "    .wandb-col { display: flex; flex-direction: column; flex-basis: 100%; flex: 1; padding: 10px; }\n",
       "    </style>\n",
       "<div class=\"wandb-row\"><div class=\"wandb-col\"><h3>Run history:</h3><br/><table class=\"wandb\"><tr><td>epoch</td><td>▁▂▃▃▄▅▆▆▇█</td></tr><tr><td>train/accuracy</td><td>▁▆▇▇█▇▇███</td></tr><tr><td>train/batch_loss</td><td>█▇█▆▅▄▄▄▆▃▆▃▅▂▃▇▃▇▇▄▂▃▄▅▄▃▃▂▃▃▄▅▂▁▃▃▂▁▄▃</td></tr><tr><td>train/loss</td><td>█▅▃▂▂▂▁▁▁▁</td></tr></table><br/></div><div class=\"wandb-col\"><h3>Run summary:</h3><br/><table class=\"wandb\"><tr><td>epoch</td><td>10</td></tr><tr><td>test/accuracy</td><td>81.42202</td></tr><tr><td>test/loss</td><td>0.41253</td></tr><tr><td>train/accuracy</td><td>86.90476</td></tr><tr><td>train/batch_loss</td><td>0.05864</td></tr><tr><td>train/loss</td><td>0.31616</td></tr></table><br/></div></div>"
      ],
      "text/plain": [
       "<IPython.core.display.HTML object>"
      ]
     },
     "metadata": {},
     "output_type": "display_data"
    },
    {
     "data": {
      "text/html": [
       " View run <strong style=\"color:#cdcd00\">misunderstood-forest-133</strong> at: <a href='https://wandb.ai/patcao/LOO-test/runs/nr6auk9l' target=\"_blank\">https://wandb.ai/patcao/LOO-test/runs/nr6auk9l</a><br/>Synced 6 W&B file(s), 0 media file(s), 0 artifact file(s) and 0 other file(s)"
      ],
      "text/plain": [
       "<IPython.core.display.HTML object>"
      ]
     },
     "metadata": {},
     "output_type": "display_data"
    },
    {
     "data": {
      "text/html": [
       "Find logs at: <code>./wandb/run-20230503_152324-nr6auk9l/logs</code>"
      ],
      "text/plain": [
       "<IPython.core.display.HTML object>"
      ]
     },
     "metadata": {},
     "output_type": "display_data"
    },
    {
     "name": "stderr",
     "output_type": "stream",
     "text": [
      "Some weights of the model checkpoint at distilbert-base-uncased were not used when initializing DistilBertModel: ['vocab_layer_norm.weight', 'vocab_transform.bias', 'vocab_transform.weight', 'vocab_projector.weight', 'vocab_projector.bias', 'vocab_layer_norm.bias']\n",
      "- This IS expected if you are initializing DistilBertModel from the checkpoint of a model trained on another task or with another architecture (e.g. initializing a BertForSequenceClassification model from a BertForPreTraining model).\n",
      "- This IS NOT expected if you are initializing DistilBertModel from the checkpoint of a model that you expect to be exactly identical (initializing a BertForSequenceClassification model from a BertForSequenceClassification model).\n"
     ]
    },
    {
     "data": {
      "text/html": [
       "Changes to your `wandb` environment variables will be ignored because your `wandb` session has already started. For more information on how to modify your settings with `wandb.init()` arguments, please refer to <a href='https://wandb.me/wandb-init' target=\"_blank\">the W&B docs</a>."
      ],
      "text/plain": [
       "<IPython.core.display.HTML object>"
      ]
     },
     "metadata": {},
     "output_type": "display_data"
    },
    {
     "data": {
      "text/html": [
       "wandb version 0.15.1 is available!  To upgrade, please run:\n",
       " $ pip install wandb --upgrade"
      ],
      "text/plain": [
       "<IPython.core.display.HTML object>"
      ]
     },
     "metadata": {},
     "output_type": "display_data"
    },
    {
     "data": {
      "text/html": [
       "Tracking run with wandb version 0.15.0"
      ],
      "text/plain": [
       "<IPython.core.display.HTML object>"
      ]
     },
     "metadata": {},
     "output_type": "display_data"
    },
    {
     "data": {
      "text/html": [
       "Run data is saved locally in <code>/home/pcao/sentiment-influence-function/wandb/run-20230503_152533-7y9qxs0i</code>"
      ],
      "text/plain": [
       "<IPython.core.display.HTML object>"
      ]
     },
     "metadata": {},
     "output_type": "display_data"
    },
    {
     "data": {
      "text/html": [
       "Syncing run <strong><a href='https://wandb.ai/patcao/LOO-test/runs/7y9qxs0i' target=\"_blank\">major-music-134</a></strong> to <a href='https://wandb.ai/patcao/LOO-test' target=\"_blank\">Weights & Biases</a> (<a href='https://wandb.me/run' target=\"_blank\">docs</a>)<br/>"
      ],
      "text/plain": [
       "<IPython.core.display.HTML object>"
      ]
     },
     "metadata": {},
     "output_type": "display_data"
    },
    {
     "data": {
      "text/html": [
       " View project at <a href='https://wandb.ai/patcao/LOO-test' target=\"_blank\">https://wandb.ai/patcao/LOO-test</a>"
      ],
      "text/plain": [
       "<IPython.core.display.HTML object>"
      ]
     },
     "metadata": {},
     "output_type": "display_data"
    },
    {
     "data": {
      "text/html": [
       " View run at <a href='https://wandb.ai/patcao/LOO-test/runs/7y9qxs0i' target=\"_blank\">https://wandb.ai/patcao/LOO-test/runs/7y9qxs0i</a>"
      ],
      "text/plain": [
       "<IPython.core.display.HTML object>"
      ]
     },
     "metadata": {},
     "output_type": "display_data"
    },
    {
     "name": "stderr",
     "output_type": "stream",
     "text": [
      "100%|████████████████████████████████████████████████████████████████████████████████████████████████████████████████████| 63/63 [00:10<00:00,  6.18batch/s]\n",
      "100%|████████████████████████████████████████████████████████████████████████████████████████████████████████████████████| 63/63 [00:10<00:00,  6.01batch/s]\n",
      "100%|████████████████████████████████████████████████████████████████████████████████████████████████████████████████████| 63/63 [00:10<00:00,  6.24batch/s]\n",
      "100%|████████████████████████████████████████████████████████████████████████████████████████████████████████████████████| 63/63 [00:09<00:00,  6.58batch/s]\n",
      "100%|████████████████████████████████████████████████████████████████████████████████████████████████████████████████████| 63/63 [00:09<00:00,  6.33batch/s]\n",
      "100%|████████████████████████████████████████████████████████████████████████████████████████████████████████████████████| 63/63 [00:10<00:00,  5.97batch/s]\n",
      "100%|████████████████████████████████████████████████████████████████████████████████████████████████████████████████████| 63/63 [00:09<00:00,  6.44batch/s]\n",
      "100%|████████████████████████████████████████████████████████████████████████████████████████████████████████████████████| 63/63 [00:09<00:00,  6.48batch/s]\n",
      "100%|████████████████████████████████████████████████████████████████████████████████████████████████████████████████████| 63/63 [00:10<00:00,  6.03batch/s]\n",
      "100%|████████████████████████████████████████████████████████████████████████████████████████████████████████████████████| 63/63 [00:10<00:00,  6.05batch/s]\n"
     ]
    },
    {
     "data": {
      "text/html": [
       "Waiting for W&B process to finish... <strong style=\"color:green\">(success).</strong>"
      ],
      "text/plain": [
       "<IPython.core.display.HTML object>"
      ]
     },
     "metadata": {},
     "output_type": "display_data"
    },
    {
     "data": {
      "application/vnd.jupyter.widget-view+json": {
       "model_id": "a29678204c114ceb80d111a2c047f9d0",
       "version_major": 2,
       "version_minor": 0
      },
      "text/plain": [
       "VBox(children=(Label(value='0.003 MB of 0.003 MB uploaded (0.000 MB deduped)\\r'), FloatProgress(value=1.0, max…"
      ]
     },
     "metadata": {},
     "output_type": "display_data"
    },
    {
     "data": {
      "text/html": [
       "<style>\n",
       "    table.wandb td:nth-child(1) { padding: 0 10px; text-align: left ; width: auto;} td:nth-child(2) {text-align: left ; width: 100%}\n",
       "    .wandb-row { display: flex; flex-direction: row; flex-wrap: wrap; justify-content: flex-start; width: 100% }\n",
       "    .wandb-col { display: flex; flex-direction: column; flex-basis: 100%; flex: 1; padding: 10px; }\n",
       "    </style>\n",
       "<div class=\"wandb-row\"><div class=\"wandb-col\"><h3>Run history:</h3><br/><table class=\"wandb\"><tr><td>epoch</td><td>▁▂▃▃▄▅▆▆▇█</td></tr><tr><td>train/accuracy</td><td>▁▆▇▇█▇████</td></tr><tr><td>train/batch_loss</td><td>█▇█▆▅▄▄▄▆▃▆▃▅▂▃▇▃▇▇▄▂▃▄▅▄▃▃▂▃▃▄▅▂▁▃▃▂▁▄▃</td></tr><tr><td>train/loss</td><td>█▅▃▂▂▂▁▁▁▁</td></tr></table><br/></div><div class=\"wandb-col\"><h3>Run summary:</h3><br/><table class=\"wandb\"><tr><td>epoch</td><td>10</td></tr><tr><td>test/accuracy</td><td>81.19266</td></tr><tr><td>test/loss</td><td>0.41348</td></tr><tr><td>train/accuracy</td><td>87.00397</td></tr><tr><td>train/batch_loss</td><td>0.05857</td></tr><tr><td>train/loss</td><td>0.31641</td></tr></table><br/></div></div>"
      ],
      "text/plain": [
       "<IPython.core.display.HTML object>"
      ]
     },
     "metadata": {},
     "output_type": "display_data"
    },
    {
     "data": {
      "text/html": [
       " View run <strong style=\"color:#cdcd00\">major-music-134</strong> at: <a href='https://wandb.ai/patcao/LOO-test/runs/7y9qxs0i' target=\"_blank\">https://wandb.ai/patcao/LOO-test/runs/7y9qxs0i</a><br/>Synced 6 W&B file(s), 0 media file(s), 0 artifact file(s) and 0 other file(s)"
      ],
      "text/plain": [
       "<IPython.core.display.HTML object>"
      ]
     },
     "metadata": {},
     "output_type": "display_data"
    },
    {
     "data": {
      "text/html": [
       "Find logs at: <code>./wandb/run-20230503_152533-7y9qxs0i/logs</code>"
      ],
      "text/plain": [
       "<IPython.core.display.HTML object>"
      ]
     },
     "metadata": {},
     "output_type": "display_data"
    },
    {
     "name": "stderr",
     "output_type": "stream",
     "text": [
      "Some weights of the model checkpoint at distilbert-base-uncased were not used when initializing DistilBertModel: ['vocab_layer_norm.weight', 'vocab_transform.bias', 'vocab_transform.weight', 'vocab_projector.weight', 'vocab_projector.bias', 'vocab_layer_norm.bias']\n",
      "- This IS expected if you are initializing DistilBertModel from the checkpoint of a model trained on another task or with another architecture (e.g. initializing a BertForSequenceClassification model from a BertForPreTraining model).\n",
      "- This IS NOT expected if you are initializing DistilBertModel from the checkpoint of a model that you expect to be exactly identical (initializing a BertForSequenceClassification model from a BertForSequenceClassification model).\n"
     ]
    },
    {
     "data": {
      "text/html": [
       "Changes to your `wandb` environment variables will be ignored because your `wandb` session has already started. For more information on how to modify your settings with `wandb.init()` arguments, please refer to <a href='https://wandb.me/wandb-init' target=\"_blank\">the W&B docs</a>."
      ],
      "text/plain": [
       "<IPython.core.display.HTML object>"
      ]
     },
     "metadata": {},
     "output_type": "display_data"
    },
    {
     "data": {
      "text/html": [
       "wandb version 0.15.1 is available!  To upgrade, please run:\n",
       " $ pip install wandb --upgrade"
      ],
      "text/plain": [
       "<IPython.core.display.HTML object>"
      ]
     },
     "metadata": {},
     "output_type": "display_data"
    },
    {
     "data": {
      "text/html": [
       "Tracking run with wandb version 0.15.0"
      ],
      "text/plain": [
       "<IPython.core.display.HTML object>"
      ]
     },
     "metadata": {},
     "output_type": "display_data"
    },
    {
     "data": {
      "text/html": [
       "Run data is saved locally in <code>/home/pcao/sentiment-influence-function/wandb/run-20230503_152753-pz1v2exh</code>"
      ],
      "text/plain": [
       "<IPython.core.display.HTML object>"
      ]
     },
     "metadata": {},
     "output_type": "display_data"
    },
    {
     "data": {
      "text/html": [
       "Syncing run <strong><a href='https://wandb.ai/patcao/LOO-test/runs/pz1v2exh' target=\"_blank\">proud-capybara-135</a></strong> to <a href='https://wandb.ai/patcao/LOO-test' target=\"_blank\">Weights & Biases</a> (<a href='https://wandb.me/run' target=\"_blank\">docs</a>)<br/>"
      ],
      "text/plain": [
       "<IPython.core.display.HTML object>"
      ]
     },
     "metadata": {},
     "output_type": "display_data"
    },
    {
     "data": {
      "text/html": [
       " View project at <a href='https://wandb.ai/patcao/LOO-test' target=\"_blank\">https://wandb.ai/patcao/LOO-test</a>"
      ],
      "text/plain": [
       "<IPython.core.display.HTML object>"
      ]
     },
     "metadata": {},
     "output_type": "display_data"
    },
    {
     "data": {
      "text/html": [
       " View run at <a href='https://wandb.ai/patcao/LOO-test/runs/pz1v2exh' target=\"_blank\">https://wandb.ai/patcao/LOO-test/runs/pz1v2exh</a>"
      ],
      "text/plain": [
       "<IPython.core.display.HTML object>"
      ]
     },
     "metadata": {},
     "output_type": "display_data"
    },
    {
     "name": "stderr",
     "output_type": "stream",
     "text": [
      "100%|████████████████████████████████████████████████████████████████████████████████████████████████████████████████████| 63/63 [00:09<00:00,  6.36batch/s]\n",
      "100%|████████████████████████████████████████████████████████████████████████████████████████████████████████████████████| 63/63 [00:10<00:00,  6.23batch/s]\n",
      "100%|████████████████████████████████████████████████████████████████████████████████████████████████████████████████████| 63/63 [00:09<00:00,  6.52batch/s]\n",
      "100%|████████████████████████████████████████████████████████████████████████████████████████████████████████████████████| 63/63 [00:09<00:00,  6.50batch/s]\n",
      "100%|████████████████████████████████████████████████████████████████████████████████████████████████████████████████████| 63/63 [00:10<00:00,  6.20batch/s]\n",
      "100%|████████████████████████████████████████████████████████████████████████████████████████████████████████████████████| 63/63 [00:10<00:00,  6.20batch/s]\n",
      "100%|████████████████████████████████████████████████████████████████████████████████████████████████████████████████████| 63/63 [00:10<00:00,  6.27batch/s]\n",
      "100%|████████████████████████████████████████████████████████████████████████████████████████████████████████████████████| 63/63 [00:10<00:00,  6.20batch/s]\n",
      "100%|████████████████████████████████████████████████████████████████████████████████████████████████████████████████████| 63/63 [00:10<00:00,  6.01batch/s]\n",
      "100%|████████████████████████████████████████████████████████████████████████████████████████████████████████████████████| 63/63 [00:10<00:00,  6.13batch/s]\n"
     ]
    },
    {
     "data": {
      "text/html": [
       "Waiting for W&B process to finish... <strong style=\"color:green\">(success).</strong>"
      ],
      "text/plain": [
       "<IPython.core.display.HTML object>"
      ]
     },
     "metadata": {},
     "output_type": "display_data"
    },
    {
     "data": {
      "application/vnd.jupyter.widget-view+json": {
       "model_id": "950a2ba69c354d4684feb918a8221b75",
       "version_major": 2,
       "version_minor": 0
      },
      "text/plain": [
       "VBox(children=(Label(value='0.003 MB of 0.003 MB uploaded (0.000 MB deduped)\\r'), FloatProgress(value=1.0, max…"
      ]
     },
     "metadata": {},
     "output_type": "display_data"
    },
    {
     "data": {
      "text/html": [
       "<style>\n",
       "    table.wandb td:nth-child(1) { padding: 0 10px; text-align: left ; width: auto;} td:nth-child(2) {text-align: left ; width: 100%}\n",
       "    .wandb-row { display: flex; flex-direction: row; flex-wrap: wrap; justify-content: flex-start; width: 100% }\n",
       "    .wandb-col { display: flex; flex-direction: column; flex-basis: 100%; flex: 1; padding: 10px; }\n",
       "    </style>\n",
       "<div class=\"wandb-row\"><div class=\"wandb-col\"><h3>Run history:</h3><br/><table class=\"wandb\"><tr><td>epoch</td><td>▁▂▃▃▄▅▆▆▇█</td></tr><tr><td>train/accuracy</td><td>▁▆▇▇█▇████</td></tr><tr><td>train/batch_loss</td><td>█▇█▆▅▄▄▄▆▃▆▃▅▂▃▇▃▇▇▄▂▃▄▅▄▃▃▂▃▃▄▅▂▁▃▃▂▁▄▃</td></tr><tr><td>train/loss</td><td>█▅▃▂▂▂▁▁▁▁</td></tr></table><br/></div><div class=\"wandb-col\"><h3>Run summary:</h3><br/><table class=\"wandb\"><tr><td>epoch</td><td>10</td></tr><tr><td>test/accuracy</td><td>81.19266</td></tr><tr><td>test/loss</td><td>0.41344</td></tr><tr><td>train/accuracy</td><td>87.00397</td></tr><tr><td>train/batch_loss</td><td>0.05868</td></tr><tr><td>train/loss</td><td>0.31629</td></tr></table><br/></div></div>"
      ],
      "text/plain": [
       "<IPython.core.display.HTML object>"
      ]
     },
     "metadata": {},
     "output_type": "display_data"
    },
    {
     "data": {
      "text/html": [
       " View run <strong style=\"color:#cdcd00\">proud-capybara-135</strong> at: <a href='https://wandb.ai/patcao/LOO-test/runs/pz1v2exh' target=\"_blank\">https://wandb.ai/patcao/LOO-test/runs/pz1v2exh</a><br/>Synced 6 W&B file(s), 0 media file(s), 0 artifact file(s) and 0 other file(s)"
      ],
      "text/plain": [
       "<IPython.core.display.HTML object>"
      ]
     },
     "metadata": {},
     "output_type": "display_data"
    },
    {
     "data": {
      "text/html": [
       "Find logs at: <code>./wandb/run-20230503_152753-pz1v2exh/logs</code>"
      ],
      "text/plain": [
       "<IPython.core.display.HTML object>"
      ]
     },
     "metadata": {},
     "output_type": "display_data"
    },
    {
     "name": "stderr",
     "output_type": "stream",
     "text": [
      "Some weights of the model checkpoint at distilbert-base-uncased were not used when initializing DistilBertModel: ['vocab_layer_norm.weight', 'vocab_transform.bias', 'vocab_transform.weight', 'vocab_projector.weight', 'vocab_projector.bias', 'vocab_layer_norm.bias']\n",
      "- This IS expected if you are initializing DistilBertModel from the checkpoint of a model trained on another task or with another architecture (e.g. initializing a BertForSequenceClassification model from a BertForPreTraining model).\n",
      "- This IS NOT expected if you are initializing DistilBertModel from the checkpoint of a model that you expect to be exactly identical (initializing a BertForSequenceClassification model from a BertForSequenceClassification model).\n"
     ]
    },
    {
     "data": {
      "text/html": [
       "Changes to your `wandb` environment variables will be ignored because your `wandb` session has already started. For more information on how to modify your settings with `wandb.init()` arguments, please refer to <a href='https://wandb.me/wandb-init' target=\"_blank\">the W&B docs</a>."
      ],
      "text/plain": [
       "<IPython.core.display.HTML object>"
      ]
     },
     "metadata": {},
     "output_type": "display_data"
    },
    {
     "data": {
      "text/html": [
       "wandb version 0.15.1 is available!  To upgrade, please run:\n",
       " $ pip install wandb --upgrade"
      ],
      "text/plain": [
       "<IPython.core.display.HTML object>"
      ]
     },
     "metadata": {},
     "output_type": "display_data"
    },
    {
     "data": {
      "text/html": [
       "Tracking run with wandb version 0.15.0"
      ],
      "text/plain": [
       "<IPython.core.display.HTML object>"
      ]
     },
     "metadata": {},
     "output_type": "display_data"
    },
    {
     "data": {
      "text/html": [
       "Run data is saved locally in <code>/home/pcao/sentiment-influence-function/wandb/run-20230503_153013-cw0v323c</code>"
      ],
      "text/plain": [
       "<IPython.core.display.HTML object>"
      ]
     },
     "metadata": {},
     "output_type": "display_data"
    },
    {
     "data": {
      "text/html": [
       "Syncing run <strong><a href='https://wandb.ai/patcao/LOO-test/runs/cw0v323c' target=\"_blank\">dashing-sound-136</a></strong> to <a href='https://wandb.ai/patcao/LOO-test' target=\"_blank\">Weights & Biases</a> (<a href='https://wandb.me/run' target=\"_blank\">docs</a>)<br/>"
      ],
      "text/plain": [
       "<IPython.core.display.HTML object>"
      ]
     },
     "metadata": {},
     "output_type": "display_data"
    },
    {
     "data": {
      "text/html": [
       " View project at <a href='https://wandb.ai/patcao/LOO-test' target=\"_blank\">https://wandb.ai/patcao/LOO-test</a>"
      ],
      "text/plain": [
       "<IPython.core.display.HTML object>"
      ]
     },
     "metadata": {},
     "output_type": "display_data"
    },
    {
     "data": {
      "text/html": [
       " View run at <a href='https://wandb.ai/patcao/LOO-test/runs/cw0v323c' target=\"_blank\">https://wandb.ai/patcao/LOO-test/runs/cw0v323c</a>"
      ],
      "text/plain": [
       "<IPython.core.display.HTML object>"
      ]
     },
     "metadata": {},
     "output_type": "display_data"
    },
    {
     "name": "stderr",
     "output_type": "stream",
     "text": [
      "100%|████████████████████████████████████████████████████████████████████████████████████████████████████████████████████| 63/63 [00:10<00:00,  6.30batch/s]\n",
      "100%|████████████████████████████████████████████████████████████████████████████████████████████████████████████████████| 63/63 [00:10<00:00,  6.25batch/s]\n",
      "100%|████████████████████████████████████████████████████████████████████████████████████████████████████████████████████| 63/63 [00:10<00:00,  6.26batch/s]\n",
      "100%|████████████████████████████████████████████████████████████████████████████████████████████████████████████████████| 63/63 [00:09<00:00,  6.37batch/s]\n",
      "100%|████████████████████████████████████████████████████████████████████████████████████████████████████████████████████| 63/63 [00:10<00:00,  5.97batch/s]\n",
      "100%|████████████████████████████████████████████████████████████████████████████████████████████████████████████████████| 63/63 [00:10<00:00,  5.96batch/s]\n",
      "100%|████████████████████████████████████████████████████████████████████████████████████████████████████████████████████| 63/63 [00:08<00:00,  7.09batch/s]\n",
      "100%|████████████████████████████████████████████████████████████████████████████████████████████████████████████████████| 63/63 [00:07<00:00,  8.37batch/s]\n",
      "100%|████████████████████████████████████████████████████████████████████████████████████████████████████████████████████| 63/63 [00:07<00:00,  8.93batch/s]\n",
      "100%|████████████████████████████████████████████████████████████████████████████████████████████████████████████████████| 63/63 [00:06<00:00,  9.48batch/s]\n"
     ]
    },
    {
     "data": {
      "text/html": [
       "Waiting for W&B process to finish... <strong style=\"color:green\">(success).</strong>"
      ],
      "text/plain": [
       "<IPython.core.display.HTML object>"
      ]
     },
     "metadata": {},
     "output_type": "display_data"
    },
    {
     "data": {
      "application/vnd.jupyter.widget-view+json": {
       "model_id": "e755f3ce40e24c809b5a87af6ae760e9",
       "version_major": 2,
       "version_minor": 0
      },
      "text/plain": [
       "VBox(children=(Label(value='0.003 MB of 0.003 MB uploaded (0.000 MB deduped)\\r'), FloatProgress(value=1.0, max…"
      ]
     },
     "metadata": {},
     "output_type": "display_data"
    },
    {
     "data": {
      "text/html": [
       "<style>\n",
       "    table.wandb td:nth-child(1) { padding: 0 10px; text-align: left ; width: auto;} td:nth-child(2) {text-align: left ; width: 100%}\n",
       "    .wandb-row { display: flex; flex-direction: row; flex-wrap: wrap; justify-content: flex-start; width: 100% }\n",
       "    .wandb-col { display: flex; flex-direction: column; flex-basis: 100%; flex: 1; padding: 10px; }\n",
       "    </style>\n",
       "<div class=\"wandb-row\"><div class=\"wandb-col\"><h3>Run history:</h3><br/><table class=\"wandb\"><tr><td>epoch</td><td>▁▂▃▃▄▅▆▆▇█</td></tr><tr><td>train/accuracy</td><td>▁▆▇▇▇▇████</td></tr><tr><td>train/batch_loss</td><td>█▇█▆▅▄▄▃▆▃▆▃▅▂▃▇▂▇█▄▂▃▄▄▄▃▃▂▃▃▄▅▂▁▃▃▂▁▄▃</td></tr><tr><td>train/loss</td><td>█▅▃▂▂▂▁▁▁▁</td></tr></table><br/></div><div class=\"wandb-col\"><h3>Run summary:</h3><br/><table class=\"wandb\"><tr><td>epoch</td><td>10</td></tr><tr><td>test/accuracy</td><td>81.30734</td></tr><tr><td>test/loss</td><td>0.41192</td></tr><tr><td>train/accuracy</td><td>87.30159</td></tr><tr><td>train/batch_loss</td><td>0.05965</td></tr><tr><td>train/loss</td><td>0.31542</td></tr></table><br/></div></div>"
      ],
      "text/plain": [
       "<IPython.core.display.HTML object>"
      ]
     },
     "metadata": {},
     "output_type": "display_data"
    },
    {
     "data": {
      "text/html": [
       " View run <strong style=\"color:#cdcd00\">dashing-sound-136</strong> at: <a href='https://wandb.ai/patcao/LOO-test/runs/cw0v323c' target=\"_blank\">https://wandb.ai/patcao/LOO-test/runs/cw0v323c</a><br/>Synced 6 W&B file(s), 0 media file(s), 0 artifact file(s) and 0 other file(s)"
      ],
      "text/plain": [
       "<IPython.core.display.HTML object>"
      ]
     },
     "metadata": {},
     "output_type": "display_data"
    },
    {
     "data": {
      "text/html": [
       "Find logs at: <code>./wandb/run-20230503_153013-cw0v323c/logs</code>"
      ],
      "text/plain": [
       "<IPython.core.display.HTML object>"
      ]
     },
     "metadata": {},
     "output_type": "display_data"
    },
    {
     "name": "stderr",
     "output_type": "stream",
     "text": [
      "Some weights of the model checkpoint at distilbert-base-uncased were not used when initializing DistilBertModel: ['vocab_layer_norm.weight', 'vocab_transform.bias', 'vocab_transform.weight', 'vocab_projector.weight', 'vocab_projector.bias', 'vocab_layer_norm.bias']\n",
      "- This IS expected if you are initializing DistilBertModel from the checkpoint of a model trained on another task or with another architecture (e.g. initializing a BertForSequenceClassification model from a BertForPreTraining model).\n",
      "- This IS NOT expected if you are initializing DistilBertModel from the checkpoint of a model that you expect to be exactly identical (initializing a BertForSequenceClassification model from a BertForSequenceClassification model).\n"
     ]
    },
    {
     "data": {
      "text/html": [
       "Changes to your `wandb` environment variables will be ignored because your `wandb` session has already started. For more information on how to modify your settings with `wandb.init()` arguments, please refer to <a href='https://wandb.me/wandb-init' target=\"_blank\">the W&B docs</a>."
      ],
      "text/plain": [
       "<IPython.core.display.HTML object>"
      ]
     },
     "metadata": {},
     "output_type": "display_data"
    },
    {
     "data": {
      "text/html": [
       "wandb version 0.15.1 is available!  To upgrade, please run:\n",
       " $ pip install wandb --upgrade"
      ],
      "text/plain": [
       "<IPython.core.display.HTML object>"
      ]
     },
     "metadata": {},
     "output_type": "display_data"
    },
    {
     "data": {
      "text/html": [
       "Tracking run with wandb version 0.15.0"
      ],
      "text/plain": [
       "<IPython.core.display.HTML object>"
      ]
     },
     "metadata": {},
     "output_type": "display_data"
    },
    {
     "data": {
      "text/html": [
       "Run data is saved locally in <code>/home/pcao/sentiment-influence-function/wandb/run-20230503_153209-8f010eil</code>"
      ],
      "text/plain": [
       "<IPython.core.display.HTML object>"
      ]
     },
     "metadata": {},
     "output_type": "display_data"
    },
    {
     "data": {
      "text/html": [
       "Syncing run <strong><a href='https://wandb.ai/patcao/LOO-test/runs/8f010eil' target=\"_blank\">unique-puddle-137</a></strong> to <a href='https://wandb.ai/patcao/LOO-test' target=\"_blank\">Weights & Biases</a> (<a href='https://wandb.me/run' target=\"_blank\">docs</a>)<br/>"
      ],
      "text/plain": [
       "<IPython.core.display.HTML object>"
      ]
     },
     "metadata": {},
     "output_type": "display_data"
    },
    {
     "data": {
      "text/html": [
       " View project at <a href='https://wandb.ai/patcao/LOO-test' target=\"_blank\">https://wandb.ai/patcao/LOO-test</a>"
      ],
      "text/plain": [
       "<IPython.core.display.HTML object>"
      ]
     },
     "metadata": {},
     "output_type": "display_data"
    },
    {
     "data": {
      "text/html": [
       " View run at <a href='https://wandb.ai/patcao/LOO-test/runs/8f010eil' target=\"_blank\">https://wandb.ai/patcao/LOO-test/runs/8f010eil</a>"
      ],
      "text/plain": [
       "<IPython.core.display.HTML object>"
      ]
     },
     "metadata": {},
     "output_type": "display_data"
    },
    {
     "name": "stderr",
     "output_type": "stream",
     "text": [
      "100%|████████████████████████████████████████████████████████████████████████████████████████████████████████████████████| 63/63 [00:06<00:00, 10.05batch/s]\n",
      "100%|████████████████████████████████████████████████████████████████████████████████████████████████████████████████████| 63/63 [00:06<00:00, 10.10batch/s]\n",
      "100%|████████████████████████████████████████████████████████████████████████████████████████████████████████████████████| 63/63 [00:06<00:00, 10.13batch/s]\n",
      "100%|████████████████████████████████████████████████████████████████████████████████████████████████████████████████████| 63/63 [00:06<00:00, 10.16batch/s]\n",
      "100%|████████████████████████████████████████████████████████████████████████████████████████████████████████████████████| 63/63 [00:06<00:00,  9.74batch/s]\n",
      "100%|████████████████████████████████████████████████████████████████████████████████████████████████████████████████████| 63/63 [00:06<00:00, 10.12batch/s]\n",
      "100%|████████████████████████████████████████████████████████████████████████████████████████████████████████████████████| 63/63 [00:06<00:00, 10.43batch/s]\n",
      "100%|████████████████████████████████████████████████████████████████████████████████████████████████████████████████████| 63/63 [00:06<00:00, 10.41batch/s]\n",
      "100%|████████████████████████████████████████████████████████████████████████████████████████████████████████████████████| 63/63 [00:06<00:00, 10.44batch/s]\n",
      "100%|████████████████████████████████████████████████████████████████████████████████████████████████████████████████████| 63/63 [00:06<00:00, 10.43batch/s]\n"
     ]
    },
    {
     "data": {
      "text/html": [
       "Waiting for W&B process to finish... <strong style=\"color:green\">(success).</strong>"
      ],
      "text/plain": [
       "<IPython.core.display.HTML object>"
      ]
     },
     "metadata": {},
     "output_type": "display_data"
    },
    {
     "data": {
      "application/vnd.jupyter.widget-view+json": {
       "model_id": "634000fd2f0d4cd3baf17679c74a50c9",
       "version_major": 2,
       "version_minor": 0
      },
      "text/plain": [
       "VBox(children=(Label(value='0.003 MB of 0.003 MB uploaded (0.000 MB deduped)\\r'), FloatProgress(value=1.0, max…"
      ]
     },
     "metadata": {},
     "output_type": "display_data"
    },
    {
     "data": {
      "text/html": [
       "<style>\n",
       "    table.wandb td:nth-child(1) { padding: 0 10px; text-align: left ; width: auto;} td:nth-child(2) {text-align: left ; width: 100%}\n",
       "    .wandb-row { display: flex; flex-direction: row; flex-wrap: wrap; justify-content: flex-start; width: 100% }\n",
       "    .wandb-col { display: flex; flex-direction: column; flex-basis: 100%; flex: 1; padding: 10px; }\n",
       "    </style>\n",
       "<div class=\"wandb-row\"><div class=\"wandb-col\"><h3>Run history:</h3><br/><table class=\"wandb\"><tr><td>epoch</td><td>▁▂▃▃▄▅▆▆▇█</td></tr><tr><td>train/accuracy</td><td>▁▆▇▇█▇████</td></tr><tr><td>train/batch_loss</td><td>█▇█▆▅▄▄▃▆▃▆▃▅▂▃▇▂▇█▄▂▃▄▄▄▃▃▂▃▃▄▅▂▁▃▃▂▁▄▃</td></tr><tr><td>train/loss</td><td>█▅▃▂▂▂▁▁▁▁</td></tr></table><br/></div><div class=\"wandb-col\"><h3>Run summary:</h3><br/><table class=\"wandb\"><tr><td>epoch</td><td>10</td></tr><tr><td>test/accuracy</td><td>81.5367</td></tr><tr><td>test/loss</td><td>0.41234</td></tr><tr><td>train/accuracy</td><td>87.20238</td></tr><tr><td>train/batch_loss</td><td>0.05917</td></tr><tr><td>train/loss</td><td>0.3163</td></tr></table><br/></div></div>"
      ],
      "text/plain": [
       "<IPython.core.display.HTML object>"
      ]
     },
     "metadata": {},
     "output_type": "display_data"
    },
    {
     "data": {
      "text/html": [
       " View run <strong style=\"color:#cdcd00\">unique-puddle-137</strong> at: <a href='https://wandb.ai/patcao/LOO-test/runs/8f010eil' target=\"_blank\">https://wandb.ai/patcao/LOO-test/runs/8f010eil</a><br/>Synced 6 W&B file(s), 0 media file(s), 0 artifact file(s) and 0 other file(s)"
      ],
      "text/plain": [
       "<IPython.core.display.HTML object>"
      ]
     },
     "metadata": {},
     "output_type": "display_data"
    },
    {
     "data": {
      "text/html": [
       "Find logs at: <code>./wandb/run-20230503_153209-8f010eil/logs</code>"
      ],
      "text/plain": [
       "<IPython.core.display.HTML object>"
      ]
     },
     "metadata": {},
     "output_type": "display_data"
    }
   ],
   "source": [
    "%env WANDB_SILENT=true\n",
    "\n",
    "ldf1 = train_loo_models(train_dataset, test_dataset, 0, 5, config)\n",
    "ldf2 = train_loo_models(train_dataset, test_dataset, 0, 5, config)\n",
    "# ldf3 = train_loo_models(train_dataset, test_dataset, 0, 5, config)"
   ]
  },
  {
   "cell_type": "code",
   "execution_count": 72,
   "id": "33774219-3630-4237-b294-7bef62ef400f",
   "metadata": {
    "execution": {
     "iopub.execute_input": "2023-05-03T19:55:02.216216Z",
     "iopub.status.busy": "2023-05-03T19:55:02.215991Z",
     "iopub.status.idle": "2023-05-03T19:55:02.243779Z",
     "shell.execute_reply": "2023-05-03T19:55:02.242993Z",
     "shell.execute_reply.started": "2023-05-03T19:55:02.216202Z"
    },
    "tags": []
   },
   "outputs": [],
   "source": [
    "m = pd.merge(ldf1, ldf2, on=['loo_guid', 'test_guid', 'label'], how='outer', suffixes=('_1', '_2'))"
   ]
  },
  {
   "cell_type": "code",
   "execution_count": null,
   "id": "a74c9678-4c34-485d-9d6c-e9d7f0ce11c9",
   "metadata": {
    "tags": []
   },
   "outputs": [],
   "source": []
  },
  {
   "cell_type": "code",
   "execution_count": 70,
   "id": "608fbed1-9ade-448b-8d2b-d9235db3451a",
   "metadata": {
    "execution": {
     "iopub.execute_input": "2023-05-03T19:53:36.910901Z",
     "iopub.status.busy": "2023-05-03T19:53:36.910660Z",
     "iopub.status.idle": "2023-05-03T19:53:36.944053Z",
     "shell.execute_reply": "2023-05-03T19:53:36.942945Z",
     "shell.execute_reply.started": "2023-05-03T19:53:36.910886Z"
    },
    "tags": []
   },
   "outputs": [
    {
     "name": "stdout",
     "output_type": "stream",
     "text": [
      "1.4237847328186035\n"
     ]
    },
    {
     "data": {
      "text/html": [
       "<div>\n",
       "<style scoped>\n",
       "    .dataframe tbody tr th:only-of-type {\n",
       "        vertical-align: middle;\n",
       "    }\n",
       "\n",
       "    .dataframe tbody tr th {\n",
       "        vertical-align: top;\n",
       "    }\n",
       "\n",
       "    .dataframe thead th {\n",
       "        text-align: right;\n",
       "    }\n",
       "</style>\n",
       "<table border=\"1\" class=\"dataframe\">\n",
       "  <thead>\n",
       "    <tr style=\"text-align: right;\">\n",
       "      <th></th>\n",
       "      <th>test_guid</th>\n",
       "      <th>logits</th>\n",
       "      <th>pred</th>\n",
       "      <th>label</th>\n",
       "      <th>loss</th>\n",
       "      <th>loo_guid</th>\n",
       "    </tr>\n",
       "  </thead>\n",
       "  <tbody>\n",
       "    <tr>\n",
       "      <th>672</th>\n",
       "      <td>672</td>\n",
       "      <td>[-0.5507879, 0.35016587]</td>\n",
       "      <td>1</td>\n",
       "      <td>0</td>\n",
       "      <td>1.241832</td>\n",
       "      <td>0</td>\n",
       "    </tr>\n",
       "    <tr>\n",
       "      <th>672</th>\n",
       "      <td>672</td>\n",
       "      <td>[-0.56930864, 0.36868525]</td>\n",
       "      <td>1</td>\n",
       "      <td>0</td>\n",
       "      <td>1.268313</td>\n",
       "      <td>1</td>\n",
       "    </tr>\n",
       "    <tr>\n",
       "      <th>672</th>\n",
       "      <td>672</td>\n",
       "      <td>[-0.5737928, 0.37316567]</td>\n",
       "      <td>1</td>\n",
       "      <td>0</td>\n",
       "      <td>1.274764</td>\n",
       "      <td>2</td>\n",
       "    </tr>\n",
       "    <tr>\n",
       "      <th>672</th>\n",
       "      <td>672</td>\n",
       "      <td>[-0.5680335, 0.36740777]</td>\n",
       "      <td>1</td>\n",
       "      <td>0</td>\n",
       "      <td>1.266479</td>\n",
       "      <td>3</td>\n",
       "    </tr>\n",
       "    <tr>\n",
       "      <th>672</th>\n",
       "      <td>672</td>\n",
       "      <td>[-0.5688917, 0.36826742]</td>\n",
       "      <td>1</td>\n",
       "      <td>0</td>\n",
       "      <td>1.267713</td>\n",
       "      <td>4</td>\n",
       "    </tr>\n",
       "  </tbody>\n",
       "</table>\n",
       "</div>"
      ],
      "text/plain": [
       "     test_guid                     logits  pred  label      loss  loo_guid\n",
       "672        672   [-0.5507879, 0.35016587]     1      0  1.241832         0\n",
       "672        672  [-0.56930864, 0.36868525]     1      0  1.268313         1\n",
       "672        672   [-0.5737928, 0.37316567]     1      0  1.274764         2\n",
       "672        672   [-0.5680335, 0.36740777]     1      0  1.266479         3\n",
       "672        672   [-0.5688917, 0.36826742]     1      0  1.267713         4"
      ]
     },
     "execution_count": 70,
     "metadata": {},
     "output_type": "execute_result"
    }
   ],
   "source": [
    "TEST_GUID = 672\n",
    "\n",
    "print(fdf[fdf.test_guid == TEST_GUID].loss.squeeze())\n",
    "cdf1 = ldf1[ldf1.test_guid == TEST_GUID].copy()\n",
    "cdf1"
   ]
  },
  {
   "cell_type": "code",
   "execution_count": 71,
   "id": "a0ca53bd-d5b1-46b0-9cba-804cb2f70150",
   "metadata": {
    "execution": {
     "iopub.execute_input": "2023-05-03T19:53:52.759729Z",
     "iopub.status.busy": "2023-05-03T19:53:52.759231Z",
     "iopub.status.idle": "2023-05-03T19:53:52.789632Z",
     "shell.execute_reply": "2023-05-03T19:53:52.788902Z",
     "shell.execute_reply.started": "2023-05-03T19:53:52.759711Z"
    },
    "tags": []
   },
   "outputs": [
    {
     "data": {
      "text/html": [
       "<div>\n",
       "<style scoped>\n",
       "    .dataframe tbody tr th:only-of-type {\n",
       "        vertical-align: middle;\n",
       "    }\n",
       "\n",
       "    .dataframe tbody tr th {\n",
       "        vertical-align: top;\n",
       "    }\n",
       "\n",
       "    .dataframe thead th {\n",
       "        text-align: right;\n",
       "    }\n",
       "</style>\n",
       "<table border=\"1\" class=\"dataframe\">\n",
       "  <thead>\n",
       "    <tr style=\"text-align: right;\">\n",
       "      <th></th>\n",
       "      <th>test_guid</th>\n",
       "      <th>logits</th>\n",
       "      <th>pred</th>\n",
       "      <th>label</th>\n",
       "      <th>loss</th>\n",
       "      <th>loo_guid</th>\n",
       "    </tr>\n",
       "  </thead>\n",
       "  <tbody>\n",
       "    <tr>\n",
       "      <th>672</th>\n",
       "      <td>672</td>\n",
       "      <td>[-0.5507879, 0.35016587]</td>\n",
       "      <td>1</td>\n",
       "      <td>0</td>\n",
       "      <td>1.241832</td>\n",
       "      <td>0</td>\n",
       "    </tr>\n",
       "    <tr>\n",
       "      <th>672</th>\n",
       "      <td>672</td>\n",
       "      <td>[-0.56930864, 0.36868525]</td>\n",
       "      <td>1</td>\n",
       "      <td>0</td>\n",
       "      <td>1.268313</td>\n",
       "      <td>1</td>\n",
       "    </tr>\n",
       "    <tr>\n",
       "      <th>672</th>\n",
       "      <td>672</td>\n",
       "      <td>[-0.5737928, 0.37316567]</td>\n",
       "      <td>1</td>\n",
       "      <td>0</td>\n",
       "      <td>1.274764</td>\n",
       "      <td>2</td>\n",
       "    </tr>\n",
       "    <tr>\n",
       "      <th>672</th>\n",
       "      <td>672</td>\n",
       "      <td>[-0.5680335, 0.36740777]</td>\n",
       "      <td>1</td>\n",
       "      <td>0</td>\n",
       "      <td>1.266479</td>\n",
       "      <td>3</td>\n",
       "    </tr>\n",
       "    <tr>\n",
       "      <th>672</th>\n",
       "      <td>672</td>\n",
       "      <td>[-0.5688917, 0.36826742]</td>\n",
       "      <td>1</td>\n",
       "      <td>0</td>\n",
       "      <td>1.267713</td>\n",
       "      <td>4</td>\n",
       "    </tr>\n",
       "  </tbody>\n",
       "</table>\n",
       "</div>"
      ],
      "text/plain": [
       "     test_guid                     logits  pred  label      loss  loo_guid\n",
       "672        672   [-0.5507879, 0.35016587]     1      0  1.241832         0\n",
       "672        672  [-0.56930864, 0.36868525]     1      0  1.268313         1\n",
       "672        672   [-0.5737928, 0.37316567]     1      0  1.274764         2\n",
       "672        672   [-0.5680335, 0.36740777]     1      0  1.266479         3\n",
       "672        672   [-0.5688917, 0.36826742]     1      0  1.267713         4"
      ]
     },
     "execution_count": 71,
     "metadata": {},
     "output_type": "execute_result"
    }
   ],
   "source": [
    "cdf2 = ldf2[ldf2.test_guid == TEST_GUID].copy()\n",
    "cdf2"
   ]
  },
  {
   "cell_type": "markdown",
   "id": "19cca28c-b19d-4cde-893d-887da842bc28",
   "metadata": {
    "jp-MarkdownHeadingCollapsed": true,
    "tags": []
   },
   "source": [
    "## Compute Loss Influence"
   ]
  },
  {
   "cell_type": "code",
   "execution_count": 57,
   "id": "ca428991-0d45-4a12-ba67-0c23e47397cf",
   "metadata": {
    "execution": {
     "iopub.execute_input": "2023-05-03T18:52:37.527474Z",
     "iopub.status.busy": "2023-05-03T18:52:37.527242Z",
     "iopub.status.idle": "2023-05-03T18:56:16.150995Z",
     "shell.execute_reply": "2023-05-03T18:56:16.150227Z",
     "shell.execute_reply.started": "2023-05-03T18:52:37.527460Z"
    },
    "tags": []
   },
   "outputs": [
    {
     "name": "stdout",
     "output_type": "stream",
     "text": [
      "LiSSA reps: 2 and num_iterations: 1000\n",
      "Recursion at depth 0: norm is 22.552303\n",
      "Recursion at depth 200: norm is 384.422791\n",
      "Recursion at depth 400: norm is 500.881500\n",
      "Recursion at depth 600: norm is 541.121216\n",
      "Recursion at depth 800: norm is 552.174866\n",
      "Recursion at depth 999: norm is 553.671875\n",
      "Recursion at depth 0: norm is 22.804285\n",
      "Recursion at depth 200: norm is 385.242523\n",
      "Recursion at depth 400: norm is 499.265137\n",
      "Recursion at depth 600: norm is 537.080750\n",
      "Recursion at depth 800: norm is 552.299744\n",
      "Recursion at depth 999: norm is 557.240051\n"
     ]
    },
    {
     "name": "stderr",
     "output_type": "stream",
     "text": [
      "100%|███████████████████████████████████████████████████████████████████████████████████████████████████████████████████| 1000/1000 [00:17<00:00, 56.15it/s]\n"
     ]
    }
   ],
   "source": [
    "import src.influence as inf_utils\n",
    "\n",
    "param_infl = list(full_model.classifier.parameters())\n",
    "infl = inf_utils.compute_influence(\n",
    "    full_model=full_model,\n",
    "    test_guid=TEST_GUID,\n",
    "    param_influence=param_infl,\n",
    "    train_dataset=train_dataset,\n",
    "    test_dataset=test_dataset,\n",
    "    lissa_r=2,\n",
    "    lissa_depth=1,\n",
    "    damping=5e-3,\n",
    "    scale=100,\n",
    "    # training_indices=list(range(15)),\n",
    ")"
   ]
  },
  {
   "cell_type": "markdown",
   "id": "1459e1d3-7fcd-4853-815c-17ccad76e939",
   "metadata": {
    "execution": {
     "iopub.execute_input": "2023-05-03T18:02:54.776622Z",
     "iopub.status.busy": "2023-05-03T18:02:54.776398Z",
     "iopub.status.idle": "2023-05-03T18:02:54.781205Z",
     "shell.execute_reply": "2023-05-03T18:02:54.780472Z",
     "shell.execute_reply.started": "2023-05-03T18:02:54.776608Z"
    },
    "jp-MarkdownHeadingCollapsed": true,
    "tags": []
   },
   "source": [
    "## Compare Influence with LOO"
   ]
  },
  {
   "cell_type": "code",
   "execution_count": 58,
   "id": "d4e942f2-7b75-41db-8c3f-44002c305f47",
   "metadata": {
    "execution": {
     "iopub.execute_input": "2023-05-03T18:56:16.152120Z",
     "iopub.status.busy": "2023-05-03T18:56:16.151938Z",
     "iopub.status.idle": "2023-05-03T18:56:16.183938Z",
     "shell.execute_reply": "2023-05-03T18:56:16.183123Z",
     "shell.execute_reply.started": "2023-05-03T18:56:16.152105Z"
    },
    "tags": []
   },
   "outputs": [
    {
     "data": {
      "text/html": [
       "<div>\n",
       "<style scoped>\n",
       "    .dataframe tbody tr th:only-of-type {\n",
       "        vertical-align: middle;\n",
       "    }\n",
       "\n",
       "    .dataframe tbody tr th {\n",
       "        vertical-align: top;\n",
       "    }\n",
       "\n",
       "    .dataframe thead th {\n",
       "        text-align: right;\n",
       "    }\n",
       "</style>\n",
       "<table border=\"1\" class=\"dataframe\">\n",
       "  <thead>\n",
       "    <tr style=\"text-align: right;\">\n",
       "      <th></th>\n",
       "      <th>test_guid</th>\n",
       "      <th>logits</th>\n",
       "      <th>pred</th>\n",
       "      <th>label</th>\n",
       "      <th>loss</th>\n",
       "      <th>loo_guid</th>\n",
       "      <th>loss_diff</th>\n",
       "      <th>if_diff</th>\n",
       "    </tr>\n",
       "  </thead>\n",
       "  <tbody>\n",
       "    <tr>\n",
       "      <th>672</th>\n",
       "      <td>672</td>\n",
       "      <td>[-0.5507879, 0.35016587]</td>\n",
       "      <td>1</td>\n",
       "      <td>0</td>\n",
       "      <td>1.241832</td>\n",
       "      <td>0</td>\n",
       "      <td>0.181953</td>\n",
       "      <td>-0.023979</td>\n",
       "    </tr>\n",
       "    <tr>\n",
       "      <th>672</th>\n",
       "      <td>672</td>\n",
       "      <td>[-0.56930864, 0.36868525]</td>\n",
       "      <td>1</td>\n",
       "      <td>0</td>\n",
       "      <td>1.268313</td>\n",
       "      <td>1</td>\n",
       "      <td>0.155472</td>\n",
       "      <td>-0.005492</td>\n",
       "    </tr>\n",
       "    <tr>\n",
       "      <th>672</th>\n",
       "      <td>672</td>\n",
       "      <td>[-0.5737928, 0.37316567]</td>\n",
       "      <td>1</td>\n",
       "      <td>0</td>\n",
       "      <td>1.274764</td>\n",
       "      <td>2</td>\n",
       "      <td>0.149021</td>\n",
       "      <td>0.000964</td>\n",
       "    </tr>\n",
       "    <tr>\n",
       "      <th>672</th>\n",
       "      <td>672</td>\n",
       "      <td>[-0.5680335, 0.36740777]</td>\n",
       "      <td>1</td>\n",
       "      <td>0</td>\n",
       "      <td>1.266479</td>\n",
       "      <td>3</td>\n",
       "      <td>0.157305</td>\n",
       "      <td>-0.065581</td>\n",
       "    </tr>\n",
       "    <tr>\n",
       "      <th>672</th>\n",
       "      <td>672</td>\n",
       "      <td>[-0.5688917, 0.36826742]</td>\n",
       "      <td>1</td>\n",
       "      <td>0</td>\n",
       "      <td>1.267713</td>\n",
       "      <td>4</td>\n",
       "      <td>0.156071</td>\n",
       "      <td>-0.022410</td>\n",
       "    </tr>\n",
       "    <tr>\n",
       "      <th>672</th>\n",
       "      <td>672</td>\n",
       "      <td>[-0.57793206, 0.37730497]</td>\n",
       "      <td>1</td>\n",
       "      <td>0</td>\n",
       "      <td>1.280736</td>\n",
       "      <td>5</td>\n",
       "      <td>0.143049</td>\n",
       "      <td>-0.083358</td>\n",
       "    </tr>\n",
       "    <tr>\n",
       "      <th>672</th>\n",
       "      <td>672</td>\n",
       "      <td>[-0.56930715, 0.3686824]</td>\n",
       "      <td>1</td>\n",
       "      <td>0</td>\n",
       "      <td>1.268310</td>\n",
       "      <td>6</td>\n",
       "      <td>0.155475</td>\n",
       "      <td>0.367314</td>\n",
       "    </tr>\n",
       "    <tr>\n",
       "      <th>672</th>\n",
       "      <td>672</td>\n",
       "      <td>[-0.5682944, 0.36767137]</td>\n",
       "      <td>1</td>\n",
       "      <td>0</td>\n",
       "      <td>1.266856</td>\n",
       "      <td>7</td>\n",
       "      <td>0.156929</td>\n",
       "      <td>0.028438</td>\n",
       "    </tr>\n",
       "    <tr>\n",
       "      <th>672</th>\n",
       "      <td>672</td>\n",
       "      <td>[-0.5574658, 0.3568388]</td>\n",
       "      <td>1</td>\n",
       "      <td>0</td>\n",
       "      <td>1.251345</td>\n",
       "      <td>8</td>\n",
       "      <td>0.172440</td>\n",
       "      <td>0.005149</td>\n",
       "    </tr>\n",
       "    <tr>\n",
       "      <th>672</th>\n",
       "      <td>672</td>\n",
       "      <td>[-0.58157384, 0.380947]</td>\n",
       "      <td>1</td>\n",
       "      <td>0</td>\n",
       "      <td>1.286001</td>\n",
       "      <td>9</td>\n",
       "      <td>0.137784</td>\n",
       "      <td>0.378818</td>\n",
       "    </tr>\n",
       "  </tbody>\n",
       "</table>\n",
       "</div>"
      ],
      "text/plain": [
       "     test_guid                     logits  pred  label      loss  loo_guid  \\\n",
       "672        672   [-0.5507879, 0.35016587]     1      0  1.241832         0   \n",
       "672        672  [-0.56930864, 0.36868525]     1      0  1.268313         1   \n",
       "672        672   [-0.5737928, 0.37316567]     1      0  1.274764         2   \n",
       "672        672   [-0.5680335, 0.36740777]     1      0  1.266479         3   \n",
       "672        672   [-0.5688917, 0.36826742]     1      0  1.267713         4   \n",
       "672        672  [-0.57793206, 0.37730497]     1      0  1.280736         5   \n",
       "672        672   [-0.56930715, 0.3686824]     1      0  1.268310         6   \n",
       "672        672   [-0.5682944, 0.36767137]     1      0  1.266856         7   \n",
       "672        672    [-0.5574658, 0.3568388]     1      0  1.251345         8   \n",
       "672        672    [-0.58157384, 0.380947]     1      0  1.286001         9   \n",
       "\n",
       "     loss_diff   if_diff  \n",
       "672   0.181953 -0.023979  \n",
       "672   0.155472 -0.005492  \n",
       "672   0.149021  0.000964  \n",
       "672   0.157305 -0.065581  \n",
       "672   0.156071 -0.022410  \n",
       "672   0.143049 -0.083358  \n",
       "672   0.155475  0.367314  \n",
       "672   0.156929  0.028438  \n",
       "672   0.172440  0.005149  \n",
       "672   0.137784  0.378818  "
      ]
     },
     "execution_count": 58,
     "metadata": {},
     "output_type": "execute_result"
    }
   ],
   "source": [
    "cdf[\"loss_diff\"] = fdf[fdf.test_guid == TEST_GUID].loss.squeeze() - cdf[\"loss\"]\n",
    "cdf[\"if_diff\"] = (-100.0 / len(train_dataset)) * infl[: len(cdf)]\n",
    "cdf"
   ]
  },
  {
   "cell_type": "code",
   "execution_count": 59,
   "id": "aae216f7-ef15-4da1-9160-18defef809a7",
   "metadata": {
    "execution": {
     "iopub.execute_input": "2023-05-03T18:56:16.184996Z",
     "iopub.status.busy": "2023-05-03T18:56:16.184806Z",
     "iopub.status.idle": "2023-05-03T18:56:16.210608Z",
     "shell.execute_reply": "2023-05-03T18:56:16.209863Z",
     "shell.execute_reply.started": "2023-05-03T18:56:16.184982Z"
    },
    "tags": []
   },
   "outputs": [
    {
     "data": {
      "text/html": [
       "<div>\n",
       "<style scoped>\n",
       "    .dataframe tbody tr th:only-of-type {\n",
       "        vertical-align: middle;\n",
       "    }\n",
       "\n",
       "    .dataframe tbody tr th {\n",
       "        vertical-align: top;\n",
       "    }\n",
       "\n",
       "    .dataframe thead th {\n",
       "        text-align: right;\n",
       "    }\n",
       "</style>\n",
       "<table border=\"1\" class=\"dataframe\">\n",
       "  <thead>\n",
       "    <tr style=\"text-align: right;\">\n",
       "      <th></th>\n",
       "      <th>loss_diff</th>\n",
       "      <th>if_diff</th>\n",
       "    </tr>\n",
       "  </thead>\n",
       "  <tbody>\n",
       "    <tr>\n",
       "      <th>loss_diff</th>\n",
       "      <td>1.000000</td>\n",
       "      <td>-0.353463</td>\n",
       "    </tr>\n",
       "    <tr>\n",
       "      <th>if_diff</th>\n",
       "      <td>-0.353463</td>\n",
       "      <td>1.000000</td>\n",
       "    </tr>\n",
       "  </tbody>\n",
       "</table>\n",
       "</div>"
      ],
      "text/plain": [
       "           loss_diff   if_diff\n",
       "loss_diff   1.000000 -0.353463\n",
       "if_diff    -0.353463  1.000000"
      ]
     },
     "execution_count": 59,
     "metadata": {},
     "output_type": "execute_result"
    }
   ],
   "source": [
    "cdf[['loss_diff', 'if_diff']].corr()"
   ]
  },
  {
   "cell_type": "code",
   "execution_count": 60,
   "id": "a924b302-c961-4f58-9e99-ebcd7c1fa1b2",
   "metadata": {
    "execution": {
     "iopub.execute_input": "2023-05-03T18:56:16.211954Z",
     "iopub.status.busy": "2023-05-03T18:56:16.211721Z",
     "iopub.status.idle": "2023-05-03T18:56:16.366568Z",
     "shell.execute_reply": "2023-05-03T18:56:16.365667Z",
     "shell.execute_reply.started": "2023-05-03T18:56:16.211930Z"
    },
    "tags": []
   },
   "outputs": [
    {
     "data": {
      "text/plain": [
       "<Axes: xlabel='loss_diff', ylabel='if_diff'>"
      ]
     },
     "execution_count": 60,
     "metadata": {},
     "output_type": "execute_result"
    },
    {
     "data": {
      "image/png": "[encoded data removed]",
      "text/plain": [
       "<Figure size 640x480 with 1 Axes>"
      ]
     },
     "metadata": {},
     "output_type": "display_data"
    }
   ],
   "source": [
    "cdf[['loss_diff', 'if_diff']].plot.scatter('loss_diff', 'if_diff')"
   ]
  },
  {
   "cell_type": "code",
   "execution_count": null,
   "id": "479f24ed-9774-4028-b3dd-a86e58ed5f74",
   "metadata": {},
   "outputs": [],
   "source": []
  },
  {
   "cell_type": "code",
   "execution_count": 62,
   "id": "439250f8-cfd3-4be4-9621-502ea0451c54",
   "metadata": {
    "execution": {
     "iopub.execute_input": "2023-05-03T18:56:16.391390Z",
     "iopub.status.busy": "2023-05-03T18:56:16.391223Z",
     "iopub.status.idle": "2023-05-03T18:56:16.414245Z",
     "shell.execute_reply": "2023-05-03T18:56:16.413304Z",
     "shell.execute_reply.started": "2023-05-03T18:56:16.391376Z"
    },
    "tags": []
   },
   "outputs": [],
   "source": [
    "# median_idx = int(len(infl) / 2)\n",
    "\n",
    "idxs = np.argsort(infl)[:10]"
   ]
  },
  {
   "cell_type": "code",
   "execution_count": 63,
   "id": "9e70f41a-6d6b-467e-9cd1-64e1affb27a9",
   "metadata": {
    "execution": {
     "iopub.execute_input": "2023-05-03T18:56:16.415392Z",
     "iopub.status.busy": "2023-05-03T18:56:16.415099Z",
     "iopub.status.idle": "2023-05-03T18:56:16.447639Z",
     "shell.execute_reply": "2023-05-03T18:56:16.446283Z",
     "shell.execute_reply.started": "2023-05-03T18:56:16.415364Z"
    },
    "tags": []
   },
   "outputs": [
    {
     "ename": "NameError",
     "evalue": "name 'idx' is not defined",
     "output_type": "error",
     "traceback": [
      "\u001b[0;31m---------------------------------------------------------------------------\u001b[0m",
      "\u001b[0;31mNameError\u001b[0m                                 Traceback (most recent call last)",
      "Cell \u001b[0;32mIn[63], line 1\u001b[0m\n\u001b[0;32m----> 1\u001b[0m infl[\u001b[43midx\u001b[49m]\n",
      "\u001b[0;31mNameError\u001b[0m: name 'idx' is not defined"
     ]
    }
   ],
   "source": [
    "infl[idx]"
   ]
  },
  {
   "cell_type": "markdown",
   "id": "c9024f66-e68d-4309-bcd1-c3a7dce56e6c",
   "metadata": {
    "jp-MarkdownHeadingCollapsed": true,
    "tags": []
   },
   "source": [
    "## Remove Random 10%"
   ]
  },
  {
   "cell_type": "code",
   "execution_count": 55,
   "id": "2fe4f34f-fd42-441b-806c-104b10d6d2de",
   "metadata": {
    "execution": {
     "iopub.execute_input": "2023-05-03T17:28:11.819865Z",
     "iopub.status.busy": "2023-05-03T17:28:11.819700Z",
     "iopub.status.idle": "2023-05-03T17:28:45.673945Z",
     "shell.execute_reply": "2023-05-03T17:28:45.673199Z",
     "shell.execute_reply.started": "2023-05-03T17:28:11.819851Z"
    },
    "tags": []
   },
   "outputs": [
    {
     "name": "stderr",
     "output_type": "stream",
     "text": [
      "Some weights of the model checkpoint at distilbert-base-uncased were not used when initializing DistilBertModel: ['vocab_transform.weight', 'vocab_projector.weight', 'vocab_layer_norm.weight', 'vocab_transform.bias', 'vocab_projector.bias', 'vocab_layer_norm.bias']\n",
      "- This IS expected if you are initializing DistilBertModel from the checkpoint of a model trained on another task or with another architecture (e.g. initializing a BertForSequenceClassification model from a BertForPreTraining model).\n",
      "- This IS NOT expected if you are initializing DistilBertModel from the checkpoint of a model that you expect to be exactly identical (initializing a BertForSequenceClassification model from a BertForSequenceClassification model).\n"
     ]
    },
    {
     "data": {
      "text/html": [
       "wandb version 0.15.1 is available!  To upgrade, please run:\n",
       " $ pip install wandb --upgrade"
      ],
      "text/plain": [
       "<IPython.core.display.HTML object>"
      ]
     },
     "metadata": {},
     "output_type": "display_data"
    },
    {
     "data": {
      "text/html": [
       "Tracking run with wandb version 0.15.0"
      ],
      "text/plain": [
       "<IPython.core.display.HTML object>"
      ]
     },
     "metadata": {},
     "output_type": "display_data"
    },
    {
     "data": {
      "text/html": [
       "Run data is saved locally in <code>/home/pcao/sentiment-influence-function/wandb/run-20230503_132812-ntap3jxi</code>"
      ],
      "text/plain": [
       "<IPython.core.display.HTML object>"
      ]
     },
     "metadata": {},
     "output_type": "display_data"
    },
    {
     "data": {
      "text/html": [
       "Syncing run <strong><a href='https://wandb.ai/patcao/LOO-test/runs/ntap3jxi' target=\"_blank\">ethereal-armadillo-112</a></strong> to <a href='https://wandb.ai/patcao/LOO-test' target=\"_blank\">Weights & Biases</a> (<a href='https://wandb.me/run' target=\"_blank\">docs</a>)<br/>"
      ],
      "text/plain": [
       "<IPython.core.display.HTML object>"
      ]
     },
     "metadata": {},
     "output_type": "display_data"
    },
    {
     "data": {
      "text/html": [
       " View project at <a href='https://wandb.ai/patcao/LOO-test' target=\"_blank\">https://wandb.ai/patcao/LOO-test</a>"
      ],
      "text/plain": [
       "<IPython.core.display.HTML object>"
      ]
     },
     "metadata": {},
     "output_type": "display_data"
    },
    {
     "data": {
      "text/html": [
       " View run at <a href='https://wandb.ai/patcao/LOO-test/runs/ntap3jxi' target=\"_blank\">https://wandb.ai/patcao/LOO-test/runs/ntap3jxi</a>"
      ],
      "text/plain": [
       "<IPython.core.display.HTML object>"
      ]
     },
     "metadata": {},
     "output_type": "display_data"
    },
    {
     "name": "stderr",
     "output_type": "stream",
     "text": [
      "100%|████████████████████████████████████████████████████████████████████████████████████████████████████████████████████| 57/57 [00:02<00:00, 28.22batch/s]\n",
      "100%|████████████████████████████████████████████████████████████████████████████████████████████████████████████████████| 57/57 [00:01<00:00, 30.88batch/s]\n",
      "100%|████████████████████████████████████████████████████████████████████████████████████████████████████████████████████| 57/57 [00:01<00:00, 30.96batch/s]\n",
      "100%|████████████████████████████████████████████████████████████████████████████████████████████████████████████████████| 57/57 [00:01<00:00, 30.74batch/s]\n",
      "100%|████████████████████████████████████████████████████████████████████████████████████████████████████████████████████| 57/57 [00:01<00:00, 31.47batch/s]\n",
      "100%|████████████████████████████████████████████████████████████████████████████████████████████████████████████████████| 57/57 [00:01<00:00, 31.64batch/s]\n",
      "100%|████████████████████████████████████████████████████████████████████████████████████████████████████████████████████| 57/57 [00:01<00:00, 31.56batch/s]\n",
      "100%|████████████████████████████████████████████████████████████████████████████████████████████████████████████████████| 57/57 [00:01<00:00, 30.73batch/s]\n",
      "100%|████████████████████████████████████████████████████████████████████████████████████████████████████████████████████| 57/57 [00:01<00:00, 30.64batch/s]\n",
      "100%|████████████████████████████████████████████████████████████████████████████████████████████████████████████████████| 57/57 [00:01<00:00, 30.51batch/s]\n"
     ]
    },
    {
     "data": {
      "text/html": [
       "Waiting for W&B process to finish... <strong style=\"color:green\">(success).</strong>"
      ],
      "text/plain": [
       "<IPython.core.display.HTML object>"
      ]
     },
     "metadata": {},
     "output_type": "display_data"
    },
    {
     "data": {
      "application/vnd.jupyter.widget-view+json": {
       "model_id": "6810b6e55b4243558b523002a2590185",
       "version_major": 2,
       "version_minor": 0
      },
      "text/plain": [
       "VBox(children=(Label(value='0.003 MB of 0.003 MB uploaded (0.000 MB deduped)\\r'), FloatProgress(value=1.0, max…"
      ]
     },
     "metadata": {},
     "output_type": "display_data"
    },
    {
     "data": {
      "text/html": [
       "<style>\n",
       "    table.wandb td:nth-child(1) { padding: 0 10px; text-align: left ; width: auto;} td:nth-child(2) {text-align: left ; width: 100%}\n",
       "    .wandb-row { display: flex; flex-direction: row; flex-wrap: wrap; justify-content: flex-start; width: 100% }\n",
       "    .wandb-col { display: flex; flex-direction: column; flex-basis: 100%; flex: 1; padding: 10px; }\n",
       "    </style>\n",
       "<div class=\"wandb-row\"><div class=\"wandb-col\"><h3>Run history:</h3><br/><table class=\"wandb\"><tr><td>epoch</td><td>▁▂▃▃▄▅▆▆▇█</td></tr><tr><td>train/accuracy</td><td>▁▅▆▇██████</td></tr><tr><td>train/batch_loss</td><td>▇▇▇▆▅▄█▅▃▃▅▄▄▃▃▄▃▅▃▅▃▁▃▂▃▂▂▃▃▂▁▂▂▂▃▃▂▃▄▂</td></tr><tr><td>train/loss</td><td>█▅▃▃▂▁▂▁▁▁</td></tr></table><br/></div><div class=\"wandb-col\"><h3>Run summary:</h3><br/><table class=\"wandb\"><tr><td>epoch</td><td>10</td></tr><tr><td>test/accuracy</td><td>81.65138</td></tr><tr><td>test/loss</td><td>0.4005</td></tr><tr><td>train/accuracy</td><td>87.41228</td></tr><tr><td>train/batch_loss</td><td>0.22451</td></tr><tr><td>train/loss</td><td>0.31727</td></tr></table><br/></div></div>"
      ],
      "text/plain": [
       "<IPython.core.display.HTML object>"
      ]
     },
     "metadata": {},
     "output_type": "display_data"
    },
    {
     "data": {
      "text/html": [
       " View run <strong style=\"color:#cdcd00\">ethereal-armadillo-112</strong> at: <a href='https://wandb.ai/patcao/LOO-test/runs/ntap3jxi' target=\"_blank\">https://wandb.ai/patcao/LOO-test/runs/ntap3jxi</a><br/>Synced 6 W&B file(s), 0 media file(s), 0 artifact file(s) and 0 other file(s)"
      ],
      "text/plain": [
       "<IPython.core.display.HTML object>"
      ]
     },
     "metadata": {},
     "output_type": "display_data"
    },
    {
     "data": {
      "text/html": [
       "Find logs at: <code>./wandb/run-20230503_132812-ntap3jxi/logs</code>"
      ],
      "text/plain": [
       "<IPython.core.display.HTML object>"
      ]
     },
     "metadata": {},
     "output_type": "display_data"
    }
   ],
   "source": [
    "remove_pct = 0.1\n",
    "remove_length = int(remove_pct * len(train_dataset))\n",
    "\n",
    "remove_idxs = np.random.randint(low=0, high=len(train_dataset), size=remove_length)\n",
    "loo_dataset = create_loo_dataset(train_dataset, remove_idxs)\n",
    "\n",
    "rand_model, rdf, rad_test_loss, rand_test_acc = train_model(\n",
    "    loo_dataset, test_dataset, config\n",
    ")"
   ]
  },
  {
   "cell_type": "code",
   "execution_count": 56,
   "id": "9c8eb9dc-2007-418a-9d8e-e7427042b51e",
   "metadata": {
    "execution": {
     "iopub.execute_input": "2023-05-03T17:28:45.675018Z",
     "iopub.status.busy": "2023-05-03T17:28:45.674827Z",
     "iopub.status.idle": "2023-05-03T17:28:45.701203Z",
     "shell.execute_reply": "2023-05-03T17:28:45.700324Z",
     "shell.execute_reply.started": "2023-05-03T17:28:45.675003Z"
    },
    "tags": []
   },
   "outputs": [
    {
     "data": {
      "text/html": [
       "<div>\n",
       "<style scoped>\n",
       "    .dataframe tbody tr th:only-of-type {\n",
       "        vertical-align: middle;\n",
       "    }\n",
       "\n",
       "    .dataframe tbody tr th {\n",
       "        vertical-align: top;\n",
       "    }\n",
       "\n",
       "    .dataframe thead th {\n",
       "        text-align: right;\n",
       "    }\n",
       "</style>\n",
       "<table border=\"1\" class=\"dataframe\">\n",
       "  <thead>\n",
       "    <tr style=\"text-align: right;\">\n",
       "      <th></th>\n",
       "      <th>test_guid</th>\n",
       "      <th>logits</th>\n",
       "      <th>pred</th>\n",
       "      <th>label</th>\n",
       "      <th>loss</th>\n",
       "    </tr>\n",
       "  </thead>\n",
       "  <tbody>\n",
       "    <tr>\n",
       "      <th>218</th>\n",
       "      <td>218</td>\n",
       "      <td>[-2.3591306, 1.9379474]</td>\n",
       "      <td>1</td>\n",
       "      <td>0</td>\n",
       "      <td>4.310595</td>\n",
       "    </tr>\n",
       "  </tbody>\n",
       "</table>\n",
       "</div>"
      ],
      "text/plain": [
       "     test_guid                   logits  pred  label      loss\n",
       "218        218  [-2.3591306, 1.9379474]     1      0  4.310595"
      ]
     },
     "execution_count": 56,
     "metadata": {},
     "output_type": "execute_result"
    }
   ],
   "source": [
    "rdf[rdf.test_guid == TEST_GUID]"
   ]
  },
  {
   "cell_type": "markdown",
   "id": "0493a03f-6dd2-418f-8139-b74e2518610c",
   "metadata": {
    "jp-MarkdownHeadingCollapsed": true,
    "tags": []
   },
   "source": [
    "## Remove Top 10% Influences"
   ]
  },
  {
   "cell_type": "code",
   "execution_count": 57,
   "id": "fa006764-2a85-4d73-bd08-668523c99d39",
   "metadata": {
    "execution": {
     "iopub.execute_input": "2023-05-03T17:28:45.703601Z",
     "iopub.status.busy": "2023-05-03T17:28:45.702442Z",
     "iopub.status.idle": "2023-05-03T17:29:17.953388Z",
     "shell.execute_reply": "2023-05-03T17:29:17.952655Z",
     "shell.execute_reply.started": "2023-05-03T17:28:45.703539Z"
    },
    "tags": []
   },
   "outputs": [
    {
     "name": "stderr",
     "output_type": "stream",
     "text": [
      "Some weights of the model checkpoint at distilbert-base-uncased were not used when initializing DistilBertModel: ['vocab_transform.weight', 'vocab_projector.weight', 'vocab_layer_norm.weight', 'vocab_transform.bias', 'vocab_projector.bias', 'vocab_layer_norm.bias']\n",
      "- This IS expected if you are initializing DistilBertModel from the checkpoint of a model trained on another task or with another architecture (e.g. initializing a BertForSequenceClassification model from a BertForPreTraining model).\n",
      "- This IS NOT expected if you are initializing DistilBertModel from the checkpoint of a model that you expect to be exactly identical (initializing a BertForSequenceClassification model from a BertForSequenceClassification model).\n"
     ]
    },
    {
     "data": {
      "text/html": [
       "wandb version 0.15.1 is available!  To upgrade, please run:\n",
       " $ pip install wandb --upgrade"
      ],
      "text/plain": [
       "<IPython.core.display.HTML object>"
      ]
     },
     "metadata": {},
     "output_type": "display_data"
    },
    {
     "data": {
      "text/html": [
       "Tracking run with wandb version 0.15.0"
      ],
      "text/plain": [
       "<IPython.core.display.HTML object>"
      ]
     },
     "metadata": {},
     "output_type": "display_data"
    },
    {
     "data": {
      "text/html": [
       "Run data is saved locally in <code>/home/pcao/sentiment-influence-function/wandb/run-20230503_132846-p908nzjd</code>"
      ],
      "text/plain": [
       "<IPython.core.display.HTML object>"
      ]
     },
     "metadata": {},
     "output_type": "display_data"
    },
    {
     "data": {
      "text/html": [
       "Syncing run <strong><a href='https://wandb.ai/patcao/LOO-test/runs/p908nzjd' target=\"_blank\">lyric-valley-113</a></strong> to <a href='https://wandb.ai/patcao/LOO-test' target=\"_blank\">Weights & Biases</a> (<a href='https://wandb.me/run' target=\"_blank\">docs</a>)<br/>"
      ],
      "text/plain": [
       "<IPython.core.display.HTML object>"
      ]
     },
     "metadata": {},
     "output_type": "display_data"
    },
    {
     "data": {
      "text/html": [
       " View project at <a href='https://wandb.ai/patcao/LOO-test' target=\"_blank\">https://wandb.ai/patcao/LOO-test</a>"
      ],
      "text/plain": [
       "<IPython.core.display.HTML object>"
      ]
     },
     "metadata": {},
     "output_type": "display_data"
    },
    {
     "data": {
      "text/html": [
       " View run at <a href='https://wandb.ai/patcao/LOO-test/runs/p908nzjd' target=\"_blank\">https://wandb.ai/patcao/LOO-test/runs/p908nzjd</a>"
      ],
      "text/plain": [
       "<IPython.core.display.HTML object>"
      ]
     },
     "metadata": {},
     "output_type": "display_data"
    },
    {
     "name": "stderr",
     "output_type": "stream",
     "text": [
      "100%|████████████████████████████████████████████████████████████████████████████████████████████████████████████████████| 57/57 [00:01<00:00, 29.90batch/s]\n",
      "100%|████████████████████████████████████████████████████████████████████████████████████████████████████████████████████| 57/57 [00:01<00:00, 31.56batch/s]\n",
      "100%|████████████████████████████████████████████████████████████████████████████████████████████████████████████████████| 57/57 [00:01<00:00, 31.60batch/s]\n",
      "100%|████████████████████████████████████████████████████████████████████████████████████████████████████████████████████| 57/57 [00:01<00:00, 31.35batch/s]\n",
      "100%|████████████████████████████████████████████████████████████████████████████████████████████████████████████████████| 57/57 [00:01<00:00, 31.73batch/s]\n",
      "100%|████████████████████████████████████████████████████████████████████████████████████████████████████████████████████| 57/57 [00:01<00:00, 31.62batch/s]\n",
      "100%|████████████████████████████████████████████████████████████████████████████████████████████████████████████████████| 57/57 [00:01<00:00, 31.42batch/s]\n",
      "100%|████████████████████████████████████████████████████████████████████████████████████████████████████████████████████| 57/57 [00:01<00:00, 31.53batch/s]\n",
      "100%|████████████████████████████████████████████████████████████████████████████████████████████████████████████████████| 57/57 [00:01<00:00, 31.53batch/s]\n",
      "100%|████████████████████████████████████████████████████████████████████████████████████████████████████████████████████| 57/57 [00:01<00:00, 31.46batch/s]\n"
     ]
    },
    {
     "data": {
      "text/html": [
       "Waiting for W&B process to finish... <strong style=\"color:green\">(success).</strong>"
      ],
      "text/plain": [
       "<IPython.core.display.HTML object>"
      ]
     },
     "metadata": {},
     "output_type": "display_data"
    },
    {
     "data": {
      "application/vnd.jupyter.widget-view+json": {
       "model_id": "d585834d64264b72954b7bd7c44e5b2e",
       "version_major": 2,
       "version_minor": 0
      },
      "text/plain": [
       "VBox(children=(Label(value='0.003 MB of 0.006 MB uploaded (0.000 MB deduped)\\r'), FloatProgress(value=0.422700…"
      ]
     },
     "metadata": {},
     "output_type": "display_data"
    },
    {
     "data": {
      "text/html": [
       "<style>\n",
       "    table.wandb td:nth-child(1) { padding: 0 10px; text-align: left ; width: auto;} td:nth-child(2) {text-align: left ; width: 100%}\n",
       "    .wandb-row { display: flex; flex-direction: row; flex-wrap: wrap; justify-content: flex-start; width: 100% }\n",
       "    .wandb-col { display: flex; flex-direction: column; flex-basis: 100%; flex: 1; padding: 10px; }\n",
       "    </style>\n",
       "<div class=\"wandb-row\"><div class=\"wandb-col\"><h3>Run history:</h3><br/><table class=\"wandb\"><tr><td>epoch</td><td>▁▂▃▃▄▅▆▆▇█</td></tr><tr><td>train/accuracy</td><td>▁▅▇▇██████</td></tr><tr><td>train/batch_loss</td><td>█▇██▅▅▄▃▄▂▅▅▃▄▃▂▅▅▄▃▂▂▁▃▂▃▃▄▁▅▃▃▄▂▁▂▅▂▃▂</td></tr><tr><td>train/loss</td><td>█▅▃▂▂▂▁▁▁▁</td></tr></table><br/></div><div class=\"wandb-col\"><h3>Run summary:</h3><br/><table class=\"wandb\"><tr><td>epoch</td><td>10</td></tr><tr><td>test/accuracy</td><td>77.1789</td></tr><tr><td>test/loss</td><td>0.51965</td></tr><tr><td>train/accuracy</td><td>90.57018</td></tr><tr><td>train/batch_loss</td><td>0.06399</td></tr><tr><td>train/loss</td><td>0.25092</td></tr></table><br/></div></div>"
      ],
      "text/plain": [
       "<IPython.core.display.HTML object>"
      ]
     },
     "metadata": {},
     "output_type": "display_data"
    },
    {
     "data": {
      "text/html": [
       " View run <strong style=\"color:#cdcd00\">lyric-valley-113</strong> at: <a href='https://wandb.ai/patcao/LOO-test/runs/p908nzjd' target=\"_blank\">https://wandb.ai/patcao/LOO-test/runs/p908nzjd</a><br/>Synced 6 W&B file(s), 0 media file(s), 0 artifact file(s) and 0 other file(s)"
      ],
      "text/plain": [
       "<IPython.core.display.HTML object>"
      ]
     },
     "metadata": {},
     "output_type": "display_data"
    },
    {
     "data": {
      "text/html": [
       "Find logs at: <code>./wandb/run-20230503_132846-p908nzjd/logs</code>"
      ],
      "text/plain": [
       "<IPython.core.display.HTML object>"
      ]
     },
     "metadata": {},
     "output_type": "display_data"
    }
   ],
   "source": [
    "remove_pct = 0.1\n",
    "remove_length = int(remove_pct * len(train_dataset))\n",
    "\n",
    "top_indxs = np.argsort(-infl)[:remove_length]\n",
    "loo_dataset = create_loo_dataset(train_dataset, top_indxs)\n",
    "\n",
    "t_model, tdf, top_test_loss, top_test_acc = train_model(\n",
    "    loo_dataset, test_dataset, config\n",
    ")"
   ]
  },
  {
   "cell_type": "code",
   "execution_count": 58,
   "id": "b66795a5-9761-4015-a1e7-d78f29981338",
   "metadata": {
    "execution": {
     "iopub.execute_input": "2023-05-03T17:29:17.954090Z",
     "iopub.status.busy": "2023-05-03T17:29:17.953936Z",
     "iopub.status.idle": "2023-05-03T17:29:17.980576Z",
     "shell.execute_reply": "2023-05-03T17:29:17.979784Z",
     "shell.execute_reply.started": "2023-05-03T17:29:17.954076Z"
    },
    "tags": []
   },
   "outputs": [
    {
     "data": {
      "text/html": [
       "<div>\n",
       "<style scoped>\n",
       "    .dataframe tbody tr th:only-of-type {\n",
       "        vertical-align: middle;\n",
       "    }\n",
       "\n",
       "    .dataframe tbody tr th {\n",
       "        vertical-align: top;\n",
       "    }\n",
       "\n",
       "    .dataframe thead th {\n",
       "        text-align: right;\n",
       "    }\n",
       "</style>\n",
       "<table border=\"1\" class=\"dataframe\">\n",
       "  <thead>\n",
       "    <tr style=\"text-align: right;\">\n",
       "      <th></th>\n",
       "      <th>test_guid</th>\n",
       "      <th>logits</th>\n",
       "      <th>pred</th>\n",
       "      <th>label</th>\n",
       "      <th>loss</th>\n",
       "    </tr>\n",
       "  </thead>\n",
       "  <tbody>\n",
       "    <tr>\n",
       "      <th>218</th>\n",
       "      <td>218</td>\n",
       "      <td>[-3.8995392, 3.4783514]</td>\n",
       "      <td>1</td>\n",
       "      <td>0</td>\n",
       "      <td>7.378515</td>\n",
       "    </tr>\n",
       "  </tbody>\n",
       "</table>\n",
       "</div>"
      ],
      "text/plain": [
       "     test_guid                   logits  pred  label      loss\n",
       "218        218  [-3.8995392, 3.4783514]     1      0  7.378515"
      ]
     },
     "execution_count": 58,
     "metadata": {},
     "output_type": "execute_result"
    }
   ],
   "source": [
    "tdf[tdf.test_guid == TEST_GUID]"
   ]
  },
  {
   "cell_type": "markdown",
   "id": "5eefaafc-4830-4852-aa33-a6e06c25c0f1",
   "metadata": {
    "jp-MarkdownHeadingCollapsed": true,
    "tags": []
   },
   "source": [
    "## Remove Bottom 10% Influences"
   ]
  },
  {
   "cell_type": "code",
   "execution_count": 59,
   "id": "3aa1a6ad-72af-4424-be7f-ec73084189ef",
   "metadata": {
    "execution": {
     "iopub.execute_input": "2023-05-03T17:29:17.981427Z",
     "iopub.status.busy": "2023-05-03T17:29:17.981262Z",
     "iopub.status.idle": "2023-05-03T17:29:49.348724Z",
     "shell.execute_reply": "2023-05-03T17:29:49.348018Z",
     "shell.execute_reply.started": "2023-05-03T17:29:17.981413Z"
    }
   },
   "outputs": [
    {
     "name": "stderr",
     "output_type": "stream",
     "text": [
      "Some weights of the model checkpoint at distilbert-base-uncased were not used when initializing DistilBertModel: ['vocab_transform.weight', 'vocab_projector.weight', 'vocab_layer_norm.weight', 'vocab_transform.bias', 'vocab_projector.bias', 'vocab_layer_norm.bias']\n",
      "- This IS expected if you are initializing DistilBertModel from the checkpoint of a model trained on another task or with another architecture (e.g. initializing a BertForSequenceClassification model from a BertForPreTraining model).\n",
      "- This IS NOT expected if you are initializing DistilBertModel from the checkpoint of a model that you expect to be exactly identical (initializing a BertForSequenceClassification model from a BertForSequenceClassification model).\n"
     ]
    },
    {
     "data": {
      "text/html": [
       "wandb version 0.15.1 is available!  To upgrade, please run:\n",
       " $ pip install wandb --upgrade"
      ],
      "text/plain": [
       "<IPython.core.display.HTML object>"
      ]
     },
     "metadata": {},
     "output_type": "display_data"
    },
    {
     "data": {
      "text/html": [
       "Tracking run with wandb version 0.15.0"
      ],
      "text/plain": [
       "<IPython.core.display.HTML object>"
      ]
     },
     "metadata": {},
     "output_type": "display_data"
    },
    {
     "data": {
      "text/html": [
       "Run data is saved locally in <code>/home/pcao/sentiment-influence-function/wandb/run-20230503_132918-p7lp0ig7</code>"
      ],
      "text/plain": [
       "<IPython.core.display.HTML object>"
      ]
     },
     "metadata": {},
     "output_type": "display_data"
    },
    {
     "data": {
      "text/html": [
       "Syncing run <strong><a href='https://wandb.ai/patcao/LOO-test/runs/p7lp0ig7' target=\"_blank\">vague-paper-114</a></strong> to <a href='https://wandb.ai/patcao/LOO-test' target=\"_blank\">Weights & Biases</a> (<a href='https://wandb.me/run' target=\"_blank\">docs</a>)<br/>"
      ],
      "text/plain": [
       "<IPython.core.display.HTML object>"
      ]
     },
     "metadata": {},
     "output_type": "display_data"
    },
    {
     "data": {
      "text/html": [
       " View project at <a href='https://wandb.ai/patcao/LOO-test' target=\"_blank\">https://wandb.ai/patcao/LOO-test</a>"
      ],
      "text/plain": [
       "<IPython.core.display.HTML object>"
      ]
     },
     "metadata": {},
     "output_type": "display_data"
    },
    {
     "data": {
      "text/html": [
       " View run at <a href='https://wandb.ai/patcao/LOO-test/runs/p7lp0ig7' target=\"_blank\">https://wandb.ai/patcao/LOO-test/runs/p7lp0ig7</a>"
      ],
      "text/plain": [
       "<IPython.core.display.HTML object>"
      ]
     },
     "metadata": {},
     "output_type": "display_data"
    },
    {
     "name": "stderr",
     "output_type": "stream",
     "text": [
      "100%|████████████████████████████████████████████████████████████████████████████████████████████████████████████████████| 57/57 [00:01<00:00, 31.55batch/s]\n",
      "100%|████████████████████████████████████████████████████████████████████████████████████████████████████████████████████| 57/57 [00:01<00:00, 31.95batch/s]\n",
      "100%|████████████████████████████████████████████████████████████████████████████████████████████████████████████████████| 57/57 [00:01<00:00, 31.98batch/s]\n",
      "100%|████████████████████████████████████████████████████████████████████████████████████████████████████████████████████| 57/57 [00:01<00:00, 32.04batch/s]\n",
      "100%|████████████████████████████████████████████████████████████████████████████████████████████████████████████████████| 57/57 [00:01<00:00, 31.94batch/s]\n",
      "100%|████████████████████████████████████████████████████████████████████████████████████████████████████████████████████| 57/57 [00:01<00:00, 31.88batch/s]\n",
      "100%|████████████████████████████████████████████████████████████████████████████████████████████████████████████████████| 57/57 [00:01<00:00, 31.88batch/s]\n",
      "100%|████████████████████████████████████████████████████████████████████████████████████████████████████████████████████| 57/57 [00:01<00:00, 31.91batch/s]\n",
      "100%|████████████████████████████████████████████████████████████████████████████████████████████████████████████████████| 57/57 [00:01<00:00, 31.54batch/s]\n",
      "100%|████████████████████████████████████████████████████████████████████████████████████████████████████████████████████| 57/57 [00:01<00:00, 31.85batch/s]\n"
     ]
    },
    {
     "data": {
      "text/html": [
       "Waiting for W&B process to finish... <strong style=\"color:green\">(success).</strong>"
      ],
      "text/plain": [
       "<IPython.core.display.HTML object>"
      ]
     },
     "metadata": {},
     "output_type": "display_data"
    },
    {
     "data": {
      "text/html": [
       "<style>\n",
       "    table.wandb td:nth-child(1) { padding: 0 10px; text-align: left ; width: auto;} td:nth-child(2) {text-align: left ; width: 100%}\n",
       "    .wandb-row { display: flex; flex-direction: row; flex-wrap: wrap; justify-content: flex-start; width: 100% }\n",
       "    .wandb-col { display: flex; flex-direction: column; flex-basis: 100%; flex: 1; padding: 10px; }\n",
       "    </style>\n",
       "<div class=\"wandb-row\"><div class=\"wandb-col\"><h3>Run history:</h3><br/><table class=\"wandb\"><tr><td>epoch</td><td>▁▂▃▃▄▅▆▆▇█</td></tr><tr><td>train/accuracy</td><td>▁▅▇▇██████</td></tr><tr><td>train/batch_loss</td><td>▇██▆▄▅▆▄▄▅▂▄▃▂▂▃▂▂▁▃▂▃▂▂▃▃▄▂▁▄▃▂▂▂▂▁▃▂▁▂</td></tr><tr><td>train/loss</td><td>█▅▃▂▂▁▂▁▁▁</td></tr></table><br/></div><div class=\"wandb-col\"><h3>Run summary:</h3><br/><table class=\"wandb\"><tr><td>epoch</td><td>10</td></tr><tr><td>test/accuracy</td><td>80.50459</td></tr><tr><td>test/loss</td><td>0.49213</td></tr><tr><td>train/accuracy</td><td>92.43421</td></tr><tr><td>train/batch_loss</td><td>0.00738</td></tr><tr><td>train/loss</td><td>0.21154</td></tr></table><br/></div></div>"
      ],
      "text/plain": [
       "<IPython.core.display.HTML object>"
      ]
     },
     "metadata": {},
     "output_type": "display_data"
    },
    {
     "data": {
      "text/html": [
       " View run <strong style=\"color:#cdcd00\">vague-paper-114</strong> at: <a href='https://wandb.ai/patcao/LOO-test/runs/p7lp0ig7' target=\"_blank\">https://wandb.ai/patcao/LOO-test/runs/p7lp0ig7</a><br/>Synced 6 W&B file(s), 0 media file(s), 0 artifact file(s) and 0 other file(s)"
      ],
      "text/plain": [
       "<IPython.core.display.HTML object>"
      ]
     },
     "metadata": {},
     "output_type": "display_data"
    },
    {
     "data": {
      "text/html": [
       "Find logs at: <code>./wandb/run-20230503_132918-p7lp0ig7/logs</code>"
      ],
      "text/plain": [
       "<IPython.core.display.HTML object>"
      ]
     },
     "metadata": {},
     "output_type": "display_data"
    }
   ],
   "source": [
    "remove_pct = 0.1\n",
    "remove_length = int(remove_pct * len(train_dataset))\n",
    "\n",
    "top_indxs = np.argsort(infl)[:remove_length]\n",
    "loo_dataset = create_loo_dataset(train_dataset, top_indxs)\n",
    "\n",
    "b_model, bdf, bot_test_loss, bot_test_acc = train_model(\n",
    "    loo_dataset, test_dataset, config\n",
    ")"
   ]
  },
  {
   "cell_type": "code",
   "execution_count": 60,
   "id": "a38479db-102a-4140-af57-24847bef82d0",
   "metadata": {
    "execution": {
     "iopub.execute_input": "2023-05-03T17:29:49.349910Z",
     "iopub.status.busy": "2023-05-03T17:29:49.349733Z",
     "iopub.status.idle": "2023-05-03T17:29:49.374211Z",
     "shell.execute_reply": "2023-05-03T17:29:49.373498Z",
     "shell.execute_reply.started": "2023-05-03T17:29:49.349895Z"
    },
    "tags": []
   },
   "outputs": [
    {
     "data": {
      "text/html": [
       "<div>\n",
       "<style scoped>\n",
       "    .dataframe tbody tr th:only-of-type {\n",
       "        vertical-align: middle;\n",
       "    }\n",
       "\n",
       "    .dataframe tbody tr th {\n",
       "        vertical-align: top;\n",
       "    }\n",
       "\n",
       "    .dataframe thead th {\n",
       "        text-align: right;\n",
       "    }\n",
       "</style>\n",
       "<table border=\"1\" class=\"dataframe\">\n",
       "  <thead>\n",
       "    <tr style=\"text-align: right;\">\n",
       "      <th></th>\n",
       "      <th>test_guid</th>\n",
       "      <th>logits</th>\n",
       "      <th>pred</th>\n",
       "      <th>label</th>\n",
       "      <th>loss</th>\n",
       "    </tr>\n",
       "  </thead>\n",
       "  <tbody>\n",
       "    <tr>\n",
       "      <th>218</th>\n",
       "      <td>218</td>\n",
       "      <td>[-2.6175587, 2.196372]</td>\n",
       "      <td>1</td>\n",
       "      <td>0</td>\n",
       "      <td>4.822014</td>\n",
       "    </tr>\n",
       "  </tbody>\n",
       "</table>\n",
       "</div>"
      ],
      "text/plain": [
       "     test_guid                  logits  pred  label      loss\n",
       "218        218  [-2.6175587, 2.196372]     1      0  4.822014"
      ]
     },
     "execution_count": 60,
     "metadata": {},
     "output_type": "execute_result"
    }
   ],
   "source": [
    "fdf[fdf.test_guid == TEST_GUID]"
   ]
  },
  {
   "cell_type": "code",
   "execution_count": 61,
   "id": "6ddef4be-c49e-4f4a-804e-1c27e6f936c3",
   "metadata": {
    "execution": {
     "iopub.execute_input": "2023-05-03T17:29:49.376237Z",
     "iopub.status.busy": "2023-05-03T17:29:49.375889Z",
     "iopub.status.idle": "2023-05-03T17:29:49.403080Z",
     "shell.execute_reply": "2023-05-03T17:29:49.402359Z",
     "shell.execute_reply.started": "2023-05-03T17:29:49.376220Z"
    },
    "tags": []
   },
   "outputs": [
    {
     "data": {
      "text/html": [
       "<div>\n",
       "<style scoped>\n",
       "    .dataframe tbody tr th:only-of-type {\n",
       "        vertical-align: middle;\n",
       "    }\n",
       "\n",
       "    .dataframe tbody tr th {\n",
       "        vertical-align: top;\n",
       "    }\n",
       "\n",
       "    .dataframe thead th {\n",
       "        text-align: right;\n",
       "    }\n",
       "</style>\n",
       "<table border=\"1\" class=\"dataframe\">\n",
       "  <thead>\n",
       "    <tr style=\"text-align: right;\">\n",
       "      <th></th>\n",
       "      <th>test_guid</th>\n",
       "      <th>logits</th>\n",
       "      <th>pred</th>\n",
       "      <th>label</th>\n",
       "      <th>loss</th>\n",
       "    </tr>\n",
       "  </thead>\n",
       "  <tbody>\n",
       "    <tr>\n",
       "      <th>218</th>\n",
       "      <td>218</td>\n",
       "      <td>[-2.3591306, 1.9379474]</td>\n",
       "      <td>1</td>\n",
       "      <td>0</td>\n",
       "      <td>4.310595</td>\n",
       "    </tr>\n",
       "  </tbody>\n",
       "</table>\n",
       "</div>"
      ],
      "text/plain": [
       "     test_guid                   logits  pred  label      loss\n",
       "218        218  [-2.3591306, 1.9379474]     1      0  4.310595"
      ]
     },
     "execution_count": 61,
     "metadata": {},
     "output_type": "execute_result"
    }
   ],
   "source": [
    "rdf[rdf.test_guid == TEST_GUID]"
   ]
  },
  {
   "cell_type": "code",
   "execution_count": 62,
   "id": "aacbbcec-9a8e-4c90-8456-1bc0651971d3",
   "metadata": {
    "execution": {
     "iopub.execute_input": "2023-05-03T17:29:49.404238Z",
     "iopub.status.busy": "2023-05-03T17:29:49.404039Z",
     "iopub.status.idle": "2023-05-03T17:29:49.429495Z",
     "shell.execute_reply": "2023-05-03T17:29:49.428728Z",
     "shell.execute_reply.started": "2023-05-03T17:29:49.404222Z"
    },
    "tags": []
   },
   "outputs": [
    {
     "data": {
      "text/html": [
       "<div>\n",
       "<style scoped>\n",
       "    .dataframe tbody tr th:only-of-type {\n",
       "        vertical-align: middle;\n",
       "    }\n",
       "\n",
       "    .dataframe tbody tr th {\n",
       "        vertical-align: top;\n",
       "    }\n",
       "\n",
       "    .dataframe thead th {\n",
       "        text-align: right;\n",
       "    }\n",
       "</style>\n",
       "<table border=\"1\" class=\"dataframe\">\n",
       "  <thead>\n",
       "    <tr style=\"text-align: right;\">\n",
       "      <th></th>\n",
       "      <th>test_guid</th>\n",
       "      <th>logits</th>\n",
       "      <th>pred</th>\n",
       "      <th>label</th>\n",
       "      <th>loss</th>\n",
       "    </tr>\n",
       "  </thead>\n",
       "  <tbody>\n",
       "    <tr>\n",
       "      <th>218</th>\n",
       "      <td>218</td>\n",
       "      <td>[-3.8995392, 3.4783514]</td>\n",
       "      <td>1</td>\n",
       "      <td>0</td>\n",
       "      <td>7.378515</td>\n",
       "    </tr>\n",
       "  </tbody>\n",
       "</table>\n",
       "</div>"
      ],
      "text/plain": [
       "     test_guid                   logits  pred  label      loss\n",
       "218        218  [-3.8995392, 3.4783514]     1      0  7.378515"
      ]
     },
     "execution_count": 62,
     "metadata": {},
     "output_type": "execute_result"
    }
   ],
   "source": [
    "tdf[tdf.test_guid == TEST_GUID]"
   ]
  },
  {
   "cell_type": "code",
   "execution_count": 63,
   "id": "752247ef-4fef-4230-8577-fbdfbc48cf07",
   "metadata": {
    "execution": {
     "iopub.execute_input": "2023-05-03T17:29:49.430352Z",
     "iopub.status.busy": "2023-05-03T17:29:49.430161Z",
     "iopub.status.idle": "2023-05-03T17:29:49.455168Z",
     "shell.execute_reply": "2023-05-03T17:29:49.454509Z",
     "shell.execute_reply.started": "2023-05-03T17:29:49.430336Z"
    }
   },
   "outputs": [
    {
     "data": {
      "text/html": [
       "<div>\n",
       "<style scoped>\n",
       "    .dataframe tbody tr th:only-of-type {\n",
       "        vertical-align: middle;\n",
       "    }\n",
       "\n",
       "    .dataframe tbody tr th {\n",
       "        vertical-align: top;\n",
       "    }\n",
       "\n",
       "    .dataframe thead th {\n",
       "        text-align: right;\n",
       "    }\n",
       "</style>\n",
       "<table border=\"1\" class=\"dataframe\">\n",
       "  <thead>\n",
       "    <tr style=\"text-align: right;\">\n",
       "      <th></th>\n",
       "      <th>test_guid</th>\n",
       "      <th>logits</th>\n",
       "      <th>pred</th>\n",
       "      <th>label</th>\n",
       "      <th>loss</th>\n",
       "    </tr>\n",
       "  </thead>\n",
       "  <tbody>\n",
       "    <tr>\n",
       "      <th>218</th>\n",
       "      <td>218</td>\n",
       "      <td>[-1.9649189, 1.5437354]</td>\n",
       "      <td>1</td>\n",
       "      <td>0</td>\n",
       "      <td>3.538152</td>\n",
       "    </tr>\n",
       "  </tbody>\n",
       "</table>\n",
       "</div>"
      ],
      "text/plain": [
       "     test_guid                   logits  pred  label      loss\n",
       "218        218  [-1.9649189, 1.5437354]     1      0  3.538152"
      ]
     },
     "execution_count": 63,
     "metadata": {},
     "output_type": "execute_result"
    }
   ],
   "source": [
    "bdf[bdf.test_guid == TEST_GUID]"
   ]
  },
  {
   "cell_type": "code",
   "execution_count": 64,
   "id": "f55e75ef-98fe-4f5c-9093-0b742c365a06",
   "metadata": {
    "execution": {
     "iopub.execute_input": "2023-05-03T17:29:49.456015Z",
     "iopub.status.busy": "2023-05-03T17:29:49.455832Z",
     "iopub.status.idle": "2023-05-03T17:29:49.480846Z",
     "shell.execute_reply": "2023-05-03T17:29:49.480134Z",
     "shell.execute_reply.started": "2023-05-03T17:29:49.456000Z"
    },
    "tags": []
   },
   "outputs": [
    {
     "data": {
      "text/plain": [
       "\"all that 's missing is the spontaneity , originality and delight . \""
      ]
     },
     "execution_count": 64,
     "metadata": {},
     "output_type": "execute_result"
    }
   ],
   "source": [
    "import src.datasets as datasets\n",
    "\n",
    "datasets.get_test_example(TEST_GUID).sentence.squeeze()"
   ]
  },
  {
   "cell_type": "code",
   "execution_count": 65,
   "id": "8601b3b4-4df9-4f18-a549-e1e3ab9cf1f5",
   "metadata": {
    "execution": {
     "iopub.execute_input": "2023-05-03T17:29:49.481748Z",
     "iopub.status.busy": "2023-05-03T17:29:49.481559Z",
     "iopub.status.idle": "2023-05-03T17:29:49.511034Z",
     "shell.execute_reply": "2023-05-03T17:29:49.510361Z",
     "shell.execute_reply.started": "2023-05-03T17:29:49.481732Z"
    },
    "tags": []
   },
   "outputs": [
    {
     "data": {
      "text/html": [
       "<div>\n",
       "<style scoped>\n",
       "    .dataframe tbody tr th:only-of-type {\n",
       "        vertical-align: middle;\n",
       "    }\n",
       "\n",
       "    .dataframe tbody tr th {\n",
       "        vertical-align: top;\n",
       "    }\n",
       "\n",
       "    .dataframe thead th {\n",
       "        text-align: right;\n",
       "    }\n",
       "</style>\n",
       "<table border=\"1\" class=\"dataframe\">\n",
       "  <thead>\n",
       "    <tr style=\"text-align: right;\">\n",
       "      <th></th>\n",
       "      <th>test_guid</th>\n",
       "      <th>logits</th>\n",
       "      <th>pred</th>\n",
       "      <th>label</th>\n",
       "      <th>loss</th>\n",
       "    </tr>\n",
       "  </thead>\n",
       "  <tbody>\n",
       "    <tr>\n",
       "      <th>862</th>\n",
       "      <td>862</td>\n",
       "      <td>[-2.6032255, 2.5181246]</td>\n",
       "      <td>1</td>\n",
       "      <td>0</td>\n",
       "      <td>5.127301</td>\n",
       "    </tr>\n",
       "    <tr>\n",
       "      <th>218</th>\n",
       "      <td>218</td>\n",
       "      <td>[-2.6175587, 2.196372]</td>\n",
       "      <td>1</td>\n",
       "      <td>0</td>\n",
       "      <td>4.822014</td>\n",
       "    </tr>\n",
       "    <tr>\n",
       "      <th>528</th>\n",
       "      <td>528</td>\n",
       "      <td>[1.7552543, -2.128434]</td>\n",
       "      <td>0</td>\n",
       "      <td>1</td>\n",
       "      <td>3.904054</td>\n",
       "    </tr>\n",
       "    <tr>\n",
       "      <th>292</th>\n",
       "      <td>292</td>\n",
       "      <td>[-1.9731425, 1.7984262]</td>\n",
       "      <td>1</td>\n",
       "      <td>0</td>\n",
       "      <td>3.794324</td>\n",
       "    </tr>\n",
       "    <tr>\n",
       "      <th>494</th>\n",
       "      <td>494</td>\n",
       "      <td>[-1.9141355, 1.6650913]</td>\n",
       "      <td>1</td>\n",
       "      <td>0</td>\n",
       "      <td>3.606742</td>\n",
       "    </tr>\n",
       "    <tr>\n",
       "      <th>...</th>\n",
       "      <td>...</td>\n",
       "      <td>...</td>\n",
       "      <td>...</td>\n",
       "      <td>...</td>\n",
       "      <td>...</td>\n",
       "    </tr>\n",
       "    <tr>\n",
       "      <th>837</th>\n",
       "      <td>837</td>\n",
       "      <td>[-4.07821, 3.9298441]</td>\n",
       "      <td>1</td>\n",
       "      <td>1</td>\n",
       "      <td>0.000333</td>\n",
       "    </tr>\n",
       "    <tr>\n",
       "      <th>502</th>\n",
       "      <td>502</td>\n",
       "      <td>[4.060814, -3.968587]</td>\n",
       "      <td>0</td>\n",
       "      <td>0</td>\n",
       "      <td>0.000326</td>\n",
       "    </tr>\n",
       "    <tr>\n",
       "      <th>457</th>\n",
       "      <td>457</td>\n",
       "      <td>[-4.258335, 4.074312]</td>\n",
       "      <td>1</td>\n",
       "      <td>1</td>\n",
       "      <td>0.000241</td>\n",
       "    </tr>\n",
       "    <tr>\n",
       "      <th>443</th>\n",
       "      <td>443</td>\n",
       "      <td>[-4.2041993, 4.1626873]</td>\n",
       "      <td>1</td>\n",
       "      <td>1</td>\n",
       "      <td>0.000232</td>\n",
       "    </tr>\n",
       "    <tr>\n",
       "      <th>334</th>\n",
       "      <td>334</td>\n",
       "      <td>[-5.2226787, 4.994965]</td>\n",
       "      <td>1</td>\n",
       "      <td>1</td>\n",
       "      <td>0.000036</td>\n",
       "    </tr>\n",
       "  </tbody>\n",
       "</table>\n",
       "<p>872 rows × 5 columns</p>\n",
       "</div>"
      ],
      "text/plain": [
       "     test_guid                   logits  pred  label      loss\n",
       "862        862  [-2.6032255, 2.5181246]     1      0  5.127301\n",
       "218        218   [-2.6175587, 2.196372]     1      0  4.822014\n",
       "528        528   [1.7552543, -2.128434]     0      1  3.904054\n",
       "292        292  [-1.9731425, 1.7984262]     1      0  3.794324\n",
       "494        494  [-1.9141355, 1.6650913]     1      0  3.606742\n",
       "..         ...                      ...   ...    ...       ...\n",
       "837        837    [-4.07821, 3.9298441]     1      1  0.000333\n",
       "502        502    [4.060814, -3.968587]     0      0  0.000326\n",
       "457        457    [-4.258335, 4.074312]     1      1  0.000241\n",
       "443        443  [-4.2041993, 4.1626873]     1      1  0.000232\n",
       "334        334   [-5.2226787, 4.994965]     1      1  0.000036\n",
       "\n",
       "[872 rows x 5 columns]"
      ]
     },
     "execution_count": 65,
     "metadata": {},
     "output_type": "execute_result"
    }
   ],
   "source": [
    "fdf.sort_values(\"loss\", ascending=False)"
   ]
  },
  {
   "cell_type": "code",
   "execution_count": null,
   "id": "35272b8e-e604-4a59-9d8f-041e91933ef9",
   "metadata": {},
   "outputs": [],
   "source": []
  },
  {
   "cell_type": "code",
   "execution_count": 66,
   "id": "3e53a87a-f015-436c-b92e-6359895330e1",
   "metadata": {
    "execution": {
     "iopub.execute_input": "2023-05-03T17:29:49.511886Z",
     "iopub.status.busy": "2023-05-03T17:29:49.511706Z",
     "iopub.status.idle": "2023-05-03T17:29:49.535542Z",
     "shell.execute_reply": "2023-05-03T17:29:49.534674Z",
     "shell.execute_reply.started": "2023-05-03T17:29:49.511866Z"
    }
   },
   "outputs": [
    {
     "ename": "SyntaxError",
     "evalue": "invalid syntax (2563437544.py, line 1)",
     "output_type": "error",
     "traceback": [
      "\u001b[0;36m  Cell \u001b[0;32mIn[66], line 1\u001b[0;36m\u001b[0m\n\u001b[0;31m    ---stop---\u001b[0m\n\u001b[0m              ^\u001b[0m\n\u001b[0;31mSyntaxError\u001b[0m\u001b[0;31m:\u001b[0m invalid syntax\n"
     ]
    }
   ],
   "source": [
    "---stop---"
   ]
  },
  {
   "cell_type": "markdown",
   "id": "a00b71ea-f9bd-4aef-be51-cce0f410c0ad",
   "metadata": {
    "jp-MarkdownHeadingCollapsed": true,
    "tags": []
   },
   "source": [
    "## Compare IF and LOO"
   ]
  },
  {
   "cell_type": "code",
   "execution_count": null,
   "id": "b647b3dc-da4a-4851-930a-c89e7557994e",
   "metadata": {
    "execution": {
     "iopub.status.busy": "2023-05-03T17:29:49.535941Z",
     "iopub.status.idle": "2023-05-03T17:29:49.536149Z",
     "shell.execute_reply": "2023-05-03T17:29:49.536057Z",
     "shell.execute_reply.started": "2023-05-03T17:29:49.536046Z"
    },
    "tags": []
   },
   "outputs": [],
   "source": [
    "fdf[fdf.test_guid == test_guid].loss.squeeze()"
   ]
  },
  {
   "cell_type": "code",
   "execution_count": null,
   "id": "760bd9e0-64e7-4834-9ab0-fb841e0f3376",
   "metadata": {
    "execution": {
     "iopub.status.busy": "2023-05-03T17:29:49.537982Z",
     "iopub.status.idle": "2023-05-03T17:29:49.538249Z",
     "shell.execute_reply": "2023-05-03T17:29:49.538147Z",
     "shell.execute_reply.started": "2023-05-03T17:29:49.538137Z"
    },
    "tags": []
   },
   "outputs": [],
   "source": [
    "# Load Losses from File\n",
    "# ldf = pd.read_csv(\"loo_10k/all_loo_losses.csv\")\n",
    "ldf = pd.concat(loo_dfs, axis=0)\n",
    "\n",
    "ldf = ldf[ldf.test_guid == test_guid]\n",
    "ldf[\"loss_diff\"] = ldf[\"loss\"] - fdf[fdf.test_guid == test_guid].loss.squeeze()\n",
    "ldf[\"if_diff\"] = (-100.0 / len(train_dataset)) * infl[: len(ldf)]\n",
    "ldf[\"if_diff2\"] = (-1000.0 / len(train_dataset)) * influences[: len(ldf)]\n",
    "ldf"
   ]
  },
  {
   "cell_type": "code",
   "execution_count": null,
   "id": "e7846573-d160-4d5a-a687-f6092d322b80",
   "metadata": {
    "execution": {
     "iopub.status.busy": "2023-05-03T17:29:49.539473Z",
     "iopub.status.idle": "2023-05-03T17:29:49.539718Z",
     "shell.execute_reply": "2023-05-03T17:29:49.539617Z",
     "shell.execute_reply.started": "2023-05-03T17:29:49.539606Z"
    },
    "tags": []
   },
   "outputs": [],
   "source": [
    "print(ldf[[\"loss_diff\", \"if_diff\", \"if_diff2\"]].corr())\n",
    "ldf[[\"loss_diff\", \"if_diff\"]]"
   ]
  },
  {
   "cell_type": "code",
   "execution_count": null,
   "id": "3eab7de8-a6c1-4f48-8c8e-50c5b4c8a94d",
   "metadata": {
    "execution": {
     "iopub.status.busy": "2023-05-03T17:29:49.541032Z",
     "iopub.status.idle": "2023-05-03T17:29:49.541262Z",
     "shell.execute_reply": "2023-05-03T17:29:49.541169Z",
     "shell.execute_reply.started": "2023-05-03T17:29:49.541159Z"
    },
    "tags": []
   },
   "outputs": [],
   "source": [
    "ldf[[\"loss_diff\", \"if_diff\"]].plot.scatter(\"loss_diff\", \"if_diff\")"
   ]
  },
  {
   "cell_type": "markdown",
   "id": "2a9f0342-b632-4447-b17e-be443f77e07d",
   "metadata": {
    "jp-MarkdownHeadingCollapsed": true,
    "tags": []
   },
   "source": [
    "## Compute Input Influence"
   ]
  },
  {
   "cell_type": "code",
   "execution_count": null,
   "id": "328dcc5a-480d-4ca2-9545-2d12f0014884",
   "metadata": {
    "execution": {
     "iopub.status.busy": "2023-05-03T17:29:49.542313Z",
     "iopub.status.idle": "2023-05-03T17:29:49.542516Z",
     "shell.execute_reply": "2023-05-03T17:29:49.542427Z",
     "shell.execute_reply.started": "2023-05-03T17:29:49.542417Z"
    },
    "tags": []
   },
   "outputs": [],
   "source": [
    "# import src.influence as inf_utils\n",
    "\n",
    "# test_guid = 560\n",
    "# param_infl = list(full_model.classifier.parameters())\n",
    "# infl = inf_utils.compute_input_influence(\n",
    "#     full_model=full_model,\n",
    "#     test_guid=test_guid,\n",
    "#     param_influence=param_infl,\n",
    "#     train_dataset=train_dataset,\n",
    "#     test_dataset=test_dataset,\n",
    "#     lissa_r=1,\n",
    "#     lissa_depth=0.1,\n",
    "#     damping=5e-3,\n",
    "#     scale=100,\n",
    "#     training_indices=[0],\n",
    "# )"
   ]
  },
  {
   "cell_type": "markdown",
   "id": "0877c066-c33c-49e0-a1d5-3a6ebafd72f8",
   "metadata": {
    "jp-MarkdownHeadingCollapsed": true,
    "tags": []
   },
   "source": [
    "## Torch Influence"
   ]
  },
  {
   "cell_type": "code",
   "execution_count": null,
   "id": "d524668e-4893-4920-ac8a-2a8fab64742a",
   "metadata": {
    "execution": {
     "iopub.status.busy": "2023-05-03T17:29:49.543416Z",
     "iopub.status.idle": "2023-05-03T17:29:49.543642Z",
     "shell.execute_reply": "2023-05-03T17:29:49.543554Z",
     "shell.execute_reply.started": "2023-05-03T17:29:49.543544Z"
    },
    "tags": []
   },
   "outputs": [],
   "source": [
    "import copy\n",
    "\n",
    "from src.torch_influence import BaseObjective\n",
    "from src.torch_influence.modules import CGInfluenceModule, LiSSAInfluenceModule\n",
    "\n",
    "\n",
    "class BinClassObjective(BaseObjective):\n",
    "    def train_outputs(self, model, batch):\n",
    "        b_guids, b_input_ids, b_attn_mask, b_labels = (t.to(device) for t in batch)\n",
    "        return model(b_input_ids, b_attn_mask)\n",
    "\n",
    "    def train_loss_on_outputs(self, outputs, batch):\n",
    "        b_guids, b_input_ids, b_attn_mask, b_labels = (t.to(device) for t in batch)\n",
    "        loss_fn = torch.nn.CrossEntropyLoss()\n",
    "        return loss_fn(outputs, b_labels)\n",
    "\n",
    "    def train_regularization(self, params):\n",
    "        return 0\n",
    "\n",
    "    def test_loss(self, model, params, batch):\n",
    "        loss_fn = torch.nn.CrossEntropyLoss()\n",
    "\n",
    "        b_guids, b_input_ids, b_attn_mask, b_labels = (t.to(device) for t in batch)\n",
    "        outputs = model(b_input_ids, b_attn_mask)\n",
    "\n",
    "        return loss_fn(outputs, b_labels)\n",
    "\n",
    "\n",
    "infl_model = BertClassifier.create_bert_classifier(\n",
    "    config[\"bert_model_name\"],\n",
    "    classifier_type=config[\"classifier_type\"],\n",
    "    classifier_hidden_size=config[\"classifier_hidden_size\"],\n",
    "    classifier_drop_out=config[\"classifier_drop_out\"],\n",
    "    freeze_bert=True,\n",
    "    random_state=42,\n",
    ")\n",
    "infl_model.load_state_dict(copy.deepcopy(full_model.state_dict()))\n",
    "\n",
    "module = LiSSAInfluenceModule(\n",
    "    model=infl_model,\n",
    "    objective=BinClassObjective(),\n",
    "    train_loader=DataLoader(train_dataset, batch_size=32),\n",
    "    test_loader=DataLoader(test_dataset, batch_size=32),\n",
    "    device=utils.get_device(),\n",
    "    damp=0.001,\n",
    "    repeat=1,\n",
    "    depth=50,\n",
    "    scale=1e4,\n",
    ")\n",
    "\n",
    "all_train_idxs = list(range(len(train_dataset)))\n",
    "influences = module.influences(all_train_idxs, [test_guid])"
   ]
  },
  {
   "cell_type": "code",
   "execution_count": null,
   "id": "90b1c50d-da60-4de5-ae7d-adca7badfc40",
   "metadata": {
    "tags": []
   },
   "outputs": [],
   "source": []
  },
  {
   "cell_type": "code",
   "execution_count": null,
   "id": "0e5604e1-ad4c-48f5-8c1b-118734fe5690",
   "metadata": {
    "execution": {
     "iopub.status.busy": "2023-05-03T17:29:49.544913Z",
     "iopub.status.idle": "2023-05-03T17:29:49.545122Z",
     "shell.execute_reply": "2023-05-03T17:29:49.545031Z",
     "shell.execute_reply.started": "2023-05-03T17:29:49.545021Z"
    },
    "tags": []
   },
   "outputs": [],
   "source": [
    "influences[:10]"
   ]
  }
 ],
 "metadata": {
  "kernelspec": {
   "display_name": "Python 3 (ipykernel)",
   "language": "python",
   "name": "python3"
  },
  "language_info": {
   "codemirror_mode": {
    "name": "ipython",
    "version": 3
   },
   "file_extension": ".py",
   "mimetype": "text/x-python",
   "name": "python",
   "nbconvert_exporter": "python",
   "pygments_lexer": "ipython3",
   "version": "3.10.10"
  }
 },
 "nbformat": 4,
 "nbformat_minor": 5
}
