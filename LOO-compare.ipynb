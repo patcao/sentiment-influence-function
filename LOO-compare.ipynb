{
 "cells": [
  {
   "cell_type": "code",
   "execution_count": 3,
   "id": "76c761fb-f852-4b2f-9b42-8821fd108d93",
   "metadata": {
    "execution": {
     "iopub.execute_input": "2023-05-08T20:00:46.310731Z",
     "iopub.status.busy": "2023-05-08T20:00:46.310518Z",
     "iopub.status.idle": "2023-05-08T20:00:48.221822Z",
     "shell.execute_reply": "2023-05-08T20:00:48.221109Z",
     "shell.execute_reply.started": "2023-05-08T20:00:46.310717Z"
    },
    "tags": []
   },
   "outputs": [],
   "source": [
    "%load_ext autoreload\n",
    "%autoreload 2\n",
    "\n",
    "import os\n",
    "\n",
    "os.environ[\"WANDB_SILENT\"] = \"true\"\n",
    "\n",
    "import argparse\n",
    "import copy\n",
    "import json\n",
    "import os\n",
    "import statistics\n",
    "from pathlib import Path\n",
    "\n",
    "import numpy as np\n",
    "import pandas as pd\n",
    "import src.influence as inf_utils\n",
    "import torch\n",
    "import yaml\n",
    "from src import BertClassifier\n",
    "from src import datasets as data_utils\n",
    "from src import influence, train_utils, utils\n",
    "from src.datasets import create_loo_dataset, create_test_sst2, create_train_sst2\n",
    "from torch.optim import Adam\n",
    "from torch.utils.data import DataLoader, Dataset, TensorDataset\n",
    "from tqdm import tqdm\n",
    "from transformers import AutoModel, AutoTokenizer\n",
    "\n",
    "import wandb\n",
    "\n",
    "device = utils.get_device()"
   ]
  },
  {
   "cell_type": "code",
   "execution_count": 4,
   "id": "c9b62877-27b1-485a-bae2-f2700f4ba22e",
   "metadata": {
    "execution": {
     "iopub.execute_input": "2023-05-08T20:00:48.222754Z",
     "iopub.status.busy": "2023-05-08T20:00:48.222577Z",
     "iopub.status.idle": "2023-05-08T20:00:52.331149Z",
     "shell.execute_reply": "2023-05-08T20:00:52.330403Z",
     "shell.execute_reply.started": "2023-05-08T20:00:48.222740Z"
    },
    "tags": []
   },
   "outputs": [
    {
     "name": "stderr",
     "output_type": "stream",
     "text": [
      "100%|████████████████████████████████████████████████████████████████████████████████████████████████████████████████| 2000/2000 [00:00<00:00, 12911.09it/s]\n",
      "100%|██████████████████████████████████████████████████████████████████████████████████████████████████████████████████| 872/872 [00:00<00:00, 10384.24it/s]\n"
     ]
    }
   ],
   "source": [
    "config = utils.load_config(\n",
    "    \"loo_2k_l2/bert-classifier-base.yaml\",\n",
    "    # optimizer_weight_decay=1e-3,\n",
    ")\n",
    "\n",
    "# Create datasets\n",
    "train_dataset = create_train_sst2(\n",
    "    num_samples=config[\"num_training_examples\"],\n",
    "    tokenizer_name=config[\"bert_model_name\"],\n",
    "    max_seq_len=config[\"max_sequence_length\"],\n",
    "    device=device,\n",
    ")\n",
    "\n",
    "test_dataset = create_test_sst2(\n",
    "    tokenizer_name=config[\"bert_model_name\"],\n",
    "    max_seq_len=config[\"max_sequence_length\"],\n",
    "    device=device,\n",
    ")\n",
    "test_dataloader = DataLoader(test_dataset, shuffle=False, batch_size=1)"
   ]
  },
  {
   "cell_type": "code",
   "execution_count": 5,
   "id": "77b93763-094a-48c3-9176-fbfadab422d9",
   "metadata": {
    "execution": {
     "iopub.execute_input": "2023-05-08T20:00:52.332670Z",
     "iopub.status.busy": "2023-05-08T20:00:52.332241Z",
     "iopub.status.idle": "2023-05-08T20:00:52.355517Z",
     "shell.execute_reply": "2023-05-08T20:00:52.354850Z",
     "shell.execute_reply.started": "2023-05-08T20:00:52.332643Z"
    },
    "tags": []
   },
   "outputs": [
    {
     "data": {
      "text/plain": [
       "{'batch_size': 16,\n",
       " 'bert_model_name': 'distilbert-base-uncased',\n",
       " 'classifier_drop_out': 0,\n",
       " 'classifier_hidden_size': 0,\n",
       " 'classifier_init_state_path': 'model_params/init_classifier_params.pt',\n",
       " 'classifier_type': 'single-fc',\n",
       " 'epochs': 5,\n",
       " 'learning_rate': 0.005,\n",
       " 'lr_warmup_pct': 0.2,\n",
       " 'max_sequence_length': 64,\n",
       " 'optimizer_weight_decay': 0.001,\n",
       " 'num_training_examples': 2000}"
      ]
     },
     "execution_count": 5,
     "metadata": {},
     "output_type": "execute_result"
    }
   ],
   "source": [
    "config"
   ]
  },
  {
   "cell_type": "markdown",
   "id": "e74f8b04-fa03-424e-96a1-c1585e419e74",
   "metadata": {
    "tags": []
   },
   "source": [
    "## Train Full Model"
   ]
  },
  {
   "cell_type": "code",
   "execution_count": 6,
   "id": "44aa340b-1525-4fed-bc58-ec87dc3b3173",
   "metadata": {
    "execution": {
     "iopub.execute_input": "2023-05-08T20:01:13.760797Z",
     "iopub.status.busy": "2023-05-08T20:01:13.759927Z",
     "iopub.status.idle": "2023-05-08T20:03:18.652778Z",
     "shell.execute_reply": "2023-05-08T20:03:18.651969Z",
     "shell.execute_reply.started": "2023-05-08T20:01:13.760770Z"
    },
    "tags": []
   },
   "outputs": [
    {
     "name": "stderr",
     "output_type": "stream",
     "text": [
      "Some weights of the model checkpoint at distilbert-base-uncased were not used when initializing DistilBertModel: ['vocab_projector.weight', 'vocab_layer_norm.bias', 'vocab_transform.weight', 'vocab_transform.bias', 'vocab_projector.bias', 'vocab_layer_norm.weight']\n",
      "- This IS expected if you are initializing DistilBertModel from the checkpoint of a model trained on another task or with another architecture (e.g. initializing a BertForSequenceClassification model from a BertForPreTraining model).\n",
      "- This IS NOT expected if you are initializing DistilBertModel from the checkpoint of a model that you expect to be exactly identical (initializing a BertForSequenceClassification model from a BertForSequenceClassification model).\n"
     ]
    },
    {
     "name": "stdout",
     "output_type": "stream",
     "text": [
      "Initial 0.7111523025968206, 46.674311926605505\n"
     ]
    },
    {
     "name": "stderr",
     "output_type": "stream",
     "text": [
      "100%|██████████████████████████████████████████████████████████████████████████████████████████████████████████████████| 125/125 [00:11<00:00, 10.58batch/s]\n",
      "100%|██████████████████████████████████████████████████████████████████████████████████████████████████████████████████| 125/125 [00:11<00:00, 10.59batch/s]\n",
      "100%|██████████████████████████████████████████████████████████████████████████████████████████████████████████████████| 125/125 [00:11<00:00, 10.73batch/s]\n",
      "100%|██████████████████████████████████████████████████████████████████████████████████████████████████████████████████| 125/125 [00:11<00:00, 10.74batch/s]\n",
      "100%|██████████████████████████████████████████████████████████████████████████████████████████████████████████████████| 125/125 [00:09<00:00, 12.92batch/s]\n"
     ]
    },
    {
     "name": "stdout",
     "output_type": "stream",
     "text": [
      "Final 0.3977768587883808, 82.45412844036697\n"
     ]
    }
   ],
   "source": [
    "og_model, fdf, test_loss, test_acc = train_utils.train_bert_model(\n",
    "    train_dataset, test_dataset, config\n",
    ")\n",
    "\n",
    "# fdf, test_loss, test_acc = train_utils.evaluate_loss(og_model, test_dataloader)"
   ]
  },
  {
   "cell_type": "code",
   "execution_count": 7,
   "id": "2ab5b4b2-8892-4a98-b36c-b863c0bcdfaf",
   "metadata": {
    "execution": {
     "iopub.execute_input": "2023-05-08T20:03:18.654223Z",
     "iopub.status.busy": "2023-05-08T20:03:18.653742Z",
     "iopub.status.idle": "2023-05-08T20:03:18.689591Z",
     "shell.execute_reply": "2023-05-08T20:03:18.688648Z",
     "shell.execute_reply.started": "2023-05-08T20:03:18.654205Z"
    },
    "tags": []
   },
   "outputs": [
    {
     "data": {
      "text/html": [
       "<div>\n",
       "<style scoped>\n",
       "    .dataframe tbody tr th:only-of-type {\n",
       "        vertical-align: middle;\n",
       "    }\n",
       "\n",
       "    .dataframe tbody tr th {\n",
       "        vertical-align: top;\n",
       "    }\n",
       "\n",
       "    .dataframe thead th {\n",
       "        text-align: right;\n",
       "    }\n",
       "</style>\n",
       "<table border=\"1\" class=\"dataframe\">\n",
       "  <thead>\n",
       "    <tr style=\"text-align: right;\">\n",
       "      <th></th>\n",
       "      <th>test_guid</th>\n",
       "      <th>logits</th>\n",
       "      <th>pred</th>\n",
       "      <th>label</th>\n",
       "      <th>loss</th>\n",
       "    </tr>\n",
       "  </thead>\n",
       "  <tbody>\n",
       "    <tr>\n",
       "      <th>862</th>\n",
       "      <td>862</td>\n",
       "      <td>[-2.293129, 2.1657913]</td>\n",
       "      <td>1</td>\n",
       "      <td>0</td>\n",
       "      <td>4.470429</td>\n",
       "    </tr>\n",
       "    <tr>\n",
       "      <th>218</th>\n",
       "      <td>218</td>\n",
       "      <td>[-2.4086387, 1.985135]</td>\n",
       "      <td>1</td>\n",
       "      <td>0</td>\n",
       "      <td>4.406052</td>\n",
       "    </tr>\n",
       "    <tr>\n",
       "      <th>495</th>\n",
       "      <td>495</td>\n",
       "      <td>[1.9195647, -2.2569377]</td>\n",
       "      <td>0</td>\n",
       "      <td>1</td>\n",
       "      <td>4.191738</td>\n",
       "    </tr>\n",
       "    <tr>\n",
       "      <th>528</th>\n",
       "      <td>528</td>\n",
       "      <td>[1.7639592, -2.1671114]</td>\n",
       "      <td>0</td>\n",
       "      <td>1</td>\n",
       "      <td>3.950503</td>\n",
       "    </tr>\n",
       "    <tr>\n",
       "      <th>112</th>\n",
       "      <td>112</td>\n",
       "      <td>[1.6922263, -1.9515815]</td>\n",
       "      <td>0</td>\n",
       "      <td>1</td>\n",
       "      <td>3.669624</td>\n",
       "    </tr>\n",
       "  </tbody>\n",
       "</table>\n",
       "</div>"
      ],
      "text/plain": [
       "     test_guid                   logits  pred  label      loss\n",
       "862        862   [-2.293129, 2.1657913]     1      0  4.470429\n",
       "218        218   [-2.4086387, 1.985135]     1      0  4.406052\n",
       "495        495  [1.9195647, -2.2569377]     0      1  4.191738\n",
       "528        528  [1.7639592, -2.1671114]     0      1  3.950503\n",
       "112        112  [1.6922263, -1.9515815]     0      1  3.669624"
      ]
     },
     "execution_count": 7,
     "metadata": {},
     "output_type": "execute_result"
    }
   ],
   "source": [
    "# correct_fdf = fdf[fdf.pred == fdf.label]\n",
    "# correct_fdf.sort_values(\"loss\", ascending=False).iloc[:5]\n",
    "\n",
    "fdf.sort_values(\"loss\", ascending=False).iloc[:5]"
   ]
  },
  {
   "cell_type": "markdown",
   "id": "19cca28c-b19d-4cde-893d-887da842bc28",
   "metadata": {
    "tags": []
   },
   "source": [
    "## Compute Influence for Test Point"
   ]
  },
  {
   "cell_type": "code",
   "execution_count": 9,
   "id": "ca428991-0d45-4a12-ba67-0c23e47397cf",
   "metadata": {
    "execution": {
     "iopub.execute_input": "2023-05-08T20:04:24.058715Z",
     "iopub.status.busy": "2023-05-08T20:04:24.058467Z",
     "iopub.status.idle": "2023-05-08T20:09:11.191157Z",
     "shell.execute_reply": "2023-05-08T20:09:11.190286Z",
     "shell.execute_reply.started": "2023-05-08T20:04:24.058699Z"
    },
    "tags": []
   },
   "outputs": [
    {
     "name": "stdout",
     "output_type": "stream",
     "text": [
      "LiSSA reps: 1 and num_iterations: 2000\n",
      "Recursion at depth 0: norm is 30.458715\n",
      "Recursion at depth 100: norm is 413.068909\n",
      "Recursion at depth 200: norm is 626.487610\n",
      "Recursion at depth 300: norm is 750.344727\n",
      "Recursion at depth 400: norm is 820.908020\n",
      "Recursion at depth 500: norm is 861.258301\n",
      "Recursion at depth 600: norm is 884.749878\n",
      "Recursion at depth 700: norm is 896.300171\n",
      "Recursion at depth 800: norm is 906.302673\n",
      "Recursion at depth 900: norm is 908.749512\n",
      "Recursion at depth 1000: norm is 915.925537\n",
      "Recursion at depth 1100: norm is 916.696472\n",
      "Recursion at depth 1200: norm is 918.794800\n",
      "Recursion at depth 1300: norm is 920.104431\n",
      "Recursion at depth 1400: norm is 917.026306\n",
      "Recursion at depth 1500: norm is 916.241455\n",
      "Recursion at depth 1600: norm is 918.246033\n",
      "Recursion at depth 1700: norm is 919.969482\n",
      "Recursion at depth 1800: norm is 917.455261\n",
      "Recursion at depth 1900: norm is 916.974304\n",
      "Recursion at depth 1999: norm is 914.889832\n"
     ]
    },
    {
     "name": "stderr",
     "output_type": "stream",
     "text": [
      "100%|███████████████████████████████████████████████████████████████████████████████████████████████████████████████████| 2000/2000 [00:41<00:00, 48.74it/s]\n"
     ]
    }
   ],
   "source": [
    "TEST_GUID = 862\n",
    "\n",
    "param_infl = list(og_model.classifier.parameters())\n",
    "infl = influence.compute_influence(\n",
    "    full_model=og_model,\n",
    "    test_guid=TEST_GUID,\n",
    "    param_influence=param_infl,\n",
    "    train_dataset=train_dataset,\n",
    "    test_dataset=test_dataset,\n",
    "    lissa_r=1,\n",
    "    lissa_depth=1,\n",
    "    damping=5e-3,\n",
    "    scale=100,\n",
    ")\n",
    "idf = pd.DataFrame(data=infl, index=range(len(infl)), columns=[\"influence\"])\n",
    "idf = idf.rename_axis(\"train_guid\").reset_index()\n",
    "idf[\"test_guid\"] = TEST_GUID"
   ]
  },
  {
   "cell_type": "markdown",
   "id": "5edfc20d-5cee-49ef-8ec7-43d83311c68c",
   "metadata": {},
   "source": [
    "## Load LOO Results"
   ]
  },
  {
   "cell_type": "code",
   "execution_count": 10,
   "id": "8a6bcb02-847f-48fa-9bba-8447cea7b1bd",
   "metadata": {
    "execution": {
     "iopub.execute_input": "2023-05-08T20:09:11.192523Z",
     "iopub.status.busy": "2023-05-08T20:09:11.192200Z",
     "iopub.status.idle": "2023-05-08T20:09:13.420653Z",
     "shell.execute_reply": "2023-05-08T20:09:13.419946Z",
     "shell.execute_reply.started": "2023-05-08T20:09:11.192509Z"
    },
    "tags": []
   },
   "outputs": [],
   "source": [
    "loo_results = []\n",
    "for train_guid in range(len(train_dataset)):\n",
    "    loss_path = f\"loo_2k_l2/run_{train_guid}/test_loss.csv\"\n",
    "    if os.path.exists(loss_path):\n",
    "        df = pd.read_csv(loss_path)\n",
    "        df[\"train_guid\"] = train_guid\n",
    "        loo_results.append(df)\n",
    "ldf = pd.concat(loo_results)"
   ]
  },
  {
   "cell_type": "markdown",
   "id": "0066e142-1a82-4b1b-9505-ea17d282eb62",
   "metadata": {
    "tags": []
   },
   "source": [
    "## Compare Results"
   ]
  },
  {
   "cell_type": "code",
   "execution_count": 11,
   "id": "a5901446-846b-4ec6-b1d2-3c6dca7fea61",
   "metadata": {
    "execution": {
     "iopub.execute_input": "2023-05-08T20:09:13.421471Z",
     "iopub.status.busy": "2023-05-08T20:09:13.421292Z",
     "iopub.status.idle": "2023-05-08T20:09:13.483719Z",
     "shell.execute_reply": "2023-05-08T20:09:13.483025Z",
     "shell.execute_reply.started": "2023-05-08T20:09:13.421457Z"
    },
    "tags": []
   },
   "outputs": [
    {
     "data": {
      "text/html": [
       "<div>\n",
       "<style scoped>\n",
       "    .dataframe tbody tr th:only-of-type {\n",
       "        vertical-align: middle;\n",
       "    }\n",
       "\n",
       "    .dataframe tbody tr th {\n",
       "        vertical-align: top;\n",
       "    }\n",
       "\n",
       "    .dataframe thead th {\n",
       "        text-align: right;\n",
       "    }\n",
       "</style>\n",
       "<table border=\"1\" class=\"dataframe\">\n",
       "  <thead>\n",
       "    <tr style=\"text-align: right;\">\n",
       "      <th></th>\n",
       "      <th>test_guid</th>\n",
       "      <th>logits</th>\n",
       "      <th>pred</th>\n",
       "      <th>label</th>\n",
       "      <th>loss</th>\n",
       "      <th>train_guid</th>\n",
       "      <th>loss_diff</th>\n",
       "      <th>influence</th>\n",
       "    </tr>\n",
       "  </thead>\n",
       "  <tbody>\n",
       "    <tr>\n",
       "      <th>0</th>\n",
       "      <td>862</td>\n",
       "      <td>[-2.4923065  2.3654065]</td>\n",
       "      <td>1</td>\n",
       "      <td>0</td>\n",
       "      <td>4.865451</td>\n",
       "      <td>0</td>\n",
       "      <td>0.395022</td>\n",
       "      <td>0.015078</td>\n",
       "    </tr>\n",
       "    <tr>\n",
       "      <th>1</th>\n",
       "      <td>862</td>\n",
       "      <td>[-2.4896967  2.362825 ]</td>\n",
       "      <td>1</td>\n",
       "      <td>0</td>\n",
       "      <td>4.860300</td>\n",
       "      <td>1</td>\n",
       "      <td>0.389871</td>\n",
       "      <td>0.017745</td>\n",
       "    </tr>\n",
       "    <tr>\n",
       "      <th>2</th>\n",
       "      <td>862</td>\n",
       "      <td>[-2.495079  2.368118]</td>\n",
       "      <td>1</td>\n",
       "      <td>0</td>\n",
       "      <td>4.870893</td>\n",
       "      <td>2</td>\n",
       "      <td>0.400465</td>\n",
       "      <td>-0.004414</td>\n",
       "    </tr>\n",
       "    <tr>\n",
       "      <th>3</th>\n",
       "      <td>862</td>\n",
       "      <td>[-2.4945621  2.3677251]</td>\n",
       "      <td>1</td>\n",
       "      <td>0</td>\n",
       "      <td>4.869990</td>\n",
       "      <td>3</td>\n",
       "      <td>0.399561</td>\n",
       "      <td>0.144808</td>\n",
       "    </tr>\n",
       "    <tr>\n",
       "      <th>4</th>\n",
       "      <td>862</td>\n",
       "      <td>[-2.4900048  2.363248 ]</td>\n",
       "      <td>1</td>\n",
       "      <td>0</td>\n",
       "      <td>4.861025</td>\n",
       "      <td>4</td>\n",
       "      <td>0.390596</td>\n",
       "      <td>0.075512</td>\n",
       "    </tr>\n",
       "    <tr>\n",
       "      <th>...</th>\n",
       "      <td>...</td>\n",
       "      <td>...</td>\n",
       "      <td>...</td>\n",
       "      <td>...</td>\n",
       "      <td>...</td>\n",
       "      <td>...</td>\n",
       "      <td>...</td>\n",
       "      <td>...</td>\n",
       "    </tr>\n",
       "    <tr>\n",
       "      <th>1270</th>\n",
       "      <td>862</td>\n",
       "      <td>[-2.3622344  2.2361648]</td>\n",
       "      <td>1</td>\n",
       "      <td>0</td>\n",
       "      <td>4.608417</td>\n",
       "      <td>1803</td>\n",
       "      <td>0.137988</td>\n",
       "      <td>-0.012047</td>\n",
       "    </tr>\n",
       "    <tr>\n",
       "      <th>1271</th>\n",
       "      <td>862</td>\n",
       "      <td>[-2.373333   2.2471235]</td>\n",
       "      <td>1</td>\n",
       "      <td>0</td>\n",
       "      <td>4.630257</td>\n",
       "      <td>1804</td>\n",
       "      <td>0.159828</td>\n",
       "      <td>0.060980</td>\n",
       "    </tr>\n",
       "    <tr>\n",
       "      <th>1272</th>\n",
       "      <td>862</td>\n",
       "      <td>[-2.3590894  2.233097 ]</td>\n",
       "      <td>1</td>\n",
       "      <td>0</td>\n",
       "      <td>4.602266</td>\n",
       "      <td>1805</td>\n",
       "      <td>0.131837</td>\n",
       "      <td>-0.171867</td>\n",
       "    </tr>\n",
       "    <tr>\n",
       "      <th>1273</th>\n",
       "      <td>862</td>\n",
       "      <td>[-2.3757265  2.2502446]</td>\n",
       "      <td>1</td>\n",
       "      <td>0</td>\n",
       "      <td>4.635717</td>\n",
       "      <td>1806</td>\n",
       "      <td>0.165288</td>\n",
       "      <td>-0.115851</td>\n",
       "    </tr>\n",
       "    <tr>\n",
       "      <th>1274</th>\n",
       "      <td>862</td>\n",
       "      <td>[-2.3279626  2.2023852]</td>\n",
       "      <td>1</td>\n",
       "      <td>0</td>\n",
       "      <td>4.541067</td>\n",
       "      <td>1807</td>\n",
       "      <td>0.070638</td>\n",
       "      <td>0.037601</td>\n",
       "    </tr>\n",
       "  </tbody>\n",
       "</table>\n",
       "<p>1275 rows × 8 columns</p>\n",
       "</div>"
      ],
      "text/plain": [
       "      test_guid                   logits  pred  label      loss  train_guid  \\\n",
       "0           862  [-2.4923065  2.3654065]     1      0  4.865451           0   \n",
       "1           862  [-2.4896967  2.362825 ]     1      0  4.860300           1   \n",
       "2           862    [-2.495079  2.368118]     1      0  4.870893           2   \n",
       "3           862  [-2.4945621  2.3677251]     1      0  4.869990           3   \n",
       "4           862  [-2.4900048  2.363248 ]     1      0  4.861025           4   \n",
       "...         ...                      ...   ...    ...       ...         ...   \n",
       "1270        862  [-2.3622344  2.2361648]     1      0  4.608417        1803   \n",
       "1271        862  [-2.373333   2.2471235]     1      0  4.630257        1804   \n",
       "1272        862  [-2.3590894  2.233097 ]     1      0  4.602266        1805   \n",
       "1273        862  [-2.3757265  2.2502446]     1      0  4.635717        1806   \n",
       "1274        862  [-2.3279626  2.2023852]     1      0  4.541067        1807   \n",
       "\n",
       "      loss_diff  influence  \n",
       "0      0.395022   0.015078  \n",
       "1      0.389871   0.017745  \n",
       "2      0.400465  -0.004414  \n",
       "3      0.399561   0.144808  \n",
       "4      0.390596   0.075512  \n",
       "...         ...        ...  \n",
       "1270   0.137988  -0.012047  \n",
       "1271   0.159828   0.060980  \n",
       "1272   0.131837  -0.171867  \n",
       "1273   0.165288  -0.115851  \n",
       "1274   0.070638   0.037601  \n",
       "\n",
       "[1275 rows x 8 columns]"
      ]
     },
     "execution_count": 11,
     "metadata": {},
     "output_type": "execute_result"
    }
   ],
   "source": [
    "cdf = ldf[ldf.test_guid == TEST_GUID].copy()\n",
    "cdf[\"loss_diff\"] = cdf[\"loss\"] - fdf[fdf.test_guid == TEST_GUID].loss.squeeze()\n",
    "cdf = pd.merge(\n",
    "    cdf,\n",
    "    idf,\n",
    "    left_on=[\"test_guid\", \"train_guid\"],\n",
    "    right_on=[\"test_guid\", \"train_guid\"],\n",
    "    how=\"left\",\n",
    ")\n",
    "cdf[\"influence\"] = (-100.0 / len(train_dataset)) * cdf[\"influence\"]\n",
    "cdf"
   ]
  },
  {
   "cell_type": "code",
   "execution_count": 12,
   "id": "62265669-411a-4159-a21d-73a155358a85",
   "metadata": {
    "execution": {
     "iopub.execute_input": "2023-05-08T20:09:13.485504Z",
     "iopub.status.busy": "2023-05-08T20:09:13.485130Z",
     "iopub.status.idle": "2023-05-08T20:09:13.526895Z",
     "shell.execute_reply": "2023-05-08T20:09:13.525950Z",
     "shell.execute_reply.started": "2023-05-08T20:09:13.485489Z"
    },
    "tags": []
   },
   "outputs": [
    {
     "data": {
      "text/html": [
       "<div>\n",
       "<style scoped>\n",
       "    .dataframe tbody tr th:only-of-type {\n",
       "        vertical-align: middle;\n",
       "    }\n",
       "\n",
       "    .dataframe tbody tr th {\n",
       "        vertical-align: top;\n",
       "    }\n",
       "\n",
       "    .dataframe thead th {\n",
       "        text-align: right;\n",
       "    }\n",
       "</style>\n",
       "<table border=\"1\" class=\"dataframe\">\n",
       "  <thead>\n",
       "    <tr style=\"text-align: right;\">\n",
       "      <th></th>\n",
       "      <th>test_guid</th>\n",
       "      <th>logits</th>\n",
       "      <th>pred</th>\n",
       "      <th>label</th>\n",
       "      <th>loss</th>\n",
       "      <th>train_guid</th>\n",
       "      <th>loss_diff</th>\n",
       "      <th>influence</th>\n",
       "    </tr>\n",
       "  </thead>\n",
       "  <tbody>\n",
       "    <tr>\n",
       "      <th>347</th>\n",
       "      <td>862</td>\n",
       "      <td>[-2.3093162  2.18338  ]</td>\n",
       "      <td>1</td>\n",
       "      <td>0</td>\n",
       "      <td>4.503824</td>\n",
       "      <td>516</td>\n",
       "      <td>0.033395</td>\n",
       "      <td>-1.000817</td>\n",
       "    </tr>\n",
       "    <tr>\n",
       "      <th>487</th>\n",
       "      <td>862</td>\n",
       "      <td>[-2.364414  2.238279]</td>\n",
       "      <td>1</td>\n",
       "      <td>0</td>\n",
       "      <td>4.612668</td>\n",
       "      <td>656</td>\n",
       "      <td>0.142239</td>\n",
       "      <td>-0.857867</td>\n",
       "    </tr>\n",
       "    <tr>\n",
       "      <th>91</th>\n",
       "      <td>862</td>\n",
       "      <td>[-2.4329846  2.307326 ]</td>\n",
       "      <td>1</td>\n",
       "      <td>0</td>\n",
       "      <td>4.749009</td>\n",
       "      <td>91</td>\n",
       "      <td>0.278580</td>\n",
       "      <td>-0.807730</td>\n",
       "    </tr>\n",
       "    <tr>\n",
       "      <th>94</th>\n",
       "      <td>862</td>\n",
       "      <td>[-2.4497933  2.3243685]</td>\n",
       "      <td>1</td>\n",
       "      <td>0</td>\n",
       "      <td>4.782571</td>\n",
       "      <td>94</td>\n",
       "      <td>0.312142</td>\n",
       "      <td>-0.757239</td>\n",
       "    </tr>\n",
       "    <tr>\n",
       "      <th>172</th>\n",
       "      <td>862</td>\n",
       "      <td>[-2.3993797  2.2752416]</td>\n",
       "      <td>1</td>\n",
       "      <td>0</td>\n",
       "      <td>4.683908</td>\n",
       "      <td>172</td>\n",
       "      <td>0.213479</td>\n",
       "      <td>-0.711947</td>\n",
       "    </tr>\n",
       "    <tr>\n",
       "      <th>...</th>\n",
       "      <td>...</td>\n",
       "      <td>...</td>\n",
       "      <td>...</td>\n",
       "      <td>...</td>\n",
       "      <td>...</td>\n",
       "      <td>...</td>\n",
       "      <td>...</td>\n",
       "      <td>...</td>\n",
       "    </tr>\n",
       "    <tr>\n",
       "      <th>999</th>\n",
       "      <td>862</td>\n",
       "      <td>[-2.3964155  2.2723017]</td>\n",
       "      <td>1</td>\n",
       "      <td>0</td>\n",
       "      <td>4.678058</td>\n",
       "      <td>1532</td>\n",
       "      <td>0.207629</td>\n",
       "      <td>-0.176977</td>\n",
       "    </tr>\n",
       "    <tr>\n",
       "      <th>1226</th>\n",
       "      <td>862</td>\n",
       "      <td>[-2.3794034  2.25393  ]</td>\n",
       "      <td>1</td>\n",
       "      <td>0</td>\n",
       "      <td>4.643009</td>\n",
       "      <td>1759</td>\n",
       "      <td>0.172580</td>\n",
       "      <td>-0.175411</td>\n",
       "    </tr>\n",
       "    <tr>\n",
       "      <th>562</th>\n",
       "      <td>862</td>\n",
       "      <td>[-2.3321679  2.2046802]</td>\n",
       "      <td>1</td>\n",
       "      <td>0</td>\n",
       "      <td>4.547498</td>\n",
       "      <td>731</td>\n",
       "      <td>0.077069</td>\n",
       "      <td>-0.174060</td>\n",
       "    </tr>\n",
       "    <tr>\n",
       "      <th>782</th>\n",
       "      <td>862</td>\n",
       "      <td>[-2.3642056  2.2402945]</td>\n",
       "      <td>1</td>\n",
       "      <td>0</td>\n",
       "      <td>4.614457</td>\n",
       "      <td>1123</td>\n",
       "      <td>0.144028</td>\n",
       "      <td>-0.174059</td>\n",
       "    </tr>\n",
       "    <tr>\n",
       "      <th>1272</th>\n",
       "      <td>862</td>\n",
       "      <td>[-2.3590894  2.233097 ]</td>\n",
       "      <td>1</td>\n",
       "      <td>0</td>\n",
       "      <td>4.602266</td>\n",
       "      <td>1805</td>\n",
       "      <td>0.131837</td>\n",
       "      <td>-0.171867</td>\n",
       "    </tr>\n",
       "  </tbody>\n",
       "</table>\n",
       "<p>100 rows × 8 columns</p>\n",
       "</div>"
      ],
      "text/plain": [
       "      test_guid                   logits  pred  label      loss  train_guid  \\\n",
       "347         862  [-2.3093162  2.18338  ]     1      0  4.503824         516   \n",
       "487         862    [-2.364414  2.238279]     1      0  4.612668         656   \n",
       "91          862  [-2.4329846  2.307326 ]     1      0  4.749009          91   \n",
       "94          862  [-2.4497933  2.3243685]     1      0  4.782571          94   \n",
       "172         862  [-2.3993797  2.2752416]     1      0  4.683908         172   \n",
       "...         ...                      ...   ...    ...       ...         ...   \n",
       "999         862  [-2.3964155  2.2723017]     1      0  4.678058        1532   \n",
       "1226        862  [-2.3794034  2.25393  ]     1      0  4.643009        1759   \n",
       "562         862  [-2.3321679  2.2046802]     1      0  4.547498         731   \n",
       "782         862  [-2.3642056  2.2402945]     1      0  4.614457        1123   \n",
       "1272        862  [-2.3590894  2.233097 ]     1      0  4.602266        1805   \n",
       "\n",
       "      loss_diff  influence  \n",
       "347    0.033395  -1.000817  \n",
       "487    0.142239  -0.857867  \n",
       "91     0.278580  -0.807730  \n",
       "94     0.312142  -0.757239  \n",
       "172    0.213479  -0.711947  \n",
       "...         ...        ...  \n",
       "999    0.207629  -0.176977  \n",
       "1226   0.172580  -0.175411  \n",
       "562    0.077069  -0.174060  \n",
       "782    0.144028  -0.174059  \n",
       "1272   0.131837  -0.171867  \n",
       "\n",
       "[100 rows x 8 columns]"
      ]
     },
     "execution_count": 12,
     "metadata": {},
     "output_type": "execute_result"
    }
   ],
   "source": [
    "cdf = cdf.sort_values(\"influence\").iloc[:100]\n",
    "cdf"
   ]
  },
  {
   "cell_type": "code",
   "execution_count": 18,
   "id": "66716bfa-e9c7-4d52-8edd-bf02be6eaea4",
   "metadata": {
    "execution": {
     "iopub.execute_input": "2023-05-08T20:11:37.251884Z",
     "iopub.status.busy": "2023-05-08T20:11:37.251228Z",
     "iopub.status.idle": "2023-05-08T20:11:37.288825Z",
     "shell.execute_reply": "2023-05-08T20:11:37.287629Z",
     "shell.execute_reply.started": "2023-05-08T20:11:37.251861Z"
    },
    "tags": []
   },
   "outputs": [
    {
     "name": "stdout",
     "output_type": "stream",
     "text": [
      "           loss_diff  influence\n",
      "loss_diff   1.000000   0.101096\n",
      "influence   0.101096   1.000000\n",
      "           loss_diff  influence\n",
      "loss_diff   1.000000   0.096718\n",
      "influence   0.096718   1.000000\n"
     ]
    }
   ],
   "source": [
    "print(cdf[[\"loss_diff\", \"influence\"]].corr())\n",
    "print(cdf[[\"loss_diff\", \"influence\"]].corr(\"spearman\"))"
   ]
  },
  {
   "cell_type": "code",
   "execution_count": 17,
   "id": "f29a8026-d6be-40bb-ba32-0332e0589f92",
   "metadata": {
    "execution": {
     "iopub.execute_input": "2023-05-08T20:11:24.976755Z",
     "iopub.status.busy": "2023-05-08T20:11:24.976324Z",
     "iopub.status.idle": "2023-05-08T20:11:25.162239Z",
     "shell.execute_reply": "2023-05-08T20:11:25.161513Z",
     "shell.execute_reply.started": "2023-05-08T20:11:24.976737Z"
    },
    "tags": []
   },
   "outputs": [
    {
     "data": {
      "text/plain": [
       "<Axes: xlabel='loss_diff', ylabel='influence'>"
      ]
     },
     "execution_count": 17,
     "metadata": {},
     "output_type": "execute_result"
    },
    {
     "data": {
      "image/png": "[encoded data removed]",
      "text/plain": [
       "<Figure size 640x480 with 1 Axes>"
      ]
     },
     "metadata": {},
     "output_type": "display_data"
    }
   ],
   "source": [
    "cdf[[\"loss_diff\", \"influence\"]].plot.scatter(\"loss_diff\", \"influence\")"
   ]
  },
  {
   "cell_type": "code",
   "execution_count": null,
   "id": "669b305a-3e8b-4e60-b426-b1dc79db6bd4",
   "metadata": {},
   "outputs": [],
   "source": [
    "-"
   ]
  },
  {
   "cell_type": "code",
   "execution_count": 7,
   "id": "42011f88-f409-42ae-84aa-2403744e06f0",
   "metadata": {
    "execution": {
     "iopub.execute_input": "2023-05-08T03:26:40.257155Z",
     "iopub.status.busy": "2023-05-08T03:26:40.256940Z",
     "iopub.status.idle": "2023-05-08T03:26:40.293111Z",
     "shell.execute_reply": "2023-05-08T03:26:40.292380Z",
     "shell.execute_reply.started": "2023-05-08T03:26:40.257139Z"
    },
    "tags": []
   },
   "outputs": [
    {
     "data": {
      "text/plain": [
       "{1669: Series([], Name: sentence, dtype: object),\n",
       " 202: 'there ought to be a directing license , so that ed burns can have his revoked . ',\n",
       " 64: \"the script kicks in , and mr. hartley 's distended pace and foot-dragging rhythms follow . \",\n",
       " 1470: Series([], Name: sentence, dtype: object),\n",
       " 549: 'a coarse and stupid gross-out . '}"
      ]
     },
     "execution_count": 7,
     "metadata": {},
     "output_type": "execute_result"
    }
   ],
   "source": [
    "top_infl = idf.sort_values(\"influence\", ascending=False).iloc[:5].train_guid.to_list()\n",
    "data_utils.get_sentences(top_infl)"
   ]
  },
  {
   "cell_type": "code",
   "execution_count": 8,
   "id": "b259126a-5e45-4be8-9fc4-119b82db46ac",
   "metadata": {
    "execution": {
     "iopub.execute_input": "2023-05-08T03:26:40.294222Z",
     "iopub.status.busy": "2023-05-08T03:26:40.293977Z",
     "iopub.status.idle": "2023-05-08T03:26:40.322513Z",
     "shell.execute_reply": "2023-05-08T03:26:40.321494Z",
     "shell.execute_reply.started": "2023-05-08T03:26:40.294204Z"
    },
    "tags": []
   },
   "outputs": [
    {
     "data": {
      "text/html": [
       "<div>\n",
       "<style scoped>\n",
       "    .dataframe tbody tr th:only-of-type {\n",
       "        vertical-align: middle;\n",
       "    }\n",
       "\n",
       "    .dataframe tbody tr th {\n",
       "        vertical-align: top;\n",
       "    }\n",
       "\n",
       "    .dataframe thead th {\n",
       "        text-align: right;\n",
       "    }\n",
       "</style>\n",
       "<table border=\"1\" class=\"dataframe\">\n",
       "  <thead>\n",
       "    <tr style=\"text-align: right;\">\n",
       "      <th></th>\n",
       "      <th>train_guid</th>\n",
       "      <th>influence</th>\n",
       "      <th>test_guid</th>\n",
       "    </tr>\n",
       "  </thead>\n",
       "  <tbody>\n",
       "    <tr>\n",
       "      <th>1669</th>\n",
       "      <td>1669</td>\n",
       "      <td>0.090846</td>\n",
       "      <td>334</td>\n",
       "    </tr>\n",
       "    <tr>\n",
       "      <th>202</th>\n",
       "      <td>202</td>\n",
       "      <td>0.057205</td>\n",
       "      <td>334</td>\n",
       "    </tr>\n",
       "    <tr>\n",
       "      <th>64</th>\n",
       "      <td>64</td>\n",
       "      <td>0.050552</td>\n",
       "      <td>334</td>\n",
       "    </tr>\n",
       "    <tr>\n",
       "      <th>1470</th>\n",
       "      <td>1470</td>\n",
       "      <td>0.050372</td>\n",
       "      <td>334</td>\n",
       "    </tr>\n",
       "    <tr>\n",
       "      <th>549</th>\n",
       "      <td>549</td>\n",
       "      <td>0.047305</td>\n",
       "      <td>334</td>\n",
       "    </tr>\n",
       "  </tbody>\n",
       "</table>\n",
       "</div>"
      ],
      "text/plain": [
       "      train_guid  influence  test_guid\n",
       "1669        1669   0.090846        334\n",
       "202          202   0.057205        334\n",
       "64            64   0.050552        334\n",
       "1470        1470   0.050372        334\n",
       "549          549   0.047305        334"
      ]
     },
     "execution_count": 8,
     "metadata": {},
     "output_type": "execute_result"
    }
   ],
   "source": [
    "idf.sort_values(\"influence\", ascending=False).iloc[:5]"
   ]
  },
  {
   "cell_type": "markdown",
   "id": "9d0b2f24-94d7-4be2-b45d-98dac653be50",
   "metadata": {
    "jp-MarkdownHeadingCollapsed": true,
    "tags": []
   },
   "source": [
    "## Train LOO Models"
   ]
  },
  {
   "cell_type": "code",
   "execution_count": 9,
   "id": "7ff722ae-f947-4487-9d47-41e00f9dd805",
   "metadata": {
    "execution": {
     "iopub.execute_input": "2023-05-08T03:26:40.324127Z",
     "iopub.status.busy": "2023-05-08T03:26:40.323815Z",
     "iopub.status.idle": "2023-05-08T03:26:40.349616Z",
     "shell.execute_reply": "2023-05-08T03:26:40.348933Z",
     "shell.execute_reply.started": "2023-05-08T03:26:40.324102Z"
    },
    "tags": []
   },
   "outputs": [],
   "source": [
    "def train_loo_models(full_train_dataset, test_dataset, guids, config, full_model=None):\n",
    "    loo_losses = []\n",
    "    train_from_new = True\n",
    "\n",
    "    print(json.dumps(config, indent=4))\n",
    "    for loo_guid in guids:\n",
    "        loo_dataset = create_loo_dataset(full_train_dataset, loo_guid)\n",
    "        loo_dataloader = DataLoader(\n",
    "            loo_dataset, batch_size=config[\"batch_size\"], shuffle=True\n",
    "        )\n",
    "        test_dataloader = DataLoader(test_dataset, shuffle=False, batch_size=1)\n",
    "\n",
    "        if train_from_new:\n",
    "            # Create Bert model\n",
    "            loo_model = BertClassifier.create_bert_classifier(\n",
    "                config[\"bert_model_name\"],\n",
    "                classifier_type=config[\"classifier_type\"],\n",
    "                classifier_hidden_size=config[\"classifier_hidden_size\"],\n",
    "                classifier_drop_out=config[\"classifier_drop_out\"],\n",
    "                classifier_init_state_path=config[\"classifier_init_state_path\"],\n",
    "                freeze_bert=True,\n",
    "            )\n",
    "        else:\n",
    "            loo_model = copy.deepcopy(full_model)\n",
    "\n",
    "        if \"optimizer_weight_decay\" in config:\n",
    "            optimizer = Adam(\n",
    "                loo_model.classifier.parameters(),\n",
    "                lr=config[\"learning_rate\"],\n",
    "                weight_decay=config[\"optimizer_weight_decay\"],\n",
    "            )\n",
    "        else:\n",
    "            optimizer = Adam(\n",
    "                loo_model.classifier.parameters(), lr=config[\"learning_rate\"]\n",
    "            )\n",
    "\n",
    "        run = wandb.init(project=\"Bert-scratch\", config=config)\n",
    "        train_utils.train(\n",
    "            config=config,\n",
    "            model=loo_model,\n",
    "            optimizer=optimizer,\n",
    "            train_dataloader=loo_dataloader,\n",
    "        )\n",
    "\n",
    "        ldf, test_loss, test_acc = train_utils.evaluate_loss(loo_model, test_dataloader)\n",
    "\n",
    "        wandb.summary[\"test/loss\"] = test_loss\n",
    "        wandb.summary[\"test/accuracy\"] = test_acc\n",
    "        wandb.finish()\n",
    "        # loo_model, ldf, full_test_loss, full_test_acc = train_utils.train_bert_model(\n",
    "        #     loo_dataset, test_dataset, config\n",
    "        # )\n",
    "        ldf[\"loo_guid\"] = loo_guid\n",
    "        loo_losses.append(ldf)\n",
    "    ldf = pd.concat(loo_losses, axis=0)\n",
    "    return ldf"
   ]
  },
  {
   "cell_type": "code",
   "execution_count": 10,
   "id": "46900870-01ef-41ec-9b85-fe4a84040ed5",
   "metadata": {
    "execution": {
     "iopub.execute_input": "2023-05-08T03:26:40.350816Z",
     "iopub.status.busy": "2023-05-08T03:26:40.350638Z",
     "iopub.status.idle": "2023-05-08T03:29:35.666625Z",
     "shell.execute_reply": "2023-05-08T03:29:35.665811Z",
     "shell.execute_reply.started": "2023-05-08T03:26:40.350801Z"
    },
    "tags": []
   },
   "outputs": [
    {
     "name": "stdout",
     "output_type": "stream",
     "text": [
      "{\n",
      "    \"epochs\": 5,\n",
      "    \"bert_model_name\": \"distilbert-base-uncased\",\n",
      "    \"max_sequence_length\": 64,\n",
      "    \"learning_rate\": 0.005,\n",
      "    \"lr_warmup_pct\": 0.2,\n",
      "    \"batch_size\": 16,\n",
      "    \"classifier_init_state_path\": \"model_params/init_classifier_params.pt\",\n",
      "    \"classifier_type\": \"single-fc\",\n",
      "    \"classifier_hidden_size\": 0,\n",
      "    \"classifier_drop_out\": 0.1,\n",
      "    \"num_training_examples\": 2000,\n",
      "    \"optimizer_weight_decay\": 0.01\n",
      "}\n"
     ]
    },
    {
     "name": "stderr",
     "output_type": "stream",
     "text": [
      "Some weights of the model checkpoint at distilbert-base-uncased were not used when initializing DistilBertModel: ['vocab_projector.bias', 'vocab_layer_norm.bias', 'vocab_projector.weight', 'vocab_transform.bias', 'vocab_layer_norm.weight', 'vocab_transform.weight']\n",
      "- This IS expected if you are initializing DistilBertModel from the checkpoint of a model trained on another task or with another architecture (e.g. initializing a BertForSequenceClassification model from a BertForPreTraining model).\n",
      "- This IS NOT expected if you are initializing DistilBertModel from the checkpoint of a model that you expect to be exactly identical (initializing a BertForSequenceClassification model from a BertForSequenceClassification model).\n",
      "100%|██████████████████████████████████████████████████████████████████████████████████████████████████████████████████| 125/125 [00:03<00:00, 31.63batch/s]\n",
      "100%|██████████████████████████████████████████████████████████████████████████████████████████████████████████████████| 125/125 [00:04<00:00, 30.86batch/s]\n",
      "100%|██████████████████████████████████████████████████████████████████████████████████████████████████████████████████| 125/125 [00:04<00:00, 30.59batch/s]\n",
      "100%|██████████████████████████████████████████████████████████████████████████████████████████████████████████████████| 125/125 [00:03<00:00, 31.47batch/s]\n",
      "100%|██████████████████████████████████████████████████████████████████████████████████████████████████████████████████| 125/125 [00:03<00:00, 31.48batch/s]\n",
      "Some weights of the model checkpoint at distilbert-base-uncased were not used when initializing DistilBertModel: ['vocab_projector.bias', 'vocab_layer_norm.bias', 'vocab_projector.weight', 'vocab_transform.bias', 'vocab_layer_norm.weight', 'vocab_transform.weight']\n",
      "- This IS expected if you are initializing DistilBertModel from the checkpoint of a model trained on another task or with another architecture (e.g. initializing a BertForSequenceClassification model from a BertForPreTraining model).\n",
      "- This IS NOT expected if you are initializing DistilBertModel from the checkpoint of a model that you expect to be exactly identical (initializing a BertForSequenceClassification model from a BertForSequenceClassification model).\n",
      "100%|██████████████████████████████████████████████████████████████████████████████████████████████████████████████████| 125/125 [00:04<00:00, 29.68batch/s]\n",
      "100%|██████████████████████████████████████████████████████████████████████████████████████████████████████████████████| 125/125 [00:04<00:00, 30.78batch/s]\n",
      "100%|██████████████████████████████████████████████████████████████████████████████████████████████████████████████████| 125/125 [00:03<00:00, 31.46batch/s]\n",
      "100%|██████████████████████████████████████████████████████████████████████████████████████████████████████████████████| 125/125 [00:03<00:00, 31.26batch/s]\n",
      "100%|██████████████████████████████████████████████████████████████████████████████████████████████████████████████████| 125/125 [00:03<00:00, 31.30batch/s]\n",
      "Some weights of the model checkpoint at distilbert-base-uncased were not used when initializing DistilBertModel: ['vocab_projector.bias', 'vocab_layer_norm.bias', 'vocab_projector.weight', 'vocab_transform.bias', 'vocab_layer_norm.weight', 'vocab_transform.weight']\n",
      "- This IS expected if you are initializing DistilBertModel from the checkpoint of a model trained on another task or with another architecture (e.g. initializing a BertForSequenceClassification model from a BertForPreTraining model).\n",
      "- This IS NOT expected if you are initializing DistilBertModel from the checkpoint of a model that you expect to be exactly identical (initializing a BertForSequenceClassification model from a BertForSequenceClassification model).\n",
      "100%|██████████████████████████████████████████████████████████████████████████████████████████████████████████████████| 125/125 [00:03<00:00, 31.45batch/s]\n",
      "100%|██████████████████████████████████████████████████████████████████████████████████████████████████████████████████| 125/125 [00:03<00:00, 31.36batch/s]\n",
      "100%|██████████████████████████████████████████████████████████████████████████████████████████████████████████████████| 125/125 [00:04<00:00, 31.10batch/s]\n",
      "100%|██████████████████████████████████████████████████████████████████████████████████████████████████████████████████| 125/125 [00:03<00:00, 31.31batch/s]\n",
      "100%|██████████████████████████████████████████████████████████████████████████████████████████████████████████████████| 125/125 [00:04<00:00, 31.03batch/s]\n",
      "Some weights of the model checkpoint at distilbert-base-uncased were not used when initializing DistilBertModel: ['vocab_projector.bias', 'vocab_layer_norm.bias', 'vocab_projector.weight', 'vocab_transform.bias', 'vocab_layer_norm.weight', 'vocab_transform.weight']\n",
      "- This IS expected if you are initializing DistilBertModel from the checkpoint of a model trained on another task or with another architecture (e.g. initializing a BertForSequenceClassification model from a BertForPreTraining model).\n",
      "- This IS NOT expected if you are initializing DistilBertModel from the checkpoint of a model that you expect to be exactly identical (initializing a BertForSequenceClassification model from a BertForSequenceClassification model).\n",
      "100%|██████████████████████████████████████████████████████████████████████████████████████████████████████████████████| 125/125 [00:04<00:00, 30.54batch/s]\n",
      "100%|██████████████████████████████████████████████████████████████████████████████████████████████████████████████████| 125/125 [00:04<00:00, 31.06batch/s]\n",
      "100%|██████████████████████████████████████████████████████████████████████████████████████████████████████████████████| 125/125 [00:03<00:00, 31.30batch/s]\n",
      "100%|██████████████████████████████████████████████████████████████████████████████████████████████████████████████████| 125/125 [00:04<00:00, 29.97batch/s]\n",
      "100%|██████████████████████████████████████████████████████████████████████████████████████████████████████████████████| 125/125 [00:03<00:00, 31.32batch/s]\n",
      "Some weights of the model checkpoint at distilbert-base-uncased were not used when initializing DistilBertModel: ['vocab_projector.bias', 'vocab_layer_norm.bias', 'vocab_projector.weight', 'vocab_transform.bias', 'vocab_layer_norm.weight', 'vocab_transform.weight']\n",
      "- This IS expected if you are initializing DistilBertModel from the checkpoint of a model trained on another task or with another architecture (e.g. initializing a BertForSequenceClassification model from a BertForPreTraining model).\n",
      "- This IS NOT expected if you are initializing DistilBertModel from the checkpoint of a model that you expect to be exactly identical (initializing a BertForSequenceClassification model from a BertForSequenceClassification model).\n",
      "100%|██████████████████████████████████████████████████████████████████████████████████████████████████████████████████| 125/125 [00:03<00:00, 31.36batch/s]\n",
      "100%|██████████████████████████████████████████████████████████████████████████████████████████████████████████████████| 125/125 [00:04<00:00, 30.85batch/s]\n",
      "100%|██████████████████████████████████████████████████████████████████████████████████████████████████████████████████| 125/125 [00:04<00:00, 31.24batch/s]\n",
      "100%|██████████████████████████████████████████████████████████████████████████████████████████████████████████████████| 125/125 [00:03<00:00, 31.31batch/s]\n",
      "100%|██████████████████████████████████████████████████████████████████████████████████████████████████████████████████| 125/125 [00:03<00:00, 31.44batch/s]\n"
     ]
    }
   ],
   "source": [
    "# rand_idxs = np.random.randint(low=0, high=len(train_dataset), size=10)\n",
    "\n",
    "loo_indxs = idf.sort_values(\"influence\", ascending=False).iloc[:5].train_guid.to_list()\n",
    "\n",
    "ldf = train_loo_models(\n",
    "    full_train_dataset=train_dataset,\n",
    "    test_dataset=test_dataset,\n",
    "    guids=loo_indxs,\n",
    "    config=config,\n",
    ")"
   ]
  },
  {
   "cell_type": "markdown",
   "id": "eee58157-99fd-49bf-981f-105324592ae5",
   "metadata": {
    "jp-MarkdownHeadingCollapsed": true,
    "tags": []
   },
   "source": [
    "## Compare"
   ]
  },
  {
   "cell_type": "code",
   "execution_count": 11,
   "id": "608fbed1-9ade-448b-8d2b-d9235db3451a",
   "metadata": {
    "execution": {
     "iopub.execute_input": "2023-05-08T03:29:35.667682Z",
     "iopub.status.busy": "2023-05-08T03:29:35.667479Z",
     "iopub.status.idle": "2023-05-08T03:29:35.703024Z",
     "shell.execute_reply": "2023-05-08T03:29:35.702329Z",
     "shell.execute_reply.started": "2023-05-08T03:29:35.667666Z"
    },
    "tags": []
   },
   "outputs": [
    {
     "name": "stdout",
     "output_type": "stream",
     "text": [
      "0.003546379506587982\n"
     ]
    },
    {
     "data": {
      "text/html": [
       "<div>\n",
       "<style scoped>\n",
       "    .dataframe tbody tr th:only-of-type {\n",
       "        vertical-align: middle;\n",
       "    }\n",
       "\n",
       "    .dataframe tbody tr th {\n",
       "        vertical-align: top;\n",
       "    }\n",
       "\n",
       "    .dataframe thead th {\n",
       "        text-align: right;\n",
       "    }\n",
       "</style>\n",
       "<table border=\"1\" class=\"dataframe\">\n",
       "  <thead>\n",
       "    <tr style=\"text-align: right;\">\n",
       "      <th></th>\n",
       "      <th>test_guid</th>\n",
       "      <th>logits</th>\n",
       "      <th>pred</th>\n",
       "      <th>label</th>\n",
       "      <th>loss</th>\n",
       "      <th>loo_guid</th>\n",
       "      <th>loss_diff</th>\n",
       "      <th>train_guid</th>\n",
       "      <th>influence</th>\n",
       "    </tr>\n",
       "  </thead>\n",
       "  <tbody>\n",
       "    <tr>\n",
       "      <th>0</th>\n",
       "      <td>334</td>\n",
       "      <td>[-3.2791276, 2.9266255]</td>\n",
       "      <td>1</td>\n",
       "      <td>1</td>\n",
       "      <td>0.002016</td>\n",
       "      <td>1669</td>\n",
       "      <td>-0.001531</td>\n",
       "      <td>1669</td>\n",
       "      <td>-0.004542</td>\n",
       "    </tr>\n",
       "    <tr>\n",
       "      <th>1</th>\n",
       "      <td>334</td>\n",
       "      <td>[-3.0612483, 2.706279]</td>\n",
       "      <td>1</td>\n",
       "      <td>1</td>\n",
       "      <td>0.003123</td>\n",
       "      <td>202</td>\n",
       "      <td>-0.000424</td>\n",
       "      <td>202</td>\n",
       "      <td>-0.002860</td>\n",
       "    </tr>\n",
       "    <tr>\n",
       "      <th>2</th>\n",
       "      <td>334</td>\n",
       "      <td>[-3.1108665, 2.7515595]</td>\n",
       "      <td>1</td>\n",
       "      <td>1</td>\n",
       "      <td>0.002840</td>\n",
       "      <td>64</td>\n",
       "      <td>-0.000706</td>\n",
       "      <td>64</td>\n",
       "      <td>-0.002528</td>\n",
       "    </tr>\n",
       "    <tr>\n",
       "      <th>3</th>\n",
       "      <td>334</td>\n",
       "      <td>[-3.2405689, 2.8974977]</td>\n",
       "      <td>1</td>\n",
       "      <td>1</td>\n",
       "      <td>0.002157</td>\n",
       "      <td>1470</td>\n",
       "      <td>-0.001390</td>\n",
       "      <td>1470</td>\n",
       "      <td>-0.002519</td>\n",
       "    </tr>\n",
       "    <tr>\n",
       "      <th>4</th>\n",
       "      <td>334</td>\n",
       "      <td>[-3.108068, 2.7496524]</td>\n",
       "      <td>1</td>\n",
       "      <td>1</td>\n",
       "      <td>0.002854</td>\n",
       "      <td>549</td>\n",
       "      <td>-0.000693</td>\n",
       "      <td>549</td>\n",
       "      <td>-0.002365</td>\n",
       "    </tr>\n",
       "  </tbody>\n",
       "</table>\n",
       "</div>"
      ],
      "text/plain": [
       "   test_guid                   logits  pred  label      loss  loo_guid  \\\n",
       "0        334  [-3.2791276, 2.9266255]     1      1  0.002016      1669   \n",
       "1        334   [-3.0612483, 2.706279]     1      1  0.003123       202   \n",
       "2        334  [-3.1108665, 2.7515595]     1      1  0.002840        64   \n",
       "3        334  [-3.2405689, 2.8974977]     1      1  0.002157      1470   \n",
       "4        334   [-3.108068, 2.7496524]     1      1  0.002854       549   \n",
       "\n",
       "   loss_diff  train_guid  influence  \n",
       "0  -0.001531        1669  -0.004542  \n",
       "1  -0.000424         202  -0.002860  \n",
       "2  -0.000706          64  -0.002528  \n",
       "3  -0.001390        1470  -0.002519  \n",
       "4  -0.000693         549  -0.002365  "
      ]
     },
     "execution_count": 11,
     "metadata": {},
     "output_type": "execute_result"
    }
   ],
   "source": [
    "# ldf = top_ldf\n",
    "\n",
    "print(fdf[fdf.test_guid == TEST_GUID].loss.squeeze())\n",
    "cdf = ldf[ldf.test_guid == TEST_GUID].copy()\n",
    "cdf[\"loss_diff\"] = cdf[\"loss\"] - fdf[fdf.test_guid == TEST_GUID].loss.squeeze()\n",
    "cdf = pd.merge(\n",
    "    cdf,\n",
    "    idf,\n",
    "    left_on=[\"test_guid\", \"loo_guid\"],\n",
    "    right_on=[\"test_guid\", \"train_guid\"],\n",
    "    how=\"left\",\n",
    ")\n",
    "cdf[\"influence\"] = (-100.0 / len(train_dataset)) * cdf[\"influence\"]\n",
    "cdf"
   ]
  },
  {
   "cell_type": "code",
   "execution_count": 12,
   "id": "aae216f7-ef15-4da1-9160-18defef809a7",
   "metadata": {
    "execution": {
     "iopub.execute_input": "2023-05-08T03:29:35.703764Z",
     "iopub.status.busy": "2023-05-08T03:29:35.703589Z",
     "iopub.status.idle": "2023-05-08T03:29:35.731204Z",
     "shell.execute_reply": "2023-05-08T03:29:35.730566Z",
     "shell.execute_reply.started": "2023-05-08T03:29:35.703749Z"
    },
    "tags": []
   },
   "outputs": [
    {
     "data": {
      "text/html": [
       "<div>\n",
       "<style scoped>\n",
       "    .dataframe tbody tr th:only-of-type {\n",
       "        vertical-align: middle;\n",
       "    }\n",
       "\n",
       "    .dataframe tbody tr th {\n",
       "        vertical-align: top;\n",
       "    }\n",
       "\n",
       "    .dataframe thead th {\n",
       "        text-align: right;\n",
       "    }\n",
       "</style>\n",
       "<table border=\"1\" class=\"dataframe\">\n",
       "  <thead>\n",
       "    <tr style=\"text-align: right;\">\n",
       "      <th></th>\n",
       "      <th>loss_diff</th>\n",
       "      <th>influence</th>\n",
       "    </tr>\n",
       "  </thead>\n",
       "  <tbody>\n",
       "    <tr>\n",
       "      <th>loss_diff</th>\n",
       "      <td>1.000000</td>\n",
       "      <td>0.594913</td>\n",
       "    </tr>\n",
       "    <tr>\n",
       "      <th>influence</th>\n",
       "      <td>0.594913</td>\n",
       "      <td>1.000000</td>\n",
       "    </tr>\n",
       "  </tbody>\n",
       "</table>\n",
       "</div>"
      ],
      "text/plain": [
       "           loss_diff  influence\n",
       "loss_diff   1.000000   0.594913\n",
       "influence   0.594913   1.000000"
      ]
     },
     "execution_count": 12,
     "metadata": {},
     "output_type": "execute_result"
    }
   ],
   "source": [
    "cdf[[\"loss_diff\", \"influence\"]].corr()"
   ]
  },
  {
   "cell_type": "code",
   "execution_count": 13,
   "id": "0ea13a7a-c650-48bb-947b-f0a18facfa06",
   "metadata": {
    "execution": {
     "iopub.execute_input": "2023-05-08T03:29:35.732054Z",
     "iopub.status.busy": "2023-05-08T03:29:35.731872Z",
     "iopub.status.idle": "2023-05-08T03:29:35.758976Z",
     "shell.execute_reply": "2023-05-08T03:29:35.758242Z",
     "shell.execute_reply.started": "2023-05-08T03:29:35.732039Z"
    },
    "tags": []
   },
   "outputs": [
    {
     "data": {
      "text/html": [
       "<div>\n",
       "<style scoped>\n",
       "    .dataframe tbody tr th:only-of-type {\n",
       "        vertical-align: middle;\n",
       "    }\n",
       "\n",
       "    .dataframe tbody tr th {\n",
       "        vertical-align: top;\n",
       "    }\n",
       "\n",
       "    .dataframe thead th {\n",
       "        text-align: right;\n",
       "    }\n",
       "</style>\n",
       "<table border=\"1\" class=\"dataframe\">\n",
       "  <thead>\n",
       "    <tr style=\"text-align: right;\">\n",
       "      <th></th>\n",
       "      <th>loss_diff</th>\n",
       "      <th>influence</th>\n",
       "    </tr>\n",
       "  </thead>\n",
       "  <tbody>\n",
       "    <tr>\n",
       "      <th>loss_diff</th>\n",
       "      <td>1.0</td>\n",
       "      <td>0.3</td>\n",
       "    </tr>\n",
       "    <tr>\n",
       "      <th>influence</th>\n",
       "      <td>0.3</td>\n",
       "      <td>1.0</td>\n",
       "    </tr>\n",
       "  </tbody>\n",
       "</table>\n",
       "</div>"
      ],
      "text/plain": [
       "           loss_diff  influence\n",
       "loss_diff        1.0        0.3\n",
       "influence        0.3        1.0"
      ]
     },
     "execution_count": 13,
     "metadata": {},
     "output_type": "execute_result"
    }
   ],
   "source": [
    "cdf[[\"loss_diff\", \"influence\"]].corr(\"spearman\")"
   ]
  },
  {
   "cell_type": "code",
   "execution_count": 14,
   "id": "a924b302-c961-4f58-9e99-ebcd7c1fa1b2",
   "metadata": {
    "execution": {
     "iopub.execute_input": "2023-05-08T03:29:35.759912Z",
     "iopub.status.busy": "2023-05-08T03:29:35.759709Z",
     "iopub.status.idle": "2023-05-08T03:29:35.914624Z",
     "shell.execute_reply": "2023-05-08T03:29:35.913922Z",
     "shell.execute_reply.started": "2023-05-08T03:29:35.759887Z"
    },
    "tags": []
   },
   "outputs": [
    {
     "data": {
      "text/plain": [
       "<Axes: xlabel='loss_diff', ylabel='influence'>"
      ]
     },
     "execution_count": 14,
     "metadata": {},
     "output_type": "execute_result"
    },
    {
     "data": {
      "image/png": "[encoded data removed]",
      "text/plain": [
       "<Figure size 640x480 with 1 Axes>"
      ]
     },
     "metadata": {},
     "output_type": "display_data"
    }
   ],
   "source": [
    "cdf[[\"loss_diff\", \"influence\"]].plot.scatter(\"loss_diff\", \"influence\")"
   ]
  },
  {
   "cell_type": "code",
   "execution_count": 15,
   "id": "e4e2c400-c4c6-4c52-913f-52b93044f556",
   "metadata": {
    "execution": {
     "iopub.execute_input": "2023-05-08T03:29:35.915358Z",
     "iopub.status.busy": "2023-05-08T03:29:35.915184Z",
     "iopub.status.idle": "2023-05-08T03:29:35.937850Z",
     "shell.execute_reply": "2023-05-08T03:29:35.936551Z",
     "shell.execute_reply.started": "2023-05-08T03:29:35.915343Z"
    }
   },
   "outputs": [
    {
     "ename": "SyntaxError",
     "evalue": "invalid syntax (476313318.py, line 1)",
     "output_type": "error",
     "traceback": [
      "\u001b[0;36m  Cell \u001b[0;32mIn[15], line 1\u001b[0;36m\u001b[0m\n\u001b[0;31m    -\u001b[0m\n\u001b[0m     ^\u001b[0m\n\u001b[0;31mSyntaxError\u001b[0m\u001b[0;31m:\u001b[0m invalid syntax\n"
     ]
    }
   ],
   "source": [
    "-"
   ]
  },
  {
   "cell_type": "markdown",
   "id": "1459e1d3-7fcd-4853-815c-17ccad76e939",
   "metadata": {
    "execution": {
     "iopub.execute_input": "2023-05-03T18:02:54.776622Z",
     "iopub.status.busy": "2023-05-03T18:02:54.776398Z",
     "iopub.status.idle": "2023-05-03T18:02:54.781205Z",
     "shell.execute_reply": "2023-05-03T18:02:54.780472Z",
     "shell.execute_reply.started": "2023-05-03T18:02:54.776608Z"
    },
    "jp-MarkdownHeadingCollapsed": true,
    "tags": []
   },
   "source": [
    "## Compare Influence with LOO"
   ]
  },
  {
   "cell_type": "code",
   "execution_count": null,
   "id": "d3d01f1d-9e3a-4887-bb66-bf4075142991",
   "metadata": {
    "execution": {
     "iopub.status.busy": "2023-05-08T03:29:35.938245Z",
     "iopub.status.idle": "2023-05-08T03:29:35.938629Z",
     "shell.execute_reply": "2023-05-08T03:29:35.938361Z",
     "shell.execute_reply.started": "2023-05-08T03:29:35.938351Z"
    },
    "tags": []
   },
   "outputs": [],
   "source": [
    "TEST_GUID = 218\n",
    "\n",
    "param_infl = list(og_model.classifier.parameters())\n",
    "infl = influence.compute_influence(\n",
    "    full_model=og_model,\n",
    "    test_guid=TEST_GUID,\n",
    "    param_influence=param_infl,\n",
    "    train_dataset=train_dataset,\n",
    "    test_dataset=test_dataset,\n",
    "    lissa_r=1,\n",
    "    lissa_depth=0.25,\n",
    "    damping=8e-3,\n",
    "    scale=100,\n",
    "    # training_indices=list(range(15)),\n",
    ")\n",
    "idf = pd.DataFrame(data=infl, index=range(len(infl)), columns=[\"influence\"])\n",
    "idf = idf.rename_axis(\"train_guid\").reset_index()\n",
    "idf[\"test_guid\"] = TEST_GUID"
   ]
  },
  {
   "cell_type": "code",
   "execution_count": null,
   "id": "013aaee6-8713-4e09-b032-fa5dd9f21dc6",
   "metadata": {
    "execution": {
     "iopub.status.busy": "2023-05-08T03:29:35.939816Z",
     "iopub.status.idle": "2023-05-08T03:29:35.940046Z",
     "shell.execute_reply": "2023-05-08T03:29:35.939956Z",
     "shell.execute_reply.started": "2023-05-08T03:29:35.939946Z"
    }
   },
   "outputs": [],
   "source": [
    "-"
   ]
  },
  {
   "cell_type": "code",
   "execution_count": null,
   "id": "a74c9678-4c34-485d-9d6c-e9d7f0ce11c9",
   "metadata": {
    "tags": []
   },
   "outputs": [],
   "source": []
  },
  {
   "cell_type": "markdown",
   "id": "c9024f66-e68d-4309-bcd1-c3a7dce56e6c",
   "metadata": {
    "jp-MarkdownHeadingCollapsed": true,
    "tags": []
   },
   "source": [
    "## Remove Random 10%"
   ]
  },
  {
   "cell_type": "code",
   "execution_count": null,
   "id": "2fe4f34f-fd42-441b-806c-104b10d6d2de",
   "metadata": {
    "execution": {
     "iopub.status.busy": "2023-05-08T03:29:35.941173Z",
     "iopub.status.idle": "2023-05-08T03:29:35.941435Z",
     "shell.execute_reply": "2023-05-08T03:29:35.941314Z",
     "shell.execute_reply.started": "2023-05-08T03:29:35.941304Z"
    },
    "tags": []
   },
   "outputs": [],
   "source": [
    "remove_pct = 0.1\n",
    "remove_length = int(remove_pct * len(train_dataset))\n",
    "\n",
    "remove_idxs = np.random.randint(low=0, high=len(train_dataset), size=remove_length)\n",
    "loo_dataset = create_loo_dataset(train_dataset, remove_idxs)\n",
    "\n",
    "rand_model, rdf, rad_test_loss, rand_test_acc = train_model(\n",
    "    loo_dataset, test_dataset, config\n",
    ")"
   ]
  },
  {
   "cell_type": "code",
   "execution_count": null,
   "id": "9c8eb9dc-2007-418a-9d8e-e7427042b51e",
   "metadata": {
    "execution": {
     "iopub.status.busy": "2023-05-08T03:29:35.942659Z",
     "iopub.status.idle": "2023-05-08T03:29:35.942910Z",
     "shell.execute_reply": "2023-05-08T03:29:35.942793Z",
     "shell.execute_reply.started": "2023-05-08T03:29:35.942771Z"
    },
    "tags": []
   },
   "outputs": [],
   "source": [
    "rdf[rdf.test_guid == TEST_GUID]"
   ]
  },
  {
   "cell_type": "markdown",
   "id": "0493a03f-6dd2-418f-8139-b74e2518610c",
   "metadata": {
    "jp-MarkdownHeadingCollapsed": true,
    "tags": []
   },
   "source": [
    "## Remove Top 10% Influences"
   ]
  },
  {
   "cell_type": "code",
   "execution_count": null,
   "id": "fa006764-2a85-4d73-bd08-668523c99d39",
   "metadata": {
    "execution": {
     "iopub.status.busy": "2023-05-08T03:29:35.944012Z",
     "iopub.status.idle": "2023-05-08T03:29:35.944216Z",
     "shell.execute_reply": "2023-05-08T03:29:35.944124Z",
     "shell.execute_reply.started": "2023-05-08T03:29:35.944114Z"
    },
    "tags": []
   },
   "outputs": [],
   "source": [
    "remove_pct = 0.1\n",
    "remove_length = int(remove_pct * len(train_dataset))\n",
    "\n",
    "top_indxs = np.argsort(-infl)[:remove_length]\n",
    "loo_dataset = create_loo_dataset(train_dataset, top_indxs)\n",
    "\n",
    "t_model, tdf, top_test_loss, top_test_acc = train_model(\n",
    "    loo_dataset, test_dataset, config\n",
    ")"
   ]
  },
  {
   "cell_type": "code",
   "execution_count": null,
   "id": "b66795a5-9761-4015-a1e7-d78f29981338",
   "metadata": {
    "execution": {
     "iopub.status.busy": "2023-05-08T03:29:35.944997Z",
     "iopub.status.idle": "2023-05-08T03:29:35.945213Z",
     "shell.execute_reply": "2023-05-08T03:29:35.945120Z",
     "shell.execute_reply.started": "2023-05-08T03:29:35.945110Z"
    },
    "tags": []
   },
   "outputs": [],
   "source": [
    "tdf[tdf.test_guid == TEST_GUID]"
   ]
  },
  {
   "cell_type": "markdown",
   "id": "5eefaafc-4830-4852-aa33-a6e06c25c0f1",
   "metadata": {
    "jp-MarkdownHeadingCollapsed": true,
    "tags": []
   },
   "source": [
    "## Remove Bottom 10% Influences"
   ]
  },
  {
   "cell_type": "code",
   "execution_count": null,
   "id": "3aa1a6ad-72af-4424-be7f-ec73084189ef",
   "metadata": {
    "execution": {
     "iopub.status.busy": "2023-05-08T03:29:35.947605Z",
     "iopub.status.idle": "2023-05-08T03:29:35.947893Z",
     "shell.execute_reply": "2023-05-08T03:29:35.947785Z",
     "shell.execute_reply.started": "2023-05-08T03:29:35.947773Z"
    }
   },
   "outputs": [],
   "source": [
    "remove_pct = 0.1\n",
    "remove_length = int(remove_pct * len(train_dataset))\n",
    "\n",
    "top_indxs = np.argsort(infl)[:remove_length]\n",
    "loo_dataset = create_loo_dataset(train_dataset, top_indxs)\n",
    "\n",
    "b_model, bdf, bot_test_loss, bot_test_acc = train_model(\n",
    "    loo_dataset, test_dataset, config\n",
    ")"
   ]
  },
  {
   "cell_type": "code",
   "execution_count": null,
   "id": "a38479db-102a-4140-af57-24847bef82d0",
   "metadata": {
    "execution": {
     "iopub.status.busy": "2023-05-08T03:29:35.948833Z",
     "iopub.status.idle": "2023-05-08T03:29:35.949048Z",
     "shell.execute_reply": "2023-05-08T03:29:35.948957Z",
     "shell.execute_reply.started": "2023-05-08T03:29:35.948946Z"
    },
    "tags": []
   },
   "outputs": [],
   "source": [
    "fdf[fdf.test_guid == TEST_GUID]"
   ]
  },
  {
   "cell_type": "code",
   "execution_count": null,
   "id": "6ddef4be-c49e-4f4a-804e-1c27e6f936c3",
   "metadata": {
    "execution": {
     "iopub.status.busy": "2023-05-08T03:29:35.949985Z",
     "iopub.status.idle": "2023-05-08T03:29:35.950209Z",
     "shell.execute_reply": "2023-05-08T03:29:35.950101Z",
     "shell.execute_reply.started": "2023-05-08T03:29:35.950091Z"
    },
    "tags": []
   },
   "outputs": [],
   "source": [
    "rdf[rdf.test_guid == TEST_GUID]"
   ]
  },
  {
   "cell_type": "code",
   "execution_count": null,
   "id": "aacbbcec-9a8e-4c90-8456-1bc0651971d3",
   "metadata": {
    "execution": {
     "iopub.status.busy": "2023-05-08T03:29:35.951388Z",
     "iopub.status.idle": "2023-05-08T03:29:35.951613Z",
     "shell.execute_reply": "2023-05-08T03:29:35.951508Z",
     "shell.execute_reply.started": "2023-05-08T03:29:35.951498Z"
    },
    "tags": []
   },
   "outputs": [],
   "source": [
    "tdf[tdf.test_guid == TEST_GUID]"
   ]
  },
  {
   "cell_type": "code",
   "execution_count": null,
   "id": "752247ef-4fef-4230-8577-fbdfbc48cf07",
   "metadata": {
    "execution": {
     "iopub.status.busy": "2023-05-08T03:29:35.952424Z",
     "iopub.status.idle": "2023-05-08T03:29:35.952664Z",
     "shell.execute_reply": "2023-05-08T03:29:35.952570Z",
     "shell.execute_reply.started": "2023-05-08T03:29:35.952559Z"
    }
   },
   "outputs": [],
   "source": [
    "bdf[bdf.test_guid == TEST_GUID]"
   ]
  },
  {
   "cell_type": "code",
   "execution_count": null,
   "id": "f55e75ef-98fe-4f5c-9093-0b742c365a06",
   "metadata": {
    "execution": {
     "iopub.status.busy": "2023-05-08T03:29:35.953714Z",
     "iopub.status.idle": "2023-05-08T03:29:35.953915Z",
     "shell.execute_reply": "2023-05-08T03:29:35.953827Z",
     "shell.execute_reply.started": "2023-05-08T03:29:35.953817Z"
    },
    "tags": []
   },
   "outputs": [],
   "source": [
    "import src.datasets as datasets\n",
    "\n",
    "datasets.get_test_example(TEST_GUID).sentence.squeeze()"
   ]
  },
  {
   "cell_type": "code",
   "execution_count": null,
   "id": "8601b3b4-4df9-4f18-a549-e1e3ab9cf1f5",
   "metadata": {
    "execution": {
     "iopub.status.busy": "2023-05-08T03:29:35.954903Z",
     "iopub.status.idle": "2023-05-08T03:29:35.955105Z",
     "shell.execute_reply": "2023-05-08T03:29:35.955017Z",
     "shell.execute_reply.started": "2023-05-08T03:29:35.955007Z"
    },
    "tags": []
   },
   "outputs": [],
   "source": [
    "fdf.sort_values(\"loss\", ascending=False)"
   ]
  },
  {
   "cell_type": "code",
   "execution_count": null,
   "id": "35272b8e-e604-4a59-9d8f-041e91933ef9",
   "metadata": {},
   "outputs": [],
   "source": []
  },
  {
   "cell_type": "code",
   "execution_count": null,
   "id": "3e53a87a-f015-436c-b92e-6359895330e1",
   "metadata": {
    "execution": {
     "iopub.status.busy": "2023-05-08T03:29:35.956181Z",
     "iopub.status.idle": "2023-05-08T03:29:35.956384Z",
     "shell.execute_reply": "2023-05-08T03:29:35.956295Z",
     "shell.execute_reply.started": "2023-05-08T03:29:35.956285Z"
    }
   },
   "outputs": [],
   "source": [
    "---stop---"
   ]
  },
  {
   "cell_type": "markdown",
   "id": "a00b71ea-f9bd-4aef-be51-cce0f410c0ad",
   "metadata": {
    "jp-MarkdownHeadingCollapsed": true,
    "tags": []
   },
   "source": [
    "## Compare IF and LOO"
   ]
  },
  {
   "cell_type": "code",
   "execution_count": null,
   "id": "b647b3dc-da4a-4851-930a-c89e7557994e",
   "metadata": {
    "execution": {
     "iopub.status.busy": "2023-05-08T03:29:35.957260Z",
     "iopub.status.idle": "2023-05-08T03:29:35.957473Z",
     "shell.execute_reply": "2023-05-08T03:29:35.957382Z",
     "shell.execute_reply.started": "2023-05-08T03:29:35.957371Z"
    },
    "tags": []
   },
   "outputs": [],
   "source": [
    "fdf[fdf.test_guid == test_guid].loss.squeeze()"
   ]
  },
  {
   "cell_type": "code",
   "execution_count": null,
   "id": "760bd9e0-64e7-4834-9ab0-fb841e0f3376",
   "metadata": {
    "execution": {
     "iopub.status.busy": "2023-05-08T03:29:35.958670Z",
     "iopub.status.idle": "2023-05-08T03:29:35.958874Z",
     "shell.execute_reply": "2023-05-08T03:29:35.958785Z",
     "shell.execute_reply.started": "2023-05-08T03:29:35.958775Z"
    },
    "tags": []
   },
   "outputs": [],
   "source": [
    "# Load Losses from File\n",
    "# ldf = pd.read_csv(\"loo_10k/all_loo_losses.csv\")\n",
    "ldf = pd.concat(loo_dfs, axis=0)\n",
    "\n",
    "ldf = ldf[ldf.test_guid == test_guid]\n",
    "ldf[\"loss_diff\"] = ldf[\"loss\"] - fdf[fdf.test_guid == test_guid].loss.squeeze()\n",
    "ldf[\"if_diff\"] = (-100.0 / len(train_dataset)) * infl[: len(ldf)]\n",
    "ldf[\"if_diff2\"] = (-1000.0 / len(train_dataset)) * influences[: len(ldf)]\n",
    "ldf"
   ]
  },
  {
   "cell_type": "code",
   "execution_count": null,
   "id": "e7846573-d160-4d5a-a687-f6092d322b80",
   "metadata": {
    "execution": {
     "iopub.status.busy": "2023-05-08T03:29:35.959400Z",
     "iopub.status.idle": "2023-05-08T03:29:35.959611Z",
     "shell.execute_reply": "2023-05-08T03:29:35.959507Z",
     "shell.execute_reply.started": "2023-05-08T03:29:35.959498Z"
    },
    "tags": []
   },
   "outputs": [],
   "source": [
    "print(ldf[[\"loss_diff\", \"if_diff\", \"if_diff2\"]].corr())\n",
    "ldf[[\"loss_diff\", \"if_diff\"]]"
   ]
  },
  {
   "cell_type": "code",
   "execution_count": null,
   "id": "3eab7de8-a6c1-4f48-8c8e-50c5b4c8a94d",
   "metadata": {
    "execution": {
     "iopub.status.busy": "2023-05-08T03:29:35.960802Z",
     "iopub.status.idle": "2023-05-08T03:29:35.961017Z",
     "shell.execute_reply": "2023-05-08T03:29:35.960925Z",
     "shell.execute_reply.started": "2023-05-08T03:29:35.960915Z"
    },
    "tags": []
   },
   "outputs": [],
   "source": [
    "ldf[[\"loss_diff\", \"if_diff\"]].plot.scatter(\"loss_diff\", \"if_diff\")"
   ]
  },
  {
   "cell_type": "markdown",
   "id": "2a9f0342-b632-4447-b17e-be443f77e07d",
   "metadata": {
    "jp-MarkdownHeadingCollapsed": true,
    "tags": []
   },
   "source": [
    "## Compute Input Influence"
   ]
  },
  {
   "cell_type": "code",
   "execution_count": null,
   "id": "328dcc5a-480d-4ca2-9545-2d12f0014884",
   "metadata": {
    "execution": {
     "iopub.status.busy": "2023-05-08T03:29:35.961907Z",
     "iopub.status.idle": "2023-05-08T03:29:35.962107Z",
     "shell.execute_reply": "2023-05-08T03:29:35.962019Z",
     "shell.execute_reply.started": "2023-05-08T03:29:35.962009Z"
    },
    "tags": []
   },
   "outputs": [],
   "source": [
    "# import src.influence as inf_utils\n",
    "\n",
    "# test_guid = 560\n",
    "# param_infl = list(full_model.classifier.parameters())\n",
    "# infl = inf_utils.compute_input_influence(\n",
    "#     full_model=full_model,\n",
    "#     test_guid=test_guid,\n",
    "#     param_influence=param_infl,\n",
    "#     train_dataset=train_dataset,\n",
    "#     test_dataset=test_dataset,\n",
    "#     lissa_r=1,\n",
    "#     lissa_depth=0.1,\n",
    "#     damping=5e-3,\n",
    "#     scale=100,\n",
    "#     training_indices=[0],\n",
    "# )"
   ]
  },
  {
   "cell_type": "markdown",
   "id": "0877c066-c33c-49e0-a1d5-3a6ebafd72f8",
   "metadata": {
    "tags": []
   },
   "source": [
    "## Torch Influence"
   ]
  },
  {
   "cell_type": "code",
   "execution_count": null,
   "id": "d524668e-4893-4920-ac8a-2a8fab64742a",
   "metadata": {
    "execution": {
     "iopub.status.busy": "2023-05-08T03:29:35.962940Z",
     "iopub.status.idle": "2023-05-08T03:29:35.963145Z",
     "shell.execute_reply": "2023-05-08T03:29:35.963054Z",
     "shell.execute_reply.started": "2023-05-08T03:29:35.963045Z"
    },
    "tags": []
   },
   "outputs": [],
   "source": [
    "import copy\n",
    "\n",
    "from src.torch_influence import BaseObjective\n",
    "from src.torch_influence.modules import CGInfluenceModule, LiSSAInfluenceModule\n",
    "\n",
    "\n",
    "class BinClassObjective(BaseObjective):\n",
    "    def train_outputs(self, model, batch):\n",
    "        b_guids, b_input_ids, b_attn_mask, b_labels = (t.to(device) for t in batch)\n",
    "        return model(b_input_ids, b_attn_mask)\n",
    "\n",
    "    def train_loss_on_outputs(self, outputs, batch):\n",
    "        b_guids, b_input_ids, b_attn_mask, b_labels = (t.to(device) for t in batch)\n",
    "        loss_fn = torch.nn.CrossEntropyLoss()\n",
    "        return loss_fn(outputs, b_labels)\n",
    "\n",
    "    def train_regularization(self, params):\n",
    "        return 0\n",
    "\n",
    "    def test_loss(self, model, params, batch):\n",
    "        loss_fn = torch.nn.CrossEntropyLoss()\n",
    "\n",
    "        b_guids, b_input_ids, b_attn_mask, b_labels = (t.to(device) for t in batch)\n",
    "        outputs = model(b_input_ids, b_attn_mask)\n",
    "\n",
    "        return loss_fn(outputs, b_labels)\n",
    "\n",
    "\n",
    "infl_model = BertClassifier.create_bert_classifier(\n",
    "    config[\"bert_model_name\"],\n",
    "    classifier_type=config[\"classifier_type\"],\n",
    "    classifier_hidden_size=config[\"classifier_hidden_size\"],\n",
    "    classifier_drop_out=config[\"classifier_drop_out\"],\n",
    "    freeze_bert=True,\n",
    "    random_state=42,\n",
    ")\n",
    "infl_model.load_state_dict(copy.deepcopy(full_model.state_dict()))\n",
    "\n",
    "module = LiSSAInfluenceModule(\n",
    "    model=infl_model,\n",
    "    objective=BinClassObjective(),\n",
    "    train_loader=DataLoader(train_dataset, batch_size=32),\n",
    "    test_loader=DataLoader(test_dataset, batch_size=32),\n",
    "    device=utils.get_device(),\n",
    "    damp=0.001,\n",
    "    repeat=1,\n",
    "    depth=50,\n",
    "    scale=1e4,\n",
    ")\n",
    "\n",
    "all_train_idxs = list(range(len(train_dataset)))\n",
    "influences = module.influences(all_train_idxs, [test_guid])"
   ]
  },
  {
   "cell_type": "code",
   "execution_count": null,
   "id": "90b1c50d-da60-4de5-ae7d-adca7badfc40",
   "metadata": {
    "tags": []
   },
   "outputs": [],
   "source": []
  },
  {
   "cell_type": "code",
   "execution_count": null,
   "id": "0e5604e1-ad4c-48f5-8c1b-118734fe5690",
   "metadata": {
    "execution": {
     "iopub.status.busy": "2023-05-08T03:29:35.964143Z",
     "iopub.status.idle": "2023-05-08T03:29:35.964361Z",
     "shell.execute_reply": "2023-05-08T03:29:35.964268Z",
     "shell.execute_reply.started": "2023-05-08T03:29:35.964258Z"
    },
    "tags": []
   },
   "outputs": [],
   "source": [
    "influences[:10]"
   ]
  }
 ],
 "metadata": {
  "kernelspec": {
   "display_name": "Python 3 (ipykernel)",
   "language": "python",
   "name": "python3"
  },
  "language_info": {
   "codemirror_mode": {
    "name": "ipython",
    "version": 3
   },
   "file_extension": ".py",
   "mimetype": "text/x-python",
   "name": "python",
   "nbconvert_exporter": "python",
   "pygments_lexer": "ipython3",
   "version": "3.10.10"
  }
 },
 "nbformat": 4,
 "nbformat_minor": 5
}
