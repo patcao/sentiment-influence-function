{
 "cells": [
  {
   "cell_type": "code",
   "execution_count": 1,
   "id": "1d962785-65b7-4e44-8c74-a114a8faa825",
   "metadata": {
    "execution": {
     "iopub.execute_input": "2023-05-04T01:58:44.376345Z",
     "iopub.status.busy": "2023-05-04T01:58:44.376114Z",
     "iopub.status.idle": "2023-05-04T01:58:47.811284Z",
     "shell.execute_reply": "2023-05-04T01:58:47.810595Z",
     "shell.execute_reply.started": "2023-05-04T01:58:44.376328Z"
    },
    "tags": []
   },
   "outputs": [
    {
     "name": "stderr",
     "output_type": "stream",
     "text": [
      "100%|████████████████████████████████████████████████████████████████████████████████████████████████████████████████| 1000/1000 [00:00<00:00, 13800.64it/s]\n",
      "100%|██████████████████████████████████████████████████████████████████████████████████████████████████████████████████| 872/872 [00:00<00:00, 10476.75it/s]\n"
     ]
    }
   ],
   "source": [
    "%load_ext autoreload\n",
    "%autoreload 2\n",
    "\n",
    "import argparse\n",
    "import os\n",
    "from pathlib import Path\n",
    "\n",
    "import numpy as np\n",
    "import pandas as pd\n",
    "import src.BertClassifier as BertClassifier\n",
    "import src.utils as utils\n",
    "import torch\n",
    "import yaml\n",
    "from src.datasets import create_loo_dataset, create_test_sst2, create_train_sst2\n",
    "from torch.optim import Adam\n",
    "from torch.utils.data import DataLoader\n",
    "from tqdm import tqdm\n",
    "\n",
    "import wandb\n",
    "\n",
    "device = utils.get_device()\n",
    "config_path = \"loo/classifier.yaml\"\n",
    "epochs = 10\n",
    "num_training_examples = 1000\n",
    "\n",
    "with open(config_path, \"r\") as stream:\n",
    "    config = yaml.safe_load(stream)\n",
    "config.update({\"epochs\": epochs, \"num_training_examples\": num_training_examples})\n",
    "\n",
    "# Create datasets\n",
    "train_dataset = create_train_sst2(\n",
    "    device,\n",
    "    num_samples=config[\"num_training_examples\"],\n",
    "    tokenizer_name=config[\"bert_model_name\"],\n",
    "    max_seq_len=config[\"max_sequence_length\"],\n",
    ")\n",
    "\n",
    "test_dataset = create_test_sst2(\n",
    "    device,\n",
    "    tokenizer_name=config[\"bert_model_name\"],\n",
    "    max_seq_len=config[\"max_sequence_length\"],\n",
    ")\n",
    "test_dataloader = DataLoader(test_dataset, shuffle=False, batch_size=1)"
   ]
  },
  {
   "cell_type": "markdown",
   "id": "cc5f0a57-22fe-45ec-b0be-dd685a0ae0b0",
   "metadata": {
    "tags": []
   },
   "source": [
    "## Train Model on Full Data"
   ]
  },
  {
   "cell_type": "code",
   "execution_count": 2,
   "id": "650bbd48-baaa-4cdf-b941-a9b3cdc64d33",
   "metadata": {
    "execution": {
     "iopub.execute_input": "2023-05-04T01:58:47.812693Z",
     "iopub.status.busy": "2023-05-04T01:58:47.812496Z",
     "iopub.status.idle": "2023-05-04T01:59:23.977543Z",
     "shell.execute_reply": "2023-05-04T01:59:23.976703Z",
     "shell.execute_reply.started": "2023-05-04T01:58:47.812679Z"
    },
    "tags": []
   },
   "outputs": [
    {
     "name": "stderr",
     "output_type": "stream",
     "text": [
      "Some weights of the model checkpoint at distilbert-base-uncased were not used when initializing DistilBertModel: ['vocab_layer_norm.bias', 'vocab_transform.bias', 'vocab_transform.weight', 'vocab_projector.bias', 'vocab_layer_norm.weight', 'vocab_projector.weight']\n",
      "- This IS expected if you are initializing DistilBertModel from the checkpoint of a model trained on another task or with another architecture (e.g. initializing a BertForSequenceClassification model from a BertForPreTraining model).\n",
      "- This IS NOT expected if you are initializing DistilBertModel from the checkpoint of a model that you expect to be exactly identical (initializing a BertForSequenceClassification model from a BertForSequenceClassification model).\n",
      "\u001b[34m\u001b[1mwandb\u001b[0m: Currently logged in as: \u001b[33mpatcao\u001b[0m. Use \u001b[1m`wandb login --relogin`\u001b[0m to force relogin\n"
     ]
    },
    {
     "data": {
      "text/html": [
       "wandb version 0.15.1 is available!  To upgrade, please run:\n",
       " $ pip install wandb --upgrade"
      ],
      "text/plain": [
       "<IPython.core.display.HTML object>"
      ]
     },
     "metadata": {},
     "output_type": "display_data"
    },
    {
     "data": {
      "text/html": [
       "Tracking run with wandb version 0.15.0"
      ],
      "text/plain": [
       "<IPython.core.display.HTML object>"
      ]
     },
     "metadata": {},
     "output_type": "display_data"
    },
    {
     "data": {
      "text/html": [
       "Run data is saved locally in <code>/home/pcao/sentiment-influence-function/wandb/run-20230503_215849-241u0l0a</code>"
      ],
      "text/plain": [
       "<IPython.core.display.HTML object>"
      ]
     },
     "metadata": {},
     "output_type": "display_data"
    },
    {
     "data": {
      "text/html": [
       "Syncing run <strong><a href='https://wandb.ai/patcao/LOO-test/runs/241u0l0a' target=\"_blank\">light-wookie-139</a></strong> to <a href='https://wandb.ai/patcao/LOO-test' target=\"_blank\">Weights & Biases</a> (<a href='https://wandb.me/run' target=\"_blank\">docs</a>)<br/>"
      ],
      "text/plain": [
       "<IPython.core.display.HTML object>"
      ]
     },
     "metadata": {},
     "output_type": "display_data"
    },
    {
     "data": {
      "text/html": [
       " View project at <a href='https://wandb.ai/patcao/LOO-test' target=\"_blank\">https://wandb.ai/patcao/LOO-test</a>"
      ],
      "text/plain": [
       "<IPython.core.display.HTML object>"
      ]
     },
     "metadata": {},
     "output_type": "display_data"
    },
    {
     "data": {
      "text/html": [
       " View run at <a href='https://wandb.ai/patcao/LOO-test/runs/241u0l0a' target=\"_blank\">https://wandb.ai/patcao/LOO-test/runs/241u0l0a</a>"
      ],
      "text/plain": [
       "<IPython.core.display.HTML object>"
      ]
     },
     "metadata": {},
     "output_type": "display_data"
    },
    {
     "name": "stderr",
     "output_type": "stream",
     "text": [
      "100%|████████████████████████████████████████████████████████████████████████████████████████████████████████████████████| 63/63 [00:02<00:00, 26.57batch/s]\n",
      "100%|████████████████████████████████████████████████████████████████████████████████████████████████████████████████████| 63/63 [00:02<00:00, 30.07batch/s]\n",
      "100%|████████████████████████████████████████████████████████████████████████████████████████████████████████████████████| 63/63 [00:02<00:00, 29.60batch/s]\n",
      "100%|████████████████████████████████████████████████████████████████████████████████████████████████████████████████████| 63/63 [00:02<00:00, 29.84batch/s]\n",
      "100%|████████████████████████████████████████████████████████████████████████████████████████████████████████████████████| 63/63 [00:02<00:00, 29.36batch/s]\n",
      "100%|████████████████████████████████████████████████████████████████████████████████████████████████████████████████████| 63/63 [00:02<00:00, 29.54batch/s]\n",
      "100%|████████████████████████████████████████████████████████████████████████████████████████████████████████████████████| 63/63 [00:02<00:00, 30.80batch/s]\n",
      "100%|████████████████████████████████████████████████████████████████████████████████████████████████████████████████████| 63/63 [00:02<00:00, 30.33batch/s]\n",
      "100%|████████████████████████████████████████████████████████████████████████████████████████████████████████████████████| 63/63 [00:02<00:00, 30.03batch/s]\n",
      "100%|████████████████████████████████████████████████████████████████████████████████████████████████████████████████████| 63/63 [00:02<00:00, 30.79batch/s]\n"
     ]
    },
    {
     "data": {
      "text/html": [
       "Waiting for W&B process to finish... <strong style=\"color:green\">(success).</strong>"
      ],
      "text/plain": [
       "<IPython.core.display.HTML object>"
      ]
     },
     "metadata": {},
     "output_type": "display_data"
    },
    {
     "data": {
      "application/vnd.jupyter.widget-view+json": {
       "model_id": "779ab081501a435482ac5ce8e60214e1",
       "version_major": 2,
       "version_minor": 0
      },
      "text/plain": [
       "VBox(children=(Label(value='0.003 MB of 0.003 MB uploaded (0.000 MB deduped)\\r'), FloatProgress(value=1.0, max…"
      ]
     },
     "metadata": {},
     "output_type": "display_data"
    },
    {
     "data": {
      "text/html": [
       "<style>\n",
       "    table.wandb td:nth-child(1) { padding: 0 10px; text-align: left ; width: auto;} td:nth-child(2) {text-align: left ; width: 100%}\n",
       "    .wandb-row { display: flex; flex-direction: row; flex-wrap: wrap; justify-content: flex-start; width: 100% }\n",
       "    .wandb-col { display: flex; flex-direction: column; flex-basis: 100%; flex: 1; padding: 10px; }\n",
       "    </style>\n",
       "<div class=\"wandb-row\"><div class=\"wandb-col\"><h3>Run history:</h3><br/><table class=\"wandb\"><tr><td>epoch</td><td>▁▂▃▃▄▅▆▆▇█</td></tr><tr><td>train/accuracy</td><td>▁▅▇▇▇▇████</td></tr><tr><td>train/batch_loss</td><td>█▇▇▇▆▆▅▅▄▅▆▃▄▂▂▆▆▆▅▄▂▃▅▃▄▄▅▃▂▃▃▅▄▄▂▄▂▂▃▁</td></tr><tr><td>train/loss</td><td>█▅▃▃▂▂▂▁▁▁</td></tr></table><br/></div><div class=\"wandb-col\"><h3>Run summary:</h3><br/><table class=\"wandb\"><tr><td>epoch</td><td>10</td></tr><tr><td>test/accuracy</td><td>81.76606</td></tr><tr><td>test/loss</td><td>0.4104</td></tr><tr><td>train/accuracy</td><td>87.79762</td></tr><tr><td>train/batch_loss</td><td>0.08084</td></tr><tr><td>train/loss</td><td>0.32155</td></tr></table><br/></div></div>"
      ],
      "text/plain": [
       "<IPython.core.display.HTML object>"
      ]
     },
     "metadata": {},
     "output_type": "display_data"
    },
    {
     "data": {
      "text/html": [
       " View run <strong style=\"color:#cdcd00\">light-wookie-139</strong> at: <a href='https://wandb.ai/patcao/LOO-test/runs/241u0l0a' target=\"_blank\">https://wandb.ai/patcao/LOO-test/runs/241u0l0a</a><br/>Synced 6 W&B file(s), 0 media file(s), 0 artifact file(s) and 0 other file(s)"
      ],
      "text/plain": [
       "<IPython.core.display.HTML object>"
      ]
     },
     "metadata": {},
     "output_type": "display_data"
    },
    {
     "data": {
      "text/html": [
       "Find logs at: <code>./wandb/run-20230503_215849-241u0l0a/logs</code>"
      ],
      "text/plain": [
       "<IPython.core.display.HTML object>"
      ]
     },
     "metadata": {},
     "output_type": "display_data"
    }
   ],
   "source": [
    "train_dataloader = DataLoader(\n",
    "    train_dataset, batch_size=config[\"batch_size\"], shuffle=True\n",
    ")\n",
    "\n",
    "# Create classifcation model\n",
    "full_model = BertClassifier.create_bert_classifier(\n",
    "    config[\"bert_model_name\"],\n",
    "    classifier_type=config[\"classifier_type\"],\n",
    "    classifier_hidden_size=config[\"classifier_hidden_size\"],\n",
    "    classifier_drop_out=config[\"classifier_drop_out\"],\n",
    "    freeze_bert=True,\n",
    "    random_state=42,\n",
    ")\n",
    "full_model.classifier.load_state_dict(\n",
    "    torch.load(\"loo_10k/run_0/init_classifier_params.pt\")\n",
    ")\n",
    "# torch.save(model.classifier.state_dict(), 'classifier_params.pt')\n",
    "\n",
    "optimizer = Adam(full_model.classifier.parameters(), lr=config[\"learning_rate\"])\n",
    "loss_fn = torch.nn.CrossEntropyLoss()\n",
    "\n",
    "run = wandb.init(project=\"LOO-test\", tags=[\"full\"], config=config)\n",
    "\n",
    "timings = utils.train(\n",
    "    config=config,\n",
    "    model=full_model,\n",
    "    optimizer=optimizer,\n",
    "    loss_fn=loss_fn,\n",
    "    train_dataloader=train_dataloader,\n",
    "    val_dataloader=None,\n",
    ")\n",
    "\n",
    "fdf, test_loss, test_acc = utils.evaluate_loss_df(full_model, test_dataloader)\n",
    "wandb.summary[\"test/loss\"] = test_loss\n",
    "wandb.summary[\"test/accuracy\"] = test_acc\n",
    "wandb.finish()"
   ]
  },
  {
   "cell_type": "code",
   "execution_count": null,
   "id": "90380bb3-cbae-41cb-9e88-4ef79620814c",
   "metadata": {
    "execution": {
     "iopub.status.busy": "2023-05-02T13:48:38.218641Z",
     "iopub.status.idle": "2023-05-02T13:48:38.218871Z",
     "shell.execute_reply": "2023-05-02T13:48:38.218775Z",
     "shell.execute_reply.started": "2023-05-02T13:48:38.218764Z"
    },
    "tags": []
   },
   "outputs": [],
   "source": [
    "# Compute loss for each test point\n",
    "# fdf, test_loss, test_acc = utils.evaluate_loss_df(full_model, test_dataloader)\n",
    "# fdf"
   ]
  },
  {
   "cell_type": "code",
   "execution_count": 3,
   "id": "608fbed1-9ade-448b-8d2b-d9235db3451a",
   "metadata": {
    "execution": {
     "iopub.execute_input": "2023-05-04T01:59:23.990203Z",
     "iopub.status.busy": "2023-05-04T01:59:23.989946Z",
     "iopub.status.idle": "2023-05-04T01:59:24.053628Z",
     "shell.execute_reply": "2023-05-04T01:59:24.052871Z",
     "shell.execute_reply.started": "2023-05-04T01:59:23.990184Z"
    },
    "tags": []
   },
   "outputs": [
    {
     "data": {
      "text/html": [
       "<div>\n",
       "<style scoped>\n",
       "    .dataframe tbody tr th:only-of-type {\n",
       "        vertical-align: middle;\n",
       "    }\n",
       "\n",
       "    .dataframe tbody tr th {\n",
       "        vertical-align: top;\n",
       "    }\n",
       "\n",
       "    .dataframe thead th {\n",
       "        text-align: right;\n",
       "    }\n",
       "</style>\n",
       "<table border=\"1\" class=\"dataframe\">\n",
       "  <thead>\n",
       "    <tr style=\"text-align: right;\">\n",
       "      <th></th>\n",
       "      <th>test_guid</th>\n",
       "      <th>logits</th>\n",
       "      <th>pred</th>\n",
       "      <th>label</th>\n",
       "      <th>loss</th>\n",
       "    </tr>\n",
       "  </thead>\n",
       "  <tbody>\n",
       "    <tr>\n",
       "      <th>869</th>\n",
       "      <td>869</td>\n",
       "      <td>[-0.7313803, 0.27960566]</td>\n",
       "      <td>1</td>\n",
       "      <td>0</td>\n",
       "      <td>1.321305</td>\n",
       "    </tr>\n",
       "  </tbody>\n",
       "</table>\n",
       "</div>"
      ],
      "text/plain": [
       "     test_guid                    logits  pred  label      loss\n",
       "869        869  [-0.7313803, 0.27960566]     1      0  1.321305"
      ]
     },
     "execution_count": 3,
     "metadata": {},
     "output_type": "execute_result"
    }
   ],
   "source": [
    "fdf[fdf.test_guid == 869]"
   ]
  },
  {
   "cell_type": "code",
   "execution_count": 45,
   "id": "1898072f-387a-4139-b42f-7f5c8d311125",
   "metadata": {
    "execution": {
     "iopub.execute_input": "2023-05-02T03:03:35.343219Z",
     "iopub.status.busy": "2023-05-02T03:03:35.343025Z",
     "iopub.status.idle": "2023-05-02T03:03:35.370983Z",
     "shell.execute_reply": "2023-05-02T03:03:35.369954Z",
     "shell.execute_reply.started": "2023-05-02T03:03:35.343203Z"
    },
    "tags": []
   },
   "outputs": [
    {
     "data": {
      "text/html": [
       "<div>\n",
       "<style scoped>\n",
       "    .dataframe tbody tr th:only-of-type {\n",
       "        vertical-align: middle;\n",
       "    }\n",
       "\n",
       "    .dataframe tbody tr th {\n",
       "        vertical-align: top;\n",
       "    }\n",
       "\n",
       "    .dataframe thead th {\n",
       "        text-align: right;\n",
       "    }\n",
       "</style>\n",
       "<table border=\"1\" class=\"dataframe\">\n",
       "  <thead>\n",
       "    <tr style=\"text-align: right;\">\n",
       "      <th></th>\n",
       "      <th>test_guid</th>\n",
       "      <th>label</th>\n",
       "      <th>pred</th>\n",
       "      <th>loss</th>\n",
       "    </tr>\n",
       "  </thead>\n",
       "  <tbody>\n",
       "    <tr>\n",
       "      <th>869</th>\n",
       "      <td>869</td>\n",
       "      <td>0</td>\n",
       "      <td>1</td>\n",
       "      <td>0.986901</td>\n",
       "    </tr>\n",
       "  </tbody>\n",
       "</table>\n",
       "</div>"
      ],
      "text/plain": [
       "     test_guid  label  pred      loss\n",
       "869        869      0     1  0.986901"
      ]
     },
     "execution_count": 45,
     "metadata": {},
     "output_type": "execute_result"
    }
   ],
   "source": [
    "fdf[fdf.test_guid == 869]"
   ]
  },
  {
   "cell_type": "markdown",
   "id": "90db4fd1-09a0-4a5b-991b-6edcc6c35e3e",
   "metadata": {},
   "source": [
    "## Compute Saliency Map"
   ]
  },
  {
   "cell_type": "code",
   "execution_count": 58,
   "id": "08736e07-1dac-4d23-bdb5-7a84522d15d8",
   "metadata": {
    "execution": {
     "iopub.execute_input": "2023-05-04T02:43:02.569147Z",
     "iopub.status.busy": "2023-05-04T02:43:02.568643Z",
     "iopub.status.idle": "2023-05-04T02:43:02.592214Z",
     "shell.execute_reply": "2023-05-04T02:43:02.591168Z",
     "shell.execute_reply.started": "2023-05-04T02:43:02.569128Z"
    },
    "tags": []
   },
   "outputs": [],
   "source": [
    "from src.saliency import compute_saliency_map"
   ]
  },
  {
   "cell_type": "code",
   "execution_count": 59,
   "id": "64ea7b45-a54f-4238-9b6c-d1e29245add3",
   "metadata": {
    "execution": {
     "iopub.execute_input": "2023-05-04T02:43:03.017252Z",
     "iopub.status.busy": "2023-05-04T02:43:03.016978Z",
     "iopub.status.idle": "2023-05-04T02:43:18.257938Z",
     "shell.execute_reply": "2023-05-04T02:43:18.257232Z",
     "shell.execute_reply.started": "2023-05-04T02:43:03.017235Z"
    },
    "tags": []
   },
   "outputs": [
    {
     "name": "stdout",
     "output_type": "stream",
     "text": [
      "CPU times: user 11.8 s, sys: 391 ms, total: 12.2 s\n",
      "Wall time: 15.2 s\n"
     ]
    }
   ],
   "source": [
    "%%time\n",
    "m = compute_saliency_map(full_model, test_dataset)"
   ]
  },
  {
   "cell_type": "code",
   "execution_count": 61,
   "id": "2b668ba3-e821-45ff-a0a4-948be695d961",
   "metadata": {
    "execution": {
     "iopub.execute_input": "2023-05-04T02:43:27.041523Z",
     "iopub.status.busy": "2023-05-04T02:43:27.041279Z",
     "iopub.status.idle": "2023-05-04T02:43:27.068676Z",
     "shell.execute_reply": "2023-05-04T02:43:27.067654Z",
     "shell.execute_reply.started": "2023-05-04T02:43:27.041507Z"
    },
    "tags": []
   },
   "outputs": [
    {
     "data": {
      "text/plain": [
       "[('[CLS]', 0.018220345),\n",
       " ('do', 0.062947236),\n",
       " ('n', 0.034391075),\n",
       " (\"'\", 0.06174885),\n",
       " ('t', -0.04071759),\n",
       " ('be', -0.0002947131),\n",
       " ('fooled', -0.048391078),\n",
       " ('by', -0.027427686),\n",
       " ('the', -0.06221382),\n",
       " ('impressive', 0.067453265),\n",
       " ('cast', 0.088975295),\n",
       " ('list', 0.036550414),\n",
       " ('-', -0.054100297),\n",
       " ('eye', -0.0916301),\n",
       " ('see', -0.007062814),\n",
       " ('you', 0.036172513),\n",
       " ('is', -0.16360521),\n",
       " ('pure', 0.002578981),\n",
       " ('junk', -0.011266417),\n",
       " ('.', -0.02096015),\n",
       " ('[SEP]', 0.06329211)]"
      ]
     },
     "execution_count": 61,
     "metadata": {},
     "output_type": "execute_result"
    }
   ],
   "source": [
    "m[560]"
   ]
  },
  {
   "cell_type": "code",
   "execution_count": 53,
   "id": "4f62fdb3-d13c-4703-af16-0631dc416a1e",
   "metadata": {
    "execution": {
     "iopub.execute_input": "2023-05-04T02:20:28.980536Z",
     "iopub.status.busy": "2023-05-04T02:20:28.980147Z",
     "iopub.status.idle": "2023-05-04T02:20:29.047650Z",
     "shell.execute_reply": "2023-05-04T02:20:29.046867Z",
     "shell.execute_reply.started": "2023-05-04T02:20:28.980519Z"
    },
    "tags": []
   },
   "outputs": [
    {
     "data": {
      "text/plain": [
       "'hide new secretions from the parental units '"
      ]
     },
     "execution_count": 53,
     "metadata": {},
     "output_type": "execute_result"
    }
   ],
   "source": [
    "import src.datasets as datasets\n",
    "datasets.get_train_example(0).sentence.squeeze()"
   ]
  },
  {
   "cell_type": "markdown",
   "id": "2a9f0342-b632-4447-b17e-be443f77e07d",
   "metadata": {
    "tags": []
   },
   "source": [
    "## Compute Input Influence"
   ]
  },
  {
   "cell_type": "code",
   "execution_count": 58,
   "id": "328dcc5a-480d-4ca2-9545-2d12f0014884",
   "metadata": {
    "execution": {
     "iopub.execute_input": "2023-05-03T23:24:23.801968Z",
     "iopub.status.busy": "2023-05-03T23:24:23.801554Z",
     "iopub.status.idle": "2023-05-03T23:25:23.473860Z",
     "shell.execute_reply": "2023-05-03T23:25:23.473215Z",
     "shell.execute_reply.started": "2023-05-03T23:24:23.801951Z"
    },
    "tags": []
   },
   "outputs": [
    {
     "name": "stdout",
     "output_type": "stream",
     "text": [
      "LiSSA reps: 2 and num_iterations: 800\n",
      "Recursion at depth 0: norm is 6.080253\n",
      "Recursion at depth 200: norm is 100.738991\n",
      "Recursion at depth 400: norm is 133.316620\n",
      "Recursion at depth 600: norm is 144.424957\n",
      "Recursion at depth 799: norm is 149.191589\n",
      "Recursion at depth 0: norm is 6.149002\n",
      "Recursion at depth 200: norm is 100.389175\n",
      "Recursion at depth 400: norm is 133.715179\n",
      "Recursion at depth 600: norm is 145.010590\n",
      "Recursion at depth 799: norm is 148.986282\n"
     ]
    },
    {
     "name": "stderr",
     "output_type": "stream",
     "text": [
      "100%|██████████████████████████████████████████████████████████████████████████████████████████████████████████████████| 1000/1000 [00:09<00:00, 107.68it/s]\n"
     ]
    }
   ],
   "source": [
    "import src.influence as inf_utils\n",
    "\n",
    "test_guid = 560\n",
    "param_infl = list(full_model.classifier.parameters())\n",
    "infl = inf_utils.compute_input_influence(\n",
    "    full_model=full_model,\n",
    "    test_guid=test_guid,\n",
    "    param_influence=param_infl,\n",
    "    train_dataset=train_dataset,\n",
    "    test_dataset=test_dataset,\n",
    "    lissa_r=2,\n",
    "    lissa_depth=1,\n",
    "    damping=5e-3,\n",
    "    scale=100,\n",
    "    training_indices=[0],\n",
    ")"
   ]
  },
  {
   "cell_type": "code",
   "execution_count": 64,
   "id": "5d1b0dac-fc3f-4838-82b5-31a440913a01",
   "metadata": {
    "execution": {
     "iopub.execute_input": "2023-05-03T23:27:12.103010Z",
     "iopub.status.busy": "2023-05-03T23:27:12.102525Z",
     "iopub.status.idle": "2023-05-03T23:27:12.128974Z",
     "shell.execute_reply": "2023-05-03T23:27:12.128315Z",
     "shell.execute_reply.started": "2023-05-03T23:27:12.102992Z"
    },
    "tags": []
   },
   "outputs": [
    {
     "name": "stdout",
     "output_type": "stream",
     "text": [
      "1.3271688431842823\n",
      "3.0832113640498804\n",
      "1.6184760165347525\n",
      "1.9189202851416571\n",
      "1.2951182913815786\n",
      "0.9447649688890077\n",
      "1.1850208067471606\n",
      "1.954149161662421\n",
      "1.8627801382009113\n",
      "0.9770001748609257\n",
      "0.0\n",
      "0.0\n",
      "0.0\n",
      "0.0\n",
      "0.0\n",
      "0.0\n",
      "0.0\n",
      "0.0\n",
      "0.0\n",
      "0.0\n",
      "0.0\n",
      "0.0\n",
      "0.0\n",
      "0.0\n",
      "0.0\n",
      "0.0\n",
      "0.0\n",
      "0.0\n",
      "0.0\n",
      "0.0\n",
      "0.0\n",
      "0.0\n",
      "0.0\n",
      "0.0\n",
      "0.0\n",
      "0.0\n",
      "0.0\n",
      "0.0\n",
      "0.0\n",
      "0.0\n",
      "0.0\n",
      "0.0\n",
      "0.0\n",
      "0.0\n",
      "0.0\n",
      "0.0\n",
      "0.0\n",
      "0.0\n",
      "0.0\n",
      "0.0\n",
      "0.0\n",
      "0.0\n",
      "0.0\n",
      "0.0\n",
      "0.0\n",
      "0.0\n",
      "0.0\n",
      "0.0\n",
      "0.0\n",
      "0.0\n",
      "0.0\n",
      "0.0\n",
      "0.0\n",
      "0.0\n"
     ]
    }
   ],
   "source": [
    "for token_idx in range(64):\n",
    "    token_infl = infl[0][token_idx]\n",
    "    print(np.linalg.norm(token_infl))"
   ]
  },
  {
   "cell_type": "code",
   "execution_count": 81,
   "id": "3aa1d641-0006-40fc-af56-726f09b3e866",
   "metadata": {
    "execution": {
     "iopub.execute_input": "2023-05-03T23:46:02.123208Z",
     "iopub.status.busy": "2023-05-03T23:46:02.122539Z",
     "iopub.status.idle": "2023-05-03T23:46:02.192780Z",
     "shell.execute_reply": "2023-05-03T23:46:02.192028Z",
     "shell.execute_reply.started": "2023-05-03T23:46:02.123192Z"
    },
    "tags": []
   },
   "outputs": [],
   "source": [
    "\n",
    "sent = datasets.get_train_example(1).sentence.squeeze()"
   ]
  },
  {
   "cell_type": "code",
   "execution_count": 84,
   "id": "a1d7b632-502d-489c-b238-7873775297ee",
   "metadata": {
    "execution": {
     "iopub.execute_input": "2023-05-03T23:46:49.547695Z",
     "iopub.status.busy": "2023-05-03T23:46:49.547393Z",
     "iopub.status.idle": "2023-05-03T23:46:49.607519Z",
     "shell.execute_reply": "2023-05-03T23:46:49.606758Z",
     "shell.execute_reply.started": "2023-05-03T23:46:49.547677Z"
    },
    "tags": []
   },
   "outputs": [],
   "source": [
    "from transformers import AutoTokenizer\n",
    "tokenizer = AutoTokenizer.from_pretrained('distilbert-base-uncased', do_lower_case=True)"
   ]
  },
  {
   "cell_type": "code",
   "execution_count": 87,
   "id": "f9a56399-1eeb-4fc4-9a51-6c211e41cdd6",
   "metadata": {
    "execution": {
     "iopub.execute_input": "2023-05-03T23:48:32.181860Z",
     "iopub.status.busy": "2023-05-03T23:48:32.181480Z",
     "iopub.status.idle": "2023-05-03T23:48:32.204599Z",
     "shell.execute_reply": "2023-05-03T23:48:32.203826Z",
     "shell.execute_reply.started": "2023-05-03T23:48:32.181844Z"
    },
    "tags": []
   },
   "outputs": [],
   "source": [
    "input_ids = tokenizer.encode_plus(text=sent, max_length=64, padding='max_length')['input_ids']"
   ]
  },
  {
   "cell_type": "code",
   "execution_count": 97,
   "id": "b8fd5f53-8234-40cc-b36e-ca348b05248a",
   "metadata": {
    "execution": {
     "iopub.execute_input": "2023-05-03T23:53:20.024190Z",
     "iopub.status.busy": "2023-05-03T23:53:20.023553Z",
     "iopub.status.idle": "2023-05-03T23:53:20.049141Z",
     "shell.execute_reply": "2023-05-03T23:53:20.048225Z",
     "shell.execute_reply.started": "2023-05-03T23:53:20.024175Z"
    },
    "tags": []
   },
   "outputs": [
    {
     "data": {
      "text/plain": [
       "<tuple_iterator at 0x7effd49157b0>"
      ]
     },
     "execution_count": 97,
     "metadata": {},
     "output_type": "execute_result"
    }
   ],
   "source": [
    "iter(torch.tensor(input_ids))"
   ]
  },
  {
   "cell_type": "code",
   "execution_count": 102,
   "id": "ad473f4f-52f7-48a7-9ecc-b396da423a32",
   "metadata": {
    "execution": {
     "iopub.execute_input": "2023-05-03T23:55:48.640741Z",
     "iopub.status.busy": "2023-05-03T23:55:48.640506Z",
     "iopub.status.idle": "2023-05-03T23:55:48.703568Z",
     "shell.execute_reply": "2023-05-03T23:55:48.702825Z",
     "shell.execute_reply.started": "2023-05-03T23:55:48.640726Z"
    },
    "tags": []
   },
   "outputs": [],
   "source": [
    "d = datasets.get_tokens_from_ids(input_ids)"
   ]
  },
  {
   "cell_type": "code",
   "execution_count": 113,
   "id": "184a1fc6-546a-4863-83bb-a02ae6cd6dea",
   "metadata": {
    "execution": {
     "iopub.execute_input": "2023-05-03T23:57:34.436160Z",
     "iopub.status.busy": "2023-05-03T23:57:34.435589Z",
     "iopub.status.idle": "2023-05-03T23:57:34.460062Z",
     "shell.execute_reply": "2023-05-03T23:57:34.459371Z",
     "shell.execute_reply.started": "2023-05-03T23:57:34.436144Z"
    },
    "tags": []
   },
   "outputs": [
    {
     "data": {
      "text/plain": [
       "['[CLS]', 'contains', 'no', 'wit', ',', 'only', 'labor', '##ed', 'gag', '##s']"
      ]
     },
     "execution_count": 113,
     "metadata": {},
     "output_type": "execute_result"
    }
   ],
   "source": [
    "d[:10]"
   ]
  },
  {
   "cell_type": "code",
   "execution_count": 104,
   "id": "2e23ee81-ab0b-4319-9005-3c4f03e31e1a",
   "metadata": {
    "execution": {
     "iopub.execute_input": "2023-05-03T23:55:50.998025Z",
     "iopub.status.busy": "2023-05-03T23:55:50.997631Z",
     "iopub.status.idle": "2023-05-03T23:55:51.022777Z",
     "shell.execute_reply": "2023-05-03T23:55:51.022033Z",
     "shell.execute_reply.started": "2023-05-03T23:55:50.997999Z"
    },
    "tags": []
   },
   "outputs": [
    {
     "data": {
      "text/plain": [
       "['a', 'b', 'c']"
      ]
     },
     "execution_count": 104,
     "metadata": {},
     "output_type": "execute_result"
    }
   ],
   "source": [
    "['a', 'b', 'c']"
   ]
  },
  {
   "cell_type": "code",
   "execution_count": 71,
   "id": "7024a3f8-6c46-4764-a00a-55b3a8611986",
   "metadata": {
    "execution": {
     "iopub.execute_input": "2023-05-03T23:29:27.754646Z",
     "iopub.status.busy": "2023-05-03T23:29:27.754164Z",
     "iopub.status.idle": "2023-05-03T23:29:27.790709Z",
     "shell.execute_reply": "2023-05-03T23:29:27.790011Z",
     "shell.execute_reply.started": "2023-05-03T23:29:27.754630Z"
    },
    "tags": []
   },
   "outputs": [
    {
     "data": {
      "text/plain": [
       "tensor([  101,  5342,  2047,  3595,  8496,  2013,  1996, 18643,  3197,   102,\n",
       "            0,     0,     0,     0,     0,     0,     0,     0,     0,     0,\n",
       "            0,     0,     0,     0,     0,     0,     0,     0,     0,     0,\n",
       "            0,     0,     0,     0,     0,     0,     0,     0,     0,     0,\n",
       "            0,     0,     0,     0,     0,     0,     0,     0,     0,     0,\n",
       "            0,     0,     0,     0,     0,     0,     0,     0,     0,     0,\n",
       "            0,     0,     0,     0], device='cuda:0')"
      ]
     },
     "execution_count": 71,
     "metadata": {},
     "output_type": "execute_result"
    }
   ],
   "source": [
    "import src.datasets as datasets\n",
    "\n",
    "train_dataset.tensors[1][0]"
   ]
  },
  {
   "cell_type": "code",
   "execution_count": 4,
   "id": "7f60699b-a7e4-4941-a520-f4c912e5f736",
   "metadata": {
    "execution": {
     "iopub.execute_input": "2023-05-03T19:36:57.447482Z",
     "iopub.status.busy": "2023-05-03T19:36:57.447247Z",
     "iopub.status.idle": "2023-05-03T19:36:57.473495Z",
     "shell.execute_reply": "2023-05-03T19:36:57.472723Z",
     "shell.execute_reply.started": "2023-05-03T19:36:57.447467Z"
    },
    "tags": []
   },
   "outputs": [
    {
     "name": "stderr",
     "output_type": "stream",
     "text": [
      "100%|███████████████████████████████████████████████████████████████████████████████████████████████████████████████████| 3/3 [00:00<00:00, 33376.42batch/s]"
     ]
    },
    {
     "name": "stdout",
     "output_type": "stream",
     "text": [
      "0: 1\n",
      "1: 2\n",
      "2: 3\n"
     ]
    },
    {
     "name": "stderr",
     "output_type": "stream",
     "text": [
      "\n"
     ]
    }
   ],
   "source": [
    "from tqdm import tqdm\n",
    "\n",
    "for i, batch in enumerate(tqdm([1,2,3], unit='batch')):\n",
    "    print(f\"{i}: {batch}\")"
   ]
  },
  {
   "cell_type": "code",
   "execution_count": null,
   "id": "4e7d193d-6c71-4e52-985e-4896a801b3e3",
   "metadata": {},
   "outputs": [],
   "source": []
  },
  {
   "cell_type": "markdown",
   "id": "063e39d7-3b87-4ce9-89e6-a4125fd674ae",
   "metadata": {
    "jp-MarkdownHeadingCollapsed": true,
    "tags": []
   },
   "source": [
    "## Train Multiple LOO Models"
   ]
  },
  {
   "cell_type": "code",
   "execution_count": 171,
   "id": "658a67b5-f5c8-4387-a5fb-f183040360f4",
   "metadata": {
    "execution": {
     "iopub.execute_input": "2023-05-02T20:45:49.929747Z",
     "iopub.status.busy": "2023-05-02T20:45:49.929205Z",
     "iopub.status.idle": "2023-05-02T21:06:26.650299Z",
     "shell.execute_reply": "2023-05-02T21:06:26.649599Z",
     "shell.execute_reply.started": "2023-05-02T20:45:49.929718Z"
    },
    "tags": []
   },
   "outputs": [
    {
     "name": "stderr",
     "output_type": "stream",
     "text": [
      "Some weights of the model checkpoint at distilbert-base-uncased were not used when initializing DistilBertModel: ['vocab_projector.weight', 'vocab_transform.weight', 'vocab_layer_norm.bias', 'vocab_projector.bias', 'vocab_layer_norm.weight', 'vocab_transform.bias']\n",
      "- This IS expected if you are initializing DistilBertModel from the checkpoint of a model trained on another task or with another architecture (e.g. initializing a BertForSequenceClassification model from a BertForPreTraining model).\n",
      "- This IS NOT expected if you are initializing DistilBertModel from the checkpoint of a model that you expect to be exactly identical (initializing a BertForSequenceClassification model from a BertForSequenceClassification model).\n"
     ]
    },
    {
     "data": {
      "text/html": [
       "Finishing last run (ID:ssax7emh) before initializing another..."
      ],
      "text/plain": [
       "<IPython.core.display.HTML object>"
      ]
     },
     "metadata": {},
     "output_type": "display_data"
    },
    {
     "data": {
      "text/html": [
       "Waiting for W&B process to finish... <strong style=\"color:green\">(success).</strong>"
      ],
      "text/plain": [
       "<IPython.core.display.HTML object>"
      ]
     },
     "metadata": {},
     "output_type": "display_data"
    },
    {
     "data": {
      "application/vnd.jupyter.widget-view+json": {
       "model_id": "5fe514128490443da0d7954cd26ea2c4",
       "version_major": 2,
       "version_minor": 0
      },
      "text/plain": [
       "VBox(children=(Label(value='0.003 MB of 0.003 MB uploaded (0.000 MB deduped)\\r'), FloatProgress(value=1.0, max…"
      ]
     },
     "metadata": {},
     "output_type": "display_data"
    },
    {
     "data": {
      "text/html": [
       "<style>\n",
       "    table.wandb td:nth-child(1) { padding: 0 10px; text-align: left ; width: auto;} td:nth-child(2) {text-align: left ; width: 100%}\n",
       "    .wandb-row { display: flex; flex-direction: row; flex-wrap: wrap; justify-content: flex-start; width: 100% }\n",
       "    .wandb-col { display: flex; flex-direction: column; flex-basis: 100%; flex: 1; padding: 10px; }\n",
       "    </style>\n",
       "<div class=\"wandb-row\"><div class=\"wandb-col\"><h3>Run history:</h3><br/><table class=\"wandb\"><tr><td>epoch</td><td>▁▂▃▃▄▅▆▆▇█</td></tr><tr><td>train/accuracy</td><td>▁▆▆▇▇▇▇███</td></tr><tr><td>train/batch_loss</td><td>█▇▆▆▅▂▄▃▄▂▂▂█▂▅▁▄▄▂▁▂▄▃▃▄▄▄▂▄▂▃▃▆▁▅▁▆▄▂▅</td></tr><tr><td>train/loss</td><td>█▃▃▃▃▂▂▁▁▁</td></tr></table><br/></div><div class=\"wandb-col\"><h3>Run summary:</h3><br/><table class=\"wandb\"><tr><td>epoch</td><td>10</td></tr><tr><td>train/accuracy</td><td>85.058</td></tr><tr><td>train/batch_loss</td><td>0.10022</td></tr><tr><td>train/loss</td><td>0.3463</td></tr></table><br/></div></div>"
      ],
      "text/plain": [
       "<IPython.core.display.HTML object>"
      ]
     },
     "metadata": {},
     "output_type": "display_data"
    },
    {
     "data": {
      "text/html": [
       " View run <strong style=\"color:#cdcd00\">whole-energy-89</strong> at: <a href='https://wandb.ai/patcao/LOO-test/runs/ssax7emh' target=\"_blank\">https://wandb.ai/patcao/LOO-test/runs/ssax7emh</a><br/>Synced 6 W&B file(s), 0 media file(s), 0 artifact file(s) and 0 other file(s)"
      ],
      "text/plain": [
       "<IPython.core.display.HTML object>"
      ]
     },
     "metadata": {},
     "output_type": "display_data"
    },
    {
     "data": {
      "text/html": [
       "Find logs at: <code>./wandb/run-20230502_164113-ssax7emh/logs</code>"
      ],
      "text/plain": [
       "<IPython.core.display.HTML object>"
      ]
     },
     "metadata": {},
     "output_type": "display_data"
    },
    {
     "data": {
      "text/html": [
       "Successfully finished last run (ID:ssax7emh). Initializing new run:<br/>"
      ],
      "text/plain": [
       "<IPython.core.display.HTML object>"
      ]
     },
     "metadata": {},
     "output_type": "display_data"
    },
    {
     "data": {
      "application/vnd.jupyter.widget-view+json": {
       "model_id": "b163b37f4b8d4ccb9d9768607867ac14",
       "version_major": 2,
       "version_minor": 0
      },
      "text/plain": [
       "VBox(children=(Label(value='Waiting for wandb.init()...\\r'), FloatProgress(value=0.01667017666671503, max=1.0)…"
      ]
     },
     "metadata": {},
     "output_type": "display_data"
    },
    {
     "data": {
      "text/html": [
       "wandb version 0.15.1 is available!  To upgrade, please run:\n",
       " $ pip install wandb --upgrade"
      ],
      "text/plain": [
       "<IPython.core.display.HTML object>"
      ]
     },
     "metadata": {},
     "output_type": "display_data"
    },
    {
     "data": {
      "text/html": [
       "Tracking run with wandb version 0.15.0"
      ],
      "text/plain": [
       "<IPython.core.display.HTML object>"
      ]
     },
     "metadata": {},
     "output_type": "display_data"
    },
    {
     "data": {
      "text/html": [
       "Run data is saved locally in <code>/home/pcao/sentiment-influence-function/wandb/run-20230502_164550-49gvabgw</code>"
      ],
      "text/plain": [
       "<IPython.core.display.HTML object>"
      ]
     },
     "metadata": {},
     "output_type": "display_data"
    },
    {
     "data": {
      "text/html": [
       "Syncing run <strong><a href='https://wandb.ai/patcao/LOO-test/runs/49gvabgw' target=\"_blank\">dutiful-lake-90</a></strong> to <a href='https://wandb.ai/patcao/LOO-test' target=\"_blank\">Weights & Biases</a> (<a href='https://wandb.me/run' target=\"_blank\">docs</a>)<br/>"
      ],
      "text/plain": [
       "<IPython.core.display.HTML object>"
      ]
     },
     "metadata": {},
     "output_type": "display_data"
    },
    {
     "data": {
      "text/html": [
       " View project at <a href='https://wandb.ai/patcao/LOO-test' target=\"_blank\">https://wandb.ai/patcao/LOO-test</a>"
      ],
      "text/plain": [
       "<IPython.core.display.HTML object>"
      ]
     },
     "metadata": {},
     "output_type": "display_data"
    },
    {
     "data": {
      "text/html": [
       " View run at <a href='https://wandb.ai/patcao/LOO-test/runs/49gvabgw' target=\"_blank\">https://wandb.ai/patcao/LOO-test/runs/49gvabgw</a>"
      ],
      "text/plain": [
       "<IPython.core.display.HTML object>"
      ]
     },
     "metadata": {},
     "output_type": "display_data"
    },
    {
     "name": "stderr",
     "output_type": "stream",
     "text": [
      "100%|██████████████████████████████████████████████████████████████████████████████████████████████████████████████████| 625/625 [00:22<00:00, 28.23batch/s]\n",
      "100%|██████████████████████████████████████████████████████████████████████████████████████████████████████████████████| 625/625 [00:22<00:00, 28.31batch/s]\n",
      "100%|██████████████████████████████████████████████████████████████████████████████████████████████████████████████████| 625/625 [00:22<00:00, 28.16batch/s]\n",
      "100%|██████████████████████████████████████████████████████████████████████████████████████████████████████████████████| 625/625 [00:22<00:00, 28.24batch/s]\n",
      "100%|██████████████████████████████████████████████████████████████████████████████████████████████████████████████████| 625/625 [00:22<00:00, 28.33batch/s]\n",
      "100%|██████████████████████████████████████████████████████████████████████████████████████████████████████████████████| 625/625 [00:21<00:00, 28.48batch/s]\n",
      "100%|██████████████████████████████████████████████████████████████████████████████████████████████████████████████████| 625/625 [00:22<00:00, 27.38batch/s]\n",
      "100%|██████████████████████████████████████████████████████████████████████████████████████████████████████████████████| 625/625 [00:22<00:00, 28.17batch/s]\n",
      "100%|██████████████████████████████████████████████████████████████████████████████████████████████████████████████████| 625/625 [00:21<00:00, 28.56batch/s]\n",
      "100%|██████████████████████████████████████████████████████████████████████████████████████████████████████████████████| 625/625 [00:21<00:00, 28.57batch/s]\n"
     ]
    },
    {
     "data": {
      "text/html": [
       "Waiting for W&B process to finish... <strong style=\"color:green\">(success).</strong>"
      ],
      "text/plain": [
       "<IPython.core.display.HTML object>"
      ]
     },
     "metadata": {},
     "output_type": "display_data"
    },
    {
     "data": {
      "text/html": [
       "<style>\n",
       "    table.wandb td:nth-child(1) { padding: 0 10px; text-align: left ; width: auto;} td:nth-child(2) {text-align: left ; width: 100%}\n",
       "    .wandb-row { display: flex; flex-direction: row; flex-wrap: wrap; justify-content: flex-start; width: 100% }\n",
       "    .wandb-col { display: flex; flex-direction: column; flex-basis: 100%; flex: 1; padding: 10px; }\n",
       "    </style>\n",
       "<div class=\"wandb-row\"><div class=\"wandb-col\"><h3>Run history:</h3><br/><table class=\"wandb\"><tr><td>epoch</td><td>▁▂▃▃▄▅▆▆▇█</td></tr><tr><td>train/accuracy</td><td>▁▆▆▇▇▇▇███</td></tr><tr><td>train/batch_loss</td><td>█▇▆▆▅▂▄▃▄▂▂▂█▂▅▁▄▄▂▁▂▄▃▃▄▄▄▂▄▂▃▃▆▁▅▁▆▄▂▅</td></tr><tr><td>train/loss</td><td>█▃▃▃▃▂▂▁▁▁</td></tr></table><br/></div><div class=\"wandb-col\"><h3>Run summary:</h3><br/><table class=\"wandb\"><tr><td>epoch</td><td>10</td></tr><tr><td>test/accuracy</td><td>82.91284</td></tr><tr><td>test/loss</td><td>0.38059</td></tr><tr><td>train/accuracy</td><td>85.058</td></tr><tr><td>train/batch_loss</td><td>0.10022</td></tr><tr><td>train/loss</td><td>0.3463</td></tr></table><br/></div></div>"
      ],
      "text/plain": [
       "<IPython.core.display.HTML object>"
      ]
     },
     "metadata": {},
     "output_type": "display_data"
    },
    {
     "data": {
      "text/html": [
       " View run <strong style=\"color:#cdcd00\">dutiful-lake-90</strong> at: <a href='https://wandb.ai/patcao/LOO-test/runs/49gvabgw' target=\"_blank\">https://wandb.ai/patcao/LOO-test/runs/49gvabgw</a><br/>Synced 6 W&B file(s), 0 media file(s), 0 artifact file(s) and 0 other file(s)"
      ],
      "text/plain": [
       "<IPython.core.display.HTML object>"
      ]
     },
     "metadata": {},
     "output_type": "display_data"
    },
    {
     "data": {
      "text/html": [
       "Find logs at: <code>./wandb/run-20230502_164550-49gvabgw/logs</code>"
      ],
      "text/plain": [
       "<IPython.core.display.HTML object>"
      ]
     },
     "metadata": {},
     "output_type": "display_data"
    },
    {
     "name": "stderr",
     "output_type": "stream",
     "text": [
      "Some weights of the model checkpoint at distilbert-base-uncased were not used when initializing DistilBertModel: ['vocab_projector.weight', 'vocab_transform.weight', 'vocab_layer_norm.bias', 'vocab_projector.bias', 'vocab_layer_norm.weight', 'vocab_transform.bias']\n",
      "- This IS expected if you are initializing DistilBertModel from the checkpoint of a model trained on another task or with another architecture (e.g. initializing a BertForSequenceClassification model from a BertForPreTraining model).\n",
      "- This IS NOT expected if you are initializing DistilBertModel from the checkpoint of a model that you expect to be exactly identical (initializing a BertForSequenceClassification model from a BertForSequenceClassification model).\n"
     ]
    },
    {
     "data": {
      "text/html": [
       "wandb version 0.15.1 is available!  To upgrade, please run:\n",
       " $ pip install wandb --upgrade"
      ],
      "text/plain": [
       "<IPython.core.display.HTML object>"
      ]
     },
     "metadata": {},
     "output_type": "display_data"
    },
    {
     "data": {
      "text/html": [
       "Tracking run with wandb version 0.15.0"
      ],
      "text/plain": [
       "<IPython.core.display.HTML object>"
      ]
     },
     "metadata": {},
     "output_type": "display_data"
    },
    {
     "data": {
      "text/html": [
       "Run data is saved locally in <code>/home/pcao/sentiment-influence-function/wandb/run-20230502_164953-5hztffo6</code>"
      ],
      "text/plain": [
       "<IPython.core.display.HTML object>"
      ]
     },
     "metadata": {},
     "output_type": "display_data"
    },
    {
     "data": {
      "text/html": [
       "Syncing run <strong><a href='https://wandb.ai/patcao/LOO-test/runs/5hztffo6' target=\"_blank\">neat-sound-91</a></strong> to <a href='https://wandb.ai/patcao/LOO-test' target=\"_blank\">Weights & Biases</a> (<a href='https://wandb.me/run' target=\"_blank\">docs</a>)<br/>"
      ],
      "text/plain": [
       "<IPython.core.display.HTML object>"
      ]
     },
     "metadata": {},
     "output_type": "display_data"
    },
    {
     "data": {
      "text/html": [
       " View project at <a href='https://wandb.ai/patcao/LOO-test' target=\"_blank\">https://wandb.ai/patcao/LOO-test</a>"
      ],
      "text/plain": [
       "<IPython.core.display.HTML object>"
      ]
     },
     "metadata": {},
     "output_type": "display_data"
    },
    {
     "data": {
      "text/html": [
       " View run at <a href='https://wandb.ai/patcao/LOO-test/runs/5hztffo6' target=\"_blank\">https://wandb.ai/patcao/LOO-test/runs/5hztffo6</a>"
      ],
      "text/plain": [
       "<IPython.core.display.HTML object>"
      ]
     },
     "metadata": {},
     "output_type": "display_data"
    },
    {
     "name": "stderr",
     "output_type": "stream",
     "text": [
      "100%|██████████████████████████████████████████████████████████████████████████████████████████████████████████████████| 625/625 [00:22<00:00, 28.24batch/s]\n",
      "100%|██████████████████████████████████████████████████████████████████████████████████████████████████████████████████| 625/625 [00:22<00:00, 28.23batch/s]\n",
      "100%|██████████████████████████████████████████████████████████████████████████████████████████████████████████████████| 625/625 [00:22<00:00, 27.96batch/s]\n",
      "100%|██████████████████████████████████████████████████████████████████████████████████████████████████████████████████| 625/625 [00:23<00:00, 26.28batch/s]\n",
      "100%|██████████████████████████████████████████████████████████████████████████████████████████████████████████████████| 625/625 [00:23<00:00, 26.63batch/s]\n",
      "100%|██████████████████████████████████████████████████████████████████████████████████████████████████████████████████| 625/625 [00:23<00:00, 26.90batch/s]\n",
      "100%|██████████████████████████████████████████████████████████████████████████████████████████████████████████████████| 625/625 [00:24<00:00, 25.80batch/s]\n",
      "100%|██████████████████████████████████████████████████████████████████████████████████████████████████████████████████| 625/625 [00:23<00:00, 26.90batch/s]\n",
      "100%|██████████████████████████████████████████████████████████████████████████████████████████████████████████████████| 625/625 [00:23<00:00, 26.95batch/s]\n",
      "100%|██████████████████████████████████████████████████████████████████████████████████████████████████████████████████| 625/625 [00:23<00:00, 26.92batch/s]\n"
     ]
    },
    {
     "data": {
      "text/html": [
       "Waiting for W&B process to finish... <strong style=\"color:green\">(success).</strong>"
      ],
      "text/plain": [
       "<IPython.core.display.HTML object>"
      ]
     },
     "metadata": {},
     "output_type": "display_data"
    },
    {
     "data": {
      "application/vnd.jupyter.widget-view+json": {
       "model_id": "003421809bfc44ebbed7e1bdea7ba8b1",
       "version_major": 2,
       "version_minor": 0
      },
      "text/plain": [
       "VBox(children=(Label(value='0.003 MB of 0.003 MB uploaded (0.000 MB deduped)\\r'), FloatProgress(value=1.0, max…"
      ]
     },
     "metadata": {},
     "output_type": "display_data"
    },
    {
     "data": {
      "text/html": [
       "<style>\n",
       "    table.wandb td:nth-child(1) { padding: 0 10px; text-align: left ; width: auto;} td:nth-child(2) {text-align: left ; width: 100%}\n",
       "    .wandb-row { display: flex; flex-direction: row; flex-wrap: wrap; justify-content: flex-start; width: 100% }\n",
       "    .wandb-col { display: flex; flex-direction: column; flex-basis: 100%; flex: 1; padding: 10px; }\n",
       "    </style>\n",
       "<div class=\"wandb-row\"><div class=\"wandb-col\"><h3>Run history:</h3><br/><table class=\"wandb\"><tr><td>epoch</td><td>▁▂▃▃▄▅▆▆▇█</td></tr><tr><td>train/accuracy</td><td>▁▆▆▇▇▇▇███</td></tr><tr><td>train/batch_loss</td><td>█▇▆▆▅▂▄▃▄▂▂▂█▂▅▁▄▄▂▁▂▄▃▃▄▄▄▂▄▂▃▃▆▁▆▁▆▄▂▅</td></tr><tr><td>train/loss</td><td>█▃▃▃▃▂▂▁▁▁</td></tr></table><br/></div><div class=\"wandb-col\"><h3>Run summary:</h3><br/><table class=\"wandb\"><tr><td>epoch</td><td>10</td></tr><tr><td>test/accuracy</td><td>82.91284</td></tr><tr><td>test/loss</td><td>0.38077</td></tr><tr><td>train/accuracy</td><td>85.078</td></tr><tr><td>train/batch_loss</td><td>0.10031</td></tr><tr><td>train/loss</td><td>0.34636</td></tr></table><br/></div></div>"
      ],
      "text/plain": [
       "<IPython.core.display.HTML object>"
      ]
     },
     "metadata": {},
     "output_type": "display_data"
    },
    {
     "data": {
      "text/html": [
       " View run <strong style=\"color:#cdcd00\">neat-sound-91</strong> at: <a href='https://wandb.ai/patcao/LOO-test/runs/5hztffo6' target=\"_blank\">https://wandb.ai/patcao/LOO-test/runs/5hztffo6</a><br/>Synced 6 W&B file(s), 0 media file(s), 0 artifact file(s) and 0 other file(s)"
      ],
      "text/plain": [
       "<IPython.core.display.HTML object>"
      ]
     },
     "metadata": {},
     "output_type": "display_data"
    },
    {
     "data": {
      "text/html": [
       "Find logs at: <code>./wandb/run-20230502_164953-5hztffo6/logs</code>"
      ],
      "text/plain": [
       "<IPython.core.display.HTML object>"
      ]
     },
     "metadata": {},
     "output_type": "display_data"
    },
    {
     "name": "stderr",
     "output_type": "stream",
     "text": [
      "Some weights of the model checkpoint at distilbert-base-uncased were not used when initializing DistilBertModel: ['vocab_projector.weight', 'vocab_transform.weight', 'vocab_layer_norm.bias', 'vocab_projector.bias', 'vocab_layer_norm.weight', 'vocab_transform.bias']\n",
      "- This IS expected if you are initializing DistilBertModel from the checkpoint of a model trained on another task or with another architecture (e.g. initializing a BertForSequenceClassification model from a BertForPreTraining model).\n",
      "- This IS NOT expected if you are initializing DistilBertModel from the checkpoint of a model that you expect to be exactly identical (initializing a BertForSequenceClassification model from a BertForSequenceClassification model).\n"
     ]
    },
    {
     "data": {
      "text/html": [
       "wandb version 0.15.1 is available!  To upgrade, please run:\n",
       " $ pip install wandb --upgrade"
      ],
      "text/plain": [
       "<IPython.core.display.HTML object>"
      ]
     },
     "metadata": {},
     "output_type": "display_data"
    },
    {
     "data": {
      "text/html": [
       "Tracking run with wandb version 0.15.0"
      ],
      "text/plain": [
       "<IPython.core.display.HTML object>"
      ]
     },
     "metadata": {},
     "output_type": "display_data"
    },
    {
     "data": {
      "text/html": [
       "Run data is saved locally in <code>/home/pcao/sentiment-influence-function/wandb/run-20230502_165400-wplr6lh5</code>"
      ],
      "text/plain": [
       "<IPython.core.display.HTML object>"
      ]
     },
     "metadata": {},
     "output_type": "display_data"
    },
    {
     "data": {
      "text/html": [
       "Syncing run <strong><a href='https://wandb.ai/patcao/LOO-test/runs/wplr6lh5' target=\"_blank\">prime-serenity-92</a></strong> to <a href='https://wandb.ai/patcao/LOO-test' target=\"_blank\">Weights & Biases</a> (<a href='https://wandb.me/run' target=\"_blank\">docs</a>)<br/>"
      ],
      "text/plain": [
       "<IPython.core.display.HTML object>"
      ]
     },
     "metadata": {},
     "output_type": "display_data"
    },
    {
     "data": {
      "text/html": [
       " View project at <a href='https://wandb.ai/patcao/LOO-test' target=\"_blank\">https://wandb.ai/patcao/LOO-test</a>"
      ],
      "text/plain": [
       "<IPython.core.display.HTML object>"
      ]
     },
     "metadata": {},
     "output_type": "display_data"
    },
    {
     "data": {
      "text/html": [
       " View run at <a href='https://wandb.ai/patcao/LOO-test/runs/wplr6lh5' target=\"_blank\">https://wandb.ai/patcao/LOO-test/runs/wplr6lh5</a>"
      ],
      "text/plain": [
       "<IPython.core.display.HTML object>"
      ]
     },
     "metadata": {},
     "output_type": "display_data"
    },
    {
     "name": "stderr",
     "output_type": "stream",
     "text": [
      "100%|██████████████████████████████████████████████████████████████████████████████████████████████████████████████████| 625/625 [00:23<00:00, 26.89batch/s]\n",
      "100%|██████████████████████████████████████████████████████████████████████████████████████████████████████████████████| 625/625 [00:23<00:00, 26.68batch/s]\n",
      "100%|██████████████████████████████████████████████████████████████████████████████████████████████████████████████████| 625/625 [00:23<00:00, 27.04batch/s]\n",
      "100%|██████████████████████████████████████████████████████████████████████████████████████████████████████████████████| 625/625 [00:23<00:00, 27.13batch/s]\n",
      "100%|██████████████████████████████████████████████████████████████████████████████████████████████████████████████████| 625/625 [00:23<00:00, 26.62batch/s]\n",
      "100%|██████████████████████████████████████████████████████████████████████████████████████████████████████████████████| 625/625 [00:23<00:00, 26.85batch/s]\n",
      "100%|██████████████████████████████████████████████████████████████████████████████████████████████████████████████████| 625/625 [00:23<00:00, 27.06batch/s]\n",
      "100%|██████████████████████████████████████████████████████████████████████████████████████████████████████████████████| 625/625 [00:23<00:00, 26.87batch/s]\n",
      "100%|██████████████████████████████████████████████████████████████████████████████████████████████████████████████████| 625/625 [00:23<00:00, 26.85batch/s]\n",
      "100%|██████████████████████████████████████████████████████████████████████████████████████████████████████████████████| 625/625 [00:23<00:00, 26.93batch/s]\n"
     ]
    },
    {
     "data": {
      "text/html": [
       "Waiting for W&B process to finish... <strong style=\"color:green\">(success).</strong>"
      ],
      "text/plain": [
       "<IPython.core.display.HTML object>"
      ]
     },
     "metadata": {},
     "output_type": "display_data"
    },
    {
     "data": {
      "application/vnd.jupyter.widget-view+json": {
       "model_id": "03f89fe4b8624e66998a9b966f5b9ff1",
       "version_major": 2,
       "version_minor": 0
      },
      "text/plain": [
       "VBox(children=(Label(value='0.003 MB of 0.003 MB uploaded (0.000 MB deduped)\\r'), FloatProgress(value=1.0, max…"
      ]
     },
     "metadata": {},
     "output_type": "display_data"
    },
    {
     "data": {
      "text/html": [
       "<style>\n",
       "    table.wandb td:nth-child(1) { padding: 0 10px; text-align: left ; width: auto;} td:nth-child(2) {text-align: left ; width: 100%}\n",
       "    .wandb-row { display: flex; flex-direction: row; flex-wrap: wrap; justify-content: flex-start; width: 100% }\n",
       "    .wandb-col { display: flex; flex-direction: column; flex-basis: 100%; flex: 1; padding: 10px; }\n",
       "    </style>\n",
       "<div class=\"wandb-row\"><div class=\"wandb-col\"><h3>Run history:</h3><br/><table class=\"wandb\"><tr><td>epoch</td><td>▁▂▃▃▄▅▆▆▇█</td></tr><tr><td>train/accuracy</td><td>▁▆▆▇▇▇▇███</td></tr><tr><td>train/batch_loss</td><td>█▇▆▆▅▂▄▃▄▂▂▂█▂▅▁▄▄▂▁▂▄▃▃▄▄▄▂▄▂▃▃▆▁▆▁▆▄▂▅</td></tr><tr><td>train/loss</td><td>█▃▃▃▃▂▂▁▁▁</td></tr></table><br/></div><div class=\"wandb-col\"><h3>Run summary:</h3><br/><table class=\"wandb\"><tr><td>epoch</td><td>10</td></tr><tr><td>test/accuracy</td><td>82.91284</td></tr><tr><td>test/loss</td><td>0.38078</td></tr><tr><td>train/accuracy</td><td>85.088</td></tr><tr><td>train/batch_loss</td><td>0.10033</td></tr><tr><td>train/loss</td><td>0.34636</td></tr></table><br/></div></div>"
      ],
      "text/plain": [
       "<IPython.core.display.HTML object>"
      ]
     },
     "metadata": {},
     "output_type": "display_data"
    },
    {
     "data": {
      "text/html": [
       " View run <strong style=\"color:#cdcd00\">prime-serenity-92</strong> at: <a href='https://wandb.ai/patcao/LOO-test/runs/wplr6lh5' target=\"_blank\">https://wandb.ai/patcao/LOO-test/runs/wplr6lh5</a><br/>Synced 6 W&B file(s), 0 media file(s), 0 artifact file(s) and 0 other file(s)"
      ],
      "text/plain": [
       "<IPython.core.display.HTML object>"
      ]
     },
     "metadata": {},
     "output_type": "display_data"
    },
    {
     "data": {
      "text/html": [
       "Find logs at: <code>./wandb/run-20230502_165400-wplr6lh5/logs</code>"
      ],
      "text/plain": [
       "<IPython.core.display.HTML object>"
      ]
     },
     "metadata": {},
     "output_type": "display_data"
    },
    {
     "name": "stderr",
     "output_type": "stream",
     "text": [
      "Some weights of the model checkpoint at distilbert-base-uncased were not used when initializing DistilBertModel: ['vocab_projector.weight', 'vocab_transform.weight', 'vocab_layer_norm.bias', 'vocab_projector.bias', 'vocab_layer_norm.weight', 'vocab_transform.bias']\n",
      "- This IS expected if you are initializing DistilBertModel from the checkpoint of a model trained on another task or with another architecture (e.g. initializing a BertForSequenceClassification model from a BertForPreTraining model).\n",
      "- This IS NOT expected if you are initializing DistilBertModel from the checkpoint of a model that you expect to be exactly identical (initializing a BertForSequenceClassification model from a BertForSequenceClassification model).\n"
     ]
    },
    {
     "data": {
      "text/html": [
       "wandb version 0.15.1 is available!  To upgrade, please run:\n",
       " $ pip install wandb --upgrade"
      ],
      "text/plain": [
       "<IPython.core.display.HTML object>"
      ]
     },
     "metadata": {},
     "output_type": "display_data"
    },
    {
     "data": {
      "text/html": [
       "Tracking run with wandb version 0.15.0"
      ],
      "text/plain": [
       "<IPython.core.display.HTML object>"
      ]
     },
     "metadata": {},
     "output_type": "display_data"
    },
    {
     "data": {
      "text/html": [
       "Run data is saved locally in <code>/home/pcao/sentiment-influence-function/wandb/run-20230502_165808-ooyqdsmi</code>"
      ],
      "text/plain": [
       "<IPython.core.display.HTML object>"
      ]
     },
     "metadata": {},
     "output_type": "display_data"
    },
    {
     "data": {
      "text/html": [
       "Syncing run <strong><a href='https://wandb.ai/patcao/LOO-test/runs/ooyqdsmi' target=\"_blank\">fragrant-water-93</a></strong> to <a href='https://wandb.ai/patcao/LOO-test' target=\"_blank\">Weights & Biases</a> (<a href='https://wandb.me/run' target=\"_blank\">docs</a>)<br/>"
      ],
      "text/plain": [
       "<IPython.core.display.HTML object>"
      ]
     },
     "metadata": {},
     "output_type": "display_data"
    },
    {
     "data": {
      "text/html": [
       " View project at <a href='https://wandb.ai/patcao/LOO-test' target=\"_blank\">https://wandb.ai/patcao/LOO-test</a>"
      ],
      "text/plain": [
       "<IPython.core.display.HTML object>"
      ]
     },
     "metadata": {},
     "output_type": "display_data"
    },
    {
     "data": {
      "text/html": [
       " View run at <a href='https://wandb.ai/patcao/LOO-test/runs/ooyqdsmi' target=\"_blank\">https://wandb.ai/patcao/LOO-test/runs/ooyqdsmi</a>"
      ],
      "text/plain": [
       "<IPython.core.display.HTML object>"
      ]
     },
     "metadata": {},
     "output_type": "display_data"
    },
    {
     "name": "stderr",
     "output_type": "stream",
     "text": [
      "100%|██████████████████████████████████████████████████████████████████████████████████████████████████████████████████| 625/625 [00:23<00:00, 26.84batch/s]\n",
      "100%|██████████████████████████████████████████████████████████████████████████████████████████████████████████████████| 625/625 [00:23<00:00, 26.61batch/s]\n",
      "100%|██████████████████████████████████████████████████████████████████████████████████████████████████████████████████| 625/625 [00:23<00:00, 26.79batch/s]\n",
      "100%|██████████████████████████████████████████████████████████████████████████████████████████████████████████████████| 625/625 [00:23<00:00, 26.97batch/s]\n",
      "100%|██████████████████████████████████████████████████████████████████████████████████████████████████████████████████| 625/625 [00:24<00:00, 25.99batch/s]\n",
      "100%|██████████████████████████████████████████████████████████████████████████████████████████████████████████████████| 625/625 [00:23<00:00, 26.65batch/s]\n",
      "100%|██████████████████████████████████████████████████████████████████████████████████████████████████████████████████| 625/625 [00:23<00:00, 26.89batch/s]\n",
      "100%|██████████████████████████████████████████████████████████████████████████████████████████████████████████████████| 625/625 [00:23<00:00, 26.78batch/s]\n",
      "100%|██████████████████████████████████████████████████████████████████████████████████████████████████████████████████| 625/625 [00:23<00:00, 26.12batch/s]\n",
      "100%|██████████████████████████████████████████████████████████████████████████████████████████████████████████████████| 625/625 [00:23<00:00, 26.46batch/s]\n"
     ]
    },
    {
     "data": {
      "text/html": [
       "Waiting for W&B process to finish... <strong style=\"color:green\">(success).</strong>"
      ],
      "text/plain": [
       "<IPython.core.display.HTML object>"
      ]
     },
     "metadata": {},
     "output_type": "display_data"
    },
    {
     "data": {
      "application/vnd.jupyter.widget-view+json": {
       "model_id": "d3a993a5552a4c81abf7085fcdfc67dc",
       "version_major": 2,
       "version_minor": 0
      },
      "text/plain": [
       "VBox(children=(Label(value='0.003 MB of 0.003 MB uploaded (0.000 MB deduped)\\r'), FloatProgress(value=1.0, max…"
      ]
     },
     "metadata": {},
     "output_type": "display_data"
    },
    {
     "data": {
      "text/html": [
       "<style>\n",
       "    table.wandb td:nth-child(1) { padding: 0 10px; text-align: left ; width: auto;} td:nth-child(2) {text-align: left ; width: 100%}\n",
       "    .wandb-row { display: flex; flex-direction: row; flex-wrap: wrap; justify-content: flex-start; width: 100% }\n",
       "    .wandb-col { display: flex; flex-direction: column; flex-basis: 100%; flex: 1; padding: 10px; }\n",
       "    </style>\n",
       "<div class=\"wandb-row\"><div class=\"wandb-col\"><h3>Run history:</h3><br/><table class=\"wandb\"><tr><td>epoch</td><td>▁▂▃▃▄▅▆▆▇█</td></tr><tr><td>train/accuracy</td><td>▁▆▆▇▇▇▇███</td></tr><tr><td>train/batch_loss</td><td>█▇▆▆▅▂▄▃▄▂▂▂█▂▅▁▄▄▂▁▂▄▃▃▃▄▄▂▄▂▃▃▆▁▅▁▆▄▂▅</td></tr><tr><td>train/loss</td><td>█▃▃▃▃▂▂▁▁▁</td></tr></table><br/></div><div class=\"wandb-col\"><h3>Run summary:</h3><br/><table class=\"wandb\"><tr><td>epoch</td><td>10</td></tr><tr><td>test/accuracy</td><td>82.91284</td></tr><tr><td>test/loss</td><td>0.38062</td></tr><tr><td>train/accuracy</td><td>85.088</td></tr><tr><td>train/batch_loss</td><td>0.10008</td></tr><tr><td>train/loss</td><td>0.3461</td></tr></table><br/></div></div>"
      ],
      "text/plain": [
       "<IPython.core.display.HTML object>"
      ]
     },
     "metadata": {},
     "output_type": "display_data"
    },
    {
     "data": {
      "text/html": [
       " View run <strong style=\"color:#cdcd00\">fragrant-water-93</strong> at: <a href='https://wandb.ai/patcao/LOO-test/runs/ooyqdsmi' target=\"_blank\">https://wandb.ai/patcao/LOO-test/runs/ooyqdsmi</a><br/>Synced 6 W&B file(s), 0 media file(s), 0 artifact file(s) and 0 other file(s)"
      ],
      "text/plain": [
       "<IPython.core.display.HTML object>"
      ]
     },
     "metadata": {},
     "output_type": "display_data"
    },
    {
     "data": {
      "text/html": [
       "Find logs at: <code>./wandb/run-20230502_165808-ooyqdsmi/logs</code>"
      ],
      "text/plain": [
       "<IPython.core.display.HTML object>"
      ]
     },
     "metadata": {},
     "output_type": "display_data"
    },
    {
     "name": "stderr",
     "output_type": "stream",
     "text": [
      "Some weights of the model checkpoint at distilbert-base-uncased were not used when initializing DistilBertModel: ['vocab_projector.weight', 'vocab_transform.weight', 'vocab_layer_norm.bias', 'vocab_projector.bias', 'vocab_layer_norm.weight', 'vocab_transform.bias']\n",
      "- This IS expected if you are initializing DistilBertModel from the checkpoint of a model trained on another task or with another architecture (e.g. initializing a BertForSequenceClassification model from a BertForPreTraining model).\n",
      "- This IS NOT expected if you are initializing DistilBertModel from the checkpoint of a model that you expect to be exactly identical (initializing a BertForSequenceClassification model from a BertForSequenceClassification model).\n"
     ]
    },
    {
     "data": {
      "text/html": [
       "wandb version 0.15.1 is available!  To upgrade, please run:\n",
       " $ pip install wandb --upgrade"
      ],
      "text/plain": [
       "<IPython.core.display.HTML object>"
      ]
     },
     "metadata": {},
     "output_type": "display_data"
    },
    {
     "data": {
      "text/html": [
       "Tracking run with wandb version 0.15.0"
      ],
      "text/plain": [
       "<IPython.core.display.HTML object>"
      ]
     },
     "metadata": {},
     "output_type": "display_data"
    },
    {
     "data": {
      "text/html": [
       "Run data is saved locally in <code>/home/pcao/sentiment-influence-function/wandb/run-20230502_170218-8demz5g5</code>"
      ],
      "text/plain": [
       "<IPython.core.display.HTML object>"
      ]
     },
     "metadata": {},
     "output_type": "display_data"
    },
    {
     "data": {
      "text/html": [
       "Syncing run <strong><a href='https://wandb.ai/patcao/LOO-test/runs/8demz5g5' target=\"_blank\">misunderstood-energy-94</a></strong> to <a href='https://wandb.ai/patcao/LOO-test' target=\"_blank\">Weights & Biases</a> (<a href='https://wandb.me/run' target=\"_blank\">docs</a>)<br/>"
      ],
      "text/plain": [
       "<IPython.core.display.HTML object>"
      ]
     },
     "metadata": {},
     "output_type": "display_data"
    },
    {
     "data": {
      "text/html": [
       " View project at <a href='https://wandb.ai/patcao/LOO-test' target=\"_blank\">https://wandb.ai/patcao/LOO-test</a>"
      ],
      "text/plain": [
       "<IPython.core.display.HTML object>"
      ]
     },
     "metadata": {},
     "output_type": "display_data"
    },
    {
     "data": {
      "text/html": [
       " View run at <a href='https://wandb.ai/patcao/LOO-test/runs/8demz5g5' target=\"_blank\">https://wandb.ai/patcao/LOO-test/runs/8demz5g5</a>"
      ],
      "text/plain": [
       "<IPython.core.display.HTML object>"
      ]
     },
     "metadata": {},
     "output_type": "display_data"
    },
    {
     "name": "stderr",
     "output_type": "stream",
     "text": [
      "100%|██████████████████████████████████████████████████████████████████████████████████████████████████████████████████| 625/625 [00:23<00:00, 27.05batch/s]\n",
      "100%|██████████████████████████████████████████████████████████████████████████████████████████████████████████████████| 625/625 [00:23<00:00, 26.56batch/s]\n",
      "100%|██████████████████████████████████████████████████████████████████████████████████████████████████████████████████| 625/625 [00:23<00:00, 26.98batch/s]\n",
      "100%|██████████████████████████████████████████████████████████████████████████████████████████████████████████████████| 625/625 [00:23<00:00, 26.19batch/s]\n",
      "100%|██████████████████████████████████████████████████████████████████████████████████████████████████████████████████| 625/625 [00:23<00:00, 26.53batch/s]\n",
      "100%|██████████████████████████████████████████████████████████████████████████████████████████████████████████████████| 625/625 [00:23<00:00, 26.89batch/s]\n",
      "100%|██████████████████████████████████████████████████████████████████████████████████████████████████████████████████| 625/625 [00:23<00:00, 27.17batch/s]\n",
      "100%|██████████████████████████████████████████████████████████████████████████████████████████████████████████████████| 625/625 [00:22<00:00, 27.23batch/s]\n",
      "100%|██████████████████████████████████████████████████████████████████████████████████████████████████████████████████| 625/625 [00:22<00:00, 27.28batch/s]\n",
      "100%|██████████████████████████████████████████████████████████████████████████████████████████████████████████████████| 625/625 [00:23<00:00, 27.15batch/s]\n"
     ]
    },
    {
     "data": {
      "text/html": [
       "Waiting for W&B process to finish... <strong style=\"color:green\">(success).</strong>"
      ],
      "text/plain": [
       "<IPython.core.display.HTML object>"
      ]
     },
     "metadata": {},
     "output_type": "display_data"
    },
    {
     "data": {
      "application/vnd.jupyter.widget-view+json": {
       "model_id": "0209bd0df3ef4c17af109782bcdeb7d0",
       "version_major": 2,
       "version_minor": 0
      },
      "text/plain": [
       "VBox(children=(Label(value='0.003 MB of 0.003 MB uploaded (0.000 MB deduped)\\r'), FloatProgress(value=1.0, max…"
      ]
     },
     "metadata": {},
     "output_type": "display_data"
    },
    {
     "data": {
      "text/html": [
       "<style>\n",
       "    table.wandb td:nth-child(1) { padding: 0 10px; text-align: left ; width: auto;} td:nth-child(2) {text-align: left ; width: 100%}\n",
       "    .wandb-row { display: flex; flex-direction: row; flex-wrap: wrap; justify-content: flex-start; width: 100% }\n",
       "    .wandb-col { display: flex; flex-direction: column; flex-basis: 100%; flex: 1; padding: 10px; }\n",
       "    </style>\n",
       "<div class=\"wandb-row\"><div class=\"wandb-col\"><h3>Run history:</h3><br/><table class=\"wandb\"><tr><td>epoch</td><td>▁▂▃▃▄▅▆▆▇█</td></tr><tr><td>train/accuracy</td><td>▁▆▆▇▇▇▇███</td></tr><tr><td>train/batch_loss</td><td>█▇▆▆▅▂▄▃▄▂▂▂█▂▅▁▄▄▂▁▂▄▃▃▄▄▄▂▄▂▃▃▆▁▆▁▆▄▂▅</td></tr><tr><td>train/loss</td><td>█▃▃▃▃▂▂▁▁▁</td></tr></table><br/></div><div class=\"wandb-col\"><h3>Run summary:</h3><br/><table class=\"wandb\"><tr><td>epoch</td><td>10</td></tr><tr><td>test/accuracy</td><td>82.91284</td></tr><tr><td>test/loss</td><td>0.38092</td></tr><tr><td>train/accuracy</td><td>85.068</td></tr><tr><td>train/batch_loss</td><td>0.10075</td></tr><tr><td>train/loss</td><td>0.34618</td></tr></table><br/></div></div>"
      ],
      "text/plain": [
       "<IPython.core.display.HTML object>"
      ]
     },
     "metadata": {},
     "output_type": "display_data"
    },
    {
     "data": {
      "text/html": [
       " View run <strong style=\"color:#cdcd00\">misunderstood-energy-94</strong> at: <a href='https://wandb.ai/patcao/LOO-test/runs/8demz5g5' target=\"_blank\">https://wandb.ai/patcao/LOO-test/runs/8demz5g5</a><br/>Synced 6 W&B file(s), 0 media file(s), 0 artifact file(s) and 0 other file(s)"
      ],
      "text/plain": [
       "<IPython.core.display.HTML object>"
      ]
     },
     "metadata": {},
     "output_type": "display_data"
    },
    {
     "data": {
      "text/html": [
       "Find logs at: <code>./wandb/run-20230502_170218-8demz5g5/logs</code>"
      ],
      "text/plain": [
       "<IPython.core.display.HTML object>"
      ]
     },
     "metadata": {},
     "output_type": "display_data"
    },
    {
     "name": "stdout",
     "output_type": "stream",
     "text": [
      "CPU times: user 19min 2s, sys: 12.7 s, total: 19min 14s\n",
      "Wall time: 20min 36s\n"
     ]
    }
   ],
   "source": [
    "%%time\n",
    "from torch.utils.data import Dataset, TensorDataset\n",
    "\n",
    "loss_fn = torch.nn.CrossEntropyLoss()\n",
    "loo_dfs = []\n",
    "\n",
    "for loo_guid in range(0, 5):\n",
    "    loo_dataset = create_loo_dataset(train_dataset, loo_guid)\n",
    "    loo_train_dataloader = DataLoader(\n",
    "        loo_dataset, batch_size=config[\"batch_size\"], shuffle=True\n",
    "    )\n",
    "\n",
    "    # Create classifcation model\n",
    "    loo_model = BertClassifier.create_bert_classifier(\n",
    "        config[\"bert_model_name\"],\n",
    "        classifier_type=config[\"classifier_type\"],\n",
    "        classifier_hidden_size=config[\"classifier_hidden_size\"],\n",
    "        classifier_drop_out=config[\"classifier_drop_out\"],\n",
    "        freeze_bert=True,\n",
    "        random_state=42,\n",
    "    )\n",
    "\n",
    "    optimizer = Adam(loo_model.classifier.parameters(), lr=config[\"learning_rate\"])\n",
    "    run = wandb.init(project=\"LOO-test\", tags=[\"full\"], config=config)\n",
    "\n",
    "    timings = utils.train(\n",
    "        config=config,\n",
    "        model=loo_model,\n",
    "        optimizer=optimizer,\n",
    "        loss_fn=loss_fn,\n",
    "        train_dataloader=loo_train_dataloader,\n",
    "        val_dataloader=None,\n",
    "    )\n",
    "\n",
    "    # Compute loss for each test point\n",
    "    df, test_loss, test_acc = utils.evaluate_loss_df(loo_model, test_dataloader)\n",
    "    df[\"loo_guid\"] = loo_guid\n",
    "    loo_dfs.append(df)\n",
    "\n",
    "    wandb.summary[\"test/loss\"] = test_loss\n",
    "    wandb.summary[\"test/accuracy\"] = test_acc\n",
    "    wandb.finish()"
   ]
  },
  {
   "cell_type": "markdown",
   "id": "19cca28c-b19d-4cde-893d-887da842bc28",
   "metadata": {
    "jp-MarkdownHeadingCollapsed": true,
    "tags": []
   },
   "source": [
    "## Compute Loss Influence"
   ]
  },
  {
   "cell_type": "code",
   "execution_count": 172,
   "id": "ca428991-0d45-4a12-ba67-0c23e47397cf",
   "metadata": {
    "execution": {
     "iopub.execute_input": "2023-05-02T21:06:26.651533Z",
     "iopub.status.busy": "2023-05-02T21:06:26.651349Z",
     "iopub.status.idle": "2023-05-02T21:09:08.570843Z",
     "shell.execute_reply": "2023-05-02T21:09:08.570139Z",
     "shell.execute_reply.started": "2023-05-02T21:06:26.651518Z"
    },
    "tags": []
   },
   "outputs": [
    {
     "name": "stdout",
     "output_type": "stream",
     "text": [
      "LiSSA reps: 1 and num_iterations: 2500\n",
      "Recursion at depth 0: norm is 5.997543\n",
      "Recursion at depth 200: norm is 100.309464\n",
      "Recursion at depth 400: norm is 132.143036\n",
      "Recursion at depth 600: norm is 143.141006\n",
      "Recursion at depth 800: norm is 147.662994\n",
      "Recursion at depth 1000: norm is 148.352600\n",
      "Recursion at depth 1200: norm is 148.784302\n",
      "Recursion at depth 1400: norm is 149.818939\n",
      "Recursion at depth 1600: norm is 148.976807\n",
      "Recursion at depth 1800: norm is 149.960175\n",
      "Recursion at depth 2000: norm is 149.547577\n",
      "Recursion at depth 2200: norm is 150.168030\n",
      "Recursion at depth 2400: norm is 149.483978\n",
      "Recursion at depth 2499: norm is 148.560623\n"
     ]
    },
    {
     "name": "stderr",
     "output_type": "stream",
     "text": [
      "100%|████████████████████████████████████████████████████████████████████████████████████████████████████████████████| 10000/10000 [01:17<00:00, 129.83it/s]\n"
     ]
    }
   ],
   "source": [
    "import src.influence as inf_utils\n",
    "\n",
    "test_guid = 560\n",
    "param_infl = list(full_model.classifier.parameters())\n",
    "infl = inf_utils.compute_influence(\n",
    "    full_model=full_model,\n",
    "    test_guid=test_guid,\n",
    "    param_influence=param_infl,\n",
    "    train_dataset=train_dataset,\n",
    "    test_dataset=test_dataset,\n",
    "    lissa_r=1,\n",
    "    lissa_depth=0.25,\n",
    "    damping=5e-3,\n",
    "    scale=100,\n",
    "    # training_indices=list(range(15)),\n",
    ")"
   ]
  },
  {
   "cell_type": "markdown",
   "id": "a00b71ea-f9bd-4aef-be51-cce0f410c0ad",
   "metadata": {
    "jp-MarkdownHeadingCollapsed": true,
    "tags": []
   },
   "source": [
    "## Compare IF and LOO"
   ]
  },
  {
   "cell_type": "code",
   "execution_count": 179,
   "id": "b647b3dc-da4a-4851-930a-c89e7557994e",
   "metadata": {
    "execution": {
     "iopub.execute_input": "2023-05-02T21:12:22.736832Z",
     "iopub.status.busy": "2023-05-02T21:12:22.736345Z",
     "iopub.status.idle": "2023-05-02T21:12:22.764565Z",
     "shell.execute_reply": "2023-05-02T21:12:22.763855Z",
     "shell.execute_reply.started": "2023-05-02T21:12:22.736816Z"
    },
    "tags": []
   },
   "outputs": [
    {
     "data": {
      "text/plain": [
       "0.23130053281784058"
      ]
     },
     "execution_count": 179,
     "metadata": {},
     "output_type": "execute_result"
    }
   ],
   "source": [
    "fdf[fdf.test_guid == test_guid].loss.squeeze()"
   ]
  },
  {
   "cell_type": "code",
   "execution_count": 1,
   "id": "760bd9e0-64e7-4834-9ab0-fb841e0f3376",
   "metadata": {
    "execution": {
     "iopub.execute_input": "2023-05-03T03:44:37.777866Z",
     "iopub.status.busy": "2023-05-03T03:44:37.777630Z",
     "iopub.status.idle": "2023-05-03T03:44:37.929850Z",
     "shell.execute_reply": "2023-05-03T03:44:37.929017Z",
     "shell.execute_reply.started": "2023-05-03T03:44:37.777848Z"
    },
    "tags": []
   },
   "outputs": [
    {
     "ename": "NameError",
     "evalue": "name 'pd' is not defined",
     "output_type": "error",
     "traceback": [
      "\u001b[0;31m---------------------------------------------------------------------------\u001b[0m",
      "\u001b[0;31mNameError\u001b[0m                                 Traceback (most recent call last)",
      "Cell \u001b[0;32mIn[1], line 3\u001b[0m\n\u001b[1;32m      1\u001b[0m \u001b[38;5;66;03m# Load Losses from File\u001b[39;00m\n\u001b[1;32m      2\u001b[0m \u001b[38;5;66;03m# ldf = pd.read_csv(\"loo_10k/all_loo_losses.csv\")\u001b[39;00m\n\u001b[0;32m----> 3\u001b[0m ldf \u001b[38;5;241m=\u001b[39m \u001b[43mpd\u001b[49m\u001b[38;5;241m.\u001b[39mconcat(loo_dfs, axis\u001b[38;5;241m=\u001b[39m\u001b[38;5;241m0\u001b[39m)\n\u001b[1;32m      5\u001b[0m ldf \u001b[38;5;241m=\u001b[39m ldf[ldf\u001b[38;5;241m.\u001b[39mtest_guid \u001b[38;5;241m==\u001b[39m test_guid]\n\u001b[1;32m      6\u001b[0m ldf[\u001b[38;5;124m\"\u001b[39m\u001b[38;5;124mloss_diff\u001b[39m\u001b[38;5;124m\"\u001b[39m] \u001b[38;5;241m=\u001b[39m ldf[\u001b[38;5;124m\"\u001b[39m\u001b[38;5;124mloss\u001b[39m\u001b[38;5;124m\"\u001b[39m] \u001b[38;5;241m-\u001b[39m fdf[fdf\u001b[38;5;241m.\u001b[39mtest_guid \u001b[38;5;241m==\u001b[39m test_guid]\u001b[38;5;241m.\u001b[39mloss\u001b[38;5;241m.\u001b[39msqueeze()\n",
      "\u001b[0;31mNameError\u001b[0m: name 'pd' is not defined"
     ]
    }
   ],
   "source": [
    "# Load Losses from File\n",
    "# ldf = pd.read_csv(\"loo_10k/all_loo_losses.csv\")\n",
    "ldf = pd.concat(loo_dfs, axis=0)\n",
    "\n",
    "ldf = ldf[ldf.test_guid == test_guid]\n",
    "ldf[\"loss_diff\"] = ldf[\"loss\"] - fdf[fdf.test_guid == test_guid].loss.squeeze()\n",
    "ldf[\"if_diff\"] = (-100.0 / len(train_dataset)) * infl[: len(ldf)]\n",
    "ldf[\"if_diff2\"] = (-1000.0 / len(train_dataset)) * influences[: len(ldf)]\n",
    "ldf"
   ]
  },
  {
   "cell_type": "code",
   "execution_count": 185,
   "id": "e7846573-d160-4d5a-a687-f6092d322b80",
   "metadata": {
    "execution": {
     "iopub.execute_input": "2023-05-02T21:32:50.302913Z",
     "iopub.status.busy": "2023-05-02T21:32:50.302669Z",
     "iopub.status.idle": "2023-05-02T21:32:50.335918Z",
     "shell.execute_reply": "2023-05-02T21:32:50.335280Z",
     "shell.execute_reply.started": "2023-05-02T21:32:50.302897Z"
    },
    "tags": []
   },
   "outputs": [
    {
     "name": "stdout",
     "output_type": "stream",
     "text": [
      "           loss_diff   if_diff  if_diff2\n",
      "loss_diff   1.000000 -0.190201 -0.323901\n",
      "if_diff    -0.190201  1.000000  0.952443\n",
      "if_diff2   -0.323901  0.952443  1.000000\n"
     ]
    },
    {
     "data": {
      "text/html": [
       "<div>\n",
       "<style scoped>\n",
       "    .dataframe tbody tr th:only-of-type {\n",
       "        vertical-align: middle;\n",
       "    }\n",
       "\n",
       "    .dataframe tbody tr th {\n",
       "        vertical-align: top;\n",
       "    }\n",
       "\n",
       "    .dataframe thead th {\n",
       "        text-align: right;\n",
       "    }\n",
       "</style>\n",
       "<table border=\"1\" class=\"dataframe\">\n",
       "  <thead>\n",
       "    <tr style=\"text-align: right;\">\n",
       "      <th></th>\n",
       "      <th>loss_diff</th>\n",
       "      <th>if_diff</th>\n",
       "    </tr>\n",
       "  </thead>\n",
       "  <tbody>\n",
       "    <tr>\n",
       "      <th>560</th>\n",
       "      <td>0.030185</td>\n",
       "      <td>-0.007012</td>\n",
       "    </tr>\n",
       "    <tr>\n",
       "      <th>560</th>\n",
       "      <td>0.030401</td>\n",
       "      <td>-0.000333</td>\n",
       "    </tr>\n",
       "    <tr>\n",
       "      <th>560</th>\n",
       "      <td>0.030469</td>\n",
       "      <td>0.000012</td>\n",
       "    </tr>\n",
       "    <tr>\n",
       "      <th>560</th>\n",
       "      <td>0.032457</td>\n",
       "      <td>-0.008813</td>\n",
       "    </tr>\n",
       "    <tr>\n",
       "      <th>560</th>\n",
       "      <td>0.032968</td>\n",
       "      <td>-0.001175</td>\n",
       "    </tr>\n",
       "  </tbody>\n",
       "</table>\n",
       "</div>"
      ],
      "text/plain": [
       "     loss_diff   if_diff\n",
       "560   0.030185 -0.007012\n",
       "560   0.030401 -0.000333\n",
       "560   0.030469  0.000012\n",
       "560   0.032457 -0.008813\n",
       "560   0.032968 -0.001175"
      ]
     },
     "execution_count": 185,
     "metadata": {},
     "output_type": "execute_result"
    }
   ],
   "source": [
    "print(ldf[[\"loss_diff\", \"if_diff\", \"if_diff2\"]].corr())\n",
    "ldf[[\"loss_diff\", \"if_diff\"]]"
   ]
  },
  {
   "cell_type": "code",
   "execution_count": 186,
   "id": "3eab7de8-a6c1-4f48-8c8e-50c5b4c8a94d",
   "metadata": {
    "execution": {
     "iopub.execute_input": "2023-05-02T21:32:51.548006Z",
     "iopub.status.busy": "2023-05-02T21:32:51.547777Z",
     "iopub.status.idle": "2023-05-02T21:32:51.692734Z",
     "shell.execute_reply": "2023-05-02T21:32:51.692017Z",
     "shell.execute_reply.started": "2023-05-02T21:32:51.547991Z"
    },
    "tags": []
   },
   "outputs": [
    {
     "data": {
      "text/plain": [
       "<Axes: xlabel='loss_diff', ylabel='if_diff'>"
      ]
     },
     "execution_count": 186,
     "metadata": {},
     "output_type": "execute_result"
    },
    {
     "data": {
      "image/png": "[encoded data removed]",
      "text/plain": [
       "<Figure size 640x480 with 1 Axes>"
      ]
     },
     "metadata": {},
     "output_type": "display_data"
    }
   ],
   "source": [
    "ldf[[\"loss_diff\", \"if_diff\"]].plot.scatter(\"loss_diff\", \"if_diff\")"
   ]
  },
  {
   "cell_type": "markdown",
   "id": "0877c066-c33c-49e0-a1d5-3a6ebafd72f8",
   "metadata": {
    "jp-MarkdownHeadingCollapsed": true,
    "tags": []
   },
   "source": [
    "## Torch Influence"
   ]
  },
  {
   "cell_type": "code",
   "execution_count": 174,
   "id": "d524668e-4893-4920-ac8a-2a8fab64742a",
   "metadata": {
    "execution": {
     "iopub.execute_input": "2023-05-02T21:09:08.597907Z",
     "iopub.status.busy": "2023-05-02T21:09:08.597229Z",
     "iopub.status.idle": "2023-05-02T21:10:10.704418Z",
     "shell.execute_reply": "2023-05-02T21:10:10.703679Z",
     "shell.execute_reply.started": "2023-05-02T21:09:08.597871Z"
    },
    "tags": []
   },
   "outputs": [
    {
     "name": "stderr",
     "output_type": "stream",
     "text": [
      "Some weights of the model checkpoint at distilbert-base-uncased were not used when initializing DistilBertModel: ['vocab_projector.weight', 'vocab_transform.weight', 'vocab_layer_norm.bias', 'vocab_projector.bias', 'vocab_layer_norm.weight', 'vocab_transform.bias']\n",
      "- This IS expected if you are initializing DistilBertModel from the checkpoint of a model trained on another task or with another architecture (e.g. initializing a BertForSequenceClassification model from a BertForPreTraining model).\n",
      "- This IS NOT expected if you are initializing DistilBertModel from the checkpoint of a model that you expect to be exactly identical (initializing a BertForSequenceClassification model from a BertForSequenceClassification model).\n"
     ]
    }
   ],
   "source": [
    "import copy\n",
    "\n",
    "from src.torch_influence import BaseObjective\n",
    "from src.torch_influence.modules import CGInfluenceModule, LiSSAInfluenceModule\n",
    "\n",
    "\n",
    "class BinClassObjective(BaseObjective):\n",
    "    def train_outputs(self, model, batch):\n",
    "        b_guids, b_input_ids, b_attn_mask, b_labels = (t.to(device) for t in batch)\n",
    "        return model(b_input_ids, b_attn_mask)\n",
    "\n",
    "    def train_loss_on_outputs(self, outputs, batch):\n",
    "        b_guids, b_input_ids, b_attn_mask, b_labels = (t.to(device) for t in batch)\n",
    "        loss_fn = torch.nn.CrossEntropyLoss()\n",
    "        return loss_fn(outputs, b_labels)\n",
    "\n",
    "    def train_regularization(self, params):\n",
    "        return 0\n",
    "\n",
    "    def test_loss(self, model, params, batch):\n",
    "        loss_fn = torch.nn.CrossEntropyLoss()\n",
    "\n",
    "        b_guids, b_input_ids, b_attn_mask, b_labels = (t.to(device) for t in batch)\n",
    "        outputs = model(b_input_ids, b_attn_mask)\n",
    "\n",
    "        return loss_fn(outputs, b_labels)\n",
    "\n",
    "\n",
    "infl_model = BertClassifier.create_bert_classifier(\n",
    "    config[\"bert_model_name\"],\n",
    "    classifier_type=config[\"classifier_type\"],\n",
    "    classifier_hidden_size=config[\"classifier_hidden_size\"],\n",
    "    classifier_drop_out=config[\"classifier_drop_out\"],\n",
    "    freeze_bert=True,\n",
    "    random_state=42,\n",
    ")\n",
    "infl_model.load_state_dict(copy.deepcopy(full_model.state_dict()))\n",
    "\n",
    "module = LiSSAInfluenceModule(\n",
    "    model=infl_model,\n",
    "    objective=BinClassObjective(),\n",
    "    train_loader=DataLoader(train_dataset, batch_size=32),\n",
    "    test_loader=DataLoader(test_dataset, batch_size=32),\n",
    "    device=utils.get_device(),\n",
    "    damp=0.001,\n",
    "    repeat=1,\n",
    "    depth=50,\n",
    "    scale=1e4,\n",
    ")\n",
    "\n",
    "all_train_idxs = list(range(len(train_dataset)))\n",
    "influences = module.influences(all_train_idxs, [test_guid])"
   ]
  },
  {
   "cell_type": "code",
   "execution_count": 190,
   "id": "90b1c50d-da60-4de5-ae7d-adca7badfc40",
   "metadata": {
    "execution": {
     "iopub.execute_input": "2023-05-02T21:33:36.814028Z",
     "iopub.status.busy": "2023-05-02T21:33:36.813523Z",
     "iopub.status.idle": "2023-05-02T21:33:36.839317Z",
     "shell.execute_reply": "2023-05-02T21:33:36.838618Z",
     "shell.execute_reply.started": "2023-05-02T21:33:36.814010Z"
    },
    "tags": []
   },
   "outputs": [
    {
     "data": {
      "text/plain": [
       "1538"
      ]
     },
     "execution_count": 190,
     "metadata": {},
     "output_type": "execute_result"
    }
   ],
   "source": []
  },
  {
   "cell_type": "code",
   "execution_count": null,
   "id": "e9e94f20-adc5-4899-88fa-be0700d7e4c6",
   "metadata": {
    "execution": {
     "iopub.status.busy": "2023-05-02T02:13:31.748637Z",
     "iopub.status.idle": "2023-05-02T02:13:31.748836Z",
     "shell.execute_reply": "2023-05-02T02:13:31.748747Z",
     "shell.execute_reply.started": "2023-05-02T02:13:31.748737Z"
    }
   },
   "outputs": [],
   "source": [
    "----"
   ]
  },
  {
   "cell_type": "code",
   "execution_count": null,
   "id": "0e5604e1-ad4c-48f5-8c1b-118734fe5690",
   "metadata": {
    "execution": {
     "iopub.status.busy": "2023-05-02T02:13:31.749855Z",
     "iopub.status.idle": "2023-05-02T02:13:31.750053Z",
     "shell.execute_reply": "2023-05-02T02:13:31.749966Z",
     "shell.execute_reply.started": "2023-05-02T02:13:31.749956Z"
    },
    "tags": []
   },
   "outputs": [],
   "source": [
    "influences[:10]"
   ]
  },
  {
   "cell_type": "markdown",
   "id": "4747a947-4024-4bfd-b034-ee51d715e841",
   "metadata": {
    "jp-MarkdownHeadingCollapsed": true,
    "tags": []
   },
   "source": [
    "## LOO Model"
   ]
  },
  {
   "cell_type": "code",
   "execution_count": null,
   "id": "aed3a10b-6486-4a08-af2c-8d41fbe093ba",
   "metadata": {
    "execution": {
     "iopub.status.busy": "2023-05-02T02:13:31.751346Z",
     "iopub.status.idle": "2023-05-02T02:13:31.751571Z",
     "shell.execute_reply": "2023-05-02T02:13:31.751465Z",
     "shell.execute_reply.started": "2023-05-02T02:13:31.751455Z"
    }
   },
   "outputs": [],
   "source": [
    "loo_guid = 0\n",
    "\n",
    "# Create train dataset\n",
    "loo_dataset = create_loo_dataset(train_dataset, loo_guid)\n",
    "train_dataloader = DataLoader(\n",
    "    loo_dataset, batch_size=config[\"batch_size\"], shuffle=True\n",
    ")\n",
    "\n",
    "# Create classifcation model\n",
    "model = BertClassifier.create_bert_classifier(\n",
    "    config[\"bert_model_name\"],\n",
    "    classifier_type=config[\"classifier_type\"],\n",
    "    classifier_hidden_size=config[\"classifier_hidden_size\"],\n",
    "    classifier_drop_out=config[\"classifier_drop_out\"],\n",
    "    freeze_bert=True,\n",
    "    random_state=42,\n",
    ")\n",
    "\n",
    "optimizer = Adam(model.classifier.parameters(), lr=config[\"learning_rate\"])\n",
    "loss_fn = torch.nn.CrossEntropyLoss()\n",
    "\n",
    "\n",
    "run = wandb.init(project=\"LOO-test\", tags=[\"loo\"], config=config)\n",
    "\n",
    "timings = utils.train(\n",
    "    config=config,\n",
    "    model=model,\n",
    "    optimizer=optimizer,\n",
    "    loss_fn=loss_fn,\n",
    "    train_dataloader=train_dataloader,\n",
    "    val_dataloader=None,\n",
    ")\n",
    "\n",
    "test_loss, test_acc = utils.evaluate(model, test_dataloader)\n",
    "wandb.summary[\"test/loss\"] = test_loss\n",
    "wandb.summary[\"test/accuracy\"] = test_acc"
   ]
  },
  {
   "cell_type": "code",
   "execution_count": null,
   "id": "74f2901f-2190-46f5-bedb-f01930b3f66d",
   "metadata": {
    "execution": {
     "iopub.status.busy": "2023-05-02T02:13:31.752513Z",
     "iopub.status.idle": "2023-05-02T02:13:31.752812Z",
     "shell.execute_reply": "2023-05-02T02:13:31.752705Z",
     "shell.execute_reply.started": "2023-05-02T02:13:31.752693Z"
    }
   },
   "outputs": [],
   "source": [
    "# Compute loss for each test point\n",
    "df = utils.evaluate_loss_df(model, test_dataloader)\n",
    "df"
   ]
  },
  {
   "cell_type": "code",
   "execution_count": null,
   "id": "655ef4d8-cae1-418c-88e7-8db35481ddbf",
   "metadata": {
    "execution": {
     "iopub.status.busy": "2023-05-02T02:13:31.754212Z",
     "iopub.status.idle": "2023-05-02T02:13:31.754611Z",
     "shell.execute_reply": "2023-05-02T02:13:31.754476Z",
     "shell.execute_reply.started": "2023-05-02T02:13:31.754463Z"
    }
   },
   "outputs": [],
   "source": [
    "--"
   ]
  },
  {
   "cell_type": "code",
   "execution_count": null,
   "id": "3d108a97-58f3-4477-b10a-4cf74161e73c",
   "metadata": {},
   "outputs": [],
   "source": []
  },
  {
   "cell_type": "code",
   "execution_count": null,
   "id": "92ba4d86-d06c-4df7-9a07-57d03ee249ae",
   "metadata": {},
   "outputs": [],
   "source": []
  }
 ],
 "metadata": {
  "kernelspec": {
   "display_name": "Python 3 (ipykernel)",
   "language": "python",
   "name": "python3"
  },
  "language_info": {
   "codemirror_mode": {
    "name": "ipython",
    "version": 3
   },
   "file_extension": ".py",
   "mimetype": "text/x-python",
   "name": "python",
   "nbconvert_exporter": "python",
   "pygments_lexer": "ipython3",
   "version": "3.10.10"
  }
 },
 "nbformat": 4,
 "nbformat_minor": 5
}
