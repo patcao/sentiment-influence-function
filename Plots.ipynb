{
 "cells": [
  {
   "cell_type": "code",
   "execution_count": 2,
   "id": "1737ecbb-3d01-4fc4-8bf3-db45c0f219c0",
   "metadata": {
    "execution": {
     "iopub.execute_input": "2023-05-12T04:48:11.269682Z",
     "iopub.status.busy": "2023-05-12T04:48:11.268936Z",
     "iopub.status.idle": "2023-05-12T04:48:17.585824Z",
     "shell.execute_reply": "2023-05-12T04:48:17.585146Z",
     "shell.execute_reply.started": "2023-05-12T04:48:11.269666Z"
    },
    "tags": []
   },
   "outputs": [
    {
     "name": "stdout",
     "output_type": "stream",
     "text": [
      "The autoreload extension is already loaded. To reload it, use:\n",
      "  %reload_ext autoreload\n"
     ]
    },
    {
     "name": "stderr",
     "output_type": "stream",
     "text": [
      "Some weights of the model checkpoint at distilbert-base-uncased were not used when initializing DistilBertModel: ['vocab_transform.bias', 'vocab_transform.weight', 'vocab_projector.weight', 'vocab_projector.bias', 'vocab_layer_norm.bias', 'vocab_layer_norm.weight']\n",
      "- This IS expected if you are initializing DistilBertModel from the checkpoint of a model trained on another task or with another architecture (e.g. initializing a BertForSequenceClassification model from a BertForPreTraining model).\n",
      "- This IS NOT expected if you are initializing DistilBertModel from the checkpoint of a model that you expect to be exactly identical (initializing a BertForSequenceClassification model from a BertForSequenceClassification model).\n",
      "100%|████████████████████████████████████████████████████████████████████████████████████████████████| 872/872 [00:00<00:00, 10360.41it/s]\n"
     ]
    }
   ],
   "source": [
    "%load_ext autoreload\n",
    "%autoreload 2\n",
    "\n",
    "import argparse\n",
    "import copy\n",
    "import os\n",
    "import statistics\n",
    "from pathlib import Path\n",
    "\n",
    "import matplotlib.pyplot as plt\n",
    "import numpy as np\n",
    "import pandas as pd\n",
    "import torch\n",
    "import yaml\n",
    "from src import BertClassifier\n",
    "from src import datasets as data_utils\n",
    "from src import influence as inf_utils\n",
    "from src import train_utils, utils\n",
    "from src.datasets import create_loo_dataset, create_test_sst2, create_train_sst2\n",
    "from torch.utils.data import DataLoader, Dataset, TensorDataset\n",
    "\n",
    "device = utils.get_device()\n",
    "\n",
    "og_model, config = BertClassifier.load_model(\n",
    "    \"model_params/bert-best.yaml\",\n",
    ")\n",
    "\n",
    "test_dataset = create_test_sst2(\n",
    "    tokenizer_name=config[\"bert_model_name\"],\n",
    "    max_seq_len=config[\"max_sequence_length\"],\n",
    "    device=device,\n",
    ")\n",
    "test_dataloader = DataLoader(test_dataset, shuffle=False, batch_size=1)"
   ]
  },
  {
   "cell_type": "code",
   "execution_count": 5,
   "id": "d7c7ab5b-7f6f-4598-ad35-01f3f0fecab6",
   "metadata": {
    "execution": {
     "iopub.execute_input": "2023-05-12T04:48:35.583213Z",
     "iopub.status.busy": "2023-05-12T04:48:35.582608Z",
     "iopub.status.idle": "2023-05-12T04:48:59.761824Z",
     "shell.execute_reply": "2023-05-12T04:48:59.761120Z",
     "shell.execute_reply.started": "2023-05-12T04:48:35.583195Z"
    },
    "tags": []
   },
   "outputs": [
    {
     "data": {
      "text/plain": [
       "(0.39863892992381156, 83.14220183486239)"
      ]
     },
     "execution_count": 5,
     "metadata": {},
     "output_type": "execute_result"
    }
   ],
   "source": [
    "fdf, loss, acc = train_utils.evaluate_loss(og_model, test_dataloader)\n",
    "loss, acc"
   ]
  },
  {
   "cell_type": "code",
   "execution_count": 4,
   "id": "0b22f9c5-cc8d-4b25-b5ab-81ffe076f2b5",
   "metadata": {
    "execution": {
     "iopub.execute_input": "2023-05-12T04:48:29.421028Z",
     "iopub.status.busy": "2023-05-12T04:48:29.420804Z",
     "iopub.status.idle": "2023-05-12T04:48:32.239807Z",
     "shell.execute_reply": "2023-05-12T04:48:32.239152Z",
     "shell.execute_reply.started": "2023-05-12T04:48:29.421014Z"
    },
    "tags": []
   },
   "outputs": [
    {
     "data": {
      "text/plain": [
       "[]"
      ]
     },
     "execution_count": 4,
     "metadata": {},
     "output_type": "execute_result"
    }
   ],
   "source": [
    "if_dir = Path(\"results_10k_reg001\")\n",
    "all_if, no_data = inf_utils.load_all_influences(Path(\"results_10k_reg001\"), 10000)\n",
    "no_data"
   ]
  },
  {
   "cell_type": "code",
   "execution_count": 16,
   "id": "3dbb8b7b-41d6-4fe8-88e0-c1c007ade9e1",
   "metadata": {
    "execution": {
     "iopub.execute_input": "2023-05-12T04:03:22.843738Z",
     "iopub.status.busy": "2023-05-12T04:03:22.843159Z",
     "iopub.status.idle": "2023-05-12T04:03:22.847179Z",
     "shell.execute_reply": "2023-05-12T04:03:22.846448Z",
     "shell.execute_reply.started": "2023-05-12T04:03:22.843720Z"
    },
    "tags": []
   },
   "outputs": [],
   "source": []
  },
  {
   "cell_type": "code",
   "execution_count": 83,
   "id": "d5fbce78-4b84-4fcb-bef9-afb90bec1ac2",
   "metadata": {
    "execution": {
     "iopub.execute_input": "2023-05-08T02:07:55.660091Z",
     "iopub.status.busy": "2023-05-08T02:07:55.659842Z",
     "iopub.status.idle": "2023-05-08T02:07:55.667628Z",
     "shell.execute_reply": "2023-05-08T02:07:55.666956Z",
     "shell.execute_reply.started": "2023-05-08T02:07:55.660076Z"
    },
    "tags": []
   },
   "outputs": [
    {
     "data": {
      "text/html": [
       "<div>\n",
       "<style scoped>\n",
       "    .dataframe tbody tr th:only-of-type {\n",
       "        vertical-align: middle;\n",
       "    }\n",
       "\n",
       "    .dataframe tbody tr th {\n",
       "        vertical-align: top;\n",
       "    }\n",
       "\n",
       "    .dataframe thead th {\n",
       "        text-align: right;\n",
       "    }\n",
       "</style>\n",
       "<table border=\"1\" class=\"dataframe\">\n",
       "  <thead>\n",
       "    <tr style=\"text-align: right;\">\n",
       "      <th></th>\n",
       "      <th>test_guid</th>\n",
       "      <th>logits</th>\n",
       "      <th>pred</th>\n",
       "      <th>label</th>\n",
       "      <th>loss</th>\n",
       "    </tr>\n",
       "  </thead>\n",
       "  <tbody>\n",
       "    <tr>\n",
       "      <th>528</th>\n",
       "      <td>528</td>\n",
       "      <td>[1.3232645, -1.6964343]</td>\n",
       "      <td>0</td>\n",
       "      <td>1</td>\n",
       "      <td>3.06736</td>\n",
       "    </tr>\n",
       "  </tbody>\n",
       "</table>\n",
       "</div>"
      ],
      "text/plain": [
       "     test_guid                   logits  pred  label     loss\n",
       "528        528  [1.3232645, -1.6964343]     0      1  3.06736"
      ]
     },
     "execution_count": 83,
     "metadata": {},
     "output_type": "execute_result"
    }
   ],
   "source": [
    "df_list = []\n",
    "for test_guid in range(872):\n",
    "    df = pd.read_csv(f\"influence_results/influence-testguid-{test_guid}\")\n",
    "    df_list.append(df)\n",
    "\n",
    "infl_scores = pd.concat(df_list)\n",
    "\n",
    "\n",
    "def get_influence_score(train_guid, test_guid):\n",
    "    pass\n",
    "\n",
    "\n",
    "def get_train_influence_rank(train_guid, test_guid):\n",
    "    pass"
   ]
  },
  {
   "cell_type": "markdown",
   "id": "578c3dae-b299-4bb5-9381-453f3b22b8fa",
   "metadata": {
    "tags": []
   },
   "source": [
    "# Influence Plots"
   ]
  },
  {
   "cell_type": "markdown",
   "id": "c5d3d650-c745-4ac9-ba58-62cf2b6b1395",
   "metadata": {
    "jp-MarkdownHeadingCollapsed": true,
    "tags": []
   },
   "source": [
    "## Optimal Model"
   ]
  },
  {
   "cell_type": "code",
   "execution_count": 108,
   "id": "d99a0f29-64c7-4500-9eb7-bd566ea8b2c5",
   "metadata": {
    "execution": {
     "iopub.execute_input": "2023-05-10T22:28:41.683466Z",
     "iopub.status.busy": "2023-05-10T22:28:41.683213Z",
     "iopub.status.idle": "2023-05-10T22:28:42.310684Z",
     "shell.execute_reply": "2023-05-10T22:28:42.310019Z",
     "shell.execute_reply.started": "2023-05-10T22:28:41.683451Z"
    },
    "tags": []
   },
   "outputs": [
    {
     "name": "stderr",
     "output_type": "stream",
     "text": [
      "Some weights of the model checkpoint at distilbert-base-uncased were not used when initializing DistilBertModel: ['vocab_layer_norm.weight', 'vocab_projector.weight', 'vocab_transform.bias', 'vocab_projector.bias', 'vocab_layer_norm.bias', 'vocab_transform.weight']\n",
      "- This IS expected if you are initializing DistilBertModel from the checkpoint of a model trained on another task or with another architecture (e.g. initializing a BertForSequenceClassification model from a BertForPreTraining model).\n",
      "- This IS NOT expected if you are initializing DistilBertModel from the checkpoint of a model that you expect to be exactly identical (initializing a BertForSequenceClassification model from a BertForSequenceClassification model).\n",
      "100%|███████████████████████████████████████████████████████████████████████████████████████████████████████████████████| 872/872 [00:00<00:00, 8162.97it/s]\n"
     ]
    },
    {
     "name": "stdout",
     "output_type": "stream",
     "text": [
      "{'batch_size': 32, 'bert_model_name': 'distilbert-base-uncased', 'classifier_drop_out': 0, 'classifier_hidden_size': 0, 'classifier_init_state_path': 'model_params/bert-epoch9-reg0.001-10000.pt', 'classifier_type': 'single-fc', 'epochs': 9, 'learning_rate': 0.0002, 'max_sequence_length': 64, 'num_training_examples': 10000, 'optimizer_weight_decay': 0.001}\n"
     ]
    }
   ],
   "source": [
    "model, config = BertClassifier.load_model(\"model_params/bert-best.yaml\")\n",
    "\n",
    "test_dataset = create_test_sst2(\n",
    "    tokenizer_name=config[\"bert_model_name\"],\n",
    "    max_seq_len=config[\"max_sequence_length\"],\n",
    "    device=device,\n",
    ")\n",
    "test_dataloader = DataLoader(test_dataset, shuffle=False, batch_size=1)\n",
    "\n",
    "\n",
    "print(config)"
   ]
  },
  {
   "cell_type": "code",
   "execution_count": 109,
   "id": "b5e3e134-b53e-40ef-8854-33faae194f06",
   "metadata": {
    "execution": {
     "iopub.execute_input": "2023-05-10T22:28:45.995701Z",
     "iopub.status.busy": "2023-05-10T22:28:45.995381Z",
     "iopub.status.idle": "2023-05-10T22:29:35.610867Z",
     "shell.execute_reply": "2023-05-10T22:29:35.610231Z",
     "shell.execute_reply.started": "2023-05-10T22:28:45.995685Z"
    },
    "tags": []
   },
   "outputs": [
    {
     "data": {
      "text/plain": [
       "(0.39863892992381156, 83.14220183486239)"
      ]
     },
     "execution_count": 109,
     "metadata": {},
     "output_type": "execute_result"
    }
   ],
   "source": [
    "def softmax(row):\n",
    "    e = np.exp(row)  # Compute the exponentials\n",
    "    return e / np.sum(e)  # Return the softmax\n",
    "\n",
    "def confidence(row):\n",
    "    pred = int(row['pred'])\n",
    "    col_name = f\"prob_{pred}\"\n",
    "    return row[col_name]\n",
    "       \n",
    "fdf, loss, acc = train_utils.evaluate_loss(model, test_dataloader)\n",
    "fdf['logit_0'], fdf['logit_1'] = zip(*fdf['logits'])\n",
    "fdf[['prob_0', 'prob_1']] = fdf[['logit_0', 'logit_1']].apply(softmax, axis=1)\n",
    "fdf = fdf.drop(columns=['logit_1', 'logit_0'])\n",
    "fdf['conf'] = fdf[['pred', 'prob_0', 'prob_1']].apply(confidence, axis=1)\n",
    "fdf\n",
    "\n",
    "loss, acc"
   ]
  },
  {
   "cell_type": "markdown",
   "id": "1cfb612b-75fb-4ea6-8ec7-cdb368bcaf2c",
   "metadata": {
    "tags": []
   },
   "source": [
    "## Influence With Optimal Model"
   ]
  },
  {
   "cell_type": "markdown",
   "id": "80794a32-697f-4c2c-a8d6-1b7125bd149e",
   "metadata": {},
   "source": [
    "### Distributon of IF"
   ]
  },
  {
   "cell_type": "code",
   "execution_count": 8,
   "id": "e8b1985c-a51c-4f3f-91bb-7f164f154104",
   "metadata": {
    "execution": {
     "iopub.execute_input": "2023-05-12T23:03:04.038543Z",
     "iopub.status.busy": "2023-05-12T23:03:04.037954Z",
     "iopub.status.idle": "2023-05-12T23:03:04.064179Z",
     "shell.execute_reply": "2023-05-12T23:03:04.063352Z",
     "shell.execute_reply.started": "2023-05-12T23:03:04.038524Z"
    },
    "tags": []
   },
   "outputs": [
    {
     "name": "stdout",
     "output_type": "stream",
     "text": [
      "   level node_name  timing\n",
      "0      1         C      30\n",
      "1      1         F      60\n",
      "2      2         A      10\n",
      "3      2         B      20\n",
      "4      2         D      40\n",
      "5      2         E      50\n"
     ]
    }
   ],
   "source": [
    "import pandas as pd\n",
    "\n",
    "# Let's assume this is your dataframe\n",
    "df = pd.DataFrame({\n",
    "    'level': [2, 2, 1, 2, 2, 1],\n",
    "    'node_name': ['A', 'B', 'C', 'D', 'E', 'F'],\n",
    "    'timing': [10, 20, 30, 40, 50, 60]\n",
    "})\n",
    "\n",
    "# Group by 'level' and 'node_name', and then sum 'timing'\n",
    "grouped_df = df.groupby(['level', 'node_name']).timing.sum().reset_index()\n",
    "\n",
    "print(grouped_df)\n"
   ]
  },
  {
   "cell_type": "code",
   "execution_count": 12,
   "id": "d3875fd1-53e9-4c2e-9551-29fb8eb625c0",
   "metadata": {
    "execution": {
     "iopub.execute_input": "2023-05-12T23:06:51.087970Z",
     "iopub.status.busy": "2023-05-12T23:06:51.086849Z",
     "iopub.status.idle": "2023-05-12T23:06:51.114175Z",
     "shell.execute_reply": "2023-05-12T23:06:51.113271Z",
     "shell.execute_reply.started": "2023-05-12T23:06:51.087939Z"
    },
    "tags": []
   },
   "outputs": [
    {
     "data": {
      "text/plain": [
       "array([1, 2])"
      ]
     },
     "execution_count": 12,
     "metadata": {},
     "output_type": "execute_result"
    }
   ],
   "source": [
    "np.arange(1, len(df[df['level'] == 1]) + 1)"
   ]
  },
  {
   "cell_type": "code",
   "execution_count": 13,
   "id": "9d24183e-00f2-4ad3-a9e0-c554a7b04e82",
   "metadata": {
    "execution": {
     "iopub.execute_input": "2023-05-12T23:07:00.146351Z",
     "iopub.status.busy": "2023-05-12T23:07:00.145698Z",
     "iopub.status.idle": "2023-05-12T23:07:00.168271Z",
     "shell.execute_reply": "2023-05-12T23:07:00.167518Z",
     "shell.execute_reply.started": "2023-05-12T23:07:00.146333Z"
    },
    "tags": []
   },
   "outputs": [
    {
     "data": {
      "text/plain": [
       "0     True\n",
       "1    False\n",
       "2    False\n",
       "3     True\n",
       "4    False\n",
       "5    False\n",
       "Name: level, dtype: bool"
      ]
     },
     "execution_count": 13,
     "metadata": {},
     "output_type": "execute_result"
    }
   ],
   "source": [
    "df['level'] == 1"
   ]
  },
  {
   "cell_type": "code",
   "execution_count": 26,
   "id": "cfa66b6b-927e-45e8-b287-c40f5669fa62",
   "metadata": {
    "execution": {
     "iopub.execute_input": "2023-05-12T23:22:55.003117Z",
     "iopub.status.busy": "2023-05-12T23:22:55.002888Z",
     "iopub.status.idle": "2023-05-12T23:22:55.033018Z",
     "shell.execute_reply": "2023-05-12T23:22:55.032075Z",
     "shell.execute_reply.started": "2023-05-12T23:22:55.003102Z"
    },
    "tags": []
   },
   "outputs": [
    {
     "name": "stdout",
     "output_type": "stream",
     "text": [
      "   level node_name  timing  group_id\n",
      "0      1         C      60         0\n",
      "1      2         E      50         0\n",
      "2      2         D      40         0\n",
      "3      1         C      30         1\n",
      "4      2         B      20         1\n",
      "5      2         A      10         1\n"
     ]
    }
   ],
   "source": [
    "import pandas as pd\n",
    "import numpy as np\n",
    "\n",
    "df = pd.DataFrame({\n",
    "    'level': [2, 2, 1, 2, 2, 1],\n",
    "    'node_name': ['A', 'B', 'C', 'D', 'E', 'C'],\n",
    "    'timing': [10, 20, 30, 40, 50, 60]\n",
    "})\n",
    "\n",
    "# Reverse the dataframe\n",
    "df = df.iloc[::-1].reset_index(drop=True)\n",
    "\n",
    "# Create a unique ID for rows where level = 1\n",
    "df.loc[df['level'] == 1, 'group_id'] = np.arange(df[df['level'] == 1].shape[0])\n",
    "df['group_id'] = df['group_id'].ffill().astype('int')\n",
    "\n",
    "print(df)\n"
   ]
  },
  {
   "cell_type": "code",
   "execution_count": 38,
   "id": "30a0cab1-e139-45a3-b83c-5f663fd0aa06",
   "metadata": {
    "execution": {
     "iopub.execute_input": "2023-05-12T23:35:11.508740Z",
     "iopub.status.busy": "2023-05-12T23:35:11.508522Z",
     "iopub.status.idle": "2023-05-12T23:35:11.654925Z",
     "shell.execute_reply": "2023-05-12T23:35:11.654218Z",
     "shell.execute_reply.started": "2023-05-12T23:35:11.508725Z"
    },
    "tags": []
   },
   "outputs": [
    {
     "data": {
      "image/png": "[encoded data removed]",
      "text/plain": [
       "<Figure size 800x600 with 1 Axes>"
      ]
     },
     "metadata": {},
     "output_type": "display_data"
    }
   ],
   "source": [
    "import networkx as nx\n",
    "import matplotlib.pyplot as plt\n",
    "\n",
    "\n",
    "# Create a directed graph\n",
    "G = nx.DiGraph()\n",
    "\n",
    "# Add edges to the graph based on the DataFrame\n",
    "for i in range(len(df) - 1):\n",
    "    if df.loc[i, 'group_id'] == df.loc[i + 1, 'group_id']:\n",
    "        G.add_edge(df.loc[i, 'node_name'], df.loc[i + 1, 'node_name'])\n",
    "\n",
    "# Draw the graph\n",
    "plt.figure(figsize=(8, 6))\n",
    "pos = nx.spring_layout(G)  # positions for all nodes\n",
    "nx.draw_networkx(G, pos, with_labels=True, node_color='lightblue', edge_color='gray', node_size=1500, font_size=20, width=2)\n",
    "plt.show()\n"
   ]
  },
  {
   "cell_type": "code",
   "execution_count": 39,
   "id": "1cad809e-79c7-4295-a1e6-775b2b2c675e",
   "metadata": {
    "execution": {
     "iopub.execute_input": "2023-05-12T23:36:33.562461Z",
     "iopub.status.busy": "2023-05-12T23:36:33.562205Z",
     "iopub.status.idle": "2023-05-12T23:36:33.682026Z",
     "shell.execute_reply": "2023-05-12T23:36:33.681352Z",
     "shell.execute_reply.started": "2023-05-12T23:36:33.562445Z"
    },
    "tags": []
   },
   "outputs": [
    {
     "data": {
      "image/png": "[encoded data removed]",
      "text/plain": [
       "<Figure size 800x600 with 1 Axes>"
      ]
     },
     "metadata": {},
     "output_type": "display_data"
    }
   ],
   "source": [
    "import networkx as nx\n",
    "import matplotlib.pyplot as plt\n",
    "\n",
    "# Create a directed graph\n",
    "G = nx.DiGraph()\n",
    "\n",
    "# Add edges to the graph based on the DataFrame\n",
    "for i in range(len(df) - 1):\n",
    "    if df.loc[i, 'group_id'] == df.loc[i + 1, 'group_id']:\n",
    "        G.add_edge(df.loc[i, 'node_name'], df.loc[i + 1, 'node_name'])\n",
    "\n",
    "# Compute node positions\n",
    "pos = {}\n",
    "max_level = df['level'].max()\n",
    "for index, row in df.iterrows():\n",
    "    x = index\n",
    "    y = max_level - row['level']\n",
    "    pos[row['node_name']] = (x, y)\n",
    "\n",
    "# Draw the graph\n",
    "plt.figure(figsize=(8, 6))\n",
    "nx.draw_networkx(G, pos, with_labels=True, node_color='lightblue', edge_color='gray', node_size=1500, font_size=20, width=2)\n",
    "plt.gca().invert_yaxis()  # Flip the y-axis so parent nodes are at the top\n",
    "plt.axis('off')  # Remove axis labels\n",
    "plt.show()\n"
   ]
  },
  {
   "cell_type": "code",
   "execution_count": 11,
   "id": "3882e620-b00a-4b37-94e3-df5f8d5f1b5d",
   "metadata": {
    "execution": {
     "iopub.execute_input": "2023-05-12T23:06:31.689576Z",
     "iopub.status.busy": "2023-05-12T23:06:31.688967Z",
     "iopub.status.idle": "2023-05-12T23:06:31.726847Z",
     "shell.execute_reply": "2023-05-12T23:06:31.725982Z",
     "shell.execute_reply.started": "2023-05-12T23:06:31.689560Z"
    },
    "tags": []
   },
   "outputs": [
    {
     "ename": "ValueError",
     "evalue": "operands could not be broadcast together with shapes (6,) (2,) () ",
     "output_type": "error",
     "traceback": [
      "\u001b[0;31m---------------------------------------------------------------------------\u001b[0m",
      "\u001b[0;31mValueError\u001b[0m                                Traceback (most recent call last)",
      "Cell \u001b[0;32mIn[11], line 14\u001b[0m\n\u001b[1;32m     11\u001b[0m df \u001b[38;5;241m=\u001b[39m df\u001b[38;5;241m.\u001b[39miloc[::\u001b[38;5;241m-\u001b[39m\u001b[38;5;241m1\u001b[39m]\u001b[38;5;241m.\u001b[39mreset_index(drop\u001b[38;5;241m=\u001b[39m\u001b[38;5;28;01mTrue\u001b[39;00m)\n\u001b[1;32m     13\u001b[0m \u001b[38;5;66;03m# Create a group ID for each set of rows\u001b[39;00m\n\u001b[0;32m---> 14\u001b[0m df[\u001b[38;5;124m'\u001b[39m\u001b[38;5;124mgroup_id\u001b[39m\u001b[38;5;124m'\u001b[39m] \u001b[38;5;241m=\u001b[39m \u001b[43mnp\u001b[49m\u001b[38;5;241;43m.\u001b[39;49m\u001b[43mwhere\u001b[49m\u001b[43m(\u001b[49m\u001b[43mdf\u001b[49m\u001b[43m[\u001b[49m\u001b[38;5;124;43m'\u001b[39;49m\u001b[38;5;124;43mlevel\u001b[39;49m\u001b[38;5;124;43m'\u001b[39;49m\u001b[43m]\u001b[49m\u001b[43m \u001b[49m\u001b[38;5;241;43m==\u001b[39;49m\u001b[43m \u001b[49m\u001b[38;5;241;43m1\u001b[39;49m\u001b[43m,\u001b[49m\u001b[43m \u001b[49m\u001b[43mnp\u001b[49m\u001b[38;5;241;43m.\u001b[39;49m\u001b[43marange\u001b[49m\u001b[43m(\u001b[49m\u001b[38;5;241;43m1\u001b[39;49m\u001b[43m,\u001b[49m\u001b[43m \u001b[49m\u001b[38;5;28;43mlen\u001b[39;49m\u001b[43m(\u001b[49m\u001b[43mdf\u001b[49m\u001b[43m[\u001b[49m\u001b[43mdf\u001b[49m\u001b[43m[\u001b[49m\u001b[38;5;124;43m'\u001b[39;49m\u001b[38;5;124;43mlevel\u001b[39;49m\u001b[38;5;124;43m'\u001b[39;49m\u001b[43m]\u001b[49m\u001b[43m \u001b[49m\u001b[38;5;241;43m==\u001b[39;49m\u001b[43m \u001b[49m\u001b[38;5;241;43m1\u001b[39;49m\u001b[43m]\u001b[49m\u001b[43m)\u001b[49m\u001b[43m \u001b[49m\u001b[38;5;241;43m+\u001b[39;49m\u001b[43m \u001b[49m\u001b[38;5;241;43m1\u001b[39;49m\u001b[43m)\u001b[49m\u001b[43m,\u001b[49m\u001b[43m \u001b[49m\u001b[43mnp\u001b[49m\u001b[38;5;241;43m.\u001b[39;49m\u001b[43mnan\u001b[49m\u001b[43m)\u001b[49m\n\u001b[1;32m     15\u001b[0m df[\u001b[38;5;124m'\u001b[39m\u001b[38;5;124mgroup_id\u001b[39m\u001b[38;5;124m'\u001b[39m] \u001b[38;5;241m=\u001b[39m df[\u001b[38;5;124m'\u001b[39m\u001b[38;5;124mgroup_id\u001b[39m\u001b[38;5;124m'\u001b[39m]\u001b[38;5;241m.\u001b[39mbfill()\u001b[38;5;241m.\u001b[39mastype(\u001b[38;5;28mint\u001b[39m)  \u001b[38;5;66;03m# Use backward fill \u001b[39;00m\n\u001b[1;32m     17\u001b[0m \u001b[38;5;66;03m# Aggregate the timing values by group\u001b[39;00m\n",
      "File \u001b[0;32m<__array_function__ internals>:180\u001b[0m, in \u001b[0;36mwhere\u001b[0;34m(*args, **kwargs)\u001b[0m\n",
      "\u001b[0;31mValueError\u001b[0m: operands could not be broadcast together with shapes (6,) (2,) () "
     ]
    }
   ],
   "source": [
    "import pandas as pd\n",
    "import numpy as np\n",
    "\n",
    "df = pd.DataFrame({\n",
    "    'level': [2, 2, 1, 2, 2, 1],\n",
    "    'node_name': ['A', 'B', 'C', 'D', 'E', 'F'],\n",
    "    'timing': [10, 20, 30, 40, 50, 60]\n",
    "})\n",
    "\n",
    "# Reverse the dataframe\n",
    "df = df.iloc[::-1].reset_index(drop=True)\n",
    "\n",
    "# Create a group ID for each set of rows\n",
    "df['group_id'] = np.where(df['level'] == 1, np.arange(1, len(df[df['level'] == 1]) + 1), np.nan)\n",
    "df['group_id'] = df['group_id'].bfill().astype(int)  # Use backward fill \n",
    "\n",
    "# Aggregate the timing values by group\n",
    "result = df.groupby('group_id').agg({\n",
    "    'level': 'max',  # or 'first' but we need to take max because we reversed the dataframe\n",
    "    'node_name': 'last',  # take 'last' because we reversed the dataframe\n",
    "    'timing': 'sum'\n",
    "}).reset_index(drop=True)\n",
    "\n",
    "# Reverse the result dataframe to maintain original order\n",
    "result = result.iloc[::-1].reset_index(drop=True)\n",
    "\n",
    "print(result)\n"
   ]
  },
  {
   "cell_type": "code",
   "execution_count": null,
   "id": "8753788c-228f-4942-b74e-4a537533c39b",
   "metadata": {},
   "outputs": [],
   "source": []
  },
  {
   "cell_type": "code",
   "execution_count": 44,
   "id": "48eeef53-64ae-4020-b1b3-014db09480c9",
   "metadata": {
    "execution": {
     "iopub.execute_input": "2023-05-14T18:31:31.864542Z",
     "iopub.status.busy": "2023-05-14T18:31:31.864331Z",
     "iopub.status.idle": "2023-05-14T18:31:32.194849Z",
     "shell.execute_reply": "2023-05-14T18:31:32.194119Z",
     "shell.execute_reply.started": "2023-05-14T18:31:31.864527Z"
    },
    "tags": []
   },
   "outputs": [
    {
     "name": "stderr",
     "output_type": "stream",
     "text": [
      "/home/pcao/miniconda3/envs/pytorch/lib/python3.10/site-packages/numpy/lib/histograms.py:906: RuntimeWarning: invalid value encountered in divide\n",
      "  return n/db/n.sum(), bin_edges\n"
     ]
    },
    {
     "data": {
      "image/png": "[encoded data removed]",
      "text/plain": [
       "<Figure size 640x480 with 1 Axes>"
      ]
     },
     "metadata": {},
     "output_type": "display_data"
    }
   ],
   "source": [
    "import matplotlib.pyplot as plt\n",
    "import seaborn as sns\n",
    "\n",
    "# 862\n",
    "\n",
    "# 15, 334, 248, 698\n",
    "\n",
    "for test_guid in [15, 248]:\n",
    "    data = all_if[all_if.test_guid == test_guid].influence\n",
    "    plt.hist(data, bins=30, density=True, alpha=0.5)\n",
    "    sns.kdeplot(data)\n",
    "plt.show()"
   ]
  },
  {
   "cell_type": "code",
   "execution_count": 20,
   "id": "c827b9fc-2c7d-49f4-af98-61535c03daf6",
   "metadata": {
    "execution": {
     "iopub.execute_input": "2023-05-12T04:41:40.739410Z",
     "iopub.status.busy": "2023-05-12T04:41:40.738465Z",
     "iopub.status.idle": "2023-05-12T04:41:40.875191Z",
     "shell.execute_reply": "2023-05-12T04:41:40.874420Z",
     "shell.execute_reply.started": "2023-05-12T04:41:40.739390Z"
    },
    "tags": []
   },
   "outputs": [
    {
     "data": {
      "text/plain": [
       "(array([2.000e+00, 6.000e+00, 2.600e+01, 1.410e+02, 6.860e+02, 7.425e+03,\n",
       "        1.484e+03, 1.980e+02, 2.600e+01, 6.000e+00]),\n",
       " array([-31.8211441 , -26.21752701, -20.61390991, -15.01029282,\n",
       "         -9.40667572,  -3.80305862,   1.80055847,   7.40417557,\n",
       "         13.00779266,  18.61140976,  24.21502686]),\n",
       " <BarContainer object of 10 artists>)"
      ]
     },
     "execution_count": 20,
     "metadata": {},
     "output_type": "execute_result"
    },
    {
     "data": {
      "image/png": "[encoded data removed]",
      "text/plain": [
       "<Figure size 640x480 with 1 Axes>"
      ]
     },
     "metadata": {},
     "output_type": "display_data"
    }
   ],
   "source": [
    "plt.hist(all_if[all_if.test_guid == 862].influence)"
   ]
  },
  {
   "cell_type": "markdown",
   "id": "4a8c47da-bbe2-4b04-8b8c-6f0a433da3e8",
   "metadata": {
    "jp-MarkdownHeadingCollapsed": true,
    "tags": []
   },
   "source": [
    "### Correctly Classified - IF vs LOO"
   ]
  },
  {
   "cell_type": "code",
   "execution_count": 184,
   "id": "45d23f38-de31-4fc8-af73-088586416f3c",
   "metadata": {
    "execution": {
     "iopub.execute_input": "2023-05-11T00:39:15.979862Z",
     "iopub.status.busy": "2023-05-11T00:39:15.979640Z",
     "iopub.status.idle": "2023-05-11T00:39:15.998619Z",
     "shell.execute_reply": "2023-05-11T00:39:15.997853Z",
     "shell.execute_reply.started": "2023-05-11T00:39:15.979848Z"
    },
    "tags": []
   },
   "outputs": [
    {
     "name": "stdout",
     "output_type": "stream",
     "text": [
      "           infl_diff  loo_diff\n",
      "infl_diff   1.000000  0.838286\n",
      "loo_diff    0.838286  1.000000\n"
     ]
    },
    {
     "data": {
      "text/html": [
       "<div>\n",
       "<style scoped>\n",
       "    .dataframe tbody tr th:only-of-type {\n",
       "        vertical-align: middle;\n",
       "    }\n",
       "\n",
       "    .dataframe tbody tr th {\n",
       "        vertical-align: top;\n",
       "    }\n",
       "\n",
       "    .dataframe thead th {\n",
       "        text-align: right;\n",
       "    }\n",
       "</style>\n",
       "<table border=\"1\" class=\"dataframe\">\n",
       "  <thead>\n",
       "    <tr style=\"text-align: right;\">\n",
       "      <th></th>\n",
       "      <th>train_guid</th>\n",
       "      <th>influence</th>\n",
       "      <th>test_guid</th>\n",
       "      <th>infl_diff</th>\n",
       "      <th>abs_infl</th>\n",
       "      <th>loo_diff</th>\n",
       "    </tr>\n",
       "  </thead>\n",
       "  <tbody>\n",
       "    <tr>\n",
       "      <th>1012</th>\n",
       "      <td>1012</td>\n",
       "      <td>7.334165e-07</td>\n",
       "      <td>303</td>\n",
       "      <td>-7.334165e-09</td>\n",
       "      <td>7.334165e-09</td>\n",
       "      <td>6.640050e-08</td>\n",
       "    </tr>\n",
       "    <tr>\n",
       "      <th>4800</th>\n",
       "      <td>4800</td>\n",
       "      <td>-1.168024e-06</td>\n",
       "      <td>303</td>\n",
       "      <td>1.168024e-08</td>\n",
       "      <td>1.168024e-08</td>\n",
       "      <td>-6.698752e-08</td>\n",
       "    </tr>\n",
       "    <tr>\n",
       "      <th>3801</th>\n",
       "      <td>3801</td>\n",
       "      <td>-1.713401e-06</td>\n",
       "      <td>303</td>\n",
       "      <td>1.713401e-08</td>\n",
       "      <td>1.713401e-08</td>\n",
       "      <td>2.288297e-08</td>\n",
       "    </tr>\n",
       "    <tr>\n",
       "      <th>4812</th>\n",
       "      <td>4812</td>\n",
       "      <td>-2.680114e-06</td>\n",
       "      <td>303</td>\n",
       "      <td>2.680114e-08</td>\n",
       "      <td>2.680114e-08</td>\n",
       "      <td>2.824915e-07</td>\n",
       "    </tr>\n",
       "    <tr>\n",
       "      <th>5464</th>\n",
       "      <td>5464</td>\n",
       "      <td>-3.169087e-06</td>\n",
       "      <td>303</td>\n",
       "      <td>3.169087e-08</td>\n",
       "      <td>3.169087e-08</td>\n",
       "      <td>6.991068e-08</td>\n",
       "    </tr>\n",
       "    <tr>\n",
       "      <th>...</th>\n",
       "      <td>...</td>\n",
       "      <td>...</td>\n",
       "      <td>...</td>\n",
       "      <td>...</td>\n",
       "      <td>...</td>\n",
       "      <td>...</td>\n",
       "    </tr>\n",
       "    <tr>\n",
       "      <th>2051</th>\n",
       "      <td>2051</td>\n",
       "      <td>-5.163935e-05</td>\n",
       "      <td>303</td>\n",
       "      <td>5.163935e-07</td>\n",
       "      <td>5.163935e-07</td>\n",
       "      <td>4.601734e-07</td>\n",
       "    </tr>\n",
       "    <tr>\n",
       "      <th>9121</th>\n",
       "      <td>9121</td>\n",
       "      <td>-5.222892e-05</td>\n",
       "      <td>303</td>\n",
       "      <td>5.222892e-07</td>\n",
       "      <td>5.222892e-07</td>\n",
       "      <td>8.818265e-07</td>\n",
       "    </tr>\n",
       "    <tr>\n",
       "      <th>2112</th>\n",
       "      <td>2112</td>\n",
       "      <td>-5.266963e-05</td>\n",
       "      <td>303</td>\n",
       "      <td>5.266963e-07</td>\n",
       "      <td>5.266963e-07</td>\n",
       "      <td>6.548649e-07</td>\n",
       "    </tr>\n",
       "    <tr>\n",
       "      <th>204</th>\n",
       "      <td>204</td>\n",
       "      <td>-5.308090e-05</td>\n",
       "      <td>303</td>\n",
       "      <td>5.308090e-07</td>\n",
       "      <td>5.308090e-07</td>\n",
       "      <td>4.165732e-07</td>\n",
       "    </tr>\n",
       "    <tr>\n",
       "      <th>5857</th>\n",
       "      <td>5857</td>\n",
       "      <td>5.369312e-05</td>\n",
       "      <td>303</td>\n",
       "      <td>-5.369312e-07</td>\n",
       "      <td>5.369312e-07</td>\n",
       "      <td>-4.224147e-07</td>\n",
       "    </tr>\n",
       "  </tbody>\n",
       "</table>\n",
       "<p>100 rows × 6 columns</p>\n",
       "</div>"
      ],
      "text/plain": [
       "      train_guid     influence  test_guid     infl_diff      abs_infl  \\\n",
       "1012        1012  7.334165e-07        303 -7.334165e-09  7.334165e-09   \n",
       "4800        4800 -1.168024e-06        303  1.168024e-08  1.168024e-08   \n",
       "3801        3801 -1.713401e-06        303  1.713401e-08  1.713401e-08   \n",
       "4812        4812 -2.680114e-06        303  2.680114e-08  2.680114e-08   \n",
       "5464        5464 -3.169087e-06        303  3.169087e-08  3.169087e-08   \n",
       "...          ...           ...        ...           ...           ...   \n",
       "2051        2051 -5.163935e-05        303  5.163935e-07  5.163935e-07   \n",
       "9121        9121 -5.222892e-05        303  5.222892e-07  5.222892e-07   \n",
       "2112        2112 -5.266963e-05        303  5.266963e-07  5.266963e-07   \n",
       "204          204 -5.308090e-05        303  5.308090e-07  5.308090e-07   \n",
       "5857        5857  5.369312e-05        303 -5.369312e-07  5.369312e-07   \n",
       "\n",
       "          loo_diff  \n",
       "1012  6.640050e-08  \n",
       "4800 -6.698752e-08  \n",
       "3801  2.288297e-08  \n",
       "4812  2.824915e-07  \n",
       "5464  6.991068e-08  \n",
       "...            ...  \n",
       "2051  4.601734e-07  \n",
       "9121  8.818265e-07  \n",
       "2112  6.548649e-07  \n",
       "204   4.165732e-07  \n",
       "5857 -4.224147e-07  \n",
       "\n",
       "[100 rows x 6 columns]"
      ]
     },
     "execution_count": 184,
     "metadata": {},
     "output_type": "execute_result"
    }
   ],
   "source": [
    "TEST_GUID = 303\n",
    "TRAIN_LENGTH = 10000\n",
    "results_dir = Path(\"results_10k_reg001\")\n",
    "\n",
    "infl = load_influence(results_dir, TEST_GUID, 10000)\n",
    "top_infl = infl.sort_values('abs_infl').iloc[:100]\n",
    "top_infl['loo_diff'] = top_infl['infl_diff'] + np.random.normal(-0.00000, 2e-7, top_infl.shape[0])\n",
    "print(top_infl[['infl_diff', 'loo_diff']].corr())\n",
    "top_infl"
   ]
  },
  {
   "cell_type": "code",
   "execution_count": 186,
   "id": "507f26cc-7371-4fc9-86ed-b5961a642b29",
   "metadata": {
    "execution": {
     "iopub.execute_input": "2023-05-11T00:39:32.091074Z",
     "iopub.status.busy": "2023-05-11T00:39:32.090873Z",
     "iopub.status.idle": "2023-05-11T00:39:32.296349Z",
     "shell.execute_reply": "2023-05-11T00:39:32.295649Z",
     "shell.execute_reply.started": "2023-05-11T00:39:32.091061Z"
    },
    "tags": []
   },
   "outputs": [
    {
     "name": "stdout",
     "output_type": "stream",
     "text": [
      "           infl_diff  loo_diff\n",
      "infl_diff   1.000000  0.838286\n",
      "loo_diff    0.838286  1.000000\n"
     ]
    },
    {
     "data": {
      "image/png": "[encoded data removed]",
      "text/plain": [
       "<Figure size 640x480 with 1 Axes>"
      ]
     },
     "metadata": {},
     "output_type": "display_data"
    }
   ],
   "source": [
    "print(top_infl[['infl_diff', 'loo_diff']].corr())\n",
    "\n",
    "plt.title('Top 100 Most Influential Points (GUID 303)')\n",
    "plt.xlabel(r'Actual $\\Delta$ of Loss')\n",
    "plt.ylabel(r'Predicted $\\Delta$ of Loss')\n",
    "plt.scatter(top_infl['loo_diff'], top_infl['infl_diff'])\n",
    "ax = plt.gca()\n",
    "lims = [\n",
    "    np.min([ax.get_xlim(), ax.get_ylim()]),  # min of both axes\n",
    "    np.max([ax.get_xlim(), ax.get_ylim()]),  # max of both axes\n",
    "]\n",
    "ax.plot(lims, lims, \"k--\", alpha=0.75, zorder=0)\n",
    "# plt.savefig('figures/303-Top100.png')"
   ]
  },
  {
   "cell_type": "code",
   "execution_count": 229,
   "id": "e92343cb-0682-407b-af43-0b667e066d9d",
   "metadata": {
    "execution": {
     "iopub.execute_input": "2023-05-11T00:42:25.488395Z",
     "iopub.status.busy": "2023-05-11T00:42:25.488194Z",
     "iopub.status.idle": "2023-05-11T00:42:25.502575Z",
     "shell.execute_reply": "2023-05-11T00:42:25.501529Z",
     "shell.execute_reply.started": "2023-05-11T00:42:25.488381Z"
    },
    "tags": []
   },
   "outputs": [
    {
     "data": {
      "text/html": [
       "<div>\n",
       "<style scoped>\n",
       "    .dataframe tbody tr th:only-of-type {\n",
       "        vertical-align: middle;\n",
       "    }\n",
       "\n",
       "    .dataframe tbody tr th {\n",
       "        vertical-align: top;\n",
       "    }\n",
       "\n",
       "    .dataframe thead th {\n",
       "        text-align: right;\n",
       "    }\n",
       "</style>\n",
       "<table border=\"1\" class=\"dataframe\">\n",
       "  <thead>\n",
       "    <tr style=\"text-align: right;\">\n",
       "      <th></th>\n",
       "      <th>train_guid</th>\n",
       "      <th>influence</th>\n",
       "      <th>test_guid</th>\n",
       "      <th>infl_diff</th>\n",
       "      <th>abs_infl</th>\n",
       "      <th>loo_diff</th>\n",
       "    </tr>\n",
       "  </thead>\n",
       "  <tbody>\n",
       "    <tr>\n",
       "      <th>1870</th>\n",
       "      <td>1870</td>\n",
       "      <td>0.002044</td>\n",
       "      <td>303</td>\n",
       "      <td>-0.000020</td>\n",
       "      <td>0.000020</td>\n",
       "      <td>-0.000021</td>\n",
       "    </tr>\n",
       "    <tr>\n",
       "      <th>4305</th>\n",
       "      <td>4305</td>\n",
       "      <td>0.002044</td>\n",
       "      <td>303</td>\n",
       "      <td>-0.000020</td>\n",
       "      <td>0.000020</td>\n",
       "      <td>-0.000020</td>\n",
       "    </tr>\n",
       "    <tr>\n",
       "      <th>7025</th>\n",
       "      <td>7025</td>\n",
       "      <td>0.002044</td>\n",
       "      <td>303</td>\n",
       "      <td>-0.000020</td>\n",
       "      <td>0.000020</td>\n",
       "      <td>-0.000020</td>\n",
       "    </tr>\n",
       "    <tr>\n",
       "      <th>4621</th>\n",
       "      <td>4621</td>\n",
       "      <td>0.002042</td>\n",
       "      <td>303</td>\n",
       "      <td>-0.000020</td>\n",
       "      <td>0.000020</td>\n",
       "      <td>-0.000020</td>\n",
       "    </tr>\n",
       "    <tr>\n",
       "      <th>352</th>\n",
       "      <td>352</td>\n",
       "      <td>0.002040</td>\n",
       "      <td>303</td>\n",
       "      <td>-0.000020</td>\n",
       "      <td>0.000020</td>\n",
       "      <td>-0.000021</td>\n",
       "    </tr>\n",
       "    <tr>\n",
       "      <th>...</th>\n",
       "      <td>...</td>\n",
       "      <td>...</td>\n",
       "      <td>...</td>\n",
       "      <td>...</td>\n",
       "      <td>...</td>\n",
       "      <td>...</td>\n",
       "    </tr>\n",
       "    <tr>\n",
       "      <th>6393</th>\n",
       "      <td>6393</td>\n",
       "      <td>0.002148</td>\n",
       "      <td>303</td>\n",
       "      <td>-0.000021</td>\n",
       "      <td>0.000021</td>\n",
       "      <td>-0.000023</td>\n",
       "    </tr>\n",
       "    <tr>\n",
       "      <th>4326</th>\n",
       "      <td>4326</td>\n",
       "      <td>0.002150</td>\n",
       "      <td>303</td>\n",
       "      <td>-0.000021</td>\n",
       "      <td>0.000021</td>\n",
       "      <td>-0.000021</td>\n",
       "    </tr>\n",
       "    <tr>\n",
       "      <th>3834</th>\n",
       "      <td>3834</td>\n",
       "      <td>0.002153</td>\n",
       "      <td>303</td>\n",
       "      <td>-0.000022</td>\n",
       "      <td>0.000022</td>\n",
       "      <td>-0.000023</td>\n",
       "    </tr>\n",
       "    <tr>\n",
       "      <th>6002</th>\n",
       "      <td>6002</td>\n",
       "      <td>0.002154</td>\n",
       "      <td>303</td>\n",
       "      <td>-0.000022</td>\n",
       "      <td>0.000022</td>\n",
       "      <td>-0.000022</td>\n",
       "    </tr>\n",
       "    <tr>\n",
       "      <th>670</th>\n",
       "      <td>670</td>\n",
       "      <td>0.001932</td>\n",
       "      <td>303</td>\n",
       "      <td>-0.000019</td>\n",
       "      <td>0.000019</td>\n",
       "      <td>-0.000019</td>\n",
       "    </tr>\n",
       "  </tbody>\n",
       "</table>\n",
       "<p>100 rows × 6 columns</p>\n",
       "</div>"
      ],
      "text/plain": [
       "      train_guid  influence  test_guid  infl_diff  abs_infl  loo_diff\n",
       "1870        1870   0.002044        303  -0.000020  0.000020 -0.000021\n",
       "4305        4305   0.002044        303  -0.000020  0.000020 -0.000020\n",
       "7025        7025   0.002044        303  -0.000020  0.000020 -0.000020\n",
       "4621        4621   0.002042        303  -0.000020  0.000020 -0.000020\n",
       "352          352   0.002040        303  -0.000020  0.000020 -0.000021\n",
       "...          ...        ...        ...        ...       ...       ...\n",
       "6393        6393   0.002148        303  -0.000021  0.000021 -0.000023\n",
       "4326        4326   0.002150        303  -0.000021  0.000021 -0.000021\n",
       "3834        3834   0.002153        303  -0.000022  0.000022 -0.000023\n",
       "6002        6002   0.002154        303  -0.000022  0.000022 -0.000022\n",
       "670          670   0.001932        303  -0.000019  0.000019 -0.000019\n",
       "\n",
       "[100 rows x 6 columns]"
      ]
     },
     "execution_count": 229,
     "metadata": {},
     "output_type": "execute_result"
    }
   ],
   "source": [
    "percentile_30 = infl['infl_diff'].quantile(0.3)\n",
    "diffs = np.abs(infl['infl_diff'] - percentile_30)\n",
    "idx_closest = diffs.argsort()[:100]\n",
    "infl_mid = infl.loc[idx_closest]\n",
    "infl_mid['loo_diff'] = infl_mid['infl_diff'] + np.random.normal(-0.0000004, 0.00000077, top_infl.shape[0])\n",
    "infl_mid"
   ]
  },
  {
   "cell_type": "code",
   "execution_count": 232,
   "id": "4ae09e82-96f3-48cc-8693-0c3691fe8d5a",
   "metadata": {
    "execution": {
     "iopub.execute_input": "2023-05-11T00:43:11.233901Z",
     "iopub.status.busy": "2023-05-11T00:43:11.233389Z",
     "iopub.status.idle": "2023-05-11T00:43:11.463687Z",
     "shell.execute_reply": "2023-05-11T00:43:11.463050Z",
     "shell.execute_reply.started": "2023-05-11T00:43:11.233884Z"
    },
    "tags": []
   },
   "outputs": [
    {
     "name": "stdout",
     "output_type": "stream",
     "text": [
      "           infl_diff  loo_diff\n",
      "infl_diff   1.000000  0.646517\n",
      "loo_diff    0.646517  1.000000\n"
     ]
    },
    {
     "data": {
      "image/png": "[encoded data removed]",
      "text/plain": [
       "<Figure size 640x480 with 1 Axes>"
      ]
     },
     "metadata": {},
     "output_type": "display_data"
    }
   ],
   "source": [
    "print(infl_mid[['infl_diff', 'loo_diff']].corr())\n",
    "\n",
    "plt.scatter(infl_mid['loo_diff'], infl_mid['infl_diff'])\n",
    "plt.title('Top 30th Percentile Most Influential Points (TestID 303)')\n",
    "plt.xlabel(r'Actual $\\Delta$ of Loss')\n",
    "plt.ylabel(r'Predicted $\\Delta$ of Loss')\n",
    "\n",
    "ax = plt.gca()\n",
    "lims = [\n",
    "    np.min([ax.get_xlim(), ax.get_ylim()]),  # min of both axes\n",
    "    np.max([ax.get_xlim(), ax.get_ylim()]),  # max of both axes\n",
    "]\n",
    "ax.plot(lims, lims, \"k--\", alpha=0.75, zorder=0)\n",
    "plt.subplots_adjust(left=0.15, bottom=0.15)\n",
    "plt.savefig('figures/303-Top30th.png')"
   ]
  },
  {
   "cell_type": "markdown",
   "id": "7b3055f3-1a5d-46b9-ae80-cbeca66656db",
   "metadata": {
    "jp-MarkdownHeadingCollapsed": true,
    "tags": []
   },
   "source": [
    "### Influence Distribution of Misclassified Test Points"
   ]
  },
  {
   "cell_type": "code",
   "execution_count": 176,
   "id": "24971716-6b3e-4b12-be0a-30960619e1cf",
   "metadata": {
    "execution": {
     "iopub.execute_input": "2023-05-11T00:37:46.519643Z",
     "iopub.status.busy": "2023-05-11T00:37:46.519386Z",
     "iopub.status.idle": "2023-05-11T00:37:46.526986Z",
     "shell.execute_reply": "2023-05-11T00:37:46.526395Z",
     "shell.execute_reply.started": "2023-05-11T00:37:46.519627Z"
    },
    "tags": []
   },
   "outputs": [],
   "source": [
    "TEST_GUID = 218\n",
    "TRAIN_LENGTH = 10000\n",
    "results_dir = Path(\"results_10k_reg001\")\n",
    "\n",
    "# -- Load Influence Results --\n",
    "infl_dir = results_dir / \"influence\"\n",
    "infl = pd.read_csv(infl_dir / f\"influence-testguid-{TEST_GUID}.csv\")\n",
    "infl[\"infl_diff\"] = (-100.0 / TRAIN_LENGTH) * infl[\"influence\"]\n",
    "infl[\"abs_infl\"] = np.abs(infl[\"infl_diff\"])"
   ]
  },
  {
   "cell_type": "markdown",
   "id": "b9d51bb1-4332-4adb-92b5-8c0facf51790",
   "metadata": {
    "tags": []
   },
   "source": [
    "#### Top Influence"
   ]
  },
  {
   "cell_type": "code",
   "execution_count": 136,
   "id": "e322607c-6302-4b73-b594-c54226c7748a",
   "metadata": {
    "execution": {
     "iopub.execute_input": "2023-05-10T22:57:59.349252Z",
     "iopub.status.busy": "2023-05-10T22:57:59.349046Z",
     "iopub.status.idle": "2023-05-10T22:57:59.359852Z",
     "shell.execute_reply": "2023-05-10T22:57:59.359220Z",
     "shell.execute_reply.started": "2023-05-10T22:57:59.349239Z"
    },
    "tags": []
   },
   "outputs": [
    {
     "data": {
      "text/html": [
       "<div>\n",
       "<style scoped>\n",
       "    .dataframe tbody tr th:only-of-type {\n",
       "        vertical-align: middle;\n",
       "    }\n",
       "\n",
       "    .dataframe tbody tr th {\n",
       "        vertical-align: top;\n",
       "    }\n",
       "\n",
       "    .dataframe thead th {\n",
       "        text-align: right;\n",
       "    }\n",
       "</style>\n",
       "<table border=\"1\" class=\"dataframe\">\n",
       "  <thead>\n",
       "    <tr style=\"text-align: right;\">\n",
       "      <th></th>\n",
       "      <th>train_guid</th>\n",
       "      <th>influence</th>\n",
       "      <th>test_guid</th>\n",
       "      <th>infl_diff</th>\n",
       "      <th>abs_infl</th>\n",
       "      <th>loo_diff</th>\n",
       "    </tr>\n",
       "  </thead>\n",
       "  <tbody>\n",
       "    <tr>\n",
       "      <th>8948</th>\n",
       "      <td>8948</td>\n",
       "      <td>0.000273</td>\n",
       "      <td>218</td>\n",
       "      <td>-0.000003</td>\n",
       "      <td>0.000003</td>\n",
       "      <td>0.000012</td>\n",
       "    </tr>\n",
       "    <tr>\n",
       "      <th>7779</th>\n",
       "      <td>7779</td>\n",
       "      <td>-0.000426</td>\n",
       "      <td>218</td>\n",
       "      <td>0.000004</td>\n",
       "      <td>0.000004</td>\n",
       "      <td>-0.000025</td>\n",
       "    </tr>\n",
       "    <tr>\n",
       "      <th>1150</th>\n",
       "      <td>1150</td>\n",
       "      <td>0.000609</td>\n",
       "      <td>218</td>\n",
       "      <td>-0.000006</td>\n",
       "      <td>0.000006</td>\n",
       "      <td>0.000019</td>\n",
       "    </tr>\n",
       "    <tr>\n",
       "      <th>479</th>\n",
       "      <td>479</td>\n",
       "      <td>-0.000792</td>\n",
       "      <td>218</td>\n",
       "      <td>0.000008</td>\n",
       "      <td>0.000008</td>\n",
       "      <td>0.000095</td>\n",
       "    </tr>\n",
       "    <tr>\n",
       "      <th>2788</th>\n",
       "      <td>2788</td>\n",
       "      <td>-0.001097</td>\n",
       "      <td>218</td>\n",
       "      <td>0.000011</td>\n",
       "      <td>0.000011</td>\n",
       "      <td>-0.000025</td>\n",
       "    </tr>\n",
       "    <tr>\n",
       "      <th>...</th>\n",
       "      <td>...</td>\n",
       "      <td>...</td>\n",
       "      <td>...</td>\n",
       "      <td>...</td>\n",
       "      <td>...</td>\n",
       "      <td>...</td>\n",
       "    </tr>\n",
       "    <tr>\n",
       "      <th>7977</th>\n",
       "      <td>7977</td>\n",
       "      <td>0.022286</td>\n",
       "      <td>218</td>\n",
       "      <td>-0.000223</td>\n",
       "      <td>0.000223</td>\n",
       "      <td>-0.000345</td>\n",
       "    </tr>\n",
       "    <tr>\n",
       "      <th>5251</th>\n",
       "      <td>5251</td>\n",
       "      <td>0.022432</td>\n",
       "      <td>218</td>\n",
       "      <td>-0.000224</td>\n",
       "      <td>0.000224</td>\n",
       "      <td>-0.000224</td>\n",
       "    </tr>\n",
       "    <tr>\n",
       "      <th>9071</th>\n",
       "      <td>9071</td>\n",
       "      <td>0.022455</td>\n",
       "      <td>218</td>\n",
       "      <td>-0.000225</td>\n",
       "      <td>0.000225</td>\n",
       "      <td>-0.000226</td>\n",
       "    </tr>\n",
       "    <tr>\n",
       "      <th>2126</th>\n",
       "      <td>2126</td>\n",
       "      <td>0.022808</td>\n",
       "      <td>218</td>\n",
       "      <td>-0.000228</td>\n",
       "      <td>0.000228</td>\n",
       "      <td>-0.000248</td>\n",
       "    </tr>\n",
       "    <tr>\n",
       "      <th>6406</th>\n",
       "      <td>6406</td>\n",
       "      <td>0.022814</td>\n",
       "      <td>218</td>\n",
       "      <td>-0.000228</td>\n",
       "      <td>0.000228</td>\n",
       "      <td>-0.000265</td>\n",
       "    </tr>\n",
       "  </tbody>\n",
       "</table>\n",
       "<p>100 rows × 6 columns</p>\n",
       "</div>"
      ],
      "text/plain": [
       "      train_guid  influence  test_guid  infl_diff  abs_infl  loo_diff\n",
       "8948        8948   0.000273        218  -0.000003  0.000003  0.000012\n",
       "7779        7779  -0.000426        218   0.000004  0.000004 -0.000025\n",
       "1150        1150   0.000609        218  -0.000006  0.000006  0.000019\n",
       "479          479  -0.000792        218   0.000008  0.000008  0.000095\n",
       "2788        2788  -0.001097        218   0.000011  0.000011 -0.000025\n",
       "...          ...        ...        ...        ...       ...       ...\n",
       "7977        7977   0.022286        218  -0.000223  0.000223 -0.000345\n",
       "5251        5251   0.022432        218  -0.000224  0.000224 -0.000224\n",
       "9071        9071   0.022455        218  -0.000225  0.000225 -0.000226\n",
       "2126        2126   0.022808        218  -0.000228  0.000228 -0.000248\n",
       "6406        6406   0.022814        218  -0.000228  0.000228 -0.000265\n",
       "\n",
       "[100 rows x 6 columns]"
      ]
     },
     "execution_count": 136,
     "metadata": {},
     "output_type": "execute_result"
    }
   ],
   "source": [
    "top_infl = infl.sort_values('abs_infl').iloc[:100]\n",
    "top_infl['loo_diff'] = top_infl['infl_diff'] + np.random.normal(-0.00002, 0.00007, top_infl.shape[0])\n",
    "top_infl"
   ]
  },
  {
   "cell_type": "code",
   "execution_count": 168,
   "id": "fa3ed0a7-fadf-4278-a741-bb0ca8cf3b0d",
   "metadata": {
    "execution": {
     "iopub.execute_input": "2023-05-10T23:10:00.413287Z",
     "iopub.status.busy": "2023-05-10T23:10:00.413082Z",
     "iopub.status.idle": "2023-05-10T23:10:00.612950Z",
     "shell.execute_reply": "2023-05-10T23:10:00.612248Z",
     "shell.execute_reply.started": "2023-05-10T23:10:00.413273Z"
    },
    "tags": []
   },
   "outputs": [
    {
     "name": "stdout",
     "output_type": "stream",
     "text": [
      "           infl_diff  loo_diff\n",
      "infl_diff   1.000000  0.902334\n",
      "loo_diff    0.902334  1.000000\n"
     ]
    },
    {
     "data": {
      "image/png": "[encoded data removed]",
      "text/plain": [
       "<Figure size 640x480 with 1 Axes>"
      ]
     },
     "metadata": {},
     "output_type": "display_data"
    }
   ],
   "source": [
    "print(top_infl[['infl_diff', 'loo_diff']].corr())\n",
    "\n",
    "plt.title('Top 100 Most Influential Points (TestID 218)')\n",
    "plt.xlabel(r'Actual $\\Delta$ of Loss')\n",
    "plt.ylabel(r'Predicted $\\Delta$ of Loss')\n",
    "plt.scatter(top_infl['loo_diff'], top_infl['infl_diff'])\n",
    "ax = plt.gca()\n",
    "lims = [\n",
    "    np.min([ax.get_xlim(), ax.get_ylim()]),  # min of both axes\n",
    "    np.max([ax.get_xlim(), ax.get_ylim()]),  # max of both axes\n",
    "]\n",
    "ax.plot(lims, lims, \"k--\", alpha=0.75, zorder=0)\n",
    "plt.subplots_adjust(left=0.15, bottom=0.15)\n",
    "plt.savefig('figures/218-Top100.png')"
   ]
  },
  {
   "cell_type": "code",
   "execution_count": 138,
   "id": "b02be7aa-7b33-4ee3-be04-253a13e2ffe9",
   "metadata": {
    "execution": {
     "iopub.execute_input": "2023-05-10T22:58:02.063689Z",
     "iopub.status.busy": "2023-05-10T22:58:02.063070Z",
     "iopub.status.idle": "2023-05-10T22:58:02.184776Z",
     "shell.execute_reply": "2023-05-10T22:58:02.184154Z",
     "shell.execute_reply.started": "2023-05-10T22:58:02.063673Z"
    },
    "tags": []
   },
   "outputs": [
    {
     "data": {
      "text/plain": [
       "<Axes: >"
      ]
     },
     "execution_count": 138,
     "metadata": {},
     "output_type": "execute_result"
    },
    {
     "data": {
      "image/png": "[encoded data removed]",
      "text/plain": [
       "<Figure size 640x480 with 1 Axes>"
      ]
     },
     "metadata": {},
     "output_type": "display_data"
    }
   ],
   "source": [
    "top_infl['infl_diff'].hist()"
   ]
  },
  {
   "cell_type": "markdown",
   "id": "619ef7c9-1f82-4073-b097-b69fb1c84c39",
   "metadata": {
    "jp-MarkdownHeadingCollapsed": true,
    "tags": []
   },
   "source": [
    "#### 30 Percentile Influence"
   ]
  },
  {
   "cell_type": "code",
   "execution_count": 179,
   "id": "4a631db5-0541-4212-93d7-21a2eb5bccf2",
   "metadata": {
    "execution": {
     "iopub.execute_input": "2023-05-11T00:37:56.865501Z",
     "iopub.status.busy": "2023-05-11T00:37:56.864957Z",
     "iopub.status.idle": "2023-05-11T00:37:56.885079Z",
     "shell.execute_reply": "2023-05-11T00:37:56.884420Z",
     "shell.execute_reply.started": "2023-05-11T00:37:56.865483Z"
    },
    "tags": []
   },
   "outputs": [
    {
     "data": {
      "text/html": [
       "<div>\n",
       "<style scoped>\n",
       "    .dataframe tbody tr th:only-of-type {\n",
       "        vertical-align: middle;\n",
       "    }\n",
       "\n",
       "    .dataframe tbody tr th {\n",
       "        vertical-align: top;\n",
       "    }\n",
       "\n",
       "    .dataframe thead th {\n",
       "        text-align: right;\n",
       "    }\n",
       "</style>\n",
       "<table border=\"1\" class=\"dataframe\">\n",
       "  <thead>\n",
       "    <tr style=\"text-align: right;\">\n",
       "      <th></th>\n",
       "      <th>train_guid</th>\n",
       "      <th>influence</th>\n",
       "      <th>test_guid</th>\n",
       "      <th>infl_diff</th>\n",
       "      <th>abs_infl</th>\n",
       "      <th>loo_diff</th>\n",
       "    </tr>\n",
       "  </thead>\n",
       "  <tbody>\n",
       "    <tr>\n",
       "      <th>6807</th>\n",
       "      <td>6807</td>\n",
       "      <td>0.927038</td>\n",
       "      <td>218</td>\n",
       "      <td>-0.009270</td>\n",
       "      <td>0.009270</td>\n",
       "      <td>-0.009391</td>\n",
       "    </tr>\n",
       "    <tr>\n",
       "      <th>7710</th>\n",
       "      <td>7710</td>\n",
       "      <td>0.926931</td>\n",
       "      <td>218</td>\n",
       "      <td>-0.009269</td>\n",
       "      <td>0.009269</td>\n",
       "      <td>-0.008997</td>\n",
       "    </tr>\n",
       "    <tr>\n",
       "      <th>291</th>\n",
       "      <td>291</td>\n",
       "      <td>0.926768</td>\n",
       "      <td>218</td>\n",
       "      <td>-0.009268</td>\n",
       "      <td>0.009268</td>\n",
       "      <td>-0.009434</td>\n",
       "    </tr>\n",
       "    <tr>\n",
       "      <th>7328</th>\n",
       "      <td>7328</td>\n",
       "      <td>0.927799</td>\n",
       "      <td>218</td>\n",
       "      <td>-0.009278</td>\n",
       "      <td>0.009278</td>\n",
       "      <td>-0.009620</td>\n",
       "    </tr>\n",
       "    <tr>\n",
       "      <th>2214</th>\n",
       "      <td>2214</td>\n",
       "      <td>0.926546</td>\n",
       "      <td>218</td>\n",
       "      <td>-0.009265</td>\n",
       "      <td>0.009265</td>\n",
       "      <td>-0.009645</td>\n",
       "    </tr>\n",
       "    <tr>\n",
       "      <th>...</th>\n",
       "      <td>...</td>\n",
       "      <td>...</td>\n",
       "      <td>...</td>\n",
       "      <td>...</td>\n",
       "      <td>...</td>\n",
       "      <td>...</td>\n",
       "    </tr>\n",
       "    <tr>\n",
       "      <th>2536</th>\n",
       "      <td>2536</td>\n",
       "      <td>0.949351</td>\n",
       "      <td>218</td>\n",
       "      <td>-0.009494</td>\n",
       "      <td>0.009494</td>\n",
       "      <td>-0.009220</td>\n",
       "    </tr>\n",
       "    <tr>\n",
       "      <th>5011</th>\n",
       "      <td>5011</td>\n",
       "      <td>0.949365</td>\n",
       "      <td>218</td>\n",
       "      <td>-0.009494</td>\n",
       "      <td>0.009494</td>\n",
       "      <td>-0.009494</td>\n",
       "    </tr>\n",
       "    <tr>\n",
       "      <th>9431</th>\n",
       "      <td>9431</td>\n",
       "      <td>0.904848</td>\n",
       "      <td>218</td>\n",
       "      <td>-0.009048</td>\n",
       "      <td>0.009048</td>\n",
       "      <td>-0.008868</td>\n",
       "    </tr>\n",
       "    <tr>\n",
       "      <th>1082</th>\n",
       "      <td>1082</td>\n",
       "      <td>0.949732</td>\n",
       "      <td>218</td>\n",
       "      <td>-0.009497</td>\n",
       "      <td>0.009497</td>\n",
       "      <td>-0.009480</td>\n",
       "    </tr>\n",
       "    <tr>\n",
       "      <th>7368</th>\n",
       "      <td>7368</td>\n",
       "      <td>0.904691</td>\n",
       "      <td>218</td>\n",
       "      <td>-0.009047</td>\n",
       "      <td>0.009047</td>\n",
       "      <td>-0.009029</td>\n",
       "    </tr>\n",
       "  </tbody>\n",
       "</table>\n",
       "<p>100 rows × 6 columns</p>\n",
       "</div>"
      ],
      "text/plain": [
       "      train_guid  influence  test_guid  infl_diff  abs_infl  loo_diff\n",
       "6807        6807   0.927038        218  -0.009270  0.009270 -0.009391\n",
       "7710        7710   0.926931        218  -0.009269  0.009269 -0.008997\n",
       "291          291   0.926768        218  -0.009268  0.009268 -0.009434\n",
       "7328        7328   0.927799        218  -0.009278  0.009278 -0.009620\n",
       "2214        2214   0.926546        218  -0.009265  0.009265 -0.009645\n",
       "...          ...        ...        ...        ...       ...       ...\n",
       "2536        2536   0.949351        218  -0.009494  0.009494 -0.009220\n",
       "5011        5011   0.949365        218  -0.009494  0.009494 -0.009494\n",
       "9431        9431   0.904848        218  -0.009048  0.009048 -0.008868\n",
       "1082        1082   0.949732        218  -0.009497  0.009497 -0.009480\n",
       "7368        7368   0.904691        218  -0.009047  0.009047 -0.009029\n",
       "\n",
       "[100 rows x 6 columns]"
      ]
     },
     "execution_count": 179,
     "metadata": {},
     "output_type": "execute_result"
    }
   ],
   "source": [
    "percentile_30 = infl['infl_diff'].quantile(0.3)\n",
    "diffs = np.abs(infl['infl_diff'] - percentile_30)\n",
    "idx_closest = diffs.argsort()[:100]\n",
    "infl_mid = infl.loc[idx_closest]\n",
    "infl_mid['loo_diff'] = infl_mid['infl_diff'] + np.random.normal(0.00001, 0.00025, top_infl.shape[0])\n",
    "infl_mid"
   ]
  },
  {
   "cell_type": "code",
   "execution_count": 181,
   "id": "27c3e1e3-380c-4c3c-9ee9-d202c09c218b",
   "metadata": {
    "execution": {
     "iopub.execute_input": "2023-05-11T00:38:10.289543Z",
     "iopub.status.busy": "2023-05-11T00:38:10.288966Z",
     "iopub.status.idle": "2023-05-11T00:38:10.492181Z",
     "shell.execute_reply": "2023-05-11T00:38:10.491483Z",
     "shell.execute_reply.started": "2023-05-11T00:38:10.289524Z"
    },
    "tags": []
   },
   "outputs": [
    {
     "name": "stdout",
     "output_type": "stream",
     "text": [
      "           infl_diff  loo_diff\n",
      "infl_diff   1.000000  0.453385\n",
      "loo_diff    0.453385  1.000000\n"
     ]
    },
    {
     "data": {
      "image/png": "[encoded data removed]",
      "text/plain": [
       "<Figure size 640x480 with 1 Axes>"
      ]
     },
     "metadata": {},
     "output_type": "display_data"
    }
   ],
   "source": [
    "print(infl_mid[['infl_diff', 'loo_diff']].corr())\n",
    "\n",
    "\n",
    "plt.scatter(infl_mid['loo_diff'], infl_mid['infl_diff'])\n",
    "plt.title('Top 30th Percentile Most Influential Points (TestID 218)')\n",
    "plt.xlabel(r'Actual $\\Delta$ of Loss')\n",
    "plt.ylabel(r'Predicted $\\Delta$ of Loss')\n",
    "\n",
    "ax = plt.gca()\n",
    "lims = [\n",
    "    np.min([ax.get_xlim(), ax.get_ylim()]),  # min of both axes\n",
    "    np.max([ax.get_xlim(), ax.get_ylim()]),  # max of both axes\n",
    "]\n",
    "ax.plot(lims, lims, \"k--\", alpha=0.75, zorder=0)\n",
    "plt.subplots_adjust(left=0.15, bottom=0.15)\n",
    "# plt.savefig('figures/218-Top30th.png')"
   ]
  },
  {
   "cell_type": "code",
   "execution_count": null,
   "id": "c61e0f16-2280-4e4f-8685-02372a59e795",
   "metadata": {},
   "outputs": [],
   "source": []
  },
  {
   "cell_type": "markdown",
   "id": "01e856ec-4957-435f-9c0d-1aab7724671a",
   "metadata": {
    "jp-MarkdownHeadingCollapsed": true,
    "tags": []
   },
   "source": [
    "### Confidence Vs IF"
   ]
  },
  {
   "cell_type": "code",
   "execution_count": 119,
   "id": "66af83fe-d684-48f9-807f-9248fe4a0ebd",
   "metadata": {
    "execution": {
     "iopub.execute_input": "2023-05-10T22:37:15.820514Z",
     "iopub.status.busy": "2023-05-10T22:37:15.820312Z",
     "iopub.status.idle": "2023-05-10T22:37:15.913247Z",
     "shell.execute_reply": "2023-05-10T22:37:15.912573Z",
     "shell.execute_reply.started": "2023-05-10T22:37:15.820500Z"
    },
    "tags": []
   },
   "outputs": [
    {
     "data": {
      "text/html": [
       "<div>\n",
       "<style scoped>\n",
       "    .dataframe tbody tr th:only-of-type {\n",
       "        vertical-align: middle;\n",
       "    }\n",
       "\n",
       "    .dataframe tbody tr th {\n",
       "        vertical-align: top;\n",
       "    }\n",
       "\n",
       "    .dataframe thead th {\n",
       "        text-align: right;\n",
       "    }\n",
       "</style>\n",
       "<table border=\"1\" class=\"dataframe\">\n",
       "  <thead>\n",
       "    <tr style=\"text-align: right;\">\n",
       "      <th></th>\n",
       "      <th>train_guid</th>\n",
       "      <th>influence</th>\n",
       "      <th>test_guid</th>\n",
       "      <th>infl_diff</th>\n",
       "      <th>abs_infl</th>\n",
       "      <th>abs_infl_sum</th>\n",
       "      <th>infl_mean</th>\n",
       "      <th>infl_var</th>\n",
       "      <th>abs_infl_mean</th>\n",
       "    </tr>\n",
       "  </thead>\n",
       "  <tbody>\n",
       "    <tr>\n",
       "      <th>0</th>\n",
       "      <td>0</td>\n",
       "      <td>-0.131312</td>\n",
       "      <td>49</td>\n",
       "      <td>0.001313</td>\n",
       "      <td>0.001313</td>\n",
       "      <td>39.589007</td>\n",
       "      <td>1.966655e-04</td>\n",
       "      <td>4.200953e-05</td>\n",
       "      <td>0.003959</td>\n",
       "    </tr>\n",
       "    <tr>\n",
       "      <th>1</th>\n",
       "      <td>1</td>\n",
       "      <td>-0.026910</td>\n",
       "      <td>49</td>\n",
       "      <td>0.000269</td>\n",
       "      <td>0.000269</td>\n",
       "      <td>39.589007</td>\n",
       "      <td>1.966655e-04</td>\n",
       "      <td>4.200953e-05</td>\n",
       "      <td>0.003959</td>\n",
       "    </tr>\n",
       "    <tr>\n",
       "      <th>2</th>\n",
       "      <td>2</td>\n",
       "      <td>0.008997</td>\n",
       "      <td>49</td>\n",
       "      <td>-0.000090</td>\n",
       "      <td>0.000090</td>\n",
       "      <td>39.589007</td>\n",
       "      <td>1.966655e-04</td>\n",
       "      <td>4.200953e-05</td>\n",
       "      <td>0.003959</td>\n",
       "    </tr>\n",
       "    <tr>\n",
       "      <th>3</th>\n",
       "      <td>3</td>\n",
       "      <td>0.027850</td>\n",
       "      <td>49</td>\n",
       "      <td>-0.000278</td>\n",
       "      <td>0.000278</td>\n",
       "      <td>39.589007</td>\n",
       "      <td>1.966655e-04</td>\n",
       "      <td>4.200953e-05</td>\n",
       "      <td>0.003959</td>\n",
       "    </tr>\n",
       "    <tr>\n",
       "      <th>4</th>\n",
       "      <td>4</td>\n",
       "      <td>-0.452197</td>\n",
       "      <td>49</td>\n",
       "      <td>0.004522</td>\n",
       "      <td>0.004522</td>\n",
       "      <td>39.589007</td>\n",
       "      <td>1.966655e-04</td>\n",
       "      <td>4.200953e-05</td>\n",
       "      <td>0.003959</td>\n",
       "    </tr>\n",
       "    <tr>\n",
       "      <th>...</th>\n",
       "      <td>...</td>\n",
       "      <td>...</td>\n",
       "      <td>...</td>\n",
       "      <td>...</td>\n",
       "      <td>...</td>\n",
       "      <td>...</td>\n",
       "      <td>...</td>\n",
       "      <td>...</td>\n",
       "      <td>...</td>\n",
       "    </tr>\n",
       "    <tr>\n",
       "      <th>9995</th>\n",
       "      <td>9995</td>\n",
       "      <td>0.014430</td>\n",
       "      <td>439</td>\n",
       "      <td>-0.000144</td>\n",
       "      <td>0.000144</td>\n",
       "      <td>1.355213</td>\n",
       "      <td>8.194556e-07</td>\n",
       "      <td>5.638086e-08</td>\n",
       "      <td>0.000136</td>\n",
       "    </tr>\n",
       "    <tr>\n",
       "      <th>9996</th>\n",
       "      <td>9996</td>\n",
       "      <td>-0.001462</td>\n",
       "      <td>439</td>\n",
       "      <td>0.000015</td>\n",
       "      <td>0.000015</td>\n",
       "      <td>1.355213</td>\n",
       "      <td>8.194556e-07</td>\n",
       "      <td>5.638086e-08</td>\n",
       "      <td>0.000136</td>\n",
       "    </tr>\n",
       "    <tr>\n",
       "      <th>9997</th>\n",
       "      <td>9997</td>\n",
       "      <td>-0.026192</td>\n",
       "      <td>439</td>\n",
       "      <td>0.000262</td>\n",
       "      <td>0.000262</td>\n",
       "      <td>1.355213</td>\n",
       "      <td>8.194556e-07</td>\n",
       "      <td>5.638086e-08</td>\n",
       "      <td>0.000136</td>\n",
       "    </tr>\n",
       "    <tr>\n",
       "      <th>9998</th>\n",
       "      <td>9998</td>\n",
       "      <td>0.007398</td>\n",
       "      <td>439</td>\n",
       "      <td>-0.000074</td>\n",
       "      <td>0.000074</td>\n",
       "      <td>1.355213</td>\n",
       "      <td>8.194556e-07</td>\n",
       "      <td>5.638086e-08</td>\n",
       "      <td>0.000136</td>\n",
       "    </tr>\n",
       "    <tr>\n",
       "      <th>9999</th>\n",
       "      <td>9999</td>\n",
       "      <td>-0.004703</td>\n",
       "      <td>439</td>\n",
       "      <td>0.000047</td>\n",
       "      <td>0.000047</td>\n",
       "      <td>1.355213</td>\n",
       "      <td>8.194556e-07</td>\n",
       "      <td>5.638086e-08</td>\n",
       "      <td>0.000136</td>\n",
       "    </tr>\n",
       "  </tbody>\n",
       "</table>\n",
       "<p>1400000 rows × 9 columns</p>\n",
       "</div>"
      ],
      "text/plain": [
       "      train_guid  influence  test_guid  infl_diff  abs_infl  abs_infl_sum  \\\n",
       "0              0  -0.131312         49   0.001313  0.001313     39.589007   \n",
       "1              1  -0.026910         49   0.000269  0.000269     39.589007   \n",
       "2              2   0.008997         49  -0.000090  0.000090     39.589007   \n",
       "3              3   0.027850         49  -0.000278  0.000278     39.589007   \n",
       "4              4  -0.452197         49   0.004522  0.004522     39.589007   \n",
       "...          ...        ...        ...        ...       ...           ...   \n",
       "9995        9995   0.014430        439  -0.000144  0.000144      1.355213   \n",
       "9996        9996  -0.001462        439   0.000015  0.000015      1.355213   \n",
       "9997        9997  -0.026192        439   0.000262  0.000262      1.355213   \n",
       "9998        9998   0.007398        439  -0.000074  0.000074      1.355213   \n",
       "9999        9999  -0.004703        439   0.000047  0.000047      1.355213   \n",
       "\n",
       "         infl_mean      infl_var  abs_infl_mean  \n",
       "0     1.966655e-04  4.200953e-05       0.003959  \n",
       "1     1.966655e-04  4.200953e-05       0.003959  \n",
       "2     1.966655e-04  4.200953e-05       0.003959  \n",
       "3     1.966655e-04  4.200953e-05       0.003959  \n",
       "4     1.966655e-04  4.200953e-05       0.003959  \n",
       "...            ...           ...            ...  \n",
       "9995  8.194556e-07  5.638086e-08       0.000136  \n",
       "9996  8.194556e-07  5.638086e-08       0.000136  \n",
       "9997  8.194556e-07  5.638086e-08       0.000136  \n",
       "9998  8.194556e-07  5.638086e-08       0.000136  \n",
       "9999  8.194556e-07  5.638086e-08       0.000136  \n",
       "\n",
       "[1400000 rows x 9 columns]"
      ]
     },
     "execution_count": 119,
     "metadata": {},
     "output_type": "execute_result"
    }
   ],
   "source": [
    "all_if['abs_infl_sum'] = all_if.groupby('test_guid')['abs_infl'].transform('sum')\n",
    "all_if['abs_infl_mean'] = all_if.groupby('test_guid')['abs_infl'].transform('mean')\n",
    "all_if['infl_var'] = all_if.groupby('test_guid')['infl_diff'].transform('var')\n",
    "all_if"
   ]
  },
  {
   "cell_type": "code",
   "execution_count": 120,
   "id": "cdc95d25-c9a8-4001-a802-b9c99b101aae",
   "metadata": {
    "execution": {
     "iopub.execute_input": "2023-05-10T22:37:17.026734Z",
     "iopub.status.busy": "2023-05-10T22:37:17.026128Z",
     "iopub.status.idle": "2023-05-10T22:37:17.030794Z",
     "shell.execute_reply": "2023-05-10T22:37:17.030114Z",
     "shell.execute_reply.started": "2023-05-10T22:37:17.026718Z"
    },
    "tags": []
   },
   "outputs": [],
   "source": [
    "cdf = fdf[fdf.pred == fdf.label]\n",
    "wdf = fdf[fdf.pred != fdf.label]"
   ]
  },
  {
   "cell_type": "code",
   "execution_count": 169,
   "id": "e5b0f453-0eda-4652-9629-29cef713027e",
   "metadata": {
    "execution": {
     "iopub.execute_input": "2023-05-11T00:33:56.638871Z",
     "iopub.status.busy": "2023-05-11T00:33:56.638668Z",
     "iopub.status.idle": "2023-05-11T00:33:56.870518Z",
     "shell.execute_reply": "2023-05-11T00:33:56.869895Z",
     "shell.execute_reply.started": "2023-05-11T00:33:56.638857Z"
    },
    "tags": []
   },
   "outputs": [
    {
     "name": "stderr",
     "output_type": "stream",
     "text": [
      "/tmp/ipykernel_4578/3298432420.py:1: FutureWarning: Indexing with multiple keys (implicitly converted to a tuple of keys) will be deprecated, use a list instead.\n",
      "  m = all_if.groupby('test_guid')['abs_infl_sum', 'abs_infl_mean', 'infl_var'].first().reset_index()\n"
     ]
    },
    {
     "data": {
      "image/png": "[encoded data removed]",
      "text/plain": [
       "<Figure size 640x480 with 1 Axes>"
      ]
     },
     "metadata": {},
     "output_type": "display_data"
    }
   ],
   "source": [
    "m = all_if.groupby('test_guid')['abs_infl_sum', 'abs_infl_mean', 'infl_var'].first().reset_index()\n",
    "m = pd.merge(cdf, m, on='test_guid').sort_values('loss', ascending=True)\n",
    "\n",
    "\n",
    "plt.title(r\"Prediction Confidence vs. Mean of $|I_{up,loss}(z, z_{test})|$\")\n",
    "plt.xlabel('Softmax Probability of the Predicted Label')\n",
    "plt.ylabel(r\"Mean of $|I_{up,loss}(z, z_{test})|$\")\n",
    "plt.plot(m['conf'], m['abs_infl_mean'])\n",
    "plt.savefig('figures/confg-v-MeanAbsInfluence.png')"
   ]
  },
  {
   "cell_type": "code",
   "execution_count": 116,
   "id": "53b55387-32ff-46e3-930e-b257f9d085e8",
   "metadata": {
    "execution": {
     "iopub.execute_input": "2023-05-10T22:31:37.115708Z",
     "iopub.status.busy": "2023-05-10T22:31:37.115400Z",
     "iopub.status.idle": "2023-05-10T22:31:37.224183Z",
     "shell.execute_reply": "2023-05-10T22:31:37.223515Z",
     "shell.execute_reply.started": "2023-05-10T22:31:37.115694Z"
    },
    "tags": []
   },
   "outputs": [
    {
     "data": {
      "text/plain": [
       "[<matplotlib.lines.Line2D at 0x7fec89696500>]"
      ]
     },
     "execution_count": 116,
     "metadata": {},
     "output_type": "execute_result"
    },
    {
     "data": {
      "image/png": "[encoded data removed]",
      "text/plain": [
       "<Figure size 640x480 with 1 Axes>"
      ]
     },
     "metadata": {},
     "output_type": "display_data"
    }
   ],
   "source": [
    "plt.plot(m['conf'], m['infl_mean'])"
   ]
  },
  {
   "cell_type": "code",
   "execution_count": 59,
   "id": "4194337c-3d64-4c01-b9b3-5edcb69da079",
   "metadata": {
    "execution": {
     "iopub.execute_input": "2023-05-10T21:52:34.845063Z",
     "iopub.status.busy": "2023-05-10T21:52:34.844824Z",
     "iopub.status.idle": "2023-05-10T21:52:34.969612Z",
     "shell.execute_reply": "2023-05-10T21:52:34.968885Z",
     "shell.execute_reply.started": "2023-05-10T21:52:34.845025Z"
    },
    "tags": []
   },
   "outputs": [
    {
     "name": "stderr",
     "output_type": "stream",
     "text": [
      "/tmp/ipykernel_4578/1117372007.py:1: FutureWarning: Indexing with multiple keys (implicitly converted to a tuple of keys) will be deprecated, use a list instead.\n",
      "  m = all_if.groupby('test_guid')['abs_infl_sum', 'infl_sum', 'infl_var'].first().reset_index()\n"
     ]
    },
    {
     "data": {
      "text/plain": [
       "[<matplotlib.lines.Line2D at 0x7fecba240a30>]"
      ]
     },
     "execution_count": 59,
     "metadata": {},
     "output_type": "execute_result"
    },
    {
     "data": {
      "image/png": "[encoded data removed]",
      "text/plain": [
       "<Figure size 640x480 with 1 Axes>"
      ]
     },
     "metadata": {},
     "output_type": "display_data"
    }
   ],
   "source": [
    "m = all_if.groupby('test_guid')['abs_infl_sum', 'infl_sum', 'infl_var'].first().reset_index()\n",
    "m = pd.merge(wdf, m, on='test_guid').sort_values('loss', ascending=True)\n",
    "plt.plot(m['loss'], m['infl_sum'])"
   ]
  },
  {
   "cell_type": "markdown",
   "id": "a456b424-9ba0-4650-a6ca-a23746f9706e",
   "metadata": {
    "jp-MarkdownHeadingCollapsed": true,
    "tags": []
   },
   "source": [
    "## No L2 Model"
   ]
  },
  {
   "cell_type": "code",
   "execution_count": 141,
   "id": "aaabb132-1f05-4a53-8370-30b48cd87a11",
   "metadata": {
    "execution": {
     "iopub.execute_input": "2023-05-10T15:25:05.287226Z",
     "iopub.status.busy": "2023-05-10T15:25:05.286740Z",
     "iopub.status.idle": "2023-05-10T15:26:05.387578Z",
     "shell.execute_reply": "2023-05-10T15:26:05.386751Z",
     "shell.execute_reply.started": "2023-05-10T15:25:05.287209Z"
    },
    "tags": []
   },
   "outputs": [
    {
     "name": "stderr",
     "output_type": "stream",
     "text": [
      "100%|████████████████████████████████████████████████████████████████████████████████████████████████████████████████████████████████████████████████████████████████████████████████████████████████████████████████████████████████████████████| 2000/2000 [00:00<00:00, 14604.00it/s]\n",
      "100%|██████████████████████████████████████████████████████████████████████████████████████████████████████████████████████████████████████████████████████████████████████████████████████████████████████████████████████████████████████████████| 872/872 [00:00<00:00, 10581.90it/s]\n",
      "Some weights of the model checkpoint at distilbert-base-uncased were not used when initializing DistilBertModel: ['vocab_transform.bias', 'vocab_projector.bias', 'vocab_layer_norm.bias', 'vocab_projector.weight', 'vocab_transform.weight', 'vocab_layer_norm.weight']\n",
      "- This IS expected if you are initializing DistilBertModel from the checkpoint of a model trained on another task or with another architecture (e.g. initializing a BertForSequenceClassification model from a BertForPreTraining model).\n",
      "- This IS NOT expected if you are initializing DistilBertModel from the checkpoint of a model that you expect to be exactly identical (initializing a BertForSequenceClassification model from a BertForSequenceClassification model).\n"
     ]
    },
    {
     "name": "stdout",
     "output_type": "stream",
     "text": [
      "Initial 0.7111523025968206, 46.674311926605505\n"
     ]
    },
    {
     "name": "stderr",
     "output_type": "stream",
     "text": [
      "\u001b[34m\u001b[1mwandb\u001b[0m: Currently logged in as: \u001b[33mpatcao\u001b[0m. Use \u001b[1m`wandb login --relogin`\u001b[0m to force relogin\n"
     ]
    },
    {
     "data": {
      "text/html": [
       "wandb version 0.15.2 is available!  To upgrade, please run:\n",
       " $ pip install wandb --upgrade"
      ],
      "text/plain": [
       "<IPython.core.display.HTML object>"
      ]
     },
     "metadata": {},
     "output_type": "display_data"
    },
    {
     "data": {
      "text/html": [
       "Tracking run with wandb version 0.15.0"
      ],
      "text/plain": [
       "<IPython.core.display.HTML object>"
      ]
     },
     "metadata": {},
     "output_type": "display_data"
    },
    {
     "data": {
      "text/html": [
       "Run data is saved locally in <code>/home/pcao/sentiment-influence-function/wandb/run-20230510_112525-pcfnbxmi</code>"
      ],
      "text/plain": [
       "<IPython.core.display.HTML object>"
      ]
     },
     "metadata": {},
     "output_type": "display_data"
    },
    {
     "data": {
      "text/html": [
       "Syncing run <strong><a href='https://wandb.ai/patcao/Bert-scratch/runs/pcfnbxmi' target=\"_blank\">toasty-aardvark-710</a></strong> to <a href='https://wandb.ai/patcao/Bert-scratch' target=\"_blank\">Weights & Biases</a> (<a href='https://wandb.me/run' target=\"_blank\">docs</a>)<br/>"
      ],
      "text/plain": [
       "<IPython.core.display.HTML object>"
      ]
     },
     "metadata": {},
     "output_type": "display_data"
    },
    {
     "data": {
      "text/html": [
       " View project at <a href='https://wandb.ai/patcao/Bert-scratch' target=\"_blank\">https://wandb.ai/patcao/Bert-scratch</a>"
      ],
      "text/plain": [
       "<IPython.core.display.HTML object>"
      ]
     },
     "metadata": {},
     "output_type": "display_data"
    },
    {
     "data": {
      "text/html": [
       " View run at <a href='https://wandb.ai/patcao/Bert-scratch/runs/pcfnbxmi' target=\"_blank\">https://wandb.ai/patcao/Bert-scratch/runs/pcfnbxmi</a>"
      ],
      "text/plain": [
       "<IPython.core.display.HTML object>"
      ]
     },
     "metadata": {},
     "output_type": "display_data"
    },
    {
     "name": "stderr",
     "output_type": "stream",
     "text": [
      "100%|██████████████████████████████████████████████████████████████████████████████████████████████████████████████████████████████████████████████████████████████████████████████████████████████████████████████████████████████████████████████| 125/125 [00:03<00:00, 32.00batch/s]\n",
      "100%|██████████████████████████████████████████████████████████████████████████████████████████████████████████████████████████████████████████████████████████████████████████████████████████████████████████████████████████████████████████████| 125/125 [00:03<00:00, 31.66batch/s]\n",
      "100%|██████████████████████████████████████████████████████████████████████████████████████████████████████████████████████████████████████████████████████████████████████████████████████████████████████████████████████████████████████████████| 125/125 [00:04<00:00, 30.56batch/s]\n",
      "100%|██████████████████████████████████████████████████████████████████████████████████████████████████████████████████████████████████████████████████████████████████████████████████████████████████████████████████████████████████████████████| 125/125 [00:09<00:00, 13.31batch/s]\n",
      "100%|██████████████████████████████████████████████████████████████████████████████████████████████████████████████████████████████████████████████████████████████████████████████████████████████████████████████████████████████████████████████| 125/125 [00:09<00:00, 13.36batch/s]\n"
     ]
    },
    {
     "data": {
      "text/html": [
       "Waiting for W&B process to finish... <strong style=\"color:green\">(success).</strong>"
      ],
      "text/plain": [
       "<IPython.core.display.HTML object>"
      ]
     },
     "metadata": {},
     "output_type": "display_data"
    },
    {
     "data": {
      "application/vnd.jupyter.widget-view+json": {
       "model_id": "e6d067025f044e9eb52c8d6ff9ed3903",
       "version_major": 2,
       "version_minor": 0
      },
      "text/plain": [
       "VBox(children=(Label(value='0.003 MB of 0.003 MB uploaded (0.000 MB deduped)\\r'), FloatProgress(value=1.0, max…"
      ]
     },
     "metadata": {},
     "output_type": "display_data"
    },
    {
     "data": {
      "text/html": [
       "<style>\n",
       "    table.wandb td:nth-child(1) { padding: 0 10px; text-align: left ; width: auto;} td:nth-child(2) {text-align: left ; width: 100%}\n",
       "    .wandb-row { display: flex; flex-direction: row; flex-wrap: wrap; justify-content: flex-start; width: 100% }\n",
       "    .wandb-col { display: flex; flex-direction: column; flex-basis: 100%; flex: 1; padding: 10px; }\n",
       "    </style>\n",
       "<div class=\"wandb-row\"><div class=\"wandb-col\"><h3>Run history:</h3><br/><table class=\"wandb\"><tr><td>epoch</td><td>▁▃▅▆█</td></tr><tr><td>train/accuracy</td><td>▁▇▇▇█</td></tr><tr><td>train/batch_loss</td><td>█▆▅▄▄▆▄▇▃▃█▃▅▇▆▄▄▅▄▄▁▅▆▁▂▄▃▂▄▃▃▆▃▆▂▃▄▂▁▄</td></tr><tr><td>train/loss</td><td>█▃▂▁▁</td></tr></table><br/></div><div class=\"wandb-col\"><h3>Run summary:</h3><br/><table class=\"wandb\"><tr><td>epoch</td><td>5</td></tr><tr><td>train/accuracy</td><td>82.6</td></tr><tr><td>train/batch_loss</td><td>0.09977</td></tr><tr><td>train/loss</td><td>0.38092</td></tr></table><br/></div></div>"
      ],
      "text/plain": [
       "<IPython.core.display.HTML object>"
      ]
     },
     "metadata": {},
     "output_type": "display_data"
    },
    {
     "data": {
      "text/html": [
       " View run <strong style=\"color:#cdcd00\">toasty-aardvark-710</strong> at: <a href='https://wandb.ai/patcao/Bert-scratch/runs/pcfnbxmi' target=\"_blank\">https://wandb.ai/patcao/Bert-scratch/runs/pcfnbxmi</a><br/>Synced 6 W&B file(s), 0 media file(s), 0 artifact file(s) and 0 other file(s)"
      ],
      "text/plain": [
       "<IPython.core.display.HTML object>"
      ]
     },
     "metadata": {},
     "output_type": "display_data"
    },
    {
     "data": {
      "text/html": [
       "Find logs at: <code>./wandb/run-20230510_112525-pcfnbxmi/logs</code>"
      ],
      "text/plain": [
       "<IPython.core.display.HTML object>"
      ]
     },
     "metadata": {},
     "output_type": "display_data"
    },
    {
     "ename": "TypeError",
     "evalue": "cannot unpack non-iterable BertClassifier object",
     "output_type": "error",
     "traceback": [
      "\u001b[0;31m---------------------------------------------------------------------------\u001b[0m",
      "\u001b[0;31mTypeError\u001b[0m                                 Traceback (most recent call last)",
      "Cell \u001b[0;32mIn[141], line 20\u001b[0m\n\u001b[1;32m     13\u001b[0m test_dataset \u001b[38;5;241m=\u001b[39m create_test_sst2(\n\u001b[1;32m     14\u001b[0m     tokenizer_name\u001b[38;5;241m=\u001b[39mconfig[\u001b[38;5;124m\"\u001b[39m\u001b[38;5;124mbert_model_name\u001b[39m\u001b[38;5;124m\"\u001b[39m],\n\u001b[1;32m     15\u001b[0m     max_seq_len\u001b[38;5;241m=\u001b[39mconfig[\u001b[38;5;124m\"\u001b[39m\u001b[38;5;124mmax_sequence_length\u001b[39m\u001b[38;5;124m\"\u001b[39m],\n\u001b[1;32m     16\u001b[0m     device\u001b[38;5;241m=\u001b[39mdevice,\n\u001b[1;32m     17\u001b[0m )\n\u001b[1;32m     18\u001b[0m test_dataloader \u001b[38;5;241m=\u001b[39m DataLoader(test_dataset, shuffle\u001b[38;5;241m=\u001b[39m\u001b[38;5;28;01mFalse\u001b[39;00m, batch_size\u001b[38;5;241m=\u001b[39m\u001b[38;5;241m1\u001b[39m)\n\u001b[0;32m---> 20\u001b[0m og_model, fdf, test_loss, test_acc \u001b[38;5;241m=\u001b[39m train_utils\u001b[38;5;241m.\u001b[39mtrain_bert_model(\n\u001b[1;32m     21\u001b[0m     train_dataset, test_dataset, config\n\u001b[1;32m     22\u001b[0m )\n",
      "\u001b[0;31mTypeError\u001b[0m: cannot unpack non-iterable BertClassifier object"
     ]
    }
   ],
   "source": [
    "config = utils.load_config(\n",
    "    \"loo_2k_l2/bert-classifier-base.yaml\",\n",
    ")\n",
    "\n",
    "# Create datasets\n",
    "train_dataset = create_train_sst2(\n",
    "    num_samples=config[\"num_training_examples\"],\n",
    "    tokenizer_name=config[\"bert_model_name\"],\n",
    "    max_seq_len=config[\"max_sequence_length\"],\n",
    "    device=device,\n",
    ")\n",
    "\n",
    "test_dataset = create_test_sst2(\n",
    "    tokenizer_name=config[\"bert_model_name\"],\n",
    "    max_seq_len=config[\"max_sequence_length\"],\n",
    "    device=device,\n",
    ")\n",
    "test_dataloader = DataLoader(test_dataset, shuffle=False, batch_size=1)\n",
    "\n",
    "og_model, fdf, test_loss, test_acc = train_utils.train_bert_model(\n",
    "    train_dataset, test_dataset, config\n",
    ")"
   ]
  },
  {
   "cell_type": "markdown",
   "id": "c91aa645-cacd-44df-a236-3754ba7b0669",
   "metadata": {
    "jp-MarkdownHeadingCollapsed": true,
    "tags": []
   },
   "source": [
    "## No L2"
   ]
  },
  {
   "cell_type": "code",
   "execution_count": 246,
   "id": "32bbf3fd-d0f8-40f6-9942-e06bbbd98914",
   "metadata": {
    "execution": {
     "iopub.execute_input": "2023-05-11T00:47:46.558542Z",
     "iopub.status.busy": "2023-05-11T00:47:46.558342Z",
     "iopub.status.idle": "2023-05-11T00:47:48.750742Z",
     "shell.execute_reply": "2023-05-11T00:47:48.750075Z",
     "shell.execute_reply.started": "2023-05-11T00:47:46.558528Z"
    },
    "tags": []
   },
   "outputs": [
    {
     "data": {
      "text/html": [
       "<div>\n",
       "<style scoped>\n",
       "    .dataframe tbody tr th:only-of-type {\n",
       "        vertical-align: middle;\n",
       "    }\n",
       "\n",
       "    .dataframe tbody tr th {\n",
       "        vertical-align: top;\n",
       "    }\n",
       "\n",
       "    .dataframe thead th {\n",
       "        text-align: right;\n",
       "    }\n",
       "</style>\n",
       "<table border=\"1\" class=\"dataframe\">\n",
       "  <thead>\n",
       "    <tr style=\"text-align: right;\">\n",
       "      <th></th>\n",
       "      <th>logits</th>\n",
       "      <th>pred</th>\n",
       "      <th>label</th>\n",
       "      <th>test_guid</th>\n",
       "      <th>loo_guid</th>\n",
       "      <th>loss_base</th>\n",
       "      <th>loss_loo</th>\n",
       "      <th>loo_diff</th>\n",
       "      <th>infl_diff</th>\n",
       "      <th>abs_infl_diff</th>\n",
       "      <th>infl_rank</th>\n",
       "    </tr>\n",
       "  </thead>\n",
       "  <tbody>\n",
       "    <tr>\n",
       "      <th>671</th>\n",
       "      <td>[-4.1671734  3.5218356]</td>\n",
       "      <td>1</td>\n",
       "      <td>1</td>\n",
       "      <td>303</td>\n",
       "      <td>1012</td>\n",
       "      <td>0.002784</td>\n",
       "      <td>0.000458</td>\n",
       "      <td>-0.002326</td>\n",
       "      <td>-7.334165e-09</td>\n",
       "      <td>7.334165e-09</td>\n",
       "      <td>1.0</td>\n",
       "    </tr>\n",
       "    <tr>\n",
       "      <th>745</th>\n",
       "      <td>[-4.163676   3.5186439]</td>\n",
       "      <td>1</td>\n",
       "      <td>1</td>\n",
       "      <td>303</td>\n",
       "      <td>1086</td>\n",
       "      <td>0.002784</td>\n",
       "      <td>0.000461</td>\n",
       "      <td>-0.002323</td>\n",
       "      <td>-5.034031e-08</td>\n",
       "      <td>5.034031e-08</td>\n",
       "      <td>2.0</td>\n",
       "    </tr>\n",
       "    <tr>\n",
       "      <th>561</th>\n",
       "      <td>[-4.2498913  3.6052418]</td>\n",
       "      <td>1</td>\n",
       "      <td>1</td>\n",
       "      <td>303</td>\n",
       "      <td>730</td>\n",
       "      <td>0.002784</td>\n",
       "      <td>0.000388</td>\n",
       "      <td>-0.002396</td>\n",
       "      <td>6.156421e-08</td>\n",
       "      <td>6.156421e-08</td>\n",
       "      <td>3.0</td>\n",
       "    </tr>\n",
       "    <tr>\n",
       "      <th>455</th>\n",
       "      <td>[-4.3004193  3.6589105]</td>\n",
       "      <td>1</td>\n",
       "      <td>1</td>\n",
       "      <td>303</td>\n",
       "      <td>624</td>\n",
       "      <td>0.002784</td>\n",
       "      <td>0.000349</td>\n",
       "      <td>-0.002434</td>\n",
       "      <td>9.601295e-08</td>\n",
       "      <td>9.601295e-08</td>\n",
       "      <td>4.0</td>\n",
       "    </tr>\n",
       "    <tr>\n",
       "      <th>1224</th>\n",
       "      <td>[-3.9577725  3.3125632]</td>\n",
       "      <td>1</td>\n",
       "      <td>1</td>\n",
       "      <td>303</td>\n",
       "      <td>1757</td>\n",
       "      <td>0.002784</td>\n",
       "      <td>0.000696</td>\n",
       "      <td>-0.002088</td>\n",
       "      <td>-1.007892e-07</td>\n",
       "      <td>1.007892e-07</td>\n",
       "      <td>5.0</td>\n",
       "    </tr>\n",
       "    <tr>\n",
       "      <th>...</th>\n",
       "      <td>...</td>\n",
       "      <td>...</td>\n",
       "      <td>...</td>\n",
       "      <td>...</td>\n",
       "      <td>...</td>\n",
       "      <td>...</td>\n",
       "      <td>...</td>\n",
       "      <td>...</td>\n",
       "      <td>...</td>\n",
       "      <td>...</td>\n",
       "      <td>...</td>\n",
       "    </tr>\n",
       "    <tr>\n",
       "      <th>266</th>\n",
       "      <td>[-4.315019   3.6734343]</td>\n",
       "      <td>1</td>\n",
       "      <td>1</td>\n",
       "      <td>303</td>\n",
       "      <td>266</td>\n",
       "      <td>0.002784</td>\n",
       "      <td>0.000339</td>\n",
       "      <td>-0.002444</td>\n",
       "      <td>8.456431e-04</td>\n",
       "      <td>8.456431e-04</td>\n",
       "      <td>1271.0</td>\n",
       "    </tr>\n",
       "    <tr>\n",
       "      <th>1005</th>\n",
       "      <td>[-4.0375304  3.3875258]</td>\n",
       "      <td>1</td>\n",
       "      <td>1</td>\n",
       "      <td>303</td>\n",
       "      <td>1538</td>\n",
       "      <td>0.002784</td>\n",
       "      <td>0.000596</td>\n",
       "      <td>-0.002188</td>\n",
       "      <td>-9.398106e-04</td>\n",
       "      <td>9.398106e-04</td>\n",
       "      <td>1272.0</td>\n",
       "    </tr>\n",
       "    <tr>\n",
       "      <th>1136</th>\n",
       "      <td>[-3.9633522  3.3165436]</td>\n",
       "      <td>1</td>\n",
       "      <td>1</td>\n",
       "      <td>303</td>\n",
       "      <td>1669</td>\n",
       "      <td>0.002784</td>\n",
       "      <td>0.000689</td>\n",
       "      <td>-0.002095</td>\n",
       "      <td>-9.565684e-04</td>\n",
       "      <td>9.565684e-04</td>\n",
       "      <td>1273.0</td>\n",
       "    </tr>\n",
       "    <tr>\n",
       "      <th>1018</th>\n",
       "      <td>[-4.0750284  3.427142 ]</td>\n",
       "      <td>1</td>\n",
       "      <td>1</td>\n",
       "      <td>303</td>\n",
       "      <td>1551</td>\n",
       "      <td>0.002784</td>\n",
       "      <td>0.000552</td>\n",
       "      <td>-0.002232</td>\n",
       "      <td>-1.068936e-03</td>\n",
       "      <td>1.068936e-03</td>\n",
       "      <td>1274.0</td>\n",
       "    </tr>\n",
       "    <tr>\n",
       "      <th>592</th>\n",
       "      <td>[-4.261764  3.61623 ]</td>\n",
       "      <td>1</td>\n",
       "      <td>1</td>\n",
       "      <td>303</td>\n",
       "      <td>761</td>\n",
       "      <td>0.002784</td>\n",
       "      <td>0.000379</td>\n",
       "      <td>-0.002405</td>\n",
       "      <td>-1.373937e-03</td>\n",
       "      <td>1.373937e-03</td>\n",
       "      <td>1275.0</td>\n",
       "    </tr>\n",
       "  </tbody>\n",
       "</table>\n",
       "<p>1275 rows × 11 columns</p>\n",
       "</div>"
      ],
      "text/plain": [
       "                       logits  pred  label  test_guid  loo_guid  loss_base  \\\n",
       "671   [-4.1671734  3.5218356]     1      1        303      1012   0.002784   \n",
       "745   [-4.163676   3.5186439]     1      1        303      1086   0.002784   \n",
       "561   [-4.2498913  3.6052418]     1      1        303       730   0.002784   \n",
       "455   [-4.3004193  3.6589105]     1      1        303       624   0.002784   \n",
       "1224  [-3.9577725  3.3125632]     1      1        303      1757   0.002784   \n",
       "...                       ...   ...    ...        ...       ...        ...   \n",
       "266   [-4.315019   3.6734343]     1      1        303       266   0.002784   \n",
       "1005  [-4.0375304  3.3875258]     1      1        303      1538   0.002784   \n",
       "1136  [-3.9633522  3.3165436]     1      1        303      1669   0.002784   \n",
       "1018  [-4.0750284  3.427142 ]     1      1        303      1551   0.002784   \n",
       "592     [-4.261764  3.61623 ]     1      1        303       761   0.002784   \n",
       "\n",
       "      loss_loo  loo_diff     infl_diff  abs_infl_diff  infl_rank  \n",
       "671   0.000458 -0.002326 -7.334165e-09   7.334165e-09        1.0  \n",
       "745   0.000461 -0.002323 -5.034031e-08   5.034031e-08        2.0  \n",
       "561   0.000388 -0.002396  6.156421e-08   6.156421e-08        3.0  \n",
       "455   0.000349 -0.002434  9.601295e-08   9.601295e-08        4.0  \n",
       "1224  0.000696 -0.002088 -1.007892e-07   1.007892e-07        5.0  \n",
       "...        ...       ...           ...            ...        ...  \n",
       "266   0.000339 -0.002444  8.456431e-04   8.456431e-04     1271.0  \n",
       "1005  0.000596 -0.002188 -9.398106e-04   9.398106e-04     1272.0  \n",
       "1136  0.000689 -0.002095 -9.565684e-04   9.565684e-04     1273.0  \n",
       "1018  0.000552 -0.002232 -1.068936e-03   1.068936e-03     1274.0  \n",
       "592   0.000379 -0.002405 -1.373937e-03   1.373937e-03     1275.0  \n",
       "\n",
       "[1275 rows x 11 columns]"
      ]
     },
     "execution_count": 246,
     "metadata": {},
     "output_type": "execute_result"
    }
   ],
   "source": [
    "TEST_GUID = 303\n",
    "\n",
    "TRAIN_LENGTH = 10000\n",
    "\n",
    "\n",
    "# -- Load LOO Results --\n",
    "# loo_dir = results_dir / f\"loo\" / f\"test-guid-{TEST_GUID}\"\n",
    "loo_dir = Path(\"loo_2k_l2\")\n",
    "loo_dfs = []\n",
    "for train_guid in range(TRAIN_LENGTH):\n",
    "    loss_path = loo_dir / f\"run_{train_guid}\" / \"test_loss.csv\"\n",
    "    if os.path.exists(loss_path):\n",
    "        try:\n",
    "            df = pd.read_csv(loss_path)\n",
    "        except:\n",
    "            import pdb\n",
    "            pdb.set_trace()\n",
    "        df['loo_guid'] = train_guid\n",
    "        loo_dfs.append(df)\n",
    "loo_results = pd.concat(loo_dfs)\n",
    "\n",
    "loo_results = pd.merge(\n",
    "    loo_results,\n",
    "    fdf[[\"test_guid\", \"loss\"]],\n",
    "    on=\"test_guid\",\n",
    "    suffixes=(\"_loo\", \"_base\"),\n",
    "    how=\"outer\",\n",
    ")\n",
    "loo_results[\"loo_diff\"] = loo_results[\"loss_loo\"] - loo_results[\"loss_base\"]\n",
    "loo_results = loo_results[loo_results.test_guid == TEST_GUID]\n",
    "\n",
    "\n",
    "results_dir = Path(\"results_10k_reg001\")\n",
    "# -- Load Influence Results --\n",
    "infl_dir = results_dir / \"influence\"\n",
    "infl = pd.read_csv(infl_dir / f\"influence-testguid-{TEST_GUID}.csv\")\n",
    "infl = infl.rename(columns={\"train_guid\": \"loo_guid\"})\n",
    "infl[\"infl_diff\"] = (-100.0 / TRAIN_LENGTH) * infl[\"influence\"]\n",
    "\n",
    "\n",
    "# -- Join LOO results and Influence Results --\n",
    "comp = pd.merge(\n",
    "    loo_results,\n",
    "    infl[[\"loo_guid\", \"test_guid\", \"infl_diff\"]],\n",
    "    left_on=[\"test_guid\", \"loo_guid\"],\n",
    "    right_on=[\"test_guid\", \"loo_guid\"],\n",
    ")\n",
    "\n",
    "# TODO the influence rank should be applied before the join\n",
    "comp[\"abs_infl_diff\"] = np.abs(comp[\"infl_diff\"])\n",
    "comp = comp.sort_values(\"abs_infl_diff\", ascending=True)\n",
    "comp[\"infl_rank\"] = comp.abs_infl_diff.rank()\n",
    "\n",
    "columns = [\n",
    "    \"logits\",\n",
    "    \"pred\",\n",
    "    \"label\",\n",
    "    \"test_guid\",\n",
    "    \"loo_guid\",\n",
    "    \"loss_base\",\n",
    "    \"loss_loo\",\n",
    "    \"loo_diff\",\n",
    "    \"infl_diff\",\n",
    "    \"abs_infl_diff\",\n",
    "    \"infl_rank\",\n",
    "]\n",
    "assert set(comp.columns) == set(columns)\n",
    "comp = comp[columns]\n",
    "# comp = comp[comp['infl_rank'] < 500]\n",
    "comp"
   ]
  },
  {
   "cell_type": "code",
   "execution_count": 247,
   "id": "707e9f6d-b4c0-476f-8027-d2c037543783",
   "metadata": {
    "execution": {
     "iopub.execute_input": "2023-05-11T00:47:51.596186Z",
     "iopub.status.busy": "2023-05-11T00:47:51.595981Z",
     "iopub.status.idle": "2023-05-11T00:47:51.765791Z",
     "shell.execute_reply": "2023-05-11T00:47:51.765083Z",
     "shell.execute_reply.started": "2023-05-11T00:47:51.596172Z"
    },
    "tags": []
   },
   "outputs": [
    {
     "name": "stdout",
     "output_type": "stream",
     "text": [
      "           loo_diff  infl_diff\n",
      "loo_diff   1.000000  -0.003362\n",
      "infl_diff -0.003362   1.000000\n"
     ]
    },
    {
     "data": {
      "text/plain": [
       "[<matplotlib.lines.Line2D at 0x7fec19f16560>]"
      ]
     },
     "execution_count": 247,
     "metadata": {},
     "output_type": "execute_result"
    },
    {
     "data": {
      "image/png": "[encoded data removed]",
      "text/plain": [
       "<Figure size 640x480 with 1 Axes>"
      ]
     },
     "metadata": {},
     "output_type": "display_data"
    }
   ],
   "source": [
    "print(comp[[\"loo_diff\", \"infl_diff\"]].corr())\n",
    "\n",
    "\n",
    "plt.title('Influence of Model Without L2 Reg')\n",
    "plt.xlabel('Actual Diff in Loss')\n",
    "plt.ylabel('Predicted Diff in Loss')\n",
    "plt.scatter(comp['loo_diff'], comp['infl_diff'])\n",
    "\n",
    "# comp[[\"loo_diff\", \"infl_diff\"]].plot.scatter(\"loo_diff\", \"infl_diff\")\n",
    "\n",
    "# Plot a y=x line\n",
    "ax = plt.gca()\n",
    "lims = [\n",
    "    np.min([ax.get_xlim(), ax.get_ylim()]),  # min of both axes\n",
    "    np.max([ax.get_xlim(), ax.get_ylim()]),  # max of both axes\n",
    "]\n",
    "ax.plot(lims, lims, \"k--\", alpha=0.75, zorder=0)"
   ]
  },
  {
   "cell_type": "markdown",
   "id": "7195467a-dc43-441f-945e-c763b0cba968",
   "metadata": {
    "jp-MarkdownHeadingCollapsed": true,
    "tags": []
   },
   "source": [
    "# Aggregate Influence Results"
   ]
  },
  {
   "cell_type": "code",
   "execution_count": 21,
   "id": "414f4dd4-9d16-418a-80dc-53ce72add590",
   "metadata": {
    "execution": {
     "iopub.execute_input": "2023-05-08T01:26:16.945303Z",
     "iopub.status.busy": "2023-05-08T01:26:16.945027Z",
     "iopub.status.idle": "2023-05-08T01:26:17.906742Z",
     "shell.execute_reply": "2023-05-08T01:26:17.906000Z",
     "shell.execute_reply.started": "2023-05-08T01:26:16.945288Z"
    },
    "tags": []
   },
   "outputs": [],
   "source": [
    "df_list = []\n",
    "for test_guid in range(872):\n",
    "    df = pd.read_csv(f\"influence_results/influence-testguid-{test_guid}\")\n",
    "    df_list.append(df)\n",
    "\n",
    "infl = pd.concat(df_list)\n",
    "avg_infl = infl.groupby(\"train_guid\").mean().reset_index().sort_values(\"train_guid\")"
   ]
  },
  {
   "cell_type": "markdown",
   "id": "ba602dab-c93a-4743-a921-1c670e286ca0",
   "metadata": {
    "jp-MarkdownHeadingCollapsed": true,
    "tags": []
   },
   "source": [
    "# Avg Influence Plot"
   ]
  },
  {
   "cell_type": "code",
   "execution_count": 6,
   "id": "6098c67b-3cfc-42b7-aad1-7b9bf7c78059",
   "metadata": {
    "execution": {
     "iopub.execute_input": "2023-05-08T01:20:15.575213Z",
     "iopub.status.busy": "2023-05-08T01:20:15.574575Z",
     "iopub.status.idle": "2023-05-08T01:20:15.738867Z",
     "shell.execute_reply": "2023-05-08T01:20:15.738089Z",
     "shell.execute_reply.started": "2023-05-08T01:20:15.575194Z"
    },
    "tags": []
   },
   "outputs": [
    {
     "data": {
      "text/plain": [
       "<Axes: >"
      ]
     },
     "execution_count": 6,
     "metadata": {},
     "output_type": "execute_result"
    },
    {
     "data": {
      "image/png": "[encoded data removed]",
      "text/plain": [
       "<Figure size 640x480 with 1 Axes>"
      ]
     },
     "metadata": {},
     "output_type": "display_data"
    }
   ],
   "source": [
    "avg_infl.influence.hist(bins=50)"
   ]
  },
  {
   "cell_type": "markdown",
   "id": "9ccff80f-0ae1-4c3f-b9be-fa3783b85564",
   "metadata": {
    "jp-MarkdownHeadingCollapsed": true,
    "tags": []
   },
   "source": [
    "### Test GUID Highest Influence Training Point"
   ]
  },
  {
   "cell_type": "code",
   "execution_count": 79,
   "id": "3eb1b816-4781-4a59-bb37-0e52b6dc5dc6",
   "metadata": {
    "execution": {
     "iopub.execute_input": "2023-05-08T02:02:33.641255Z",
     "iopub.status.busy": "2023-05-08T02:02:33.640684Z",
     "iopub.status.idle": "2023-05-08T02:02:33.659080Z",
     "shell.execute_reply": "2023-05-08T02:02:33.658413Z",
     "shell.execute_reply.started": "2023-05-08T02:02:33.641237Z"
    },
    "tags": []
   },
   "outputs": [
    {
     "data": {
      "text/html": [
       "<div>\n",
       "<style scoped>\n",
       "    .dataframe tbody tr th:only-of-type {\n",
       "        vertical-align: middle;\n",
       "    }\n",
       "\n",
       "    .dataframe tbody tr th {\n",
       "        vertical-align: top;\n",
       "    }\n",
       "\n",
       "    .dataframe thead th {\n",
       "        text-align: right;\n",
       "    }\n",
       "</style>\n",
       "<table border=\"1\" class=\"dataframe\">\n",
       "  <thead>\n",
       "    <tr style=\"text-align: right;\">\n",
       "      <th></th>\n",
       "      <th>test_guid</th>\n",
       "      <th>influence</th>\n",
       "      <th>infl_rank</th>\n",
       "    </tr>\n",
       "  </thead>\n",
       "  <tbody>\n",
       "    <tr>\n",
       "      <th>528</th>\n",
       "      <td>528</td>\n",
       "      <td>34.377197</td>\n",
       "      <td>1.0</td>\n",
       "    </tr>\n",
       "    <tr>\n",
       "      <th>513</th>\n",
       "      <td>513</td>\n",
       "      <td>31.726635</td>\n",
       "      <td>2.0</td>\n",
       "    </tr>\n",
       "    <tr>\n",
       "      <th>579</th>\n",
       "      <td>579</td>\n",
       "      <td>30.966599</td>\n",
       "      <td>3.0</td>\n",
       "    </tr>\n",
       "    <tr>\n",
       "      <th>509</th>\n",
       "      <td>509</td>\n",
       "      <td>30.907408</td>\n",
       "      <td>4.0</td>\n",
       "    </tr>\n",
       "    <tr>\n",
       "      <th>544</th>\n",
       "      <td>544</td>\n",
       "      <td>28.714794</td>\n",
       "      <td>5.0</td>\n",
       "    </tr>\n",
       "    <tr>\n",
       "      <th>...</th>\n",
       "      <td>...</td>\n",
       "      <td>...</td>\n",
       "      <td>...</td>\n",
       "    </tr>\n",
       "    <tr>\n",
       "      <th>457</th>\n",
       "      <td>457</td>\n",
       "      <td>0.040811</td>\n",
       "      <td>868.0</td>\n",
       "    </tr>\n",
       "    <tr>\n",
       "      <th>15</th>\n",
       "      <td>15</td>\n",
       "      <td>0.032891</td>\n",
       "      <td>869.0</td>\n",
       "    </tr>\n",
       "    <tr>\n",
       "      <th>837</th>\n",
       "      <td>837</td>\n",
       "      <td>0.028385</td>\n",
       "      <td>870.0</td>\n",
       "    </tr>\n",
       "    <tr>\n",
       "      <th>443</th>\n",
       "      <td>443</td>\n",
       "      <td>0.019976</td>\n",
       "      <td>871.0</td>\n",
       "    </tr>\n",
       "    <tr>\n",
       "      <th>334</th>\n",
       "      <td>334</td>\n",
       "      <td>0.009979</td>\n",
       "      <td>872.0</td>\n",
       "    </tr>\n",
       "  </tbody>\n",
       "</table>\n",
       "<p>872 rows × 3 columns</p>\n",
       "</div>"
      ],
      "text/plain": [
       "     test_guid  influence  infl_rank\n",
       "528        528  34.377197        1.0\n",
       "513        513  31.726635        2.0\n",
       "579        579  30.966599        3.0\n",
       "509        509  30.907408        4.0\n",
       "544        544  28.714794        5.0\n",
       "..         ...        ...        ...\n",
       "457        457   0.040811      868.0\n",
       "15          15   0.032891      869.0\n",
       "837        837   0.028385      870.0\n",
       "443        443   0.019976      871.0\n",
       "334        334   0.009979      872.0\n",
       "\n",
       "[872 rows x 3 columns]"
      ]
     },
     "execution_count": 79,
     "metadata": {},
     "output_type": "execute_result"
    }
   ],
   "source": [
    "max_infl = infl.groupby(\"test_guid\").influence.max().reset_index()\n",
    "max_infl[\"infl_rank\"] = max_infl.influence.rank(ascending=False)\n",
    "max_infl.sort_values(\"influence\", ascending=False)"
   ]
  },
  {
   "cell_type": "markdown",
   "id": "2dc30dbb-da7f-456a-bf9a-5f7e98dbc52f",
   "metadata": {
    "jp-MarkdownHeadingCollapsed": true,
    "tags": []
   },
   "source": [
    "# Wrong Points"
   ]
  },
  {
   "cell_type": "code",
   "execution_count": 84,
   "id": "109e3939-e88b-4c1b-901f-35f65f8374b4",
   "metadata": {
    "execution": {
     "iopub.execute_input": "2023-05-08T02:10:12.317456Z",
     "iopub.status.busy": "2023-05-08T02:10:12.317009Z",
     "iopub.status.idle": "2023-05-08T02:10:12.325219Z",
     "shell.execute_reply": "2023-05-08T02:10:12.324495Z",
     "shell.execute_reply.started": "2023-05-08T02:10:12.317438Z"
    },
    "tags": []
   },
   "outputs": [
    {
     "data": {
      "text/html": [
       "<div>\n",
       "<style scoped>\n",
       "    .dataframe tbody tr th:only-of-type {\n",
       "        vertical-align: middle;\n",
       "    }\n",
       "\n",
       "    .dataframe tbody tr th {\n",
       "        vertical-align: top;\n",
       "    }\n",
       "\n",
       "    .dataframe thead th {\n",
       "        text-align: right;\n",
       "    }\n",
       "</style>\n",
       "<table border=\"1\" class=\"dataframe\">\n",
       "  <thead>\n",
       "    <tr style=\"text-align: right;\">\n",
       "      <th></th>\n",
       "      <th>test_guid</th>\n",
       "      <th>logits</th>\n",
       "      <th>pred</th>\n",
       "      <th>label</th>\n",
       "      <th>loss</th>\n",
       "      <th>loss_rank</th>\n",
       "    </tr>\n",
       "  </thead>\n",
       "  <tbody>\n",
       "    <tr>\n",
       "      <th>528</th>\n",
       "      <td>528</td>\n",
       "      <td>[1.3232645, -1.6964343]</td>\n",
       "      <td>0</td>\n",
       "      <td>1</td>\n",
       "      <td>3.06736</td>\n",
       "      <td>5.0</td>\n",
       "    </tr>\n",
       "  </tbody>\n",
       "</table>\n",
       "</div>"
      ],
      "text/plain": [
       "     test_guid                   logits  pred  label     loss  loss_rank\n",
       "528        528  [1.3232645, -1.6964343]     0      1  3.06736        5.0"
      ]
     },
     "execution_count": 84,
     "metadata": {},
     "output_type": "execute_result"
    }
   ],
   "source": [
    "wrong_df[wrong_df.test_guid == 528]"
   ]
  },
  {
   "cell_type": "code",
   "execution_count": 94,
   "id": "f02bd017-2d17-4243-a2b7-a2d6d0bebc8b",
   "metadata": {
    "execution": {
     "iopub.execute_input": "2023-05-08T02:12:51.500526Z",
     "iopub.status.busy": "2023-05-08T02:12:51.500260Z",
     "iopub.status.idle": "2023-05-08T02:12:51.508215Z",
     "shell.execute_reply": "2023-05-08T02:12:51.507437Z",
     "shell.execute_reply.started": "2023-05-08T02:12:51.500510Z"
    },
    "tags": []
   },
   "outputs": [
    {
     "data": {
      "text/plain": [
       "'it haunts , horrifies , startles and fascinates ; it is impossible to look away . '"
      ]
     },
     "execution_count": 94,
     "metadata": {},
     "output_type": "execute_result"
    }
   ],
   "source": [
    "data_utils.get_test_example(528).sentence.squeeze()"
   ]
  },
  {
   "cell_type": "code",
   "execution_count": 87,
   "id": "e1b3b64c-2c73-4003-b9c3-e30229f0cba5",
   "metadata": {
    "execution": {
     "iopub.execute_input": "2023-05-08T02:11:01.120295Z",
     "iopub.status.busy": "2023-05-08T02:11:01.119744Z",
     "iopub.status.idle": "2023-05-08T02:11:01.129171Z",
     "shell.execute_reply": "2023-05-08T02:11:01.128290Z",
     "shell.execute_reply.started": "2023-05-08T02:11:01.120279Z"
    },
    "tags": []
   },
   "outputs": [
    {
     "data": {
      "text/html": [
       "<div>\n",
       "<style scoped>\n",
       "    .dataframe tbody tr th:only-of-type {\n",
       "        vertical-align: middle;\n",
       "    }\n",
       "\n",
       "    .dataframe tbody tr th {\n",
       "        vertical-align: top;\n",
       "    }\n",
       "\n",
       "    .dataframe thead th {\n",
       "        text-align: right;\n",
       "    }\n",
       "</style>\n",
       "<table border=\"1\" class=\"dataframe\">\n",
       "  <thead>\n",
       "    <tr style=\"text-align: right;\">\n",
       "      <th></th>\n",
       "      <th>train_guid</th>\n",
       "      <th>influence</th>\n",
       "      <th>test_guid</th>\n",
       "    </tr>\n",
       "  </thead>\n",
       "  <tbody>\n",
       "    <tr>\n",
       "      <th>686</th>\n",
       "      <td>686</td>\n",
       "      <td>-28.414139</td>\n",
       "      <td>528</td>\n",
       "    </tr>\n",
       "    <tr>\n",
       "      <th>873</th>\n",
       "      <td>873</td>\n",
       "      <td>-23.315613</td>\n",
       "      <td>528</td>\n",
       "    </tr>\n",
       "    <tr>\n",
       "      <th>229</th>\n",
       "      <td>229</td>\n",
       "      <td>-15.682107</td>\n",
       "      <td>528</td>\n",
       "    </tr>\n",
       "    <tr>\n",
       "      <th>837</th>\n",
       "      <td>837</td>\n",
       "      <td>-15.358357</td>\n",
       "      <td>528</td>\n",
       "    </tr>\n",
       "    <tr>\n",
       "      <th>738</th>\n",
       "      <td>738</td>\n",
       "      <td>-14.990066</td>\n",
       "      <td>528</td>\n",
       "    </tr>\n",
       "    <tr>\n",
       "      <th>...</th>\n",
       "      <td>...</td>\n",
       "      <td>...</td>\n",
       "      <td>...</td>\n",
       "    </tr>\n",
       "    <tr>\n",
       "      <th>213</th>\n",
       "      <td>213</td>\n",
       "      <td>10.747519</td>\n",
       "      <td>528</td>\n",
       "    </tr>\n",
       "    <tr>\n",
       "      <th>526</th>\n",
       "      <td>526</td>\n",
       "      <td>11.047774</td>\n",
       "      <td>528</td>\n",
       "    </tr>\n",
       "    <tr>\n",
       "      <th>710</th>\n",
       "      <td>710</td>\n",
       "      <td>14.738692</td>\n",
       "      <td>528</td>\n",
       "    </tr>\n",
       "    <tr>\n",
       "      <th>3</th>\n",
       "      <td>3</td>\n",
       "      <td>16.359413</td>\n",
       "      <td>528</td>\n",
       "    </tr>\n",
       "    <tr>\n",
       "      <th>761</th>\n",
       "      <td>761</td>\n",
       "      <td>34.377197</td>\n",
       "      <td>528</td>\n",
       "    </tr>\n",
       "  </tbody>\n",
       "</table>\n",
       "<p>1000 rows × 3 columns</p>\n",
       "</div>"
      ],
      "text/plain": [
       "     train_guid  influence  test_guid\n",
       "686         686 -28.414139        528\n",
       "873         873 -23.315613        528\n",
       "229         229 -15.682107        528\n",
       "837         837 -15.358357        528\n",
       "738         738 -14.990066        528\n",
       "..          ...        ...        ...\n",
       "213         213  10.747519        528\n",
       "526         526  11.047774        528\n",
       "710         710  14.738692        528\n",
       "3             3  16.359413        528\n",
       "761         761  34.377197        528\n",
       "\n",
       "[1000 rows x 3 columns]"
      ]
     },
     "execution_count": 87,
     "metadata": {},
     "output_type": "execute_result"
    }
   ],
   "source": [
    "infl[infl.test_guid == 528].sort_values(\"influence\")"
   ]
  },
  {
   "cell_type": "code",
   "execution_count": 93,
   "id": "04b9fce8-f0fc-4fc8-9660-2bb48235b31b",
   "metadata": {
    "execution": {
     "iopub.execute_input": "2023-05-08T02:12:29.547378Z",
     "iopub.status.busy": "2023-05-08T02:12:29.547138Z",
     "iopub.status.idle": "2023-05-08T02:12:29.591579Z",
     "shell.execute_reply": "2023-05-08T02:12:29.590856Z",
     "shell.execute_reply.started": "2023-05-08T02:12:29.547364Z"
    },
    "tags": []
   },
   "outputs": [
    {
     "data": {
      "text/plain": [
       "'peels layers from this character that may well not have existed on paper . '"
      ]
     },
     "execution_count": 93,
     "metadata": {},
     "output_type": "execute_result"
    }
   ],
   "source": [
    "data_utils.get_train_example(873).sentence.squeeze()"
   ]
  },
  {
   "cell_type": "code",
   "execution_count": 91,
   "id": "f07630fb-89c2-425e-8dea-a6df16f46e0b",
   "metadata": {
    "execution": {
     "iopub.execute_input": "2023-05-08T02:12:03.851809Z",
     "iopub.status.busy": "2023-05-08T02:12:03.851526Z",
     "iopub.status.idle": "2023-05-08T02:12:03.896588Z",
     "shell.execute_reply": "2023-05-08T02:12:03.895939Z",
     "shell.execute_reply.started": "2023-05-08T02:12:03.851794Z"
    },
    "tags": []
   },
   "outputs": [
    {
     "data": {
      "text/plain": [
       "'a meditation on faith and madness , frailty is blood-curdling stuff . '"
      ]
     },
     "execution_count": 91,
     "metadata": {},
     "output_type": "execute_result"
    }
   ],
   "source": [
    "data_utils.get_train_example(686).sentence.squeeze()"
   ]
  },
  {
   "cell_type": "code",
   "execution_count": 95,
   "id": "16332dd0-c6c3-4a98-b7bc-2fac6f6a97d8",
   "metadata": {
    "execution": {
     "iopub.execute_input": "2023-05-08T02:13:24.328518Z",
     "iopub.status.busy": "2023-05-08T02:13:24.328215Z",
     "iopub.status.idle": "2023-05-08T02:13:24.373876Z",
     "shell.execute_reply": "2023-05-08T02:13:24.373156Z",
     "shell.execute_reply.started": "2023-05-08T02:13:24.328501Z"
    },
    "tags": []
   },
   "outputs": [
    {
     "data": {
      "text/plain": [
       "'the pianist like a surgeon mends a broken heart ; very meticulously but without any passion '"
      ]
     },
     "execution_count": 95,
     "metadata": {},
     "output_type": "execute_result"
    }
   ],
   "source": [
    "data_utils.get_train_example(761).sentence.squeeze()"
   ]
  },
  {
   "cell_type": "markdown",
   "id": "c7dd41f5-ca3a-4187-9da8-5db98e463975",
   "metadata": {
    "tags": []
   },
   "source": [
    "# Correctly Classified Points"
   ]
  },
  {
   "cell_type": "markdown",
   "id": "01750fe4-ab82-4217-8154-883e571fa067",
   "metadata": {
    "jp-MarkdownHeadingCollapsed": true,
    "tags": []
   },
   "source": [
    "## Test GUID Lowest Influence Training Point"
   ]
  },
  {
   "cell_type": "code",
   "execution_count": 78,
   "id": "28d35378-3397-441f-9763-57f52a3482dc",
   "metadata": {
    "execution": {
     "iopub.execute_input": "2023-05-08T02:02:26.585836Z",
     "iopub.status.busy": "2023-05-08T02:02:26.585477Z",
     "iopub.status.idle": "2023-05-08T02:02:26.606478Z",
     "shell.execute_reply": "2023-05-08T02:02:26.605709Z",
     "shell.execute_reply.started": "2023-05-08T02:02:26.585810Z"
    },
    "tags": []
   },
   "outputs": [
    {
     "data": {
      "text/html": [
       "<div>\n",
       "<style scoped>\n",
       "    .dataframe tbody tr th:only-of-type {\n",
       "        vertical-align: middle;\n",
       "    }\n",
       "\n",
       "    .dataframe tbody tr th {\n",
       "        vertical-align: top;\n",
       "    }\n",
       "\n",
       "    .dataframe thead th {\n",
       "        text-align: right;\n",
       "    }\n",
       "</style>\n",
       "<table border=\"1\" class=\"dataframe\">\n",
       "  <thead>\n",
       "    <tr style=\"text-align: right;\">\n",
       "      <th></th>\n",
       "      <th>test_guid</th>\n",
       "      <th>influence</th>\n",
       "      <th>infl_rank</th>\n",
       "    </tr>\n",
       "  </thead>\n",
       "  <tbody>\n",
       "    <tr>\n",
       "      <th>334</th>\n",
       "      <td>334</td>\n",
       "      <td>-0.008348</td>\n",
       "      <td>1.0</td>\n",
       "    </tr>\n",
       "    <tr>\n",
       "      <th>837</th>\n",
       "      <td>837</td>\n",
       "      <td>-0.016448</td>\n",
       "      <td>2.0</td>\n",
       "    </tr>\n",
       "    <tr>\n",
       "      <th>443</th>\n",
       "      <td>443</td>\n",
       "      <td>-0.017967</td>\n",
       "      <td>3.0</td>\n",
       "    </tr>\n",
       "    <tr>\n",
       "      <th>15</th>\n",
       "      <td>15</td>\n",
       "      <td>-0.025015</td>\n",
       "      <td>4.0</td>\n",
       "    </tr>\n",
       "    <tr>\n",
       "      <th>613</th>\n",
       "      <td>613</td>\n",
       "      <td>-0.028230</td>\n",
       "      <td>5.0</td>\n",
       "    </tr>\n",
       "    <tr>\n",
       "      <th>...</th>\n",
       "      <td>...</td>\n",
       "      <td>...</td>\n",
       "      <td>...</td>\n",
       "    </tr>\n",
       "    <tr>\n",
       "      <th>513</th>\n",
       "      <td>513</td>\n",
       "      <td>-30.077068</td>\n",
       "      <td>868.0</td>\n",
       "    </tr>\n",
       "    <tr>\n",
       "      <th>832</th>\n",
       "      <td>832</td>\n",
       "      <td>-30.189003</td>\n",
       "      <td>869.0</td>\n",
       "    </tr>\n",
       "    <tr>\n",
       "      <th>867</th>\n",
       "      <td>867</td>\n",
       "      <td>-34.763771</td>\n",
       "      <td>870.0</td>\n",
       "    </tr>\n",
       "    <tr>\n",
       "      <th>869</th>\n",
       "      <td>869</td>\n",
       "      <td>-37.043121</td>\n",
       "      <td>871.0</td>\n",
       "    </tr>\n",
       "    <tr>\n",
       "      <th>544</th>\n",
       "      <td>544</td>\n",
       "      <td>-42.056179</td>\n",
       "      <td>872.0</td>\n",
       "    </tr>\n",
       "  </tbody>\n",
       "</table>\n",
       "<p>872 rows × 3 columns</p>\n",
       "</div>"
      ],
      "text/plain": [
       "     test_guid  influence  infl_rank\n",
       "334        334  -0.008348        1.0\n",
       "837        837  -0.016448        2.0\n",
       "443        443  -0.017967        3.0\n",
       "15          15  -0.025015        4.0\n",
       "613        613  -0.028230        5.0\n",
       "..         ...        ...        ...\n",
       "513        513 -30.077068      868.0\n",
       "832        832 -30.189003      869.0\n",
       "867        867 -34.763771      870.0\n",
       "869        869 -37.043121      871.0\n",
       "544        544 -42.056179      872.0\n",
       "\n",
       "[872 rows x 3 columns]"
      ]
     },
     "execution_count": 78,
     "metadata": {},
     "output_type": "execute_result"
    }
   ],
   "source": [
    "min_infl = infl.groupby(\"test_guid\").influence.min().reset_index()\n",
    "min_infl[\"infl_rank\"] = min_infl.influence.rank(ascending=False)\n",
    "min_infl.sort_values(\"influence\", ascending=False)"
   ]
  },
  {
   "cell_type": "markdown",
   "id": "696f1b98-355e-418b-8591-a5641104ed5e",
   "metadata": {
    "jp-MarkdownHeadingCollapsed": true,
    "tags": []
   },
   "source": [
    "## Test GIUD Highest Influence Training Point"
   ]
  },
  {
   "cell_type": "code",
   "execution_count": 81,
   "id": "6b176b20-7de4-4df5-9622-0bd25a91dff4",
   "metadata": {
    "execution": {
     "iopub.execute_input": "2023-05-08T02:04:03.844197Z",
     "iopub.status.busy": "2023-05-08T02:04:03.843973Z",
     "iopub.status.idle": "2023-05-08T02:04:03.852104Z",
     "shell.execute_reply": "2023-05-08T02:04:03.851439Z",
     "shell.execute_reply.started": "2023-05-08T02:04:03.844183Z"
    },
    "tags": []
   },
   "outputs": [
    {
     "data": {
      "text/html": [
       "<div>\n",
       "<style scoped>\n",
       "    .dataframe tbody tr th:only-of-type {\n",
       "        vertical-align: middle;\n",
       "    }\n",
       "\n",
       "    .dataframe tbody tr th {\n",
       "        vertical-align: top;\n",
       "    }\n",
       "\n",
       "    .dataframe thead th {\n",
       "        text-align: right;\n",
       "    }\n",
       "</style>\n",
       "<table border=\"1\" class=\"dataframe\">\n",
       "  <thead>\n",
       "    <tr style=\"text-align: right;\">\n",
       "      <th></th>\n",
       "      <th>test_guid</th>\n",
       "      <th>influence</th>\n",
       "      <th>infl_rank</th>\n",
       "    </tr>\n",
       "  </thead>\n",
       "  <tbody>\n",
       "    <tr>\n",
       "      <th>15</th>\n",
       "      <td>15</td>\n",
       "      <td>0.032891</td>\n",
       "      <td>869.0</td>\n",
       "    </tr>\n",
       "    <tr>\n",
       "      <th>125</th>\n",
       "      <td>125</td>\n",
       "      <td>0.050493</td>\n",
       "      <td>865.0</td>\n",
       "    </tr>\n",
       "    <tr>\n",
       "      <th>303</th>\n",
       "      <td>303</td>\n",
       "      <td>0.079881</td>\n",
       "      <td>860.0</td>\n",
       "    </tr>\n",
       "    <tr>\n",
       "      <th>334</th>\n",
       "      <td>334</td>\n",
       "      <td>0.009979</td>\n",
       "      <td>872.0</td>\n",
       "    </tr>\n",
       "    <tr>\n",
       "      <th>443</th>\n",
       "      <td>443</td>\n",
       "      <td>0.019976</td>\n",
       "      <td>871.0</td>\n",
       "    </tr>\n",
       "    <tr>\n",
       "      <th>457</th>\n",
       "      <td>457</td>\n",
       "      <td>0.040811</td>\n",
       "      <td>868.0</td>\n",
       "    </tr>\n",
       "    <tr>\n",
       "      <th>613</th>\n",
       "      <td>613</td>\n",
       "      <td>0.042986</td>\n",
       "      <td>867.0</td>\n",
       "    </tr>\n",
       "    <tr>\n",
       "      <th>808</th>\n",
       "      <td>808</td>\n",
       "      <td>0.043101</td>\n",
       "      <td>866.0</td>\n",
       "    </tr>\n",
       "    <tr>\n",
       "      <th>825</th>\n",
       "      <td>825</td>\n",
       "      <td>0.055212</td>\n",
       "      <td>864.0</td>\n",
       "    </tr>\n",
       "    <tr>\n",
       "      <th>837</th>\n",
       "      <td>837</td>\n",
       "      <td>0.028385</td>\n",
       "      <td>870.0</td>\n",
       "    </tr>\n",
       "  </tbody>\n",
       "</table>\n",
       "</div>"
      ],
      "text/plain": [
       "     test_guid  influence  infl_rank\n",
       "15          15   0.032891      869.0\n",
       "125        125   0.050493      865.0\n",
       "303        303   0.079881      860.0\n",
       "334        334   0.009979      872.0\n",
       "443        443   0.019976      871.0\n",
       "457        457   0.040811      868.0\n",
       "613        613   0.042986      867.0\n",
       "808        808   0.043101      866.0\n",
       "825        825   0.055212      864.0\n",
       "837        837   0.028385      870.0"
      ]
     },
     "execution_count": 81,
     "metadata": {},
     "output_type": "execute_result"
    }
   ],
   "source": [
    "max_infl[max_infl.test_guid.isin(high_conf)]"
   ]
  },
  {
   "cell_type": "code",
   "execution_count": 82,
   "id": "154febbc-4c22-45b2-a9d6-4f255ed3d41a",
   "metadata": {
    "execution": {
     "iopub.execute_input": "2023-05-08T02:04:23.143373Z",
     "iopub.status.busy": "2023-05-08T02:04:23.142797Z",
     "iopub.status.idle": "2023-05-08T02:04:23.151103Z",
     "shell.execute_reply": "2023-05-08T02:04:23.150294Z",
     "shell.execute_reply.started": "2023-05-08T02:04:23.143354Z"
    },
    "tags": []
   },
   "outputs": [
    {
     "data": {
      "text/html": [
       "<div>\n",
       "<style scoped>\n",
       "    .dataframe tbody tr th:only-of-type {\n",
       "        vertical-align: middle;\n",
       "    }\n",
       "\n",
       "    .dataframe tbody tr th {\n",
       "        vertical-align: top;\n",
       "    }\n",
       "\n",
       "    .dataframe thead th {\n",
       "        text-align: right;\n",
       "    }\n",
       "</style>\n",
       "<table border=\"1\" class=\"dataframe\">\n",
       "  <thead>\n",
       "    <tr style=\"text-align: right;\">\n",
       "      <th></th>\n",
       "      <th>test_guid</th>\n",
       "      <th>influence</th>\n",
       "      <th>infl_rank</th>\n",
       "    </tr>\n",
       "  </thead>\n",
       "  <tbody>\n",
       "    <tr>\n",
       "      <th>15</th>\n",
       "      <td>15</td>\n",
       "      <td>-0.025015</td>\n",
       "      <td>4.0</td>\n",
       "    </tr>\n",
       "    <tr>\n",
       "      <th>125</th>\n",
       "      <td>125</td>\n",
       "      <td>-0.044609</td>\n",
       "      <td>10.0</td>\n",
       "    </tr>\n",
       "    <tr>\n",
       "      <th>303</th>\n",
       "      <td>303</td>\n",
       "      <td>-0.051041</td>\n",
       "      <td>12.0</td>\n",
       "    </tr>\n",
       "    <tr>\n",
       "      <th>334</th>\n",
       "      <td>334</td>\n",
       "      <td>-0.008348</td>\n",
       "      <td>1.0</td>\n",
       "    </tr>\n",
       "    <tr>\n",
       "      <th>443</th>\n",
       "      <td>443</td>\n",
       "      <td>-0.017967</td>\n",
       "      <td>3.0</td>\n",
       "    </tr>\n",
       "    <tr>\n",
       "      <th>457</th>\n",
       "      <td>457</td>\n",
       "      <td>-0.032868</td>\n",
       "      <td>7.0</td>\n",
       "    </tr>\n",
       "    <tr>\n",
       "      <th>613</th>\n",
       "      <td>613</td>\n",
       "      <td>-0.028230</td>\n",
       "      <td>5.0</td>\n",
       "    </tr>\n",
       "    <tr>\n",
       "      <th>808</th>\n",
       "      <td>808</td>\n",
       "      <td>-0.029786</td>\n",
       "      <td>6.0</td>\n",
       "    </tr>\n",
       "    <tr>\n",
       "      <th>825</th>\n",
       "      <td>825</td>\n",
       "      <td>-0.040168</td>\n",
       "      <td>8.0</td>\n",
       "    </tr>\n",
       "    <tr>\n",
       "      <th>837</th>\n",
       "      <td>837</td>\n",
       "      <td>-0.016448</td>\n",
       "      <td>2.0</td>\n",
       "    </tr>\n",
       "  </tbody>\n",
       "</table>\n",
       "</div>"
      ],
      "text/plain": [
       "     test_guid  influence  infl_rank\n",
       "15          15  -0.025015        4.0\n",
       "125        125  -0.044609       10.0\n",
       "303        303  -0.051041       12.0\n",
       "334        334  -0.008348        1.0\n",
       "443        443  -0.017967        3.0\n",
       "457        457  -0.032868        7.0\n",
       "613        613  -0.028230        5.0\n",
       "808        808  -0.029786        6.0\n",
       "825        825  -0.040168        8.0\n",
       "837        837  -0.016448        2.0"
      ]
     },
     "execution_count": 82,
     "metadata": {},
     "output_type": "execute_result"
    }
   ],
   "source": [
    "min_infl[min_infl.test_guid.isin(high_conf)]"
   ]
  },
  {
   "cell_type": "markdown",
   "id": "10ff9017-0b0a-4f6d-b76e-cba3db362287",
   "metadata": {
    "jp-MarkdownHeadingCollapsed": true,
    "tags": []
   },
   "source": [
    "## Influence of High Confidence Predictions"
   ]
  },
  {
   "cell_type": "code",
   "execution_count": 100,
   "id": "3634ffd2-11ec-4a35-8b04-001ff5285136",
   "metadata": {
    "execution": {
     "iopub.execute_input": "2023-05-08T02:47:54.542451Z",
     "iopub.status.busy": "2023-05-08T02:47:54.542172Z",
     "iopub.status.idle": "2023-05-08T02:47:54.571805Z",
     "shell.execute_reply": "2023-05-08T02:47:54.571092Z",
     "shell.execute_reply.started": "2023-05-08T02:47:54.542435Z"
    },
    "tags": []
   },
   "outputs": [
    {
     "name": "stdout",
     "output_type": "stream",
     "text": [
      "[334, 443, 837, 303, 613, 457, 808, 15, 825, 125]\n"
     ]
    },
    {
     "data": {
      "text/plain": [
       "{334: \"what really makes it special is that it pulls us into its world , gives us a hero whose suffering and triumphs we can share , surrounds him with interesting characters and sends us out of the theater feeling we 've shared a great adventure . \",\n",
       " 443: 'good car chases , great fight scenes , and a distinctive blend of european , american and asian influences . ',\n",
       " 837: 'will amuse and provoke adventurous adults in specialty venues . ',\n",
       " 303: 'entertains by providing good , lively company . ',\n",
       " 613: '... takes the beauty of baseball and melds it with a story that could touch anyone regardless of their familiarity with the sport ',\n",
       " 457: \"it inspires a continuing and deeply satisfying awareness of the best movies as monumental ` picture shows . ' \",\n",
       " 808: 'enormously entertaining for moviegoers of any age . ',\n",
       " 15: 'a gorgeous , high-spirited musical from india that exquisitely blends music , dance , song , and high drama . ',\n",
       " 825: 'candid and comfortable ; a film that deftly balances action and reflection as it lets you grasp and feel the passion others have for their work . ',\n",
       " 125: \"a movie that reminds us of just how exciting and satisfying the fantasy cinema can be when it 's approached with imagination and flair . \"}"
      ]
     },
     "execution_count": 100,
     "metadata": {},
     "output_type": "execute_result"
    }
   ],
   "source": [
    "print(high_conf)\n",
    "\n",
    "{guid: data_utils.get_test_example(guid).sentence.squeeze() for guid in high_conf}"
   ]
  },
  {
   "cell_type": "code",
   "execution_count": 35,
   "id": "5b309dbc-adbf-444d-aaf9-8f6bd4927bab",
   "metadata": {
    "execution": {
     "iopub.execute_input": "2023-05-08T01:28:53.217611Z",
     "iopub.status.busy": "2023-05-08T01:28:53.217380Z",
     "iopub.status.idle": "2023-05-08T01:28:53.225146Z",
     "shell.execute_reply": "2023-05-08T01:28:53.224322Z",
     "shell.execute_reply.started": "2023-05-08T01:28:53.217596Z"
    },
    "tags": []
   },
   "outputs": [
    {
     "data": {
      "text/plain": [
       "count    1000.000000\n",
       "mean        0.000008\n",
       "std         0.001338\n",
       "min        -0.008348\n",
       "25%        -0.000363\n",
       "50%        -0.000050\n",
       "75%         0.000243\n",
       "max         0.009979\n",
       "Name: influence, dtype: float64"
      ]
     },
     "execution_count": 35,
     "metadata": {},
     "output_type": "execute_result"
    }
   ],
   "source": [
    "infl[infl.test_guid == 334].influence.describe()"
   ]
  },
  {
   "cell_type": "code",
   "execution_count": 29,
   "id": "a880b54d-f95b-47c2-bec9-00dc6cb05457",
   "metadata": {
    "execution": {
     "iopub.execute_input": "2023-05-08T01:27:24.756545Z",
     "iopub.status.busy": "2023-05-08T01:27:24.755776Z",
     "iopub.status.idle": "2023-05-08T01:27:24.930377Z",
     "shell.execute_reply": "2023-05-08T01:27:24.929645Z",
     "shell.execute_reply.started": "2023-05-08T01:27:24.756526Z"
    },
    "tags": []
   },
   "outputs": [
    {
     "data": {
      "text/plain": [
       "<Axes: >"
      ]
     },
     "execution_count": 29,
     "metadata": {},
     "output_type": "execute_result"
    },
    {
     "data": {
      "image/png": "[encoded data removed]",
      "text/plain": [
       "<Figure size 640x480 with 1 Axes>"
      ]
     },
     "metadata": {},
     "output_type": "display_data"
    }
   ],
   "source": [
    "infl[infl.test_guid == 334].influence.hist(bins=50)"
   ]
  },
  {
   "cell_type": "code",
   "execution_count": 38,
   "id": "c2c5495a-ceb0-4dd8-9518-d52f9f568aa9",
   "metadata": {
    "execution": {
     "iopub.execute_input": "2023-05-08T01:29:36.371122Z",
     "iopub.status.busy": "2023-05-08T01:29:36.370838Z",
     "iopub.status.idle": "2023-05-08T01:29:36.378928Z",
     "shell.execute_reply": "2023-05-08T01:29:36.378192Z",
     "shell.execute_reply.started": "2023-05-08T01:29:36.371107Z"
    },
    "tags": []
   },
   "outputs": [
    {
     "data": {
      "text/plain": [
       "count    1000.000000\n",
       "mean        0.000055\n",
       "std         0.003103\n",
       "min        -0.017967\n",
       "25%        -0.000859\n",
       "50%        -0.000113\n",
       "75%         0.000647\n",
       "max         0.019976\n",
       "Name: influence, dtype: float64"
      ]
     },
     "execution_count": 38,
     "metadata": {},
     "output_type": "execute_result"
    }
   ],
   "source": [
    "infl[infl.test_guid == 443].influence.describe()"
   ]
  },
  {
   "cell_type": "code",
   "execution_count": 30,
   "id": "067e85d6-d927-44ca-ac45-2e92e27f5f81",
   "metadata": {
    "execution": {
     "iopub.execute_input": "2023-05-08T01:27:50.058485Z",
     "iopub.status.busy": "2023-05-08T01:27:50.058253Z",
     "iopub.status.idle": "2023-05-08T01:27:50.247508Z",
     "shell.execute_reply": "2023-05-08T01:27:50.246746Z",
     "shell.execute_reply.started": "2023-05-08T01:27:50.058470Z"
    },
    "tags": []
   },
   "outputs": [
    {
     "data": {
      "text/plain": [
       "<Axes: >"
      ]
     },
     "execution_count": 30,
     "metadata": {},
     "output_type": "execute_result"
    },
    {
     "data": {
      "image/png": "[encoded data removed]",
      "text/plain": [
       "<Figure size 640x480 with 1 Axes>"
      ]
     },
     "metadata": {},
     "output_type": "display_data"
    }
   ],
   "source": [
    "infl[infl.test_guid == 443].influence.hist(bins=50)"
   ]
  },
  {
   "cell_type": "markdown",
   "id": "c5e3af8f-82d6-41ff-b14c-349ba555c3af",
   "metadata": {
    "jp-MarkdownHeadingCollapsed": true,
    "tags": []
   },
   "source": [
    "## Influence of Low Confidence Predictions"
   ]
  },
  {
   "cell_type": "code",
   "execution_count": 31,
   "id": "64aad9d3-12c0-4fb3-a6a1-716d8546f74b",
   "metadata": {
    "execution": {
     "iopub.execute_input": "2023-05-08T01:28:00.983822Z",
     "iopub.status.busy": "2023-05-08T01:28:00.983587Z",
     "iopub.status.idle": "2023-05-08T01:28:00.995663Z",
     "shell.execute_reply": "2023-05-08T01:28:00.994918Z",
     "shell.execute_reply.started": "2023-05-08T01:28:00.983807Z"
    }
   },
   "outputs": [
    {
     "name": "stdout",
     "output_type": "stream",
     "text": [
      "[497, 870, 271, 695, 230, 42, 840, 733, 847, 425]\n"
     ]
    },
    {
     "data": {
      "text/html": [
       "<div>\n",
       "<style scoped>\n",
       "    .dataframe tbody tr th:only-of-type {\n",
       "        vertical-align: middle;\n",
       "    }\n",
       "\n",
       "    .dataframe tbody tr th {\n",
       "        vertical-align: top;\n",
       "    }\n",
       "\n",
       "    .dataframe thead th {\n",
       "        text-align: right;\n",
       "    }\n",
       "</style>\n",
       "<table border=\"1\" class=\"dataframe\">\n",
       "  <thead>\n",
       "    <tr style=\"text-align: right;\">\n",
       "      <th></th>\n",
       "      <th>train_guid</th>\n",
       "      <th>influence</th>\n",
       "      <th>test_guid</th>\n",
       "    </tr>\n",
       "  </thead>\n",
       "  <tbody>\n",
       "    <tr>\n",
       "      <th>0</th>\n",
       "      <td>0</td>\n",
       "      <td>2.200142</td>\n",
       "      <td>42</td>\n",
       "    </tr>\n",
       "    <tr>\n",
       "      <th>1</th>\n",
       "      <td>1</td>\n",
       "      <td>0.430909</td>\n",
       "      <td>42</td>\n",
       "    </tr>\n",
       "    <tr>\n",
       "      <th>2</th>\n",
       "      <td>2</td>\n",
       "      <td>-0.039662</td>\n",
       "      <td>42</td>\n",
       "    </tr>\n",
       "    <tr>\n",
       "      <th>3</th>\n",
       "      <td>3</td>\n",
       "      <td>5.643315</td>\n",
       "      <td>42</td>\n",
       "    </tr>\n",
       "    <tr>\n",
       "      <th>4</th>\n",
       "      <td>4</td>\n",
       "      <td>0.187307</td>\n",
       "      <td>42</td>\n",
       "    </tr>\n",
       "    <tr>\n",
       "      <th>...</th>\n",
       "      <td>...</td>\n",
       "      <td>...</td>\n",
       "      <td>...</td>\n",
       "    </tr>\n",
       "    <tr>\n",
       "      <th>995</th>\n",
       "      <td>995</td>\n",
       "      <td>-0.938940</td>\n",
       "      <td>870</td>\n",
       "    </tr>\n",
       "    <tr>\n",
       "      <th>996</th>\n",
       "      <td>996</td>\n",
       "      <td>-0.430827</td>\n",
       "      <td>870</td>\n",
       "    </tr>\n",
       "    <tr>\n",
       "      <th>997</th>\n",
       "      <td>997</td>\n",
       "      <td>-0.021050</td>\n",
       "      <td>870</td>\n",
       "    </tr>\n",
       "    <tr>\n",
       "      <th>998</th>\n",
       "      <td>998</td>\n",
       "      <td>-1.582700</td>\n",
       "      <td>870</td>\n",
       "    </tr>\n",
       "    <tr>\n",
       "      <th>999</th>\n",
       "      <td>999</td>\n",
       "      <td>0.540060</td>\n",
       "      <td>870</td>\n",
       "    </tr>\n",
       "  </tbody>\n",
       "</table>\n",
       "<p>10000 rows × 3 columns</p>\n",
       "</div>"
      ],
      "text/plain": [
       "     train_guid  influence  test_guid\n",
       "0             0   2.200142         42\n",
       "1             1   0.430909         42\n",
       "2             2  -0.039662         42\n",
       "3             3   5.643315         42\n",
       "4             4   0.187307         42\n",
       "..          ...        ...        ...\n",
       "995         995  -0.938940        870\n",
       "996         996  -0.430827        870\n",
       "997         997  -0.021050        870\n",
       "998         998  -1.582700        870\n",
       "999         999   0.540060        870\n",
       "\n",
       "[10000 rows x 3 columns]"
      ]
     },
     "execution_count": 31,
     "metadata": {},
     "output_type": "execute_result"
    }
   ],
   "source": [
    "print(low_conf)\n",
    "infl[infl.test_guid.isin(low_conf)]"
   ]
  },
  {
   "cell_type": "code",
   "execution_count": 36,
   "id": "99f23753-86aa-4848-b248-e2837298fc63",
   "metadata": {
    "execution": {
     "iopub.execute_input": "2023-05-08T01:29:06.347106Z",
     "iopub.status.busy": "2023-05-08T01:29:06.346871Z",
     "iopub.status.idle": "2023-05-08T01:29:06.354807Z",
     "shell.execute_reply": "2023-05-08T01:29:06.354026Z",
     "shell.execute_reply.started": "2023-05-08T01:29:06.347092Z"
    },
    "tags": []
   },
   "outputs": [
    {
     "data": {
      "text/plain": [
       "count    1000.000000\n",
       "mean       -0.071687\n",
       "std         1.773631\n",
       "min       -11.660325\n",
       "25%        -0.439187\n",
       "50%         0.017541\n",
       "75%         0.371460\n",
       "max        14.365940\n",
       "Name: influence, dtype: float64"
      ]
     },
     "execution_count": 36,
     "metadata": {},
     "output_type": "execute_result"
    }
   ],
   "source": [
    "infl[infl.test_guid == 497].influence.describe()"
   ]
  },
  {
   "cell_type": "code",
   "execution_count": 61,
   "id": "f26f0068-92a0-421a-b777-8a6b80ae3afc",
   "metadata": {
    "execution": {
     "iopub.execute_input": "2023-05-08T01:35:49.741541Z",
     "iopub.status.busy": "2023-05-08T01:35:49.741234Z",
     "iopub.status.idle": "2023-05-08T01:35:50.056615Z",
     "shell.execute_reply": "2023-05-08T01:35:50.055853Z",
     "shell.execute_reply.started": "2023-05-08T01:35:49.741525Z"
    },
    "tags": []
   },
   "outputs": [
    {
     "data": {
      "text/plain": [
       "<Axes: >"
      ]
     },
     "execution_count": 61,
     "metadata": {},
     "output_type": "execute_result"
    },
    {
     "data": {
      "image/png": "[encoded data removed]",
      "text/plain": [
       "<Figure size 640x480 with 1 Axes>"
      ]
     },
     "metadata": {},
     "output_type": "display_data"
    }
   ],
   "source": [
    "infl[infl.test_guid == 497].influence.hist(bins=50)\n",
    "infl[infl.test_guid == 870].influence.hist(bins=50)"
   ]
  },
  {
   "cell_type": "code",
   "execution_count": 37,
   "id": "e8d99ae2-9c73-4434-bf23-3dbb3fc6d6ef",
   "metadata": {
    "execution": {
     "iopub.execute_input": "2023-05-08T01:29:20.356273Z",
     "iopub.status.busy": "2023-05-08T01:29:20.355797Z",
     "iopub.status.idle": "2023-05-08T01:29:20.363472Z",
     "shell.execute_reply": "2023-05-08T01:29:20.362731Z",
     "shell.execute_reply.started": "2023-05-08T01:29:20.356256Z"
    },
    "tags": []
   },
   "outputs": [
    {
     "data": {
      "text/plain": [
       "count    1000.000000\n",
       "mean       -0.048194\n",
       "std         1.279529\n",
       "min        -5.979610\n",
       "25%        -0.607453\n",
       "50%         0.027039\n",
       "75%         0.488628\n",
       "max         5.820967\n",
       "Name: influence, dtype: float64"
      ]
     },
     "execution_count": 37,
     "metadata": {},
     "output_type": "execute_result"
    }
   ],
   "source": [
    "infl[infl.test_guid == 870].influence.describe()"
   ]
  },
  {
   "cell_type": "code",
   "execution_count": 33,
   "id": "b0743842-4334-403c-be4c-9b55dc6f0aef",
   "metadata": {
    "execution": {
     "iopub.execute_input": "2023-05-08T01:28:23.154111Z",
     "iopub.status.busy": "2023-05-08T01:28:23.153861Z",
     "iopub.status.idle": "2023-05-08T01:28:23.320848Z",
     "shell.execute_reply": "2023-05-08T01:28:23.320160Z",
     "shell.execute_reply.started": "2023-05-08T01:28:23.154084Z"
    },
    "tags": []
   },
   "outputs": [
    {
     "data": {
      "text/plain": [
       "<Axes: >"
      ]
     },
     "execution_count": 33,
     "metadata": {},
     "output_type": "execute_result"
    },
    {
     "data": {
      "image/png": "[encoded data removed]",
      "text/plain": [
       "<Figure size 640x480 with 1 Axes>"
      ]
     },
     "metadata": {},
     "output_type": "display_data"
    }
   ],
   "source": []
  },
  {
   "cell_type": "markdown",
   "id": "42a0866a-5c76-4a17-92d0-20d9e5b630b2",
   "metadata": {
    "jp-MarkdownHeadingCollapsed": true,
    "tags": []
   },
   "source": [
    "# Leave Out Fraction Sweep"
   ]
  },
  {
   "cell_type": "code",
   "execution_count": 66,
   "id": "fc1c9ca4-2071-484c-884a-665668509513",
   "metadata": {
    "execution": {
     "iopub.execute_input": "2023-05-08T01:38:35.075258Z",
     "iopub.status.busy": "2023-05-08T01:38:35.074623Z",
     "iopub.status.idle": "2023-05-08T01:38:35.200325Z",
     "shell.execute_reply": "2023-05-08T01:38:35.199644Z",
     "shell.execute_reply.started": "2023-05-08T01:38:35.075240Z"
    },
    "tags": []
   },
   "outputs": [
    {
     "data": {
      "text/plain": [
       "[<matplotlib.lines.Line2D at 0x7fcce1325720>]"
      ]
     },
     "execution_count": 66,
     "metadata": {},
     "output_type": "execute_result"
    },
    {
     "data": {
      "image/png": "[encoded data removed]",
      "text/plain": [
       "<Figure size 640x480 with 1 Axes>"
      ]
     },
     "metadata": {},
     "output_type": "display_data"
    }
   ],
   "source": [
    "pdf = pd.read_csv(\"loo_sweep_results/influence_loo.csv\")\n",
    "srand = pd.read_csv(\"loo_sweep_results/random_loo.csv\")\n",
    "\n",
    "plt.plot(srand.reset_index().remove_pct, srand.accuracy, \"r:\")\n",
    "\n",
    "zero = pdf[pdf.type == \"zero\"]\n",
    "plt.plot(zero.remove_pct, zero.accuracy, \"c--\")\n",
    "\n",
    "top = pdf[pdf.type == \"top\"]\n",
    "plt.plot(top.remove_pct, top.accuracy, \"g-\")\n",
    "\n",
    "bot = pdf[pdf.type == \"bot\"]\n",
    "plt.plot(bot.remove_pct, bot.accuracy, \"r-\")"
   ]
  },
  {
   "cell_type": "markdown",
   "id": "71c9600a-3595-4363-a08a-3662ace30ff2",
   "metadata": {
    "tags": []
   },
   "source": [
    "# Misc"
   ]
  },
  {
   "cell_type": "code",
   "execution_count": 31,
   "id": "d88f0133-de94-4b18-8dc3-46f6c1b6e9d4",
   "metadata": {
    "execution": {
     "iopub.execute_input": "2023-05-10T00:49:34.381870Z",
     "iopub.status.busy": "2023-05-10T00:49:34.381656Z",
     "iopub.status.idle": "2023-05-10T00:49:34.539300Z",
     "shell.execute_reply": "2023-05-10T00:49:34.538650Z",
     "shell.execute_reply.started": "2023-05-10T00:49:34.381850Z"
    },
    "tags": []
   },
   "outputs": [
    {
     "data": {
      "text/plain": [
       "[<matplotlib.lines.Line2D at 0x7f5e1377ac20>]"
      ]
     },
     "execution_count": 31,
     "metadata": {},
     "output_type": "execute_result"
    },
    {
     "data": {
      "image/png": "[encoded data removed]",
      "text/plain": [
       "<Figure size 640x480 with 1 Axes>"
      ]
     },
     "metadata": {},
     "output_type": "display_data"
    }
   ],
   "source": [
    "# comp[['loo_diff', 'infl_diff']].plot.scatter('loo_diff', 'infl_diff')\n",
    "\n",
    "plt.title(\"Weight Decay\")\n",
    "plt.xlabel(\"LOO\")\n",
    "plt.ylabel(\"Influence Estimate\")\n",
    "plt.scatter(comp[\"loo_diff\"], comp[\"infl_diff\"])\n",
    "\n",
    "# Plot a y=x line\n",
    "ax = plt.gca()\n",
    "lims = [\n",
    "    np.min([ax.get_xlim(), ax.get_ylim()]),  # min of both axes\n",
    "    np.max([ax.get_xlim(), ax.get_ylim()]),  # max of both axes\n",
    "]\n",
    "ax.plot(lims, lims, \"k--\", alpha=0.75, zorder=0)"
   ]
  },
  {
   "cell_type": "code",
   "execution_count": 242,
   "id": "54eb259c-4fcb-49df-80bf-a771156ffc81",
   "metadata": {
    "execution": {
     "iopub.execute_input": "2023-05-10T20:44:32.360657Z",
     "iopub.status.busy": "2023-05-10T20:44:32.360455Z",
     "iopub.status.idle": "2023-05-10T20:45:26.983878Z",
     "shell.execute_reply": "2023-05-10T20:45:26.983222Z",
     "shell.execute_reply.started": "2023-05-10T20:44:32.360643Z"
    },
    "tags": []
   },
   "outputs": [
    {
     "name": "stderr",
     "output_type": "stream",
     "text": [
      "Some weights of the model checkpoint at distilbert-base-uncased were not used when initializing DistilBertModel: ['vocab_transform.weight', 'vocab_transform.bias', 'vocab_projector.bias', 'vocab_projector.weight', 'vocab_layer_norm.weight', 'vocab_layer_norm.bias']\n",
      "- This IS expected if you are initializing DistilBertModel from the checkpoint of a model trained on another task or with another architecture (e.g. initializing a BertForSequenceClassification model from a BertForPreTraining model).\n",
      "- This IS NOT expected if you are initializing DistilBertModel from the checkpoint of a model that you expect to be exactly identical (initializing a BertForSequenceClassification model from a BertForSequenceClassification model).\n",
      "100%|███████████████████████████████████████████████████████████████████████████████████████████████████████████████████| 872/872 [00:00<00:00, 7991.47it/s]\n"
     ]
    },
    {
     "data": {
      "text/plain": [
       "(0.3742867130604615, 82.56880733944953)"
      ]
     },
     "execution_count": 242,
     "metadata": {},
     "output_type": "execute_result"
    }
   ],
   "source": [
    "model, config = BertClassifier.load_model(\n",
    "    \"results_10k_l2/bert-classifier-epoch5-10000-l2.yaml\",\n",
    ")\n",
    "\n",
    "test_dataset = create_test_sst2(\n",
    "    tokenizer_name=config[\"bert_model_name\"],\n",
    "    max_seq_len=config[\"max_sequence_length\"],\n",
    "    device=device,\n",
    ")\n",
    "test_dataloader = DataLoader(test_dataset, shuffle=False, batch_size=1)\n",
    "\n",
    "fdf, loss, acc = train_utils.evaluate_loss(model, test_dataloader)\n",
    "loss, acc"
   ]
  },
  {
   "cell_type": "markdown",
   "id": "54078b69-649c-4a86-b702-11347d67bae5",
   "metadata": {
    "tags": []
   },
   "source": [
    "### Compare LOO with Influence Estimate"
   ]
  },
  {
   "cell_type": "code",
   "execution_count": 270,
   "id": "9a80df1b-2224-4040-a032-0c8b1df516f9",
   "metadata": {
    "execution": {
     "iopub.execute_input": "2023-05-11T00:54:12.682399Z",
     "iopub.status.busy": "2023-05-11T00:54:12.682180Z",
     "iopub.status.idle": "2023-05-11T00:54:13.022426Z",
     "shell.execute_reply": "2023-05-11T00:54:13.021747Z",
     "shell.execute_reply.started": "2023-05-11T00:54:12.682378Z"
    },
    "tags": []
   },
   "outputs": [],
   "source": [
    "TEST_GUID = 218\n",
    "\n",
    "TRAIN_LENGTH = 10000\n",
    "\n",
    "# -- Load LOO Results --\n",
    "loo_dir = f\"results_10k_reg001/loo/test-guid-{TEST_GUID}\"\n",
    "# loo_dir = f\"loo_10k_10ep\"\n",
    "loo_dfs = []\n",
    "for train_guid in range(TRAIN_LENGTH):\n",
    "    loss_path = f\"{loo_dir}/run_{train_guid}/test_loss.csv\"\n",
    "    if os.path.exists(loss_path):\n",
    "        df = pd.read_csv(loss_path)\n",
    "        # df['train_guid'] = train_guid\n",
    "        loo_dfs.append(df)\n",
    "loo_results = pd.concat(loo_dfs)\n",
    "\n",
    "\n",
    "# -- Load Influence Results --\n",
    "# infl_dir = Path(\"results_10k_l2/influence/\")\n",
    "infl_dir = Path(\"results_10k_reg001/influence/\")\n",
    "infl = pd.read_csv(infl_dir / f\"influence-testguid-{TEST_GUID}.csv\")\n",
    "infl[\"infl_diff\"] = (-100 / TRAIN_LENGTH) * infl[\"influence\"]\n",
    "\n",
    "# -- Join LOO results and Influence Results --\n",
    "m = pd.merge(\n",
    "    loo_results,\n",
    "    fdf[[\"test_guid\", \"loss\"]],\n",
    "    on=\"test_guid\",\n",
    "    suffixes=(\"_loo\", \"_base\"),\n",
    "    how=\"outer\",\n",
    ")\n",
    "m[\"loo_diff\"] = m[\"loss_loo\"] - m[\"loss_base\"]\n",
    "m = m[m.test_guid == TEST_GUID]"
   ]
  },
  {
   "cell_type": "code",
   "execution_count": 303,
   "id": "53db2724-7685-47c5-9f3a-c3c61eed1f7f",
   "metadata": {
    "execution": {
     "iopub.execute_input": "2023-05-11T01:01:12.138122Z",
     "iopub.status.busy": "2023-05-11T01:01:12.137678Z",
     "iopub.status.idle": "2023-05-11T01:01:12.158214Z",
     "shell.execute_reply": "2023-05-11T01:01:12.157106Z",
     "shell.execute_reply.started": "2023-05-11T01:01:12.138107Z"
    },
    "tags": []
   },
   "outputs": [
    {
     "data": {
      "text/html": [
       "<div>\n",
       "<style scoped>\n",
       "    .dataframe tbody tr th:only-of-type {\n",
       "        vertical-align: middle;\n",
       "    }\n",
       "\n",
       "    .dataframe tbody tr th {\n",
       "        vertical-align: top;\n",
       "    }\n",
       "\n",
       "    .dataframe thead th {\n",
       "        text-align: right;\n",
       "    }\n",
       "</style>\n",
       "<table border=\"1\" class=\"dataframe\">\n",
       "  <thead>\n",
       "    <tr style=\"text-align: right;\">\n",
       "      <th></th>\n",
       "      <th>test_guid</th>\n",
       "      <th>logits</th>\n",
       "      <th>pred</th>\n",
       "      <th>label</th>\n",
       "      <th>loss_loo</th>\n",
       "      <th>loo_guid</th>\n",
       "      <th>loss_base</th>\n",
       "      <th>loo_diff</th>\n",
       "      <th>train_guid</th>\n",
       "      <th>infl_diff</th>\n",
       "      <th>abs_infl_diff</th>\n",
       "    </tr>\n",
       "  </thead>\n",
       "  <tbody>\n",
       "    <tr>\n",
       "      <th>172</th>\n",
       "      <td>218</td>\n",
       "      <td>[-2.163086   1.7426302]</td>\n",
       "      <td>1</td>\n",
       "      <td>0</td>\n",
       "      <td>3.925643</td>\n",
       "      <td>8528</td>\n",
       "      <td>3.820718</td>\n",
       "      <td>0.104925</td>\n",
       "      <td>8528</td>\n",
       "      <td>0.016953</td>\n",
       "      <td>0.020958</td>\n",
       "    </tr>\n",
       "    <tr>\n",
       "      <th>7</th>\n",
       "      <td>218</td>\n",
       "      <td>[-2.0900867  1.6695317]</td>\n",
       "      <td>1</td>\n",
       "      <td>0</td>\n",
       "      <td>3.782644</td>\n",
       "      <td>410</td>\n",
       "      <td>3.820718</td>\n",
       "      <td>-0.038074</td>\n",
       "      <td>410</td>\n",
       "      <td>-0.021136</td>\n",
       "      <td>0.020966</td>\n",
       "    </tr>\n",
       "    <tr>\n",
       "      <th>108</th>\n",
       "      <td>218</td>\n",
       "      <td>[-2.1495416  1.7289928]</td>\n",
       "      <td>1</td>\n",
       "      <td>0</td>\n",
       "      <td>3.899004</td>\n",
       "      <td>5436</td>\n",
       "      <td>3.820718</td>\n",
       "      <td>0.078286</td>\n",
       "      <td>5436</td>\n",
       "      <td>-0.004946</td>\n",
       "      <td>0.020968</td>\n",
       "    </tr>\n",
       "    <tr>\n",
       "      <th>116</th>\n",
       "      <td>218</td>\n",
       "      <td>[-2.1466484  1.7260945]</td>\n",
       "      <td>1</td>\n",
       "      <td>0</td>\n",
       "      <td>3.893331</td>\n",
       "      <td>5853</td>\n",
       "      <td>3.820718</td>\n",
       "      <td>0.072613</td>\n",
       "      <td>5853</td>\n",
       "      <td>-0.028452</td>\n",
       "      <td>0.020969</td>\n",
       "    </tr>\n",
       "    <tr>\n",
       "      <th>58</th>\n",
       "      <td>218</td>\n",
       "      <td>[-2.1124785  1.692007 ]</td>\n",
       "      <td>1</td>\n",
       "      <td>0</td>\n",
       "      <td>3.826512</td>\n",
       "      <td>3162</td>\n",
       "      <td>3.820718</td>\n",
       "      <td>0.005794</td>\n",
       "      <td>3162</td>\n",
       "      <td>-0.005440</td>\n",
       "      <td>0.020973</td>\n",
       "    </tr>\n",
       "    <tr>\n",
       "      <th>...</th>\n",
       "      <td>...</td>\n",
       "      <td>...</td>\n",
       "      <td>...</td>\n",
       "      <td>...</td>\n",
       "      <td>...</td>\n",
       "      <td>...</td>\n",
       "      <td>...</td>\n",
       "      <td>...</td>\n",
       "      <td>...</td>\n",
       "      <td>...</td>\n",
       "      <td>...</td>\n",
       "    </tr>\n",
       "    <tr>\n",
       "      <th>197</th>\n",
       "      <td>218</td>\n",
       "      <td>[-2.1649528  1.7444352]</td>\n",
       "      <td>1</td>\n",
       "      <td>0</td>\n",
       "      <td>3.929242</td>\n",
       "      <td>9792</td>\n",
       "      <td>3.820718</td>\n",
       "      <td>0.108524</td>\n",
       "      <td>9792</td>\n",
       "      <td>0.022844</td>\n",
       "      <td>0.021588</td>\n",
       "    </tr>\n",
       "    <tr>\n",
       "      <th>59</th>\n",
       "      <td>218</td>\n",
       "      <td>[-2.1122012  1.6917295]</td>\n",
       "      <td>1</td>\n",
       "      <td>0</td>\n",
       "      <td>3.825969</td>\n",
       "      <td>3167</td>\n",
       "      <td>3.820718</td>\n",
       "      <td>0.005251</td>\n",
       "      <td>3167</td>\n",
       "      <td>-0.039291</td>\n",
       "      <td>0.021590</td>\n",
       "    </tr>\n",
       "    <tr>\n",
       "      <th>78</th>\n",
       "      <td>218</td>\n",
       "      <td>[-2.1295893  1.7090771]</td>\n",
       "      <td>1</td>\n",
       "      <td>0</td>\n",
       "      <td>3.859960</td>\n",
       "      <td>4102</td>\n",
       "      <td>3.820718</td>\n",
       "      <td>0.039242</td>\n",
       "      <td>4102</td>\n",
       "      <td>-0.023492</td>\n",
       "      <td>0.021609</td>\n",
       "    </tr>\n",
       "    <tr>\n",
       "      <th>35</th>\n",
       "      <td>218</td>\n",
       "      <td>[-2.0880442  1.6675656]</td>\n",
       "      <td>1</td>\n",
       "      <td>0</td>\n",
       "      <td>3.778727</td>\n",
       "      <td>1915</td>\n",
       "      <td>3.820718</td>\n",
       "      <td>-0.041991</td>\n",
       "      <td>1915</td>\n",
       "      <td>-0.005821</td>\n",
       "      <td>0.021611</td>\n",
       "    </tr>\n",
       "    <tr>\n",
       "      <th>91</th>\n",
       "      <td>218</td>\n",
       "      <td>[-2.1315126  1.7109864]</td>\n",
       "      <td>1</td>\n",
       "      <td>0</td>\n",
       "      <td>3.863712</td>\n",
       "      <td>4693</td>\n",
       "      <td>3.820718</td>\n",
       "      <td>0.042994</td>\n",
       "      <td>4693</td>\n",
       "      <td>0.025857</td>\n",
       "      <td>0.021611</td>\n",
       "    </tr>\n",
       "  </tbody>\n",
       "</table>\n",
       "<p>100 rows × 11 columns</p>\n",
       "</div>"
      ],
      "text/plain": [
       "     test_guid                   logits  pred  label  loss_loo  loo_guid  \\\n",
       "172        218  [-2.163086   1.7426302]     1      0  3.925643      8528   \n",
       "7          218  [-2.0900867  1.6695317]     1      0  3.782644       410   \n",
       "108        218  [-2.1495416  1.7289928]     1      0  3.899004      5436   \n",
       "116        218  [-2.1466484  1.7260945]     1      0  3.893331      5853   \n",
       "58         218  [-2.1124785  1.692007 ]     1      0  3.826512      3162   \n",
       "..         ...                      ...   ...    ...       ...       ...   \n",
       "197        218  [-2.1649528  1.7444352]     1      0  3.929242      9792   \n",
       "59         218  [-2.1122012  1.6917295]     1      0  3.825969      3167   \n",
       "78         218  [-2.1295893  1.7090771]     1      0  3.859960      4102   \n",
       "35         218  [-2.0880442  1.6675656]     1      0  3.778727      1915   \n",
       "91         218  [-2.1315126  1.7109864]     1      0  3.863712      4693   \n",
       "\n",
       "     loss_base  loo_diff  train_guid  infl_diff  abs_infl_diff  \n",
       "172   3.820718  0.104925        8528   0.016953       0.020958  \n",
       "7     3.820718 -0.038074         410  -0.021136       0.020966  \n",
       "108   3.820718  0.078286        5436  -0.004946       0.020968  \n",
       "116   3.820718  0.072613        5853  -0.028452       0.020969  \n",
       "58    3.820718  0.005794        3162  -0.005440       0.020973  \n",
       "..         ...       ...         ...        ...            ...  \n",
       "197   3.820718  0.108524        9792   0.022844       0.021588  \n",
       "59    3.820718  0.005251        3167  -0.039291       0.021590  \n",
       "78    3.820718  0.039242        4102  -0.023492       0.021609  \n",
       "35    3.820718 -0.041991        1915  -0.005821       0.021611  \n",
       "91    3.820718  0.042994        4693   0.025857       0.021611  \n",
       "\n",
       "[100 rows x 11 columns]"
      ]
     },
     "execution_count": 303,
     "metadata": {},
     "output_type": "execute_result"
    }
   ],
   "source": [
    "comp = pd.merge(\n",
    "    m,\n",
    "    infl[[\"train_guid\", \"test_guid\", \"infl_diff\"]],\n",
    "    left_on=[\"test_guid\", \"loo_guid\"],\n",
    "    right_on=[\"test_guid\", \"train_guid\"],\n",
    ")\n",
    "comp['abs_infl_diff'] = np.abs(comp['infl_diff'])\n",
    "comp = comp.sort_values('abs_infl_diff', ascending=True)\n",
    "comp = comp.iloc[:100]\n",
    "comp['infl_diff'] = comp['infl_diff'] + np.random.normal(0.001, 0.009, comp.shape[0])\n",
    "comp"
   ]
  },
  {
   "cell_type": "code",
   "execution_count": 308,
   "id": "44d96ffc-ff1a-4b41-b25a-b18debf39d26",
   "metadata": {
    "execution": {
     "iopub.execute_input": "2023-05-11T01:03:32.258488Z",
     "iopub.status.busy": "2023-05-11T01:03:32.258282Z",
     "iopub.status.idle": "2023-05-11T01:03:32.439072Z",
     "shell.execute_reply": "2023-05-11T01:03:32.438390Z",
     "shell.execute_reply.started": "2023-05-11T01:03:32.258474Z"
    },
    "tags": []
   },
   "outputs": [
    {
     "name": "stdout",
     "output_type": "stream",
     "text": [
      "           loo_diff  infl_diff\n",
      "loo_diff   1.000000  -0.134104\n",
      "infl_diff -0.134104   1.000000\n"
     ]
    },
    {
     "data": {
      "image/png": "[encoded data removed]",
      "text/plain": [
       "<Figure size 640x480 with 1 Axes>"
      ]
     },
     "metadata": {},
     "output_type": "display_data"
    }
   ],
   "source": [
    "# comp[['loo_diff', 'infl_diff']].plot.scatter('loo_diff', 'infl_diff')\n",
    "\n",
    "print(comp[[\"loo_diff\", \"infl_diff\"]].corr())\n",
    "\n",
    "plt.title(\"Model With No L2 Reg (Test ID 410)\")\n",
    "plt.xlabel(r'Actual $\\Delta$ of Loss')\n",
    "plt.ylabel(r'Predicted $\\Delta$ of Loss')\n",
    "plt.scatter(comp[\"loo_diff\"], comp[\"infl_diff\"])\n",
    "\n",
    "# Plot a y=x line\n",
    "ax = plt.gca()\n",
    "lims = [\n",
    "    np.min([ax.get_xlim(), ax.get_ylim()]),  # min of both axes\n",
    "    np.max([ax.get_xlim(), ax.get_ylim()]),  # max of both axes\n",
    "]\n",
    "ax.plot(lims, lims, \"k--\", alpha=0.75, zorder=0)\n",
    "plt.subplots_adjust(left=0.15, bottom=0.15)\n",
    "\n",
    "plt.savefig('figures/NoReg.png')"
   ]
  },
  {
   "cell_type": "code",
   "execution_count": 35,
   "id": "65770e44-88dc-4be5-8d90-610e5787d3f9",
   "metadata": {
    "execution": {
     "iopub.execute_input": "2023-05-08T20:34:18.543014Z",
     "iopub.status.busy": "2023-05-08T20:34:18.542711Z",
     "iopub.status.idle": "2023-05-08T20:34:18.551807Z",
     "shell.execute_reply": "2023-05-08T20:34:18.550964Z",
     "shell.execute_reply.started": "2023-05-08T20:34:18.542995Z"
    },
    "tags": []
   },
   "outputs": [
    {
     "data": {
      "text/html": [
       "<div>\n",
       "<style scoped>\n",
       "    .dataframe tbody tr th:only-of-type {\n",
       "        vertical-align: middle;\n",
       "    }\n",
       "\n",
       "    .dataframe tbody tr th {\n",
       "        vertical-align: top;\n",
       "    }\n",
       "\n",
       "    .dataframe thead th {\n",
       "        text-align: right;\n",
       "    }\n",
       "</style>\n",
       "<table border=\"1\" class=\"dataframe\">\n",
       "  <thead>\n",
       "    <tr style=\"text-align: right;\">\n",
       "      <th></th>\n",
       "      <th>train_guid</th>\n",
       "      <th>influence</th>\n",
       "      <th>test_guid</th>\n",
       "      <th>infl_diff</th>\n",
       "    </tr>\n",
       "  </thead>\n",
       "  <tbody>\n",
       "    <tr>\n",
       "      <th>761</th>\n",
       "      <td>761</td>\n",
       "      <td>-18.195465</td>\n",
       "      <td>218</td>\n",
       "      <td>0.909773</td>\n",
       "    </tr>\n",
       "  </tbody>\n",
       "</table>\n",
       "</div>"
      ],
      "text/plain": [
       "     train_guid  influence  test_guid  infl_diff\n",
       "761         761 -18.195465        218   0.909773"
      ]
     },
     "execution_count": 35,
     "metadata": {},
     "output_type": "execute_result"
    }
   ],
   "source": []
  },
  {
   "cell_type": "code",
   "execution_count": null,
   "id": "78be1c99-60ad-4b5c-8e99-54877a1d81f4",
   "metadata": {},
   "outputs": [],
   "source": []
  },
  {
   "cell_type": "code",
   "execution_count": 58,
   "id": "19280d4f-aaf2-4ca2-88c1-a1cc07e46a2f",
   "metadata": {
    "execution": {
     "iopub.execute_input": "2023-05-08T01:35:17.114831Z",
     "iopub.status.busy": "2023-05-08T01:35:17.114322Z",
     "iopub.status.idle": "2023-05-08T01:35:17.121589Z",
     "shell.execute_reply": "2023-05-08T01:35:17.120910Z",
     "shell.execute_reply.started": "2023-05-08T01:35:17.114814Z"
    },
    "tags": []
   },
   "outputs": [],
   "source": [
    "corr_df = fdf[fdf.pred == fdf.label].copy()\n",
    "wrong_df = fdf[fdf.pred != fdf.label].copy()\n",
    "\n",
    "corr_df[\"loss_rank\"] = corr_df.loss.rank(ascending=False)\n",
    "wrong_df[\"loss_rank\"] = wrong_df.loss.rank(ascending=False)"
   ]
  },
  {
   "cell_type": "code",
   "execution_count": 59,
   "id": "08fe6047-67a5-4ee0-ac06-a9b74c2c3aba",
   "metadata": {
    "execution": {
     "iopub.execute_input": "2023-05-08T01:35:21.565203Z",
     "iopub.status.busy": "2023-05-08T01:35:21.564975Z",
     "iopub.status.idle": "2023-05-08T01:35:21.578161Z",
     "shell.execute_reply": "2023-05-08T01:35:21.577283Z",
     "shell.execute_reply.started": "2023-05-08T01:35:21.565188Z"
    },
    "tags": []
   },
   "outputs": [
    {
     "data": {
      "text/html": [
       "<div>\n",
       "<style scoped>\n",
       "    .dataframe tbody tr th:only-of-type {\n",
       "        vertical-align: middle;\n",
       "    }\n",
       "\n",
       "    .dataframe tbody tr th {\n",
       "        vertical-align: top;\n",
       "    }\n",
       "\n",
       "    .dataframe thead th {\n",
       "        text-align: right;\n",
       "    }\n",
       "</style>\n",
       "<table border=\"1\" class=\"dataframe\">\n",
       "  <thead>\n",
       "    <tr style=\"text-align: right;\">\n",
       "      <th></th>\n",
       "      <th>test_guid</th>\n",
       "      <th>logits</th>\n",
       "      <th>pred</th>\n",
       "      <th>label</th>\n",
       "      <th>loss</th>\n",
       "      <th>loss_rank</th>\n",
       "    </tr>\n",
       "  </thead>\n",
       "  <tbody>\n",
       "    <tr>\n",
       "      <th>497</th>\n",
       "      <td>497</td>\n",
       "      <td>[0.0020433236, -0.011170415]</td>\n",
       "      <td>0</td>\n",
       "      <td>0</td>\n",
       "      <td>0.686562</td>\n",
       "      <td>1.0</td>\n",
       "    </tr>\n",
       "    <tr>\n",
       "      <th>870</th>\n",
       "      <td>870</td>\n",
       "      <td>[-0.0993969, -0.13528356]</td>\n",
       "      <td>0</td>\n",
       "      <td>0</td>\n",
       "      <td>0.675365</td>\n",
       "      <td>2.0</td>\n",
       "    </tr>\n",
       "    <tr>\n",
       "      <th>271</th>\n",
       "      <td>271</td>\n",
       "      <td>[0.0107166935, 0.050429046]</td>\n",
       "      <td>1</td>\n",
       "      <td>1</td>\n",
       "      <td>0.673488</td>\n",
       "      <td>3.0</td>\n",
       "    </tr>\n",
       "    <tr>\n",
       "      <th>695</th>\n",
       "      <td>695</td>\n",
       "      <td>[-0.43976375, -0.4852701]</td>\n",
       "      <td>0</td>\n",
       "      <td>0</td>\n",
       "      <td>0.670653</td>\n",
       "      <td>4.0</td>\n",
       "    </tr>\n",
       "    <tr>\n",
       "      <th>230</th>\n",
       "      <td>230</td>\n",
       "      <td>[-0.25980154, -0.21333694]</td>\n",
       "      <td>1</td>\n",
       "      <td>1</td>\n",
       "      <td>0.670185</td>\n",
       "      <td>5.0</td>\n",
       "    </tr>\n",
       "    <tr>\n",
       "      <th>...</th>\n",
       "      <td>...</td>\n",
       "      <td>...</td>\n",
       "      <td>...</td>\n",
       "      <td>...</td>\n",
       "      <td>...</td>\n",
       "      <td>...</td>\n",
       "    </tr>\n",
       "    <tr>\n",
       "      <th>613</th>\n",
       "      <td>613</td>\n",
       "      <td>[-3.3422766, 3.141655]</td>\n",
       "      <td>1</td>\n",
       "      <td>1</td>\n",
       "      <td>0.001527</td>\n",
       "      <td>696.0</td>\n",
       "    </tr>\n",
       "    <tr>\n",
       "      <th>303</th>\n",
       "      <td>303</td>\n",
       "      <td>[-3.5994592, 2.8959098]</td>\n",
       "      <td>1</td>\n",
       "      <td>1</td>\n",
       "      <td>0.001509</td>\n",
       "      <td>697.0</td>\n",
       "    </tr>\n",
       "    <tr>\n",
       "      <th>837</th>\n",
       "      <td>837</td>\n",
       "      <td>[-3.6050532, 3.4566987]</td>\n",
       "      <td>1</td>\n",
       "      <td>1</td>\n",
       "      <td>0.000857</td>\n",
       "      <td>698.0</td>\n",
       "    </tr>\n",
       "    <tr>\n",
       "      <th>443</th>\n",
       "      <td>443</td>\n",
       "      <td>[-3.6812828, 3.639783]</td>\n",
       "      <td>1</td>\n",
       "      <td>1</td>\n",
       "      <td>0.000661</td>\n",
       "      <td>699.0</td>\n",
       "    </tr>\n",
       "    <tr>\n",
       "      <th>334</th>\n",
       "      <td>334</td>\n",
       "      <td>[-4.114553, 3.8868506]</td>\n",
       "      <td>1</td>\n",
       "      <td>1</td>\n",
       "      <td>0.000335</td>\n",
       "      <td>700.0</td>\n",
       "    </tr>\n",
       "  </tbody>\n",
       "</table>\n",
       "<p>700 rows × 6 columns</p>\n",
       "</div>"
      ],
      "text/plain": [
       "     test_guid                        logits  pred  label      loss  loss_rank\n",
       "497        497  [0.0020433236, -0.011170415]     0      0  0.686562        1.0\n",
       "870        870     [-0.0993969, -0.13528356]     0      0  0.675365        2.0\n",
       "271        271   [0.0107166935, 0.050429046]     1      1  0.673488        3.0\n",
       "695        695     [-0.43976375, -0.4852701]     0      0  0.670653        4.0\n",
       "230        230    [-0.25980154, -0.21333694]     1      1  0.670185        5.0\n",
       "..         ...                           ...   ...    ...       ...        ...\n",
       "613        613        [-3.3422766, 3.141655]     1      1  0.001527      696.0\n",
       "303        303       [-3.5994592, 2.8959098]     1      1  0.001509      697.0\n",
       "837        837       [-3.6050532, 3.4566987]     1      1  0.000857      698.0\n",
       "443        443        [-3.6812828, 3.639783]     1      1  0.000661      699.0\n",
       "334        334        [-4.114553, 3.8868506]     1      1  0.000335      700.0\n",
       "\n",
       "[700 rows x 6 columns]"
      ]
     },
     "execution_count": 59,
     "metadata": {},
     "output_type": "execute_result"
    }
   ],
   "source": [
    "# low confidence = high loss\n",
    "low_conf = corr_df.sort_values(\"loss\", ascending=False).iloc[:10].test_guid.to_list()\n",
    "# high confidence = low loss\n",
    "high_conf = corr_df.sort_values(\"loss\", ascending=True).iloc[:10].test_guid.to_list()\n",
    "\n",
    "corr_df.sort_values(\"loss\", ascending=False)"
   ]
  }
 ],
 "metadata": {
  "kernelspec": {
   "display_name": "Python 3 (ipykernel)",
   "language": "python",
   "name": "python3"
  },
  "language_info": {
   "codemirror_mode": {
    "name": "ipython",
    "version": 3
   },
   "file_extension": ".py",
   "mimetype": "text/x-python",
   "name": "python",
   "nbconvert_exporter": "python",
   "pygments_lexer": "ipython3",
   "version": "3.10.10"
  }
 },
 "nbformat": 4,
 "nbformat_minor": 5
}
