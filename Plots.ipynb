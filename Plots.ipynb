{
 "cells": [
  {
   "cell_type": "code",
   "execution_count": 1,
   "id": "1737ecbb-3d01-4fc4-8bf3-db45c0f219c0",
   "metadata": {
    "execution": {
     "iopub.execute_input": "2023-05-10T06:14:34.701969Z",
     "iopub.status.busy": "2023-05-10T06:14:34.701775Z",
     "iopub.status.idle": "2023-05-10T06:14:38.317741Z",
     "shell.execute_reply": "2023-05-10T06:14:38.316925Z",
     "shell.execute_reply.started": "2023-05-10T06:14:34.701954Z"
    },
    "tags": []
   },
   "outputs": [
    {
     "name": "stderr",
     "output_type": "stream",
     "text": [
      "Some weights of the model checkpoint at distilbert-base-uncased were not used when initializing DistilBertModel: ['vocab_layer_norm.bias', 'vocab_projector.bias', 'vocab_transform.bias', 'vocab_projector.weight', 'vocab_layer_norm.weight', 'vocab_transform.weight']\n",
      "- This IS expected if you are initializing DistilBertModel from the checkpoint of a model trained on another task or with another architecture (e.g. initializing a BertForSequenceClassification model from a BertForPreTraining model).\n",
      "- This IS NOT expected if you are initializing DistilBertModel from the checkpoint of a model that you expect to be exactly identical (initializing a BertForSequenceClassification model from a BertForSequenceClassification model).\n",
      "100%|██████████████████████████████████████████████████████████████████████████████████████████████████████████████████| 872/872 [00:00<00:00, 10690.69it/s]\n"
     ]
    }
   ],
   "source": [
    "import argparse\n",
    "import copy\n",
    "import os\n",
    "import statistics\n",
    "from pathlib import Path\n",
    "\n",
    "import matplotlib.pyplot as plt\n",
    "import numpy as np\n",
    "import pandas as pd\n",
    "import torch\n",
    "import yaml\n",
    "from src import BertClassifier\n",
    "from src import datasets as data_utils\n",
    "from src import influence as inf_utils\n",
    "from src import train_utils, utils\n",
    "from src.datasets import create_loo_dataset, create_test_sst2, create_train_sst2\n",
    "from torch.utils.data import DataLoader, Dataset, TensorDataset\n",
    "\n",
    "device = utils.get_device()\n",
    "\n",
    "og_model, config = BertClassifier.load_model(\n",
    "    \"model_params/bert-best.yaml\",\n",
    ")\n",
    "\n",
    "test_dataset = create_test_sst2(\n",
    "    tokenizer_name=config[\"bert_model_name\"],\n",
    "    max_seq_len=config[\"max_sequence_length\"],\n",
    "    device=device,\n",
    ")\n",
    "test_dataloader = DataLoader(test_dataset, shuffle=False, batch_size=1)"
   ]
  },
  {
   "cell_type": "code",
   "execution_count": null,
   "id": "d7c7ab5b-7f6f-4598-ad35-01f3f0fecab6",
   "metadata": {},
   "outputs": [],
   "source": [
    "fdf, loss, acc = train_utils.evaluate_loss(og_model, test_dataloader)\n",
    "loss, acc"
   ]
  },
  {
   "cell_type": "code",
   "execution_count": 83,
   "id": "d5fbce78-4b84-4fcb-bef9-afb90bec1ac2",
   "metadata": {
    "execution": {
     "iopub.execute_input": "2023-05-08T02:07:55.660091Z",
     "iopub.status.busy": "2023-05-08T02:07:55.659842Z",
     "iopub.status.idle": "2023-05-08T02:07:55.667628Z",
     "shell.execute_reply": "2023-05-08T02:07:55.666956Z",
     "shell.execute_reply.started": "2023-05-08T02:07:55.660076Z"
    },
    "tags": []
   },
   "outputs": [
    {
     "data": {
      "text/html": [
       "<div>\n",
       "<style scoped>\n",
       "    .dataframe tbody tr th:only-of-type {\n",
       "        vertical-align: middle;\n",
       "    }\n",
       "\n",
       "    .dataframe tbody tr th {\n",
       "        vertical-align: top;\n",
       "    }\n",
       "\n",
       "    .dataframe thead th {\n",
       "        text-align: right;\n",
       "    }\n",
       "</style>\n",
       "<table border=\"1\" class=\"dataframe\">\n",
       "  <thead>\n",
       "    <tr style=\"text-align: right;\">\n",
       "      <th></th>\n",
       "      <th>test_guid</th>\n",
       "      <th>logits</th>\n",
       "      <th>pred</th>\n",
       "      <th>label</th>\n",
       "      <th>loss</th>\n",
       "    </tr>\n",
       "  </thead>\n",
       "  <tbody>\n",
       "    <tr>\n",
       "      <th>528</th>\n",
       "      <td>528</td>\n",
       "      <td>[1.3232645, -1.6964343]</td>\n",
       "      <td>0</td>\n",
       "      <td>1</td>\n",
       "      <td>3.06736</td>\n",
       "    </tr>\n",
       "  </tbody>\n",
       "</table>\n",
       "</div>"
      ],
      "text/plain": [
       "     test_guid                   logits  pred  label     loss\n",
       "528        528  [1.3232645, -1.6964343]     0      1  3.06736"
      ]
     },
     "execution_count": 83,
     "metadata": {},
     "output_type": "execute_result"
    }
   ],
   "source": [
    "df_list = []\n",
    "for test_guid in range(872):\n",
    "    df = pd.read_csv(f\"influence_results/influence-testguid-{test_guid}\")\n",
    "    df_list.append(df)\n",
    "\n",
    "infl_scores = pd.concat(df_list)\n",
    "\n",
    "\n",
    "def get_influence_score(train_guid, test_guid):\n",
    "    pass\n",
    "\n",
    "\n",
    "def get_train_influence_rank(train_guid, test_guid):\n",
    "    pass"
   ]
  },
  {
   "cell_type": "code",
   "execution_count": 58,
   "id": "19280d4f-aaf2-4ca2-88c1-a1cc07e46a2f",
   "metadata": {
    "execution": {
     "iopub.execute_input": "2023-05-08T01:35:17.114831Z",
     "iopub.status.busy": "2023-05-08T01:35:17.114322Z",
     "iopub.status.idle": "2023-05-08T01:35:17.121589Z",
     "shell.execute_reply": "2023-05-08T01:35:17.120910Z",
     "shell.execute_reply.started": "2023-05-08T01:35:17.114814Z"
    },
    "tags": []
   },
   "outputs": [],
   "source": [
    "corr_df = fdf[fdf.pred == fdf.label].copy()\n",
    "wrong_df = fdf[fdf.pred != fdf.label].copy()\n",
    "\n",
    "corr_df[\"loss_rank\"] = corr_df.loss.rank(ascending=False)\n",
    "wrong_df[\"loss_rank\"] = wrong_df.loss.rank(ascending=False)"
   ]
  },
  {
   "cell_type": "code",
   "execution_count": 59,
   "id": "08fe6047-67a5-4ee0-ac06-a9b74c2c3aba",
   "metadata": {
    "execution": {
     "iopub.execute_input": "2023-05-08T01:35:21.565203Z",
     "iopub.status.busy": "2023-05-08T01:35:21.564975Z",
     "iopub.status.idle": "2023-05-08T01:35:21.578161Z",
     "shell.execute_reply": "2023-05-08T01:35:21.577283Z",
     "shell.execute_reply.started": "2023-05-08T01:35:21.565188Z"
    },
    "tags": []
   },
   "outputs": [
    {
     "data": {
      "text/html": [
       "<div>\n",
       "<style scoped>\n",
       "    .dataframe tbody tr th:only-of-type {\n",
       "        vertical-align: middle;\n",
       "    }\n",
       "\n",
       "    .dataframe tbody tr th {\n",
       "        vertical-align: top;\n",
       "    }\n",
       "\n",
       "    .dataframe thead th {\n",
       "        text-align: right;\n",
       "    }\n",
       "</style>\n",
       "<table border=\"1\" class=\"dataframe\">\n",
       "  <thead>\n",
       "    <tr style=\"text-align: right;\">\n",
       "      <th></th>\n",
       "      <th>test_guid</th>\n",
       "      <th>logits</th>\n",
       "      <th>pred</th>\n",
       "      <th>label</th>\n",
       "      <th>loss</th>\n",
       "      <th>loss_rank</th>\n",
       "    </tr>\n",
       "  </thead>\n",
       "  <tbody>\n",
       "    <tr>\n",
       "      <th>497</th>\n",
       "      <td>497</td>\n",
       "      <td>[0.0020433236, -0.011170415]</td>\n",
       "      <td>0</td>\n",
       "      <td>0</td>\n",
       "      <td>0.686562</td>\n",
       "      <td>1.0</td>\n",
       "    </tr>\n",
       "    <tr>\n",
       "      <th>870</th>\n",
       "      <td>870</td>\n",
       "      <td>[-0.0993969, -0.13528356]</td>\n",
       "      <td>0</td>\n",
       "      <td>0</td>\n",
       "      <td>0.675365</td>\n",
       "      <td>2.0</td>\n",
       "    </tr>\n",
       "    <tr>\n",
       "      <th>271</th>\n",
       "      <td>271</td>\n",
       "      <td>[0.0107166935, 0.050429046]</td>\n",
       "      <td>1</td>\n",
       "      <td>1</td>\n",
       "      <td>0.673488</td>\n",
       "      <td>3.0</td>\n",
       "    </tr>\n",
       "    <tr>\n",
       "      <th>695</th>\n",
       "      <td>695</td>\n",
       "      <td>[-0.43976375, -0.4852701]</td>\n",
       "      <td>0</td>\n",
       "      <td>0</td>\n",
       "      <td>0.670653</td>\n",
       "      <td>4.0</td>\n",
       "    </tr>\n",
       "    <tr>\n",
       "      <th>230</th>\n",
       "      <td>230</td>\n",
       "      <td>[-0.25980154, -0.21333694]</td>\n",
       "      <td>1</td>\n",
       "      <td>1</td>\n",
       "      <td>0.670185</td>\n",
       "      <td>5.0</td>\n",
       "    </tr>\n",
       "    <tr>\n",
       "      <th>...</th>\n",
       "      <td>...</td>\n",
       "      <td>...</td>\n",
       "      <td>...</td>\n",
       "      <td>...</td>\n",
       "      <td>...</td>\n",
       "      <td>...</td>\n",
       "    </tr>\n",
       "    <tr>\n",
       "      <th>613</th>\n",
       "      <td>613</td>\n",
       "      <td>[-3.3422766, 3.141655]</td>\n",
       "      <td>1</td>\n",
       "      <td>1</td>\n",
       "      <td>0.001527</td>\n",
       "      <td>696.0</td>\n",
       "    </tr>\n",
       "    <tr>\n",
       "      <th>303</th>\n",
       "      <td>303</td>\n",
       "      <td>[-3.5994592, 2.8959098]</td>\n",
       "      <td>1</td>\n",
       "      <td>1</td>\n",
       "      <td>0.001509</td>\n",
       "      <td>697.0</td>\n",
       "    </tr>\n",
       "    <tr>\n",
       "      <th>837</th>\n",
       "      <td>837</td>\n",
       "      <td>[-3.6050532, 3.4566987]</td>\n",
       "      <td>1</td>\n",
       "      <td>1</td>\n",
       "      <td>0.000857</td>\n",
       "      <td>698.0</td>\n",
       "    </tr>\n",
       "    <tr>\n",
       "      <th>443</th>\n",
       "      <td>443</td>\n",
       "      <td>[-3.6812828, 3.639783]</td>\n",
       "      <td>1</td>\n",
       "      <td>1</td>\n",
       "      <td>0.000661</td>\n",
       "      <td>699.0</td>\n",
       "    </tr>\n",
       "    <tr>\n",
       "      <th>334</th>\n",
       "      <td>334</td>\n",
       "      <td>[-4.114553, 3.8868506]</td>\n",
       "      <td>1</td>\n",
       "      <td>1</td>\n",
       "      <td>0.000335</td>\n",
       "      <td>700.0</td>\n",
       "    </tr>\n",
       "  </tbody>\n",
       "</table>\n",
       "<p>700 rows × 6 columns</p>\n",
       "</div>"
      ],
      "text/plain": [
       "     test_guid                        logits  pred  label      loss  loss_rank\n",
       "497        497  [0.0020433236, -0.011170415]     0      0  0.686562        1.0\n",
       "870        870     [-0.0993969, -0.13528356]     0      0  0.675365        2.0\n",
       "271        271   [0.0107166935, 0.050429046]     1      1  0.673488        3.0\n",
       "695        695     [-0.43976375, -0.4852701]     0      0  0.670653        4.0\n",
       "230        230    [-0.25980154, -0.21333694]     1      1  0.670185        5.0\n",
       "..         ...                           ...   ...    ...       ...        ...\n",
       "613        613        [-3.3422766, 3.141655]     1      1  0.001527      696.0\n",
       "303        303       [-3.5994592, 2.8959098]     1      1  0.001509      697.0\n",
       "837        837       [-3.6050532, 3.4566987]     1      1  0.000857      698.0\n",
       "443        443        [-3.6812828, 3.639783]     1      1  0.000661      699.0\n",
       "334        334        [-4.114553, 3.8868506]     1      1  0.000335      700.0\n",
       "\n",
       "[700 rows x 6 columns]"
      ]
     },
     "execution_count": 59,
     "metadata": {},
     "output_type": "execute_result"
    }
   ],
   "source": [
    "# low confidence = high loss\n",
    "low_conf = corr_df.sort_values(\"loss\", ascending=False).iloc[:10].test_guid.to_list()\n",
    "# high confidence = low loss\n",
    "high_conf = corr_df.sort_values(\"loss\", ascending=True).iloc[:10].test_guid.to_list()\n",
    "\n",
    "corr_df.sort_values(\"loss\", ascending=False)"
   ]
  },
  {
   "cell_type": "markdown",
   "id": "7195467a-dc43-441f-945e-c763b0cba968",
   "metadata": {
    "jp-MarkdownHeadingCollapsed": true,
    "tags": []
   },
   "source": [
    "## Aggregate Influence Results"
   ]
  },
  {
   "cell_type": "code",
   "execution_count": 21,
   "id": "414f4dd4-9d16-418a-80dc-53ce72add590",
   "metadata": {
    "execution": {
     "iopub.execute_input": "2023-05-08T01:26:16.945303Z",
     "iopub.status.busy": "2023-05-08T01:26:16.945027Z",
     "iopub.status.idle": "2023-05-08T01:26:17.906742Z",
     "shell.execute_reply": "2023-05-08T01:26:17.906000Z",
     "shell.execute_reply.started": "2023-05-08T01:26:16.945288Z"
    },
    "tags": []
   },
   "outputs": [],
   "source": [
    "df_list = []\n",
    "for test_guid in range(872):\n",
    "    df = pd.read_csv(f\"influence_results/influence-testguid-{test_guid}\")\n",
    "    df_list.append(df)\n",
    "\n",
    "infl = pd.concat(df_list)\n",
    "avg_infl = infl.groupby(\"train_guid\").mean().reset_index().sort_values(\"train_guid\")"
   ]
  },
  {
   "cell_type": "markdown",
   "id": "ba602dab-c93a-4743-a921-1c670e286ca0",
   "metadata": {
    "jp-MarkdownHeadingCollapsed": true,
    "tags": []
   },
   "source": [
    "## Avg Influence Plot"
   ]
  },
  {
   "cell_type": "code",
   "execution_count": 6,
   "id": "6098c67b-3cfc-42b7-aad1-7b9bf7c78059",
   "metadata": {
    "execution": {
     "iopub.execute_input": "2023-05-08T01:20:15.575213Z",
     "iopub.status.busy": "2023-05-08T01:20:15.574575Z",
     "iopub.status.idle": "2023-05-08T01:20:15.738867Z",
     "shell.execute_reply": "2023-05-08T01:20:15.738089Z",
     "shell.execute_reply.started": "2023-05-08T01:20:15.575194Z"
    },
    "tags": []
   },
   "outputs": [
    {
     "data": {
      "text/plain": [
       "<Axes: >"
      ]
     },
     "execution_count": 6,
     "metadata": {},
     "output_type": "execute_result"
    },
    {
     "data": {
      "image/png": "[encoded data removed]",
      "text/plain": [
       "<Figure size 640x480 with 1 Axes>"
      ]
     },
     "metadata": {},
     "output_type": "display_data"
    }
   ],
   "source": [
    "avg_infl.influence.hist(bins=50)"
   ]
  },
  {
   "cell_type": "markdown",
   "id": "9ccff80f-0ae1-4c3f-b9be-fa3783b85564",
   "metadata": {
    "jp-MarkdownHeadingCollapsed": true,
    "tags": []
   },
   "source": [
    "### Test GUID Highest Influence Training Point"
   ]
  },
  {
   "cell_type": "code",
   "execution_count": 79,
   "id": "3eb1b816-4781-4a59-bb37-0e52b6dc5dc6",
   "metadata": {
    "execution": {
     "iopub.execute_input": "2023-05-08T02:02:33.641255Z",
     "iopub.status.busy": "2023-05-08T02:02:33.640684Z",
     "iopub.status.idle": "2023-05-08T02:02:33.659080Z",
     "shell.execute_reply": "2023-05-08T02:02:33.658413Z",
     "shell.execute_reply.started": "2023-05-08T02:02:33.641237Z"
    },
    "tags": []
   },
   "outputs": [
    {
     "data": {
      "text/html": [
       "<div>\n",
       "<style scoped>\n",
       "    .dataframe tbody tr th:only-of-type {\n",
       "        vertical-align: middle;\n",
       "    }\n",
       "\n",
       "    .dataframe tbody tr th {\n",
       "        vertical-align: top;\n",
       "    }\n",
       "\n",
       "    .dataframe thead th {\n",
       "        text-align: right;\n",
       "    }\n",
       "</style>\n",
       "<table border=\"1\" class=\"dataframe\">\n",
       "  <thead>\n",
       "    <tr style=\"text-align: right;\">\n",
       "      <th></th>\n",
       "      <th>test_guid</th>\n",
       "      <th>influence</th>\n",
       "      <th>infl_rank</th>\n",
       "    </tr>\n",
       "  </thead>\n",
       "  <tbody>\n",
       "    <tr>\n",
       "      <th>528</th>\n",
       "      <td>528</td>\n",
       "      <td>34.377197</td>\n",
       "      <td>1.0</td>\n",
       "    </tr>\n",
       "    <tr>\n",
       "      <th>513</th>\n",
       "      <td>513</td>\n",
       "      <td>31.726635</td>\n",
       "      <td>2.0</td>\n",
       "    </tr>\n",
       "    <tr>\n",
       "      <th>579</th>\n",
       "      <td>579</td>\n",
       "      <td>30.966599</td>\n",
       "      <td>3.0</td>\n",
       "    </tr>\n",
       "    <tr>\n",
       "      <th>509</th>\n",
       "      <td>509</td>\n",
       "      <td>30.907408</td>\n",
       "      <td>4.0</td>\n",
       "    </tr>\n",
       "    <tr>\n",
       "      <th>544</th>\n",
       "      <td>544</td>\n",
       "      <td>28.714794</td>\n",
       "      <td>5.0</td>\n",
       "    </tr>\n",
       "    <tr>\n",
       "      <th>...</th>\n",
       "      <td>...</td>\n",
       "      <td>...</td>\n",
       "      <td>...</td>\n",
       "    </tr>\n",
       "    <tr>\n",
       "      <th>457</th>\n",
       "      <td>457</td>\n",
       "      <td>0.040811</td>\n",
       "      <td>868.0</td>\n",
       "    </tr>\n",
       "    <tr>\n",
       "      <th>15</th>\n",
       "      <td>15</td>\n",
       "      <td>0.032891</td>\n",
       "      <td>869.0</td>\n",
       "    </tr>\n",
       "    <tr>\n",
       "      <th>837</th>\n",
       "      <td>837</td>\n",
       "      <td>0.028385</td>\n",
       "      <td>870.0</td>\n",
       "    </tr>\n",
       "    <tr>\n",
       "      <th>443</th>\n",
       "      <td>443</td>\n",
       "      <td>0.019976</td>\n",
       "      <td>871.0</td>\n",
       "    </tr>\n",
       "    <tr>\n",
       "      <th>334</th>\n",
       "      <td>334</td>\n",
       "      <td>0.009979</td>\n",
       "      <td>872.0</td>\n",
       "    </tr>\n",
       "  </tbody>\n",
       "</table>\n",
       "<p>872 rows × 3 columns</p>\n",
       "</div>"
      ],
      "text/plain": [
       "     test_guid  influence  infl_rank\n",
       "528        528  34.377197        1.0\n",
       "513        513  31.726635        2.0\n",
       "579        579  30.966599        3.0\n",
       "509        509  30.907408        4.0\n",
       "544        544  28.714794        5.0\n",
       "..         ...        ...        ...\n",
       "457        457   0.040811      868.0\n",
       "15          15   0.032891      869.0\n",
       "837        837   0.028385      870.0\n",
       "443        443   0.019976      871.0\n",
       "334        334   0.009979      872.0\n",
       "\n",
       "[872 rows x 3 columns]"
      ]
     },
     "execution_count": 79,
     "metadata": {},
     "output_type": "execute_result"
    }
   ],
   "source": [
    "max_infl = infl.groupby(\"test_guid\").influence.max().reset_index()\n",
    "max_infl[\"infl_rank\"] = max_infl.influence.rank(ascending=False)\n",
    "max_infl.sort_values(\"influence\", ascending=False)"
   ]
  },
  {
   "cell_type": "markdown",
   "id": "2dc30dbb-da7f-456a-bf9a-5f7e98dbc52f",
   "metadata": {
    "jp-MarkdownHeadingCollapsed": true,
    "tags": []
   },
   "source": [
    "# Wrong Points"
   ]
  },
  {
   "cell_type": "code",
   "execution_count": 84,
   "id": "109e3939-e88b-4c1b-901f-35f65f8374b4",
   "metadata": {
    "execution": {
     "iopub.execute_input": "2023-05-08T02:10:12.317456Z",
     "iopub.status.busy": "2023-05-08T02:10:12.317009Z",
     "iopub.status.idle": "2023-05-08T02:10:12.325219Z",
     "shell.execute_reply": "2023-05-08T02:10:12.324495Z",
     "shell.execute_reply.started": "2023-05-08T02:10:12.317438Z"
    },
    "tags": []
   },
   "outputs": [
    {
     "data": {
      "text/html": [
       "<div>\n",
       "<style scoped>\n",
       "    .dataframe tbody tr th:only-of-type {\n",
       "        vertical-align: middle;\n",
       "    }\n",
       "\n",
       "    .dataframe tbody tr th {\n",
       "        vertical-align: top;\n",
       "    }\n",
       "\n",
       "    .dataframe thead th {\n",
       "        text-align: right;\n",
       "    }\n",
       "</style>\n",
       "<table border=\"1\" class=\"dataframe\">\n",
       "  <thead>\n",
       "    <tr style=\"text-align: right;\">\n",
       "      <th></th>\n",
       "      <th>test_guid</th>\n",
       "      <th>logits</th>\n",
       "      <th>pred</th>\n",
       "      <th>label</th>\n",
       "      <th>loss</th>\n",
       "      <th>loss_rank</th>\n",
       "    </tr>\n",
       "  </thead>\n",
       "  <tbody>\n",
       "    <tr>\n",
       "      <th>528</th>\n",
       "      <td>528</td>\n",
       "      <td>[1.3232645, -1.6964343]</td>\n",
       "      <td>0</td>\n",
       "      <td>1</td>\n",
       "      <td>3.06736</td>\n",
       "      <td>5.0</td>\n",
       "    </tr>\n",
       "  </tbody>\n",
       "</table>\n",
       "</div>"
      ],
      "text/plain": [
       "     test_guid                   logits  pred  label     loss  loss_rank\n",
       "528        528  [1.3232645, -1.6964343]     0      1  3.06736        5.0"
      ]
     },
     "execution_count": 84,
     "metadata": {},
     "output_type": "execute_result"
    }
   ],
   "source": [
    "wrong_df[wrong_df.test_guid == 528]"
   ]
  },
  {
   "cell_type": "code",
   "execution_count": 94,
   "id": "f02bd017-2d17-4243-a2b7-a2d6d0bebc8b",
   "metadata": {
    "execution": {
     "iopub.execute_input": "2023-05-08T02:12:51.500526Z",
     "iopub.status.busy": "2023-05-08T02:12:51.500260Z",
     "iopub.status.idle": "2023-05-08T02:12:51.508215Z",
     "shell.execute_reply": "2023-05-08T02:12:51.507437Z",
     "shell.execute_reply.started": "2023-05-08T02:12:51.500510Z"
    },
    "tags": []
   },
   "outputs": [
    {
     "data": {
      "text/plain": [
       "'it haunts , horrifies , startles and fascinates ; it is impossible to look away . '"
      ]
     },
     "execution_count": 94,
     "metadata": {},
     "output_type": "execute_result"
    }
   ],
   "source": [
    "data_utils.get_test_example(528).sentence.squeeze()"
   ]
  },
  {
   "cell_type": "code",
   "execution_count": 87,
   "id": "e1b3b64c-2c73-4003-b9c3-e30229f0cba5",
   "metadata": {
    "execution": {
     "iopub.execute_input": "2023-05-08T02:11:01.120295Z",
     "iopub.status.busy": "2023-05-08T02:11:01.119744Z",
     "iopub.status.idle": "2023-05-08T02:11:01.129171Z",
     "shell.execute_reply": "2023-05-08T02:11:01.128290Z",
     "shell.execute_reply.started": "2023-05-08T02:11:01.120279Z"
    },
    "tags": []
   },
   "outputs": [
    {
     "data": {
      "text/html": [
       "<div>\n",
       "<style scoped>\n",
       "    .dataframe tbody tr th:only-of-type {\n",
       "        vertical-align: middle;\n",
       "    }\n",
       "\n",
       "    .dataframe tbody tr th {\n",
       "        vertical-align: top;\n",
       "    }\n",
       "\n",
       "    .dataframe thead th {\n",
       "        text-align: right;\n",
       "    }\n",
       "</style>\n",
       "<table border=\"1\" class=\"dataframe\">\n",
       "  <thead>\n",
       "    <tr style=\"text-align: right;\">\n",
       "      <th></th>\n",
       "      <th>train_guid</th>\n",
       "      <th>influence</th>\n",
       "      <th>test_guid</th>\n",
       "    </tr>\n",
       "  </thead>\n",
       "  <tbody>\n",
       "    <tr>\n",
       "      <th>686</th>\n",
       "      <td>686</td>\n",
       "      <td>-28.414139</td>\n",
       "      <td>528</td>\n",
       "    </tr>\n",
       "    <tr>\n",
       "      <th>873</th>\n",
       "      <td>873</td>\n",
       "      <td>-23.315613</td>\n",
       "      <td>528</td>\n",
       "    </tr>\n",
       "    <tr>\n",
       "      <th>229</th>\n",
       "      <td>229</td>\n",
       "      <td>-15.682107</td>\n",
       "      <td>528</td>\n",
       "    </tr>\n",
       "    <tr>\n",
       "      <th>837</th>\n",
       "      <td>837</td>\n",
       "      <td>-15.358357</td>\n",
       "      <td>528</td>\n",
       "    </tr>\n",
       "    <tr>\n",
       "      <th>738</th>\n",
       "      <td>738</td>\n",
       "      <td>-14.990066</td>\n",
       "      <td>528</td>\n",
       "    </tr>\n",
       "    <tr>\n",
       "      <th>...</th>\n",
       "      <td>...</td>\n",
       "      <td>...</td>\n",
       "      <td>...</td>\n",
       "    </tr>\n",
       "    <tr>\n",
       "      <th>213</th>\n",
       "      <td>213</td>\n",
       "      <td>10.747519</td>\n",
       "      <td>528</td>\n",
       "    </tr>\n",
       "    <tr>\n",
       "      <th>526</th>\n",
       "      <td>526</td>\n",
       "      <td>11.047774</td>\n",
       "      <td>528</td>\n",
       "    </tr>\n",
       "    <tr>\n",
       "      <th>710</th>\n",
       "      <td>710</td>\n",
       "      <td>14.738692</td>\n",
       "      <td>528</td>\n",
       "    </tr>\n",
       "    <tr>\n",
       "      <th>3</th>\n",
       "      <td>3</td>\n",
       "      <td>16.359413</td>\n",
       "      <td>528</td>\n",
       "    </tr>\n",
       "    <tr>\n",
       "      <th>761</th>\n",
       "      <td>761</td>\n",
       "      <td>34.377197</td>\n",
       "      <td>528</td>\n",
       "    </tr>\n",
       "  </tbody>\n",
       "</table>\n",
       "<p>1000 rows × 3 columns</p>\n",
       "</div>"
      ],
      "text/plain": [
       "     train_guid  influence  test_guid\n",
       "686         686 -28.414139        528\n",
       "873         873 -23.315613        528\n",
       "229         229 -15.682107        528\n",
       "837         837 -15.358357        528\n",
       "738         738 -14.990066        528\n",
       "..          ...        ...        ...\n",
       "213         213  10.747519        528\n",
       "526         526  11.047774        528\n",
       "710         710  14.738692        528\n",
       "3             3  16.359413        528\n",
       "761         761  34.377197        528\n",
       "\n",
       "[1000 rows x 3 columns]"
      ]
     },
     "execution_count": 87,
     "metadata": {},
     "output_type": "execute_result"
    }
   ],
   "source": [
    "infl[infl.test_guid == 528].sort_values(\"influence\")"
   ]
  },
  {
   "cell_type": "code",
   "execution_count": 93,
   "id": "04b9fce8-f0fc-4fc8-9660-2bb48235b31b",
   "metadata": {
    "execution": {
     "iopub.execute_input": "2023-05-08T02:12:29.547378Z",
     "iopub.status.busy": "2023-05-08T02:12:29.547138Z",
     "iopub.status.idle": "2023-05-08T02:12:29.591579Z",
     "shell.execute_reply": "2023-05-08T02:12:29.590856Z",
     "shell.execute_reply.started": "2023-05-08T02:12:29.547364Z"
    },
    "tags": []
   },
   "outputs": [
    {
     "data": {
      "text/plain": [
       "'peels layers from this character that may well not have existed on paper . '"
      ]
     },
     "execution_count": 93,
     "metadata": {},
     "output_type": "execute_result"
    }
   ],
   "source": [
    "data_utils.get_train_example(873).sentence.squeeze()"
   ]
  },
  {
   "cell_type": "code",
   "execution_count": 91,
   "id": "f07630fb-89c2-425e-8dea-a6df16f46e0b",
   "metadata": {
    "execution": {
     "iopub.execute_input": "2023-05-08T02:12:03.851809Z",
     "iopub.status.busy": "2023-05-08T02:12:03.851526Z",
     "iopub.status.idle": "2023-05-08T02:12:03.896588Z",
     "shell.execute_reply": "2023-05-08T02:12:03.895939Z",
     "shell.execute_reply.started": "2023-05-08T02:12:03.851794Z"
    },
    "tags": []
   },
   "outputs": [
    {
     "data": {
      "text/plain": [
       "'a meditation on faith and madness , frailty is blood-curdling stuff . '"
      ]
     },
     "execution_count": 91,
     "metadata": {},
     "output_type": "execute_result"
    }
   ],
   "source": [
    "data_utils.get_train_example(686).sentence.squeeze()"
   ]
  },
  {
   "cell_type": "code",
   "execution_count": 95,
   "id": "16332dd0-c6c3-4a98-b7bc-2fac6f6a97d8",
   "metadata": {
    "execution": {
     "iopub.execute_input": "2023-05-08T02:13:24.328518Z",
     "iopub.status.busy": "2023-05-08T02:13:24.328215Z",
     "iopub.status.idle": "2023-05-08T02:13:24.373876Z",
     "shell.execute_reply": "2023-05-08T02:13:24.373156Z",
     "shell.execute_reply.started": "2023-05-08T02:13:24.328501Z"
    },
    "tags": []
   },
   "outputs": [
    {
     "data": {
      "text/plain": [
       "'the pianist like a surgeon mends a broken heart ; very meticulously but without any passion '"
      ]
     },
     "execution_count": 95,
     "metadata": {},
     "output_type": "execute_result"
    }
   ],
   "source": [
    "data_utils.get_train_example(761).sentence.squeeze()"
   ]
  },
  {
   "cell_type": "markdown",
   "id": "c7dd41f5-ca3a-4187-9da8-5db98e463975",
   "metadata": {
    "jp-MarkdownHeadingCollapsed": true,
    "tags": []
   },
   "source": [
    "# Correctly Classified Points"
   ]
  },
  {
   "cell_type": "markdown",
   "id": "01750fe4-ab82-4217-8154-883e571fa067",
   "metadata": {
    "jp-MarkdownHeadingCollapsed": true,
    "tags": []
   },
   "source": [
    "## Test GUID Lowest Influence Training Point"
   ]
  },
  {
   "cell_type": "code",
   "execution_count": 78,
   "id": "28d35378-3397-441f-9763-57f52a3482dc",
   "metadata": {
    "execution": {
     "iopub.execute_input": "2023-05-08T02:02:26.585836Z",
     "iopub.status.busy": "2023-05-08T02:02:26.585477Z",
     "iopub.status.idle": "2023-05-08T02:02:26.606478Z",
     "shell.execute_reply": "2023-05-08T02:02:26.605709Z",
     "shell.execute_reply.started": "2023-05-08T02:02:26.585810Z"
    },
    "tags": []
   },
   "outputs": [
    {
     "data": {
      "text/html": [
       "<div>\n",
       "<style scoped>\n",
       "    .dataframe tbody tr th:only-of-type {\n",
       "        vertical-align: middle;\n",
       "    }\n",
       "\n",
       "    .dataframe tbody tr th {\n",
       "        vertical-align: top;\n",
       "    }\n",
       "\n",
       "    .dataframe thead th {\n",
       "        text-align: right;\n",
       "    }\n",
       "</style>\n",
       "<table border=\"1\" class=\"dataframe\">\n",
       "  <thead>\n",
       "    <tr style=\"text-align: right;\">\n",
       "      <th></th>\n",
       "      <th>test_guid</th>\n",
       "      <th>influence</th>\n",
       "      <th>infl_rank</th>\n",
       "    </tr>\n",
       "  </thead>\n",
       "  <tbody>\n",
       "    <tr>\n",
       "      <th>334</th>\n",
       "      <td>334</td>\n",
       "      <td>-0.008348</td>\n",
       "      <td>1.0</td>\n",
       "    </tr>\n",
       "    <tr>\n",
       "      <th>837</th>\n",
       "      <td>837</td>\n",
       "      <td>-0.016448</td>\n",
       "      <td>2.0</td>\n",
       "    </tr>\n",
       "    <tr>\n",
       "      <th>443</th>\n",
       "      <td>443</td>\n",
       "      <td>-0.017967</td>\n",
       "      <td>3.0</td>\n",
       "    </tr>\n",
       "    <tr>\n",
       "      <th>15</th>\n",
       "      <td>15</td>\n",
       "      <td>-0.025015</td>\n",
       "      <td>4.0</td>\n",
       "    </tr>\n",
       "    <tr>\n",
       "      <th>613</th>\n",
       "      <td>613</td>\n",
       "      <td>-0.028230</td>\n",
       "      <td>5.0</td>\n",
       "    </tr>\n",
       "    <tr>\n",
       "      <th>...</th>\n",
       "      <td>...</td>\n",
       "      <td>...</td>\n",
       "      <td>...</td>\n",
       "    </tr>\n",
       "    <tr>\n",
       "      <th>513</th>\n",
       "      <td>513</td>\n",
       "      <td>-30.077068</td>\n",
       "      <td>868.0</td>\n",
       "    </tr>\n",
       "    <tr>\n",
       "      <th>832</th>\n",
       "      <td>832</td>\n",
       "      <td>-30.189003</td>\n",
       "      <td>869.0</td>\n",
       "    </tr>\n",
       "    <tr>\n",
       "      <th>867</th>\n",
       "      <td>867</td>\n",
       "      <td>-34.763771</td>\n",
       "      <td>870.0</td>\n",
       "    </tr>\n",
       "    <tr>\n",
       "      <th>869</th>\n",
       "      <td>869</td>\n",
       "      <td>-37.043121</td>\n",
       "      <td>871.0</td>\n",
       "    </tr>\n",
       "    <tr>\n",
       "      <th>544</th>\n",
       "      <td>544</td>\n",
       "      <td>-42.056179</td>\n",
       "      <td>872.0</td>\n",
       "    </tr>\n",
       "  </tbody>\n",
       "</table>\n",
       "<p>872 rows × 3 columns</p>\n",
       "</div>"
      ],
      "text/plain": [
       "     test_guid  influence  infl_rank\n",
       "334        334  -0.008348        1.0\n",
       "837        837  -0.016448        2.0\n",
       "443        443  -0.017967        3.0\n",
       "15          15  -0.025015        4.0\n",
       "613        613  -0.028230        5.0\n",
       "..         ...        ...        ...\n",
       "513        513 -30.077068      868.0\n",
       "832        832 -30.189003      869.0\n",
       "867        867 -34.763771      870.0\n",
       "869        869 -37.043121      871.0\n",
       "544        544 -42.056179      872.0\n",
       "\n",
       "[872 rows x 3 columns]"
      ]
     },
     "execution_count": 78,
     "metadata": {},
     "output_type": "execute_result"
    }
   ],
   "source": [
    "min_infl = infl.groupby(\"test_guid\").influence.min().reset_index()\n",
    "min_infl[\"infl_rank\"] = min_infl.influence.rank(ascending=False)\n",
    "min_infl.sort_values(\"influence\", ascending=False)"
   ]
  },
  {
   "cell_type": "markdown",
   "id": "696f1b98-355e-418b-8591-a5641104ed5e",
   "metadata": {
    "jp-MarkdownHeadingCollapsed": true,
    "tags": []
   },
   "source": [
    "## Test GIUD Highest Influence Training Point"
   ]
  },
  {
   "cell_type": "code",
   "execution_count": 81,
   "id": "6b176b20-7de4-4df5-9622-0bd25a91dff4",
   "metadata": {
    "execution": {
     "iopub.execute_input": "2023-05-08T02:04:03.844197Z",
     "iopub.status.busy": "2023-05-08T02:04:03.843973Z",
     "iopub.status.idle": "2023-05-08T02:04:03.852104Z",
     "shell.execute_reply": "2023-05-08T02:04:03.851439Z",
     "shell.execute_reply.started": "2023-05-08T02:04:03.844183Z"
    },
    "tags": []
   },
   "outputs": [
    {
     "data": {
      "text/html": [
       "<div>\n",
       "<style scoped>\n",
       "    .dataframe tbody tr th:only-of-type {\n",
       "        vertical-align: middle;\n",
       "    }\n",
       "\n",
       "    .dataframe tbody tr th {\n",
       "        vertical-align: top;\n",
       "    }\n",
       "\n",
       "    .dataframe thead th {\n",
       "        text-align: right;\n",
       "    }\n",
       "</style>\n",
       "<table border=\"1\" class=\"dataframe\">\n",
       "  <thead>\n",
       "    <tr style=\"text-align: right;\">\n",
       "      <th></th>\n",
       "      <th>test_guid</th>\n",
       "      <th>influence</th>\n",
       "      <th>infl_rank</th>\n",
       "    </tr>\n",
       "  </thead>\n",
       "  <tbody>\n",
       "    <tr>\n",
       "      <th>15</th>\n",
       "      <td>15</td>\n",
       "      <td>0.032891</td>\n",
       "      <td>869.0</td>\n",
       "    </tr>\n",
       "    <tr>\n",
       "      <th>125</th>\n",
       "      <td>125</td>\n",
       "      <td>0.050493</td>\n",
       "      <td>865.0</td>\n",
       "    </tr>\n",
       "    <tr>\n",
       "      <th>303</th>\n",
       "      <td>303</td>\n",
       "      <td>0.079881</td>\n",
       "      <td>860.0</td>\n",
       "    </tr>\n",
       "    <tr>\n",
       "      <th>334</th>\n",
       "      <td>334</td>\n",
       "      <td>0.009979</td>\n",
       "      <td>872.0</td>\n",
       "    </tr>\n",
       "    <tr>\n",
       "      <th>443</th>\n",
       "      <td>443</td>\n",
       "      <td>0.019976</td>\n",
       "      <td>871.0</td>\n",
       "    </tr>\n",
       "    <tr>\n",
       "      <th>457</th>\n",
       "      <td>457</td>\n",
       "      <td>0.040811</td>\n",
       "      <td>868.0</td>\n",
       "    </tr>\n",
       "    <tr>\n",
       "      <th>613</th>\n",
       "      <td>613</td>\n",
       "      <td>0.042986</td>\n",
       "      <td>867.0</td>\n",
       "    </tr>\n",
       "    <tr>\n",
       "      <th>808</th>\n",
       "      <td>808</td>\n",
       "      <td>0.043101</td>\n",
       "      <td>866.0</td>\n",
       "    </tr>\n",
       "    <tr>\n",
       "      <th>825</th>\n",
       "      <td>825</td>\n",
       "      <td>0.055212</td>\n",
       "      <td>864.0</td>\n",
       "    </tr>\n",
       "    <tr>\n",
       "      <th>837</th>\n",
       "      <td>837</td>\n",
       "      <td>0.028385</td>\n",
       "      <td>870.0</td>\n",
       "    </tr>\n",
       "  </tbody>\n",
       "</table>\n",
       "</div>"
      ],
      "text/plain": [
       "     test_guid  influence  infl_rank\n",
       "15          15   0.032891      869.0\n",
       "125        125   0.050493      865.0\n",
       "303        303   0.079881      860.0\n",
       "334        334   0.009979      872.0\n",
       "443        443   0.019976      871.0\n",
       "457        457   0.040811      868.0\n",
       "613        613   0.042986      867.0\n",
       "808        808   0.043101      866.0\n",
       "825        825   0.055212      864.0\n",
       "837        837   0.028385      870.0"
      ]
     },
     "execution_count": 81,
     "metadata": {},
     "output_type": "execute_result"
    }
   ],
   "source": [
    "max_infl[max_infl.test_guid.isin(high_conf)]"
   ]
  },
  {
   "cell_type": "code",
   "execution_count": 82,
   "id": "154febbc-4c22-45b2-a9d6-4f255ed3d41a",
   "metadata": {
    "execution": {
     "iopub.execute_input": "2023-05-08T02:04:23.143373Z",
     "iopub.status.busy": "2023-05-08T02:04:23.142797Z",
     "iopub.status.idle": "2023-05-08T02:04:23.151103Z",
     "shell.execute_reply": "2023-05-08T02:04:23.150294Z",
     "shell.execute_reply.started": "2023-05-08T02:04:23.143354Z"
    },
    "tags": []
   },
   "outputs": [
    {
     "data": {
      "text/html": [
       "<div>\n",
       "<style scoped>\n",
       "    .dataframe tbody tr th:only-of-type {\n",
       "        vertical-align: middle;\n",
       "    }\n",
       "\n",
       "    .dataframe tbody tr th {\n",
       "        vertical-align: top;\n",
       "    }\n",
       "\n",
       "    .dataframe thead th {\n",
       "        text-align: right;\n",
       "    }\n",
       "</style>\n",
       "<table border=\"1\" class=\"dataframe\">\n",
       "  <thead>\n",
       "    <tr style=\"text-align: right;\">\n",
       "      <th></th>\n",
       "      <th>test_guid</th>\n",
       "      <th>influence</th>\n",
       "      <th>infl_rank</th>\n",
       "    </tr>\n",
       "  </thead>\n",
       "  <tbody>\n",
       "    <tr>\n",
       "      <th>15</th>\n",
       "      <td>15</td>\n",
       "      <td>-0.025015</td>\n",
       "      <td>4.0</td>\n",
       "    </tr>\n",
       "    <tr>\n",
       "      <th>125</th>\n",
       "      <td>125</td>\n",
       "      <td>-0.044609</td>\n",
       "      <td>10.0</td>\n",
       "    </tr>\n",
       "    <tr>\n",
       "      <th>303</th>\n",
       "      <td>303</td>\n",
       "      <td>-0.051041</td>\n",
       "      <td>12.0</td>\n",
       "    </tr>\n",
       "    <tr>\n",
       "      <th>334</th>\n",
       "      <td>334</td>\n",
       "      <td>-0.008348</td>\n",
       "      <td>1.0</td>\n",
       "    </tr>\n",
       "    <tr>\n",
       "      <th>443</th>\n",
       "      <td>443</td>\n",
       "      <td>-0.017967</td>\n",
       "      <td>3.0</td>\n",
       "    </tr>\n",
       "    <tr>\n",
       "      <th>457</th>\n",
       "      <td>457</td>\n",
       "      <td>-0.032868</td>\n",
       "      <td>7.0</td>\n",
       "    </tr>\n",
       "    <tr>\n",
       "      <th>613</th>\n",
       "      <td>613</td>\n",
       "      <td>-0.028230</td>\n",
       "      <td>5.0</td>\n",
       "    </tr>\n",
       "    <tr>\n",
       "      <th>808</th>\n",
       "      <td>808</td>\n",
       "      <td>-0.029786</td>\n",
       "      <td>6.0</td>\n",
       "    </tr>\n",
       "    <tr>\n",
       "      <th>825</th>\n",
       "      <td>825</td>\n",
       "      <td>-0.040168</td>\n",
       "      <td>8.0</td>\n",
       "    </tr>\n",
       "    <tr>\n",
       "      <th>837</th>\n",
       "      <td>837</td>\n",
       "      <td>-0.016448</td>\n",
       "      <td>2.0</td>\n",
       "    </tr>\n",
       "  </tbody>\n",
       "</table>\n",
       "</div>"
      ],
      "text/plain": [
       "     test_guid  influence  infl_rank\n",
       "15          15  -0.025015        4.0\n",
       "125        125  -0.044609       10.0\n",
       "303        303  -0.051041       12.0\n",
       "334        334  -0.008348        1.0\n",
       "443        443  -0.017967        3.0\n",
       "457        457  -0.032868        7.0\n",
       "613        613  -0.028230        5.0\n",
       "808        808  -0.029786        6.0\n",
       "825        825  -0.040168        8.0\n",
       "837        837  -0.016448        2.0"
      ]
     },
     "execution_count": 82,
     "metadata": {},
     "output_type": "execute_result"
    }
   ],
   "source": [
    "min_infl[min_infl.test_guid.isin(high_conf)]"
   ]
  },
  {
   "cell_type": "markdown",
   "id": "10ff9017-0b0a-4f6d-b76e-cba3db362287",
   "metadata": {
    "tags": []
   },
   "source": [
    "## Influence of High Confidence Predictions"
   ]
  },
  {
   "cell_type": "code",
   "execution_count": 100,
   "id": "3634ffd2-11ec-4a35-8b04-001ff5285136",
   "metadata": {
    "execution": {
     "iopub.execute_input": "2023-05-08T02:47:54.542451Z",
     "iopub.status.busy": "2023-05-08T02:47:54.542172Z",
     "iopub.status.idle": "2023-05-08T02:47:54.571805Z",
     "shell.execute_reply": "2023-05-08T02:47:54.571092Z",
     "shell.execute_reply.started": "2023-05-08T02:47:54.542435Z"
    },
    "tags": []
   },
   "outputs": [
    {
     "name": "stdout",
     "output_type": "stream",
     "text": [
      "[334, 443, 837, 303, 613, 457, 808, 15, 825, 125]\n"
     ]
    },
    {
     "data": {
      "text/plain": [
       "{334: \"what really makes it special is that it pulls us into its world , gives us a hero whose suffering and triumphs we can share , surrounds him with interesting characters and sends us out of the theater feeling we 've shared a great adventure . \",\n",
       " 443: 'good car chases , great fight scenes , and a distinctive blend of european , american and asian influences . ',\n",
       " 837: 'will amuse and provoke adventurous adults in specialty venues . ',\n",
       " 303: 'entertains by providing good , lively company . ',\n",
       " 613: '... takes the beauty of baseball and melds it with a story that could touch anyone regardless of their familiarity with the sport ',\n",
       " 457: \"it inspires a continuing and deeply satisfying awareness of the best movies as monumental ` picture shows . ' \",\n",
       " 808: 'enormously entertaining for moviegoers of any age . ',\n",
       " 15: 'a gorgeous , high-spirited musical from india that exquisitely blends music , dance , song , and high drama . ',\n",
       " 825: 'candid and comfortable ; a film that deftly balances action and reflection as it lets you grasp and feel the passion others have for their work . ',\n",
       " 125: \"a movie that reminds us of just how exciting and satisfying the fantasy cinema can be when it 's approached with imagination and flair . \"}"
      ]
     },
     "execution_count": 100,
     "metadata": {},
     "output_type": "execute_result"
    }
   ],
   "source": [
    "print(high_conf)\n",
    "\n",
    "{guid: data_utils.get_test_example(guid).sentence.squeeze() for guid in high_conf}"
   ]
  },
  {
   "cell_type": "code",
   "execution_count": 35,
   "id": "5b309dbc-adbf-444d-aaf9-8f6bd4927bab",
   "metadata": {
    "execution": {
     "iopub.execute_input": "2023-05-08T01:28:53.217611Z",
     "iopub.status.busy": "2023-05-08T01:28:53.217380Z",
     "iopub.status.idle": "2023-05-08T01:28:53.225146Z",
     "shell.execute_reply": "2023-05-08T01:28:53.224322Z",
     "shell.execute_reply.started": "2023-05-08T01:28:53.217596Z"
    },
    "tags": []
   },
   "outputs": [
    {
     "data": {
      "text/plain": [
       "count    1000.000000\n",
       "mean        0.000008\n",
       "std         0.001338\n",
       "min        -0.008348\n",
       "25%        -0.000363\n",
       "50%        -0.000050\n",
       "75%         0.000243\n",
       "max         0.009979\n",
       "Name: influence, dtype: float64"
      ]
     },
     "execution_count": 35,
     "metadata": {},
     "output_type": "execute_result"
    }
   ],
   "source": [
    "infl[infl.test_guid == 334].influence.describe()"
   ]
  },
  {
   "cell_type": "code",
   "execution_count": 29,
   "id": "a880b54d-f95b-47c2-bec9-00dc6cb05457",
   "metadata": {
    "execution": {
     "iopub.execute_input": "2023-05-08T01:27:24.756545Z",
     "iopub.status.busy": "2023-05-08T01:27:24.755776Z",
     "iopub.status.idle": "2023-05-08T01:27:24.930377Z",
     "shell.execute_reply": "2023-05-08T01:27:24.929645Z",
     "shell.execute_reply.started": "2023-05-08T01:27:24.756526Z"
    },
    "tags": []
   },
   "outputs": [
    {
     "data": {
      "text/plain": [
       "<Axes: >"
      ]
     },
     "execution_count": 29,
     "metadata": {},
     "output_type": "execute_result"
    },
    {
     "data": {
      "image/png": "[encoded data removed]",
      "text/plain": [
       "<Figure size 640x480 with 1 Axes>"
      ]
     },
     "metadata": {},
     "output_type": "display_data"
    }
   ],
   "source": [
    "infl[infl.test_guid == 334].influence.hist(bins=50)"
   ]
  },
  {
   "cell_type": "code",
   "execution_count": 38,
   "id": "c2c5495a-ceb0-4dd8-9518-d52f9f568aa9",
   "metadata": {
    "execution": {
     "iopub.execute_input": "2023-05-08T01:29:36.371122Z",
     "iopub.status.busy": "2023-05-08T01:29:36.370838Z",
     "iopub.status.idle": "2023-05-08T01:29:36.378928Z",
     "shell.execute_reply": "2023-05-08T01:29:36.378192Z",
     "shell.execute_reply.started": "2023-05-08T01:29:36.371107Z"
    },
    "tags": []
   },
   "outputs": [
    {
     "data": {
      "text/plain": [
       "count    1000.000000\n",
       "mean        0.000055\n",
       "std         0.003103\n",
       "min        -0.017967\n",
       "25%        -0.000859\n",
       "50%        -0.000113\n",
       "75%         0.000647\n",
       "max         0.019976\n",
       "Name: influence, dtype: float64"
      ]
     },
     "execution_count": 38,
     "metadata": {},
     "output_type": "execute_result"
    }
   ],
   "source": [
    "infl[infl.test_guid == 443].influence.describe()"
   ]
  },
  {
   "cell_type": "code",
   "execution_count": 30,
   "id": "067e85d6-d927-44ca-ac45-2e92e27f5f81",
   "metadata": {
    "execution": {
     "iopub.execute_input": "2023-05-08T01:27:50.058485Z",
     "iopub.status.busy": "2023-05-08T01:27:50.058253Z",
     "iopub.status.idle": "2023-05-08T01:27:50.247508Z",
     "shell.execute_reply": "2023-05-08T01:27:50.246746Z",
     "shell.execute_reply.started": "2023-05-08T01:27:50.058470Z"
    },
    "tags": []
   },
   "outputs": [
    {
     "data": {
      "text/plain": [
       "<Axes: >"
      ]
     },
     "execution_count": 30,
     "metadata": {},
     "output_type": "execute_result"
    },
    {
     "data": {
      "image/png": "[encoded data removed]",
      "text/plain": [
       "<Figure size 640x480 with 1 Axes>"
      ]
     },
     "metadata": {},
     "output_type": "display_data"
    }
   ],
   "source": [
    "infl[infl.test_guid == 443].influence.hist(bins=50)"
   ]
  },
  {
   "cell_type": "markdown",
   "id": "c5e3af8f-82d6-41ff-b14c-349ba555c3af",
   "metadata": {
    "jp-MarkdownHeadingCollapsed": true,
    "tags": []
   },
   "source": [
    "## Influence of Low Confidence Predictions"
   ]
  },
  {
   "cell_type": "code",
   "execution_count": 31,
   "id": "64aad9d3-12c0-4fb3-a6a1-716d8546f74b",
   "metadata": {
    "execution": {
     "iopub.execute_input": "2023-05-08T01:28:00.983822Z",
     "iopub.status.busy": "2023-05-08T01:28:00.983587Z",
     "iopub.status.idle": "2023-05-08T01:28:00.995663Z",
     "shell.execute_reply": "2023-05-08T01:28:00.994918Z",
     "shell.execute_reply.started": "2023-05-08T01:28:00.983807Z"
    }
   },
   "outputs": [
    {
     "name": "stdout",
     "output_type": "stream",
     "text": [
      "[497, 870, 271, 695, 230, 42, 840, 733, 847, 425]\n"
     ]
    },
    {
     "data": {
      "text/html": [
       "<div>\n",
       "<style scoped>\n",
       "    .dataframe tbody tr th:only-of-type {\n",
       "        vertical-align: middle;\n",
       "    }\n",
       "\n",
       "    .dataframe tbody tr th {\n",
       "        vertical-align: top;\n",
       "    }\n",
       "\n",
       "    .dataframe thead th {\n",
       "        text-align: right;\n",
       "    }\n",
       "</style>\n",
       "<table border=\"1\" class=\"dataframe\">\n",
       "  <thead>\n",
       "    <tr style=\"text-align: right;\">\n",
       "      <th></th>\n",
       "      <th>train_guid</th>\n",
       "      <th>influence</th>\n",
       "      <th>test_guid</th>\n",
       "    </tr>\n",
       "  </thead>\n",
       "  <tbody>\n",
       "    <tr>\n",
       "      <th>0</th>\n",
       "      <td>0</td>\n",
       "      <td>2.200142</td>\n",
       "      <td>42</td>\n",
       "    </tr>\n",
       "    <tr>\n",
       "      <th>1</th>\n",
       "      <td>1</td>\n",
       "      <td>0.430909</td>\n",
       "      <td>42</td>\n",
       "    </tr>\n",
       "    <tr>\n",
       "      <th>2</th>\n",
       "      <td>2</td>\n",
       "      <td>-0.039662</td>\n",
       "      <td>42</td>\n",
       "    </tr>\n",
       "    <tr>\n",
       "      <th>3</th>\n",
       "      <td>3</td>\n",
       "      <td>5.643315</td>\n",
       "      <td>42</td>\n",
       "    </tr>\n",
       "    <tr>\n",
       "      <th>4</th>\n",
       "      <td>4</td>\n",
       "      <td>0.187307</td>\n",
       "      <td>42</td>\n",
       "    </tr>\n",
       "    <tr>\n",
       "      <th>...</th>\n",
       "      <td>...</td>\n",
       "      <td>...</td>\n",
       "      <td>...</td>\n",
       "    </tr>\n",
       "    <tr>\n",
       "      <th>995</th>\n",
       "      <td>995</td>\n",
       "      <td>-0.938940</td>\n",
       "      <td>870</td>\n",
       "    </tr>\n",
       "    <tr>\n",
       "      <th>996</th>\n",
       "      <td>996</td>\n",
       "      <td>-0.430827</td>\n",
       "      <td>870</td>\n",
       "    </tr>\n",
       "    <tr>\n",
       "      <th>997</th>\n",
       "      <td>997</td>\n",
       "      <td>-0.021050</td>\n",
       "      <td>870</td>\n",
       "    </tr>\n",
       "    <tr>\n",
       "      <th>998</th>\n",
       "      <td>998</td>\n",
       "      <td>-1.582700</td>\n",
       "      <td>870</td>\n",
       "    </tr>\n",
       "    <tr>\n",
       "      <th>999</th>\n",
       "      <td>999</td>\n",
       "      <td>0.540060</td>\n",
       "      <td>870</td>\n",
       "    </tr>\n",
       "  </tbody>\n",
       "</table>\n",
       "<p>10000 rows × 3 columns</p>\n",
       "</div>"
      ],
      "text/plain": [
       "     train_guid  influence  test_guid\n",
       "0             0   2.200142         42\n",
       "1             1   0.430909         42\n",
       "2             2  -0.039662         42\n",
       "3             3   5.643315         42\n",
       "4             4   0.187307         42\n",
       "..          ...        ...        ...\n",
       "995         995  -0.938940        870\n",
       "996         996  -0.430827        870\n",
       "997         997  -0.021050        870\n",
       "998         998  -1.582700        870\n",
       "999         999   0.540060        870\n",
       "\n",
       "[10000 rows x 3 columns]"
      ]
     },
     "execution_count": 31,
     "metadata": {},
     "output_type": "execute_result"
    }
   ],
   "source": [
    "print(low_conf)\n",
    "infl[infl.test_guid.isin(low_conf)]"
   ]
  },
  {
   "cell_type": "code",
   "execution_count": 36,
   "id": "99f23753-86aa-4848-b248-e2837298fc63",
   "metadata": {
    "execution": {
     "iopub.execute_input": "2023-05-08T01:29:06.347106Z",
     "iopub.status.busy": "2023-05-08T01:29:06.346871Z",
     "iopub.status.idle": "2023-05-08T01:29:06.354807Z",
     "shell.execute_reply": "2023-05-08T01:29:06.354026Z",
     "shell.execute_reply.started": "2023-05-08T01:29:06.347092Z"
    },
    "tags": []
   },
   "outputs": [
    {
     "data": {
      "text/plain": [
       "count    1000.000000\n",
       "mean       -0.071687\n",
       "std         1.773631\n",
       "min       -11.660325\n",
       "25%        -0.439187\n",
       "50%         0.017541\n",
       "75%         0.371460\n",
       "max        14.365940\n",
       "Name: influence, dtype: float64"
      ]
     },
     "execution_count": 36,
     "metadata": {},
     "output_type": "execute_result"
    }
   ],
   "source": [
    "infl[infl.test_guid == 497].influence.describe()"
   ]
  },
  {
   "cell_type": "code",
   "execution_count": 61,
   "id": "f26f0068-92a0-421a-b777-8a6b80ae3afc",
   "metadata": {
    "execution": {
     "iopub.execute_input": "2023-05-08T01:35:49.741541Z",
     "iopub.status.busy": "2023-05-08T01:35:49.741234Z",
     "iopub.status.idle": "2023-05-08T01:35:50.056615Z",
     "shell.execute_reply": "2023-05-08T01:35:50.055853Z",
     "shell.execute_reply.started": "2023-05-08T01:35:49.741525Z"
    },
    "tags": []
   },
   "outputs": [
    {
     "data": {
      "text/plain": [
       "<Axes: >"
      ]
     },
     "execution_count": 61,
     "metadata": {},
     "output_type": "execute_result"
    },
    {
     "data": {
      "image/png": "[encoded data removed]",
      "text/plain": [
       "<Figure size 640x480 with 1 Axes>"
      ]
     },
     "metadata": {},
     "output_type": "display_data"
    }
   ],
   "source": [
    "infl[infl.test_guid == 497].influence.hist(bins=50)\n",
    "infl[infl.test_guid == 870].influence.hist(bins=50)"
   ]
  },
  {
   "cell_type": "code",
   "execution_count": 37,
   "id": "e8d99ae2-9c73-4434-bf23-3dbb3fc6d6ef",
   "metadata": {
    "execution": {
     "iopub.execute_input": "2023-05-08T01:29:20.356273Z",
     "iopub.status.busy": "2023-05-08T01:29:20.355797Z",
     "iopub.status.idle": "2023-05-08T01:29:20.363472Z",
     "shell.execute_reply": "2023-05-08T01:29:20.362731Z",
     "shell.execute_reply.started": "2023-05-08T01:29:20.356256Z"
    },
    "tags": []
   },
   "outputs": [
    {
     "data": {
      "text/plain": [
       "count    1000.000000\n",
       "mean       -0.048194\n",
       "std         1.279529\n",
       "min        -5.979610\n",
       "25%        -0.607453\n",
       "50%         0.027039\n",
       "75%         0.488628\n",
       "max         5.820967\n",
       "Name: influence, dtype: float64"
      ]
     },
     "execution_count": 37,
     "metadata": {},
     "output_type": "execute_result"
    }
   ],
   "source": [
    "infl[infl.test_guid == 870].influence.describe()"
   ]
  },
  {
   "cell_type": "code",
   "execution_count": 33,
   "id": "b0743842-4334-403c-be4c-9b55dc6f0aef",
   "metadata": {
    "execution": {
     "iopub.execute_input": "2023-05-08T01:28:23.154111Z",
     "iopub.status.busy": "2023-05-08T01:28:23.153861Z",
     "iopub.status.idle": "2023-05-08T01:28:23.320848Z",
     "shell.execute_reply": "2023-05-08T01:28:23.320160Z",
     "shell.execute_reply.started": "2023-05-08T01:28:23.154084Z"
    },
    "tags": []
   },
   "outputs": [
    {
     "data": {
      "text/plain": [
       "<Axes: >"
      ]
     },
     "execution_count": 33,
     "metadata": {},
     "output_type": "execute_result"
    },
    {
     "data": {
      "image/png": "[encoded data removed]",
      "text/plain": [
       "<Figure size 640x480 with 1 Axes>"
      ]
     },
     "metadata": {},
     "output_type": "display_data"
    }
   ],
   "source": []
  },
  {
   "cell_type": "markdown",
   "id": "42a0866a-5c76-4a17-92d0-20d9e5b630b2",
   "metadata": {
    "jp-MarkdownHeadingCollapsed": true,
    "tags": []
   },
   "source": [
    "# Leave Out Fraction Sweep"
   ]
  },
  {
   "cell_type": "code",
   "execution_count": 66,
   "id": "fc1c9ca4-2071-484c-884a-665668509513",
   "metadata": {
    "execution": {
     "iopub.execute_input": "2023-05-08T01:38:35.075258Z",
     "iopub.status.busy": "2023-05-08T01:38:35.074623Z",
     "iopub.status.idle": "2023-05-08T01:38:35.200325Z",
     "shell.execute_reply": "2023-05-08T01:38:35.199644Z",
     "shell.execute_reply.started": "2023-05-08T01:38:35.075240Z"
    },
    "tags": []
   },
   "outputs": [
    {
     "data": {
      "text/plain": [
       "[<matplotlib.lines.Line2D at 0x7fcce1325720>]"
      ]
     },
     "execution_count": 66,
     "metadata": {},
     "output_type": "execute_result"
    },
    {
     "data": {
      "image/png": "[encoded data removed]",
      "text/plain": [
       "<Figure size 640x480 with 1 Axes>"
      ]
     },
     "metadata": {},
     "output_type": "display_data"
    }
   ],
   "source": [
    "pdf = pd.read_csv(\"loo_sweep_results/influence_loo.csv\")\n",
    "srand = pd.read_csv(\"loo_sweep_results/random_loo.csv\")\n",
    "\n",
    "plt.plot(srand.reset_index().remove_pct, srand.accuracy, \"r:\")\n",
    "\n",
    "zero = pdf[pdf.type == \"zero\"]\n",
    "plt.plot(zero.remove_pct, zero.accuracy, \"c--\")\n",
    "\n",
    "top = pdf[pdf.type == \"top\"]\n",
    "plt.plot(top.remove_pct, top.accuracy, \"g-\")\n",
    "\n",
    "bot = pdf[pdf.type == \"bot\"]\n",
    "plt.plot(bot.remove_pct, bot.accuracy, \"r-\")"
   ]
  },
  {
   "cell_type": "markdown",
   "id": "578c3dae-b299-4bb5-9381-453f3b22b8fa",
   "metadata": {
    "tags": []
   },
   "source": [
    "# Influence Plots"
   ]
  },
  {
   "cell_type": "markdown",
   "id": "a456b424-9ba0-4650-a6ca-a23746f9706e",
   "metadata": {
    "tags": []
   },
   "source": [
    "## No L2"
   ]
  },
  {
   "cell_type": "code",
   "execution_count": 2,
   "id": "aaabb132-1f05-4a53-8370-30b48cd87a11",
   "metadata": {
    "execution": {
     "iopub.execute_input": "2023-05-08T19:57:44.289744Z",
     "iopub.status.busy": "2023-05-08T19:57:44.289517Z",
     "iopub.status.idle": "2023-05-08T19:57:44.707153Z",
     "shell.execute_reply": "2023-05-08T19:57:44.706471Z",
     "shell.execute_reply.started": "2023-05-08T19:57:44.289727Z"
    },
    "tags": []
   },
   "outputs": [
    {
     "name": "stderr",
     "output_type": "stream",
     "text": [
      "100%|████████████████████████████████████████████████████████████████████████████████████████████████████████████████| 2000/2000 [00:00<00:00, 13547.01it/s]\n",
      "100%|███████████████████████████████████████████████████████████████████████████████████████████████████████████████████| 872/872 [00:00<00:00, 9948.46it/s]\n"
     ]
    }
   ],
   "source": [
    "config = utils.load_config(\n",
    "    \"loo_2k_l2/bert-classifier-base.yaml\",\n",
    ")\n",
    "\n",
    "# Create datasets\n",
    "train_dataset = create_train_sst2(\n",
    "    num_samples=config[\"num_training_examples\"],\n",
    "    tokenizer_name=config[\"bert_model_name\"],\n",
    "    max_seq_len=config[\"max_sequence_length\"],\n",
    "    device=device,\n",
    ")\n",
    "\n",
    "test_dataset = create_test_sst2(\n",
    "    tokenizer_name=config[\"bert_model_name\"],\n",
    "    max_seq_len=config[\"max_sequence_length\"],\n",
    "    device=device,\n",
    ")\n",
    "test_dataloader = DataLoader(test_dataset, shuffle=False, batch_size=1)\n",
    "\n",
    "og_model, fdf, test_loss, test_acc = train_utils.train_bert_model(\n",
    "    train_dataset, test_dataset, config\n",
    ")"
   ]
  },
  {
   "cell_type": "code",
   "execution_count": null,
   "id": "91eeabbd-1ae4-41d7-ba5f-49978eefcf49",
   "metadata": {},
   "outputs": [],
   "source": [
    "TEST_GUID = 218"
   ]
  },
  {
   "cell_type": "markdown",
   "id": "c5d3d650-c745-4ac9-ba58-62cf2b6b1395",
   "metadata": {
    "tags": []
   },
   "source": [
    "## With L2"
   ]
  },
  {
   "cell_type": "code",
   "execution_count": 2,
   "id": "d99a0f29-64c7-4500-9eb7-bd566ea8b2c5",
   "metadata": {
    "execution": {
     "iopub.execute_input": "2023-05-10T06:14:38.503120Z",
     "iopub.status.busy": "2023-05-10T06:14:38.502915Z",
     "iopub.status.idle": "2023-05-10T06:14:44.768458Z",
     "shell.execute_reply": "2023-05-10T06:14:44.767849Z",
     "shell.execute_reply.started": "2023-05-10T06:14:38.503105Z"
    },
    "tags": []
   },
   "outputs": [
    {
     "name": "stderr",
     "output_type": "stream",
     "text": [
      "Some weights of the model checkpoint at distilbert-base-uncased were not used when initializing DistilBertModel: ['vocab_layer_norm.bias', 'vocab_projector.bias', 'vocab_transform.bias', 'vocab_projector.weight', 'vocab_layer_norm.weight', 'vocab_transform.weight']\n",
      "- This IS expected if you are initializing DistilBertModel from the checkpoint of a model trained on another task or with another architecture (e.g. initializing a BertForSequenceClassification model from a BertForPreTraining model).\n",
      "- This IS NOT expected if you are initializing DistilBertModel from the checkpoint of a model that you expect to be exactly identical (initializing a BertForSequenceClassification model from a BertForSequenceClassification model).\n",
      "100%|███████████████████████████████████████████████████████████████████████████████████████████████████████████████████| 872/872 [00:00<00:00, 8420.53it/s]\n"
     ]
    },
    {
     "name": "stdout",
     "output_type": "stream",
     "text": [
      "{'batch_size': 32, 'bert_model_name': 'distilbert-base-uncased', 'classifier_drop_out': 0, 'classifier_hidden_size': 0, 'classifier_init_state_path': 'model_params/bert-epoch9-reg0.001-10000.pt', 'classifier_type': 'single-fc', 'epochs': 9, 'learning_rate': 0.0002, 'max_sequence_length': 64, 'num_training_examples': 10000, 'optimizer_weight_decay': 0.001}\n"
     ]
    },
    {
     "data": {
      "text/plain": [
       "(0.39863892992381156, 83.14220183486239)"
      ]
     },
     "execution_count": 2,
     "metadata": {},
     "output_type": "execute_result"
    }
   ],
   "source": [
    "model, config = BertClassifier.load_model(\n",
    "    \"model_params/bert-best.yaml\"\n",
    ")\n",
    "\n",
    "test_dataset = create_test_sst2(\n",
    "    tokenizer_name=config[\"bert_model_name\"],\n",
    "    max_seq_len=config[\"max_sequence_length\"],\n",
    "    device=device,\n",
    ")\n",
    "test_dataloader = DataLoader(test_dataset, shuffle=False, batch_size=1)\n",
    "\n",
    "fdf, loss, acc = train_utils.evaluate_loss(model, test_dataloader)\n",
    "print(config)\n",
    "loss, acc"
   ]
  },
  {
   "cell_type": "code",
   "execution_count": 3,
   "id": "67e47642-170c-4a3c-bdeb-d8b82ec55497",
   "metadata": {
    "execution": {
     "iopub.execute_input": "2023-05-10T06:14:58.710808Z",
     "iopub.status.busy": "2023-05-10T06:14:58.710191Z",
     "iopub.status.idle": "2023-05-10T06:14:58.722621Z",
     "shell.execute_reply": "2023-05-10T06:14:58.721926Z",
     "shell.execute_reply.started": "2023-05-10T06:14:58.710789Z"
    },
    "tags": []
   },
   "outputs": [
    {
     "data": {
      "text/html": [
       "<div>\n",
       "<style scoped>\n",
       "    .dataframe tbody tr th:only-of-type {\n",
       "        vertical-align: middle;\n",
       "    }\n",
       "\n",
       "    .dataframe tbody tr th {\n",
       "        vertical-align: top;\n",
       "    }\n",
       "\n",
       "    .dataframe thead th {\n",
       "        text-align: right;\n",
       "    }\n",
       "</style>\n",
       "<table border=\"1\" class=\"dataframe\">\n",
       "  <thead>\n",
       "    <tr style=\"text-align: right;\">\n",
       "      <th></th>\n",
       "      <th>test_guid</th>\n",
       "      <th>logits</th>\n",
       "      <th>pred</th>\n",
       "      <th>label</th>\n",
       "      <th>loss</th>\n",
       "    </tr>\n",
       "  </thead>\n",
       "  <tbody>\n",
       "    <tr>\n",
       "      <th>15</th>\n",
       "      <td>15</td>\n",
       "      <td>[-3.270208, 3.1246793]</td>\n",
       "      <td>1</td>\n",
       "      <td>1</td>\n",
       "      <td>0.001669</td>\n",
       "    </tr>\n",
       "    <tr>\n",
       "      <th>334</th>\n",
       "      <td>334</td>\n",
       "      <td>[-3.2596936, 3.022319]</td>\n",
       "      <td>1</td>\n",
       "      <td>1</td>\n",
       "      <td>0.001868</td>\n",
       "    </tr>\n",
       "    <tr>\n",
       "      <th>808</th>\n",
       "      <td>808</td>\n",
       "      <td>[-3.1854749, 3.0920424]</td>\n",
       "      <td>1</td>\n",
       "      <td>1</td>\n",
       "      <td>0.001876</td>\n",
       "    </tr>\n",
       "    <tr>\n",
       "      <th>443</th>\n",
       "      <td>443</td>\n",
       "      <td>[-3.1042066, 3.0558453]</td>\n",
       "      <td>1</td>\n",
       "      <td>1</td>\n",
       "      <td>0.002110</td>\n",
       "    </tr>\n",
       "    <tr>\n",
       "      <th>837</th>\n",
       "      <td>837</td>\n",
       "      <td>[-3.0979948, 2.9360476]</td>\n",
       "      <td>1</td>\n",
       "      <td>1</td>\n",
       "      <td>0.002393</td>\n",
       "    </tr>\n",
       "    <tr>\n",
       "      <th>...</th>\n",
       "      <td>...</td>\n",
       "      <td>...</td>\n",
       "      <td>...</td>\n",
       "      <td>...</td>\n",
       "      <td>...</td>\n",
       "    </tr>\n",
       "    <tr>\n",
       "      <th>494</th>\n",
       "      <td>494</td>\n",
       "      <td>[-1.5574929, 1.2966905]</td>\n",
       "      <td>1</td>\n",
       "      <td>0</td>\n",
       "      <td>2.910188</td>\n",
       "    </tr>\n",
       "    <tr>\n",
       "      <th>528</th>\n",
       "      <td>528</td>\n",
       "      <td>[1.3089001, -1.6915847]</td>\n",
       "      <td>0</td>\n",
       "      <td>1</td>\n",
       "      <td>3.049049</td>\n",
       "    </tr>\n",
       "    <tr>\n",
       "      <th>544</th>\n",
       "      <td>544</td>\n",
       "      <td>[-2.088636, 1.667077]</td>\n",
       "      <td>1</td>\n",
       "      <td>0</td>\n",
       "      <td>3.778827</td>\n",
       "    </tr>\n",
       "    <tr>\n",
       "      <th>218</th>\n",
       "      <td>218</td>\n",
       "      <td>[-2.1095824, 1.6889799]</td>\n",
       "      <td>1</td>\n",
       "      <td>0</td>\n",
       "      <td>3.820718</td>\n",
       "    </tr>\n",
       "    <tr>\n",
       "      <th>862</th>\n",
       "      <td>862</td>\n",
       "      <td>[-2.1770434, 2.074576]</td>\n",
       "      <td>1</td>\n",
       "      <td>0</td>\n",
       "      <td>4.265760</td>\n",
       "    </tr>\n",
       "  </tbody>\n",
       "</table>\n",
       "<p>872 rows × 5 columns</p>\n",
       "</div>"
      ],
      "text/plain": [
       "     test_guid                   logits  pred  label      loss\n",
       "15          15   [-3.270208, 3.1246793]     1      1  0.001669\n",
       "334        334   [-3.2596936, 3.022319]     1      1  0.001868\n",
       "808        808  [-3.1854749, 3.0920424]     1      1  0.001876\n",
       "443        443  [-3.1042066, 3.0558453]     1      1  0.002110\n",
       "837        837  [-3.0979948, 2.9360476]     1      1  0.002393\n",
       "..         ...                      ...   ...    ...       ...\n",
       "494        494  [-1.5574929, 1.2966905]     1      0  2.910188\n",
       "528        528  [1.3089001, -1.6915847]     0      1  3.049049\n",
       "544        544    [-2.088636, 1.667077]     1      0  3.778827\n",
       "218        218  [-2.1095824, 1.6889799]     1      0  3.820718\n",
       "862        862   [-2.1770434, 2.074576]     1      0  4.265760\n",
       "\n",
       "[872 rows x 5 columns]"
      ]
     },
     "execution_count": 3,
     "metadata": {},
     "output_type": "execute_result"
    }
   ],
   "source": [
    "fdf.sort_values('loss', ascending=True)"
   ]
  },
  {
   "cell_type": "markdown",
   "id": "80e96ff0-bd49-41f3-94f1-00ff86acec24",
   "metadata": {
    "tags": []
   },
   "source": [
    "### Compare LOO With Influence Estimate"
   ]
  },
  {
   "cell_type": "code",
   "execution_count": 7,
   "id": "26abb92f-9ac6-44ea-a7cc-93d40e098756",
   "metadata": {
    "execution": {
     "iopub.execute_input": "2023-05-10T06:21:43.334908Z",
     "iopub.status.busy": "2023-05-10T06:21:43.334314Z",
     "iopub.status.idle": "2023-05-10T06:21:43.425277Z",
     "shell.execute_reply": "2023-05-10T06:21:43.424587Z",
     "shell.execute_reply.started": "2023-05-10T06:21:43.334894Z"
    },
    "tags": []
   },
   "outputs": [
    {
     "data": {
      "text/html": [
       "<div>\n",
       "<style scoped>\n",
       "    .dataframe tbody tr th:only-of-type {\n",
       "        vertical-align: middle;\n",
       "    }\n",
       "\n",
       "    .dataframe tbody tr th {\n",
       "        vertical-align: top;\n",
       "    }\n",
       "\n",
       "    .dataframe thead th {\n",
       "        text-align: right;\n",
       "    }\n",
       "</style>\n",
       "<table border=\"1\" class=\"dataframe\">\n",
       "  <thead>\n",
       "    <tr style=\"text-align: right;\">\n",
       "      <th></th>\n",
       "      <th>test_guid</th>\n",
       "      <th>logits</th>\n",
       "      <th>pred</th>\n",
       "      <th>label</th>\n",
       "      <th>loss_loo</th>\n",
       "      <th>loo_guid</th>\n",
       "      <th>loss_base</th>\n",
       "      <th>loo_diff</th>\n",
       "      <th>train_guid</th>\n",
       "      <th>infl_diff</th>\n",
       "      <th>infl_rank</th>\n",
       "    </tr>\n",
       "  </thead>\n",
       "  <tbody>\n",
       "    <tr>\n",
       "      <th>2</th>\n",
       "      <td>218</td>\n",
       "      <td>[-2.200996   1.7804732]</td>\n",
       "      <td>1</td>\n",
       "      <td>0</td>\n",
       "      <td>3.999955</td>\n",
       "      <td>8030</td>\n",
       "      <td>3.820718</td>\n",
       "      <td>0.179237</td>\n",
       "      <td>8030</td>\n",
       "      <td>0.199606</td>\n",
       "      <td>1.0</td>\n",
       "    </tr>\n",
       "    <tr>\n",
       "      <th>1</th>\n",
       "      <td>218</td>\n",
       "      <td>[-2.1967604  1.7761322]</td>\n",
       "      <td>1</td>\n",
       "      <td>0</td>\n",
       "      <td>3.991537</td>\n",
       "      <td>7127</td>\n",
       "      <td>3.820718</td>\n",
       "      <td>0.170819</td>\n",
       "      <td>7127</td>\n",
       "      <td>0.199681</td>\n",
       "      <td>2.0</td>\n",
       "    </tr>\n",
       "    <tr>\n",
       "      <th>0</th>\n",
       "      <td>218</td>\n",
       "      <td>[-2.206392   1.7858853]</td>\n",
       "      <td>1</td>\n",
       "      <td>0</td>\n",
       "      <td>4.010567</td>\n",
       "      <td>761</td>\n",
       "      <td>3.820718</td>\n",
       "      <td>0.189849</td>\n",
       "      <td>761</td>\n",
       "      <td>0.214676</td>\n",
       "      <td>3.0</td>\n",
       "    </tr>\n",
       "  </tbody>\n",
       "</table>\n",
       "</div>"
      ],
      "text/plain": [
       "   test_guid                   logits  pred  label  loss_loo  loo_guid  \\\n",
       "2        218  [-2.200996   1.7804732]     1      0  3.999955      8030   \n",
       "1        218  [-2.1967604  1.7761322]     1      0  3.991537      7127   \n",
       "0        218  [-2.206392   1.7858853]     1      0  4.010567       761   \n",
       "\n",
       "   loss_base  loo_diff  train_guid  infl_diff  infl_rank  \n",
       "2   3.820718  0.179237        8030   0.199606        1.0  \n",
       "1   3.820718  0.170819        7127   0.199681        2.0  \n",
       "0   3.820718  0.189849         761   0.214676        3.0  "
      ]
     },
     "execution_count": 7,
     "metadata": {},
     "output_type": "execute_result"
    }
   ],
   "source": [
    "TEST_GUID = 218\n",
    "\n",
    "TRAIN_LENGTH = 10000\n",
    "results_dir = Path(\"results_10k_reg001\")\n",
    "\n",
    "# -- Load LOO Results --\n",
    "loo_dir = results_dir / \"loo\" / f\"test-guid-{TEST_GUID}\"\n",
    "loo_dfs = []\n",
    "for train_guid in range(TRAIN_LENGTH):\n",
    "    loss_path = loo_dir / f\"run_{train_guid}\" / \"test_loss.csv\"\n",
    "    if os.path.exists(loss_path):\n",
    "        try:\n",
    "            df = pd.read_csv(loss_path)\n",
    "        except:\n",
    "            import pdb; pdb.set_trace()\n",
    "        loo_dfs.append(df)\n",
    "loo_results = pd.concat(loo_dfs)\n",
    "\n",
    "\n",
    "# -- Load Influence Results --\n",
    "infl_dir = results_dir / \"influence\"\n",
    "infl = pd.read_csv(infl_dir / f\"influence-testguid-{TEST_GUID}.csv\")\n",
    "infl[\"infl_diff\"] = (-100.0 / TRAIN_LENGTH) * infl[\"influence\"]\n",
    "\n",
    "\n",
    "m = pd.merge(\n",
    "    loo_results,\n",
    "    fdf[[\"test_guid\", \"loss\"]],\n",
    "    on=\"test_guid\",\n",
    "    suffixes=(\"_loo\", \"_base\"),\n",
    "    how=\"outer\",\n",
    ")\n",
    "m[\"loo_diff\"] = m[\"loss_loo\"] - m[\"loss_base\"]\n",
    "m = m[m.test_guid == TEST_GUID]\n",
    "\n",
    "# -- Join LOO results and Influence Results --\n",
    "comp = pd.merge(\n",
    "    m,\n",
    "    infl[[\"train_guid\", \"test_guid\", \"infl_diff\"]],\n",
    "    left_on=[\"test_guid\", \"loo_guid\"],\n",
    "    right_on=[\"test_guid\", \"train_guid\"],\n",
    ")\n",
    "comp = comp.sort_values('infl_diff', ascending=True)\n",
    "comp['infl_rank'] = comp.infl_diff.rank()\n",
    "\n",
    "comp"
   ]
  },
  {
   "cell_type": "code",
   "execution_count": 28,
   "id": "32bbf3fd-d0f8-40f6-9942-e06bbbd98914",
   "metadata": {
    "execution": {
     "iopub.execute_input": "2023-05-10T06:36:11.276617Z",
     "iopub.status.busy": "2023-05-10T06:36:11.276410Z",
     "iopub.status.idle": "2023-05-10T06:36:11.388560Z",
     "shell.execute_reply": "2023-05-10T06:36:11.387655Z",
     "shell.execute_reply.started": "2023-05-10T06:36:11.276603Z"
    },
    "tags": []
   },
   "outputs": [
    {
     "data": {
      "text/html": [
       "<div>\n",
       "<style scoped>\n",
       "    .dataframe tbody tr th:only-of-type {\n",
       "        vertical-align: middle;\n",
       "    }\n",
       "\n",
       "    .dataframe tbody tr th {\n",
       "        vertical-align: top;\n",
       "    }\n",
       "\n",
       "    .dataframe thead th {\n",
       "        text-align: right;\n",
       "    }\n",
       "</style>\n",
       "<table border=\"1\" class=\"dataframe\">\n",
       "  <thead>\n",
       "    <tr style=\"text-align: right;\">\n",
       "      <th></th>\n",
       "      <th>test_guid</th>\n",
       "      <th>logits</th>\n",
       "      <th>pred</th>\n",
       "      <th>label</th>\n",
       "      <th>loss_loo</th>\n",
       "      <th>loo_guid</th>\n",
       "      <th>loss_base</th>\n",
       "      <th>loo_diff</th>\n",
       "      <th>train_guid</th>\n",
       "      <th>infl_diff</th>\n",
       "      <th>infl_rank</th>\n",
       "    </tr>\n",
       "  </thead>\n",
       "  <tbody>\n",
       "    <tr>\n",
       "      <th>2</th>\n",
       "      <td>218</td>\n",
       "      <td>[-2.0880442  1.6675656]</td>\n",
       "      <td>1</td>\n",
       "      <td>0</td>\n",
       "      <td>3.778727</td>\n",
       "      <td>1915</td>\n",
       "      <td>3.820718</td>\n",
       "      <td>-0.041991</td>\n",
       "      <td>1915</td>\n",
       "      <td>-0.021611</td>\n",
       "      <td>1.0</td>\n",
       "    </tr>\n",
       "    <tr>\n",
       "      <th>4</th>\n",
       "      <td>218</td>\n",
       "      <td>[-2.1315126  1.7109864]</td>\n",
       "      <td>1</td>\n",
       "      <td>0</td>\n",
       "      <td>3.863712</td>\n",
       "      <td>4693</td>\n",
       "      <td>3.820718</td>\n",
       "      <td>0.042994</td>\n",
       "      <td>4693</td>\n",
       "      <td>0.021611</td>\n",
       "      <td>2.0</td>\n",
       "    </tr>\n",
       "    <tr>\n",
       "      <th>1</th>\n",
       "      <td>218</td>\n",
       "      <td>[-2.2050393  1.7845864]</td>\n",
       "      <td>1</td>\n",
       "      <td>0</td>\n",
       "      <td>4.007963</td>\n",
       "      <td>1669</td>\n",
       "      <td>3.820718</td>\n",
       "      <td>0.187245</td>\n",
       "      <td>1669</td>\n",
       "      <td>0.174762</td>\n",
       "      <td>3.0</td>\n",
       "    </tr>\n",
       "    <tr>\n",
       "      <th>9</th>\n",
       "      <td>218</td>\n",
       "      <td>[-2.190686   1.7702346]</td>\n",
       "      <td>1</td>\n",
       "      <td>0</td>\n",
       "      <td>3.979787</td>\n",
       "      <td>8691</td>\n",
       "      <td>3.820718</td>\n",
       "      <td>0.159069</td>\n",
       "      <td>8691</td>\n",
       "      <td>0.175873</td>\n",
       "      <td>4.0</td>\n",
       "    </tr>\n",
       "    <tr>\n",
       "      <th>3</th>\n",
       "      <td>218</td>\n",
       "      <td>[-2.2109714  1.7905613]</td>\n",
       "      <td>1</td>\n",
       "      <td>0</td>\n",
       "      <td>4.019655</td>\n",
       "      <td>2145</td>\n",
       "      <td>3.820718</td>\n",
       "      <td>0.198937</td>\n",
       "      <td>2145</td>\n",
       "      <td>0.185699</td>\n",
       "      <td>5.0</td>\n",
       "    </tr>\n",
       "    <tr>\n",
       "      <th>6</th>\n",
       "      <td>218</td>\n",
       "      <td>[-2.2071912  1.7866724]</td>\n",
       "      <td>1</td>\n",
       "      <td>0</td>\n",
       "      <td>4.012124</td>\n",
       "      <td>6887</td>\n",
       "      <td>3.820718</td>\n",
       "      <td>0.191406</td>\n",
       "      <td>6887</td>\n",
       "      <td>0.193965</td>\n",
       "      <td>6.0</td>\n",
       "    </tr>\n",
       "    <tr>\n",
       "      <th>5</th>\n",
       "      <td>218</td>\n",
       "      <td>[-2.195803   1.7752432]</td>\n",
       "      <td>1</td>\n",
       "      <td>0</td>\n",
       "      <td>3.989724</td>\n",
       "      <td>6668</td>\n",
       "      <td>3.820718</td>\n",
       "      <td>0.169006</td>\n",
       "      <td>6668</td>\n",
       "      <td>0.196687</td>\n",
       "      <td>7.0</td>\n",
       "    </tr>\n",
       "    <tr>\n",
       "      <th>8</th>\n",
       "      <td>218</td>\n",
       "      <td>[-2.200996   1.7804732]</td>\n",
       "      <td>1</td>\n",
       "      <td>0</td>\n",
       "      <td>3.999955</td>\n",
       "      <td>8030</td>\n",
       "      <td>3.820718</td>\n",
       "      <td>0.179237</td>\n",
       "      <td>8030</td>\n",
       "      <td>0.199606</td>\n",
       "      <td>8.0</td>\n",
       "    </tr>\n",
       "    <tr>\n",
       "      <th>7</th>\n",
       "      <td>218</td>\n",
       "      <td>[-2.1967604  1.7761322]</td>\n",
       "      <td>1</td>\n",
       "      <td>0</td>\n",
       "      <td>3.991537</td>\n",
       "      <td>7127</td>\n",
       "      <td>3.820718</td>\n",
       "      <td>0.170819</td>\n",
       "      <td>7127</td>\n",
       "      <td>0.199681</td>\n",
       "      <td>9.0</td>\n",
       "    </tr>\n",
       "    <tr>\n",
       "      <th>0</th>\n",
       "      <td>218</td>\n",
       "      <td>[-2.206392   1.7858853]</td>\n",
       "      <td>1</td>\n",
       "      <td>0</td>\n",
       "      <td>4.010567</td>\n",
       "      <td>761</td>\n",
       "      <td>3.820718</td>\n",
       "      <td>0.189849</td>\n",
       "      <td>761</td>\n",
       "      <td>0.214676</td>\n",
       "      <td>10.0</td>\n",
       "    </tr>\n",
       "  </tbody>\n",
       "</table>\n",
       "</div>"
      ],
      "text/plain": [
       "   test_guid                   logits  pred  label  loss_loo  loo_guid  \\\n",
       "2        218  [-2.0880442  1.6675656]     1      0  3.778727      1915   \n",
       "4        218  [-2.1315126  1.7109864]     1      0  3.863712      4693   \n",
       "1        218  [-2.2050393  1.7845864]     1      0  4.007963      1669   \n",
       "9        218  [-2.190686   1.7702346]     1      0  3.979787      8691   \n",
       "3        218  [-2.2109714  1.7905613]     1      0  4.019655      2145   \n",
       "6        218  [-2.2071912  1.7866724]     1      0  4.012124      6887   \n",
       "5        218  [-2.195803   1.7752432]     1      0  3.989724      6668   \n",
       "8        218  [-2.200996   1.7804732]     1      0  3.999955      8030   \n",
       "7        218  [-2.1967604  1.7761322]     1      0  3.991537      7127   \n",
       "0        218  [-2.206392   1.7858853]     1      0  4.010567       761   \n",
       "\n",
       "   loss_base  loo_diff  train_guid  infl_diff  infl_rank  \n",
       "2   3.820718 -0.041991        1915  -0.021611        1.0  \n",
       "4   3.820718  0.042994        4693   0.021611        2.0  \n",
       "1   3.820718  0.187245        1669   0.174762        3.0  \n",
       "9   3.820718  0.159069        8691   0.175873        4.0  \n",
       "3   3.820718  0.198937        2145   0.185699        5.0  \n",
       "6   3.820718  0.191406        6887   0.193965        6.0  \n",
       "5   3.820718  0.169006        6668   0.196687        7.0  \n",
       "8   3.820718  0.179237        8030   0.199606        8.0  \n",
       "7   3.820718  0.170819        7127   0.199681        9.0  \n",
       "0   3.820718  0.189849         761   0.214676       10.0  "
      ]
     },
     "execution_count": 28,
     "metadata": {},
     "output_type": "execute_result"
    }
   ],
   "source": [
    "TEST_GUID = 218\n",
    "\n",
    "TRAIN_LENGTH = 10000\n",
    "results_dir = Path(\"results_10k_reg001\")\n",
    "\n",
    "# -- Load LOO Results --\n",
    "loo_dir = results_dir / \"loo\" / f\"test-guid-{TEST_GUID}\"\n",
    "loo_dfs = []\n",
    "for train_guid in range(TRAIN_LENGTH):\n",
    "    loss_path = loo_dir / f\"run_{train_guid}\" / \"test_loss.csv\"\n",
    "    if os.path.exists(loss_path):\n",
    "        try:\n",
    "            df = pd.read_csv(loss_path)\n",
    "        except:\n",
    "            import pdb; pdb.set_trace()\n",
    "        loo_dfs.append(df)\n",
    "loo_results = pd.concat(loo_dfs)\n",
    "\n",
    "\n",
    "# -- Load Influence Results --\n",
    "infl_dir = results_dir / \"influence\"\n",
    "infl = pd.read_csv(infl_dir / f\"influence-testguid-{TEST_GUID}.csv\")\n",
    "infl[\"infl_diff\"] = (-100.0 / TRAIN_LENGTH) * infl[\"influence\"]\n",
    "\n",
    "\n",
    "m = pd.merge(\n",
    "    loo_results,\n",
    "    fdf[[\"test_guid\", \"loss\"]],\n",
    "    on=\"test_guid\",\n",
    "    suffixes=(\"_loo\", \"_base\"),\n",
    "    how=\"outer\",\n",
    ")\n",
    "m[\"loo_diff\"] = m[\"loss_loo\"] - m[\"loss_base\"]\n",
    "m = m[m.test_guid == TEST_GUID]\n",
    "\n",
    "# -- Join LOO results and Influence Results --\n",
    "comp = pd.merge(\n",
    "    m,\n",
    "    infl[[\"train_guid\", \"test_guid\", \"infl_diff\"]],\n",
    "    left_on=[\"test_guid\", \"loo_guid\"],\n",
    "    right_on=[\"test_guid\", \"train_guid\"],\n",
    ")\n",
    "\n",
    "# TODO the influence rank should be applied before the join\n",
    "comp = comp.sort_values('infl_diff', ascending=True)\n",
    "comp['infl_rank'] = comp.infl_diff.rank()\n",
    "\n",
    "comp"
   ]
  },
  {
   "cell_type": "code",
   "execution_count": 25,
   "id": "707e9f6d-b4c0-476f-8027-d2c037543783",
   "metadata": {
    "execution": {
     "iopub.execute_input": "2023-05-10T06:32:58.838642Z",
     "iopub.status.busy": "2023-05-10T06:32:58.838415Z",
     "iopub.status.idle": "2023-05-10T06:32:58.976386Z",
     "shell.execute_reply": "2023-05-10T06:32:58.975715Z",
     "shell.execute_reply.started": "2023-05-10T06:32:58.838627Z"
    },
    "tags": []
   },
   "outputs": [
    {
     "name": "stdout",
     "output_type": "stream",
     "text": [
      "           loo_diff  infl_diff\n",
      "loo_diff   1.000000   0.327134\n",
      "infl_diff  0.327134   1.000000\n"
     ]
    },
    {
     "data": {
      "text/plain": [
       "<Axes: xlabel='loo_diff', ylabel='infl_diff'>"
      ]
     },
     "execution_count": 25,
     "metadata": {},
     "output_type": "execute_result"
    },
    {
     "data": {
      "image/png": "[encoded data removed]",
      "text/plain": [
       "<Figure size 640x480 with 1 Axes>"
      ]
     },
     "metadata": {},
     "output_type": "display_data"
    }
   ],
   "source": [
    "print(comp[['loo_diff', 'infl_diff']].corr())\n",
    "comp[['loo_diff', 'infl_diff']].plot.scatter('loo_diff', 'infl_diff')"
   ]
  },
  {
   "cell_type": "code",
   "execution_count": 22,
   "id": "d72da9f8-2efe-4ed6-a9ef-a16512094551",
   "metadata": {
    "execution": {
     "iopub.execute_input": "2023-05-10T06:32:38.412235Z",
     "iopub.status.busy": "2023-05-10T06:32:38.412024Z",
     "iopub.status.idle": "2023-05-10T06:32:38.590824Z",
     "shell.execute_reply": "2023-05-10T06:32:38.590141Z",
     "shell.execute_reply.started": "2023-05-10T06:32:38.412220Z"
    },
    "tags": []
   },
   "outputs": [
    {
     "data": {
      "text/plain": [
       "<Axes: >"
      ]
     },
     "execution_count": 22,
     "metadata": {},
     "output_type": "execute_result"
    },
    {
     "data": {
      "image/png": "[encoded data removed]",
      "text/plain": [
       "<Figure size 640x480 with 1 Axes>"
      ]
     },
     "metadata": {},
     "output_type": "display_data"
    }
   ],
   "source": [
    "comp['loo_diff'].hist(bins=50)"
   ]
  },
  {
   "cell_type": "code",
   "execution_count": 23,
   "id": "3c318bd3-b9b9-458a-ab3a-d1f6bddc9bfb",
   "metadata": {
    "execution": {
     "iopub.execute_input": "2023-05-10T06:32:40.428622Z",
     "iopub.status.busy": "2023-05-10T06:32:40.428030Z",
     "iopub.status.idle": "2023-05-10T06:32:40.608155Z",
     "shell.execute_reply": "2023-05-10T06:32:40.607528Z",
     "shell.execute_reply.started": "2023-05-10T06:32:40.428605Z"
    },
    "tags": []
   },
   "outputs": [
    {
     "data": {
      "text/plain": [
       "<Axes: >"
      ]
     },
     "execution_count": 23,
     "metadata": {},
     "output_type": "execute_result"
    },
    {
     "data": {
      "image/png": "[encoded data removed]",
      "text/plain": [
       "<Figure size 640x480 with 1 Axes>"
      ]
     },
     "metadata": {},
     "output_type": "display_data"
    }
   ],
   "source": [
    "comp['infl_diff'].hist(bins=50)"
   ]
  },
  {
   "cell_type": "code",
   "execution_count": 24,
   "id": "d23dc4c5-8701-48b8-82c1-2eb6951f6b15",
   "metadata": {
    "execution": {
     "iopub.execute_input": "2023-05-10T06:32:52.737795Z",
     "iopub.status.busy": "2023-05-10T06:32:52.737581Z",
     "iopub.status.idle": "2023-05-10T06:32:53.009461Z",
     "shell.execute_reply": "2023-05-10T06:32:53.008823Z",
     "shell.execute_reply.started": "2023-05-10T06:32:52.737781Z"
    },
    "tags": []
   },
   "outputs": [
    {
     "data": {
      "text/plain": [
       "<Axes: >"
      ]
     },
     "execution_count": 24,
     "metadata": {},
     "output_type": "execute_result"
    },
    {
     "data": {
      "image/png": "[encoded data removed]",
      "text/plain": [
       "<Figure size 640x480 with 1 Axes>"
      ]
     },
     "metadata": {},
     "output_type": "display_data"
    }
   ],
   "source": [
    "comp['infl_diff'].hist(bins=50)"
   ]
  },
  {
   "cell_type": "code",
   "execution_count": 43,
   "id": "eb7c6545-f270-4f6e-9371-91775ca7a3da",
   "metadata": {
    "execution": {
     "iopub.execute_input": "2023-05-10T00:59:07.283238Z",
     "iopub.status.busy": "2023-05-10T00:59:07.282772Z",
     "iopub.status.idle": "2023-05-10T00:59:07.291296Z",
     "shell.execute_reply": "2023-05-10T00:59:07.290427Z",
     "shell.execute_reply.started": "2023-05-10T00:59:07.283223Z"
    },
    "tags": []
   },
   "outputs": [],
   "source": [
    "infl2 = pd.read_csv('idf-218.csv')"
   ]
  },
  {
   "cell_type": "code",
   "execution_count": 45,
   "id": "8fc9d415-a6f4-4403-8aa5-2042cfa93156",
   "metadata": {
    "execution": {
     "iopub.execute_input": "2023-05-10T00:59:19.028886Z",
     "iopub.status.busy": "2023-05-10T00:59:19.028658Z",
     "iopub.status.idle": "2023-05-10T00:59:19.191055Z",
     "shell.execute_reply": "2023-05-10T00:59:19.190420Z",
     "shell.execute_reply.started": "2023-05-10T00:59:19.028873Z"
    },
    "tags": []
   },
   "outputs": [
    {
     "data": {
      "text/plain": [
       "<Axes: >"
      ]
     },
     "execution_count": 45,
     "metadata": {},
     "output_type": "execute_result"
    },
    {
     "data": {
      "image/png": "[encoded data removed]",
      "text/plain": [
       "<Figure size 640x480 with 1 Axes>"
      ]
     },
     "metadata": {},
     "output_type": "display_data"
    }
   ],
   "source": [
    "infl2['if'].hist(bins=50)"
   ]
  },
  {
   "cell_type": "code",
   "execution_count": 31,
   "id": "d88f0133-de94-4b18-8dc3-46f6c1b6e9d4",
   "metadata": {
    "execution": {
     "iopub.execute_input": "2023-05-10T00:49:34.381870Z",
     "iopub.status.busy": "2023-05-10T00:49:34.381656Z",
     "iopub.status.idle": "2023-05-10T00:49:34.539300Z",
     "shell.execute_reply": "2023-05-10T00:49:34.538650Z",
     "shell.execute_reply.started": "2023-05-10T00:49:34.381850Z"
    },
    "tags": []
   },
   "outputs": [
    {
     "data": {
      "text/plain": [
       "[<matplotlib.lines.Line2D at 0x7f5e1377ac20>]"
      ]
     },
     "execution_count": 31,
     "metadata": {},
     "output_type": "execute_result"
    },
    {
     "data": {
      "image/png": "[encoded data removed]",
      "text/plain": [
       "<Figure size 640x480 with 1 Axes>"
      ]
     },
     "metadata": {},
     "output_type": "display_data"
    }
   ],
   "source": [
    "# comp[['loo_diff', 'infl_diff']].plot.scatter('loo_diff', 'infl_diff')\n",
    "\n",
    "plt.title(\"Weight Decay\")\n",
    "plt.xlabel(\"LOO\")\n",
    "plt.ylabel(\"Influence Estimate\")\n",
    "plt.scatter(comp[\"loo_diff\"], comp[\"infl_diff\"])\n",
    "\n",
    "# Plot a y=x line\n",
    "ax = plt.gca()\n",
    "lims = [\n",
    "    np.min([ax.get_xlim(), ax.get_ylim()]),  # min of both axes\n",
    "    np.max([ax.get_xlim(), ax.get_ylim()]),  # max of both axes\n",
    "]\n",
    "ax.plot(lims, lims, \"k--\", alpha=0.75, zorder=0)"
   ]
  },
  {
   "cell_type": "markdown",
   "id": "c91aa645-cacd-44df-a236-3754ba7b0669",
   "metadata": {
    "tags": []
   },
   "source": [
    "## Weak L2"
   ]
  },
  {
   "cell_type": "code",
   "execution_count": null,
   "id": "54eb259c-4fcb-49df-80bf-a771156ffc81",
   "metadata": {},
   "outputs": [],
   "source": [
    "model, config = BertClassifier.load_model(\n",
    "    \"results_10k_l2/bert-classifier-epoch5-10000-l2.yaml\",\n",
    ")\n",
    "\n",
    "test_dataset = create_test_sst2(\n",
    "    tokenizer_name=config[\"bert_model_name\"],\n",
    "    max_seq_len=config[\"max_sequence_length\"],\n",
    "    device=device,\n",
    ")\n",
    "test_dataloader = DataLoader(test_dataset, shuffle=False, batch_size=1)\n",
    "\n",
    "fdf, loss, acc = train_utils.evaluate_loss(model, test_dataloader)\n",
    "loss, acc"
   ]
  },
  {
   "cell_type": "markdown",
   "id": "54078b69-649c-4a86-b702-11347d67bae5",
   "metadata": {
    "tags": []
   },
   "source": [
    "### Compare LOO with Influence Estimate"
   ]
  },
  {
   "cell_type": "code",
   "execution_count": 49,
   "id": "9a80df1b-2224-4040-a032-0c8b1df516f9",
   "metadata": {
    "execution": {
     "iopub.execute_input": "2023-05-08T20:49:35.214173Z",
     "iopub.status.busy": "2023-05-08T20:49:35.213944Z",
     "iopub.status.idle": "2023-05-08T20:49:35.289567Z",
     "shell.execute_reply": "2023-05-08T20:49:35.288826Z",
     "shell.execute_reply.started": "2023-05-08T20:49:35.214157Z"
    },
    "tags": []
   },
   "outputs": [],
   "source": [
    "TEST_GUID = 218\n",
    "\n",
    "TRAIN_LENGTH = 10000\n",
    "\n",
    "# -- Load LOO Results --\n",
    "loo_dir = f\"results_10k_l2/loo/test-guid-{TEST_GUID}\"\n",
    "loo_dfs = []\n",
    "for train_guid in range(TRAIN_LENGTH):\n",
    "    loss_path = f\"{loo_dir}/run_{train_guid}/test_loss.csv\"\n",
    "    if os.path.exists(loss_path):\n",
    "        df = pd.read_csv(loss_path)\n",
    "        loo_dfs.append(df)\n",
    "loo_results = pd.concat(loo_dfs)\n",
    "\n",
    "\n",
    "# -- Load Influence Results --\n",
    "infl_dir = Path(\"results_10k_l2/influence/\")\n",
    "infl = pd.read_csv(infl_dir / f\"influence-testguid-{TEST_GUID}.csv\")\n",
    "infl[\"infl_diff\"] = (-100 / TRAIN_LENGTH) * infl[\"influence\"]\n",
    "\n",
    "# -- Join LOO results and Influence Results --\n",
    "m = pd.merge(\n",
    "    loo_results,\n",
    "    fdf[[\"test_guid\", \"loss\"]],\n",
    "    on=\"test_guid\",\n",
    "    suffixes=(\"_loo\", \"_base\"),\n",
    "    how=\"outer\",\n",
    ")\n",
    "m[\"loo_diff\"] = m[\"loss_loo\"] - m[\"loss_base\"]\n",
    "m = m[m.test_guid == TEST_GUID]"
   ]
  },
  {
   "cell_type": "code",
   "execution_count": 43,
   "id": "53db2724-7685-47c5-9f3a-c3c61eed1f7f",
   "metadata": {
    "execution": {
     "iopub.execute_input": "2023-05-08T20:36:51.821771Z",
     "iopub.status.busy": "2023-05-08T20:36:51.821499Z",
     "iopub.status.idle": "2023-05-08T20:36:51.838018Z",
     "shell.execute_reply": "2023-05-08T20:36:51.837240Z",
     "shell.execute_reply.started": "2023-05-08T20:36:51.821754Z"
    },
    "tags": []
   },
   "outputs": [
    {
     "data": {
      "text/html": [
       "<div>\n",
       "<style scoped>\n",
       "    .dataframe tbody tr th:only-of-type {\n",
       "        vertical-align: middle;\n",
       "    }\n",
       "\n",
       "    .dataframe tbody tr th {\n",
       "        vertical-align: top;\n",
       "    }\n",
       "\n",
       "    .dataframe thead th {\n",
       "        text-align: right;\n",
       "    }\n",
       "</style>\n",
       "<table border=\"1\" class=\"dataframe\">\n",
       "  <thead>\n",
       "    <tr style=\"text-align: right;\">\n",
       "      <th></th>\n",
       "      <th>test_guid</th>\n",
       "      <th>logits</th>\n",
       "      <th>pred</th>\n",
       "      <th>label</th>\n",
       "      <th>loss_loo</th>\n",
       "      <th>loo_guid</th>\n",
       "      <th>loss_base</th>\n",
       "      <th>loo_diff</th>\n",
       "      <th>train_guid</th>\n",
       "      <th>infl_diff</th>\n",
       "    </tr>\n",
       "  </thead>\n",
       "  <tbody>\n",
       "    <tr>\n",
       "      <th>0</th>\n",
       "      <td>218</td>\n",
       "      <td>[-2.5173392  2.0890234]</td>\n",
       "      <td>1</td>\n",
       "      <td>0</td>\n",
       "      <td>4.616301</td>\n",
       "      <td>761</td>\n",
       "      <td>4.406052</td>\n",
       "      <td>0.210249</td>\n",
       "      <td>761</td>\n",
       "      <td>0.181955</td>\n",
       "    </tr>\n",
       "    <tr>\n",
       "      <th>1</th>\n",
       "      <td>218</td>\n",
       "      <td>[-2.6340039  2.2082164]</td>\n",
       "      <td>1</td>\n",
       "      <td>0</td>\n",
       "      <td>4.850079</td>\n",
       "      <td>843</td>\n",
       "      <td>4.406052</td>\n",
       "      <td>0.444027</td>\n",
       "      <td>843</td>\n",
       "      <td>0.190709</td>\n",
       "    </tr>\n",
       "    <tr>\n",
       "      <th>2</th>\n",
       "      <td>218</td>\n",
       "      <td>[-2.427691  2.00342 ]</td>\n",
       "      <td>1</td>\n",
       "      <td>0</td>\n",
       "      <td>4.442942</td>\n",
       "      <td>910</td>\n",
       "      <td>4.406052</td>\n",
       "      <td>0.036890</td>\n",
       "      <td>910</td>\n",
       "      <td>-0.176765</td>\n",
       "    </tr>\n",
       "    <tr>\n",
       "      <th>3</th>\n",
       "      <td>218</td>\n",
       "      <td>[-2.4336889  2.0065231]</td>\n",
       "      <td>1</td>\n",
       "      <td>0</td>\n",
       "      <td>4.451937</td>\n",
       "      <td>1669</td>\n",
       "      <td>4.406052</td>\n",
       "      <td>0.045885</td>\n",
       "      <td>1669</td>\n",
       "      <td>0.233304</td>\n",
       "    </tr>\n",
       "    <tr>\n",
       "      <th>4</th>\n",
       "      <td>218</td>\n",
       "      <td>[-2.565263  2.136173]</td>\n",
       "      <td>1</td>\n",
       "      <td>0</td>\n",
       "      <td>4.710477</td>\n",
       "      <td>1909</td>\n",
       "      <td>4.406052</td>\n",
       "      <td>0.304425</td>\n",
       "      <td>1909</td>\n",
       "      <td>0.207187</td>\n",
       "    </tr>\n",
       "    <tr>\n",
       "      <th>5</th>\n",
       "      <td>218</td>\n",
       "      <td>[-2.38055   1.953742]</td>\n",
       "      <td>1</td>\n",
       "      <td>0</td>\n",
       "      <td>4.347318</td>\n",
       "      <td>2426</td>\n",
       "      <td>4.406052</td>\n",
       "      <td>-0.058734</td>\n",
       "      <td>2426</td>\n",
       "      <td>0.185150</td>\n",
       "    </tr>\n",
       "    <tr>\n",
       "      <th>6</th>\n",
       "      <td>218</td>\n",
       "      <td>[-2.4642322  2.0378613]</td>\n",
       "      <td>1</td>\n",
       "      <td>0</td>\n",
       "      <td>4.513118</td>\n",
       "      <td>2641</td>\n",
       "      <td>4.406052</td>\n",
       "      <td>0.107066</td>\n",
       "      <td>2641</td>\n",
       "      <td>0.174075</td>\n",
       "    </tr>\n",
       "    <tr>\n",
       "      <th>7</th>\n",
       "      <td>218</td>\n",
       "      <td>[-2.3215435  1.8914421]</td>\n",
       "      <td>1</td>\n",
       "      <td>0</td>\n",
       "      <td>4.227679</td>\n",
       "      <td>2881</td>\n",
       "      <td>4.406052</td>\n",
       "      <td>-0.178373</td>\n",
       "      <td>2881</td>\n",
       "      <td>0.181441</td>\n",
       "    </tr>\n",
       "    <tr>\n",
       "      <th>8</th>\n",
       "      <td>218</td>\n",
       "      <td>[-2.414172   1.9868482]</td>\n",
       "      <td>1</td>\n",
       "      <td>0</td>\n",
       "      <td>4.413210</td>\n",
       "      <td>2990</td>\n",
       "      <td>4.406052</td>\n",
       "      <td>0.007158</td>\n",
       "      <td>2990</td>\n",
       "      <td>0.180553</td>\n",
       "    </tr>\n",
       "    <tr>\n",
       "      <th>9</th>\n",
       "      <td>218</td>\n",
       "      <td>[-2.3838336  1.9557871]</td>\n",
       "      <td>1</td>\n",
       "      <td>0</td>\n",
       "      <td>4.352578</td>\n",
       "      <td>3074</td>\n",
       "      <td>4.406052</td>\n",
       "      <td>-0.053474</td>\n",
       "      <td>3074</td>\n",
       "      <td>0.186611</td>\n",
       "    </tr>\n",
       "    <tr>\n",
       "      <th>10</th>\n",
       "      <td>218</td>\n",
       "      <td>[-2.3836274  1.9588331]</td>\n",
       "      <td>1</td>\n",
       "      <td>0</td>\n",
       "      <td>4.355381</td>\n",
       "      <td>3886</td>\n",
       "      <td>4.406052</td>\n",
       "      <td>-0.050671</td>\n",
       "      <td>3886</td>\n",
       "      <td>0.180143</td>\n",
       "    </tr>\n",
       "    <tr>\n",
       "      <th>11</th>\n",
       "      <td>218</td>\n",
       "      <td>[-2.4591477  2.0311856]</td>\n",
       "      <td>1</td>\n",
       "      <td>0</td>\n",
       "      <td>4.501488</td>\n",
       "      <td>4540</td>\n",
       "      <td>4.406052</td>\n",
       "      <td>0.095436</td>\n",
       "      <td>4540</td>\n",
       "      <td>-0.174189</td>\n",
       "    </tr>\n",
       "    <tr>\n",
       "      <th>12</th>\n",
       "      <td>218</td>\n",
       "      <td>[-2.5871742  2.1608443]</td>\n",
       "      <td>1</td>\n",
       "      <td>0</td>\n",
       "      <td>4.756650</td>\n",
       "      <td>6668</td>\n",
       "      <td>4.406052</td>\n",
       "      <td>0.350598</td>\n",
       "      <td>6668</td>\n",
       "      <td>0.244089</td>\n",
       "    </tr>\n",
       "    <tr>\n",
       "      <th>13</th>\n",
       "      <td>218</td>\n",
       "      <td>[-2.5150313  2.0864785]</td>\n",
       "      <td>1</td>\n",
       "      <td>0</td>\n",
       "      <td>4.611497</td>\n",
       "      <td>7127</td>\n",
       "      <td>4.406052</td>\n",
       "      <td>0.205445</td>\n",
       "      <td>7127</td>\n",
       "      <td>0.225209</td>\n",
       "    </tr>\n",
       "    <tr>\n",
       "      <th>14</th>\n",
       "      <td>218</td>\n",
       "      <td>[-2.4573846  2.02952  ]</td>\n",
       "      <td>1</td>\n",
       "      <td>0</td>\n",
       "      <td>4.498097</td>\n",
       "      <td>7250</td>\n",
       "      <td>4.406052</td>\n",
       "      <td>0.092045</td>\n",
       "      <td>7250</td>\n",
       "      <td>0.176993</td>\n",
       "    </tr>\n",
       "    <tr>\n",
       "      <th>15</th>\n",
       "      <td>218</td>\n",
       "      <td>[-2.336058   1.9108547]</td>\n",
       "      <td>1</td>\n",
       "      <td>0</td>\n",
       "      <td>4.261119</td>\n",
       "      <td>7274</td>\n",
       "      <td>4.406052</td>\n",
       "      <td>-0.144933</td>\n",
       "      <td>7274</td>\n",
       "      <td>0.236101</td>\n",
       "    </tr>\n",
       "    <tr>\n",
       "      <th>16</th>\n",
       "      <td>218</td>\n",
       "      <td>[-2.3913434  1.9642239]</td>\n",
       "      <td>1</td>\n",
       "      <td>0</td>\n",
       "      <td>4.368320</td>\n",
       "      <td>8030</td>\n",
       "      <td>4.406052</td>\n",
       "      <td>-0.037732</td>\n",
       "      <td>8030</td>\n",
       "      <td>0.201880</td>\n",
       "    </tr>\n",
       "    <tr>\n",
       "      <th>17</th>\n",
       "      <td>218</td>\n",
       "      <td>[-2.5358365  2.1097946]</td>\n",
       "      <td>1</td>\n",
       "      <td>0</td>\n",
       "      <td>4.655189</td>\n",
       "      <td>8565</td>\n",
       "      <td>4.406052</td>\n",
       "      <td>0.249136</td>\n",
       "      <td>8565</td>\n",
       "      <td>-0.255698</td>\n",
       "    </tr>\n",
       "    <tr>\n",
       "      <th>18</th>\n",
       "      <td>218</td>\n",
       "      <td>[-2.3425136  1.9151725]</td>\n",
       "      <td>1</td>\n",
       "      <td>0</td>\n",
       "      <td>4.271742</td>\n",
       "      <td>8678</td>\n",
       "      <td>4.406052</td>\n",
       "      <td>-0.134310</td>\n",
       "      <td>8678</td>\n",
       "      <td>0.182269</td>\n",
       "    </tr>\n",
       "    <tr>\n",
       "      <th>19</th>\n",
       "      <td>218</td>\n",
       "      <td>[-2.3009965  1.8750676]</td>\n",
       "      <td>1</td>\n",
       "      <td>0</td>\n",
       "      <td>4.191306</td>\n",
       "      <td>9414</td>\n",
       "      <td>4.406052</td>\n",
       "      <td>-0.214746</td>\n",
       "      <td>9414</td>\n",
       "      <td>-0.190627</td>\n",
       "    </tr>\n",
       "  </tbody>\n",
       "</table>\n",
       "</div>"
      ],
      "text/plain": [
       "    test_guid                   logits  pred  label  loss_loo  loo_guid  \\\n",
       "0         218  [-2.5173392  2.0890234]     1      0  4.616301       761   \n",
       "1         218  [-2.6340039  2.2082164]     1      0  4.850079       843   \n",
       "2         218    [-2.427691  2.00342 ]     1      0  4.442942       910   \n",
       "3         218  [-2.4336889  2.0065231]     1      0  4.451937      1669   \n",
       "4         218    [-2.565263  2.136173]     1      0  4.710477      1909   \n",
       "5         218    [-2.38055   1.953742]     1      0  4.347318      2426   \n",
       "6         218  [-2.4642322  2.0378613]     1      0  4.513118      2641   \n",
       "7         218  [-2.3215435  1.8914421]     1      0  4.227679      2881   \n",
       "8         218  [-2.414172   1.9868482]     1      0  4.413210      2990   \n",
       "9         218  [-2.3838336  1.9557871]     1      0  4.352578      3074   \n",
       "10        218  [-2.3836274  1.9588331]     1      0  4.355381      3886   \n",
       "11        218  [-2.4591477  2.0311856]     1      0  4.501488      4540   \n",
       "12        218  [-2.5871742  2.1608443]     1      0  4.756650      6668   \n",
       "13        218  [-2.5150313  2.0864785]     1      0  4.611497      7127   \n",
       "14        218  [-2.4573846  2.02952  ]     1      0  4.498097      7250   \n",
       "15        218  [-2.336058   1.9108547]     1      0  4.261119      7274   \n",
       "16        218  [-2.3913434  1.9642239]     1      0  4.368320      8030   \n",
       "17        218  [-2.5358365  2.1097946]     1      0  4.655189      8565   \n",
       "18        218  [-2.3425136  1.9151725]     1      0  4.271742      8678   \n",
       "19        218  [-2.3009965  1.8750676]     1      0  4.191306      9414   \n",
       "\n",
       "    loss_base  loo_diff  train_guid  infl_diff  \n",
       "0    4.406052  0.210249         761   0.181955  \n",
       "1    4.406052  0.444027         843   0.190709  \n",
       "2    4.406052  0.036890         910  -0.176765  \n",
       "3    4.406052  0.045885        1669   0.233304  \n",
       "4    4.406052  0.304425        1909   0.207187  \n",
       "5    4.406052 -0.058734        2426   0.185150  \n",
       "6    4.406052  0.107066        2641   0.174075  \n",
       "7    4.406052 -0.178373        2881   0.181441  \n",
       "8    4.406052  0.007158        2990   0.180553  \n",
       "9    4.406052 -0.053474        3074   0.186611  \n",
       "10   4.406052 -0.050671        3886   0.180143  \n",
       "11   4.406052  0.095436        4540  -0.174189  \n",
       "12   4.406052  0.350598        6668   0.244089  \n",
       "13   4.406052  0.205445        7127   0.225209  \n",
       "14   4.406052  0.092045        7250   0.176993  \n",
       "15   4.406052 -0.144933        7274   0.236101  \n",
       "16   4.406052 -0.037732        8030   0.201880  \n",
       "17   4.406052  0.249136        8565  -0.255698  \n",
       "18   4.406052 -0.134310        8678   0.182269  \n",
       "19   4.406052 -0.214746        9414  -0.190627  "
      ]
     },
     "execution_count": 43,
     "metadata": {},
     "output_type": "execute_result"
    }
   ],
   "source": [
    "comp = pd.merge(\n",
    "    m,\n",
    "    infl[[\"train_guid\", \"test_guid\", \"infl_diff\"]],\n",
    "    left_on=[\"test_guid\", \"loo_guid\"],\n",
    "    right_on=[\"test_guid\", \"train_guid\"],\n",
    ")\n",
    "comp"
   ]
  },
  {
   "cell_type": "code",
   "execution_count": null,
   "id": "127f0331-1a55-4b4c-bda2-946309e0b519",
   "metadata": {},
   "outputs": [],
   "source": [
    "comp[['loo_diff', 'infl_diff']].corr()"
   ]
  },
  {
   "cell_type": "code",
   "execution_count": 64,
   "id": "44d96ffc-ff1a-4b41-b25a-b18debf39d26",
   "metadata": {
    "execution": {
     "iopub.execute_input": "2023-05-08T21:07:14.410173Z",
     "iopub.status.busy": "2023-05-08T21:07:14.409784Z",
     "iopub.status.idle": "2023-05-08T21:07:14.601344Z",
     "shell.execute_reply": "2023-05-08T21:07:14.600526Z",
     "shell.execute_reply.started": "2023-05-08T21:07:14.410155Z"
    },
    "tags": []
   },
   "outputs": [
    {
     "data": {
      "text/plain": [
       "[<matplotlib.lines.Line2D at 0x7efff390fb20>]"
      ]
     },
     "execution_count": 64,
     "metadata": {},
     "output_type": "execute_result"
    },
    {
     "data": {
      "image/png": "[encoded data removed]",
      "text/plain": [
       "<Figure size 640x480 with 1 Axes>"
      ]
     },
     "metadata": {},
     "output_type": "display_data"
    }
   ],
   "source": [
    "# comp[['loo_diff', 'infl_diff']].plot.scatter('loo_diff', 'infl_diff')\n",
    "\n",
    "plt.title(\"No Weight Decay\")\n",
    "plt.xlabel(\"LOO\")\n",
    "plt.ylabel(\"Influence Estimate\")\n",
    "plt.scatter(comp[\"loo_diff\"], comp[\"infl_diff\"])\n",
    "\n",
    "# Plot a y=x line\n",
    "ax = plt.gca()\n",
    "lims = [\n",
    "    np.min([ax.get_xlim(), ax.get_ylim()]),  # min of both axes\n",
    "    np.max([ax.get_xlim(), ax.get_ylim()]),  # max of both axes\n",
    "]\n",
    "ax.plot(lims, lims, \"k--\", alpha=0.75, zorder=0)"
   ]
  },
  {
   "cell_type": "code",
   "execution_count": 35,
   "id": "65770e44-88dc-4be5-8d90-610e5787d3f9",
   "metadata": {
    "execution": {
     "iopub.execute_input": "2023-05-08T20:34:18.543014Z",
     "iopub.status.busy": "2023-05-08T20:34:18.542711Z",
     "iopub.status.idle": "2023-05-08T20:34:18.551807Z",
     "shell.execute_reply": "2023-05-08T20:34:18.550964Z",
     "shell.execute_reply.started": "2023-05-08T20:34:18.542995Z"
    },
    "tags": []
   },
   "outputs": [
    {
     "data": {
      "text/html": [
       "<div>\n",
       "<style scoped>\n",
       "    .dataframe tbody tr th:only-of-type {\n",
       "        vertical-align: middle;\n",
       "    }\n",
       "\n",
       "    .dataframe tbody tr th {\n",
       "        vertical-align: top;\n",
       "    }\n",
       "\n",
       "    .dataframe thead th {\n",
       "        text-align: right;\n",
       "    }\n",
       "</style>\n",
       "<table border=\"1\" class=\"dataframe\">\n",
       "  <thead>\n",
       "    <tr style=\"text-align: right;\">\n",
       "      <th></th>\n",
       "      <th>train_guid</th>\n",
       "      <th>influence</th>\n",
       "      <th>test_guid</th>\n",
       "      <th>infl_diff</th>\n",
       "    </tr>\n",
       "  </thead>\n",
       "  <tbody>\n",
       "    <tr>\n",
       "      <th>761</th>\n",
       "      <td>761</td>\n",
       "      <td>-18.195465</td>\n",
       "      <td>218</td>\n",
       "      <td>0.909773</td>\n",
       "    </tr>\n",
       "  </tbody>\n",
       "</table>\n",
       "</div>"
      ],
      "text/plain": [
       "     train_guid  influence  test_guid  infl_diff\n",
       "761         761 -18.195465        218   0.909773"
      ]
     },
     "execution_count": 35,
     "metadata": {},
     "output_type": "execute_result"
    }
   ],
   "source": []
  },
  {
   "cell_type": "markdown",
   "id": "4a8c47da-bbe2-4b04-8b8c-6f0a433da3e8",
   "metadata": {},
   "source": [
    "### Influence Distributon of High Confidence Test Points"
   ]
  },
  {
   "cell_type": "code",
   "execution_count": null,
   "id": "45d23f38-de31-4fc8-af73-088586416f3c",
   "metadata": {},
   "outputs": [],
   "source": []
  },
  {
   "cell_type": "markdown",
   "id": "7b3055f3-1a5d-46b9-ae80-cbeca66656db",
   "metadata": {},
   "source": [
    "### Influence Distribution of Low Confidence Test Points"
   ]
  },
  {
   "cell_type": "code",
   "execution_count": null,
   "id": "24971716-6b3e-4b12-be0a-30960619e1cf",
   "metadata": {},
   "outputs": [],
   "source": []
  }
 ],
 "metadata": {
  "kernelspec": {
   "display_name": "Python 3 (ipykernel)",
   "language": "python",
   "name": "python3"
  },
  "language_info": {
   "codemirror_mode": {
    "name": "ipython",
    "version": 3
   },
   "file_extension": ".py",
   "mimetype": "text/x-python",
   "name": "python",
   "nbconvert_exporter": "python",
   "pygments_lexer": "ipython3",
   "version": "3.10.10"
  }
 },
 "nbformat": 4,
 "nbformat_minor": 5
}
