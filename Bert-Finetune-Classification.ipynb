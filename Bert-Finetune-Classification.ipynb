{
 "cells": [
  {
   "cell_type": "code",
   "execution_count": 6,
   "metadata": {
    "execution": {
     "iopub.execute_input": "2023-05-05T04:59:59.221062Z",
     "iopub.status.busy": "2023-05-05T04:59:59.220533Z",
     "iopub.status.idle": "2023-05-05T05:00:05.184889Z",
     "shell.execute_reply": "2023-05-05T05:00:05.184109Z",
     "shell.execute_reply.started": "2023-05-05T04:59:59.221043Z"
    },
    "executionInfo": {
     "elapsed": 9,
     "status": "ok",
     "timestamp": 1679952484280,
     "user": {
      "displayName": "Patrick Cao",
      "userId": "14491048743324317279"
     },
     "user_tz": 240
    },
    "id": "3hV2Ty1MUoI4",
    "tags": []
   },
   "outputs": [
    {
     "name": "stdout",
     "output_type": "stream",
     "text": [
      "The autoreload extension is already loaded. To reload it, use:\n",
      "  %reload_ext autoreload\n"
     ]
    },
    {
     "name": "stderr",
     "output_type": "stream",
     "text": [
      "100%|██████████████████████████████████████████████████████████████████████████████████████████████████████████████| 67349/67349 [00:05<00:00, 13344.79it/s]\n",
      "100%|██████████████████████████████████████████████████████████████████████████████████████████████████████████████████| 872/872 [00:00<00:00, 10499.25it/s]\n"
     ]
    }
   ],
   "source": [
    "%load_ext autoreload\n",
    "%autoreload 2\n",
    "\n",
    "import argparse\n",
    "import os\n",
    "from pathlib import Path\n",
    "\n",
    "import numpy as np\n",
    "import pandas as pd\n",
    "import torch\n",
    "import yaml\n",
    "from torch.optim import Adam\n",
    "from torch.utils.data import DataLoader\n",
    "from tqdm import tqdm\n",
    "\n",
    "import wandb\n",
    "from src import BertClassifier, train_utils, utils\n",
    "from src import datasets as data_utils\n",
    "\n",
    "device = utils.get_device()\n",
    "\n",
    "config = utils.load_config(\n",
    "    \"model_params/bert_classifier.yaml\", epochs=10, num_training_examples=-1\n",
    ")\n",
    "\n",
    "# Create datasets\n",
    "train_dataset = data_utils.create_train_sst2(\n",
    "    device,\n",
    "    num_samples=config[\"num_training_examples\"],\n",
    "    tokenizer_name=config[\"bert_model_name\"],\n",
    "    max_seq_len=config[\"max_sequence_length\"],\n",
    ")\n",
    "\n",
    "test_dataset = data_utils.create_test_sst2(\n",
    "    device,\n",
    "    tokenizer_name=config[\"bert_model_name\"],\n",
    "    max_seq_len=config[\"max_sequence_length\"],\n",
    ")\n",
    "test_dataloader = DataLoader(test_dataset, shuffle=False, batch_size=1)"
   ]
  },
  {
   "cell_type": "code",
   "execution_count": 9,
   "metadata": {
    "execution": {
     "iopub.execute_input": "2023-05-05T05:01:44.499220Z",
     "iopub.status.busy": "2023-05-05T05:01:44.498960Z",
     "iopub.status.idle": "2023-05-05T05:56:40.512378Z",
     "shell.execute_reply": "2023-05-05T05:56:40.511676Z",
     "shell.execute_reply.started": "2023-05-05T05:01:44.499203Z"
    },
    "tags": []
   },
   "outputs": [
    {
     "name": "stderr",
     "output_type": "stream",
     "text": [
      "Some weights of the model checkpoint at distilbert-base-uncased were not used when initializing DistilBertModel: ['vocab_transform.bias', 'vocab_layer_norm.weight', 'vocab_projector.weight', 'vocab_layer_norm.bias', 'vocab_projector.bias', 'vocab_transform.weight']\n",
      "- This IS expected if you are initializing DistilBertModel from the checkpoint of a model trained on another task or with another architecture (e.g. initializing a BertForSequenceClassification model from a BertForPreTraining model).\n",
      "- This IS NOT expected if you are initializing DistilBertModel from the checkpoint of a model that you expect to be exactly identical (initializing a BertForSequenceClassification model from a BertForSequenceClassification model).\n"
     ]
    },
    {
     "data": {
      "text/html": [
       "Finishing last run (ID:jhgaa6kx) before initializing another..."
      ],
      "text/plain": [
       "<IPython.core.display.HTML object>"
      ]
     },
     "metadata": {},
     "output_type": "display_data"
    },
    {
     "data": {
      "text/html": [
       "Waiting for W&B process to finish... <strong style=\"color:green\">(success).</strong>"
      ],
      "text/plain": [
       "<IPython.core.display.HTML object>"
      ]
     },
     "metadata": {},
     "output_type": "display_data"
    },
    {
     "data": {
      "application/vnd.jupyter.widget-view+json": {
       "model_id": "c8f20116794d444a8708718dca51f18e",
       "version_major": 2,
       "version_minor": 0
      },
      "text/plain": [
       "VBox(children=(Label(value='0.003 MB of 0.003 MB uploaded (0.000 MB deduped)\\r'), FloatProgress(value=1.0, max…"
      ]
     },
     "metadata": {},
     "output_type": "display_data"
    },
    {
     "data": {
      "text/html": [
       " View run <strong style=\"color:#cdcd00\">stellar-council-2</strong> at: <a href='https://wandb.ai/patcao/Bert-scratch/runs/jhgaa6kx' target=\"_blank\">https://wandb.ai/patcao/Bert-scratch/runs/jhgaa6kx</a><br/>Synced 6 W&B file(s), 0 media file(s), 0 artifact file(s) and 0 other file(s)"
      ],
      "text/plain": [
       "<IPython.core.display.HTML object>"
      ]
     },
     "metadata": {},
     "output_type": "display_data"
    },
    {
     "data": {
      "text/html": [
       "Find logs at: <code>./wandb/run-20230505_010053-jhgaa6kx/logs</code>"
      ],
      "text/plain": [
       "<IPython.core.display.HTML object>"
      ]
     },
     "metadata": {},
     "output_type": "display_data"
    },
    {
     "data": {
      "text/html": [
       "Successfully finished last run (ID:jhgaa6kx). Initializing new run:<br/>"
      ],
      "text/plain": [
       "<IPython.core.display.HTML object>"
      ]
     },
     "metadata": {},
     "output_type": "display_data"
    },
    {
     "data": {
      "application/vnd.jupyter.widget-view+json": {
       "model_id": "708c63ebf3e5413988701438c5c32120",
       "version_major": 2,
       "version_minor": 0
      },
      "text/plain": [
       "VBox(children=(Label(value='Waiting for wandb.init()...\\r'), FloatProgress(value=0.016669839999910133, max=1.0…"
      ]
     },
     "metadata": {},
     "output_type": "display_data"
    },
    {
     "data": {
      "text/html": [
       "wandb version 0.15.1 is available!  To upgrade, please run:\n",
       " $ pip install wandb --upgrade"
      ],
      "text/plain": [
       "<IPython.core.display.HTML object>"
      ]
     },
     "metadata": {},
     "output_type": "display_data"
    },
    {
     "data": {
      "text/html": [
       "Tracking run with wandb version 0.15.0"
      ],
      "text/plain": [
       "<IPython.core.display.HTML object>"
      ]
     },
     "metadata": {},
     "output_type": "display_data"
    },
    {
     "data": {
      "text/html": [
       "Run data is saved locally in <code>/home/pcao/sentiment-influence-function/wandb/run-20230505_010146-ly1v0am7</code>"
      ],
      "text/plain": [
       "<IPython.core.display.HTML object>"
      ]
     },
     "metadata": {},
     "output_type": "display_data"
    },
    {
     "data": {
      "text/html": [
       "Syncing run <strong><a href='https://wandb.ai/patcao/Bert-scratch/runs/ly1v0am7' target=\"_blank\">clone-nexu-3</a></strong> to <a href='https://wandb.ai/patcao/Bert-scratch' target=\"_blank\">Weights & Biases</a> (<a href='https://wandb.me/run' target=\"_blank\">docs</a>)<br/>"
      ],
      "text/plain": [
       "<IPython.core.display.HTML object>"
      ]
     },
     "metadata": {},
     "output_type": "display_data"
    },
    {
     "data": {
      "text/html": [
       " View project at <a href='https://wandb.ai/patcao/Bert-scratch' target=\"_blank\">https://wandb.ai/patcao/Bert-scratch</a>"
      ],
      "text/plain": [
       "<IPython.core.display.HTML object>"
      ]
     },
     "metadata": {},
     "output_type": "display_data"
    },
    {
     "data": {
      "text/html": [
       " View run at <a href='https://wandb.ai/patcao/Bert-scratch/runs/ly1v0am7' target=\"_blank\">https://wandb.ai/patcao/Bert-scratch/runs/ly1v0am7</a>"
      ],
      "text/plain": [
       "<IPython.core.display.HTML object>"
      ]
     },
     "metadata": {},
     "output_type": "display_data"
    },
    {
     "name": "stderr",
     "output_type": "stream",
     "text": [
      "100%|████████████████████████████████████████████████████████████████████████████████████████████████████████████████| 4210/4210 [05:44<00:00, 12.22batch/s]\n",
      "100%|████████████████████████████████████████████████████████████████████████████████████████████████████████████████| 4210/4210 [05:41<00:00, 12.33batch/s]\n",
      "100%|████████████████████████████████████████████████████████████████████████████████████████████████████████████████| 4210/4210 [05:12<00:00, 13.46batch/s]\n",
      "100%|████████████████████████████████████████████████████████████████████████████████████████████████████████████████| 4210/4210 [05:32<00:00, 12.68batch/s]\n",
      "100%|████████████████████████████████████████████████████████████████████████████████████████████████████████████████| 4210/4210 [05:37<00:00, 12.46batch/s]\n",
      "100%|████████████████████████████████████████████████████████████████████████████████████████████████████████████████| 4210/4210 [05:07<00:00, 13.69batch/s]\n",
      "100%|████████████████████████████████████████████████████████████████████████████████████████████████████████████████| 4210/4210 [05:27<00:00, 12.85batch/s]\n",
      "100%|████████████████████████████████████████████████████████████████████████████████████████████████████████████████| 4210/4210 [05:35<00:00, 12.55batch/s]\n",
      "100%|████████████████████████████████████████████████████████████████████████████████████████████████████████████████| 4210/4210 [05:05<00:00, 13.79batch/s]\n",
      "100%|████████████████████████████████████████████████████████████████████████████████████████████████████████████████| 4210/4210 [05:26<00:00, 12.88batch/s]\n"
     ]
    },
    {
     "data": {
      "text/html": [
       "Waiting for W&B process to finish... <strong style=\"color:green\">(success).</strong>"
      ],
      "text/plain": [
       "<IPython.core.display.HTML object>"
      ]
     },
     "metadata": {},
     "output_type": "display_data"
    },
    {
     "data": {
      "application/vnd.jupyter.widget-view+json": {
       "model_id": "4641c06b56f942a6a8e3e192eb7ede5a",
       "version_major": 2,
       "version_minor": 0
      },
      "text/plain": [
       "VBox(children=(Label(value='0.003 MB of 0.003 MB uploaded (0.000 MB deduped)\\r'), FloatProgress(value=1.0, max…"
      ]
     },
     "metadata": {},
     "output_type": "display_data"
    },
    {
     "data": {
      "text/html": [
       "<style>\n",
       "    table.wandb td:nth-child(1) { padding: 0 10px; text-align: left ; width: auto;} td:nth-child(2) {text-align: left ; width: 100%}\n",
       "    .wandb-row { display: flex; flex-direction: row; flex-wrap: wrap; justify-content: flex-start; width: 100% }\n",
       "    .wandb-col { display: flex; flex-direction: column; flex-basis: 100%; flex: 1; padding: 10px; }\n",
       "    </style>\n",
       "<div class=\"wandb-row\"><div class=\"wandb-col\"><h3>Run history:</h3><br/><table class=\"wandb\"><tr><td>epoch</td><td>▁▂▃▃▄▅▆▆▇█</td></tr><tr><td>train/accuracy</td><td>▁▆▆▆▆▆▇▇██</td></tr><tr><td>train/batch_loss</td><td>▅▃▅▅▃▃▁▃▁▅▄▃▂▅▁▄▅▃▂▃▆▄▂█▂▂▂▅▃▄▅▆▆▃▃▂▅▆▃▆</td></tr><tr><td>train/loss</td><td>█▄▄▄▄▃▂▂▁▁</td></tr></table><br/></div><div class=\"wandb-col\"><h3>Run summary:</h3><br/><table class=\"wandb\"><tr><td>epoch</td><td>10</td></tr><tr><td>test/accuracy</td><td>83.83028</td></tr><tr><td>test/loss</td><td>0.37148</td></tr><tr><td>train/accuracy</td><td>84.89578</td></tr><tr><td>train/batch_loss</td><td>0.24677</td></tr><tr><td>train/loss</td><td>0.34957</td></tr></table><br/></div></div>"
      ],
      "text/plain": [
       "<IPython.core.display.HTML object>"
      ]
     },
     "metadata": {},
     "output_type": "display_data"
    },
    {
     "data": {
      "text/html": [
       " View run <strong style=\"color:#cdcd00\">clone-nexu-3</strong> at: <a href='https://wandb.ai/patcao/Bert-scratch/runs/ly1v0am7' target=\"_blank\">https://wandb.ai/patcao/Bert-scratch/runs/ly1v0am7</a><br/>Synced 6 W&B file(s), 0 media file(s), 0 artifact file(s) and 0 other file(s)"
      ],
      "text/plain": [
       "<IPython.core.display.HTML object>"
      ]
     },
     "metadata": {},
     "output_type": "display_data"
    },
    {
     "data": {
      "text/html": [
       "Find logs at: <code>./wandb/run-20230505_010146-ly1v0am7/logs</code>"
      ],
      "text/plain": [
       "<IPython.core.display.HTML object>"
      ]
     },
     "metadata": {},
     "output_type": "display_data"
    }
   ],
   "source": [
    "full_model, fdf, full_test_loss, full_test_acc = train_utils.train_bert_model(\n",
    "    train_dataset, test_dataset, config\n",
    ")"
   ]
  },
  {
   "cell_type": "code",
   "execution_count": 14,
   "metadata": {
    "execution": {
     "iopub.execute_input": "2023-05-05T06:13:51.241089Z",
     "iopub.status.busy": "2023-05-05T06:13:51.240481Z",
     "iopub.status.idle": "2023-05-05T06:13:51.264756Z",
     "shell.execute_reply": "2023-05-05T06:13:51.263739Z",
     "shell.execute_reply.started": "2023-05-05T06:13:51.241071Z"
    },
    "tags": []
   },
   "outputs": [
    {
     "data": {
      "text/plain": [
       "(0.3714797575896015, 83.8302752293578)"
      ]
     },
     "execution_count": 14,
     "metadata": {},
     "output_type": "execute_result"
    }
   ],
   "source": [
    "full_test_loss, full_test_acc"
   ]
  },
  {
   "cell_type": "code",
   "execution_count": 10,
   "metadata": {
    "execution": {
     "iopub.execute_input": "2023-05-05T05:56:40.513356Z",
     "iopub.status.busy": "2023-05-05T05:56:40.513195Z",
     "iopub.status.idle": "2023-05-05T05:56:40.539151Z",
     "shell.execute_reply": "2023-05-05T05:56:40.538408Z",
     "shell.execute_reply.started": "2023-05-05T05:56:40.513341Z"
    }
   },
   "outputs": [],
   "source": [
    "torch.save(full_model.classifier.state_dict(), 'bert-classifier-10epoch-fulldata.pt')"
   ]
  },
  {
   "cell_type": "code",
   "execution_count": 11,
   "metadata": {
    "execution": {
     "iopub.execute_input": "2023-05-05T05:56:40.539855Z",
     "iopub.status.busy": "2023-05-05T05:56:40.539663Z",
     "iopub.status.idle": "2023-05-05T05:56:40.614893Z",
     "shell.execute_reply": "2023-05-05T05:56:40.614183Z",
     "shell.execute_reply.started": "2023-05-05T05:56:40.539808Z"
    }
   },
   "outputs": [],
   "source": [
    "fdf.to_csv('bert-classifier-10epoch-fulldata-loss.csv', index=False)"
   ]
  },
  {
   "cell_type": "code",
   "execution_count": 12,
   "metadata": {
    "execution": {
     "iopub.execute_input": "2023-05-05T06:12:52.836875Z",
     "iopub.status.busy": "2023-05-05T06:12:52.836213Z",
     "iopub.status.idle": "2023-05-05T06:12:52.867357Z",
     "shell.execute_reply": "2023-05-05T06:12:52.866559Z",
     "shell.execute_reply.started": "2023-05-05T06:12:52.836840Z"
    },
    "tags": []
   },
   "outputs": [
    {
     "data": {
      "text/html": [
       "<div>\n",
       "<style scoped>\n",
       "    .dataframe tbody tr th:only-of-type {\n",
       "        vertical-align: middle;\n",
       "    }\n",
       "\n",
       "    .dataframe tbody tr th {\n",
       "        vertical-align: top;\n",
       "    }\n",
       "\n",
       "    .dataframe thead th {\n",
       "        text-align: right;\n",
       "    }\n",
       "</style>\n",
       "<table border=\"1\" class=\"dataframe\">\n",
       "  <thead>\n",
       "    <tr style=\"text-align: right;\">\n",
       "      <th></th>\n",
       "      <th>test_guid</th>\n",
       "      <th>logits</th>\n",
       "      <th>pred</th>\n",
       "      <th>label</th>\n",
       "      <th>loss</th>\n",
       "    </tr>\n",
       "  </thead>\n",
       "  <tbody>\n",
       "    <tr>\n",
       "      <th>0</th>\n",
       "      <td>0</td>\n",
       "      <td>[-3.4585288, 3.077545]</td>\n",
       "      <td>1</td>\n",
       "      <td>1</td>\n",
       "      <td>0.001449</td>\n",
       "    </tr>\n",
       "    <tr>\n",
       "      <th>1</th>\n",
       "      <td>1</td>\n",
       "      <td>[1.5943244, -1.4615642]</td>\n",
       "      <td>0</td>\n",
       "      <td>0</td>\n",
       "      <td>0.046006</td>\n",
       "    </tr>\n",
       "    <tr>\n",
       "      <th>2</th>\n",
       "      <td>2</td>\n",
       "      <td>[-2.634699, 2.254184]</td>\n",
       "      <td>1</td>\n",
       "      <td>1</td>\n",
       "      <td>0.007502</td>\n",
       "    </tr>\n",
       "    <tr>\n",
       "      <th>3</th>\n",
       "      <td>3</td>\n",
       "      <td>[-1.7075384, 1.5407968]</td>\n",
       "      <td>1</td>\n",
       "      <td>1</td>\n",
       "      <td>0.038104</td>\n",
       "    </tr>\n",
       "    <tr>\n",
       "      <th>4</th>\n",
       "      <td>4</td>\n",
       "      <td>[0.9781762, -1.2377704]</td>\n",
       "      <td>0</td>\n",
       "      <td>0</td>\n",
       "      <td>0.103504</td>\n",
       "    </tr>\n",
       "    <tr>\n",
       "      <th>...</th>\n",
       "      <td>...</td>\n",
       "      <td>...</td>\n",
       "      <td>...</td>\n",
       "      <td>...</td>\n",
       "      <td>...</td>\n",
       "    </tr>\n",
       "    <tr>\n",
       "      <th>867</th>\n",
       "      <td>867</td>\n",
       "      <td>[-0.11757666, 0.004934795]</td>\n",
       "      <td>1</td>\n",
       "      <td>0</td>\n",
       "      <td>0.756278</td>\n",
       "    </tr>\n",
       "    <tr>\n",
       "      <th>868</th>\n",
       "      <td>868</td>\n",
       "      <td>[-0.5531204, 0.6147107]</td>\n",
       "      <td>1</td>\n",
       "      <td>1</td>\n",
       "      <td>0.270821</td>\n",
       "    </tr>\n",
       "    <tr>\n",
       "      <th>869</th>\n",
       "      <td>869</td>\n",
       "      <td>[-0.3901366, -0.062573045]</td>\n",
       "      <td>1</td>\n",
       "      <td>0</td>\n",
       "      <td>0.870282</td>\n",
       "    </tr>\n",
       "    <tr>\n",
       "      <th>870</th>\n",
       "      <td>870</td>\n",
       "      <td>[0.020624734, -0.25613683]</td>\n",
       "      <td>0</td>\n",
       "      <td>0</td>\n",
       "      <td>0.564311</td>\n",
       "    </tr>\n",
       "    <tr>\n",
       "      <th>871</th>\n",
       "      <td>871</td>\n",
       "      <td>[-2.264211, 1.7666366]</td>\n",
       "      <td>1</td>\n",
       "      <td>1</td>\n",
       "      <td>0.017603</td>\n",
       "    </tr>\n",
       "  </tbody>\n",
       "</table>\n",
       "<p>872 rows × 5 columns</p>\n",
       "</div>"
      ],
      "text/plain": [
       "     test_guid                      logits  pred  label      loss\n",
       "0            0      [-3.4585288, 3.077545]     1      1  0.001449\n",
       "1            1     [1.5943244, -1.4615642]     0      0  0.046006\n",
       "2            2       [-2.634699, 2.254184]     1      1  0.007502\n",
       "3            3     [-1.7075384, 1.5407968]     1      1  0.038104\n",
       "4            4     [0.9781762, -1.2377704]     0      0  0.103504\n",
       "..         ...                         ...   ...    ...       ...\n",
       "867        867  [-0.11757666, 0.004934795]     1      0  0.756278\n",
       "868        868     [-0.5531204, 0.6147107]     1      1  0.270821\n",
       "869        869  [-0.3901366, -0.062573045]     1      0  0.870282\n",
       "870        870  [0.020624734, -0.25613683]     0      0  0.564311\n",
       "871        871      [-2.264211, 1.7666366]     1      1  0.017603\n",
       "\n",
       "[872 rows x 5 columns]"
      ]
     },
     "execution_count": 12,
     "metadata": {},
     "output_type": "execute_result"
    }
   ],
   "source": [
    "fdf"
   ]
  },
  {
   "cell_type": "code",
   "execution_count": 15,
   "metadata": {
    "execution": {
     "iopub.execute_input": "2023-05-05T13:57:03.993411Z",
     "iopub.status.busy": "2023-05-05T13:57:03.993184Z",
     "iopub.status.idle": "2023-05-05T13:57:04.016069Z",
     "shell.execute_reply": "2023-05-05T13:57:04.015305Z",
     "shell.execute_reply.started": "2023-05-05T13:57:03.993396Z"
    }
   },
   "outputs": [],
   "source": [
    "firstq_loss = fdf.loss.quantile(0.25)\n",
    "median_loss = fdf.loss.quantile(0.5)\n",
    "thirdq_loss = fdf.loss.quantile(0.75)"
   ]
  },
  {
   "cell_type": "code",
   "execution_count": 16,
   "metadata": {
    "execution": {
     "iopub.execute_input": "2023-05-05T13:57:10.915085Z",
     "iopub.status.busy": "2023-05-05T13:57:10.914800Z",
     "iopub.status.idle": "2023-05-05T13:57:10.943526Z",
     "shell.execute_reply": "2023-05-05T13:57:10.942655Z",
     "shell.execute_reply.started": "2023-05-05T13:57:10.915064Z"
    }
   },
   "outputs": [
    {
     "data": {
      "text/html": [
       "<div>\n",
       "<style scoped>\n",
       "    .dataframe tbody tr th:only-of-type {\n",
       "        vertical-align: middle;\n",
       "    }\n",
       "\n",
       "    .dataframe tbody tr th {\n",
       "        vertical-align: top;\n",
       "    }\n",
       "\n",
       "    .dataframe thead th {\n",
       "        text-align: right;\n",
       "    }\n",
       "</style>\n",
       "<table border=\"1\" class=\"dataframe\">\n",
       "  <thead>\n",
       "    <tr style=\"text-align: right;\">\n",
       "      <th></th>\n",
       "      <th>test_guid</th>\n",
       "      <th>logits</th>\n",
       "      <th>pred</th>\n",
       "      <th>label</th>\n",
       "      <th>loss</th>\n",
       "    </tr>\n",
       "  </thead>\n",
       "  <tbody>\n",
       "    <tr>\n",
       "      <th>1</th>\n",
       "      <td>1</td>\n",
       "      <td>[1.5943244, -1.4615642]</td>\n",
       "      <td>0</td>\n",
       "      <td>0</td>\n",
       "      <td>0.046006</td>\n",
       "    </tr>\n",
       "    <tr>\n",
       "      <th>3</th>\n",
       "      <td>3</td>\n",
       "      <td>[-1.7075384, 1.5407968]</td>\n",
       "      <td>1</td>\n",
       "      <td>1</td>\n",
       "      <td>0.038104</td>\n",
       "    </tr>\n",
       "  </tbody>\n",
       "</table>\n",
       "</div>"
      ],
      "text/plain": [
       "   test_guid                   logits  pred  label      loss\n",
       "1          1  [1.5943244, -1.4615642]     0      0  0.046006\n",
       "3          3  [-1.7075384, 1.5407968]     1      1  0.038104"
      ]
     },
     "execution_count": 16,
     "metadata": {},
     "output_type": "execute_result"
    }
   ],
   "source": [
    "fdf[(fdf.loss >= firstq_loss) & (fdf.loss < median_loss)].iloc[:2]"
   ]
  },
  {
   "cell_type": "code",
   "execution_count": 17,
   "metadata": {
    "execution": {
     "iopub.execute_input": "2023-05-05T13:57:18.039210Z",
     "iopub.status.busy": "2023-05-05T13:57:18.038965Z",
     "iopub.status.idle": "2023-05-05T13:57:18.066845Z",
     "shell.execute_reply": "2023-05-05T13:57:18.066087Z",
     "shell.execute_reply.started": "2023-05-05T13:57:18.039194Z"
    }
   },
   "outputs": [
    {
     "data": {
      "text/html": [
       "<div>\n",
       "<style scoped>\n",
       "    .dataframe tbody tr th:only-of-type {\n",
       "        vertical-align: middle;\n",
       "    }\n",
       "\n",
       "    .dataframe tbody tr th {\n",
       "        vertical-align: top;\n",
       "    }\n",
       "\n",
       "    .dataframe thead th {\n",
       "        text-align: right;\n",
       "    }\n",
       "</style>\n",
       "<table border=\"1\" class=\"dataframe\">\n",
       "  <thead>\n",
       "    <tr style=\"text-align: right;\">\n",
       "      <th></th>\n",
       "      <th>test_guid</th>\n",
       "      <th>logits</th>\n",
       "      <th>pred</th>\n",
       "      <th>label</th>\n",
       "      <th>loss</th>\n",
       "    </tr>\n",
       "  </thead>\n",
       "  <tbody>\n",
       "    <tr>\n",
       "      <th>4</th>\n",
       "      <td>4</td>\n",
       "      <td>[0.9781762, -1.2377704]</td>\n",
       "      <td>0</td>\n",
       "      <td>0</td>\n",
       "      <td>0.103504</td>\n",
       "    </tr>\n",
       "    <tr>\n",
       "      <th>12</th>\n",
       "      <td>12</td>\n",
       "      <td>[0.6405805, -0.8864901]</td>\n",
       "      <td>0</td>\n",
       "      <td>0</td>\n",
       "      <td>0.196529</td>\n",
       "    </tr>\n",
       "  </tbody>\n",
       "</table>\n",
       "</div>"
      ],
      "text/plain": [
       "    test_guid                   logits  pred  label      loss\n",
       "4           4  [0.9781762, -1.2377704]     0      0  0.103504\n",
       "12         12  [0.6405805, -0.8864901]     0      0  0.196529"
      ]
     },
     "execution_count": 17,
     "metadata": {},
     "output_type": "execute_result"
    }
   ],
   "source": [
    "fdf[(fdf.loss >= median_loss) & (fdf.loss < thirdq_loss)].iloc[:2]"
   ]
  },
  {
   "cell_type": "code",
   "execution_count": 18,
   "metadata": {
    "execution": {
     "iopub.execute_input": "2023-05-05T13:57:39.574470Z",
     "iopub.status.busy": "2023-05-05T13:57:39.574239Z",
     "iopub.status.idle": "2023-05-05T13:57:39.601463Z",
     "shell.execute_reply": "2023-05-05T13:57:39.600691Z",
     "shell.execute_reply.started": "2023-05-05T13:57:39.574454Z"
    },
    "tags": []
   },
   "outputs": [
    {
     "data": {
      "text/html": [
       "<div>\n",
       "<style scoped>\n",
       "    .dataframe tbody tr th:only-of-type {\n",
       "        vertical-align: middle;\n",
       "    }\n",
       "\n",
       "    .dataframe tbody tr th {\n",
       "        vertical-align: top;\n",
       "    }\n",
       "\n",
       "    .dataframe thead th {\n",
       "        text-align: right;\n",
       "    }\n",
       "</style>\n",
       "<table border=\"1\" class=\"dataframe\">\n",
       "  <thead>\n",
       "    <tr style=\"text-align: right;\">\n",
       "      <th></th>\n",
       "      <th>test_guid</th>\n",
       "      <th>logits</th>\n",
       "      <th>pred</th>\n",
       "      <th>label</th>\n",
       "      <th>loss</th>\n",
       "    </tr>\n",
       "  </thead>\n",
       "  <tbody>\n",
       "    <tr>\n",
       "      <th>11</th>\n",
       "      <td>11</td>\n",
       "      <td>[0.010494724, -0.08012711]</td>\n",
       "      <td>0</td>\n",
       "      <td>0</td>\n",
       "      <td>0.648862</td>\n",
       "    </tr>\n",
       "    <tr>\n",
       "      <th>13</th>\n",
       "      <td>13</td>\n",
       "      <td>[-0.012740873, -0.54817855]</td>\n",
       "      <td>0</td>\n",
       "      <td>1</td>\n",
       "      <td>0.996283</td>\n",
       "    </tr>\n",
       "  </tbody>\n",
       "</table>\n",
       "</div>"
      ],
      "text/plain": [
       "    test_guid                       logits  pred  label      loss\n",
       "11         11   [0.010494724, -0.08012711]     0      0  0.648862\n",
       "13         13  [-0.012740873, -0.54817855]     0      1  0.996283"
      ]
     },
     "execution_count": 18,
     "metadata": {},
     "output_type": "execute_result"
    }
   ],
   "source": [
    "fdf[(fdf.loss >= thirdq_loss)].iloc[:2]"
   ]
  }
 ],
 "metadata": {
  "accelerator": "GPU",
  "colab": {
   "authorship_tag": "ABX9TyNbkVKOEvoT5UeHOpUbpwF+",
   "provenance": [
    {
     "file_id": "12fA4kCMggyt4Gz-B2MSi6tFwB3zzyO_O",
     "timestamp": 1679669448099
    }
   ]
  },
  "gpuClass": "standard",
  "kernelspec": {
   "display_name": "Python 3 (ipykernel)",
   "language": "python",
   "name": "python3"
  },
  "language_info": {
   "codemirror_mode": {
    "name": "ipython",
    "version": 3
   },
   "file_extension": ".py",
   "mimetype": "text/x-python",
   "name": "python",
   "nbconvert_exporter": "python",
   "pygments_lexer": "ipython3",
   "version": "3.10.10"
  }
 },
 "nbformat": 4,
 "nbformat_minor": 4
}
