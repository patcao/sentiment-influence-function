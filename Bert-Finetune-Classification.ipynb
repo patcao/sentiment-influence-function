{
 "cells": [
  {
   "cell_type": "code",
   "execution_count": 7,
   "metadata": {
    "execution": {
     "iopub.execute_input": "2023-05-10T04:36:17.567108Z",
     "iopub.status.busy": "2023-05-10T04:36:17.566681Z",
     "iopub.status.idle": "2023-05-10T04:36:18.563491Z",
     "shell.execute_reply": "2023-05-10T04:36:18.562853Z",
     "shell.execute_reply.started": "2023-05-10T04:36:17.567092Z"
    },
    "executionInfo": {
     "elapsed": 9,
     "status": "ok",
     "timestamp": 1679952484280,
     "user": {
      "displayName": "Patrick Cao",
      "userId": "14491048743324317279"
     },
     "user_tz": 240
    },
    "id": "3hV2Ty1MUoI4",
    "tags": []
   },
   "outputs": [
    {
     "name": "stdout",
     "output_type": "stream",
     "text": [
      "The autoreload extension is already loaded. To reload it, use:\n",
      "  %reload_ext autoreload\n"
     ]
    },
    {
     "name": "stderr",
     "output_type": "stream",
     "text": [
      "100%|████████████████████████████████████████████████████████████████████████████████████████████| 10000/10000 [00:00<00:00, 14614.69it/s]\n",
      "100%|████████████████████████████████████████████████████████████████████████████████████████████████| 872/872 [00:00<00:00, 10776.01it/s]\n"
     ]
    },
    {
     "data": {
      "text/plain": [
       "{'epochs': 9,\n",
       " 'bert_model_name': 'distilbert-base-uncased',\n",
       " 'max_sequence_length': 64,\n",
       " 'learning_rate': 0.0002,\n",
       " 'batch_size': 32,\n",
       " 'classifier_init_state_path': 'model_params/init_classifier_params.pt',\n",
       " 'classifier_type': 'single-fc',\n",
       " 'classifier_hidden_size': 0,\n",
       " 'classifier_drop_out': 0,\n",
       " 'optimizer_weight_decay': 0.001,\n",
       " 'num_training_examples': 10000}"
      ]
     },
     "execution_count": 7,
     "metadata": {},
     "output_type": "execute_result"
    }
   ],
   "source": [
    "%load_ext autoreload\n",
    "%autoreload 2\n",
    "\n",
    "import argparse\n",
    "import os\n",
    "from pathlib import Path\n",
    "\n",
    "import numpy as np\n",
    "import pandas as pd\n",
    "import torch\n",
    "import yaml\n",
    "from src import BertClassifier\n",
    "from src import datasets as data_utils\n",
    "from src import train_utils, utils\n",
    "from torch.optim import Adam\n",
    "from torch.utils.data import DataLoader\n",
    "from tqdm import tqdm\n",
    "\n",
    "import wandb\n",
    "\n",
    "device = utils.get_device()\n",
    "\n",
    "config = utils.load_config(\n",
    "    \"model_params/bert_classifier.yaml\",\n",
    "    epochs=9,\n",
    "    learning_rate=2e-4,\n",
    "    batch_size=32\n",
    ")\n",
    "\n",
    "# Create datasets\n",
    "train_dataset = data_utils.create_train_sst2(\n",
    "    device=device,\n",
    "    num_samples=config[\"num_training_examples\"],\n",
    "    tokenizer_name=config[\"bert_model_name\"],\n",
    "    max_seq_len=config[\"max_sequence_length\"],\n",
    ")\n",
    "\n",
    "test_dataset = data_utils.create_test_sst2(\n",
    "    device=device,\n",
    "    tokenizer_name=config[\"bert_model_name\"],\n",
    "    max_seq_len=config[\"max_sequence_length\"],\n",
    ")\n",
    "test_dataloader = DataLoader(test_dataset, shuffle=False, batch_size=1)\n",
    "config"
   ]
  },
  {
   "cell_type": "code",
   "execution_count": 8,
   "metadata": {
    "execution": {
     "iopub.execute_input": "2023-05-10T04:36:21.768209Z",
     "iopub.status.busy": "2023-05-10T04:36:21.767992Z",
     "iopub.status.idle": "2023-05-10T04:40:10.481636Z",
     "shell.execute_reply": "2023-05-10T04:40:10.481001Z",
     "shell.execute_reply.started": "2023-05-10T04:36:21.768194Z"
    },
    "tags": []
   },
   "outputs": [
    {
     "name": "stderr",
     "output_type": "stream",
     "text": [
      "Some weights of the model checkpoint at distilbert-base-uncased were not used when initializing DistilBertModel: ['vocab_transform.bias', 'vocab_transform.weight', 'vocab_projector.weight', 'vocab_layer_norm.bias', 'vocab_projector.bias', 'vocab_layer_norm.weight']\n",
      "- This IS expected if you are initializing DistilBertModel from the checkpoint of a model trained on another task or with another architecture (e.g. initializing a BertForSequenceClassification model from a BertForPreTraining model).\n",
      "- This IS NOT expected if you are initializing DistilBertModel from the checkpoint of a model that you expect to be exactly identical (initializing a BertForSequenceClassification model from a BertForSequenceClassification model).\n"
     ]
    },
    {
     "name": "stdout",
     "output_type": "stream",
     "text": [
      "Initial 0.7111523025968206, 46.674311926605505\n"
     ]
    },
    {
     "data": {
      "text/html": [
       "wandb version 0.15.2 is available!  To upgrade, please run:\n",
       " $ pip install wandb --upgrade"
      ],
      "text/plain": [
       "<IPython.core.display.HTML object>"
      ]
     },
     "metadata": {},
     "output_type": "display_data"
    },
    {
     "data": {
      "text/html": [
       "Tracking run with wandb version 0.15.0"
      ],
      "text/plain": [
       "<IPython.core.display.HTML object>"
      ]
     },
     "metadata": {},
     "output_type": "display_data"
    },
    {
     "data": {
      "text/html": [
       "Run data is saved locally in <code>/home/pcao/sentiment-influence-function/wandb/run-20230510_003627-v2dum9hj</code>"
      ],
      "text/plain": [
       "<IPython.core.display.HTML object>"
      ]
     },
     "metadata": {},
     "output_type": "display_data"
    },
    {
     "data": {
      "text/html": [
       "Syncing run <strong><a href='https://wandb.ai/patcao/Bert-scratch/runs/v2dum9hj' target=\"_blank\">olive-plasma-706</a></strong> to <a href='https://wandb.ai/patcao/Bert-scratch' target=\"_blank\">Weights & Biases</a> (<a href='https://wandb.me/run' target=\"_blank\">docs</a>)<br/>"
      ],
      "text/plain": [
       "<IPython.core.display.HTML object>"
      ]
     },
     "metadata": {},
     "output_type": "display_data"
    },
    {
     "data": {
      "text/html": [
       " View project at <a href='https://wandb.ai/patcao/Bert-scratch' target=\"_blank\">https://wandb.ai/patcao/Bert-scratch</a>"
      ],
      "text/plain": [
       "<IPython.core.display.HTML object>"
      ]
     },
     "metadata": {},
     "output_type": "display_data"
    },
    {
     "data": {
      "text/html": [
       " View run at <a href='https://wandb.ai/patcao/Bert-scratch/runs/v2dum9hj' target=\"_blank\">https://wandb.ai/patcao/Bert-scratch/runs/v2dum9hj</a>"
      ],
      "text/plain": [
       "<IPython.core.display.HTML object>"
      ]
     },
     "metadata": {},
     "output_type": "display_data"
    },
    {
     "name": "stderr",
     "output_type": "stream",
     "text": [
      "100%|████████████████████████████████████████████████████████████████████████████████████████████████| 313/313 [00:19<00:00, 16.23batch/s]\n",
      "100%|████████████████████████████████████████████████████████████████████████████████████████████████| 313/313 [00:19<00:00, 16.09batch/s]\n",
      "100%|████████████████████████████████████████████████████████████████████████████████████████████████| 313/313 [00:19<00:00, 16.29batch/s]\n",
      "100%|████████████████████████████████████████████████████████████████████████████████████████████████| 313/313 [00:19<00:00, 16.16batch/s]\n",
      "100%|████████████████████████████████████████████████████████████████████████████████████████████████| 313/313 [00:19<00:00, 16.35batch/s]\n",
      "100%|████████████████████████████████████████████████████████████████████████████████████████████████| 313/313 [00:18<00:00, 16.53batch/s]\n",
      "100%|████████████████████████████████████████████████████████████████████████████████████████████████| 313/313 [00:19<00:00, 16.36batch/s]\n",
      "100%|████████████████████████████████████████████████████████████████████████████████████████████████| 313/313 [00:19<00:00, 16.36batch/s]\n",
      "100%|████████████████████████████████████████████████████████████████████████████████████████████████| 313/313 [00:19<00:00, 16.34batch/s]\n"
     ]
    },
    {
     "data": {
      "text/html": [
       "Waiting for W&B process to finish... <strong style=\"color:green\">(success).</strong>"
      ],
      "text/plain": [
       "<IPython.core.display.HTML object>"
      ]
     },
     "metadata": {},
     "output_type": "display_data"
    },
    {
     "data": {
      "application/vnd.jupyter.widget-view+json": {
       "model_id": "e8c84435722d4c47b70cbcbe343da486",
       "version_major": 2,
       "version_minor": 0
      },
      "text/plain": [
       "VBox(children=(Label(value='0.003 MB of 0.003 MB uploaded (0.000 MB deduped)\\r'), FloatProgress(value=1.0, max…"
      ]
     },
     "metadata": {},
     "output_type": "display_data"
    },
    {
     "data": {
      "text/html": [
       "<style>\n",
       "    table.wandb td:nth-child(1) { padding: 0 10px; text-align: left ; width: auto;} td:nth-child(2) {text-align: left ; width: 100%}\n",
       "    .wandb-row { display: flex; flex-direction: row; flex-wrap: wrap; justify-content: flex-start; width: 100% }\n",
       "    .wandb-col { display: flex; flex-direction: column; flex-basis: 100%; flex: 1; padding: 10px; }\n",
       "    </style>\n",
       "<div class=\"wandb-row\"><div class=\"wandb-col\"><h3>Run history:</h3><br/><table class=\"wandb\"><tr><td>epoch</td><td>▁▂▃▄▅▅▆▇█</td></tr><tr><td>train/accuracy</td><td>▁▆▇▇█████</td></tr><tr><td>train/batch_loss</td><td>█▇▅▅▆▆▆▅▆▃▃▅▃▃▅▄▄▃▂▄▃▄▃▂▃▅▃▂▁▆▃▃▅▂▃▃▂▂▂▂</td></tr><tr><td>train/loss</td><td>█▅▃▂▂▂▁▁▁</td></tr><tr><td>val/accuracy</td><td>▁▅▆▆▇▇█▇█</td></tr><tr><td>val/loss</td><td>█▅▃▂▂▁▁▁▁</td></tr></table><br/></div><div class=\"wandb-col\"><h3>Run summary:</h3><br/><table class=\"wandb\"><tr><td>epoch</td><td>9</td></tr><tr><td>train/accuracy</td><td>82.45807</td></tr><tr><td>train/batch_loss</td><td>0.1421</td></tr><tr><td>train/loss</td><td>0.39815</td></tr><tr><td>val/accuracy</td><td>83.1422</td></tr><tr><td>val/loss</td><td>0.39864</td></tr></table><br/></div></div>"
      ],
      "text/plain": [
       "<IPython.core.display.HTML object>"
      ]
     },
     "metadata": {},
     "output_type": "display_data"
    },
    {
     "data": {
      "text/html": [
       " View run <strong style=\"color:#cdcd00\">olive-plasma-706</strong> at: <a href='https://wandb.ai/patcao/Bert-scratch/runs/v2dum9hj' target=\"_blank\">https://wandb.ai/patcao/Bert-scratch/runs/v2dum9hj</a><br/>Synced 6 W&B file(s), 0 media file(s), 0 artifact file(s) and 0 other file(s)"
      ],
      "text/plain": [
       "<IPython.core.display.HTML object>"
      ]
     },
     "metadata": {},
     "output_type": "display_data"
    },
    {
     "data": {
      "text/html": [
       "Find logs at: <code>./wandb/run-20230510_003627-v2dum9hj/logs</code>"
      ],
      "text/plain": [
       "<IPython.core.display.HTML object>"
      ]
     },
     "metadata": {},
     "output_type": "display_data"
    }
   ],
   "source": [
    "full_model = train_utils.train_bert_model(\n",
    "    train_dataset, test_dataset, config, validation_dataset=test_dataset\n",
    ")"
   ]
  },
  {
   "cell_type": "code",
   "execution_count": 10,
   "metadata": {
    "execution": {
     "iopub.execute_input": "2023-05-10T04:43:24.415549Z",
     "iopub.status.busy": "2023-05-10T04:43:24.415340Z",
     "iopub.status.idle": "2023-05-10T04:43:29.543409Z",
     "shell.execute_reply": "2023-05-10T04:43:29.542781Z",
     "shell.execute_reply.started": "2023-05-10T04:43:24.415535Z"
    },
    "tags": []
   },
   "outputs": [
    {
     "data": {
      "text/plain": [
       "(0.39863892992381156, 83.14220183486239)"
      ]
     },
     "execution_count": 10,
     "metadata": {},
     "output_type": "execute_result"
    }
   ],
   "source": [
    "ldf, loss, acc = train_utils.evaluate_loss(full_model, test_dataloader)\n",
    "loss,acc"
   ]
  },
  {
   "cell_type": "code",
   "execution_count": 11,
   "metadata": {
    "execution": {
     "iopub.execute_input": "2023-05-10T04:43:29.644317Z",
     "iopub.status.busy": "2023-05-10T04:43:29.644070Z",
     "iopub.status.idle": "2023-05-10T04:43:29.667975Z",
     "shell.execute_reply": "2023-05-10T04:43:29.667148Z",
     "shell.execute_reply.started": "2023-05-10T04:43:29.644297Z"
    },
    "tags": []
   },
   "outputs": [],
   "source": [
    "full_model.save_model('model_params', config)"
   ]
  },
  {
   "cell_type": "code",
   "execution_count": 22,
   "metadata": {
    "execution": {
     "iopub.execute_input": "2023-05-09T02:40:35.665744Z",
     "iopub.status.busy": "2023-05-09T02:40:35.665255Z",
     "iopub.status.idle": "2023-05-09T02:40:35.689091Z",
     "shell.execute_reply": "2023-05-09T02:40:35.688315Z",
     "shell.execute_reply.started": "2023-05-09T02:40:35.665728Z"
    },
    "tags": []
   },
   "outputs": [
    {
     "data": {
      "text/plain": [
       "{'epochs': 30,\n",
       " 'bert_model_name': 'distilbert-base-uncased',\n",
       " 'max_sequence_length': 64,\n",
       " 'learning_rate': 0.005,\n",
       " 'lr_warmup_pct': 0.2,\n",
       " 'batch_size': 16,\n",
       " 'classifier_init_state_path': 'model_params/bert-epoch30-reg0.001-10000.pt',\n",
       " 'classifier_type': 'single-fc',\n",
       " 'classifier_hidden_size': 0,\n",
       " 'classifier_drop_out': 0,\n",
       " 'optimizer_weight_decay': 0.01,\n",
       " 'num_training_examples': 10000}"
      ]
     },
     "execution_count": 22,
     "metadata": {},
     "output_type": "execute_result"
    }
   ],
   "source": [
    "config"
   ]
  },
  {
   "cell_type": "code",
   "execution_count": 4,
   "metadata": {
    "execution": {
     "iopub.execute_input": "2023-05-10T01:46:14.515869Z",
     "iopub.status.busy": "2023-05-10T01:46:14.515553Z",
     "iopub.status.idle": "2023-05-10T01:46:20.403982Z",
     "shell.execute_reply": "2023-05-10T01:46:20.403348Z",
     "shell.execute_reply.started": "2023-05-10T01:46:14.515851Z"
    }
   },
   "outputs": [
    {
     "name": "stderr",
     "output_type": "stream",
     "text": [
      "Some weights of the model checkpoint at distilbert-base-uncased were not used when initializing DistilBertModel: ['vocab_projector.weight', 'vocab_layer_norm.bias', 'vocab_projector.bias', 'vocab_transform.bias', 'vocab_transform.weight', 'vocab_layer_norm.weight']\n",
      "- This IS expected if you are initializing DistilBertModel from the checkpoint of a model trained on another task or with another architecture (e.g. initializing a BertForSequenceClassification model from a BertForPreTraining model).\n",
      "- This IS NOT expected if you are initializing DistilBertModel from the checkpoint of a model that you expect to be exactly identical (initializing a BertForSequenceClassification model from a BertForSequenceClassification model).\n"
     ]
    },
    {
     "data": {
      "text/plain": [
       "(0.37703973579917965, 83.14220183486239)"
      ]
     },
     "execution_count": 4,
     "metadata": {},
     "output_type": "execute_result"
    }
   ],
   "source": [
    "og_model, config = BertClassifier.load_model('model_params/bert-best.yaml')\n",
    "ldf2, l, a = train_utils.evaluate_loss(og_model, test_dataloader)\n",
    "l,a"
   ]
  },
  {
   "cell_type": "code",
   "execution_count": 12,
   "metadata": {
    "execution": {
     "iopub.execute_input": "2023-05-09T02:24:49.898684Z",
     "iopub.status.busy": "2023-05-09T02:24:49.898460Z",
     "iopub.status.idle": "2023-05-09T02:35:40.023629Z",
     "shell.execute_reply": "2023-05-09T02:35:40.022922Z",
     "shell.execute_reply.started": "2023-05-09T02:24:49.898668Z"
    },
    "tags": []
   },
   "outputs": [
    {
     "name": "stderr",
     "output_type": "stream",
     "text": [
      "Some weights of the model checkpoint at distilbert-base-uncased were not used when initializing DistilBertModel: ['vocab_transform.weight', 'vocab_transform.bias', 'vocab_projector.weight', 'vocab_projector.bias', 'vocab_layer_norm.bias', 'vocab_layer_norm.weight']\n",
      "- This IS expected if you are initializing DistilBertModel from the checkpoint of a model trained on another task or with another architecture (e.g. initializing a BertForSequenceClassification model from a BertForPreTraining model).\n",
      "- This IS NOT expected if you are initializing DistilBertModel from the checkpoint of a model that you expect to be exactly identical (initializing a BertForSequenceClassification model from a BertForSequenceClassification model).\n"
     ]
    },
    {
     "name": "stdout",
     "output_type": "stream",
     "text": [
      "Initial 0.7111523025968206, 46.674311926605505\n"
     ]
    },
    {
     "data": {
      "text/html": [
       "wandb version 0.15.2 is available!  To upgrade, please run:\n",
       " $ pip install wandb --upgrade"
      ],
      "text/plain": [
       "<IPython.core.display.HTML object>"
      ]
     },
     "metadata": {},
     "output_type": "display_data"
    },
    {
     "data": {
      "text/html": [
       "Tracking run with wandb version 0.15.0"
      ],
      "text/plain": [
       "<IPython.core.display.HTML object>"
      ]
     },
     "metadata": {},
     "output_type": "display_data"
    },
    {
     "data": {
      "text/html": [
       "Run data is saved locally in <code>/home/pcao/sentiment-influence-function/wandb/run-20230508_222456-v8i9bvpa</code>"
      ],
      "text/plain": [
       "<IPython.core.display.HTML object>"
      ]
     },
     "metadata": {},
     "output_type": "display_data"
    },
    {
     "data": {
      "text/html": [
       "Syncing run <strong><a href='https://wandb.ai/patcao/Bert-scratch/runs/v8i9bvpa' target=\"_blank\">crisp-meadow-685</a></strong> to <a href='https://wandb.ai/patcao/Bert-scratch' target=\"_blank\">Weights & Biases</a> (<a href='https://wandb.me/run' target=\"_blank\">docs</a>)<br/>"
      ],
      "text/plain": [
       "<IPython.core.display.HTML object>"
      ]
     },
     "metadata": {},
     "output_type": "display_data"
    },
    {
     "data": {
      "text/html": [
       " View project at <a href='https://wandb.ai/patcao/Bert-scratch' target=\"_blank\">https://wandb.ai/patcao/Bert-scratch</a>"
      ],
      "text/plain": [
       "<IPython.core.display.HTML object>"
      ]
     },
     "metadata": {},
     "output_type": "display_data"
    },
    {
     "data": {
      "text/html": [
       " View run at <a href='https://wandb.ai/patcao/Bert-scratch/runs/v8i9bvpa' target=\"_blank\">https://wandb.ai/patcao/Bert-scratch/runs/v8i9bvpa</a>"
      ],
      "text/plain": [
       "<IPython.core.display.HTML object>"
      ]
     },
     "metadata": {},
     "output_type": "display_data"
    },
    {
     "name": "stderr",
     "output_type": "stream",
     "text": [
      "100%|██████████████████████████████████████████████████████████████████████████████████████████████████████████████████| 625/625 [00:21<00:00, 29.52batch/s]\n",
      "100%|██████████████████████████████████████████████████████████████████████████████████████████████████████████████████| 625/625 [00:20<00:00, 29.98batch/s]\n",
      "100%|██████████████████████████████████████████████████████████████████████████████████████████████████████████████████| 625/625 [00:20<00:00, 29.82batch/s]\n",
      "100%|██████████████████████████████████████████████████████████████████████████████████████████████████████████████████| 625/625 [00:20<00:00, 29.88batch/s]\n",
      "100%|██████████████████████████████████████████████████████████████████████████████████████████████████████████████████| 625/625 [00:20<00:00, 29.84batch/s]\n",
      "100%|██████████████████████████████████████████████████████████████████████████████████████████████████████████████████| 625/625 [00:20<00:00, 29.81batch/s]\n",
      "100%|██████████████████████████████████████████████████████████████████████████████████████████████████████████████████| 625/625 [00:21<00:00, 29.65batch/s]\n",
      "100%|██████████████████████████████████████████████████████████████████████████████████████████████████████████████████| 625/625 [00:21<00:00, 29.56batch/s]\n",
      "100%|██████████████████████████████████████████████████████████████████████████████████████████████████████████████████| 625/625 [00:21<00:00, 29.51batch/s]\n",
      "100%|██████████████████████████████████████████████████████████████████████████████████████████████████████████████████| 625/625 [00:21<00:00, 29.52batch/s]\n",
      "100%|██████████████████████████████████████████████████████████████████████████████████████████████████████████████████| 625/625 [00:20<00:00, 29.91batch/s]\n",
      "100%|██████████████████████████████████████████████████████████████████████████████████████████████████████████████████| 625/625 [00:20<00:00, 29.91batch/s]\n",
      "100%|██████████████████████████████████████████████████████████████████████████████████████████████████████████████████| 625/625 [00:21<00:00, 29.60batch/s]\n",
      "100%|██████████████████████████████████████████████████████████████████████████████████████████████████████████████████| 625/625 [00:21<00:00, 29.71batch/s]\n",
      "100%|██████████████████████████████████████████████████████████████████████████████████████████████████████████████████| 625/625 [00:21<00:00, 29.71batch/s]\n",
      "100%|██████████████████████████████████████████████████████████████████████████████████████████████████████████████████| 625/625 [00:20<00:00, 29.83batch/s]\n",
      "100%|██████████████████████████████████████████████████████████████████████████████████████████████████████████████████| 625/625 [00:20<00:00, 29.85batch/s]\n",
      "100%|██████████████████████████████████████████████████████████████████████████████████████████████████████████████████| 625/625 [00:20<00:00, 29.86batch/s]\n",
      "100%|██████████████████████████████████████████████████████████████████████████████████████████████████████████████████| 625/625 [00:21<00:00, 29.65batch/s]\n",
      "100%|██████████████████████████████████████████████████████████████████████████████████████████████████████████████████| 625/625 [00:20<00:00, 29.93batch/s]\n",
      "100%|██████████████████████████████████████████████████████████████████████████████████████████████████████████████████| 625/625 [00:20<00:00, 29.84batch/s]\n",
      "100%|██████████████████████████████████████████████████████████████████████████████████████████████████████████████████| 625/625 [00:20<00:00, 29.91batch/s]\n",
      "100%|██████████████████████████████████████████████████████████████████████████████████████████████████████████████████| 625/625 [00:21<00:00, 29.70batch/s]\n",
      "100%|██████████████████████████████████████████████████████████████████████████████████████████████████████████████████| 625/625 [00:20<00:00, 29.89batch/s]\n",
      "100%|██████████████████████████████████████████████████████████████████████████████████████████████████████████████████| 625/625 [00:20<00:00, 29.77batch/s]\n",
      "100%|██████████████████████████████████████████████████████████████████████████████████████████████████████████████████| 625/625 [00:20<00:00, 29.77batch/s]\n",
      "100%|██████████████████████████████████████████████████████████████████████████████████████████████████████████████████| 625/625 [00:20<00:00, 29.91batch/s]\n",
      "100%|██████████████████████████████████████████████████████████████████████████████████████████████████████████████████| 625/625 [00:20<00:00, 29.93batch/s]\n",
      "100%|██████████████████████████████████████████████████████████████████████████████████████████████████████████████████| 625/625 [00:20<00:00, 29.79batch/s]\n",
      "100%|██████████████████████████████████████████████████████████████████████████████████████████████████████████████████| 625/625 [00:20<00:00, 29.89batch/s]\n"
     ]
    },
    {
     "data": {
      "text/html": [
       "Waiting for W&B process to finish... <strong style=\"color:green\">(success).</strong>"
      ],
      "text/plain": [
       "<IPython.core.display.HTML object>"
      ]
     },
     "metadata": {},
     "output_type": "display_data"
    },
    {
     "data": {
      "application/vnd.jupyter.widget-view+json": {
       "model_id": "caa5991b66c14f808e839222cfec1493",
       "version_major": 2,
       "version_minor": 0
      },
      "text/plain": [
       "VBox(children=(Label(value='0.003 MB of 0.003 MB uploaded (0.000 MB deduped)\\r'), FloatProgress(value=1.0, max…"
      ]
     },
     "metadata": {},
     "output_type": "display_data"
    },
    {
     "data": {
      "text/html": [
       "<style>\n",
       "    table.wandb td:nth-child(1) { padding: 0 10px; text-align: left ; width: auto;} td:nth-child(2) {text-align: left ; width: 100%}\n",
       "    .wandb-row { display: flex; flex-direction: row; flex-wrap: wrap; justify-content: flex-start; width: 100% }\n",
       "    .wandb-col { display: flex; flex-direction: column; flex-basis: 100%; flex: 1; padding: 10px; }\n",
       "    </style>\n",
       "<div class=\"wandb-row\"><div class=\"wandb-col\"><h3>Run history:</h3><br/><table class=\"wandb\"><tr><td>epoch</td><td>▁▁▁▂▂▂▂▃▃▃▃▄▄▄▄▅▅▅▅▆▆▆▆▇▇▇▇███</td></tr><tr><td>train/accuracy</td><td>▁▇▇▇▇▇▇▇▇▇▇▇▇▇▇▇▇▇▇▇▇▇████████</td></tr><tr><td>train/batch_loss</td><td>▆▅▆▄▅▆▁▄▄▁▄▆▃▄▂▃▄▅▃█▂▃▃▅▅▄▂▃▃▇▄▄▇▅▂▇▅▃▂▃</td></tr><tr><td>train/loss</td><td>█▃▂▂▂▂▂▂▂▂▂▂▂▂▂▂▂▂▂▂▂▁▁▁▁▁▁▁▁▁</td></tr></table><br/></div><div class=\"wandb-col\"><h3>Run summary:</h3><br/><table class=\"wandb\"><tr><td>epoch</td><td>30</td></tr><tr><td>test/accuracy</td><td>83.1422</td></tr><tr><td>test/loss</td><td>0.37704</td></tr><tr><td>train/accuracy</td><td>85.12</td></tr><tr><td>train/batch_loss</td><td>0.06538</td></tr><tr><td>train/loss</td><td>0.35042</td></tr></table><br/></div></div>"
      ],
      "text/plain": [
       "<IPython.core.display.HTML object>"
      ]
     },
     "metadata": {},
     "output_type": "display_data"
    },
    {
     "data": {
      "text/html": [
       " View run <strong style=\"color:#cdcd00\">crisp-meadow-685</strong> at: <a href='https://wandb.ai/patcao/Bert-scratch/runs/v8i9bvpa' target=\"_blank\">https://wandb.ai/patcao/Bert-scratch/runs/v8i9bvpa</a><br/>Synced 6 W&B file(s), 0 media file(s), 0 artifact file(s) and 0 other file(s)"
      ],
      "text/plain": [
       "<IPython.core.display.HTML object>"
      ]
     },
     "metadata": {},
     "output_type": "display_data"
    },
    {
     "data": {
      "text/html": [
       "Find logs at: <code>./wandb/run-20230508_222456-v8i9bvpa/logs</code>"
      ],
      "text/plain": [
       "<IPython.core.display.HTML object>"
      ]
     },
     "metadata": {},
     "output_type": "display_data"
    },
    {
     "name": "stdout",
     "output_type": "stream",
     "text": [
      "Final 0.37703973579917965, 83.14220183486239\n"
     ]
    }
   ],
   "source": [
    "config2 = utils.load_config(\n",
    "    \"model_params/bert_classifier.yaml\",\n",
    "    epochs=30,\n",
    "    num_training_examples=10000,\n",
    "    optimizer_weight_decay=0.001,\n",
    ")\n",
    "\n",
    "model2, fdf2, full_test_loss2, full_test_acc2 = train_utils.train_bert_model(\n",
    "    train_dataset, test_dataset, config2\n",
    ")"
   ]
  },
  {
   "cell_type": "code",
   "execution_count": 20,
   "metadata": {
    "execution": {
     "iopub.execute_input": "2023-05-09T02:40:14.826580Z",
     "iopub.status.busy": "2023-05-09T02:40:14.825908Z",
     "iopub.status.idle": "2023-05-09T02:40:14.851872Z",
     "shell.execute_reply": "2023-05-09T02:40:14.850919Z",
     "shell.execute_reply.started": "2023-05-09T02:40:14.826562Z"
    },
    "tags": []
   },
   "outputs": [],
   "source": [
    "model2.save_model('model_params', config3)"
   ]
  },
  {
   "cell_type": "code",
   "execution_count": 13,
   "metadata": {
    "execution": {
     "iopub.execute_input": "2023-05-09T02:36:32.450765Z",
     "iopub.status.busy": "2023-05-09T02:36:32.450149Z",
     "iopub.status.idle": "2023-05-09T02:36:32.478954Z",
     "shell.execute_reply": "2023-05-09T02:36:32.477966Z",
     "shell.execute_reply.started": "2023-05-09T02:36:32.450744Z"
    },
    "tags": []
   },
   "outputs": [
    {
     "data": {
      "text/plain": [
       "{'epochs': 30,\n",
       " 'bert_model_name': 'distilbert-base-uncased',\n",
       " 'max_sequence_length': 64,\n",
       " 'learning_rate': 0.005,\n",
       " 'lr_warmup_pct': 0.2,\n",
       " 'batch_size': 16,\n",
       " 'classifier_init_state_path': 'model_params/init_classifier_params.pt',\n",
       " 'classifier_type': 'single-fc',\n",
       " 'classifier_hidden_size': 0,\n",
       " 'classifier_drop_out': 0,\n",
       " 'optimizer_weight_decay': 0.001,\n",
       " 'num_training_examples': 10000}"
      ]
     },
     "execution_count": 13,
     "metadata": {},
     "output_type": "execute_result"
    }
   ],
   "source": [
    "config2"
   ]
  },
  {
   "cell_type": "code",
   "execution_count": 15,
   "metadata": {
    "execution": {
     "iopub.execute_input": "2023-05-09T02:37:47.448824Z",
     "iopub.status.busy": "2023-05-09T02:37:47.448467Z",
     "iopub.status.idle": "2023-05-09T02:37:47.472750Z",
     "shell.execute_reply": "2023-05-09T02:37:47.471964Z",
     "shell.execute_reply.started": "2023-05-09T02:37:47.448808Z"
    },
    "tags": []
   },
   "outputs": [
    {
     "data": {
      "text/plain": [
       "{'batch_size': 16,\n",
       " 'bert_model_name': 'distilbert-base-uncased',\n",
       " 'classifier_drop_out': 0,\n",
       " 'classifier_hidden_size': 0,\n",
       " 'classifier_init_state_path': 'model_params/init_classifier_params.pt',\n",
       " 'classifier_type': 'single-fc',\n",
       " 'epochs': 30,\n",
       " 'learning_rate': 0.005,\n",
       " 'lr_warmup_pct': 0.2,\n",
       " 'max_sequence_length': 64,\n",
       " 'num_training_examples': 10000,\n",
       " 'optimizer_weight_decay': 0.001}"
      ]
     },
     "execution_count": 15,
     "metadata": {},
     "output_type": "execute_result"
    }
   ],
   "source": [
    "config3 = dict(sorted(config2.items()))\n",
    "config3"
   ]
  },
  {
   "cell_type": "code",
   "execution_count": null,
   "metadata": {},
   "outputs": [],
   "source": [
    "--"
   ]
  },
  {
   "cell_type": "code",
   "execution_count": 21,
   "metadata": {
    "execution": {
     "iopub.execute_input": "2023-05-08T21:41:46.279206Z",
     "iopub.status.busy": "2023-05-08T21:41:46.278429Z",
     "iopub.status.idle": "2023-05-08T21:41:48.725986Z",
     "shell.execute_reply": "2023-05-08T21:41:48.724706Z",
     "shell.execute_reply.started": "2023-05-08T21:41:46.279185Z"
    }
   },
   "outputs": [
    {
     "name": "stderr",
     "output_type": "stream",
     "text": [
      "Some weights of the model checkpoint at distilbert-base-uncased were not used when initializing DistilBertModel: ['vocab_projector.weight', 'vocab_layer_norm.bias', 'vocab_layer_norm.weight', 'vocab_transform.bias', 'vocab_transform.weight', 'vocab_projector.bias']\n",
      "- This IS expected if you are initializing DistilBertModel from the checkpoint of a model trained on another task or with another architecture (e.g. initializing a BertForSequenceClassification model from a BertForPreTraining model).\n",
      "- This IS NOT expected if you are initializing DistilBertModel from the checkpoint of a model that you expect to be exactly identical (initializing a BertForSequenceClassification model from a BertForSequenceClassification model).\n"
     ]
    }
   ],
   "source": [
    "model, config = BertClassifier.load_model(\n",
    "    \"results_10k_strong_l2/bert-classifier-epoch5-10000-strong-l2.yaml\"\n",
    ")\n",
    "model = model.to(device)"
   ]
  },
  {
   "cell_type": "code",
   "execution_count": 22,
   "metadata": {
    "execution": {
     "iopub.execute_input": "2023-05-08T21:41:48.727145Z",
     "iopub.status.busy": "2023-05-08T21:41:48.726902Z",
     "iopub.status.idle": "2023-05-08T21:41:48.996593Z",
     "shell.execute_reply": "2023-05-08T21:41:48.995889Z",
     "shell.execute_reply.started": "2023-05-08T21:41:48.727117Z"
    }
   },
   "outputs": [
    {
     "data": {
      "text/plain": [
       "\"OrderedDict([('1.weight', tensor([[ 0.0633,  0.1250, -0.1110,  ...,  0.0867,  0.0103,  0.0697],\\n        [-0.0633, -0.1250,  0.1110,  ..., -0.0867, -0.0094, -0.0699]],\\n       device='cuda:0')), ('1.bias', tensor([-0.0212,  0.0175], device='cuda:0'))])\""
      ]
     },
     "execution_count": 22,
     "metadata": {},
     "output_type": "execute_result"
    }
   ],
   "source": [
    "model.classifier.state_dict().__str__()"
   ]
  },
  {
   "cell_type": "code",
   "execution_count": 23,
   "metadata": {
    "execution": {
     "iopub.execute_input": "2023-05-08T21:41:48.998211Z",
     "iopub.status.busy": "2023-05-08T21:41:48.997716Z",
     "iopub.status.idle": "2023-05-08T21:41:49.233019Z",
     "shell.execute_reply": "2023-05-08T21:41:49.232351Z",
     "shell.execute_reply.started": "2023-05-08T21:41:48.998187Z"
    }
   },
   "outputs": [
    {
     "data": {
      "text/plain": [
       "\"OrderedDict([('1.weight', tensor([[ 0.0633,  0.1250, -0.1110,  ...,  0.0867,  0.0103,  0.0697],\\n        [-0.0633, -0.1250,  0.1110,  ..., -0.0867, -0.0094, -0.0699]],\\n       device='cuda:0')), ('1.bias', tensor([-0.0212,  0.0175], device='cuda:0'))])\""
      ]
     },
     "execution_count": 23,
     "metadata": {},
     "output_type": "execute_result"
    }
   ],
   "source": [
    "full_model.classifier.state_dict().__str__()"
   ]
  },
  {
   "cell_type": "code",
   "execution_count": 4,
   "metadata": {
    "execution": {
     "iopub.execute_input": "2023-05-08T20:46:14.121586Z",
     "iopub.status.busy": "2023-05-08T20:46:14.121262Z",
     "iopub.status.idle": "2023-05-08T20:46:14.145101Z",
     "shell.execute_reply": "2023-05-08T20:46:14.144313Z",
     "shell.execute_reply.started": "2023-05-08T20:46:14.121569Z"
    },
    "tags": []
   },
   "outputs": [
    {
     "data": {
      "text/plain": [
       "(0.3953259670319262, 83.02752293577981)"
      ]
     },
     "execution_count": 4,
     "metadata": {},
     "output_type": "execute_result"
    }
   ],
   "source": [
    "full_test_loss, full_test_acc"
   ]
  },
  {
   "cell_type": "code",
   "execution_count": 5,
   "metadata": {
    "execution": {
     "iopub.execute_input": "2023-05-08T20:46:14.146241Z",
     "iopub.status.busy": "2023-05-08T20:46:14.145993Z",
     "iopub.status.idle": "2023-05-08T20:46:14.171892Z",
     "shell.execute_reply": "2023-05-08T20:46:14.171120Z",
     "shell.execute_reply.started": "2023-05-08T20:46:14.146223Z"
    },
    "tags": []
   },
   "outputs": [],
   "source": [
    "full_model.save_model(\"model_params\", config)"
   ]
  },
  {
   "cell_type": "code",
   "execution_count": 6,
   "metadata": {
    "execution": {
     "iopub.execute_input": "2023-05-08T20:46:14.172807Z",
     "iopub.status.busy": "2023-05-08T20:46:14.172615Z",
     "iopub.status.idle": "2023-05-08T20:46:14.204108Z",
     "shell.execute_reply": "2023-05-08T20:46:14.203089Z",
     "shell.execute_reply.started": "2023-05-08T20:46:14.172792Z"
    },
    "tags": []
   },
   "outputs": [
    {
     "data": {
      "text/html": [
       "<div>\n",
       "<style scoped>\n",
       "    .dataframe tbody tr th:only-of-type {\n",
       "        vertical-align: middle;\n",
       "    }\n",
       "\n",
       "    .dataframe tbody tr th {\n",
       "        vertical-align: top;\n",
       "    }\n",
       "\n",
       "    .dataframe thead th {\n",
       "        text-align: right;\n",
       "    }\n",
       "</style>\n",
       "<table border=\"1\" class=\"dataframe\">\n",
       "  <thead>\n",
       "    <tr style=\"text-align: right;\">\n",
       "      <th></th>\n",
       "      <th>test_guid</th>\n",
       "      <th>logits</th>\n",
       "      <th>pred</th>\n",
       "      <th>label</th>\n",
       "      <th>loss</th>\n",
       "    </tr>\n",
       "  </thead>\n",
       "  <tbody>\n",
       "    <tr>\n",
       "      <th>0</th>\n",
       "      <td>0</td>\n",
       "      <td>[-1.9787033, 1.5581679]</td>\n",
       "      <td>1</td>\n",
       "      <td>1</td>\n",
       "      <td>0.028689</td>\n",
       "    </tr>\n",
       "    <tr>\n",
       "      <th>1</th>\n",
       "      <td>1</td>\n",
       "      <td>[0.64768565, -1.0567914]</td>\n",
       "      <td>0</td>\n",
       "      <td>0</td>\n",
       "      <td>0.167096</td>\n",
       "    </tr>\n",
       "    <tr>\n",
       "      <th>2</th>\n",
       "      <td>2</td>\n",
       "      <td>[-1.8197987, 1.4446558]</td>\n",
       "      <td>1</td>\n",
       "      <td>1</td>\n",
       "      <td>0.037506</td>\n",
       "    </tr>\n",
       "    <tr>\n",
       "      <th>3</th>\n",
       "      <td>3</td>\n",
       "      <td>[-1.4292126, 1.0838774]</td>\n",
       "      <td>1</td>\n",
       "      <td>1</td>\n",
       "      <td>0.077903</td>\n",
       "    </tr>\n",
       "    <tr>\n",
       "      <th>4</th>\n",
       "      <td>4</td>\n",
       "      <td>[0.46477368, -0.8791866]</td>\n",
       "      <td>0</td>\n",
       "      <td>0</td>\n",
       "      <td>0.231755</td>\n",
       "    </tr>\n",
       "    <tr>\n",
       "      <th>...</th>\n",
       "      <td>...</td>\n",
       "      <td>...</td>\n",
       "      <td>...</td>\n",
       "      <td>...</td>\n",
       "      <td>...</td>\n",
       "    </tr>\n",
       "    <tr>\n",
       "      <th>867</th>\n",
       "      <td>867</td>\n",
       "      <td>[-0.7241081, 0.34439066]</td>\n",
       "      <td>1</td>\n",
       "      <td>0</td>\n",
       "      <td>1.363795</td>\n",
       "    </tr>\n",
       "    <tr>\n",
       "      <th>868</th>\n",
       "      <td>868</td>\n",
       "      <td>[-0.32096845, -0.083922565]</td>\n",
       "      <td>1</td>\n",
       "      <td>1</td>\n",
       "      <td>0.581632</td>\n",
       "    </tr>\n",
       "    <tr>\n",
       "      <th>869</th>\n",
       "      <td>869</td>\n",
       "      <td>[-0.671131, 0.29042196]</td>\n",
       "      <td>1</td>\n",
       "      <td>0</td>\n",
       "      <td>1.285301</td>\n",
       "    </tr>\n",
       "    <tr>\n",
       "      <th>870</th>\n",
       "      <td>870</td>\n",
       "      <td>[-0.11103187, -0.28170618]</td>\n",
       "      <td>0</td>\n",
       "      <td>0</td>\n",
       "      <td>0.611447</td>\n",
       "    </tr>\n",
       "    <tr>\n",
       "      <th>871</th>\n",
       "      <td>871</td>\n",
       "      <td>[-1.5606104, 1.2681894]</td>\n",
       "      <td>1</td>\n",
       "      <td>1</td>\n",
       "      <td>0.057404</td>\n",
       "    </tr>\n",
       "  </tbody>\n",
       "</table>\n",
       "<p>872 rows × 5 columns</p>\n",
       "</div>"
      ],
      "text/plain": [
       "     test_guid                       logits  pred  label      loss\n",
       "0            0      [-1.9787033, 1.5581679]     1      1  0.028689\n",
       "1            1     [0.64768565, -1.0567914]     0      0  0.167096\n",
       "2            2      [-1.8197987, 1.4446558]     1      1  0.037506\n",
       "3            3      [-1.4292126, 1.0838774]     1      1  0.077903\n",
       "4            4     [0.46477368, -0.8791866]     0      0  0.231755\n",
       "..         ...                          ...   ...    ...       ...\n",
       "867        867     [-0.7241081, 0.34439066]     1      0  1.363795\n",
       "868        868  [-0.32096845, -0.083922565]     1      1  0.581632\n",
       "869        869      [-0.671131, 0.29042196]     1      0  1.285301\n",
       "870        870   [-0.11103187, -0.28170618]     0      0  0.611447\n",
       "871        871      [-1.5606104, 1.2681894]     1      1  0.057404\n",
       "\n",
       "[872 rows x 5 columns]"
      ]
     },
     "execution_count": 6,
     "metadata": {},
     "output_type": "execute_result"
    }
   ],
   "source": [
    "fdf"
   ]
  },
  {
   "cell_type": "code",
   "execution_count": 7,
   "metadata": {
    "execution": {
     "iopub.execute_input": "2023-05-08T20:46:14.205906Z",
     "iopub.status.busy": "2023-05-08T20:46:14.205664Z",
     "iopub.status.idle": "2023-05-08T20:46:14.230687Z",
     "shell.execute_reply": "2023-05-08T20:46:14.229936Z",
     "shell.execute_reply.started": "2023-05-08T20:46:14.205890Z"
    }
   },
   "outputs": [],
   "source": [
    "firstq_loss = fdf.loss.quantile(0.25)\n",
    "median_loss = fdf.loss.quantile(0.5)\n",
    "thirdq_loss = fdf.loss.quantile(0.75)"
   ]
  },
  {
   "cell_type": "code",
   "execution_count": 8,
   "metadata": {
    "execution": {
     "iopub.execute_input": "2023-05-08T20:46:14.231394Z",
     "iopub.status.busy": "2023-05-08T20:46:14.231221Z",
     "iopub.status.idle": "2023-05-08T20:46:14.260749Z",
     "shell.execute_reply": "2023-05-08T20:46:14.259965Z",
     "shell.execute_reply.started": "2023-05-08T20:46:14.231380Z"
    }
   },
   "outputs": [
    {
     "data": {
      "text/html": [
       "<div>\n",
       "<style scoped>\n",
       "    .dataframe tbody tr th:only-of-type {\n",
       "        vertical-align: middle;\n",
       "    }\n",
       "\n",
       "    .dataframe tbody tr th {\n",
       "        vertical-align: top;\n",
       "    }\n",
       "\n",
       "    .dataframe thead th {\n",
       "        text-align: right;\n",
       "    }\n",
       "</style>\n",
       "<table border=\"1\" class=\"dataframe\">\n",
       "  <thead>\n",
       "    <tr style=\"text-align: right;\">\n",
       "      <th></th>\n",
       "      <th>test_guid</th>\n",
       "      <th>logits</th>\n",
       "      <th>pred</th>\n",
       "      <th>label</th>\n",
       "      <th>loss</th>\n",
       "    </tr>\n",
       "  </thead>\n",
       "  <tbody>\n",
       "    <tr>\n",
       "      <th>1</th>\n",
       "      <td>1</td>\n",
       "      <td>[0.64768565, -1.0567914]</td>\n",
       "      <td>0</td>\n",
       "      <td>0</td>\n",
       "      <td>0.167096</td>\n",
       "    </tr>\n",
       "    <tr>\n",
       "      <th>4</th>\n",
       "      <td>4</td>\n",
       "      <td>[0.46477368, -0.8791866]</td>\n",
       "      <td>0</td>\n",
       "      <td>0</td>\n",
       "      <td>0.231755</td>\n",
       "    </tr>\n",
       "  </tbody>\n",
       "</table>\n",
       "</div>"
      ],
      "text/plain": [
       "   test_guid                    logits  pred  label      loss\n",
       "1          1  [0.64768565, -1.0567914]     0      0  0.167096\n",
       "4          4  [0.46477368, -0.8791866]     0      0  0.231755"
      ]
     },
     "execution_count": 8,
     "metadata": {},
     "output_type": "execute_result"
    }
   ],
   "source": [
    "fdf[(fdf.loss >= firstq_loss) & (fdf.loss < median_loss)].iloc[:2]"
   ]
  },
  {
   "cell_type": "code",
   "execution_count": 9,
   "metadata": {
    "execution": {
     "iopub.execute_input": "2023-05-08T20:46:14.261782Z",
     "iopub.status.busy": "2023-05-08T20:46:14.261584Z",
     "iopub.status.idle": "2023-05-08T20:46:14.289882Z",
     "shell.execute_reply": "2023-05-08T20:46:14.289007Z",
     "shell.execute_reply.started": "2023-05-08T20:46:14.261767Z"
    }
   },
   "outputs": [
    {
     "data": {
      "text/html": [
       "<div>\n",
       "<style scoped>\n",
       "    .dataframe tbody tr th:only-of-type {\n",
       "        vertical-align: middle;\n",
       "    }\n",
       "\n",
       "    .dataframe tbody tr th {\n",
       "        vertical-align: top;\n",
       "    }\n",
       "\n",
       "    .dataframe thead th {\n",
       "        text-align: right;\n",
       "    }\n",
       "</style>\n",
       "<table border=\"1\" class=\"dataframe\">\n",
       "  <thead>\n",
       "    <tr style=\"text-align: right;\">\n",
       "      <th></th>\n",
       "      <th>test_guid</th>\n",
       "      <th>logits</th>\n",
       "      <th>pred</th>\n",
       "      <th>label</th>\n",
       "      <th>loss</th>\n",
       "    </tr>\n",
       "  </thead>\n",
       "  <tbody>\n",
       "    <tr>\n",
       "      <th>12</th>\n",
       "      <td>12</td>\n",
       "      <td>[0.35501534, -0.73896444]</td>\n",
       "      <td>0</td>\n",
       "      <td>0</td>\n",
       "      <td>0.288842</td>\n",
       "    </tr>\n",
       "    <tr>\n",
       "      <th>21</th>\n",
       "      <td>21</td>\n",
       "      <td>[0.30371025, -0.6972296]</td>\n",
       "      <td>0</td>\n",
       "      <td>0</td>\n",
       "      <td>0.313009</td>\n",
       "    </tr>\n",
       "  </tbody>\n",
       "</table>\n",
       "</div>"
      ],
      "text/plain": [
       "    test_guid                     logits  pred  label      loss\n",
       "12         12  [0.35501534, -0.73896444]     0      0  0.288842\n",
       "21         21   [0.30371025, -0.6972296]     0      0  0.313009"
      ]
     },
     "execution_count": 9,
     "metadata": {},
     "output_type": "execute_result"
    }
   ],
   "source": [
    "fdf[(fdf.loss >= median_loss) & (fdf.loss < thirdq_loss)].iloc[:2]"
   ]
  },
  {
   "cell_type": "code",
   "execution_count": 10,
   "metadata": {
    "execution": {
     "iopub.execute_input": "2023-05-08T20:46:14.291063Z",
     "iopub.status.busy": "2023-05-08T20:46:14.290801Z",
     "iopub.status.idle": "2023-05-08T20:46:14.323183Z",
     "shell.execute_reply": "2023-05-08T20:46:14.322296Z",
     "shell.execute_reply.started": "2023-05-08T20:46:14.291044Z"
    },
    "tags": []
   },
   "outputs": [
    {
     "data": {
      "text/html": [
       "<div>\n",
       "<style scoped>\n",
       "    .dataframe tbody tr th:only-of-type {\n",
       "        vertical-align: middle;\n",
       "    }\n",
       "\n",
       "    .dataframe tbody tr th {\n",
       "        vertical-align: top;\n",
       "    }\n",
       "\n",
       "    .dataframe thead th {\n",
       "        text-align: right;\n",
       "    }\n",
       "</style>\n",
       "<table border=\"1\" class=\"dataframe\">\n",
       "  <thead>\n",
       "    <tr style=\"text-align: right;\">\n",
       "      <th></th>\n",
       "      <th>test_guid</th>\n",
       "      <th>logits</th>\n",
       "      <th>pred</th>\n",
       "      <th>label</th>\n",
       "      <th>loss</th>\n",
       "    </tr>\n",
       "  </thead>\n",
       "  <tbody>\n",
       "    <tr>\n",
       "      <th>11</th>\n",
       "      <td>11</td>\n",
       "      <td>[-0.21338409, -0.11888009]</td>\n",
       "      <td>1</td>\n",
       "      <td>0</td>\n",
       "      <td>0.741515</td>\n",
       "    </tr>\n",
       "    <tr>\n",
       "      <th>13</th>\n",
       "      <td>13</td>\n",
       "      <td>[0.39137152, -0.77856445]</td>\n",
       "      <td>0</td>\n",
       "      <td>1</td>\n",
       "      <td>1.440258</td>\n",
       "    </tr>\n",
       "  </tbody>\n",
       "</table>\n",
       "</div>"
      ],
      "text/plain": [
       "    test_guid                      logits  pred  label      loss\n",
       "11         11  [-0.21338409, -0.11888009]     1      0  0.741515\n",
       "13         13   [0.39137152, -0.77856445]     0      1  1.440258"
      ]
     },
     "execution_count": 10,
     "metadata": {},
     "output_type": "execute_result"
    }
   ],
   "source": [
    "fdf[(fdf.loss >= thirdq_loss)].iloc[:2]"
   ]
  }
 ],
 "metadata": {
  "accelerator": "GPU",
  "colab": {
   "authorship_tag": "ABX9TyNbkVKOEvoT5UeHOpUbpwF+",
   "provenance": [
    {
     "file_id": "12fA4kCMggyt4Gz-B2MSi6tFwB3zzyO_O",
     "timestamp": 1679669448099
    }
   ]
  },
  "gpuClass": "standard",
  "kernelspec": {
   "display_name": "Python 3 (ipykernel)",
   "language": "python",
   "name": "python3"
  },
  "language_info": {
   "codemirror_mode": {
    "name": "ipython",
    "version": 3
   },
   "file_extension": ".py",
   "mimetype": "text/x-python",
   "name": "python",
   "nbconvert_exporter": "python",
   "pygments_lexer": "ipython3",
   "version": "3.10.10"
  }
 },
 "nbformat": 4,
 "nbformat_minor": 4
}
